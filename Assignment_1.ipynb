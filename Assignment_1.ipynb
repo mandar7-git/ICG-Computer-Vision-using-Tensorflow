{
  "cells": [
    {
      "cell_type": "markdown",
      "metadata": {
        "id": "view-in-github",
        "colab_type": "text"
      },
      "source": [
        "<a href=\"https://colab.research.google.com/github/anurags04/ICG-Computer-Vision-using-Tensorflow/blob/main/Assignment_1.ipynb\" target=\"_parent\"><img src=\"https://colab.research.google.com/assets/colab-badge.svg\" alt=\"Open In Colab\"/></a>"
      ]
    },
    {
      "cell_type": "markdown",
      "metadata": {
        "id": "RB2d1J1f1CF7"
      },
      "source": [
        "### **Aim**  \n",
        "The motive of this assignment is to make predictions using **Linear Regression**. To make sure you truly understand how the underlying algorithm works, you are to implement it from scratch."
      ]
    },
    {
      "cell_type": "markdown",
      "metadata": {
        "id": "a_S80lf6H4Xv"
      },
      "source": [
        "### Generating the dataset  \n",
        "Run the cell below to create the dataset. It further splits the available data into training and testing. Please do not edit this cell.\n"
      ]
    },
    {
      "cell_type": "code",
      "execution_count": null,
      "metadata": {
        "id": "yX0zqXcHIQHP"
      },
      "outputs": [],
      "source": [
        "from sklearn import datasets\n",
        "from sklearn.model_selection import train_test_split\n",
        "\n",
        "# Generate the data\n",
        "X, y = datasets.make_regression(n_samples=100, n_features=5, noise=20, random_state=4)\n",
        "\n",
        "# Split the data\n",
        "X_train, X_test, y_train, y_test = train_test_split(X, y, test_size=0.2, random_state=1234)"
      ]
    },
    {
      "cell_type": "markdown",
      "metadata": {
        "id": "Zj4rrRXGJBXy"
      },
      "source": [
        "### Visualizing the data  \n",
        "Use `matplotlib` to visualize the given data."
      ]
    },
    {
      "cell_type": "code",
      "execution_count": null,
      "metadata": {
        "colab": {
          "base_uri": "https://localhost:8080/",
          "height": 267
        },
        "id": "zxfi8dkBJOUi",
        "outputId": "8f59c53c-8368-4994-ff40-5e4bdfd51108"
      },
      "outputs": [
        {
          "output_type": "display_data",
          "data": {
            "text/plain": [
              "<Figure size 432x288 with 5 Axes>"
            ],
            "image/png": "[encoded data removed]"
          },
          "metadata": {
            "needs_background": "light"
          }
        }
      ],
      "source": [
        "import matplotlib.pyplot as plt\n",
        "\n",
        "plt.subplot(5, 1, 1)\n",
        "plt.scatter(X[:, 0], y)\n",
        "plt.subplot(5, 1, 2)\n",
        "plt.scatter(X[:, 1], y, color = 'orange')\n",
        "plt.subplot(5, 1, 3)\n",
        "plt.scatter(X[:, 2], y, color = 'red')\n",
        "plt.subplot(5, 1, 4)\n",
        "plt.scatter(X[:, 3], y, color = 'green')\n",
        "plt.subplot(5, 1, 5)\n",
        "plt.scatter(X[:, 4], y, color = 'purple')\n",
        "\n",
        "plt.show()\n",
        "\n",
        "# Your code here"
      ]
    },
    {
      "cell_type": "markdown",
      "metadata": {
        "id": "r7vndSBAJceF"
      },
      "source": [
        "You should be able to see the linear relations between `y` and the features in vector `X`."
      ]
    },
    {
      "cell_type": "markdown",
      "metadata": {
        "id": "b4I9Z3epNvBM"
      },
      "source": [
        "### Gradient Descent Review  \n",
        "1. ####  Cost function\n",
        "Define the `cost function` to measure the difference between predictions and target outputs. Here, we are working with first degree polynomial, so derivatives are easy to calculate. ( Linear function `y = wx +b` )  \n",
        "\n",
        "$$Error = \\frac{1}{N}\\sum_{i=1}^N (y_i - \\overline{y}_i)^2 = \\frac{1}{N}\\sum_{i=1}^N (y_i - (x_iw+b))^2 $$  \n",
        "\n",
        "  where `N` is the number of samples  \n",
        "    \n",
        "\n",
        "\n",
        "2. #### Compute the derivative\n",
        "$$\\frac{\\delta Error}{\\delta w} = \\frac{2}{N}\\sum_{i=1}^N -x_i(y_i -(m  x_i +b ))  $$\n",
        "$$\\frac{\\delta Error}{\\delta b} = \\frac{2}{N}\\sum_{i=1}^N -(y_i -(m  x_i +b ))  $$\n",
        "3. <h4>Update current parameters</h4>\n",
        "$$ w:= w- learning\\_rate \\cdot \\frac{\\delta Error}{\\delta w}   $$ \n",
        "$$ b:= b- learning\\_rate \\cdot \\frac{\\delta Error}{\\delta b}   $$ \n",
        "4. <h4>Repeat until it fits good enough</h4>\n"
      ]
    },
    {
      "cell_type": "markdown",
      "metadata": {
        "id": "kBtUcOVnJu-I"
      },
      "source": [
        "### Model definition\n",
        "\n",
        "Complete the functions in the class below. Hints provided at appropriate places."
      ]
    },
    {
      "cell_type": "code",
      "execution_count": null,
      "metadata": {
        "id": "dGnFNPJx3I28"
      },
      "outputs": [],
      "source": [
        "import numpy as np\n",
        "\n",
        "class LinearRegression:\n",
        "\n",
        "    # The __init__ is called when we make any object of our class. Here, you are to specify the default values for \n",
        "    # Learning Rate, Number of is, Weights and Biases. It doesn't return anything.\n",
        "    # Hint: Google what a `self pointer` is and figure out how it can be used here.\n",
        "    def __init__(self, learning_rate=0.001, n_iters=1000, w=np.full(X.shape[1],0),b=0):\n",
        "        # Your code here\n",
        "        self.learning_rate = learning_rate\n",
        "        self.n_iters = n_iters\n",
        "        self.w = w\n",
        "        self.b = b\n",
        "\n",
        "\n",
        "    # The following function would be the heart of the model. This is where the training would happen. \n",
        "    # You're supposed to iterate and keep on updating the weights and biases according to the steps of Gradient Descent.\n",
        "    def fit(self, X, y):\n",
        "        # Gradient Descent code goes here\n",
        "        entries = X.shape[0]\n",
        "        fcount = X.shape[1]\n",
        "\n",
        "        for i in range(self.n_iters) :\n",
        "          # prediction\n",
        "          pred = np.matmul(X,self.w)+self.b\n",
        "          dw = np.full(fcount,0)\n",
        "          for j in range(fcount) :\n",
        "            # computing derivative\n",
        "            dw[j] = np.sum(np.dot(X[:,j],y-pred)) * -2 / entries\n",
        "          db = np.sum(y-pred) * -2 / entries\n",
        "          # updating values\n",
        "          self.w = self.w - self.learning_rate * dw\n",
        "          self.b = self.b - self.learning_rate * db\n",
        "        \n",
        "    # This function will be called after our model has been trained and we are predicting on unseen data\n",
        "    # What is our prediction? Just return that\n",
        "    def predict(self, X):\n",
        "        # Code goes here\n",
        "        return np.matmul(X,self.w)+self.b"
      ]
    },
    {
      "cell_type": "markdown",
      "metadata": {
        "id": "EvyInkTKPn7W"
      },
      "source": [
        "### Initializing, Training & Predictions"
      ]
    },
    {
      "cell_type": "code",
      "execution_count": null,
      "metadata": {
        "id": "nvItUpAkHTiv"
      },
      "outputs": [],
      "source": [
        "# Now, we make an object of our custom class.\n",
        "regressor = LinearRegression() # You may pass the custom parameters or let the default values take it ahead\n",
        "\n",
        "# Call the fit method on the object to train (pass appropriate part of dataset)\n",
        "regressor.fit(X_train,y_train)\n",
        "\n",
        "# Now, let's see our what our model predicts\n",
        "predictions = regressor.predict(X_test) # pass appropriate part of dataset"
      ]
    },
    {
      "cell_type": "markdown",
      "metadata": {
        "id": "tzK6cq8eRD4Q"
      },
      "source": [
        "### Evaluate the model   \n",
        "\n",
        "Return [Mean Squared Error](https://en.wikipedia.org/wiki/Mean_squared_error) & [R2 Score](https://www.ncl.ac.uk/webtemplate/ask-assets/external/maths-resources/statistics/regression-and-correlation/coefficient-of-determination-r-squared.html#:~:text=%C2%AFy) from the functions below."
      ]
    },
    {
      "cell_type": "code",
      "execution_count": null,
      "metadata": {
        "id": "WqkrvDzcRF5m",
        "colab": {
          "base_uri": "https://localhost:8080/"
        },
        "outputId": "05656d40-23de-45ca-8d46-9e80163d8333"
      },
      "outputs": [
        {
          "output_type": "stream",
          "name": "stdout",
          "text": [
            "Mean Square Error is: 673.3064\n",
            "Accuracy is: 0.9363\n"
          ]
        }
      ],
      "source": [
        "def mean_squared_error(y_true, y_pred):\n",
        "       # return the mean squared error\n",
        "       return (float) (np.sum(np.dot(y_true-y_pred,y_true-y_pred))/y_true.shape[0])\n",
        "      # pass  # Uncomment this when you're done with this function\n",
        "\n",
        "\n",
        "def r2_score(y_true, y_pred):\n",
        "      # return the r2 score\n",
        "      s1 = np.sum(np.dot(y_true-y_pred,y_true-y_pred))\n",
        "      s2 = np.sum(np.dot(y_true-np.mean(y_true),y_true-np.mean(y_true)))\n",
        "      return (float) (1 - s1/s2)\n",
        "     # pass  # Uncomment this when you're done with this function\n",
        "          \n",
        "\n",
        "error = mean_squared_error(y_test,predictions) # Pass appropriate parts of dataset\n",
        "print(\"Mean Square Error is: %.4f\" % error)\n",
        "accuracy = r2_score(y_test,predictions) # Pass appropriate parts of dataset\n",
        "print(\"Accuracy is: %.4f\" % accuracy)"
      ]
    }
  ],
  "metadata": {
    "colab": {
      "collapsed_sections": [],
      "name": "Assignment 1.ipynb",
      "provenance": [],
      "include_colab_link": true
    },
    "kernelspec": {
      "display_name": "Python 3",
      "name": "python3"
    },
    "language_info": {
      "name": "python"
    }
  },
  "nbformat": 4,
  "nbformat_minor": 0
}