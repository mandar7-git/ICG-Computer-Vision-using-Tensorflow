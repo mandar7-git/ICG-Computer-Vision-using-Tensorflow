{
  "nbformat": 4,
  "nbformat_minor": 0,
  "metadata": {
    "colab": {
      "name": "A2_200426",
      "provenance": [],
      "collapsed_sections": []
    },
    "kernelspec": {
      "name": "python3",
      "display_name": "Python 3"
    },
    "language_info": {
      "name": "python"
    }
  },
  "cells": [
    {
      "cell_type": "markdown",
      "source": [
        "# Assigment 2: Deep Learning"
      ],
      "metadata": {
        "id": "UxcaEbrCy1g_"
      }
    },
    {
      "cell_type": "markdown",
      "source": [
        "## Generate Dataset\n",
        "\n",
        "This is the same code from Assignment 1"
      ],
      "metadata": {
        "id": "h2JON-_Oy79w"
      }
    },
    {
      "cell_type": "code",
      "execution_count": 1,
      "metadata": {
        "id": "hgpG3WDuypfa"
      },
      "outputs": [],
      "source": [
        "from sklearn import datasets\n",
        "from sklearn.model_selection import train_test_split\n",
        "\n",
        "# Generate the data\n",
        "X, y = datasets.make_regression(n_samples=100, n_features=5, noise=5, random_state=4)\n",
        "\n",
        "# Split the data\n",
        "X_train, X_test, y_train, y_test = train_test_split(X, y, test_size=0.2, random_state=1234)\n",
        "X_train, X_val, y_train, y_val = train_test_split(X_train, y_train, test_size=0.2, random_state=1)"
      ]
    },
    {
      "cell_type": "markdown",
      "source": [
        "## Visualize Dataset\n",
        "This is the same code from Assignment 1"
      ],
      "metadata": {
        "id": "r6it-Rm7zD1Y"
      }
    },
    {
      "cell_type": "code",
      "source": [
        "import matplotlib.pyplot as plt\n",
        "\n",
        "plt.scatter(X[:,0],y)\n",
        "plt.scatter(X[:,1],y)\n",
        "plt.scatter(X[:,2],y)\n",
        "plt.scatter(X[:,3],y)\n",
        "plt.scatter(X[:,4],y)"
      ],
      "metadata": {
        "id": "UautPVj1yzaQ",
        "colab": {
          "base_uri": "https://localhost:8080/",
          "height": 282
        },
        "outputId": "9b29b64d-a7b4-4d0c-84ac-a27433cf1a09"
      },
      "execution_count": 2,
      "outputs": [
        {
          "output_type": "execute_result",
          "data": {
            "text/plain": [
              "<matplotlib.collections.PathCollection at 0x7f182feccc90>"
            ]
          },
          "metadata": {},
          "execution_count": 2
        },
        {
          "output_type": "display_data",
          "data": {
            "text/plain": [
              "<Figure size 432x288 with 1 Axes>"
            ],
            "image/png": "[encoded data removed]"
          },
          "metadata": {
            "needs_background": "light"
          }
        }
      ]
    },
    {
      "cell_type": "markdown",
      "source": [
        "## Model Definition\n",
        "\n",
        "Using TensorFlow, build a model with the following definition:\n",
        "> Input of shape 5 \\\\\n",
        "> Dense of shape 5 \\\\\n",
        "> Dense of shape 5 \\\\\n",
        "> Dense of shape 1 \\\\\n",
        "\n",
        "Use Mean Square Error Loss and Stochaistic Gradient Descent (SGD) Optimizer\n",
        "\n",
        "Use Gradient Decay with appropriate parameters"
      ],
      "metadata": {
        "id": "XMXb9lTyzGHE"
      }
    },
    {
      "cell_type": "code",
      "source": [
        "import tensorflow as tf\n",
        "from tensorflow.keras import Sequential\n",
        "from tensorflow.keras import Model\n",
        "\n",
        "from tensorflow.keras.layers import Input\n",
        "from tensorflow.keras.layers import Dense\n",
        "from tensorflow.keras.layers import Activation\n",
        "\n",
        "model = Sequential()\n",
        "model.add(Dense(5, activation='relu', input_shape=(5,),  kernel_regularizer=tf.keras.regularizers.l1_l2(l1=0.1, l2=0.01)))\n",
        "model.add(Dense(5, activation='relu',  kernel_regularizer=tf.keras.regularizers.l1_l2(l1=0.1, l2=0.01)))\n",
        "model.add(Dense(1,  kernel_regularizer=tf.keras.regularizers.l1_l2(l1=0.1, l2=0.01)))\n",
        "\n",
        "# summarizing the model structure.\n",
        "model.summary()"
      ],
      "metadata": {
        "id": "r32N1xK2ziOs",
        "outputId": "2a3ccbfd-cf5f-49a9-a550-3bb3d24f8d39",
        "colab": {
          "base_uri": "https://localhost:8080/"
        }
      },
      "execution_count": 7,
      "outputs": [
        {
          "output_type": "stream",
          "name": "stdout",
          "text": [
            "Model: \"sequential_1\"\n",
            "_________________________________________________________________\n",
            " Layer (type)                Output Shape              Param #   \n",
            "=================================================================\n",
            " dense_3 (Dense)             (None, 5)                 30        \n",
            "                                                                 \n",
            " dense_4 (Dense)             (None, 5)                 30        \n",
            "                                                                 \n",
            " dense_5 (Dense)             (None, 1)                 6         \n",
            "                                                                 \n",
            "=================================================================\n",
            "Total params: 66\n",
            "Trainable params: 66\n",
            "Non-trainable params: 0\n",
            "_________________________________________________________________\n"
          ]
        }
      ]
    },
    {
      "cell_type": "code",
      "source": [
        "opt = tf.keras.optimizers.SGD(learning_rate=0.001)\n",
        "model.compile(optimizer=opt,loss='mse',metrics=['mse'])\n",
        "\n",
        "history = model.fit(X_train, y_train,epochs=100,validation_data = (X_val, y_val))\n",
        "\n",
        "loss , mse = model. evaluate(X_test , y_test, verbose = 1)\n",
        "print('MSE : %.3f' % mse)\n",
        "\n",
        "y_pred = model.predict(X_test)\n"
      ],
      "metadata": {
        "colab": {
          "base_uri": "https://localhost:8080/"
        },
        "id": "gkevxoPdIP59",
        "outputId": "6a355efd-bc18-4102-d5fd-6612169cdcbc"
      },
      "execution_count": 8,
      "outputs": [
        {
          "output_type": "stream",
          "name": "stdout",
          "text": [
            "Epoch 1/100\n",
            "2/2 [==============================] - 1s 174ms/step - loss: 11475.1738 - mse: 11472.9678 - val_loss: 11864.2656 - val_mse: 11862.0879\n",
            "Epoch 2/100\n",
            "2/2 [==============================] - 0s 27ms/step - loss: 11441.7285 - mse: 11439.5576 - val_loss: 11846.8320 - val_mse: 11844.6846\n",
            "Epoch 3/100\n",
            "2/2 [==============================] - 0s 25ms/step - loss: 11423.5332 - mse: 11421.3867 - val_loss: 11832.7158 - val_mse: 11830.5723\n",
            "Epoch 4/100\n",
            "2/2 [==============================] - 0s 29ms/step - loss: 11400.7578 - mse: 11398.6055 - val_loss: 11815.8301 - val_mse: 11813.6719\n",
            "Epoch 5/100\n",
            "2/2 [==============================] - 0s 25ms/step - loss: 11366.6113 - mse: 11364.4551 - val_loss: 11785.7559 - val_mse: 11783.5566\n",
            "Epoch 6/100\n",
            "2/2 [==============================] - 0s 24ms/step - loss: 11286.9844 - mse: 11284.7695 - val_loss: 11726.4561 - val_mse: 11724.1699\n",
            "Epoch 7/100\n",
            "2/2 [==============================] - 0s 25ms/step - loss: 11096.5234 - mse: 11094.2051 - val_loss: 11530.4307 - val_mse: 11527.9727\n",
            "Epoch 8/100\n",
            "2/2 [==============================] - 0s 24ms/step - loss: 10522.7061 - mse: 10520.1689 - val_loss: 10703.2373 - val_mse: 10700.3975\n",
            "Epoch 9/100\n",
            "2/2 [==============================] - 0s 25ms/step - loss: 8846.1973 - mse: 8843.1699 - val_loss: 8403.3633 - val_mse: 8399.8818\n",
            "Epoch 10/100\n",
            "2/2 [==============================] - 0s 29ms/step - loss: 6673.5986 - mse: 6670.0464 - val_loss: 7316.2393 - val_mse: 7312.3447\n",
            "Epoch 11/100\n",
            "2/2 [==============================] - 0s 26ms/step - loss: 6343.0869 - mse: 6339.2593 - val_loss: 7146.8828 - val_mse: 7142.8574\n",
            "Epoch 12/100\n",
            "2/2 [==============================] - 0s 24ms/step - loss: 6193.7588 - mse: 6189.8047 - val_loss: 7071.1475 - val_mse: 7067.0342\n",
            "Epoch 13/100\n",
            "2/2 [==============================] - 0s 27ms/step - loss: 6068.1680 - mse: 6064.1323 - val_loss: 7041.9277 - val_mse: 7037.8647\n",
            "Epoch 14/100\n",
            "2/2 [==============================] - 0s 28ms/step - loss: 5965.9917 - mse: 5961.8945 - val_loss: 6959.2310 - val_mse: 6955.0732\n",
            "Epoch 15/100\n",
            "2/2 [==============================] - 0s 34ms/step - loss: 5911.6143 - mse: 5907.4102 - val_loss: 6879.9053 - val_mse: 6875.6929\n",
            "Epoch 16/100\n",
            "2/2 [==============================] - 0s 26ms/step - loss: 5813.1270 - mse: 5808.8574 - val_loss: 6700.1318 - val_mse: 6695.7812\n",
            "Epoch 17/100\n",
            "2/2 [==============================] - 0s 28ms/step - loss: 5639.8804 - mse: 5635.4941 - val_loss: 6331.4873 - val_mse: 6326.9316\n",
            "Epoch 18/100\n",
            "2/2 [==============================] - 0s 28ms/step - loss: 5255.1362 - mse: 5250.5068 - val_loss: 5267.2690 - val_mse: 5262.4512\n",
            "Epoch 19/100\n",
            "2/2 [==============================] - 0s 28ms/step - loss: 4098.7217 - mse: 4093.8228 - val_loss: 2284.2087 - val_mse: 2278.7644\n",
            "Epoch 20/100\n",
            "2/2 [==============================] - 0s 31ms/step - loss: 1825.3357 - mse: 1819.6526 - val_loss: 1312.6302 - val_mse: 1306.5693\n",
            "Epoch 21/100\n",
            "2/2 [==============================] - 0s 39ms/step - loss: 1112.0520 - mse: 1106.0437 - val_loss: 1006.9686 - val_mse: 1000.7186\n",
            "Epoch 22/100\n",
            "2/2 [==============================] - 0s 28ms/step - loss: 1597.5649 - mse: 1591.4615 - val_loss: 1154.6045 - val_mse: 1148.4867\n",
            "Epoch 23/100\n",
            "2/2 [==============================] - 0s 38ms/step - loss: 983.4948 - mse: 977.3444 - val_loss: 412.7849 - val_mse: 406.3727\n",
            "Epoch 24/100\n",
            "2/2 [==============================] - 0s 34ms/step - loss: 757.5350 - mse: 751.1116 - val_loss: 811.6677 - val_mse: 805.3459\n",
            "Epoch 25/100\n",
            "2/2 [==============================] - 0s 33ms/step - loss: 705.4755 - mse: 699.1280 - val_loss: 369.6521 - val_mse: 363.2344\n",
            "Epoch 26/100\n",
            "2/2 [==============================] - 0s 30ms/step - loss: 451.6589 - mse: 445.2390 - val_loss: 355.8803 - val_mse: 349.2755\n",
            "Epoch 27/100\n",
            "2/2 [==============================] - 0s 29ms/step - loss: 397.4473 - mse: 390.9688 - val_loss: 168.0695 - val_mse: 161.6577\n",
            "Epoch 28/100\n",
            "2/2 [==============================] - 0s 36ms/step - loss: 326.3659 - mse: 319.7484 - val_loss: 242.3388 - val_mse: 236.0020\n",
            "Epoch 29/100\n",
            "2/2 [==============================] - 0s 30ms/step - loss: 319.0507 - mse: 312.4599 - val_loss: 157.7971 - val_mse: 151.3174\n",
            "Epoch 30/100\n",
            "2/2 [==============================] - 0s 30ms/step - loss: 120.2212 - mse: 113.6516 - val_loss: 99.6567 - val_mse: 93.0223\n",
            "Epoch 31/100\n",
            "2/2 [==============================] - 0s 31ms/step - loss: 65.9419 - mse: 59.2981 - val_loss: 90.3347 - val_mse: 83.6925\n",
            "Epoch 32/100\n",
            "2/2 [==============================] - 0s 32ms/step - loss: 61.7752 - mse: 55.1040 - val_loss: 93.8821 - val_mse: 87.2597\n",
            "Epoch 33/100\n",
            "2/2 [==============================] - 0s 33ms/step - loss: 59.1976 - mse: 52.5443 - val_loss: 108.9903 - val_mse: 102.2562\n",
            "Epoch 34/100\n",
            "2/2 [==============================] - 0s 31ms/step - loss: 76.3640 - mse: 69.6723 - val_loss: 82.4016 - val_mse: 75.6788\n",
            "Epoch 35/100\n",
            "2/2 [==============================] - 0s 28ms/step - loss: 66.6669 - mse: 59.9823 - val_loss: 72.4937 - val_mse: 65.7617\n",
            "Epoch 36/100\n",
            "2/2 [==============================] - 0s 26ms/step - loss: 77.4671 - mse: 70.7843 - val_loss: 61.9675 - val_mse: 55.2324\n",
            "Epoch 37/100\n",
            "2/2 [==============================] - 0s 35ms/step - loss: 47.5918 - mse: 40.8796 - val_loss: 55.7194 - val_mse: 49.0148\n",
            "Epoch 38/100\n",
            "2/2 [==============================] - 0s 30ms/step - loss: 42.5040 - mse: 35.7788 - val_loss: 58.4761 - val_mse: 51.7828\n",
            "Epoch 39/100\n",
            "2/2 [==============================] - 0s 29ms/step - loss: 39.0059 - mse: 32.2864 - val_loss: 64.7872 - val_mse: 57.9915\n",
            "Epoch 40/100\n",
            "2/2 [==============================] - 0s 28ms/step - loss: 53.1665 - mse: 46.4340 - val_loss: 54.8885 - val_mse: 48.1605\n",
            "Epoch 41/100\n",
            "2/2 [==============================] - 0s 27ms/step - loss: 35.1637 - mse: 28.4212 - val_loss: 53.3765 - val_mse: 46.6213\n",
            "Epoch 42/100\n",
            "2/2 [==============================] - 0s 26ms/step - loss: 36.4028 - mse: 29.6613 - val_loss: 49.4393 - val_mse: 42.6797\n",
            "Epoch 43/100\n",
            "2/2 [==============================] - 0s 28ms/step - loss: 46.1547 - mse: 39.4262 - val_loss: 96.9203 - val_mse: 90.1044\n",
            "Epoch 44/100\n",
            "2/2 [==============================] - 0s 34ms/step - loss: 86.0422 - mse: 79.2945 - val_loss: 59.1843 - val_mse: 52.4575\n",
            "Epoch 45/100\n",
            "2/2 [==============================] - 0s 30ms/step - loss: 68.2717 - mse: 61.5439 - val_loss: 78.7171 - val_mse: 71.9693\n",
            "Epoch 46/100\n",
            "2/2 [==============================] - 0s 28ms/step - loss: 52.7189 - mse: 45.9414 - val_loss: 70.6718 - val_mse: 63.9606\n",
            "Epoch 47/100\n",
            "2/2 [==============================] - 0s 27ms/step - loss: 35.9598 - mse: 29.2191 - val_loss: 43.6884 - val_mse: 36.8941\n",
            "Epoch 48/100\n",
            "2/2 [==============================] - 0s 25ms/step - loss: 40.0663 - mse: 33.3078 - val_loss: 56.0742 - val_mse: 49.2622\n",
            "Epoch 49/100\n",
            "2/2 [==============================] - 0s 32ms/step - loss: 35.8178 - mse: 29.0331 - val_loss: 45.4900 - val_mse: 38.7516\n",
            "Epoch 50/100\n",
            "2/2 [==============================] - 0s 26ms/step - loss: 33.4916 - mse: 26.7469 - val_loss: 48.4873 - val_mse: 41.6851\n",
            "Epoch 51/100\n",
            "2/2 [==============================] - 0s 28ms/step - loss: 40.1568 - mse: 33.3897 - val_loss: 50.3226 - val_mse: 43.5034\n",
            "Epoch 52/100\n",
            "2/2 [==============================] - 0s 29ms/step - loss: 46.7278 - mse: 39.9686 - val_loss: 42.1973 - val_mse: 35.4149\n",
            "Epoch 53/100\n",
            "2/2 [==============================] - 0s 26ms/step - loss: 47.5844 - mse: 40.8281 - val_loss: 59.5422 - val_mse: 52.7481\n",
            "Epoch 54/100\n",
            "2/2 [==============================] - 0s 27ms/step - loss: 43.0126 - mse: 36.2458 - val_loss: 45.4548 - val_mse: 38.6689\n",
            "Epoch 55/100\n",
            "2/2 [==============================] - 0s 28ms/step - loss: 43.8650 - mse: 37.1089 - val_loss: 47.6080 - val_mse: 40.8671\n",
            "Epoch 56/100\n",
            "2/2 [==============================] - 0s 29ms/step - loss: 36.0715 - mse: 29.3065 - val_loss: 38.4090 - val_mse: 31.6945\n",
            "Epoch 57/100\n",
            "2/2 [==============================] - 0s 27ms/step - loss: 45.5979 - mse: 38.8492 - val_loss: 42.6350 - val_mse: 35.9241\n",
            "Epoch 58/100\n",
            "2/2 [==============================] - 0s 27ms/step - loss: 39.3160 - mse: 32.5916 - val_loss: 41.3011 - val_mse: 34.5320\n",
            "Epoch 59/100\n",
            "2/2 [==============================] - 0s 25ms/step - loss: 38.7948 - mse: 32.0508 - val_loss: 45.7447 - val_mse: 39.0033\n",
            "Epoch 60/100\n",
            "2/2 [==============================] - 0s 27ms/step - loss: 40.8062 - mse: 34.0789 - val_loss: 49.7633 - val_mse: 42.9695\n",
            "Epoch 61/100\n",
            "2/2 [==============================] - 0s 28ms/step - loss: 57.7064 - mse: 50.9742 - val_loss: 52.7460 - val_mse: 46.0447\n",
            "Epoch 62/100\n",
            "2/2 [==============================] - 0s 28ms/step - loss: 47.8302 - mse: 41.0897 - val_loss: 41.1231 - val_mse: 34.4185\n",
            "Epoch 63/100\n",
            "2/2 [==============================] - 0s 27ms/step - loss: 44.8838 - mse: 38.1584 - val_loss: 50.6176 - val_mse: 43.8923\n",
            "Epoch 64/100\n",
            "2/2 [==============================] - 0s 39ms/step - loss: 59.1081 - mse: 52.4003 - val_loss: 55.0562 - val_mse: 48.2869\n",
            "Epoch 65/100\n",
            "2/2 [==============================] - 0s 27ms/step - loss: 53.0363 - mse: 46.3163 - val_loss: 42.4327 - val_mse: 35.6846\n",
            "Epoch 66/100\n",
            "2/2 [==============================] - 0s 34ms/step - loss: 31.6889 - mse: 24.9536 - val_loss: 38.8143 - val_mse: 32.0925\n",
            "Epoch 67/100\n",
            "2/2 [==============================] - 0s 27ms/step - loss: 42.3936 - mse: 35.6726 - val_loss: 69.1180 - val_mse: 62.3646\n",
            "Epoch 68/100\n",
            "2/2 [==============================] - 0s 26ms/step - loss: 49.0347 - mse: 42.2746 - val_loss: 62.5513 - val_mse: 55.8987\n",
            "Epoch 69/100\n",
            "2/2 [==============================] - 0s 30ms/step - loss: 60.3337 - mse: 53.6086 - val_loss: 83.2610 - val_mse: 76.6110\n",
            "Epoch 70/100\n",
            "2/2 [==============================] - 0s 28ms/step - loss: 41.7959 - mse: 35.1188 - val_loss: 63.3502 - val_mse: 56.5968\n",
            "Epoch 71/100\n",
            "2/2 [==============================] - 0s 27ms/step - loss: 55.5921 - mse: 48.8789 - val_loss: 37.3044 - val_mse: 30.5591\n",
            "Epoch 72/100\n",
            "2/2 [==============================] - 0s 29ms/step - loss: 35.1301 - mse: 28.3797 - val_loss: 53.8320 - val_mse: 47.1507\n",
            "Epoch 73/100\n",
            "2/2 [==============================] - 0s 26ms/step - loss: 41.5469 - mse: 34.8281 - val_loss: 52.9501 - val_mse: 46.2172\n",
            "Epoch 74/100\n",
            "2/2 [==============================] - 0s 33ms/step - loss: 64.2480 - mse: 57.5237 - val_loss: 58.9246 - val_mse: 52.2015\n",
            "Epoch 75/100\n",
            "2/2 [==============================] - 0s 26ms/step - loss: 50.8919 - mse: 44.1662 - val_loss: 74.0102 - val_mse: 67.3262\n",
            "Epoch 76/100\n",
            "2/2 [==============================] - 0s 29ms/step - loss: 57.8022 - mse: 51.0659 - val_loss: 41.7896 - val_mse: 35.0758\n",
            "Epoch 77/100\n",
            "2/2 [==============================] - 0s 28ms/step - loss: 38.5056 - mse: 31.7720 - val_loss: 46.2839 - val_mse: 39.6149\n",
            "Epoch 78/100\n",
            "2/2 [==============================] - 0s 27ms/step - loss: 49.8862 - mse: 43.1611 - val_loss: 52.5488 - val_mse: 45.9035\n",
            "Epoch 79/100\n",
            "2/2 [==============================] - 0s 28ms/step - loss: 58.9217 - mse: 52.1990 - val_loss: 39.4131 - val_mse: 32.7051\n",
            "Epoch 80/100\n",
            "2/2 [==============================] - 0s 30ms/step - loss: 35.7710 - mse: 29.0465 - val_loss: 48.1425 - val_mse: 41.4530\n",
            "Epoch 81/100\n",
            "2/2 [==============================] - 0s 29ms/step - loss: 34.3770 - mse: 27.6560 - val_loss: 38.6557 - val_mse: 31.9571\n",
            "Epoch 82/100\n",
            "2/2 [==============================] - 0s 27ms/step - loss: 34.3581 - mse: 27.6438 - val_loss: 36.9890 - val_mse: 30.2503\n",
            "Epoch 83/100\n",
            "2/2 [==============================] - 0s 27ms/step - loss: 47.5866 - mse: 40.8662 - val_loss: 55.9017 - val_mse: 49.1683\n",
            "Epoch 84/100\n",
            "2/2 [==============================] - 0s 29ms/step - loss: 89.9752 - mse: 83.2643 - val_loss: 62.3293 - val_mse: 55.6388\n",
            "Epoch 85/100\n",
            "2/2 [==============================] - 0s 28ms/step - loss: 55.9391 - mse: 49.2328 - val_loss: 51.6210 - val_mse: 44.8524\n",
            "Epoch 86/100\n",
            "2/2 [==============================] - 0s 29ms/step - loss: 52.7113 - mse: 45.9998 - val_loss: 57.7370 - val_mse: 50.9886\n",
            "Epoch 87/100\n",
            "2/2 [==============================] - 0s 28ms/step - loss: 40.1835 - mse: 33.4679 - val_loss: 44.3459 - val_mse: 37.6057\n",
            "Epoch 88/100\n",
            "2/2 [==============================] - 0s 30ms/step - loss: 39.5293 - mse: 32.8229 - val_loss: 51.2546 - val_mse: 44.5015\n",
            "Epoch 89/100\n",
            "2/2 [==============================] - 0s 30ms/step - loss: 58.2805 - mse: 51.5793 - val_loss: 75.2555 - val_mse: 68.5941\n",
            "Epoch 90/100\n",
            "2/2 [==============================] - 0s 25ms/step - loss: 45.5881 - mse: 38.8851 - val_loss: 47.8163 - val_mse: 41.1556\n",
            "Epoch 91/100\n",
            "2/2 [==============================] - 0s 25ms/step - loss: 34.5332 - mse: 27.8387 - val_loss: 39.9803 - val_mse: 33.3004\n",
            "Epoch 92/100\n",
            "2/2 [==============================] - 0s 30ms/step - loss: 37.9798 - mse: 31.2859 - val_loss: 48.2721 - val_mse: 41.5535\n",
            "Epoch 93/100\n",
            "2/2 [==============================] - 0s 36ms/step - loss: 44.3547 - mse: 37.6219 - val_loss: 45.5730 - val_mse: 38.9027\n",
            "Epoch 94/100\n",
            "2/2 [==============================] - 0s 26ms/step - loss: 37.4901 - mse: 30.7939 - val_loss: 69.6963 - val_mse: 62.9809\n",
            "Epoch 95/100\n",
            "2/2 [==============================] - 0s 28ms/step - loss: 54.5492 - mse: 47.8621 - val_loss: 44.4277 - val_mse: 37.7247\n",
            "Epoch 96/100\n",
            "2/2 [==============================] - 0s 28ms/step - loss: 35.1871 - mse: 28.4732 - val_loss: 40.0220 - val_mse: 33.3416\n",
            "Epoch 97/100\n",
            "2/2 [==============================] - 0s 27ms/step - loss: 33.8835 - mse: 27.1787 - val_loss: 37.0628 - val_mse: 30.3599\n",
            "Epoch 98/100\n",
            "2/2 [==============================] - 0s 31ms/step - loss: 32.3428 - mse: 25.6341 - val_loss: 36.2137 - val_mse: 29.5172\n",
            "Epoch 99/100\n",
            "2/2 [==============================] - 0s 25ms/step - loss: 33.2907 - mse: 26.5856 - val_loss: 38.6208 - val_mse: 31.9349\n",
            "Epoch 100/100\n",
            "2/2 [==============================] - 0s 34ms/step - loss: 35.1135 - mse: 28.4348 - val_loss: 54.4383 - val_mse: 47.6780\n",
            "1/1 [==============================] - 0s 19ms/step - loss: 60.8575 - mse: 54.0972\n",
            "MSE : 54.097\n"
          ]
        }
      ]
    },
    {
      "cell_type": "markdown",
      "source": [
        "## Plot Loss\n",
        "\n",
        "Using matplotlib visualise how the loss (both validation and training) is changing, use this information to retrain the model with appropriate parameters.<br>We ideally want the loss to be constant over the last few iterations."
      ],
      "metadata": {
        "id": "jmeP6vt3z0oA"
      }
    },
    {
      "cell_type": "code",
      "source": [
        "print(history.history.keys())\n",
        "# summarize history for accuracy\n",
        "plt.figure(figsize=(10, 8))                    \n",
        "plt.plot(history.history['loss'])             \n",
        "plt.plot(history.history['val_loss'])         \n",
        "\n",
        "# ploting validation loss \n",
        "plt.title('Training and Validation loss')\n",
        "plt.xlabel('Epochs')\n",
        "plt.ylabel('Loss')\n",
        "plt.legend(['train_loss', 'validation_loss'], loc='upper right')\n",
        "\n",
        "\n",
        "plt.show()"
      ],
      "metadata": {
        "id": "RQTNqPHm0mOi",
        "colab": {
          "base_uri": "https://localhost:8080/",
          "height": 530
        },
        "outputId": "ec35a8db-a834-4736-f293-d2152b3b9ffb"
      },
      "execution_count": 9,
      "outputs": [
        {
          "output_type": "stream",
          "name": "stdout",
          "text": [
            "dict_keys(['loss', 'mse', 'val_loss', 'val_mse'])\n"
          ]
        },
        {
          "output_type": "display_data",
          "data": {
            "text/plain": [
              "<Figure size 720x576 with 1 Axes>"
            ],
            "image/png": "[encoded data removed]"
          },
          "metadata": {
            "needs_background": "light"
          }
        }
      ]
    },
    {
      "cell_type": "markdown",
      "source": [
        "## Evaluation Metrics\n",
        "Use the R2 Score function implemented in the first assignment to evaluate the performance of the model."
      ],
      "metadata": {
        "id": "IVrR_vXA7kOt"
      }
    },
    {
      "cell_type": "code",
      "source": [
        "import numpy as np\n",
        "from sklearn.metrics import r2_score\n",
        "accu = r2_score(y_test, y_pred) # Pass appropriate parts of dataset\n",
        "print(\"Accuracy:\", accu)"
      ],
      "metadata": {
        "colab": {
          "base_uri": "https://localhost:8080/"
        },
        "id": "8HaL6P5DEXSY",
        "outputId": "138ec741-dfd2-4998-c676-5608bd223a2b"
      },
      "execution_count": 10,
      "outputs": [
        {
          "output_type": "stream",
          "name": "stdout",
          "text": [
            "Accuracy: 0.9946813930330999\n"
          ]
        }
      ]
    },
    {
      "cell_type": "markdown",
      "source": [
        "## Your own custom model\n",
        "Build a custom model of your own choice.<br>\n",
        "Describe it in detail in Markdown/Latex in the cell below.<br>\n",
        "Visualise the loss, as before."
      ],
      "metadata": {
        "id": "CHqzF1OU0pBg"
      }
    },
    {
      "cell_type": "markdown",
      "source": [
        "1 Input Layer \n",
        "3 Hidden layer \n",
        "1 Output Layer"
      ],
      "metadata": {
        "id": "jF8oTUqq0y0g"
      }
    },
    {
      "cell_type": "code",
      "source": [
        "from tensorflow.keras import layers\n",
        "Model = Sequential(\n",
        "[\n",
        "  layers.Dense(5, activation='relu', input_shape=(5,),  kernel_regularizer=tf.keras.regularizers.l1_l2(l1=0.1, l2=0.01)),\n",
        "    \n",
        "  layers.Dense(4, activation='relu',  kernel_regularizer=tf.keras.regularizers.l1_l2(l1=0.1, l2=0.01)),\n",
        "  layers.Dense(4, activation='relu',  kernel_regularizer=tf.keras.regularizers.l1_l2(l1=0.1, l2=0.01)),\n",
        "  layers.Dense(4, activation='relu',  kernel_regularizer=tf.keras.regularizers.l1_l2(l1=0.1, l2=0.01)),\n",
        "  layers.Dense(8, activation='relu',  kernel_regularizer=tf.keras.regularizers.l1_l2(l1=0.1, l2=0.01)),\n",
        "\n",
        "\n",
        "  layers.Dense(1,  kernel_regularizer=tf.keras.regularizers.l1_l2(l1=0.1, l2=0.01))\n",
        "])\n",
        "# summarizing the model structure.\n",
        "model.summary()"
      ],
      "metadata": {
        "id": "1XOk5hJu0oSQ",
        "colab": {
          "base_uri": "https://localhost:8080/"
        },
        "outputId": "52960e36-0fac-4299-b862-9f03466ecaa9"
      },
      "execution_count": 11,
      "outputs": [
        {
          "output_type": "stream",
          "name": "stdout",
          "text": [
            "Model: \"sequential_1\"\n",
            "_________________________________________________________________\n",
            " Layer (type)                Output Shape              Param #   \n",
            "=================================================================\n",
            " dense_3 (Dense)             (None, 5)                 30        \n",
            "                                                                 \n",
            " dense_4 (Dense)             (None, 5)                 30        \n",
            "                                                                 \n",
            " dense_5 (Dense)             (None, 1)                 6         \n",
            "                                                                 \n",
            "=================================================================\n",
            "Total params: 66\n",
            "Trainable params: 66\n",
            "Non-trainable params: 0\n",
            "_________________________________________________________________\n"
          ]
        }
      ]
    },
    {
      "cell_type": "code",
      "source": [
        "opt = tf.keras.optimizers.Adam(learning_rate=0.1) \n",
        "\n",
        "# used adam optimizer\n",
        "Model.compile(optimizer=opt,loss='mse',metrics=['mse'])\n",
        "history = Model.fit(X_train, y_train,epochs=125,validation_data = (X_val, y_val))\n",
        "\n",
        "loss , mse = model. evaluate(X_test , y_test, verbose = 1)\n",
        "print('MSE : %.3f' % mse)"
      ],
      "metadata": {
        "id": "aS0ROZa402Lo",
        "colab": {
          "base_uri": "https://localhost:8080/"
        },
        "outputId": "003b4868-7f09-4e0a-eb5e-550498bc218f"
      },
      "execution_count": 12,
      "outputs": [
        {
          "output_type": "stream",
          "name": "stdout",
          "text": [
            "Epoch 1/125\n",
            "2/2 [==============================] - 2s 676ms/step - loss: 11401.3867 - mse: 11396.5293 - val_loss: 11557.7842 - val_mse: 11553.1875\n",
            "Epoch 2/125\n",
            "2/2 [==============================] - 0s 85ms/step - loss: 11063.0361 - mse: 11058.4570 - val_loss: 10439.4736 - val_mse: 10434.7793\n",
            "Epoch 3/125\n",
            "2/2 [==============================] - 0s 45ms/step - loss: 9926.2676 - mse: 9921.4863 - val_loss: 7749.2466 - val_mse: 7744.0879\n",
            "Epoch 4/125\n",
            "2/2 [==============================] - 0s 40ms/step - loss: 7330.6978 - mse: 7325.3623 - val_loss: 7654.3208 - val_mse: 7648.4214\n",
            "Epoch 5/125\n",
            "2/2 [==============================] - 0s 83ms/step - loss: 7227.5615 - mse: 7221.6362 - val_loss: 5410.4082 - val_mse: 5404.4766\n",
            "Epoch 6/125\n",
            "2/2 [==============================] - 0s 90ms/step - loss: 5873.7803 - mse: 5867.8442 - val_loss: 5526.4331 - val_mse: 5520.4463\n",
            "Epoch 7/125\n",
            "2/2 [==============================] - 0s 60ms/step - loss: 6018.2114 - mse: 6012.1709 - val_loss: 5182.1021 - val_mse: 5175.8462\n",
            "Epoch 8/125\n",
            "2/2 [==============================] - 0s 77ms/step - loss: 5603.1904 - mse: 5596.8350 - val_loss: 4864.9531 - val_mse: 4858.2705\n",
            "Epoch 9/125\n",
            "2/2 [==============================] - 0s 67ms/step - loss: 5601.0107 - mse: 5594.2202 - val_loss: 5193.2510 - val_mse: 5186.2476\n",
            "Epoch 10/125\n",
            "2/2 [==============================] - 0s 70ms/step - loss: 5634.0400 - mse: 5627.0288 - val_loss: 4820.8398 - val_mse: 4813.8237\n",
            "Epoch 11/125\n",
            "2/2 [==============================] - 0s 47ms/step - loss: 5425.9922 - mse: 5418.9731 - val_loss: 5085.3560 - val_mse: 5078.3149\n",
            "Epoch 12/125\n",
            "2/2 [==============================] - 0s 95ms/step - loss: 5556.3926 - mse: 5549.3188 - val_loss: 4990.8550 - val_mse: 4983.6753\n",
            "Epoch 13/125\n",
            "2/2 [==============================] - 0s 76ms/step - loss: 5394.0752 - mse: 5386.8525 - val_loss: 4771.8105 - val_mse: 4764.4512\n",
            "Epoch 14/125\n",
            "2/2 [==============================] - 0s 47ms/step - loss: 5343.1367 - mse: 5335.7314 - val_loss: 4786.4229 - val_mse: 4778.8984\n",
            "Epoch 15/125\n",
            "2/2 [==============================] - 0s 80ms/step - loss: 5349.2803 - mse: 5341.7368 - val_loss: 4725.4478 - val_mse: 4717.8604\n",
            "Epoch 16/125\n",
            "2/2 [==============================] - 0s 101ms/step - loss: 5275.4443 - mse: 5267.8447 - val_loss: 4759.3335 - val_mse: 4751.6968\n",
            "Epoch 17/125\n",
            "2/2 [==============================] - 0s 55ms/step - loss: 5277.5635 - mse: 5269.9126 - val_loss: 4662.6548 - val_mse: 4654.9731\n",
            "Epoch 18/125\n",
            "2/2 [==============================] - 0s 51ms/step - loss: 5238.6216 - mse: 5230.9351 - val_loss: 4678.7778 - val_mse: 4671.0762\n",
            "Epoch 19/125\n",
            "2/2 [==============================] - 0s 75ms/step - loss: 5228.8447 - mse: 5221.1431 - val_loss: 4632.3076 - val_mse: 4624.6230\n",
            "Epoch 20/125\n",
            "2/2 [==============================] - 0s 70ms/step - loss: 5206.4272 - mse: 5198.7500 - val_loss: 4650.4297 - val_mse: 4642.7759\n",
            "Epoch 21/125\n",
            "2/2 [==============================] - 0s 79ms/step - loss: 5195.0020 - mse: 5187.3564 - val_loss: 4605.6182 - val_mse: 4597.9717\n",
            "Epoch 22/125\n",
            "2/2 [==============================] - 0s 48ms/step - loss: 5166.5176 - mse: 5158.8633 - val_loss: 4610.9087 - val_mse: 4603.2500\n",
            "Epoch 23/125\n",
            "2/2 [==============================] - 0s 80ms/step - loss: 5157.1533 - mse: 5149.5078 - val_loss: 4583.1289 - val_mse: 4575.5220\n",
            "Epoch 24/125\n",
            "2/2 [==============================] - 0s 47ms/step - loss: 5129.4463 - mse: 5121.8516 - val_loss: 4602.6909 - val_mse: 4595.1255\n",
            "Epoch 25/125\n",
            "2/2 [==============================] - 0s 66ms/step - loss: 5123.3418 - mse: 5115.7725 - val_loss: 4561.8491 - val_mse: 4554.2754\n",
            "Epoch 26/125\n",
            "2/2 [==============================] - 0s 86ms/step - loss: 5096.5908 - mse: 5089.0146 - val_loss: 4551.1719 - val_mse: 4543.5947\n",
            "Epoch 27/125\n",
            "2/2 [==============================] - 0s 50ms/step - loss: 5087.8237 - mse: 5080.2461 - val_loss: 4538.7837 - val_mse: 4531.2168\n",
            "Epoch 28/125\n",
            "2/2 [==============================] - 0s 81ms/step - loss: 5070.2852 - mse: 5062.7290 - val_loss: 4542.9043 - val_mse: 4535.3608\n",
            "Epoch 29/125\n",
            "2/2 [==============================] - 0s 55ms/step - loss: 5056.4160 - mse: 5048.8730 - val_loss: 4519.1191 - val_mse: 4511.5771\n",
            "Epoch 30/125\n",
            "2/2 [==============================] - 0s 108ms/step - loss: 5038.0996 - mse: 5030.5630 - val_loss: 4511.2334 - val_mse: 4503.7148\n",
            "Epoch 31/125\n",
            "2/2 [==============================] - 0s 101ms/step - loss: 5027.6982 - mse: 5020.1836 - val_loss: 4500.7939 - val_mse: 4493.2998\n",
            "Epoch 32/125\n",
            "2/2 [==============================] - 0s 49ms/step - loss: 5007.7827 - mse: 5000.2944 - val_loss: 4503.6279 - val_mse: 4496.1597\n",
            "Epoch 33/125\n",
            "2/2 [==============================] - 0s 44ms/step - loss: 4998.1113 - mse: 4990.6499 - val_loss: 4483.3950 - val_mse: 4475.9531\n",
            "Epoch 34/125\n",
            "2/2 [==============================] - 0s 84ms/step - loss: 4979.8848 - mse: 4972.4438 - val_loss: 4474.9941 - val_mse: 4467.5581\n",
            "Epoch 35/125\n",
            "2/2 [==============================] - 0s 50ms/step - loss: 4967.6362 - mse: 4960.2056 - val_loss: 4466.0073 - val_mse: 4458.5962\n",
            "Epoch 36/125\n",
            "2/2 [==============================] - 0s 90ms/step - loss: 4950.5352 - mse: 4943.1318 - val_loss: 4466.5415 - val_mse: 4459.1655\n",
            "Epoch 37/125\n",
            "2/2 [==============================] - 0s 41ms/step - loss: 4940.3037 - mse: 4932.9316 - val_loss: 4448.8403 - val_mse: 4441.4717\n",
            "Epoch 38/125\n",
            "2/2 [==============================] - 0s 44ms/step - loss: 4924.0898 - mse: 4916.7217 - val_loss: 4437.8208 - val_mse: 4430.4663\n",
            "Epoch 39/125\n",
            "2/2 [==============================] - 0s 63ms/step - loss: 4909.7251 - mse: 4902.3760 - val_loss: 4431.2622 - val_mse: 4423.9316\n",
            "Epoch 40/125\n",
            "2/2 [==============================] - 0s 41ms/step - loss: 4896.2026 - mse: 4888.8789 - val_loss: 4425.6479 - val_mse: 4418.3330\n",
            "Epoch 41/125\n",
            "2/2 [==============================] - 0s 52ms/step - loss: 4881.1963 - mse: 4873.8833 - val_loss: 4410.6338 - val_mse: 4403.3286\n",
            "Epoch 42/125\n",
            "2/2 [==============================] - 0s 48ms/step - loss: 4869.0176 - mse: 4861.7168 - val_loss: 4402.0312 - val_mse: 4394.7432\n",
            "Epoch 43/125\n",
            "2/2 [==============================] - 0s 136ms/step - loss: 4854.8730 - mse: 4847.5908 - val_loss: 4398.9785 - val_mse: 4391.7139\n",
            "Epoch 44/125\n",
            "2/2 [==============================] - 0s 76ms/step - loss: 4843.8350 - mse: 4836.5781 - val_loss: 4387.0601 - val_mse: 4379.8169\n",
            "Epoch 45/125\n",
            "2/2 [==============================] - 0s 55ms/step - loss: 4827.0464 - mse: 4819.7998 - val_loss: 4377.4512 - val_mse: 4370.2007\n",
            "Epoch 46/125\n",
            "2/2 [==============================] - 0s 51ms/step - loss: 4816.5620 - mse: 4809.3154 - val_loss: 4369.4751 - val_mse: 4362.2480\n",
            "Epoch 47/125\n",
            "2/2 [==============================] - 0s 53ms/step - loss: 4801.1895 - mse: 4793.9697 - val_loss: 4363.6025 - val_mse: 4356.3916\n",
            "Epoch 48/125\n",
            "2/2 [==============================] - 0s 40ms/step - loss: 4787.5073 - mse: 4780.2954 - val_loss: 4350.8125 - val_mse: 4343.6113\n",
            "Epoch 49/125\n",
            "2/2 [==============================] - 0s 50ms/step - loss: 4774.4663 - mse: 4767.2734 - val_loss: 4342.0479 - val_mse: 4334.8633\n",
            "Epoch 50/125\n",
            "2/2 [==============================] - 0s 50ms/step - loss: 4759.5420 - mse: 4752.3574 - val_loss: 4335.9116 - val_mse: 4328.7290\n",
            "Epoch 51/125\n",
            "2/2 [==============================] - 0s 41ms/step - loss: 4747.1719 - mse: 4739.9980 - val_loss: 4326.4448 - val_mse: 4319.2866\n",
            "Epoch 52/125\n",
            "2/2 [==============================] - 0s 40ms/step - loss: 4735.7773 - mse: 4728.6191 - val_loss: 4317.0918 - val_mse: 4309.9380\n",
            "Epoch 53/125\n",
            "2/2 [==============================] - 0s 45ms/step - loss: 4721.4756 - mse: 4714.3252 - val_loss: 4311.2852 - val_mse: 4304.1523\n",
            "Epoch 54/125\n",
            "2/2 [==============================] - 0s 103ms/step - loss: 4710.7944 - mse: 4703.6650 - val_loss: 4301.7539 - val_mse: 4294.6357\n",
            "Epoch 55/125\n",
            "2/2 [==============================] - 0s 127ms/step - loss: 4695.9155 - mse: 4688.7983 - val_loss: 4292.5439 - val_mse: 4285.4316\n",
            "Epoch 56/125\n",
            "2/2 [==============================] - 0s 128ms/step - loss: 4684.0342 - mse: 4676.9258 - val_loss: 4285.0713 - val_mse: 4277.9731\n",
            "Epoch 57/125\n",
            "2/2 [==============================] - 0s 112ms/step - loss: 4671.7720 - mse: 4664.6807 - val_loss: 4278.6997 - val_mse: 4271.6196\n",
            "Epoch 58/125\n",
            "2/2 [==============================] - 0s 100ms/step - loss: 4656.8042 - mse: 4649.7246 - val_loss: 4268.7461 - val_mse: 4261.6689\n",
            "Epoch 59/125\n",
            "2/2 [==============================] - 0s 27ms/step - loss: 4645.1763 - mse: 4638.1040 - val_loss: 4260.7500 - val_mse: 4253.6963\n",
            "Epoch 60/125\n",
            "2/2 [==============================] - 0s 26ms/step - loss: 4634.2104 - mse: 4627.1577 - val_loss: 4254.5293 - val_mse: 4247.4800\n",
            "Epoch 61/125\n",
            "2/2 [==============================] - 0s 26ms/step - loss: 4620.1680 - mse: 4613.1240 - val_loss: 4244.3018 - val_mse: 4237.2661\n",
            "Epoch 62/125\n",
            "2/2 [==============================] - 0s 28ms/step - loss: 4609.9160 - mse: 4602.8789 - val_loss: 4236.5972 - val_mse: 4229.5664\n",
            "Epoch 63/125\n",
            "2/2 [==============================] - 0s 26ms/step - loss: 4596.0483 - mse: 4589.0278 - val_loss: 4234.9238 - val_mse: 4227.9165\n",
            "Epoch 64/125\n",
            "2/2 [==============================] - 0s 29ms/step - loss: 4583.9941 - mse: 4576.9873 - val_loss: 4221.3403 - val_mse: 4214.3354\n",
            "Epoch 65/125\n",
            "2/2 [==============================] - 0s 28ms/step - loss: 4573.2466 - mse: 4566.2461 - val_loss: 4213.5049 - val_mse: 4206.5132\n",
            "Epoch 66/125\n",
            "2/2 [==============================] - 0s 27ms/step - loss: 4557.3462 - mse: 4550.3594 - val_loss: 4211.6201 - val_mse: 4204.6592\n",
            "Epoch 67/125\n",
            "2/2 [==============================] - 0s 30ms/step - loss: 4549.3286 - mse: 4542.3691 - val_loss: 4199.1685 - val_mse: 4192.2026\n",
            "Epoch 68/125\n",
            "2/2 [==============================] - 0s 40ms/step - loss: 4535.7271 - mse: 4528.7612 - val_loss: 4190.0547 - val_mse: 4183.1001\n",
            "Epoch 69/125\n",
            "2/2 [==============================] - 0s 45ms/step - loss: 4523.3994 - mse: 4516.4487 - val_loss: 4186.9766 - val_mse: 4180.0439\n",
            "Epoch 70/125\n",
            "2/2 [==============================] - 0s 26ms/step - loss: 4510.2588 - mse: 4503.3320 - val_loss: 4181.3853 - val_mse: 4174.4644\n",
            "Epoch 71/125\n",
            "2/2 [==============================] - 0s 30ms/step - loss: 4499.3945 - mse: 4492.4746 - val_loss: 4169.0679 - val_mse: 4162.1523\n",
            "Epoch 72/125\n",
            "2/2 [==============================] - 0s 31ms/step - loss: 4487.5215 - mse: 4480.6133 - val_loss: 4164.3525 - val_mse: 4157.4614\n",
            "Epoch 73/125\n",
            "2/2 [==============================] - 0s 31ms/step - loss: 4476.4346 - mse: 4469.5469 - val_loss: 4157.7705 - val_mse: 4150.8911\n",
            "Epoch 74/125\n",
            "2/2 [==============================] - 0s 28ms/step - loss: 4464.5093 - mse: 4457.6270 - val_loss: 4147.4868 - val_mse: 4140.6064\n",
            "Epoch 75/125\n",
            "2/2 [==============================] - 0s 27ms/step - loss: 4451.6299 - mse: 4444.7568 - val_loss: 4143.3989 - val_mse: 4136.5479\n",
            "Epoch 76/125\n",
            "2/2 [==============================] - 0s 27ms/step - loss: 4441.3281 - mse: 4434.4785 - val_loss: 4134.7559 - val_mse: 4127.9082\n",
            "Epoch 77/125\n",
            "2/2 [==============================] - 0s 32ms/step - loss: 4428.5151 - mse: 4421.6719 - val_loss: 4125.8003 - val_mse: 4118.9619\n",
            "Epoch 78/125\n",
            "2/2 [==============================] - 0s 29ms/step - loss: 4415.7642 - mse: 4408.9272 - val_loss: 4120.1118 - val_mse: 4113.2925\n",
            "Epoch 79/125\n",
            "2/2 [==============================] - 0s 27ms/step - loss: 4405.4102 - mse: 4398.5967 - val_loss: 4112.9844 - val_mse: 4106.1743\n",
            "Epoch 80/125\n",
            "2/2 [==============================] - 0s 27ms/step - loss: 4393.9087 - mse: 4387.0967 - val_loss: 4103.5864 - val_mse: 4096.7764\n",
            "Epoch 81/125\n",
            "2/2 [==============================] - 0s 30ms/step - loss: 4382.1533 - mse: 4375.3501 - val_loss: 4098.1382 - val_mse: 4091.3450\n",
            "Epoch 82/125\n",
            "2/2 [==============================] - 0s 29ms/step - loss: 4371.2861 - mse: 4364.4956 - val_loss: 4092.6750 - val_mse: 4085.8879\n",
            "Epoch 83/125\n",
            "2/2 [==============================] - 0s 30ms/step - loss: 4360.6328 - mse: 4353.8496 - val_loss: 4084.5320 - val_mse: 4077.7576\n",
            "Epoch 84/125\n",
            "2/2 [==============================] - 0s 27ms/step - loss: 4348.4434 - mse: 4341.6719 - val_loss: 4080.3179 - val_mse: 4073.5569\n",
            "Epoch 85/125\n",
            "2/2 [==============================] - 0s 27ms/step - loss: 4337.0176 - mse: 4330.2588 - val_loss: 4072.8743 - val_mse: 4066.1191\n",
            "Epoch 86/125\n",
            "2/2 [==============================] - 0s 28ms/step - loss: 4328.7393 - mse: 4321.9839 - val_loss: 4063.9692 - val_mse: 4057.2246\n",
            "Epoch 87/125\n",
            "2/2 [==============================] - 0s 30ms/step - loss: 4314.5635 - mse: 4307.8223 - val_loss: 4060.2004 - val_mse: 4053.4680\n",
            "Epoch 88/125\n",
            "2/2 [==============================] - 0s 30ms/step - loss: 4303.1348 - mse: 4296.4043 - val_loss: 4050.3142 - val_mse: 4043.5872\n",
            "Epoch 89/125\n",
            "2/2 [==============================] - 0s 28ms/step - loss: 4293.9487 - mse: 4287.2222 - val_loss: 4043.7131 - val_mse: 4036.9949\n",
            "Epoch 90/125\n",
            "2/2 [==============================] - 0s 29ms/step - loss: 4280.6108 - mse: 4273.8970 - val_loss: 4042.0967 - val_mse: 4035.4001\n",
            "Epoch 91/125\n",
            "2/2 [==============================] - 0s 29ms/step - loss: 4272.1743 - mse: 4265.4800 - val_loss: 4029.9871 - val_mse: 4023.2900\n",
            "Epoch 92/125\n",
            "2/2 [==============================] - 0s 27ms/step - loss: 4260.2544 - mse: 4253.5596 - val_loss: 4024.3279 - val_mse: 4017.6411\n",
            "Epoch 93/125\n",
            "2/2 [==============================] - 0s 26ms/step - loss: 4250.2373 - mse: 4243.5586 - val_loss: 4019.4512 - val_mse: 4012.7847\n",
            "Epoch 94/125\n",
            "2/2 [==============================] - 0s 27ms/step - loss: 4238.4287 - mse: 4231.7656 - val_loss: 4012.1650 - val_mse: 4005.5059\n",
            "Epoch 95/125\n",
            "2/2 [==============================] - 0s 28ms/step - loss: 4227.6211 - mse: 4220.9629 - val_loss: 4004.5474 - val_mse: 3997.8943\n",
            "Epoch 96/125\n",
            "2/2 [==============================] - 0s 27ms/step - loss: 4216.8481 - mse: 4210.1982 - val_loss: 3999.3064 - val_mse: 3992.6738\n",
            "Epoch 97/125\n",
            "2/2 [==============================] - 0s 37ms/step - loss: 4206.8525 - mse: 4200.2197 - val_loss: 3992.7893 - val_mse: 3986.1575\n",
            "Epoch 98/125\n",
            "2/2 [==============================] - 0s 30ms/step - loss: 4196.0371 - mse: 4189.4077 - val_loss: 3986.7068 - val_mse: 3980.0835\n",
            "Epoch 99/125\n",
            "2/2 [==============================] - 0s 30ms/step - loss: 4185.5190 - mse: 4178.9033 - val_loss: 3978.9639 - val_mse: 3972.3533\n",
            "Epoch 100/125\n",
            "2/2 [==============================] - 0s 28ms/step - loss: 4175.5430 - mse: 4168.9302 - val_loss: 3973.3660 - val_mse: 3966.7590\n",
            "Epoch 101/125\n",
            "2/2 [==============================] - 0s 31ms/step - loss: 4165.0840 - mse: 4158.4873 - val_loss: 3969.8667 - val_mse: 3963.2856\n",
            "Epoch 102/125\n",
            "2/2 [==============================] - 0s 30ms/step - loss: 4154.7344 - mse: 4148.1509 - val_loss: 3960.4521 - val_mse: 3953.8691\n",
            "Epoch 103/125\n",
            "2/2 [==============================] - 0s 28ms/step - loss: 4147.7373 - mse: 4141.1582 - val_loss: 3961.4990 - val_mse: 3954.9453\n",
            "Epoch 104/125\n",
            "2/2 [==============================] - 0s 27ms/step - loss: 4133.9932 - mse: 4127.4395 - val_loss: 3954.2659 - val_mse: 3947.7134\n",
            "Epoch 105/125\n",
            "2/2 [==============================] - 0s 31ms/step - loss: 4126.2339 - mse: 4119.6816 - val_loss: 3941.9924 - val_mse: 3935.4438\n",
            "Epoch 106/125\n",
            "2/2 [==============================] - 0s 29ms/step - loss: 4112.9238 - mse: 4106.3794 - val_loss: 3943.2722 - val_mse: 3936.7451\n",
            "Epoch 107/125\n",
            "2/2 [==============================] - 0s 28ms/step - loss: 4104.0483 - mse: 4097.5249 - val_loss: 3930.7410 - val_mse: 3924.2119\n",
            "Epoch 108/125\n",
            "2/2 [==============================] - 0s 30ms/step - loss: 4097.0566 - mse: 4090.5264 - val_loss: 3926.8572 - val_mse: 3920.3542\n",
            "Epoch 109/125\n",
            "2/2 [==============================] - 0s 45ms/step - loss: 4086.2612 - mse: 4079.7629 - val_loss: 3925.5674 - val_mse: 3919.0688\n",
            "Epoch 110/125\n",
            "2/2 [==============================] - 0s 45ms/step - loss: 4074.5298 - mse: 4068.0269 - val_loss: 3913.0342 - val_mse: 3906.5281\n",
            "Epoch 111/125\n",
            "2/2 [==============================] - 0s 29ms/step - loss: 4070.5864 - mse: 4064.0835 - val_loss: 3917.7180 - val_mse: 3911.2500\n",
            "Epoch 112/125\n",
            "2/2 [==============================] - 0s 29ms/step - loss: 4070.3896 - mse: 4063.9316 - val_loss: 3902.4512 - val_mse: 3895.9822\n",
            "Epoch 113/125\n",
            "2/2 [==============================] - 0s 27ms/step - loss: 4043.3931 - mse: 4036.9170 - val_loss: 3908.9048 - val_mse: 3902.4199\n",
            "Epoch 114/125\n",
            "2/2 [==============================] - 0s 28ms/step - loss: 4045.0527 - mse: 4038.5879 - val_loss: 3949.5212 - val_mse: 3943.1123\n",
            "Epoch 115/125\n",
            "2/2 [==============================] - 0s 29ms/step - loss: 4045.7366 - mse: 4039.3252 - val_loss: 3886.2561 - val_mse: 3879.8174\n",
            "Epoch 116/125\n",
            "2/2 [==============================] - 0s 31ms/step - loss: 4023.5039 - mse: 4017.0576 - val_loss: 3879.4426 - val_mse: 3873.0049\n",
            "Epoch 117/125\n",
            "2/2 [==============================] - 0s 27ms/step - loss: 4010.3149 - mse: 4003.8975 - val_loss: 3894.6538 - val_mse: 3888.2666\n",
            "Epoch 118/125\n",
            "2/2 [==============================] - 0s 29ms/step - loss: 4000.5908 - mse: 3994.1899 - val_loss: 3876.9800 - val_mse: 3870.5479\n",
            "Epoch 119/125\n",
            "2/2 [==============================] - 0s 32ms/step - loss: 3998.8936 - mse: 3992.4775 - val_loss: 3875.2222 - val_mse: 3868.8484\n",
            "Epoch 120/125\n",
            "2/2 [==============================] - 0s 30ms/step - loss: 3985.8687 - mse: 3979.4978 - val_loss: 3858.7351 - val_mse: 3852.3589\n",
            "Epoch 121/125\n",
            "2/2 [==============================] - 0s 27ms/step - loss: 3971.7751 - mse: 3965.3967 - val_loss: 3852.6284 - val_mse: 3846.2527\n",
            "Epoch 122/125\n",
            "2/2 [==============================] - 0s 30ms/step - loss: 3959.4319 - mse: 3953.0630 - val_loss: 3857.7705 - val_mse: 3851.4243\n",
            "Epoch 123/125\n",
            "2/2 [==============================] - 0s 49ms/step - loss: 3950.6462 - mse: 3944.3005 - val_loss: 3840.6941 - val_mse: 3834.3335\n",
            "Epoch 124/125\n",
            "2/2 [==============================] - 0s 28ms/step - loss: 3948.2803 - mse: 3941.9172 - val_loss: 3837.7371 - val_mse: 3831.4043\n",
            "Epoch 125/125\n",
            "2/2 [==============================] - 0s 33ms/step - loss: 3935.7612 - mse: 3929.4385 - val_loss: 3840.3367 - val_mse: 3834.0210\n",
            "1/1 [==============================] - 0s 20ms/step - loss: 60.8575 - mse: 54.0972\n",
            "MSE : 54.097\n"
          ]
        }
      ]
    },
    {
      "cell_type": "markdown",
      "source": [
        "**Plot Loss**"
      ],
      "metadata": {
        "id": "0gKPJsiHyVLU"
      }
    },
    {
      "cell_type": "code",
      "source": [
        "print(history.history.keys())\n",
        "# summarize history for accuracy\n",
        "plt.figure(figsize=(10, 8))                    \n",
        "plt.plot(history.history['loss'])             \n",
        "plt.plot(history.history['val_loss'])         \n",
        "\n",
        "# ploting validation loss \n",
        "plt.title('Training and Validation loss')\n",
        "plt.xlabel('Epochs')\n",
        "plt.ylabel('Loss')\n",
        "plt.legend(['train_loss', 'validation_loss'], loc='upper right')\n",
        "\n",
        "\n",
        "plt.show()"
      ],
      "metadata": {
        "colab": {
          "base_uri": "https://localhost:8080/",
          "height": 530
        },
        "id": "wFq3x0KhyYqF",
        "outputId": "717ae361-3a05-44bd-9d8a-84fa8eeb2b6c"
      },
      "execution_count": 13,
      "outputs": [
        {
          "output_type": "stream",
          "name": "stdout",
          "text": [
            "dict_keys(['loss', 'mse', 'val_loss', 'val_mse'])\n"
          ]
        },
        {
          "output_type": "display_data",
          "data": {
            "text/plain": [
              "<Figure size 720x576 with 1 Axes>"
            ],
            "image/png": "[encoded data removed]"
          },
          "metadata": {
            "needs_background": "light"
          }
        }
      ]
    },
    {
      "cell_type": "markdown",
      "source": [
        "**Accuracy**"
      ],
      "metadata": {
        "id": "3wKENSpYzIPY"
      }
    },
    {
      "cell_type": "code",
      "source": [
        "import numpy as np\n",
        "from sklearn.metrics import r2_score\n",
        "accu = r2_score(y_test, y_pred) # Pass appropriate parts of dataset\n",
        "print(\"Accuracy:\", accu)"
      ],
      "metadata": {
        "colab": {
          "base_uri": "https://localhost:8080/"
        },
        "id": "f1Ben1PUywB4",
        "outputId": "472c72c5-d1fc-4498-baab-f146ba25f1b5"
      },
      "execution_count": 14,
      "outputs": [
        {
          "output_type": "stream",
          "name": "stdout",
          "text": [
            "Accuracy: 0.9946813930330999\n"
          ]
        }
      ]
    }
  ]
}