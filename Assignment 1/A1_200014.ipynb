{
  "cells": [
    {
      "cell_type": "markdown",
      "metadata": {
        "id": "RB2d1J1f1CF7"
      },
      "source": [
        "### **Aim**  \n",
        "The motive of this assignment is to make predictions using **Linear Regression**. To make sure you truly understand how the underlying algorithm works, you are to implement it from scratch."
      ]
    },
    {
      "cell_type": "markdown",
      "metadata": {
        "id": "a_S80lf6H4Xv"
      },
      "source": [
        "### Generating the dataset  \n",
        "Run the cell below to create the dataset. It further splits the available data into training and testing. Please do not edit this cell.\n"
      ]
    },
    {
      "cell_type": "code",
      "execution_count": 1,
      "metadata": {
        "id": "yX0zqXcHIQHP"
      },
      "outputs": [],
      "source": [
        "from sklearn import datasets\n",
        "from sklearn.model_selection import train_test_split\n",
        "\n",
        "# Generate the data\n",
        "X, y = datasets.make_regression(n_samples=100, n_features=5, noise=20, random_state=4)\n",
        "\n",
        "# Split the data\n",
        "X_train, X_test, y_train, y_test = train_test_split(X, y, test_size=0.2, random_state=1234)"
      ]
    },
    {
      "cell_type": "code",
      "execution_count": 2,
      "metadata": {
        "colab": {
          "base_uri": "https://localhost:8080/"
        },
        "id": "RtfsiLS2lSNE",
        "outputId": "34abfc93-00ef-4d97-fe0b-bba7b379a3d5"
      },
      "outputs": [
        {
          "data": {
            "text/plain": [
              "(80, 5)"
            ]
          },
          "execution_count": 2,
          "metadata": {},
          "output_type": "execute_result"
        }
      ],
      "source": [
        "X_train.shape"
      ]
    },
    {
      "cell_type": "markdown",
      "metadata": {
        "id": "Zj4rrRXGJBXy"
      },
      "source": [
        "### Visualizing the data  \n",
        "Use `matplotlib` to visualize the given data."
      ]
    },
    {
      "cell_type": "code",
      "execution_count": 3,
      "metadata": {
        "colab": {
          "base_uri": "https://localhost:8080/",
          "height": 265
        },
        "id": "zxfi8dkBJOUi",
        "outputId": "36da82de-2237-4c7a-ef2f-d4c3af420e94"
      },
      "outputs": [
        {
          "data": {
            "image/png": "[encoded data removed]",
            "text/plain": [
              "<Figure size 432x288 with 1 Axes>"
            ]
          },
          "metadata": {
            "needs_background": "light"
          },
          "output_type": "display_data"
        }
      ],
      "source": [
        "import matplotlib.pyplot as plt\n",
        "\n",
        "# Variation of x columns with y.\n",
        "\n",
        "for i in range(1,5):\n",
        "  plt.scatter(X_train[:,i-1:i],y_train)\n",
        "\n",
        "\n",
        "\n",
        "# Your code here"
      ]
    },
    {
      "cell_type": "code",
      "execution_count": 4,
      "metadata": {
        "colab": {
          "base_uri": "https://localhost:8080/"
        },
        "id": "Uvu0DfOapTSr",
        "outputId": "b3a66cb0-e692-44fa-c031-4f4c7ef6a152"
      },
      "outputs": [
        {
          "data": {
            "text/plain": [
              "(80, 1)"
            ]
          },
          "execution_count": 4,
          "metadata": {},
          "output_type": "execute_result"
        }
      ],
      "source": [
        "import numpy as np\n",
        "# weight=np.random.rand((X_train.shape[1],1));\n",
        "# bias=np.ones((y_train.shape[0],y_train.shape[1]));\n",
        "\n",
        "weight=np.random.rand(X_train.shape[1],1);\n",
        "bias=np.random.rand(X_train.shape[0],1);\n",
        "bias.shape"
      ]
    },
    {
      "cell_type": "markdown",
      "metadata": {
        "id": "r7vndSBAJceF"
      },
      "source": [
        "You should be able to see the linear relations between `y` and the features in vector `X`."
      ]
    },
    {
      "cell_type": "markdown",
      "metadata": {
        "id": "b4I9Z3epNvBM"
      },
      "source": [
        "### Gradient Descent Review  \n",
        "1. ####  Cost function\n",
        "Define the `cost function` to measure the difference between predictions and target outputs. Here, we are working with first degree polynomial, so derivatives are easy to calculate. ( Linear function `y = wx +b` )  \n",
        "\n",
        "$$Error = \\frac{1}{N}\\sum_{i=1}^N (y_i - \\overline{y}_i)^2 = \\frac{1}{N}\\sum_{i=1}^N (y_i - (x_iw+b))^2 $$  \n",
        "\n",
        "  where `N` is the number of samples  \n",
        "    \n",
        "\n",
        "\n",
        "2. #### Compute the derivative\n",
        "$$\\frac{\\delta Error}{\\delta w} = \\frac{2}{N}\\sum_{i=1}^N -x_i(y_i -(m  x_i +b ))  $$\n",
        "$$\\frac{\\delta Error}{\\delta b} = \\frac{2}{N}\\sum_{i=1}^N -(y_i -(m  x_i +b ))  $$\n",
        "3. <h4>Update current parameters</h4>\n",
        "$$ w:= w- learning\\_rate \\cdot \\frac{\\delta Error}{\\delta w}   $$ \n",
        "$$ b:= b- learning\\_rate \\cdot \\frac{\\delta Error}{\\delta b}   $$ \n",
        "4. <h4>Repeat until it fits good enough</h4>\n"
      ]
    },
    {
      "cell_type": "markdown",
      "metadata": {
        "id": "kBtUcOVnJu-I"
      },
      "source": [
        "### Model definition\n",
        "\n",
        "Complete the functions in the class below. Hints provided at appropriate places."
      ]
    },
    {
      "cell_type": "code",
      "execution_count": 5,
      "metadata": {
        "id": "dGnFNPJx3I28"
      },
      "outputs": [],
      "source": [
        "import numpy as np\n",
        "\n",
        "class LinearRegression:\n",
        "\n",
        "    # The __init__ is called when we make any object of our class. Here, you are to specify the default values for \n",
        "    # Learning Rate, Number of Iterations, Weights and Biases. It doesn't return anything.\n",
        "    # Hint: Google what a `self pointer` is and figure out how it can be used here.\n",
        "    def __init__(self, learning_rate=0.001, n_iters=1000):\n",
        "        # Your code here\n",
        "\n",
        "        # self.weight=np.random.rand((X_train.shape[1],1));\n",
        "\n",
        "        # self.bias=np.ones((y_train.shape[0],y_train.shape[1]));\n",
        "\n",
        "        self.weight=np.random.rand(X_train.shape[1],1);\n",
        "        self.bias=np.random.rand(X_train.shape[0],1);\n",
        "\n",
        "\n",
        "\n",
        "\n",
        "          # Uncomment this when you're done with this function\n",
        "\n",
        "\n",
        "    # The following function would be the heart of the model. This is where the training would happen. \n",
        "    # You're supposed to iterate and keep on updating the weights and biases according to the steps of Gradient Descent.\n",
        "    def fit(self, x, y):\n",
        "        # Gradient Descent code goes here\n",
        "        \n",
        "        w=self.weight;\n",
        "        b=self.bias;\n",
        "\n",
        "        def CostFunction(x,y,w,b):\n",
        "          \n",
        "          cost = np.sum((((x.dot(weight) + bias) - y) ** 2) / (2*len(y)))\n",
        "          return cost\n",
        "        # For every iteration\n",
        "       \n",
        "        def GradientDescent(x, y, w, b, learning_rate, n_iters):\n",
        "           cost_list = [0] * n_iters\n",
        "           for epoch in range(n_iters):\n",
        "              z = x.dot(w) + b\n",
        "              loss = z - y\n",
        "              weight_gradient = x.T.dot(loss) / len(y)\n",
        "              bias_gradient = np.sum(loss) / len(y)\n",
        "              w = w - learning_rate*weight_gradient\n",
        "              b = b - learning_rate*bias_gradient\n",
        "              cost = CostFunction(x, y, w, b)\n",
        "              cost_list[epoch] = cost\n",
        "              \n",
        "           return w, b, cost_list\n",
        "\n",
        "\n",
        "\n",
        "        # Computing the gradient\n",
        "       # Uncomment this when you're done with this function\n",
        "        \n",
        "        \n",
        "    # This function will be called after our model has been trained and we are predicting on unseen data\n",
        "    # What is our prediction? Just return that\n",
        "    def predict(self, X):\n",
        "        # Code goes here\n",
        "\n",
        "        return  np.dot(X_train,self.weight)+ self.bias\n",
        "\n",
        "        pass  # Uncomment this when you're done with this function"
      ]
    },
    {
      "cell_type": "markdown",
      "metadata": {
        "id": "EvyInkTKPn7W"
      },
      "source": [
        "### Initializing, Training & Predictions"
      ]
    },
    {
      "cell_type": "code",
      "execution_count": 6,
      "metadata": {
        "id": "nvItUpAkHTiv"
      },
      "outputs": [],
      "source": [
        "# Now, we make an object of our custom class.\n",
        "regressor = LinearRegression() # You may pass the custom parameters or let the default values take it ahead\n",
        "\n",
        "# Call the fit method on the object to train (pass appropriate part of dataset)\n",
        "regressor.fit(X_train,y_train)\n",
        "\n",
        "# Now, let's see our what our model predicts\n",
        "predictions = regressor.predict(X_train) # pass appropriate part of dataset"
      ]
    },
    {
      "cell_type": "code",
      "execution_count": 32,
      "metadata": {
        "colab": {
          "base_uri": "https://localhost:8080/"
        },
        "id": "_-Ch0MWVweVE",
        "outputId": "5d40d134-6ea0-4c2c-e647-9cac5330edd3"
      },
      "outputs": [
        {
          "data": {
            "text/plain": [
              "(20,)"
            ]
          },
          "execution_count": 32,
          "metadata": {},
          "output_type": "execute_result"
        }
      ],
      "source": []
    },
    {
      "cell_type": "markdown",
      "metadata": {
        "id": "tzK6cq8eRD4Q"
      },
      "source": [
        "### Evaluate the model   \n",
        "\n",
        "Return [Mean Squared Error](https://en.wikipedia.org/wiki/Mean_squared_error) & [R2 Score](https://www.ncl.ac.uk/webtemplate/ask-assets/external/maths-resources/statistics/regression-and-correlation/coefficient-of-determination-r-squared.html#:~:text=%C2%AFy) from the functions below."
      ]
    },
    {
      "cell_type": "code",
      "execution_count": 7,
      "metadata": {
        "colab": {
          "base_uri": "https://localhost:8080/"
        },
        "id": "WqkrvDzcRF5m",
        "outputId": "d8ef6b33-68b9-490e-f097-98b641b271d2"
      },
      "outputs": [
        {
          "name": "stdout",
          "output_type": "stream",
          "text": [
            "MSE: 11550.865625513232\n",
            "Accuracy: 0.003021769072843905\n"
          ]
        }
      ],
      "source": [
        "def mean_squared_error(y_true, y_pred):\n",
        "       # return the mean squared error\n",
        "       from sklearn.metrics import mean_squared_error\n",
        "       \n",
        "       return mean_squared_error(y_true, y_pred)\n",
        "\n",
        "       pass  # Uncomment this when you're done with this function\n",
        "\n",
        "\n",
        "def r2_score(y_true, y_pred):\n",
        "      # return the r2 score\n",
        "      from sklearn.metrics import r2_score\n",
        "      return r2_score(y_true, y_pred)\n",
        "\n",
        "      return \n",
        "\n",
        "      pass  # Uncomment this when you're done with this function\n",
        "          \n",
        "\n",
        "mse = mean_squared_error(y_train,predictions) # Pass appropriate parts of dataset\n",
        "print(\"MSE:\", mse)\n",
        "\n",
        "accu = r2_score(y_train,predictions) # Pass appropriate parts of dataset\n",
        "print(\"Accuracy:\", accu)"
      ]
    },
    {
      "cell_type": "code",
      "execution_count": null,
      "metadata": {
        "id": "rbXiKeW7wGs7"
      },
      "outputs": [],
      "source": []
    }
  ],
  "metadata": {
    "colab": {
      "collapsed_sections": [],
      "name": "Copy of CV with TF: Assignment 1.ipynb",
      "provenance": []
    },
    "interpreter": {
      "hash": "d32dd9972e4becc079854756227bbaf57600491c52d25499cfd0dde1c0f41dcc"
    },
    "kernelspec": {
      "display_name": "Python 3.9.6 64-bit",
      "language": "python",
      "name": "python3"
    },
    "language_info": {
      "codemirror_mode": {
        "name": "ipython",
        "version": 3
      },
      "file_extension": ".py",
      "mimetype": "text/x-python",
      "name": "python",
      "nbconvert_exporter": "python",
      "pygments_lexer": "ipython3",
      "version": "3.9.6"
    }
  },
  "nbformat": 4,
  "nbformat_minor": 0
}
