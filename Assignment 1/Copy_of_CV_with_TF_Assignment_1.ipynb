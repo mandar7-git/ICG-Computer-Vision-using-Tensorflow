{
  "nbformat": 4,
  "nbformat_minor": 0,
  "metadata": {
    "colab": {
      "name": "Copy of CV with TF: Assignment 1.ipynb",
      "provenance": [],
      "collapsed_sections": []
    },
    "kernelspec": {
      "name": "python3",
      "display_name": "Python 3"
    },
    "language_info": {
      "name": "python"
    }
  },
  "cells": [
    {
      "cell_type": "markdown",
      "source": [
        "### **Aim**  \n",
        "The motive of this assignment is to make predictions using **Linear Regression**. To make sure you truly understand how the underlying algorithm works, you are to implement it from scratch."
      ],
      "metadata": {
        "id": "RB2d1J1f1CF7"
      }
    },
    {
      "cell_type": "markdown",
      "source": [
        "### Generating the dataset  \n",
        "Run the cell below to create the dataset. It further splits the available data into training and testing. Please do not edit this cell.\n"
      ],
      "metadata": {
        "id": "a_S80lf6H4Xv"
      }
    },
    {
      "cell_type": "code",
      "source": [
        "from sklearn import datasets\n",
        "from sklearn.model_selection import train_test_split\n",
        "\n",
        "# Generate the data\n",
        "X, y = datasets.make_regression(n_samples=100, n_features=5, noise=20, random_state=4)\n",
        "\n",
        "# Split the data\n",
        "X_train, X_test, y_train, y_test = train_test_split(X, y, test_size=0.2, random_state=1234)"
      ],
      "metadata": {
        "id": "yX0zqXcHIQHP"
      },
      "execution_count": 2,
      "outputs": []
    },
    {
      "cell_type": "code",
      "source": [
        "X_test\n",
        "y"
      ],
      "metadata": {
        "colab": {
          "base_uri": "https://localhost:8080/"
        },
        "id": "aj5H6pjUxLLR",
        "outputId": "f2cf1d44-e854-410d-cdb8-9f980e3961f6"
      },
      "execution_count": 29,
      "outputs": [
        {
          "output_type": "execute_result",
          "data": {
            "text/plain": [
              "array([ 8.33448457e+01,  4.77539837e+01,  2.66352862e-02,  1.22690761e+02,\n",
              "       -5.77153801e+00, -1.56483934e+02, -5.52555366e+01,  3.07987684e+01,\n",
              "       -1.69940639e+01, -5.63502574e+01, -1.84431633e+02,  8.56011139e+01,\n",
              "        1.36489172e+02, -1.67194108e+02,  1.73261512e+01,  6.74504234e+01,\n",
              "       -4.84580304e+01,  2.96788589e+01, -1.73274522e+02, -6.66296333e+01,\n",
              "       -7.81136180e+00, -7.94210842e+01, -1.20995302e+02,  1.78426827e+02,\n",
              "        1.03430635e+02,  4.09960819e+01,  9.39541011e+01,  3.65984129e+01,\n",
              "       -2.61832451e+02, -1.17161342e+02, -4.19224399e+01, -4.50040488e+01,\n",
              "        2.53143963e+02,  5.20236362e+01,  1.72631259e+02, -1.27731305e+02,\n",
              "        1.50482514e+02,  1.12275673e+02,  1.15330813e+02, -1.44509355e+02,\n",
              "        2.31529871e+02,  1.08328931e+02,  1.72296449e+02,  6.20762708e+01,\n",
              "        1.00973347e+00,  8.65118988e+01, -1.40008967e+02,  1.77600209e+01,\n",
              "        9.59100985e+01,  8.72167836e+01, -1.44507264e+02,  1.56001491e+02,\n",
              "        7.60500665e+01, -1.01968886e+02,  1.08758569e+02, -2.31018977e+00,\n",
              "        6.26299057e+01,  5.26754527e+01, -8.36215419e-01,  1.50913373e+02,\n",
              "       -2.35805794e+02, -1.14560849e+02,  1.48815661e+02,  2.44817991e+01,\n",
              "        2.04981579e+02, -5.70746631e+01,  7.12743541e+01, -2.94297118e+01,\n",
              "       -4.63723945e+01,  8.44129111e+01,  2.67384657e+01,  7.81361025e+01,\n",
              "        4.63116755e+01,  1.27863697e+01, -1.68624433e+01, -2.02564843e+02,\n",
              "       -9.57021723e+00, -2.15833132e+01, -6.26388866e+01, -2.03232407e+01,\n",
              "        1.68881719e+02,  8.20351218e+01, -7.62852695e+01, -5.55346942e+01,\n",
              "        1.36780517e+02,  1.71455802e+01,  1.12307656e+01,  7.63859825e+01,\n",
              "        7.19825174e+01, -8.71517113e+01,  1.28122197e+00,  6.07361008e+01,\n",
              "       -8.58007294e+01, -2.70340355e+01,  7.75179056e+01,  5.67873844e+01,\n",
              "        1.95319720e+02,  2.32659550e+02, -4.09450655e+01,  4.58748406e+01])"
            ]
          },
          "metadata": {},
          "execution_count": 29
        }
      ]
    },
    {
      "cell_type": "code",
      "source": [
        "y_test"
      ],
      "metadata": {
        "colab": {
          "base_uri": "https://localhost:8080/"
        },
        "id": "7aJDVW2Zeuzx",
        "outputId": "b6a1bd87-f475-4d64-fcce-f9d0134e3243"
      },
      "execution_count": 3,
      "outputs": [
        {
          "output_type": "execute_result",
          "data": {
            "text/plain": [
              "array([ 231.52987097, -127.73130463,   82.03512178, -114.56084875,\n",
              "        -40.94506552,  -46.3723945 ,   17.14558018,   36.59841286,\n",
              "       -144.50935547,  172.29644855,   52.02363624,  150.91337265,\n",
              "         24.4817991 ,   77.51790564,   62.62990566,   76.3859825 ,\n",
              "        195.3197199 ,   47.75398372,   78.13610249,  -76.28526953])"
            ]
          },
          "metadata": {},
          "execution_count": 3
        }
      ]
    },
    {
      "cell_type": "code",
      "source": [
        "print(len(X[0]))\n",
        "print(y.shape[0])\n",
        "len(X)"
      ],
      "metadata": {
        "colab": {
          "base_uri": "https://localhost:8080/"
        },
        "id": "HOq0mL8Slqd0",
        "outputId": "43af1113-99ea-43ac-e876-89808c5b4649"
      },
      "execution_count": 33,
      "outputs": [
        {
          "output_type": "stream",
          "name": "stdout",
          "text": [
            "5\n",
            "100\n"
          ]
        },
        {
          "output_type": "execute_result",
          "data": {
            "text/plain": [
              "100"
            ]
          },
          "metadata": {},
          "execution_count": 33
        }
      ]
    },
    {
      "cell_type": "markdown",
      "source": [
        "### Visualizing the data  \n",
        "Use `matplotlib` to visualize the given data."
      ],
      "metadata": {
        "id": "Zj4rrRXGJBXy"
      }
    },
    {
      "cell_type": "code",
      "source": [
        "X_test[0,1]\n"
      ],
      "metadata": {
        "colab": {
          "base_uri": "https://localhost:8080/"
        },
        "id": "Ucz7tt0w2BJV",
        "outputId": "af4c9a71-cab4-400d-8b9d-30e58f01b3ab"
      },
      "execution_count": 4,
      "outputs": [
        {
          "output_type": "execute_result",
          "data": {
            "text/plain": [
              "1.9378714030365307"
            ]
          },
          "metadata": {},
          "execution_count": 4
        }
      ]
    },
    {
      "cell_type": "code",
      "source": [
        "import matplotlib.pyplot as plt\n",
        "\n",
        "# Your code here\n",
        "plt.plot(X_test[0:,0],y_test,'o')\n",
        "plt.show()\n",
        "plt.plot(X_test[0:,1],y_test,'o')\n",
        "plt.show()\n",
        "plt.plot(X_test[0:,2],y_test,'o')\n",
        "plt.show()\n",
        "plt.plot(X_test[0:,3],y_test,'o')\n",
        "plt.show()\n",
        "plt.plot(X_test[0:,4],y_test,'o')\n",
        "plt.show()"
      ],
      "metadata": {
        "id": "zxfi8dkBJOUi",
        "colab": {
          "base_uri": "https://localhost:8080/",
          "height": 1000
        },
        "outputId": "7895054b-02fe-4f55-9af3-c3299f72552e"
      },
      "execution_count": 5,
      "outputs": [
        {
          "output_type": "display_data",
          "data": {
            "text/plain": [
              "<Figure size 432x288 with 1 Axes>"
            ],
            "image/png": "[encoded data removed]"
          },
          "metadata": {
            "needs_background": "light"
          }
        },
        {
          "output_type": "display_data",
          "data": {
            "text/plain": [
              "<Figure size 432x288 with 1 Axes>"
            ],
            "image/png": "[encoded data removed]"
          },
          "metadata": {
            "needs_background": "light"
          }
        },
        {
          "output_type": "display_data",
          "data": {
            "text/plain": [
              "<Figure size 432x288 with 1 Axes>"
            ],
            "image/png": "[encoded data removed]"
          },
          "metadata": {
            "needs_background": "light"
          }
        },
        {
          "output_type": "display_data",
          "data": {
            "text/plain": [
              "<Figure size 432x288 with 1 Axes>"
            ],
            "image/png": "[encoded data removed]"
          },
          "metadata": {
            "needs_background": "light"
          }
        },
        {
          "output_type": "display_data",
          "data": {
            "text/plain": [
              "<Figure size 432x288 with 1 Axes>"
            ],
            "image/png": "[encoded data removed]"
          },
          "metadata": {
            "needs_background": "light"
          }
        }
      ]
    },
    {
      "cell_type": "markdown",
      "source": [
        "You should be able to see the linear relations between `y` and the features in vector `X`."
      ],
      "metadata": {
        "id": "r7vndSBAJceF"
      }
    },
    {
      "cell_type": "markdown",
      "source": [
        "### Gradient Descent Review  \n",
        "1. ####  Cost function\n",
        "Define the `cost function` to measure the difference between predictions and target outputs. Here, we are working with first degree polynomial, so derivatives are easy to calculate. ( Linear function `y = wx +b` )  \n",
        "\n",
        "$$Error = \\frac{1}{N}\\sum_{i=1}^N (y_i - \\overline{y}_i)^2 = \\frac{1}{N}\\sum_{i=1}^N (y_i - (x_iw+b))^2 $$  \n",
        "\n",
        "  where `N` is the number of samples  \n",
        "    \n",
        "\n",
        "\n",
        "2. #### Compute the derivative\n",
        "$$\\frac{\\delta Error}{\\delta w} = \\frac{2}{N}\\sum_{i=1}^N -x_i(y_i -(m  x_i +b ))  $$\n",
        "$$\\frac{\\delta Error}{\\delta b} = \\frac{2}{N}\\sum_{i=1}^N -(y_i -(m  x_i +b ))  $$\n",
        "3. <h4>Update current parameters</h4>\n",
        "$$ w:= w- learning\\_rate \\cdot \\frac{\\delta Error}{\\delta w}   $$ \n",
        "$$ b:= b- learning\\_rate \\cdot \\frac{\\delta Error}{\\delta b}   $$ \n",
        "4. <h4>Repeat until it fits good enough</h4>\n"
      ],
      "metadata": {
        "id": "b4I9Z3epNvBM"
      }
    },
    {
      "cell_type": "markdown",
      "source": [
        "### Model definition\n",
        "\n",
        "Complete the functions in the class below. Hints provided at appropriate places."
      ],
      "metadata": {
        "id": "kBtUcOVnJu-I"
      }
    },
    {
      "cell_type": "code",
      "source": [
        "import numpy as np\n",
        "\n",
        "class LinearRegression:\n",
        "\n",
        "    # The __init__ is called when we make any object of our class. Here, you are to specify the default values for \n",
        "    # Learning Rate, Number of Iterations, Weights and Biases. It doesn't return anything.\n",
        "    # Hint: Google what a `self pointer` is and figure out how it can be used here.\n",
        "    def __init__(self, learning_rate=0.001,n_iters=1000,weights=np.random.randn(5,1),bias=0):\n",
        "            self.learning_rate=learning_rate\n",
        "            self.n_iters=n_iters\n",
        "            self.weights=np.random.randn(5,1)\n",
        "            self.bias=bias\n",
        "    pass  \n",
        "\n",
        "    # The following function would be the heart of the model. This is where the training would happen. \n",
        "    # You're supposed to iterate and keep on updating the weights and biases according to the steps of Gradient Descent.\n",
        "    def fit(self, X, y):\n",
        "      for i in range(1,self.n_iters+1):\n",
        "        y1=np.dot(X,self.weights)+self.bias\n",
        "        m=y.shape[0]\n",
        "        #J=(1/(2*m))*np.sum(np.square(y1-y))\n",
        "        dy1=(1/m)*(y1-y)\n",
        "        dw=np.dot(X.T,dy1)\n",
        "        db=np.sum(dy1)\n",
        "        self.weights=self.weights-self.learning_rate*dw\n",
        "        self.bias=self.bias-self.learning_rate*db\n",
        "        # Gradient Descent code goes here\n",
        "\n",
        "    pass  \n",
        "        \n",
        "        \n",
        "    # This function will be called after our model has been trained and we are predicting on unseen data\n",
        "    # What is our prediction? Just return that\n",
        "    def predict(self, X):\n",
        "      return np.dot(X,self.weights)+self.bias\n",
        "        # Code goes here\n",
        "    pass      "
      ],
      "metadata": {
        "id": "dGnFNPJx3I28"
      },
      "execution_count": 50,
      "outputs": []
    },
    {
      "cell_type": "markdown",
      "source": [
        "### Initializing, Training & Predictions"
      ],
      "metadata": {
        "id": "EvyInkTKPn7W"
      }
    },
    {
      "cell_type": "code",
      "source": [
        "# Now, we make an object of our custom class.\n",
        "regressor = LinearRegression() # You may pass the custom parameters or let the default values take it ahead\n",
        "regressor.fit(X_train,y_train)\n",
        "# Call the fit method on the object to train (pass appropriate part of dataset)\n",
        "\n",
        "\n",
        "# Now, let's see our what our model predicts\n",
        "predictions = regressor.predict(X_test)\n",
        "y_pred=predictions\n",
        "print(y_pred)\n",
        "y_pred.shape[0]"
      ],
      "metadata": {
        "id": "nvItUpAkHTiv",
        "colab": {
          "base_uri": "https://localhost:8080/"
        },
        "outputId": "1e135f84-cdff-4c9b-b9a4-6664141384ac"
      },
      "execution_count": 57,
      "outputs": [
        {
          "output_type": "stream",
          "name": "stdout",
          "text": [
            "[[  8.91022182  19.54019162   5.86612168 ...  17.50428616   8.95104754\n",
            "   12.62005716]\n",
            " [ 29.42141132 -18.71768331  43.20698434 ...  -9.49784097  29.23652715\n",
            "   12.62097656]\n",
            " [ 22.49812955  -5.23890449  30.44117275 ...   0.07343224  22.39160203\n",
            "   12.81796763]\n",
            " ...\n",
            " [  7.95690914  26.19384207   2.73440605 ...  22.70101264   8.02695035\n",
            "   14.32155734]\n",
            " [ 10.01283856  19.03428328   7.42937109 ...  17.30645066  10.04748654\n",
            "   13.16130229]\n",
            " [ 22.34731709   0.94238103  28.47703996 ...   5.04196241  22.26510878\n",
            "   14.87704299]]\n"
          ]
        },
        {
          "output_type": "execute_result",
          "data": {
            "text/plain": [
              "20"
            ]
          },
          "metadata": {},
          "execution_count": 57
        }
      ]
    },
    {
      "cell_type": "markdown",
      "source": [
        "### Evaluate the model   \n",
        "\n",
        "Return [Mean Squared Error](https://en.wikipedia.org/wiki/Mean_squared_error) & [R2 Score](https://www.ncl.ac.uk/webtemplate/ask-assets/external/maths-resources/statistics/regression-and-correlation/coefficient-of-determination-r-squared.html#:~:text=%C2%AFy) from the functions below."
      ],
      "metadata": {
        "id": "tzK6cq8eRD4Q"
      }
    },
    {
      "cell_type": "code",
      "source": [
        "def mean_squared_error(y_true, y_pred):\n",
        "  return np.mean(np.square(np.subtract(y_true,y_pred)))\n",
        "       # return the mean squared error\n",
        "pass  # Uncomment this when you're done with this function\n",
        "\n",
        "\n",
        "def r2_score(y_true, y_pred):\n",
        "   return 1-((np.sum(np.square(y_true-y_pred)))/(np.sum(np.square(y_true-(np.mean(y_true))))))\n",
        "      # return the r2 score\n",
        "pass  # Uncomment this when you're done with this function\n",
        "          \n",
        "\n",
        "mse = mean_squared_error(y_test,y_pred) # Pass appropriate parts of dataset\n",
        "print(\"MSE:\", mse)\n",
        "\n",
        "accu = r2_score(y_test,y_pred) # Pass appropriate parts of dataset\n",
        "print(\"Accuracy:\", accu)"
      ],
      "metadata": {
        "id": "WqkrvDzcRF5m",
        "colab": {
          "base_uri": "https://localhost:8080/"
        },
        "outputId": "7590f4fb-e8c0-4e99-8100-9ea2b86e1206"
      },
      "execution_count": 58,
      "outputs": [
        {
          "output_type": "stream",
          "name": "stdout",
          "text": [
            "MSE: 1.3361849775399093\n",
            "Accuracy: 0.9941399586591607\n"
          ]
        }
      ]
    }
  ]
}