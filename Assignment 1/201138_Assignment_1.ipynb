{
  "nbformat": 4,
  "nbformat_minor": 0,
  "metadata": {
    "colab": {
      "name": "[SELF] CV with TF: Assignment 1.ipynb",
      "provenance": [],
      "collapsed_sections": []
    },
    "kernelspec": {
      "name": "python3",
      "display_name": "Python 3"
    },
    "language_info": {
      "name": "python"
    }
  },
  "cells": [
    {
      "cell_type": "markdown",
      "source": [
        "### **Aim**  \n",
        "The motive of this assignment is to make predictions using **Linear Regression**. To make sure you truly understand how the underlying algorithm works, you are to implement it from scratch."
      ],
      "metadata": {
        "id": "RB2d1J1f1CF7"
      }
    },
    {
      "cell_type": "markdown",
      "source": [
        "### Generating the dataset  \n",
        "Run the cell below to create the dataset. It further splits the available data into training and testing. Please do not edit this cell.\n"
      ],
      "metadata": {
        "id": "a_S80lf6H4Xv"
      }
    },
    {
      "cell_type": "code",
      "source": [
        "from sklearn import datasets\n",
        "from sklearn.model_selection import train_test_split\n",
        "\n",
        "# Generate the data\n",
        "X, y = datasets.make_regression(n_samples=100, n_features=5, noise=20, random_state=4)\n",
        "\n",
        "# Split the data\n",
        "X_train, X_test, y_train, y_test = train_test_split(X, y, test_size=0.2, random_state=1234)"
      ],
      "metadata": {
        "id": "yX0zqXcHIQHP"
      },
      "execution_count": 40,
      "outputs": []
    },
    {
      "cell_type": "markdown",
      "source": [
        "### Visualizing the data  \n",
        "Use `matplotlib` to visualize the given data."
      ],
      "metadata": {
        "id": "Zj4rrRXGJBXy"
      }
    },
    {
      "cell_type": "code",
      "source": [
        "import matplotlib.pyplot as plt\n",
        "plt.subplot(2, 3, 1)\n",
        "plt.scatter(X[:,0], y, c ='blue')\n",
        "plt.subplot(2, 3, 2)\n",
        "plt.scatter(X[:,1], y, c ='green')\n",
        "plt.subplot(2, 3, 3)\n",
        "plt.scatter(X[:,2], y, c ='red')\n",
        "plt.subplot(2, 3, 4)\n",
        "plt.scatter(X[:,3], y, c ='violet')\n",
        "plt.subplot(2, 3, 5)\n",
        "plt.scatter(X[:,4], y, c ='black')\n",
        "plt.show()\n"
      ],
      "metadata": {
        "id": "zxfi8dkBJOUi",
        "colab": {
          "base_uri": "https://localhost:8080/",
          "height": 265
        },
        "outputId": "3a1b4f4d-9b9e-457a-d64d-e2f6b33feb23"
      },
      "execution_count": 41,
      "outputs": [
        {
          "output_type": "display_data",
          "data": {
            "text/plain": [
              "<Figure size 432x288 with 5 Axes>"
            ],
            "image/png": "[encoded data removed]"
          },
          "metadata": {
            "needs_background": "light"
          }
        }
      ]
    },
    {
      "cell_type": "markdown",
      "source": [
        "You should be able to see the linear relations between `y` and the features in vector `X`."
      ],
      "metadata": {
        "id": "r7vndSBAJceF"
      }
    },
    {
      "cell_type": "markdown",
      "source": [
        "### Gradient Descent Review  \n",
        "1. ####  Cost function\n",
        "Define the `cost function` to measure the difference between predictions and target outputs. Here, we are working with first degree polynomial, so derivatives are easy to calculate. ( Linear function `y = wx +b` )  \n",
        "\n",
        "$$Error = \\frac{1}{N}\\sum_{i=1}^N (y_i - \\overline{y}_i)^2 = \\frac{1}{N}\\sum_{i=1}^N (y_i - (x_iw+b))^2 $$  \n",
        "\n",
        "  where `N` is the number of samples  \n",
        "    \n",
        "\n",
        "\n",
        "2. #### Compute the derivative\n",
        "$$\\frac{\\delta Error}{\\delta w} = \\frac{2}{N}\\sum_{i=1}^N -x_i(y_i -(m  x_i +b ))  $$\n",
        "$$\\frac{\\delta Error}{\\delta b} = \\frac{2}{N}\\sum_{i=1}^N -(y_i -(m  x_i +b ))  $$\n",
        "3. <h4>Update current parameters</h4>\n",
        "$$ w:= w- learning\\_rate \\cdot \\frac{\\delta Error}{\\delta w}   $$ \n",
        "$$ b:= b- learning\\_rate \\cdot \\frac{\\delta Error}{\\delta b}   $$ \n",
        "4. <h4>Repeat until it fits good enough</h4>\n"
      ],
      "metadata": {
        "id": "b4I9Z3epNvBM"
      }
    },
    {
      "cell_type": "markdown",
      "source": [
        "### Model definition\n",
        "\n",
        "Complete the functions in the class below. Hints provided at appropriate places."
      ],
      "metadata": {
        "id": "kBtUcOVnJu-I"
      }
    },
    {
      "cell_type": "code",
      "source": [
        "import numpy as np\n",
        "\n",
        "class LinearRegression:\n",
        "    def __init__(self, learning_rate=0.001, n_iters=1000):\n",
        "        # Your code here\n",
        "        self.lr = learning_rate\n",
        "        self.n_iters = n_iters\n",
        "        self.bias = None\n",
        "        self.weights = None\n",
        "   \n",
        "\n",
        "    def fit(self, X, y):\n",
        "        n_samples, n_features = X.shape\n",
        "        self.bias = 0\n",
        "        self.weights = np.zeros(n_features)\n",
        "\n",
        "        for _ in range(self.n_iters): \n",
        "            y_predicted = np.dot(X, self.weights) + self.bias\n",
        "            # computing the gradient \n",
        "            dw = (-2 / n_samples) * np.dot(X.T, (-y_predicted + y))\n",
        "            db = (-2 / n_samples) * np.sum(-y_predicted + y)\n",
        "            # update the current parameters\n",
        "            self.weights -= self.lr * dw\n",
        "            self.bias -= self.lr * db\n",
        "    \n",
        "        \n",
        "    def predict(self, X):\n",
        "        # Code goes here\n",
        "         linear_model = np.dot(X, self.weights) + self.bias\n",
        "         return linear_model\n",
        "\n"
      ],
      "metadata": {
        "id": "dGnFNPJx3I28"
      },
      "execution_count": 51,
      "outputs": []
    },
    {
      "cell_type": "markdown",
      "source": [
        "### Initializing, Training & Predictions"
      ],
      "metadata": {
        "id": "EvyInkTKPn7W"
      }
    },
    {
      "cell_type": "code",
      "source": [
        "# Now, we make an object of our custom class.\n",
        "regressor = LinearRegression() \n",
        "\n",
        "# Call the fit method on the object to train \n",
        "regressor.fit(X_train,y_train)\n",
        "\n",
        "# Now, let's see our what our model predicts\n",
        "predictions = regressor.predict(X_test)"
      ],
      "metadata": {
        "id": "nvItUpAkHTiv"
      },
      "execution_count": 52,
      "outputs": []
    },
    {
      "cell_type": "markdown",
      "source": [
        "### Evaluate the model   \n",
        "\n",
        "Return [Mean Squared Error](https://en.wikipedia.org/wiki/Mean_squared_error) & [R2 Score](https://www.ncl.ac.uk/webtemplate/ask-assets/external/maths-resources/statistics/regression-and-correlation/coefficient-of-determination-r-squared.html#:~:text=%C2%AFy) from the functions below."
      ],
      "metadata": {
        "id": "tzK6cq8eRD4Q"
      }
    },
    {
      "cell_type": "code",
      "source": [
        "def mean_squared_error(y_true, y_pred):\n",
        "       sum=0\n",
        "       m_sample = len(y_true)\n",
        "       diff = y_true-y_pred;\n",
        "       mse = (1/m_sample)*(np.sum(np.multiply(diff, diff)))\n",
        "       return mse \n",
        "\n",
        "\n",
        "\n",
        "def r2_score(y_true, y_pred):\n",
        "       ssr=0\n",
        "       sst=0\n",
        "       y_mean=0\n",
        "       m_sample = len(y_true)\n",
        "       diff1 = y_true-y_pred;\n",
        "       diff2 = y_true -y_mean\n",
        "       y_mean = np.mean(y_true)\n",
        "       ssr = np.sum(np.multiply(diff1,diff1))\n",
        "       sst=np.sum(np.multiply(diff2,diff2))\n",
        "       r2 = 1-(ssr/sst)\n",
        "       return r2\n",
        "mse = mean_squared_error(y_test,predictions)\n",
        "print(\"MSE:\", mse)\n",
        "\n",
        "accu = r2_score(y_test,predictions)\n",
        "print(\"Accuracy:\", accu)"
      ],
      "metadata": {
        "id": "WqkrvDzcRF5m",
        "colab": {
          "base_uri": "https://localhost:8080/"
        },
        "outputId": "614def5d-732d-42a8-d625-2d4787390e79"
      },
      "execution_count": 53,
      "outputs": [
        {
          "output_type": "stream",
          "name": "stdout",
          "text": [
            "MSE: 659.4416574156699\n",
            "Accuracy: 0.9450480374102799\n"
          ]
        }
      ]
    }
  ]
}