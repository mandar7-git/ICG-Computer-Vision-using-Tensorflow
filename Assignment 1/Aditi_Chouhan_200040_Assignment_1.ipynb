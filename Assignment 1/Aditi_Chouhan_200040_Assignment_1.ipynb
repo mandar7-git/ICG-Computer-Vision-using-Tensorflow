{
  "nbformat": 4,
  "nbformat_minor": 0,
  "metadata": {
    "colab": {
      "name": "Aditi_Chouhan_200040_Assignment 1.ipynb",
      "provenance": [],
      "collapsed_sections": []
    },
    "kernelspec": {
      "name": "python3",
      "display_name": "Python 3"
    },
    "language_info": {
      "name": "python"
    }
  },
  "cells": [
    {
      "cell_type": "markdown",
      "source": [
        "### **Aim**  \n",
        "The motive of this assignment is to make predictions using **Linear Regression**. To make sure you truly understand how the underlying algorithm works, you are to implement it from scratch."
      ],
      "metadata": {
        "id": "RB2d1J1f1CF7"
      }
    },
    {
      "cell_type": "markdown",
      "source": [
        "### Generating the dataset  \n",
        "Run the cell below to create the dataset. It further splits the available data into training and testing. Please do not edit this cell.\n"
      ],
      "metadata": {
        "id": "a_S80lf6H4Xv"
      }
    },
    {
      "cell_type": "code",
      "source": [
        "from sklearn import datasets\n",
        "from sklearn.model_selection import train_test_split\n",
        "\n",
        "# Generate the data\n",
        "X, y = datasets.make_regression(n_samples=100, n_features=5, noise=20, random_state=4)\n",
        "\n",
        "# Split the data\n",
        "X_train, X_test, y_train, y_test = train_test_split(X, y, test_size=0.2, random_state=1234)"
      ],
      "metadata": {
        "id": "yX0zqXcHIQHP"
      },
      "execution_count": 1,
      "outputs": []
    },
    {
      "cell_type": "markdown",
      "source": [
        "### Visualizing the data  \n",
        "Use `matplotlib` to visualize the given data."
      ],
      "metadata": {
        "id": "Zj4rrRXGJBXy"
      }
    },
    {
      "cell_type": "code",
      "source": [
        "X_train.shape"
      ],
      "metadata": {
        "colab": {
          "base_uri": "https://localhost:8080/"
        },
        "id": "wrKv1oIVpQNj",
        "outputId": "9d1e1b34-0e53-496e-af6b-5bb3e74245a6"
      },
      "execution_count": 8,
      "outputs": [
        {
          "output_type": "execute_result",
          "data": {
            "text/plain": [
              "(80, 5)"
            ]
          },
          "metadata": {},
          "execution_count": 8
        }
      ]
    },
    {
      "cell_type": "code",
      "source": [
        "import matplotlib.pyplot as plt\n",
        "\n",
        "plt.subplot(5,1,1)\n",
        "plt.scatter(X[:,0],y)\n",
        "plt.title(\"Feature 1\")\n",
        "\n",
        "plt.subplot(5,1,2)\n",
        "plt.scatter(X[:,1],y)\n",
        "plt.title(\"Feature 2\")\n",
        "\n",
        "plt.subplot(5,1,3)\n",
        "plt.scatter(X[:,2],y)\n",
        "plt.title(\"Feature 3\")\n",
        "\n",
        "plt.subplot(5,1,4)\n",
        "plt.scatter(X[:,3],y)\n",
        "plt.title(\"Feature 4\")\n",
        "\n",
        "plt.subplot(5,1,5)\n",
        "plt.scatter(X[:,4],y)\n",
        "plt.title(\"Feature 5\")\n",
        "\n",
        "plt.show()\n",
        "# Your code here"
      ],
      "metadata": {
        "id": "zxfi8dkBJOUi",
        "colab": {
          "base_uri": "https://localhost:8080/",
          "height": 101
        },
        "outputId": "600b2864-4248-4f3c-929f-8a3e646b3433"
      },
      "execution_count": 64,
      "outputs": [
        {
          "output_type": "display_data",
          "data": {
            "text/plain": [
              "<Figure size 432x288 with 1 Axes>"
            ],
            "image/png": "[encoded data removed]"
          },
          "metadata": {
            "needs_background": "light"
          }
        }
      ]
    },
    {
      "cell_type": "markdown",
      "source": [
        "You should be able to see the linear relations between `y` and the features in vector `X`."
      ],
      "metadata": {
        "id": "r7vndSBAJceF"
      }
    },
    {
      "cell_type": "markdown",
      "source": [
        "### Gradient Descent Review  \n",
        "1. ####  Cost function\n",
        "Define the `cost function` to measure the difference between predictions and target outputs. Here, we are working with first degree polynomial, so derivatives are easy to calculate. ( Linear function `y = wx +b` )  \n",
        "\n",
        "$$Error = \\frac{1}{N}\\sum_{i=1}^N (y_i - \\overline{y}_i)^2 = \\frac{1}{N}\\sum_{i=1}^N (y_i - (x_iw+b))^2 $$  \n",
        "\n",
        "  where `N` is the number of samples  \n",
        "    \n",
        "\n",
        "\n",
        "2. #### Compute the derivative\n",
        "$$\\frac{\\delta Error}{\\delta w} = \\frac{2}{N}\\sum_{i=1}^N -x_i(y_i -(m  x_i +b ))  $$\n",
        "$$\\frac{\\delta Error}{\\delta b} = \\frac{2}{N}\\sum_{i=1}^N -(y_i -(m  x_i +b ))  $$\n",
        "3. <h4>Update current parameters</h4>\n",
        "$$ w:= w- learning\\_rate \\cdot \\frac{\\delta Error}{\\delta w}   $$ \n",
        "$$ b:= b- learning\\_rate \\cdot \\frac{\\delta Error}{\\delta b}   $$ \n",
        "4. <h4>Repeat until it fits good enough</h4>\n"
      ],
      "metadata": {
        "id": "b4I9Z3epNvBM"
      }
    },
    {
      "cell_type": "markdown",
      "source": [
        "### Model definition\n",
        "\n",
        "Complete the functions in the class below. Hints provided at appropriate places."
      ],
      "metadata": {
        "id": "kBtUcOVnJu-I"
      }
    },
    {
      "cell_type": "code",
      "source": [
        "import numpy as np\n",
        "\n",
        "class LinearRegression:\n",
        "\n",
        "    # The __init__ is called when we make any object of our class. Here, you are to specify the default values for \n",
        "    # Learning Rate, Number of Iterations, Weights and Biases. It doesn't return anything.\n",
        "    # Hint: Google what a `self pointer` is and figure out how it can be used here.\n",
        "    def __init__(self, learning_rate=0.01, n_iters=10000):\n",
        "        # Your code here\n",
        "        self.learn = learning_rate;\n",
        "        self.iter = n_iters;\n",
        "        self.w = np.random.random(X_train.shape[1]);\n",
        "        self.b = 0;\n",
        "        \n",
        "        # pass  # Uncomment this when you're done with this function\n",
        "\n",
        "\n",
        "    # The following function would be the heart of the model. This is where the training would happen. \n",
        "    # You're supposed to iterate and keep on updating the weights and biases according to the steps of Gradient Descent.\n",
        "    def fit(self, X, y):\n",
        "        # Gradient Descent code goes here\n",
        "        N = X.shape[0]\n",
        "        # print(N)\n",
        "        # print(np.square(y-(np.dot(X,self.w)+self.b).reshape(-1,1)))\n",
        "        cost = (1/N)*np.sum(np.square(y-(np.dot(X,self.w)+self.b).reshape(-1,1)),axis=0);\n",
        "        # print(cost);\n",
        "        # print(-X*np.square((y-(np.dot(X,self.w)+self.b)))[:,None])\n",
        "        for i in range(self.iter) :\n",
        "          dw = (2/N)*np.sum(-1*X*(y-(np.dot(X,self.w)+self.b).reshape(-1,1)), axis=0);\n",
        "          db = (2/N)*np.sum(-y+((np.dot(X,self.w)+self.b).reshape(-1,1)), axis=0);\n",
        "          self.w = self.w-self.learn*dw\n",
        "          self.b = self.b-self.learn*db\n",
        "        \n",
        "        # print(self.w)\n",
        "        # print(self.b)\n",
        "        # print(cost)\n",
        "        # pass  # Uncomment this when you're done with this function\n",
        "        \n",
        "        \n",
        "    # This function will be called after our model has been trained and we are predicting on unseen data\n",
        "    # What is our prediction? Just return that\n",
        "    def predict(self, X):\n",
        "        # Code goes her\n",
        "        return np.dot(X,self.w)+self.b\n",
        "        # pass  # Uncomment this when you're done with this function"
      ],
      "metadata": {
        "id": "dGnFNPJx3I28"
      },
      "execution_count": 158,
      "outputs": []
    },
    {
      "cell_type": "markdown",
      "source": [
        "### Initializing, Training & Predictions"
      ],
      "metadata": {
        "id": "EvyInkTKPn7W"
      }
    },
    {
      "cell_type": "code",
      "source": [
        "# Now, we make an object of our custom class.\n",
        "regressor = LinearRegression() # You may pass the custom parameters or let the default values take it ahead\n",
        "\n",
        "# Call the fit method on the object to train (pass appropriate part of dataset)\n",
        "# print(np.dot(X_train,regressor.w))\n",
        "# y_train = y_train[:]\n",
        "y_train = y_train.reshape(-1,1);\n",
        "# print(y_train.shape)\n",
        "regressor.fit(X_train,y_train)\n",
        "\n",
        "# Now, let's see our what our model predicts\n",
        "predictions = regressor.predict(X_test) # pass appropriate part of dataset"
      ],
      "metadata": {
        "id": "nvItUpAkHTiv"
      },
      "execution_count": 159,
      "outputs": []
    },
    {
      "cell_type": "code",
      "source": [
        "predictions"
      ],
      "metadata": {
        "colab": {
          "base_uri": "https://localhost:8080/"
        },
        "id": "B_kbHnBV24_u",
        "outputId": "d60b7bcd-537a-491f-f4a8-ecb424c5aa54"
      },
      "execution_count": 160,
      "outputs": [
        {
          "output_type": "execute_result",
          "data": {
            "text/plain": [
              "array([ 207.90288602, -123.30753064,   78.36331292, -144.89131576,\n",
              "          0.59146132,  -61.4096294 ,   42.99351375,   23.13379989,\n",
              "       -134.95991245,  143.72552576,   76.94489743,  123.3435483 ,\n",
              "         34.00548086,   90.25352353,   58.96486393,   86.1167232 ,\n",
              "        201.84413768,   68.22770101,   95.03409129,  -65.65839881])"
            ]
          },
          "metadata": {},
          "execution_count": 160
        }
      ]
    },
    {
      "cell_type": "code",
      "source": [
        "y_test"
      ],
      "metadata": {
        "colab": {
          "base_uri": "https://localhost:8080/"
        },
        "id": "WkZ2gsTK4GeZ",
        "outputId": "9726cb2a-b8ec-49de-9ab6-7036027ddd86"
      },
      "execution_count": 161,
      "outputs": [
        {
          "output_type": "execute_result",
          "data": {
            "text/plain": [
              "array([ 231.52987097, -127.73130463,   82.03512178, -114.56084875,\n",
              "        -40.94506552,  -46.3723945 ,   17.14558018,   36.59841286,\n",
              "       -144.50935547,  172.29644855,   52.02363624,  150.91337265,\n",
              "         24.4817991 ,   77.51790564,   62.62990566,   76.3859825 ,\n",
              "        195.3197199 ,   47.75398372,   78.13610249,  -76.28526953])"
            ]
          },
          "metadata": {},
          "execution_count": 161
        }
      ]
    },
    {
      "cell_type": "markdown",
      "source": [
        "### Evaluate the model   \n",
        "\n",
        "Return [Mean Squared Error](https://en.wikipedia.org/wiki/Mean_squared_error) & [R2 Score](https://www.ncl.ac.uk/webtemplate/ask-assets/external/maths-resources/statistics/regression-and-correlation/coefficient-of-determination-r-squared.html#:~:text=%C2%AFy) from the functions below."
      ],
      "metadata": {
        "id": "tzK6cq8eRD4Q"
      }
    },
    {
      "cell_type": "code",
      "source": [
        "import sklearn.metrics as sk\n",
        "\n",
        "def mean_squared_error(y_true, y_pred):\n",
        "       # return the mean squared error\n",
        "       return sk.mean_squared_error(y_true, y_pred)\n",
        "      #  return (1/y_true.shape[0])*np.sum(np.square(y_true-y_pred), axis=0)\n",
        "      #  pass  # Uncomment this when you're done with this function\n",
        "\n",
        "\n",
        "def r2_score(y_true, y_pred):\n",
        "      # return the r2 score\n",
        "      return sk.r2_score(y_true, y_pred)\n",
        "      # pass  # Uncomment this when you're done with this function\n",
        "          \n",
        "\n",
        "mse = mean_squared_error(predictions, y_test) # Pass appropriate parts of dataset\n",
        "print(\"MSE:\", mse)\n",
        "\n",
        "accu = r2_score(predictions, y_test) # Pass appropriate parts of dataset\n",
        "print(\"Accuracy:\", accu)"
      ],
      "metadata": {
        "id": "WqkrvDzcRF5m",
        "colab": {
          "base_uri": "https://localhost:8080/"
        },
        "outputId": "f7942308-e305-44cb-c807-881cfe934157"
      },
      "execution_count": 162,
      "outputs": [
        {
          "output_type": "stream",
          "name": "stdout",
          "text": [
            "MSE: 391.0960196890423\n",
            "Accuracy: 0.9606065973728906\n"
          ]
        }
      ]
    }
  ]
}