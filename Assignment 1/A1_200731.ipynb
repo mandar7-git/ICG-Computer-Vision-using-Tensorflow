{
  "nbformat": 4,
  "nbformat_minor": 0,
  "metadata": {
    "colab": {
      "name": "A1_200731.ipynb",
      "provenance": [],
      "collapsed_sections": []
    },
    "kernelspec": {
      "name": "python3",
      "display_name": "Python 3"
    },
    "language_info": {
      "name": "python"
    }
  },
  "cells": [
    {
      "cell_type": "markdown",
      "source": [
        "### **Aim**  \n",
        "The motive of this assignment is to make predictions using **Linear Regression**. To make sure you truly understand how the underlying algorithm works, you are to implement it from scratch."
      ],
      "metadata": {
        "id": "RB2d1J1f1CF7"
      }
    },
    {
      "cell_type": "markdown",
      "source": [
        "### Generating the dataset  \n",
        "Run the cell below to create the dataset. It further splits the available data into training and testing. Please do not edit this cell.\n"
      ],
      "metadata": {
        "id": "a_S80lf6H4Xv"
      }
    },
    {
      "cell_type": "code",
      "source": [
        "from sklearn import datasets\n",
        "from sklearn.model_selection import train_test_split\n",
        "\n",
        "# Generate the data\n",
        "X, y = datasets.make_regression(n_samples=100, n_features=5, noise=20, random_state=4)\n",
        "\n",
        "# Split the data\n",
        "X_train, X_test, y_train, y_test = train_test_split(X, y, test_size=0.2, random_state=1234)"
      ],
      "metadata": {
        "id": "yX0zqXcHIQHP"
      },
      "execution_count": 2,
      "outputs": []
    },
    {
      "cell_type": "markdown",
      "source": [
        "### Visualizing the data  \n",
        "Use `matplotlib` to visualize the given data."
      ],
      "metadata": {
        "id": "Zj4rrRXGJBXy"
      }
    },
    {
      "cell_type": "code",
      "source": [
        "import matplotlib.pyplot as plt\n",
        "\n",
        "\n",
        "\n",
        "plt.plot(X_train,y_train,'*','MarkerSize',10)\n",
        "\n",
        "# Your code here"
      ],
      "metadata": {
        "id": "zxfi8dkBJOUi",
        "colab": {
          "base_uri": "https://localhost:8080/",
          "height": 369
        },
        "outputId": "d057b03e-b5bc-461c-d21e-7be1f5991f00"
      },
      "execution_count": 10,
      "outputs": [
        {
          "output_type": "execute_result",
          "data": {
            "text/plain": [
              "[<matplotlib.lines.Line2D at 0x7f662e281c10>,\n",
              " <matplotlib.lines.Line2D at 0x7f662e281f10>,\n",
              " <matplotlib.lines.Line2D at 0x7f662e281dd0>,\n",
              " <matplotlib.lines.Line2D at 0x7f662e28e2d0>,\n",
              " <matplotlib.lines.Line2D at 0x7f662e28e490>,\n",
              " <matplotlib.lines.Line2D at 0x7f662e28e810>]"
            ]
          },
          "metadata": {},
          "execution_count": 10
        },
        {
          "output_type": "display_data",
          "data": {
            "text/plain": [
              "<Figure size 432x288 with 1 Axes>"
            ],
            "image/png": "[encoded data removed]"
          },
          "metadata": {
            "needs_background": "light"
          }
        }
      ]
    },
    {
      "cell_type": "markdown",
      "source": [
        "You should be able to see the linear relations between `y` and the features in vector `X`."
      ],
      "metadata": {
        "id": "r7vndSBAJceF"
      }
    },
    {
      "cell_type": "markdown",
      "source": [
        "### Gradient Descent Review  \n",
        "1. ####  Cost function\n",
        "Define the `cost function` to measure the difference between predictions and target outputs. Here, we are working with first degree polynomial, so derivatives are easy to calculate. ( Linear function `y = wx +b` )  \n",
        "\n",
        "$$Error = \\frac{1}{N}\\sum_{i=1}^N (y_i - \\overline{y}_i)^2 = \\frac{1}{N}\\sum_{i=1}^N (y_i - (x_iw+b))^2 $$  \n",
        "\n",
        "  where `N` is the number of samples  \n",
        "    \n",
        "\n",
        "\n",
        "2. #### Compute the derivative\n",
        "$$\\frac{\\delta Error}{\\delta w} = \\frac{2}{N}\\sum_{i=1}^N -x_i(y_i -(m  x_i +b ))  $$\n",
        "$$\\frac{\\delta Error}{\\delta b} = \\frac{2}{N}\\sum_{i=1}^N -(y_i -(m  x_i +b ))  $$\n",
        "3. <h4>Update current parameters</h4>\n",
        "$$ w:= w- learning\\_rate \\cdot \\frac{\\delta Error}{\\delta w}   $$ \n",
        "$$ b:= b- learning\\_rate \\cdot \\frac{\\delta Error}{\\delta b}   $$ \n",
        "4. <h4>Repeat until it fits good enough</h4>\n"
      ],
      "metadata": {
        "id": "b4I9Z3epNvBM"
      }
    },
    {
      "cell_type": "markdown",
      "source": [
        "### Model definition\n",
        "\n",
        "Complete the functions in the class below. Hints provided at appropriate places."
      ],
      "metadata": {
        "id": "kBtUcOVnJu-I"
      }
    },
    {
      "cell_type": "code",
      "source": [
        "X"
      ],
      "metadata": {
        "colab": {
          "base_uri": "https://localhost:8080/"
        },
        "id": "7VwBQu6Su8Iu",
        "outputId": "d70bfdb9-7da4-4d6e-b5eb-3273bc140d5b"
      },
      "execution_count": 20,
      "outputs": [
        {
          "output_type": "execute_result",
          "data": {
            "text/plain": [
              "array([[ 1.58928579e+00, -2.43864781e-01, -9.53657453e-01,\n",
              "        -6.10570973e-01,  1.59709397e+00],\n",
              "       [ 1.91728485e+00, -5.80595172e-01, -1.94573993e-01,\n",
              "        -6.80116241e-01, -1.09591600e+00],\n",
              "       [ 4.86030067e-02, -3.74444917e-01,  2.09313488e-01,\n",
              "         1.88646203e-01,  9.54698597e-01],\n",
              "       [ 2.02240507e+00,  8.70841779e-01, -1.54292905e+00,\n",
              "        -5.64875297e-01, -1.75210527e-01],\n",
              "       [ 1.01355006e+00,  7.97023134e-01, -1.85293455e+00,\n",
              "         4.59581779e-01, -9.17741045e-01],\n",
              "       [ 2.96304983e-01, -7.23081483e-01, -2.43670919e+00,\n",
              "        -1.18048659e-01, -9.61613938e-01],\n",
              "       [-2.73972085e-01, -1.19688147e+00,  1.02608401e+00,\n",
              "        -9.33043173e-01,  8.58741057e-01],\n",
              "       [-2.55604366e-01,  4.24876682e-01, -1.56073345e-01,\n",
              "         1.59447516e-01, -1.69217314e+00],\n",
              "       [-3.16299786e-01,  5.33567293e-01,  2.82206663e-01,\n",
              "        -2.29291305e+00,  5.74612568e-01],\n",
              "       [-1.50226745e+00,  1.10246309e+00, -3.32110906e-01,\n",
              "        -3.37095149e-01, -2.35725003e-01],\n",
              "       [-6.51225833e-01, -2.35807363e+00,  4.80062472e-02,\n",
              "         5.42451308e-01, -1.10558404e+00],\n",
              "       [ 7.82975562e-01, -7.80654326e-01,  1.54768490e+00,\n",
              "         6.93483618e-01, -1.20372540e-01],\n",
              "       [ 3.50997153e-01,  7.23341609e-01,  1.54697933e+00,\n",
              "        -6.06887283e-01,  4.61355672e-02],\n",
              "       [-4.01176818e-01, -6.95396909e-01, -1.49585236e+00,\n",
              "         8.95104377e-01, -1.19411441e-01],\n",
              "       [ 1.80833313e-01, -6.76900945e-01,  8.50386871e-01,\n",
              "         3.02902035e-01, -1.12511459e+00],\n",
              "       [-6.51840227e-01,  6.22221839e-01,  1.00798864e+00,\n",
              "         5.33652814e-01, -3.39429436e-01],\n",
              "       [-3.31452555e-01,  1.38096813e+00, -1.35003972e+00,\n",
              "        -5.90383386e-01, -1.97175308e+00],\n",
              "       [-4.82443287e-01,  1.02103787e+00,  3.11697586e-01,\n",
              "         2.25388352e-01, -1.86383081e+00],\n",
              "       [-8.98844120e-02, -2.20206458e+00, -4.65248733e-01,\n",
              "         2.43122400e+00,  2.78680359e+00],\n",
              "       [-4.22517422e-01,  6.50348936e-02, -1.08262618e+00,\n",
              "         9.93683781e-01,  5.90163171e-01],\n",
              "       [ 2.03217933e+00, -4.33886379e-01, -1.68296489e+00,\n",
              "         4.25846713e-01, -1.41622753e+00],\n",
              "       [ 4.08058166e-01, -1.23313682e+00, -3.49447958e-01,\n",
              "         1.73239851e+00,  7.18274389e-01],\n",
              "       [-1.14379857e+00, -9.36010063e-03, -1.34746030e+00,\n",
              "         5.09919783e-01, -1.30704639e-01],\n",
              "       [ 9.75389955e-02,  1.28997872e+00,  1.40016080e+00,\n",
              "         1.34742912e+00, -5.46184988e-01],\n",
              "       [ 8.02086614e-01, -1.96745278e-01,  1.20200259e+00,\n",
              "        -3.02963967e-01,  8.36528702e-01],\n",
              "       [-7.03702332e-01,  7.73990683e-01,  1.08336528e+00,\n",
              "        -1.13504002e+00,  3.40762870e-01],\n",
              "       [ 1.14922180e-01,  1.00598199e+00, -5.08380228e-01,\n",
              "         2.12370287e-01,  1.53179086e+00],\n",
              "       [-3.86228641e-01, -1.96362208e-02,  8.98349018e-01,\n",
              "        -1.72719863e-01,  2.42673198e-01],\n",
              "       [-1.73022270e+00, -2.07141668e+00, -1.13502109e-01,\n",
              "         6.45415726e-01, -4.25224638e-02],\n",
              "       [-1.68727904e+00,  9.65275392e-04,  6.13470314e-01,\n",
              "        -9.00395653e-01, -9.00780945e-01],\n",
              "       [-2.56537881e-01, -4.39453344e-02, -8.46808631e-01,\n",
              "         1.65360451e-01,  5.86832596e-01],\n",
              "       [-5.93601804e-01, -1.71114995e-01, -3.29566539e-01,\n",
              "         7.64105665e-01,  1.84284758e-01],\n",
              "       [ 1.01257934e+00, -7.52657544e-02,  2.77713468e+00,\n",
              "         3.58790827e-01,  1.44593286e+00],\n",
              "       [ 6.57464159e-01,  6.49314480e-01, -4.00392986e-01,\n",
              "        -3.39652851e-02,  1.37841955e+00],\n",
              "       [-6.11402764e-01,  1.94530297e+00,  1.66972899e+00,\n",
              "         3.52257730e-01,  8.27063350e-01],\n",
              "       [-9.82991653e-01, -1.20894816e+00,  1.59892935e-01,\n",
              "         5.44327389e-02,  2.22336022e+00],\n",
              "       [ 1.16418756e+00, -5.45587055e-02,  1.37992010e+00,\n",
              "         2.42660159e-01,  7.95233949e-01],\n",
              "       [-4.80849143e-01,  1.40127689e+00,  6.49790336e-01,\n",
              "        -7.99794891e-02,  1.55593792e+00],\n",
              "       [ 8.37836354e-01, -2.76203354e-01,  9.14840958e-01,\n",
              "         2.08787087e+00,  7.96511899e-01],\n",
              "       [ 9.47707237e-02, -9.05739281e-01, -1.58530086e+00,\n",
              "         5.81847481e-01, -2.95574746e-01],\n",
              "       [ 1.19451626e+00,  1.93787140e+00, -8.07396136e-02,\n",
              "        -4.98720725e-01,  6.08837219e-01],\n",
              "       [-5.29820940e-02,  4.54322861e-01,  1.00614998e+00,\n",
              "        -9.77895272e-02, -4.14473767e-01],\n",
              "       [-4.72662816e-01,  1.59987751e+00,  1.22921340e+00,\n",
              "         9.62679439e-02, -3.99414276e-01],\n",
              "       [-1.11011050e+00,  1.03950386e+00,  1.51538673e+00,\n",
              "        -1.03381482e+00, -8.55929482e-01],\n",
              "       [ 3.82281044e-01,  1.81357129e-01, -1.14964885e+00,\n",
              "         4.04693379e-01,  1.58870643e-01],\n",
              "       [ 3.94295215e-01,  1.63574754e+00, -1.11281215e+00,\n",
              "         1.69235772e+00, -1.36096559e+00],\n",
              "       [-9.98074788e-01, -9.23807335e-01, -9.63452375e-02,\n",
              "        -6.63050008e-01,  1.19336851e+00],\n",
              "       [ 1.79410714e-01,  5.09778855e-01,  5.56185223e-01,\n",
              "        -1.45553433e+00,  3.00445543e-01],\n",
              "       [ 8.51927626e-01,  1.49455700e+00, -1.24621209e+00,\n",
              "        -1.03335017e+00, -7.78421820e-01],\n",
              "       [ 1.24599780e-02,  8.84387817e-01,  6.32514463e-01,\n",
              "        -2.75644617e-01,  1.28236737e+00],\n",
              "       [-1.04482370e+00,  5.51775704e-02, -1.51490430e+00,\n",
              "         3.60637984e-01, -1.44026488e+00],\n",
              "       [ 2.47658416e+00, -7.32264700e-01,  6.74710006e-02,\n",
              "         3.52343397e-01,  2.97141210e-01],\n",
              "       [ 1.90899619e-02,  9.34650063e-01,  4.30271331e-01,\n",
              "        -9.05438137e-01, -3.46101872e-01],\n",
              "       [ 1.10938120e+00, -1.60451349e+00, -6.18985582e-01,\n",
              "         1.38516211e-01,  7.13975172e-01],\n",
              "       [-2.29689687e-01,  2.70496343e+00, -1.08300264e+00,\n",
              "         1.00724711e+00,  9.00540583e-02],\n",
              "       [ 6.79721934e-02, -2.52197507e-01, -2.41258674e-01,\n",
              "         2.11573584e+00, -1.28208283e+00],\n",
              "       [ 4.25883217e-01, -4.06680983e-01,  7.75467876e-01,\n",
              "         1.34176007e+00, -4.23056240e-01],\n",
              "       [ 5.90088827e-01,  4.27472420e-01, -3.49976535e-01,\n",
              "        -7.93412093e-01,  1.94795354e+00],\n",
              "       [ 4.75297384e-01,  4.41206692e-02, -6.95463196e-02,\n",
              "        -1.04948693e+00, -9.82970971e-01],\n",
              "       [ 3.00599950e-01,  4.71660824e-01,  1.20050880e+00,\n",
              "         6.95092622e-01, -7.76413252e-01],\n",
              "       [-1.09712188e+00, -6.07683691e-01, -2.37977527e+00,\n",
              "        -5.28196069e-01, -1.07529009e+00],\n",
              "       [-8.52951280e-01, -8.90975732e-01, -2.91095798e-01,\n",
              "        -1.10457461e+00,  3.86352130e-02],\n",
              "       [ 6.52125575e-01,  3.92560611e-01,  8.12218089e-01,\n",
              "         1.68852820e-01,  1.43843167e-01],\n",
              "       [ 7.86602283e-01,  3.59280514e-02,  3.75474865e-02,\n",
              "        -1.84087587e+00, -7.78739925e-01],\n",
              "       [ 2.26957200e+00, -8.32723441e-01,  1.47428533e+00,\n",
              "        -6.22060928e-02,  2.94198012e-01],\n",
              "       [ 1.04090637e+00, -1.16829028e+00, -1.20740046e+00,\n",
              "        -4.08650312e-01,  1.12837333e+00],\n",
              "       [ 7.73999259e-01,  7.13086800e-01, -1.13745080e-01,\n",
              "        -7.51870758e-01,  5.23706023e-02],\n",
              "       [ 2.22251747e-01, -3.70602190e-01, -6.33858144e-01,\n",
              "         1.05360040e+00, -4.63544971e-01],\n",
              "       [-9.61776801e-01,  1.58469537e-01, -6.47644533e-01,\n",
              "         1.27181862e+00,  1.99008302e+00],\n",
              "       [ 6.18669689e-01,  3.32253145e-01,  4.25072396e-01,\n",
              "        -8.79869283e-02, -1.15681626e+00],\n",
              "       [ 1.61854112e-01,  2.88746415e-01, -1.79186045e-01,\n",
              "        -2.08937888e-02,  2.80747503e-01],\n",
              "       [ 7.38247111e-01, -1.26568595e-01,  6.14740630e-01,\n",
              "         6.50753231e-01,  1.57887425e+00],\n",
              "       [-4.57317918e-01,  8.09103657e-01,  2.95363166e-01,\n",
              "        -4.67233192e-01, -1.32962257e+00],\n",
              "       [ 4.94765430e-02, -4.82878686e-01,  8.76742482e-01,\n",
              "        -2.61312042e-01, -9.85418461e-01],\n",
              "       [-2.07181677e-01,  8.12637710e-02, -3.36179840e-01,\n",
              "         3.00670817e-02, -2.40524177e-01],\n",
              "       [-1.92979534e+00, -7.44229701e-01, -3.00465307e-01,\n",
              "         2.33873591e-01, -3.41255995e-01],\n",
              "       [-9.27082195e-01, -2.08600814e-01,  1.01156174e+00,\n",
              "         3.43741450e-01, -2.83246291e-01],\n",
              "       [ 1.34517125e-01, -4.29766755e-01,  5.70571633e-02,\n",
              "         1.86956552e+00, -1.22719015e+00],\n",
              "       [ 2.24197247e-01, -3.54275697e-01, -2.55828302e-01,\n",
              "        -6.13944833e-01, -4.60947072e-01],\n",
              "       [-3.84786639e-01, -1.19506206e+00,  1.19236503e+00,\n",
              "         7.52134361e-01, -4.55023515e-01],\n",
              "       [ 6.20083312e-01,  7.55141538e-01,  6.29172098e-01,\n",
              "         2.22986500e+00, -1.71917655e-01],\n",
              "       [ 5.01810254e-01,  1.10917458e+00, -2.07353938e-01,\n",
              "        -1.73033794e+00, -2.12865904e-01],\n",
              "       [-1.58457724e+00,  3.32250033e-01,  5.98575174e-01,\n",
              "        -6.47706767e-01, -1.14747663e+00],\n",
              "       [-1.09933237e-01, -1.40528445e+00,  1.07062632e+00,\n",
              "         9.61853329e-01, -5.09556180e-01],\n",
              "       [ 4.75245809e-01,  1.38720664e+00,  4.11114141e-01,\n",
              "         2.93201618e-02, -1.57982395e+00],\n",
              "       [ 5.16559632e-01, -6.81148429e-01,  1.02645497e+00,\n",
              "         6.73801492e-01, -1.96601472e+00],\n",
              "       [-1.46418356e+00, -4.02869781e-01,  2.12532215e+00,\n",
              "        -1.38386628e+00,  4.57906217e-01],\n",
              "       [ 8.14100875e-01,  7.38221264e-02,  5.33735104e-01,\n",
              "        -5.53372855e-01,  1.06149169e-01],\n",
              "       [ 1.74642478e+00, -2.19065706e-02, -3.79835571e-01,\n",
              "        -8.51660724e-01, -9.40738666e-02],\n",
              "       [-9.75750755e-01, -1.09217162e+00, -1.51021651e-02,\n",
              "         1.29251713e+00,  1.27148698e-01],\n",
              "       [ 5.61836195e-01, -5.17497227e-02, -1.08693613e+00,\n",
              "         1.38702576e+00, -7.66654280e-01],\n",
              "       [ 8.79898996e-01,  6.13532628e-01, -4.51042909e-01,\n",
              "         1.37459323e+00, -2.10156563e-01],\n",
              "       [ 1.83626319e-01, -3.10870916e-01, -1.30653867e+00,\n",
              "         1.97869001e-01, -9.90913221e-01],\n",
              "       [ 5.23247663e-01, -9.44368599e-01, -1.71464610e-01,\n",
              "        -4.95818520e-01,  2.80864675e-01],\n",
              "       [ 1.91525157e+00, -1.17895602e+00,  8.40333927e-02,\n",
              "         2.18584815e+00,  1.15605606e+00],\n",
              "       [ 4.22848467e-01, -2.76809158e-01,  3.27939113e-01,\n",
              "        -3.34539354e-01,  1.13384332e+00],\n",
              "       [-1.45246737e-01,  1.07763433e+00,  2.20356402e+00,\n",
              "         5.08073300e-01,  1.61724121e+00],\n",
              "       [-1.90001834e-01,  1.67290643e+00,  1.96871939e+00,\n",
              "         1.74544451e+00, -3.95259451e-01],\n",
              "       [ 5.05617071e-02,  6.93598508e-01, -9.95908931e-01,\n",
              "         4.99951333e-01, -4.18301520e-01],\n",
              "       [ 7.99755537e-01,  9.81710663e-01, -1.87373844e+00,\n",
              "         1.06569977e+00, -2.35967116e-01]])"
            ]
          },
          "metadata": {},
          "execution_count": 20
        }
      ]
    },
    {
      "cell_type": "code",
      "source": [
        "import numpy as np\n",
        "\n",
        "class LinearRegression:\n",
        "\n",
        "    # The __init__ is called when we make any object of our class. Here, you are to specify the default values for \n",
        "    # Learning Rate, Number of Iterations, Weights and Biases. It doesn't return anything.\n",
        "    # Hint: Google what a `self pointer` is and figure out how it can be used here.\n",
        "    def __init__(self, learning_rate=0.001, n_iters=1000):\n",
        "        # Your code here \n",
        "        self.rate = learning_rate\n",
        "        self.iters = n_iters\n",
        "        self.weights = None\n",
        "        self.bias = None\n",
        "\n",
        "\n",
        "        # pass  # Uncomment this when you're done with this function\n",
        "\n",
        "\n",
        "    # The following function would be the heart of the model. This is where the training would happen. \n",
        "    # You're supposed to iterate and keep on updating the weights and biases according to the steps of Gradient Descent.\n",
        "    def fit(self, X, y):\n",
        "      n_samples = 100\n",
        "      n_features = 5\n",
        "      \n",
        "\n",
        "\n",
        "      self.weights = np.zeros(n_features)\n",
        "      self.bias = 0\n",
        "\n",
        "      for _ in range(self.iters):\n",
        "        # Gradient Descent code goes here\n",
        "           y_predicted = np.dot(X, self.weights) + self.bias\n",
        "            # compute gradients\n",
        "           dw = (1/n_samples)* np.dot(X.T, (y_predicted - y))\n",
        "           db = (1/n_samples)* np.sum(y_predicted - y)\n",
        "\n",
        "            # update parameters\n",
        "           self.weights -= self.rate * dw\n",
        "           self.bias -= self.rate * db\n",
        "\n",
        "        # pass  # Uncomment this when you're done with this function\n",
        "        \n",
        "        \n",
        "    # This function will be called after our model has been trained and we are predicting on unseen data\n",
        "    # What is our prediction? Just return that\n",
        "    def predict(self, X):\n",
        "        # Code goes here\n",
        "        y_approximated = np.dot(X, self.weights) + self.bias\n",
        "        return y_approximated\n",
        "\n",
        "        # pass  # Uncomment this when you're done with this function"
      ],
      "metadata": {
        "id": "dGnFNPJx3I28"
      },
      "execution_count": 23,
      "outputs": []
    },
    {
      "cell_type": "markdown",
      "source": [
        "### Initializing, Training & Predictions"
      ],
      "metadata": {
        "id": "EvyInkTKPn7W"
      }
    },
    {
      "cell_type": "code",
      "source": [
        "# Now, we make an object of our custom class.\n",
        "regressor = LinearRegression(learning_rate=0.01, n_iters=1000) # You may pass the custom parameters or let the default values take it ahead\n",
        "\n",
        "regressor. fit(X_train, y_train) # Call the fit method on the object to train  (pass appropriate part of dataset)\n",
        "\n",
        "\n",
        "predictions = regressor.predict(X_test) # pass appropriate part of dataset"
      ],
      "metadata": {
        "id": "nvItUpAkHTiv"
      },
      "execution_count": 24,
      "outputs": []
    },
    {
      "cell_type": "markdown",
      "source": [
        "### Evaluate the model   \n",
        "\n",
        "Return [Mean Squared Error](https://en.wikipedia.org/wiki/Mean_squared_error) & [R2 Score](https://www.ncl.ac.uk/webtemplate/ask-assets/external/maths-resources/statistics/regression-and-correlation/coefficient-of-determination-r-squared.html#:~:text=%C2%AFy) from the functions below."
      ],
      "metadata": {
        "id": "tzK6cq8eRD4Q"
      }
    },
    {
      "cell_type": "code",
      "source": [
        "def mean_squared_error(y_true, y_pred):\n",
        "  return np.mean((y_true - y_pred)**2)\n",
        "       # return the mean squared error\n",
        "      #  pass  # Uncomment this when you're done with this function\n",
        "\n",
        "\n",
        "def r2_score(y_true, y_pred):\n",
        "  d1 = np.sum((y_true - y_pred)**2)\n",
        "  m = np.mean(y_true)\n",
        "  d2 = np.sum((y_true - m)**2)\n",
        "  return 1 - (d1/d2)\n",
        "\n",
        "  \n",
        "\n",
        "   \n",
        "      # return the r2 score\n",
        "      # pass  # Uncomment this when you're done with this function\n",
        "          \n",
        "\n",
        "mse = mean_squared_error(y_test, predictions) # Pass appropriate parts of dataset\n",
        "print(\"MSE:\", mse)\n",
        "\n",
        "accu = r2_score(y_test, predictions) # Pass appropriate parts of dataset\n",
        "print(\"Accuracy:\", accu)"
      ],
      "metadata": {
        "id": "WqkrvDzcRF5m",
        "colab": {
          "base_uri": "https://localhost:8080/"
        },
        "outputId": "d25115ac-87c0-48c5-d4fd-25eee6c33d29"
      },
      "execution_count": 25,
      "outputs": [
        {
          "output_type": "stream",
          "name": "stdout",
          "text": [
            "MSE: 389.5184798939019\n",
            "Accuracy: 0.9631753931003519\n"
          ]
        }
      ]
    }
  ]
}