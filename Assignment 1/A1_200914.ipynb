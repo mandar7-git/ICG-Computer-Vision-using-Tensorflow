{
  "nbformat": 4,
  "nbformat_minor": 0,
  "metadata": {
    "colab": {
      "name": "200914_ Assignment 1.ipynb",
      "provenance": [],
      "collapsed_sections": []
    },
    "kernelspec": {
      "name": "python3",
      "display_name": "Python 3"
    },
    "language_info": {
      "name": "python"
    }
  },
  "cells": [
    {
      "cell_type": "markdown",
      "source": [
        "### **Aim**  \n",
        "The motive of this assignment is to make predictions using **Linear Regression**. To make sure you truly understand how the underlying algorithm works, you are to implement it from scratch."
      ],
      "metadata": {
        "id": "RB2d1J1f1CF7"
      }
    },
    {
      "cell_type": "markdown",
      "source": [
        "### Generating the dataset  \n",
        "Run the cell below to create the dataset. It further splits the available data into training and testing. Please do not edit this cell.\n"
      ],
      "metadata": {
        "id": "a_S80lf6H4Xv"
      }
    },
    {
      "cell_type": "code",
      "source": [
        "from sklearn import datasets\n",
        "from sklearn.model_selection import train_test_split\n",
        "\n",
        "# Generate the data\n",
        "X, y = datasets.make_regression(n_samples=100, n_features=5, noise=20, random_state=4)\n",
        "\n",
        "# Split the data\n",
        "X_train, X_test, y_train, y_test = train_test_split(X, y, test_size=0.2, random_state=1234)"
      ],
      "metadata": {
        "id": "yX0zqXcHIQHP"
      },
      "execution_count": 2,
      "outputs": []
    },
    {
      "cell_type": "markdown",
      "source": [
        ""
      ],
      "metadata": {
        "id": "8sY-H0XoQ5hh"
      }
    },
    {
      "cell_type": "markdown",
      "source": [
        "### Visualizing the data  \n",
        "Use `matplotlib` to visualize the given data."
      ],
      "metadata": {
        "id": "Zj4rrRXGJBXy"
      }
    },
    {
      "cell_type": "code",
      "source": [
        "import matplotlib.pyplot as plt\n",
        "\n",
        "plt.rcParams[\"figure.figsize\"] = (12,7)\n",
        "x1=X[:,0]\n",
        "x2=X[:,1]\n",
        "x3=X[:,2]\n",
        "x4=X[:,3]\n",
        "x5=X[:,4]\n",
        "plt.subplot(2, 3, 1)\n",
        "plt.scatter(x1, y, c =\"blue\")\n",
        "plt.subplot(2, 3, 2)\n",
        "plt.scatter(x2, y, c =\"magenta\")\n",
        "plt.subplot(2, 3, 3)\n",
        "plt.scatter(x3, y, c =\"green\")\n",
        "plt.subplot(2, 3, 4)\n",
        "plt.scatter(x4, y, c =\"black\")\n",
        "plt.subplot(2, 3, 5)\n",
        "plt.scatter(x5, y, c =\"red\")\n",
        "\n",
        " \n",
        "# To show the plot\n",
        "plt.show()\n"
      ],
      "metadata": {
        "id": "zxfi8dkBJOUi",
        "colab": {
          "base_uri": "https://localhost:8080/",
          "height": 428
        },
        "outputId": "185ba1d3-7f40-43d6-882b-49822b457647"
      },
      "execution_count": 3,
      "outputs": [
        {
          "output_type": "display_data",
          "data": {
            "text/plain": [
              "<Figure size 864x504 with 5 Axes>"
            ],
            "image/png": "[encoded data removed]"
          },
          "metadata": {
            "needs_background": "light"
          }
        }
      ]
    },
    {
      "cell_type": "markdown",
      "source": [
        "You should be able to see the linear relations between `y` and the features in vector `X`."
      ],
      "metadata": {
        "id": "r7vndSBAJceF"
      }
    },
    {
      "cell_type": "markdown",
      "source": [
        "### Gradient Descent Review  \n",
        "1. ####  Cost function\n",
        "Define the `cost function` to measure the difference between predictions and target outputs. Here, we are working with first degree polynomial, so derivatives are easy to calculate. ( Linear function `y = wx +b` )  \n",
        "\n",
        "$$Error = \\frac{1}{N}\\sum_{i=1}^N (y_i - \\overline{y}_i)^2 = \\frac{1}{N}\\sum_{i=1}^N (y_i - (x_iw+b))^2 $$  \n",
        "\n",
        "  where `N` is the number of samples  \n",
        "    \n",
        "\n",
        "\n",
        "2. #### Compute the derivative\n",
        "$$\\frac{\\delta Error}{\\delta w} = \\frac{2}{N}\\sum_{i=1}^N -x_i(y_i -(m  x_i +b ))  $$\n",
        "$$\\frac{\\delta Error}{\\delta b} = \\frac{2}{N}\\sum_{i=1}^N -(y_i -(m  x_i +b ))  $$\n",
        "3. <h4>Update current parameters</h4>\n",
        "$$ w:= w- learning\\_rate \\cdot \\frac{\\delta Error}{\\delta w}   $$ \n",
        "$$ b:= b- learning\\_rate \\cdot \\frac{\\delta Error}{\\delta b}   $$ \n",
        "4. <h4>Repeat until it fits good enough</h4>\n"
      ],
      "metadata": {
        "id": "b4I9Z3epNvBM"
      }
    },
    {
      "cell_type": "markdown",
      "source": [
        "### Model definition\n",
        "\n",
        "Complete the functions in the class below. Hints provided at appropriate places."
      ],
      "metadata": {
        "id": "kBtUcOVnJu-I"
      }
    },
    {
      "cell_type": "code",
      "source": [
        "import numpy as np\n",
        "\n",
        "class LinearRegression:\n",
        "\n",
        "    # The __init__ is called when we make any object of our class. Here, you are to specify the default values for \n",
        "    # Learning Rate, Number of Iterations, Weights and Biases. It doesn't return anything.\n",
        "    def __init__(self, learning_rate=0.0005, n_iters=22000, bias=np.random.random(), weight=np.random.rand(np. size(X, 1))):\n",
        "       self.learning_rate=learning_rate\n",
        "       self.n_iters=n_iters\n",
        "       self.bias=bias\n",
        "       self.weight=weight\n",
        "\n",
        "    # The following function would be the heart of the model. This is where the training would happen. \n",
        "    # You're supposed to iterate and keep on updating the weights and biases according to the steps of Gradient Descent.\n",
        "    def fit(self, X, y):\n",
        "        num_records,num_features=X.shape\n",
        "        for iter in range(self.n_iters):\n",
        "          predictions_y=np.matmul(X,self.weight)+self.bias\n",
        "          grad = np.zeros(num_features)\n",
        "          error=y-predictions_y\n",
        "          for feat in range(num_features):\n",
        "            grad[feat] = (-2/num_records)*np.sum(np.multiply(X[:,feat],error))\n",
        "          deltab=-2*np.sum(error)/num_records \n",
        "          self.bias=self.bias-self.learning_rate*deltab\n",
        "          self.weight=self.weight-self.learning_rate*grad\n",
        "          \n",
        "   \n",
        "     \n",
        "    # This function will be called after our model has been trained and we are predicting on unseen data\n",
        "    def predict(self, X):\n",
        "        predict=np.matmul(X,self.weight)+self.bias\n",
        "        return predict"
      ],
      "metadata": {
        "id": "dGnFNPJx3I28"
      },
      "execution_count": 4,
      "outputs": []
    },
    {
      "cell_type": "markdown",
      "source": [
        "### Initializing, Training & Predictions"
      ],
      "metadata": {
        "id": "EvyInkTKPn7W"
      }
    },
    {
      "cell_type": "code",
      "source": [
        "# Now, we make an object of our custom class.\n",
        "regressor = LinearRegression() # You may pass the custom parameters or let the default values take it ahead\n",
        "\n",
        "# Call the fit method on the object to train (pass appropriate part of dataset)\n",
        "regressor.fit(X_train,y_train)\n",
        "\n",
        "predictions = regressor.predict(X_test) # pass appropriate part of dataset"
      ],
      "metadata": {
        "id": "nvItUpAkHTiv"
      },
      "execution_count": 5,
      "outputs": []
    },
    {
      "cell_type": "markdown",
      "source": [
        "### Evaluate the model   \n",
        "\n",
        "Return [Mean Squared Error](https://en.wikipedia.org/wiki/Mean_squared_error) & [R2 Score](https://www.ncl.ac.uk/webtemplate/ask-assets/external/maths-resources/statistics/regression-and-correlation/coefficient-of-determination-r-squared.html#:~:text=%C2%AFy) from the functions below."
      ],
      "metadata": {
        "id": "tzK6cq8eRD4Q"
      }
    },
    {
      "cell_type": "code",
      "source": [
        "def mean_squared_error(y_true, y_pred):\n",
        "  error=y_true-y_pred\n",
        "  n=y_true.shape[0]\n",
        "  mse =(1/n)*(np.sum(np.multiply(error, error)))\n",
        "  return mse\n",
        "       \n",
        "\n",
        "\n",
        "def r2_score(y_true, y_pred):\n",
        "      #1-ssr/sst\n",
        "      error=y_true-y_pred\n",
        "      mean=np.mean(y_true)\n",
        "      ssr =np.sum(np.multiply(error,error)) # sum squared regression (SSR)\n",
        "      sst=np.sum(np.multiply(y_true-mean,y_true-mean)) # total sum of squares (SST)\n",
        "      r2 = 1-ssr/sst\n",
        "      return r2\n",
        "              \n",
        "\n",
        "mse = mean_squared_error(y_test,predictions) \n",
        "print(\"MSE:\", mse)\n",
        "\n",
        "accu = r2_score(y_test,predictions) \n",
        "print(\"Accuracy:\", accu)"
      ],
      "metadata": {
        "id": "WqkrvDzcRF5m",
        "colab": {
          "base_uri": "https://localhost:8080/"
        },
        "outputId": "74d3de71-63d5-449f-d53c-128037cdede7"
      },
      "execution_count": 6,
      "outputs": [
        {
          "output_type": "stream",
          "name": "stdout",
          "text": [
            "MSE: 391.0954827735972\n",
            "Accuracy: 0.9630263051517128\n"
          ]
        }
      ]
    }
  ]
}
