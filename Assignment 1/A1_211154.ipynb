{
 "cells": [
  {
   "cell_type": "markdown",
   "metadata": {
    "id": "RB2d1J1f1CF7"
   },
   "source": [
    "### **Aim**  \n",
    "The motive of this assignment is to make predictions using **Linear Regression**. To make sure you truly understand how the underlying algorithm works, you are to implement it from scratch."
   ]
  },
  {
   "cell_type": "markdown",
   "metadata": {
    "id": "a_S80lf6H4Xv"
   },
   "source": [
    "### Generating the dataset  \n",
    "Run the cell below to create the dataset. It further splits the available data into training and testing. Please do not edit this cell.\n"
   ]
  },
  {
   "cell_type": "code",
   "execution_count": 45,
   "metadata": {
    "id": "yX0zqXcHIQHP"
   },
   "outputs": [],
   "source": [
    "from sklearn import datasets\n",
    "from sklearn.model_selection import train_test_split\n",
    "\n",
    "# Generate the data\n",
    "X, y = datasets.make_regression(n_samples=100, n_features=5, noise=20, random_state=4)\n",
    "\n",
    "# Split the data\n",
    "X_train, X_test, y_train, y_test = train_test_split(X, y, test_size=0.2, random_state=1234)"
   ]
  },
  {
   "cell_type": "markdown",
   "metadata": {
    "id": "Zj4rrRXGJBXy"
   },
   "source": [
    "### Visualizing the data  \n",
    "Use `matplotlib` to visualize the given data."
   ]
  },
  {
   "cell_type": "code",
   "execution_count": 48,
   "metadata": {
    "id": "zxfi8dkBJOUi"
   },
   "outputs": [
    {
     "data": {
      "text/plain": [
       "<matplotlib.collections.PathCollection at 0x23bac31d330>"
      ]
     },
     "execution_count": 48,
     "metadata": {},
     "output_type": "execute_result"
    },
    {
     "data": {
      "image/png": "[encoded data removed]",
      "text/plain": [
       "<Figure size 432x288 with 1 Axes>"
      ]
     },
     "metadata": {
      "needs_background": "light"
     },
     "output_type": "display_data"
    }
   ],
   "source": [
    "import matplotlib.pyplot as plt\n",
    "%matplotlib inline\n",
    "# Your code here\n",
    "X.shape, y.shape\n",
    "flat=X.flatten()\n",
    "I=flat[::5]\n",
    "II=flat[1::5]\n",
    "III=flat[2::5]\n",
    "IV=flat[3::5]\n",
    "V=flat[4::5]\n",
    "\n",
    "\n",
    "plt.scatter(I,y)\n",
    "plt.scatter(II,y)\n",
    "plt.scatter(III,y)\n",
    "plt.scatter(IV,y)\n",
    "plt.scatter(V,y)\n",
    "\n",
    "\n",
    "\n",
    "\n"
   ]
  },
  {
   "cell_type": "markdown",
   "metadata": {
    "id": "r7vndSBAJceF"
   },
   "source": [
    "You should be able to see the linear relations between `y` and the features in vector `X`."
   ]
  },
  {
   "cell_type": "markdown",
   "metadata": {
    "id": "b4I9Z3epNvBM"
   },
   "source": [
    "### Gradient Descent Review  \n",
    "1. ####  Cost function\n",
    "Define the `cost function` to measure the difference between predictions and target outputs. Here, we are working with first degree polynomial, so derivatives are easy to calculate. ( Linear function `y = wx +b` )  \n",
    "\n",
    "$$Error = \\frac{1}{N}\\sum_{i=1}^N (y_i - \\overline{y}_i)^2 = \\frac{1}{N}\\sum_{i=1}^N (y_i - (x_iw+b))^2 $$  \n",
    "\n",
    "  where `N` is the number of samples  \n",
    "    \n",
    "\n",
    "\n",
    "2. #### Compute the derivative\n",
    "$$\\frac{\\delta Error}{\\delta w} = \\frac{2}{N}\\sum_{i=1}^N -x_i(y_i -(m  x_i +b ))  $$\n",
    "$$\\frac{\\delta Error}{\\delta b} = \\frac{2}{N}\\sum_{i=1}^N -(y_i -(m  x_i +b ))  $$\n",
    "3. <h4>Update current parameters</h4>\n",
    "$$ w:= w- learning\\_rate \\cdot \\frac{\\delta Error}{\\delta w}   $$ \n",
    "$$ b:= b- learning\\_rate \\cdot \\frac{\\delta Error}{\\delta b}   $$ \n",
    "4. <h4>Repeat until it fits good enough</h4>\n"
   ]
  },
  {
   "cell_type": "markdown",
   "metadata": {
    "id": "kBtUcOVnJu-I"
   },
   "source": [
    "### Model definition\n",
    "\n",
    "Complete the functions in the class below. Hints provided at appropriate places."
   ]
  },
  {
   "cell_type": "code",
   "execution_count": 15,
   "metadata": {
    "id": "dGnFNPJx3I28"
   },
   "outputs": [],
   "source": [
    "import numpy as np\n",
    "\n",
    "class LinearRegression:\n",
    "\n",
    "    # The __init__ is called when we make any object of our class. Here, you are to specify the default values for \n",
    "    # Learning Rate, Number of Iterations, Weights and Biases. It doesn't return anything.\n",
    "    # Hint: Google what a `self pointer` is and figure out how it can be used here.\n",
    "    def __init__(self, lr=0.001, n_iters=1000,coef_=np.random.randn(5,1),intercept_=0):\n",
    "        # Your code here\n",
    "         self.lr = lr\n",
    "         self.n_iters=1000\n",
    "         self.coef_ = np.random.random()\n",
    "         self.intercept_ = np.random.random()\n",
    "\n",
    "       \n",
    "\n",
    "\n",
    "    # The following function would be the heart of the model. This is where the training would happen. \n",
    "    # You're supposed to iterate and keep on updating the weights and biases according to the steps of Gradient Descent.\n",
    "    def fit(self, X, y):\n",
    "        # Gradient Descent code goes here\n",
    "\n",
    "       def fit(self, X, y):\n",
    "        self._X = X \n",
    "        self._y = y\n",
    "        \n",
    "        \n",
    "       \n",
    "      \n",
    "        errors = []\n",
    "        \n",
    "        \n",
    "        for i in range(self.n_iters):\n",
    "            self.gradient_decend()\n",
    "            errors.append(self.error())\n",
    "        return errors\n",
    "    \n",
    "    def gradient_decend(self):\n",
    "        \n",
    "        d_coef, d_intercept = self.gradient()\n",
    "        self.coef_ -= d_coef * self.lr\n",
    "        self.intercept_ -= d_intercept * self.lr\n",
    "    \n",
    "    def gradient(self):\n",
    "        yh = self.predict(self._X) \n",
    "        \n",
    "        d_coef = ((yh - self._y) * self._X).mean()\n",
    "        d_intercept = (yh - self._y).mean()\n",
    "        \n",
    "        return d_coef, d_intercept\n",
    "        \n",
    "        \n",
    "    # This function will be called after our model has been trained and we are predicting on unseen data\n",
    "    # What is our prediction? Just return that\n",
    "    def predict(self, X):\n",
    "        # Code goes here\n",
    "         return X * self.coef_ + self.intercept_\n",
    "        \n",
    "  \n",
    "\n",
    "       "
   ]
  },
  {
   "cell_type": "markdown",
   "metadata": {
    "id": "EvyInkTKPn7W"
   },
   "source": [
    "### Initializing, Training & Predictions"
   ]
  },
  {
   "cell_type": "code",
   "execution_count": 16,
   "metadata": {
    "id": "nvItUpAkHTiv"
   },
   "outputs": [],
   "source": [
    "# Now, we make an object of our custom class.\n",
    "regressor = LinearRegression() # You may pass the custom parameters or let the default values take it ahead\n",
    "\n",
    "# Call the fit method on the object to train (pass appropriate part of dataset)\n",
    "regressor.fit(X_train, y_train)\n",
    "\n",
    "\n",
    "# Now, let's see our what our model predicts\n",
    "predictions = regressor.predict(X_test) # pass appropriate part of dataset"
   ]
  },
  {
   "cell_type": "markdown",
   "metadata": {
    "id": "tzK6cq8eRD4Q"
   },
   "source": [
    "### Evaluate the model   \n",
    "\n",
    "Return [Mean Squared Error](https://en.wikipedia.org/wiki/Mean_squared_error) & [R2 Score](https://www.ncl.ac.uk/webtemplate/ask-assets/external/maths-resources/statistics/regression-and-correlation/coefficient-of-determination-r-squared.html#:~:text=%C2%AFy) from the functions below."
   ]
  },
  {
   "cell_type": "code",
   "execution_count": 30,
   "metadata": {
    "id": "WqkrvDzcRF5m"
   },
   "outputs": [
    {
     "name": "stdout",
     "output_type": "stream",
     "text": [
      "MSE: 4094.932568975969\n",
      "Accuracy: -3980476.886391359\n"
     ]
    }
   ],
   "source": [
    " def mean_squared_error(y_true,y_pred):\n",
    "       # return the mean squared error\n",
    "     return np.mean(np.square(np.subtract(y_true,y_pred)))\n",
    "    \n",
    "def r2_score(y_true, y_pred):\n",
    "      # return the r2 score\n",
    "      return 1-((np.sum(np.square(y_true-y_pred)))/(np.sum(np.square(y_true-(np.mean(y_true))))))\n",
    "          \n",
    "\n",
    "mse = mean_squared_error(predictions,y_test) # Pass appropriate parts of dataset\n",
    "print(\"MSE:\", mse)\n",
    "\n",
    "accu = r2_score(predictions,y_test) # Pass appropriate parts of dataset\n",
    "print(\"Accuracy:\", accu)"
   ]
  },
  {
   "cell_type": "code",
   "execution_count": null,
   "metadata": {},
   "outputs": [],
   "source": []
  }
 ],
 "metadata": {
  "colab": {
   "collapsed_sections": [],
   "name": "Copy of CV with TF: Assignment 1.ipynb",
   "provenance": [
    {
     "file_id": "1lHTeY0ieI9TWcR88yhQV1EwsX7n5PSJq",
     "timestamp": 1653960498237
    },
    {
     "file_id": "1DG_xMAsAlibZtSw7T_p6dzV8CRejNM9o",
     "timestamp": 1653919622477
    }
   ]
  },
  "kernelspec": {
   "display_name": "Python 3 (ipykernel)",
   "language": "python",
   "name": "python3"
  },
  "language_info": {
   "codemirror_mode": {
    "name": "ipython",
    "version": 3
   },
   "file_extension": ".py",
   "mimetype": "text/x-python",
   "name": "python",
   "nbconvert_exporter": "python",
   "pygments_lexer": "ipython3",
   "version": "3.10.2"
  }
 },
 "nbformat": 4,
 "nbformat_minor": 1
}
