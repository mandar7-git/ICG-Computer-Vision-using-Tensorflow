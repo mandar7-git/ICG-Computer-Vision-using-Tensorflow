{
  "nbformat": 4,
  "nbformat_minor": 0,
  "metadata": {
    "colab": {
      "name": "Copy of CV with TF: Assignment 1.ipynb",
      "provenance": [],
      "collapsed_sections": []
    },
    "kernelspec": {
      "name": "python3",
      "display_name": "Python 3"
    },
    "language_info": {
      "name": "python"
    }
  },
  "cells": [
    {
      "cell_type": "markdown",
      "source": [
        "### **Aim**  \n",
        "The motive of this assignment is to make predictions using **Linear Regression**. To make sure you truly understand how the underlying algorithm works, you are to implement it from scratch."
      ],
      "metadata": {
        "id": "RB2d1J1f1CF7"
      }
    },
    {
      "cell_type": "markdown",
      "source": [
        "### Generating the dataset  \n",
        "Run the cell below to create the dataset. It further splits the available data into training and testing. Please do not edit this cell.\n"
      ],
      "metadata": {
        "id": "a_S80lf6H4Xv"
      }
    },
    {
      "cell_type": "code",
      "source": [
        "from sklearn import datasets\n",
        "from sklearn.model_selection import train_test_split\n",
        "\n",
        "# Generate the data\n",
        "X, y = datasets.make_regression(n_samples=100, n_features=5, noise=20, random_state=4)\n",
        "\n",
        "# Split the data\n",
        "X_train, X_test, y_train, y_test = train_test_split(X, y, test_size=0.2, random_state=1234)"
      ],
      "metadata": {
        "id": "yX0zqXcHIQHP"
      },
      "execution_count": 2,
      "outputs": []
    },
    {
      "cell_type": "markdown",
      "source": [
        "### Visualizing the data  \n",
        "Use `matplotlib` to visualize the given data."
      ],
      "metadata": {
        "id": "Zj4rrRXGJBXy"
      }
    },
    {
      "cell_type": "code",
      "source": [
        "import matplotlib.pyplot as plt\n",
        "\n",
        "plt.scatter(X[:,0],y)\n",
        "plt.scatter(X[:,1],y)\n",
        "plt.scatter(X[:,2],y)\n",
        "plt.scatter(X[:,3],y)\n",
        "plt.scatter(X[:,4],y)"
      ],
      "metadata": {
        "id": "zxfi8dkBJOUi",
        "colab": {
          "base_uri": "https://localhost:8080/",
          "height": 282
        },
        "outputId": "f56efd9e-26f7-4dff-948e-bfdf884dfe9a"
      },
      "execution_count": 3,
      "outputs": [
        {
          "output_type": "execute_result",
          "data": {
            "text/plain": [
              "<matplotlib.collections.PathCollection at 0x7f2cd0e63990>"
            ]
          },
          "metadata": {},
          "execution_count": 3
        },
        {
          "output_type": "display_data",
          "data": {
            "text/plain": [
              "<Figure size 432x288 with 1 Axes>"
            ],
            "image/png": "[encoded data removed]"
          },
          "metadata": {
            "needs_background": "light"
          }
        }
      ]
    },
    {
      "cell_type": "markdown",
      "source": [
        "You should be able to see the linear relations between `y` and the features in vector `X`."
      ],
      "metadata": {
        "id": "r7vndSBAJceF"
      }
    },
    {
      "cell_type": "markdown",
      "source": [
        "### Gradient Descent Review  \n",
        "1. ####  Cost function\n",
        "Define the `cost function` to measure the difference between predictions and target outputs. Here, we are working with first degree polynomial, so derivatives are easy to calculate. ( Linear function `y = wx +b` )  \n",
        "\n",
        "$$Error = \\frac{1}{N}\\sum_{i=1}^N (y_i - \\overline{y}_i)^2 = \\frac{1}{N}\\sum_{i=1}^N (y_i - (x_iw+b))^2 $$  \n",
        "\n",
        "  where `N` is the number of samples  \n",
        "    \n",
        "\n",
        "\n",
        "2. #### Compute the derivative\n",
        "$$\\frac{\\delta Error}{\\delta w} = \\frac{2}{N}\\sum_{i=1}^N -x_i(y_i -(m  x_i +b ))  $$\n",
        "$$\\frac{\\delta Error}{\\delta b} = \\frac{2}{N}\\sum_{i=1}^N -(y_i -(m  x_i +b ))  $$\n",
        "3. <h4>Update current parameters</h4>\n",
        "$$ w:= w- learning\\_rate \\cdot \\frac{\\delta Error}{\\delta w}   $$ \n",
        "$$ b:= b- learning\\_rate \\cdot \\frac{\\delta Error}{\\delta b}   $$ \n",
        "4. <h4>Repeat until it fits good enough</h4>\n"
      ],
      "metadata": {
        "id": "b4I9Z3epNvBM"
      }
    },
    {
      "cell_type": "markdown",
      "source": [
        "### Model definition\n",
        "\n",
        "Complete the functions in the class below. Hints provided at appropriate places."
      ],
      "metadata": {
        "id": "kBtUcOVnJu-I"
      }
    },
    {
      "cell_type": "code",
      "source": [
        "import numpy as np\n",
        "\n",
        "class LinearRegression:\n",
        "\n",
        "    # The __init__ is called when we make any object of our class. Here, you are to specify the default values for \n",
        "    # Learning Rate, Number of Iterations, Weights and Biases. It doesn't return anything.\n",
        "    # Hint: Google what a `self pointer` is and figure out how it can be used here.\n",
        "    def __init__(self, learning_rate=0.001, n_iters=1000,w=np.full(X.shape[1],0),b=0):\n",
        "        self.learning_rate=learning_rate\n",
        "        self.n_iters=n_iters\n",
        "        self.w=w\n",
        "        self.b=b\n",
        "\n",
        "        #pass  # Uncomment this when you're done with this function\n",
        "\n",
        "\n",
        "    # The following function would be the heart of the model. This is where the training would happen. \n",
        "    # You're supposed to iterate and keep on updating the weights and biases according to the steps of Gradient Descent.\n",
        "    def fit(self, X, y):\n",
        "        entries = X.shape[0]\n",
        "        feature_count = X.shape[1]\n",
        "\n",
        "       # pass  # Uncomment this when you're done with this function\n",
        "        \n",
        "        \n",
        "    # This function will be called after our model has been trained and we are predicting on unseen data\n",
        "    # What is our prediction? Just return that\n",
        "    def predict(self, X):\n",
        "        return np.matmul(X,self.w)+self.b\n",
        "\n",
        "        #pass  # Uncomment this when you're done with this function"
      ],
      "metadata": {
        "id": "dGnFNPJx3I28"
      },
      "execution_count": 6,
      "outputs": []
    },
    {
      "cell_type": "markdown",
      "source": [
        "### Initializing, Training & Predictions"
      ],
      "metadata": {
        "id": "EvyInkTKPn7W"
      }
    },
    {
      "cell_type": "code",
      "source": [
        "# Now, we make an object of our custom class.\n",
        "regressor = LinearRegression() # You may pass the custom parameters or let the default values take it ahead\n",
        "\n",
        "# Call the fit method on the object to train (pass appropriate part of dataset)\n",
        "\n",
        "regressor.fit(X_train,y_train)\n",
        "# Now, let's see our what our model predicts\n",
        "predictions = regressor.predict(X_test) # pass appropriate part of dataset"
      ],
      "metadata": {
        "id": "nvItUpAkHTiv"
      },
      "execution_count": 8,
      "outputs": []
    },
    {
      "cell_type": "markdown",
      "source": [
        "### Evaluate the model   \n",
        "\n",
        "Return [Mean Squared Error](https://en.wikipedia.org/wiki/Mean_squared_error) & [R2 Score](https://www.ncl.ac.uk/webtemplate/ask-assets/external/maths-resources/statistics/regression-and-correlation/coefficient-of-determination-r-squared.html#:~:text=%C2%AFy) from the functions below."
      ],
      "metadata": {
        "id": "tzK6cq8eRD4Q"
      }
    },
    {
      "cell_type": "code",
      "source": [
        "def mean_squared_error(y_true, y_pred):\n",
        "       return np.sum(np.dot(y_true-y_pred,y_true-y_pred))/y_true.shape[0]\n",
        "       #pass  # Uncomment this when you're done with this function\n",
        "\n",
        "\n",
        "def r2_score(y_true, y_pred):\n",
        "      sum_square_regression = np.sum(np.dot(y_true-y_pred,y_true-y_pred))\n",
        "      total_sum_squares = np.sum(np.dot(y_true-np.mean(y_true),y_true-np.mean(y_true)))\n",
        "      return 1 - sum_square_regression/total_sum_squares\n",
        "      #pass  # Uncomment this when you're done with this function\n",
        "          \n",
        "\n",
        "mse = mean_squared_error(y_test,predictions) # Pass appropriate parts of dataset\n",
        "print(\"MSE:\", mse)\n",
        "\n",
        "accu = r2_score(y_test,predictions) # Pass appropriate parts of dataset\n",
        "print(\"Accuracy:\", accu)"
      ],
      "metadata": {
        "id": "WqkrvDzcRF5m",
        "colab": {
          "base_uri": "https://localhost:8080/"
        },
        "outputId": "1d4d35bd-46bb-446c-c113-9fdc5debaec1"
      },
      "execution_count": 9,
      "outputs": [
        {
          "output_type": "stream",
          "name": "stdout",
          "text": [
            "MSE: 12000.32949394661\n",
            "Accuracy: -0.13449666470562582\n"
          ]
        }
      ]
    }
  ]
}