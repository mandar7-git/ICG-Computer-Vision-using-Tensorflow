{
  "nbformat": 4,
  "nbformat_minor": 0,
  "metadata": {
    "colab": {
      "name": "Soln-CV_with_TF_Assignment_1.ipynb",
      "provenance": [],
      "collapsed_sections": []
    },
    "kernelspec": {
      "name": "python3",
      "display_name": "Python 3"
    },
    "language_info": {
      "name": "python"
    }
  },
  "cells": [
    {
      "cell_type": "markdown",
      "source": [
        "### **Aim**  \n",
        "The motive of this assignment is to make predictions using **Linear Regression**. To make sure you truly understand how the underlying algorithm works, you are to implement it from scratch."
      ],
      "metadata": {
        "id": "RB2d1J1f1CF7"
      }
    },
    {
      "cell_type": "markdown",
      "source": [
        "### Generating the dataset  \n",
        "Run the cell below to create the dataset. It further splits the available data into training and testing. Please do not edit this cell.\n"
      ],
      "metadata": {
        "id": "a_S80lf6H4Xv"
      }
    },
    {
      "cell_type": "code",
      "source": [
        "from sklearn import datasets\n",
        "from sklearn.model_selection import train_test_split\n",
        "\n",
        "# Generate the data\n",
        "X, y = datasets.make_regression(n_samples=100, n_features=5, noise=20, random_state=4)\n",
        "\n",
        "# Split the data\n",
        "X_train, X_test, y_train, y_test = train_test_split(X, y, test_size=0.2, random_state=1234)"
      ],
      "metadata": {
        "id": "yX0zqXcHIQHP"
      },
      "execution_count": 26,
      "outputs": []
    },
    {
      "cell_type": "markdown",
      "source": [
        "### Visualizing the data  \n",
        "Use `matplotlib` to visualize the given data."
      ],
      "metadata": {
        "id": "Zj4rrRXGJBXy"
      }
    },
    {
      "cell_type": "code",
      "source": [
        "import matplotlib.pyplot as plt\n",
        "\n",
        "# Your code here"
      ],
      "metadata": {
        "id": "zxfi8dkBJOUi"
      },
      "execution_count": 27,
      "outputs": []
    },
    {
      "cell_type": "code",
      "source": [
        "plt.scatter(X[:,0],y)\n",
        "plt.title(\"1st feature\")\n",
        "\n",
        "plt.show()"
      ],
      "metadata": {
        "colab": {
          "base_uri": "https://localhost:8080/",
          "height": 281
        },
        "id": "vpA6OCCvtNvH",
        "outputId": "65fbe889-1615-4e90-d329-bd6fe73c1968"
      },
      "execution_count": 28,
      "outputs": [
        {
          "output_type": "display_data",
          "data": {
            "text/plain": [
              "<Figure size 432x288 with 1 Axes>"
            ],
            "image/png": "[encoded data removed]"
          },
          "metadata": {
            "needs_background": "light"
          }
        }
      ]
    },
    {
      "cell_type": "code",
      "source": [
        "plt.scatter(X[:,1],y)\n",
        "plt.title(\"2nd feature\")\n",
        "\n",
        "plt.show()"
      ],
      "metadata": {
        "colab": {
          "base_uri": "https://localhost:8080/",
          "height": 281
        },
        "id": "7taNGrUZxF5k",
        "outputId": "a1bab97c-5f22-41a2-f521-a6dfb8ec0894"
      },
      "execution_count": 29,
      "outputs": [
        {
          "output_type": "display_data",
          "data": {
            "text/plain": [
              "<Figure size 432x288 with 1 Axes>"
            ],
            "image/png": "[encoded data removed]"
          },
          "metadata": {
            "needs_background": "light"
          }
        }
      ]
    },
    {
      "cell_type": "code",
      "source": [
        "plt.scatter(X[:,2],y)\n",
        "plt.title(\"3rd feature\")\n",
        "\n",
        "plt.show()"
      ],
      "metadata": {
        "colab": {
          "base_uri": "https://localhost:8080/",
          "height": 281
        },
        "id": "n7hp0cHTxRIV",
        "outputId": "ddd95fff-efb2-4869-b9ef-7da1832c1378"
      },
      "execution_count": 30,
      "outputs": [
        {
          "output_type": "display_data",
          "data": {
            "text/plain": [
              "<Figure size 432x288 with 1 Axes>"
            ],
            "image/png": "[encoded data removed]"
          },
          "metadata": {
            "needs_background": "light"
          }
        }
      ]
    },
    {
      "cell_type": "code",
      "source": [
        "plt.scatter(X[:,3],y)\n",
        "plt.title(\"4th feature\")\n",
        "\n",
        "plt.show()"
      ],
      "metadata": {
        "colab": {
          "base_uri": "https://localhost:8080/",
          "height": 281
        },
        "id": "sj3gF6CJxUP-",
        "outputId": "91fcd42f-59d8-47f3-9762-d8b140170e5e"
      },
      "execution_count": 31,
      "outputs": [
        {
          "output_type": "display_data",
          "data": {
            "text/plain": [
              "<Figure size 432x288 with 1 Axes>"
            ],
            "image/png": "[encoded data removed]"
          },
          "metadata": {
            "needs_background": "light"
          }
        }
      ]
    },
    {
      "cell_type": "code",
      "source": [
        "plt.scatter(X[:,4],y)\n",
        "plt.title(\"5th feature\")\n",
        "\n",
        "plt.show()"
      ],
      "metadata": {
        "colab": {
          "base_uri": "https://localhost:8080/",
          "height": 281
        },
        "id": "8Nadh_8wxrZQ",
        "outputId": "2333a7ab-e7d9-444a-f34d-70facd81285c"
      },
      "execution_count": 32,
      "outputs": [
        {
          "output_type": "display_data",
          "data": {
            "text/plain": [
              "<Figure size 432x288 with 1 Axes>"
            ],
            "image/png": "[encoded data removed]"
          },
          "metadata": {
            "needs_background": "light"
          }
        }
      ]
    },
    {
      "cell_type": "markdown",
      "source": [
        "You should be able to see the linear relations between `y` and the features in vector `X`."
      ],
      "metadata": {
        "id": "r7vndSBAJceF"
      }
    },
    {
      "cell_type": "markdown",
      "source": [
        "### Gradient Descent Review  \n",
        "1. ####  Cost function\n",
        "Define the `cost function` to measure the difference between predictions and target outputs. Here, we are working with first degree polynomial, so derivatives are easy to calculate. ( Linear function `y = wx +b` )  \n",
        "\n",
        "$$Error = \\frac{1}{N}\\sum_{i=1}^N (y_i - \\overline{y}_i)^2 = \\frac{1}{N}\\sum_{i=1}^N (y_i - (x_iw+b))^2 $$  \n",
        "\n",
        "  where `N` is the number of samples  \n",
        "    \n",
        "\n",
        "\n",
        "2. #### Compute the derivative\n",
        "$$\\frac{\\delta Error}{\\delta w} = \\frac{2}{N}\\sum_{i=1}^N -x_i(y_i -(m  x_i +b ))  $$\n",
        "$$\\frac{\\delta Error}{\\delta b} = \\frac{2}{N}\\sum_{i=1}^N -(y_i -(m  x_i +b ))  $$\n",
        "3. <h4>Update current parameters</h4>\n",
        "$$ w:= w- learning\\_rate \\cdot \\frac{\\delta Error}{\\delta w}   $$ \n",
        "$$ b:= b- learning\\_rate \\cdot \\frac{\\delta Error}{\\delta b}   $$ \n",
        "4. <h4>Repeat until it fits good enough</h4>\n"
      ],
      "metadata": {
        "id": "b4I9Z3epNvBM"
      }
    },
    {
      "cell_type": "markdown",
      "source": [
        "### Model definition\n",
        "\n",
        "Complete the functions in the class below. Hints provided at appropriate places."
      ],
      "metadata": {
        "id": "kBtUcOVnJu-I"
      }
    },
    {
      "cell_type": "code",
      "source": [
        "import numpy as np\n",
        "\n",
        "class LinearRegression:\n",
        "\n",
        "    # The __init__ is called when we make any object of our class. Here, you are to specify the default values for \n",
        "    # Learning Rate, Number of Iterations, Weights and Biases. It doesn't return anything.\n",
        "    # Hint: Google what a `self pointer` is and figure out how it can be used here.\n",
        "    def __init__(self, learning_rate=0.001, n_iters=1000):\n",
        "      self.w = np.array([50.0,50.0,50.0,50.0,50.0])\n",
        "      self.b= np.array([5.0,5.0,5.0,5.0,5.0])\n",
        "\n",
        "        # Your code here\n",
        "\n",
        "       # pass  # Uncomment this when you're done with this function\n",
        "\n",
        "\n",
        "    # The following function would be the heart of the model. This is where the training would happen. \n",
        "    # You're supposed to iterate and keep on updating the weights and biases according to the steps of Gradient Descent.\n",
        "    def fit(self, X, y):\n",
        "      for x in range(0,1000):\n",
        "        ew = [0.0,0.0,0.0,0.0,0.0]\n",
        "        eb = 0.0\n",
        "        for i in range(80):\n",
        "          yp=0\n",
        "          for k in range(5):\n",
        "            yp =yp + X[i,k]*self.w[k]\n",
        "          yp = yp + self.b\n",
        "          for k in range(5):\n",
        "            temp =0\n",
        "            temp =+ (X[i,k]*y[i]-X[i,k]*yp)\n",
        "          ew =+ (-1)*temp\n",
        "          eb =+(-1)*(y[i]-yp)\n",
        "          ew = 2/80*ew\n",
        "          eb = 2/80*eb\n",
        "        self.w = self.w-(0.001)*ew\n",
        "        self.b = self.b-(0.001)*eb\n",
        "\n",
        "        ew = [0.0,0.0,0.0,0.0,0.0]\n",
        "        eb = 0.0\n",
        "\n",
        "\n",
        "\n",
        "\n",
        "      \n",
        "\n",
        "        # Gradient Descent code goes here\n",
        "\n",
        "        pass  # Uncomment this when you're done with this function\n",
        "        \n",
        "        \n",
        "    # This function will be called after our model has been trained and we are predicting on unseen data\n",
        "    # What is our prediction? Just return that\n",
        "    def predict(self, X):\n",
        "      result=[]\n",
        "      n = len(X)\n",
        "      for i in range(n):\n",
        "        yp=0.0\n",
        "        for k in range(5):\n",
        "          yp =+ X[i,k]*self.w[k]\n",
        "        yp =+self.b\n",
        "        result.append(yp)\n",
        "        return result\n",
        "\n",
        "        # Code goes here\n",
        "        \n",
        "        #pass  # Uncomment this when you're done with this function"
      ],
      "metadata": {
        "id": "dGnFNPJx3I28"
      },
      "execution_count": 35,
      "outputs": []
    },
    {
      "cell_type": "markdown",
      "source": [
        "### Initializing, Training & Predictions"
      ],
      "metadata": {
        "id": "EvyInkTKPn7W"
      }
    },
    {
      "cell_type": "code",
      "source": [
        "# Now, we make an object of our custom class.\n",
        "regressor = LinearRegression() # You may pass the custom parameters or let the default values take it ahead\n",
        "regressor.fit(X_train,y_train)\n",
        "# Call the fit method on the object to train (pass appropriate part of dataset)\n",
        "\n",
        "\n",
        "# Now, let's see our what our model predicts\n",
        "predictions = regressor.predict(X_test) # pass appropriate part of dataset"
      ],
      "metadata": {
        "id": "nvItUpAkHTiv"
      },
      "execution_count": 36,
      "outputs": []
    },
    {
      "cell_type": "markdown",
      "source": [
        "### Evaluate the model   \n",
        "\n",
        "Return [Mean Squared Error](https://en.wikipedia.org/wiki/Mean_squared_error) & [R2 Score](https://www.ncl.ac.uk/webtemplate/ask-assets/external/maths-resources/statistics/regression-and-correlation/coefficient-of-determination-r-squared.html#:~:text=%C2%AFy) from the functions below."
      ],
      "metadata": {
        "id": "tzK6cq8eRD4Q"
      }
    },
    {
      "cell_type": "code",
      "source": [
        "def mean_squared_error(y_true, y_pred):\n",
        "  mse=0\n",
        "  for i in range (len(y_pred)):\n",
        "    mse+=(1/len(y_pred))*((y_true[i]-y_pred[i])**2)\n",
        "  return mse\n",
        "  \n",
        " # return mse/len(y_pred)\n",
        "       # return the mean squared error\n",
        "      # pass  # Uncomment this when you're done with this function\n",
        "\n",
        "\n",
        "def r2_score(y_true, y_pred):\n",
        "  ymean=np.average(y_true)\n",
        "  mse=0\n",
        "  me=0\n",
        "  for i in range(len(y_pred)):\n",
        "    mse+=((y_true[i]-y_pred[i])**2)\n",
        "    me+=((y_true[i]-ymean)**2)\n",
        "  r2=1-(mse/me) \n",
        "\n",
        "  return r2\n",
        "      # return the r2 score\n",
        "      #pass  # Uncomment this when you're done with this function\n",
        "          \n",
        "\n",
        "mse = mean_squared_error(y_test,predictions) # Pass appropriate parts of dataset\n",
        "print(\"MSE:\", mse)\n",
        "\n",
        "accu = r2_score(y_test,predictions) # Pass appropriate parts of dataset\n",
        "print(\"Accuracy:\", accu)"
      ],
      "metadata": {
        "id": "WqkrvDzcRF5m",
        "colab": {
          "base_uri": "https://localhost:8080/"
        },
        "outputId": "9bd690b7-2187-4b5a-f99a-6d68b65ec209"
      },
      "execution_count": 45,
      "outputs": [
        {
          "output_type": "stream",
          "name": "stdout",
          "text": [
            "MSE: [51223.6165041 51223.6165041 51223.6165041 51223.6165041 51223.6165041]\n",
            "Accuracy: [-0.36367317 -0.36367317 -0.36367317 -0.36367317 -0.36367317]\n"
          ]
        }
      ]
    }
  ]
}