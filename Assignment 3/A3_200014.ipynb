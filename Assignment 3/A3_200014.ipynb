{
  "nbformat": 4,
  "nbformat_minor": 0,
  "metadata": {
    "colab": {
      "name": "Copy of CV_with_TF-Assignment-3.ipynb",
      "provenance": []
    },
    "kernelspec": {
      "name": "python3",
      "display_name": "Python 3"
    },
    "language_info": {
      "name": "python"
    },
    "accelerator": "GPU",
    "gpuClass": "standard"
  },
  "cells": [
    {
      "cell_type": "markdown",
      "source": [
        "# Assignment 3\n",
        "\n",
        " In this Assignment, we will use CNN to classify digits.   \n",
        "The `MNIST` database is a large database of handwritten digits that is commonly used for training various image processing systems.\n",
        "\n"
      ],
      "metadata": {
        "id": "VGHh_5UYzKpV"
      }
    },
    {
      "cell_type": "markdown",
      "source": [
        "## Importing TensorFlow"
      ],
      "metadata": {
        "id": "JnsMbCPNzPAr"
      }
    },
    {
      "cell_type": "code",
      "execution_count": null,
      "metadata": {
        "id": "HRLTw3cMwvi7"
      },
      "outputs": [],
      "source": [
        "import tensorflow as tf"
      ]
    },
    {
      "cell_type": "markdown",
      "source": [
        "## Get the dataset"
      ],
      "metadata": {
        "id": "6Ji7HGpgzSPi"
      }
    },
    {
      "cell_type": "code",
      "source": [
        "# Import the dataset\n",
        "\n",
        "(x_train, y_train), (x_test, y_test) = tf.keras.datasets.mnist.load_data()"
      ],
      "metadata": {
        "id": "oEW3KDEvzIHL"
      },
      "execution_count": null,
      "outputs": []
    },
    {
      "cell_type": "code",
      "source": [
        "# Split the dataset\n",
        "\n",
        "from sklearn.model_selection import train_test_split\n",
        "X_train,X_test,Y_train,Y_test=train_test_split(x_test,y_test,test_size=0.2)"
      ],
      "metadata": {
        "id": "F_sRU9dx_mYQ"
      },
      "execution_count": null,
      "outputs": []
    },
    {
      "cell_type": "markdown",
      "source": [
        "## Visualize the dataset\n",
        "Print some images with labels."
      ],
      "metadata": {
        "id": "EVpQheoVqoEG"
      }
    },
    {
      "cell_type": "code",
      "source": [
        "import matplotlib.pyplot as plt\n",
        "\n",
        "for i in range(5):\n",
        "  plt.subplot(2,5, i+1)\n",
        "  plt.imshow(x_train[i])\n",
        "  plt.axis('off')\n",
        "  plt.title(\"Value is {}\".format(y_train[i]))\n",
        "\n",
        "# Your code"
      ],
      "metadata": {
        "id": "yF1Nj63Bz9m7",
        "outputId": "8472897d-ca54-43af-eaf4-f7e558618dcb",
        "colab": {
          "base_uri": "https://localhost:8080/",
          "height": 105
        }
      },
      "execution_count": null,
      "outputs": [
        {
          "output_type": "display_data",
          "data": {
            "text/plain": [
              "<Figure size 432x288 with 5 Axes>"
            ],
            "image/png": "[encoded data removed]"
          },
          "metadata": {
            "needs_background": "light"
          }
        }
      ]
    },
    {
      "cell_type": "markdown",
      "source": [
        "Plot statistics of the training and testing dataset  \n",
        "(`x axis`: digits, `y axis`: number of samples corresponding to the digits)"
      ],
      "metadata": {
        "id": "Rx8muKSIrKhe"
      }
    },
    {
      "cell_type": "code",
      "source": [
        "import numpy as np\n",
        "import pandas as pd"
      ],
      "metadata": {
        "id": "y2OEVvv8S5Na"
      },
      "execution_count": null,
      "outputs": []
    },
    {
      "cell_type": "code",
      "source": [
        "\n",
        "\n",
        "df_y_train = pd.DataFrame({'Y_Train':y_train})\n",
        "df_y_test = pd.DataFrame({'Y_Test':y_test})\n",
        "\n",
        "# Your code"
      ],
      "metadata": {
        "id": "37kehTG_6Pi4"
      },
      "execution_count": null,
      "outputs": []
    },
    {
      "cell_type": "code",
      "source": [
        "# Given below is the code that produces frequency of labels appearing in training dataset\n",
        "df_y_train['Y_Train'].value_counts(ascending=True).plot( kind='bar', xlabel='Values', ylabel='Frequency')\n"
      ],
      "metadata": {
        "id": "UkbVDV9JTJNP",
        "outputId": "48d31ac7-cb24-4e9d-cfb3-7bf53e0386a2",
        "colab": {
          "base_uri": "https://localhost:8080/",
          "height": 295
        }
      },
      "execution_count": null,
      "outputs": [
        {
          "output_type": "execute_result",
          "data": {
            "text/plain": [
              "<matplotlib.axes._subplots.AxesSubplot at 0x7f604c992450>"
            ]
          },
          "metadata": {},
          "execution_count": 38
        },
        {
          "output_type": "display_data",
          "data": {
            "text/plain": [
              "<Figure size 432x288 with 1 Axes>"
            ],
            "image/png": "[encoded data removed]"
          },
          "metadata": {
            "needs_background": "light"
          }
        }
      ]
    },
    {
      "cell_type": "code",
      "source": [
        "df_y_test['Y_Test'].value_counts(ascending=True).plot( kind='bar', xlabel='Values', ylabel='Frequency')"
      ],
      "metadata": {
        "id": "wdLMufuQT_Nn",
        "outputId": "ef0c6a1a-91db-4dfd-88af-0d34cc90b442",
        "colab": {
          "base_uri": "https://localhost:8080/",
          "height": 294
        }
      },
      "execution_count": null,
      "outputs": [
        {
          "output_type": "execute_result",
          "data": {
            "text/plain": [
              "<matplotlib.axes._subplots.AxesSubplot at 0x7f604cb191d0>"
            ]
          },
          "metadata": {},
          "execution_count": 39
        },
        {
          "output_type": "display_data",
          "data": {
            "text/plain": [
              "<Figure size 432x288 with 1 Axes>"
            ],
            "image/png": "[encoded data removed]"
          },
          "metadata": {
            "needs_background": "light"
          }
        }
      ]
    },
    {
      "cell_type": "markdown",
      "source": [
        "So we can see that the frequency of labels in the test dataset are in same proportion as in the training dataset."
      ],
      "metadata": {
        "id": "l9_l4idBUwbu"
      }
    },
    {
      "cell_type": "code",
      "source": [
        "# Pre Processing\n",
        "\n",
        "from tensorflow.keras.utils import to_categorical\n",
        "from tensorflow.keras.layers import Flatten, Dense\n",
        "from tensorflow.keras.losses import BinaryCrossentropy,sparse_categorical_crossentropy\n",
        "\n",
        "x_train = tf.keras.utils.normalize(x_train, axis=1)\n",
        "x_test = tf.keras.utils.normalize(x_test, axis=1)"
      ],
      "metadata": {
        "id": "LWtaJGgMVG_c"
      },
      "execution_count": null,
      "outputs": []
    },
    {
      "cell_type": "markdown",
      "source": [
        "## Model"
      ],
      "metadata": {
        "id": "kWlpCWdAr8d3"
      }
    },
    {
      "cell_type": "code",
      "source": [
        "# model building\n",
        "model=tf.keras.Sequential([\n",
        "        Flatten(input_shape=(28,28)),\n",
        "        Dense(64,activation='relu'),\n",
        "        Dense(128,activation='relu'),\n",
        "       Dense(10,activation=tf.nn.softmax)\n",
        "\n",
        "  ])\n",
        "model.compile(optimizer='adam',\n",
        "              loss=sparse_categorical_crossentropy,\n",
        "              metrics=['accuracy'])\n",
        "history = model.fit(x_train,y_train,epochs=10,validation_split=0.2)\n",
        "\n",
        "# You are supposed to look at some CNN architectures and add convolutional layers along with MaxPooling, specifying the kernel size, pooling size, activation \n"
      ],
      "metadata": {
        "id": "1L07EyQ0Yion",
        "outputId": "29b951f2-5843-44ca-8ffa-e5def844ecb4",
        "colab": {
          "base_uri": "https://localhost:8080/"
        }
      },
      "execution_count": null,
      "outputs": [
        {
          "output_type": "stream",
          "name": "stdout",
          "text": [
            "Epoch 1/10\n",
            "1500/1500 [==============================] - 4s 3ms/step - loss: 0.3446 - accuracy: 0.8994 - val_loss: 0.1907 - val_accuracy: 0.9445\n",
            "Epoch 2/10\n",
            "1500/1500 [==============================] - 4s 3ms/step - loss: 0.1507 - accuracy: 0.9546 - val_loss: 0.1450 - val_accuracy: 0.9535\n",
            "Epoch 3/10\n",
            "1500/1500 [==============================] - 4s 2ms/step - loss: 0.1059 - accuracy: 0.9678 - val_loss: 0.1205 - val_accuracy: 0.9625\n",
            "Epoch 4/10\n",
            "1500/1500 [==============================] - 4s 3ms/step - loss: 0.0800 - accuracy: 0.9747 - val_loss: 0.1160 - val_accuracy: 0.9646\n",
            "Epoch 5/10\n",
            "1500/1500 [==============================] - 4s 3ms/step - loss: 0.0639 - accuracy: 0.9796 - val_loss: 0.1037 - val_accuracy: 0.9676\n",
            "Epoch 6/10\n",
            "1500/1500 [==============================] - 4s 3ms/step - loss: 0.0506 - accuracy: 0.9835 - val_loss: 0.1033 - val_accuracy: 0.9695\n",
            "Epoch 7/10\n",
            "1500/1500 [==============================] - 4s 3ms/step - loss: 0.0409 - accuracy: 0.9864 - val_loss: 0.1085 - val_accuracy: 0.9713\n",
            "Epoch 8/10\n",
            "1500/1500 [==============================] - 4s 2ms/step - loss: 0.0336 - accuracy: 0.9889 - val_loss: 0.1076 - val_accuracy: 0.9718\n",
            "Epoch 9/10\n",
            "1500/1500 [==============================] - 4s 2ms/step - loss: 0.0281 - accuracy: 0.9908 - val_loss: 0.1215 - val_accuracy: 0.9694\n",
            "Epoch 10/10\n",
            "1500/1500 [==============================] - 4s 3ms/step - loss: 0.0237 - accuracy: 0.9920 - val_loss: 0.1258 - val_accuracy: 0.9699\n"
          ]
        }
      ]
    },
    {
      "cell_type": "code",
      "source": [
        "res_2=pd.DataFrame(history.history)\n",
        "res_2['epoch']=history.epoch\n",
        "plt.plot(res_2['epoch'],res_2['loss'])\n",
        "plt.plot(res_2['epoch'],res_2['val_loss'])\n",
        "plt.legend([\"Loss\"],[\"Val_loss\"])\n",
        "\n"
      ],
      "metadata": {
        "id": "nKEZ8cbO9JVV",
        "outputId": "6dba2cd9-d2d3-4b05-fc4b-b8cb83f4be2e",
        "colab": {
          "base_uri": "https://localhost:8080/",
          "height": 374
        }
      },
      "execution_count": null,
      "outputs": [
        {
          "output_type": "stream",
          "name": "stderr",
          "text": [
            "/usr/local/lib/python3.7/dist-packages/ipykernel_launcher.py:5: UserWarning: Legend does not support 'Loss' instances.\n",
            "A proxy artist may be used instead.\n",
            "See: http://matplotlib.org/users/legend_guide.html#creating-artists-specifically-for-adding-to-the-legend-aka-proxy-artists\n",
            "  \"\"\"\n"
          ]
        },
        {
          "output_type": "execute_result",
          "data": {
            "text/plain": [
              "<matplotlib.legend.Legend at 0x7f5fce019b90>"
            ]
          },
          "metadata": {},
          "execution_count": 44
        },
        {
          "output_type": "display_data",
          "data": {
            "text/plain": [
              "<Figure size 432x288 with 1 Axes>"
            ],
            "image/png": "[encoded data removed]"
          },
          "metadata": {
            "needs_background": "light"
          }
        }
      ]
    },
    {
      "cell_type": "markdown",
      "source": [
        "## Predict some images\n",
        "Print the image along with its label (true value) and predicted value."
      ],
      "metadata": {
        "id": "ml1Kna_DuJrL"
      }
    },
    {
      "cell_type": "code",
      "source": [
        "# Your code\n",
        "y_predicted=[]\n",
        "y_pred=model.predict(x_test)\n",
        "for i in range(x_test.shape[0]):\n",
        "  y_predicted.append(np.argmax(y_pred[i]))\n"
      ],
      "metadata": {
        "id": "qioZul7_uiYq"
      },
      "execution_count": null,
      "outputs": []
    },
    {
      "cell_type": "code",
      "source": [
        "y_test[7]"
      ],
      "metadata": {
        "id": "3rJt9b5-Y-9H",
        "outputId": "91639e31-57f4-44a7-8045-4fa8e179b10b",
        "colab": {
          "base_uri": "https://localhost:8080/"
        }
      },
      "execution_count": null,
      "outputs": [
        {
          "output_type": "execute_result",
          "data": {
            "text/plain": [
              "9"
            ]
          },
          "metadata": {},
          "execution_count": 62
        }
      ]
    },
    {
      "cell_type": "code",
      "source": [
        "t=7\n",
        "plt.imshow(x_test[t])\n",
        "plt.title(\"Actual Label {} , Predicted label {} \".format(y_test[t],y_predicted[t]))"
      ],
      "metadata": {
        "id": "hcaYkm8TXZ-h",
        "outputId": "91c92df2-8314-40ea-f509-815a56ca0440",
        "colab": {
          "base_uri": "https://localhost:8080/",
          "height": 299
        }
      },
      "execution_count": null,
      "outputs": [
        {
          "output_type": "execute_result",
          "data": {
            "text/plain": [
              "Text(0.5, 1.0, 'Actual Label 9 , Predicted label 9 ')"
            ]
          },
          "metadata": {},
          "execution_count": 68
        },
        {
          "output_type": "display_data",
          "data": {
            "text/plain": [
              "<Figure size 432x288 with 1 Axes>"
            ],
            "image/png": "[encoded data removed]"
          },
          "metadata": {
            "needs_background": "light"
          }
        }
      ]
    },
    {
      "cell_type": "code",
      "source": [
        ""
      ],
      "metadata": {
        "id": "ruZ4gQP7YSI5"
      },
      "execution_count": null,
      "outputs": []
    }
  ]
}