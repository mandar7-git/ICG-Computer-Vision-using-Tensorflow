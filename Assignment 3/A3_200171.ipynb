{
  "nbformat": 4,
  "nbformat_minor": 0,
  "metadata": {
    "colab": {
      "name": "Assignment-3.ipynb",
      "provenance": []
    },
    "kernelspec": {
      "name": "python3",
      "display_name": "Python 3"
    },
    "language_info": {
      "name": "python"
    },
    "accelerator": "GPU",
    "gpuClass": "standard"
  },
  "cells": [
    {
      "cell_type": "markdown",
      "source": [
        "# Assignment 3\n",
        "\n",
        " In this Assignment, we will use CNN to classify digits.   \n",
        "The `MNIST` database is a large database of handwritten digits that is commonly used for training various image processing systems.\n",
        "\n"
      ],
      "metadata": {
        "id": "VGHh_5UYzKpV"
      }
    },
    {
      "cell_type": "markdown",
      "source": [
        "## Importing TensorFlow"
      ],
      "metadata": {
        "id": "JnsMbCPNzPAr"
      }
    },
    {
      "cell_type": "code",
      "execution_count": 5,
      "metadata": {
        "id": "HRLTw3cMwvi7"
      },
      "outputs": [],
      "source": [
        "import tensorflow as tf"
      ]
    },
    {
      "cell_type": "markdown",
      "source": [
        "## Get the dataset"
      ],
      "metadata": {
        "id": "6Ji7HGpgzSPi"
      }
    },
    {
      "cell_type": "code",
      "source": [
        "# Import the dataset\n",
        "\n",
        "(x_train, y_train), (x_test, y_test) = tf.keras.datasets.mnist.load_data()"
      ],
      "metadata": {
        "id": "oEW3KDEvzIHL",
        "colab": {
          "base_uri": "https://localhost:8080/"
        },
        "outputId": "e5702edb-8891-452a-8951-973b02682fa5"
      },
      "execution_count": 6,
      "outputs": [
        {
          "output_type": "stream",
          "name": "stdout",
          "text": [
            "Downloading data from https://storage.googleapis.com/tensorflow/tf-keras-datasets/mnist.npz\n",
            "11493376/11490434 [==============================] - 0s 0us/step\n",
            "11501568/11490434 [==============================] - 0s 0us/step\n"
          ]
        }
      ]
    },
    {
      "cell_type": "code",
      "source": [
        "# Split the dataset\n",
        "\n",
        "from sklearn.model_selection import train_test_split\n",
        "X_train,X_test,Y_train,Y_test=train_test_split(x_test,y_test,test_size=0.2)"
      ],
      "metadata": {
        "id": "F_sRU9dx_mYQ"
      },
      "execution_count": 7,
      "outputs": []
    },
    {
      "cell_type": "code",
      "source": [
        "# Pre processing \n",
        "print(X_train.shape, Y_train.shape, X_test.shape, Y_test.shape)\n",
        "print(x_train.shape, y_train.shape, x_test.shape, y_test.shape)"
      ],
      "metadata": {
        "id": "rbt0WbW6sDVs",
        "colab": {
          "base_uri": "https://localhost:8080/"
        },
        "outputId": "db1f5057-655c-4530-e7e7-8f83b1904ba4"
      },
      "execution_count": 8,
      "outputs": [
        {
          "output_type": "stream",
          "name": "stdout",
          "text": [
            "(8000, 28, 28) (8000,) (2000, 28, 28) (2000,)\n",
            "(60000, 28, 28) (60000,) (10000, 28, 28) (10000,)\n"
          ]
        }
      ]
    },
    {
      "cell_type": "markdown",
      "source": [
        "## Visualize the dataset\n",
        "Print some images with labels."
      ],
      "metadata": {
        "id": "EVpQheoVqoEG"
      }
    },
    {
      "cell_type": "code",
      "source": [
        "import matplotlib.pyplot as plt\n",
        "\n",
        "plt.figure(figsize=(16,16))\n",
        "for i in range (16):\n",
        "  plt.subplot(5,4,i+1)\n",
        "  plt.xticks([])\n",
        "  plt.yticks([])\n",
        "  plt.grid(False)\n",
        "  plt.imshow(X_train[i])\n",
        "  plt.title(Y_train[i])\n",
        "\n",
        "\n",
        "# Your code"
      ],
      "metadata": {
        "id": "yF1Nj63Bz9m7",
        "colab": {
          "base_uri": "https://localhost:8080/",
          "height": 740
        },
        "outputId": "501b67e9-4d0a-4e0e-ba35-68e0704108f7"
      },
      "execution_count": 9,
      "outputs": [
        {
          "output_type": "display_data",
          "data": {
            "text/plain": [
              "<Figure size 1152x1152 with 16 Axes>"
            ],
            "image/png": "[encoded data removed]"
          },
          "metadata": {}
        }
      ]
    },
    {
      "cell_type": "markdown",
      "source": [
        "Plot statistics of the training and testing dataset  \n",
        "(`x axis`: digits, `y axis`: number of samples corresponding to the digits)"
      ],
      "metadata": {
        "id": "Rx8muKSIrKhe"
      }
    },
    {
      "cell_type": "code",
      "source": [
        "import numpy as np\n",
        "\n",
        "x, y = np.unique(Y_train, return_counts=True)\n",
        "plt.bar(x,y,label='training data')\n",
        "plt.legend()\n",
        "plt.show()\n",
        "x, y = np.unique(Y_test, return_counts=True)\n",
        "plt.bar(x,y,label='testing data', color='red')\n",
        "plt.legend()\n",
        "plt.show()\n",
        "# Your code"
      ],
      "metadata": {
        "id": "37kehTG_6Pi4",
        "colab": {
          "base_uri": "https://localhost:8080/",
          "height": 513
        },
        "outputId": "22bb02b2-9b5b-405b-f9e6-f1bcd45b46da"
      },
      "execution_count": 10,
      "outputs": [
        {
          "output_type": "display_data",
          "data": {
            "text/plain": [
              "<Figure size 432x288 with 1 Axes>"
            ],
            "image/png": "[encoded data removed]"
          },
          "metadata": {
            "needs_background": "light"
          }
        },
        {
          "output_type": "display_data",
          "data": {
            "text/plain": [
              "<Figure size 432x288 with 1 Axes>"
            ],
            "image/png": "[encoded data removed]"
          },
          "metadata": {
            "needs_background": "light"
          }
        }
      ]
    },
    {
      "cell_type": "markdown",
      "source": [
        "## Model"
      ],
      "metadata": {
        "id": "kWlpCWdAr8d3"
      }
    },
    {
      "cell_type": "code",
      "source": [
        "# model building\n",
        "\n",
        "import keras\n",
        "from keras.models import Sequential\n",
        "from keras import layers\n",
        "\n",
        "model=keras.models.Sequential()\n",
        "model.add(layers.Conv2D(32, (3, 3), activation='relu', input_shape=(28,28,1)))\n",
        "model.add(layers.Conv2D(64, (3, 3), activation='relu'))\n",
        "model.add(layers.MaxPooling2D((2, 2)))\n",
        "model.add(layers.Dropout(0.25))\n",
        "model.add(layers.Flatten())\n",
        "model.add(layers.Dense(128, activation='relu'))\n",
        "model.add(layers.Dropout(0.5))\n",
        "model.add(layers.Dense(10, activation='softmax'))\n",
        "model.summary()\n",
        "# You are supposed to look at some CNN architectures and add convolutional layers along with MaxPooling, specifying the kernel size, pooling size, activation \n"
      ],
      "metadata": {
        "id": "1L07EyQ0Yion",
        "colab": {
          "base_uri": "https://localhost:8080/"
        },
        "outputId": "5e8e9c6f-2f0d-40eb-bc94-6f5eae25b69d"
      },
      "execution_count": 11,
      "outputs": [
        {
          "output_type": "stream",
          "name": "stdout",
          "text": [
            "Model: \"sequential_1\"\n",
            "_________________________________________________________________\n",
            " Layer (type)                Output Shape              Param #   \n",
            "=================================================================\n",
            " conv2d_2 (Conv2D)           (None, 26, 26, 32)        320       \n",
            "                                                                 \n",
            " conv2d_3 (Conv2D)           (None, 24, 24, 64)        18496     \n",
            "                                                                 \n",
            " max_pooling2d_1 (MaxPooling  (None, 12, 12, 64)       0         \n",
            " 2D)                                                             \n",
            "                                                                 \n",
            " dropout_2 (Dropout)         (None, 12, 12, 64)        0         \n",
            "                                                                 \n",
            " flatten_1 (Flatten)         (None, 9216)              0         \n",
            "                                                                 \n",
            " dense_2 (Dense)             (None, 128)               1179776   \n",
            "                                                                 \n",
            " dropout_3 (Dropout)         (None, 128)               0         \n",
            "                                                                 \n",
            " dense_3 (Dense)             (None, 10)                1290      \n",
            "                                                                 \n",
            "=================================================================\n",
            "Total params: 1,199,882\n",
            "Trainable params: 1,199,882\n",
            "Non-trainable params: 0\n",
            "_________________________________________________________________\n"
          ]
        }
      ]
    },
    {
      "cell_type": "code",
      "source": [
        "# Compile the model (add optimizers and metrics)\n",
        "\n",
        "model.compile(optimizer='adam', loss=tf.keras.losses.SparseCategoricalCrossentropy(from_logits=True),metrics=['accuracy'])\n",
        "\n",
        "# Fit the model on the training data (specify validation_split, read about validation if new to you)\n",
        "\n",
        "history = model.fit(X_train, Y_train, epochs=45, validation_split=0.2)"
      ],
      "metadata": {
        "id": "nKEZ8cbO9JVV",
        "colab": {
          "base_uri": "https://localhost:8080/"
        },
        "outputId": "c49f8885-d5c8-4dba-9901-6f5017a75990"
      },
      "execution_count": 12,
      "outputs": [
        {
          "output_type": "stream",
          "name": "stdout",
          "text": [
            "Epoch 1/45\n"
          ]
        },
        {
          "output_type": "stream",
          "name": "stderr",
          "text": [
            "/usr/local/lib/python3.7/dist-packages/tensorflow/python/util/dispatch.py:1082: UserWarning: \"`sparse_categorical_crossentropy` received `from_logits=True`, but the `output` argument was produced by a sigmoid or softmax activation and thus does not represent logits. Was this intended?\"\n",
            "  return dispatch_target(*args, **kwargs)\n"
          ]
        },
        {
          "output_type": "stream",
          "name": "stdout",
          "text": [
            "200/200 [==============================] - 12s 5ms/step - loss: 1.5824 - accuracy: 0.7589 - val_loss: 0.1389 - val_accuracy: 0.9563\n",
            "Epoch 2/45\n",
            "200/200 [==============================] - 1s 4ms/step - loss: 0.2867 - accuracy: 0.9131 - val_loss: 0.0871 - val_accuracy: 0.9737\n",
            "Epoch 3/45\n",
            "200/200 [==============================] - 1s 4ms/step - loss: 0.1879 - accuracy: 0.9402 - val_loss: 0.0739 - val_accuracy: 0.9762\n",
            "Epoch 4/45\n",
            "200/200 [==============================] - 1s 4ms/step - loss: 0.1549 - accuracy: 0.9516 - val_loss: 0.0781 - val_accuracy: 0.9756\n",
            "Epoch 5/45\n",
            "200/200 [==============================] - 1s 4ms/step - loss: 0.1305 - accuracy: 0.9602 - val_loss: 0.0604 - val_accuracy: 0.9850\n",
            "Epoch 6/45\n",
            "200/200 [==============================] - 1s 4ms/step - loss: 0.1103 - accuracy: 0.9638 - val_loss: 0.0562 - val_accuracy: 0.9844\n",
            "Epoch 7/45\n",
            "200/200 [==============================] - 1s 4ms/step - loss: 0.0983 - accuracy: 0.9691 - val_loss: 0.0658 - val_accuracy: 0.9812\n",
            "Epoch 8/45\n",
            "200/200 [==============================] - 1s 4ms/step - loss: 0.0887 - accuracy: 0.9736 - val_loss: 0.0608 - val_accuracy: 0.9825\n",
            "Epoch 9/45\n",
            "200/200 [==============================] - 1s 4ms/step - loss: 0.0779 - accuracy: 0.9739 - val_loss: 0.0834 - val_accuracy: 0.9781\n",
            "Epoch 10/45\n",
            "200/200 [==============================] - 1s 4ms/step - loss: 0.0841 - accuracy: 0.9758 - val_loss: 0.0675 - val_accuracy: 0.9775\n",
            "Epoch 11/45\n",
            "200/200 [==============================] - 1s 4ms/step - loss: 0.0625 - accuracy: 0.9780 - val_loss: 0.0664 - val_accuracy: 0.9831\n",
            "Epoch 12/45\n",
            "200/200 [==============================] - 1s 4ms/step - loss: 0.0518 - accuracy: 0.9819 - val_loss: 0.0837 - val_accuracy: 0.9812\n",
            "Epoch 13/45\n",
            "200/200 [==============================] - 1s 4ms/step - loss: 0.0614 - accuracy: 0.9819 - val_loss: 0.0644 - val_accuracy: 0.9844\n",
            "Epoch 14/45\n",
            "200/200 [==============================] - 1s 4ms/step - loss: 0.0554 - accuracy: 0.9819 - val_loss: 0.0775 - val_accuracy: 0.9812\n",
            "Epoch 15/45\n",
            "200/200 [==============================] - 1s 4ms/step - loss: 0.0579 - accuracy: 0.9798 - val_loss: 0.0921 - val_accuracy: 0.9794\n",
            "Epoch 16/45\n",
            "200/200 [==============================] - 1s 4ms/step - loss: 0.0704 - accuracy: 0.9781 - val_loss: 0.0805 - val_accuracy: 0.9769\n",
            "Epoch 17/45\n",
            "200/200 [==============================] - 1s 4ms/step - loss: 0.0545 - accuracy: 0.9834 - val_loss: 0.0523 - val_accuracy: 0.9862\n",
            "Epoch 18/45\n",
            "200/200 [==============================] - 1s 4ms/step - loss: 0.0671 - accuracy: 0.9817 - val_loss: 0.0761 - val_accuracy: 0.9819\n",
            "Epoch 19/45\n",
            "200/200 [==============================] - 1s 4ms/step - loss: 0.0566 - accuracy: 0.9820 - val_loss: 0.0725 - val_accuracy: 0.9831\n",
            "Epoch 20/45\n",
            "200/200 [==============================] - 1s 4ms/step - loss: 0.0536 - accuracy: 0.9836 - val_loss: 0.0846 - val_accuracy: 0.9806\n",
            "Epoch 21/45\n",
            "200/200 [==============================] - 1s 4ms/step - loss: 0.0419 - accuracy: 0.9861 - val_loss: 0.0807 - val_accuracy: 0.9819\n",
            "Epoch 22/45\n",
            "200/200 [==============================] - 1s 4ms/step - loss: 0.0479 - accuracy: 0.9833 - val_loss: 0.0825 - val_accuracy: 0.9806\n",
            "Epoch 23/45\n",
            "200/200 [==============================] - 1s 4ms/step - loss: 0.0503 - accuracy: 0.9855 - val_loss: 0.0717 - val_accuracy: 0.9844\n",
            "Epoch 24/45\n",
            "200/200 [==============================] - 1s 4ms/step - loss: 0.0425 - accuracy: 0.9870 - val_loss: 0.0787 - val_accuracy: 0.9819\n",
            "Epoch 25/45\n",
            "200/200 [==============================] - 1s 4ms/step - loss: 0.0415 - accuracy: 0.9858 - val_loss: 0.0776 - val_accuracy: 0.9837\n",
            "Epoch 26/45\n",
            "200/200 [==============================] - 1s 4ms/step - loss: 0.0369 - accuracy: 0.9892 - val_loss: 0.0714 - val_accuracy: 0.9825\n",
            "Epoch 27/45\n",
            "200/200 [==============================] - 1s 4ms/step - loss: 0.0355 - accuracy: 0.9880 - val_loss: 0.0832 - val_accuracy: 0.9844\n",
            "Epoch 28/45\n",
            "200/200 [==============================] - 1s 4ms/step - loss: 0.0545 - accuracy: 0.9853 - val_loss: 0.1024 - val_accuracy: 0.9800\n",
            "Epoch 29/45\n",
            "200/200 [==============================] - 1s 4ms/step - loss: 0.0569 - accuracy: 0.9837 - val_loss: 0.0945 - val_accuracy: 0.9856\n",
            "Epoch 30/45\n",
            "200/200 [==============================] - 1s 4ms/step - loss: 0.0558 - accuracy: 0.9831 - val_loss: 0.0912 - val_accuracy: 0.9869\n",
            "Epoch 31/45\n",
            "200/200 [==============================] - 1s 4ms/step - loss: 0.0490 - accuracy: 0.9861 - val_loss: 0.0953 - val_accuracy: 0.9806\n",
            "Epoch 32/45\n",
            "200/200 [==============================] - 1s 4ms/step - loss: 0.0309 - accuracy: 0.9909 - val_loss: 0.0851 - val_accuracy: 0.9862\n",
            "Epoch 33/45\n",
            "200/200 [==============================] - 1s 4ms/step - loss: 0.0311 - accuracy: 0.9914 - val_loss: 0.0767 - val_accuracy: 0.9837\n",
            "Epoch 34/45\n",
            "200/200 [==============================] - 1s 4ms/step - loss: 0.0517 - accuracy: 0.9842 - val_loss: 0.0812 - val_accuracy: 0.9844\n",
            "Epoch 35/45\n",
            "200/200 [==============================] - 1s 4ms/step - loss: 0.0447 - accuracy: 0.9869 - val_loss: 0.0645 - val_accuracy: 0.9887\n",
            "Epoch 36/45\n",
            "200/200 [==============================] - 1s 4ms/step - loss: 0.0415 - accuracy: 0.9873 - val_loss: 0.0875 - val_accuracy: 0.9812\n",
            "Epoch 37/45\n",
            "200/200 [==============================] - 1s 4ms/step - loss: 0.0211 - accuracy: 0.9923 - val_loss: 0.0771 - val_accuracy: 0.9869\n",
            "Epoch 38/45\n",
            "200/200 [==============================] - 1s 4ms/step - loss: 0.0390 - accuracy: 0.9870 - val_loss: 0.0878 - val_accuracy: 0.9812\n",
            "Epoch 39/45\n",
            "200/200 [==============================] - 1s 4ms/step - loss: 0.0426 - accuracy: 0.9887 - val_loss: 0.1170 - val_accuracy: 0.9775\n",
            "Epoch 40/45\n",
            "200/200 [==============================] - 1s 4ms/step - loss: 0.0316 - accuracy: 0.9898 - val_loss: 0.0849 - val_accuracy: 0.9850\n",
            "Epoch 41/45\n",
            "200/200 [==============================] - 1s 4ms/step - loss: 0.0321 - accuracy: 0.9914 - val_loss: 0.1172 - val_accuracy: 0.9812\n",
            "Epoch 42/45\n",
            "200/200 [==============================] - 1s 4ms/step - loss: 0.0503 - accuracy: 0.9856 - val_loss: 0.1074 - val_accuracy: 0.9831\n",
            "Epoch 43/45\n",
            "200/200 [==============================] - 1s 4ms/step - loss: 0.0305 - accuracy: 0.9925 - val_loss: 0.0868 - val_accuracy: 0.9862\n",
            "Epoch 44/45\n",
            "200/200 [==============================] - 1s 4ms/step - loss: 0.0256 - accuracy: 0.9919 - val_loss: 0.0781 - val_accuracy: 0.9875\n",
            "Epoch 45/45\n",
            "200/200 [==============================] - 1s 4ms/step - loss: 0.0241 - accuracy: 0.9928 - val_loss: 0.0824 - val_accuracy: 0.9869\n"
          ]
        }
      ]
    },
    {
      "cell_type": "markdown",
      "source": [
        "## Predict some images\n",
        "Print the image along with its label (true value) and predicted value."
      ],
      "metadata": {
        "id": "ml1Kna_DuJrL"
      }
    },
    {
      "cell_type": "code",
      "source": [
        "# Your code\n",
        "\n",
        "pred=np.argmax(model.predict(X_test),axis=1)\n",
        "plt.figure(figsize=(16,16))\n",
        "for i in range(16):\n",
        "  plt.subplot(5,4,i+1)\n",
        "  plt.grid(False)\n",
        "  plt.xticks([])\n",
        "  plt.yticks([])\n",
        "  plt.imshow(X_test[i])\n",
        "  plt.xlabel(\"Prediction:{}, Actual:{}\".format(pred[i],Y_test[i]))"
      ],
      "metadata": {
        "id": "qioZul7_uiYq",
        "colab": {
          "base_uri": "https://localhost:8080/",
          "height": 735
        },
        "outputId": "4bf03180-0abc-4307-9686-a5e8a1032340"
      },
      "execution_count": 19,
      "outputs": [
        {
          "output_type": "display_data",
          "data": {
            "text/plain": [
              "<Figure size 1152x1152 with 16 Axes>"
            ],
            "image/png": "[encoded data removed]"
          },
          "metadata": {}
        }
      ]
    }
  ]
}