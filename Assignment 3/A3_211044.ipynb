{
  "nbformat": 4,
  "nbformat_minor": 0,
  "metadata": {
    "colab": {
      "name": "soln-CV_with_TF-Assignment-3.ipynb",
      "provenance": [],
      "collapsed_sections": []
    },
    "kernelspec": {
      "name": "python3",
      "display_name": "Python 3"
    },
    "language_info": {
      "name": "python"
    },
    "accelerator": "GPU",
    "gpuClass": "standard"
  },
  "cells": [
    {
      "cell_type": "markdown",
      "source": [
        "# Assignment 3\n",
        "\n",
        " In this Assignment, we will use CNN to classify digits.   \n",
        "The `MNIST` database is a large database of handwritten digits that is commonly used for training various image processing systems.\n",
        "\n"
      ],
      "metadata": {
        "id": "VGHh_5UYzKpV"
      }
    },
    {
      "cell_type": "markdown",
      "source": [
        "## Importing TensorFlow"
      ],
      "metadata": {
        "id": "JnsMbCPNzPAr"
      }
    },
    {
      "cell_type": "code",
      "execution_count": 1,
      "metadata": {
        "id": "HRLTw3cMwvi7"
      },
      "outputs": [],
      "source": [
        "import tensorflow as tf"
      ]
    },
    {
      "cell_type": "markdown",
      "source": [
        "## Get the dataset"
      ],
      "metadata": {
        "id": "6Ji7HGpgzSPi"
      }
    },
    {
      "cell_type": "code",
      "source": [
        "# Import the dataset\n",
        "(x_train, y_train), (x_test, y_test) = tf.keras.datasets.mnist.load_data()"
      ],
      "metadata": {
        "id": "oEW3KDEvzIHL",
        "outputId": "6933b6fa-3bf7-41a1-b733-c95daffbfd97",
        "colab": {
          "base_uri": "https://localhost:8080/"
        }
      },
      "execution_count": 2,
      "outputs": [
        {
          "output_type": "stream",
          "name": "stdout",
          "text": [
            "Downloading data from https://storage.googleapis.com/tensorflow/tf-keras-datasets/mnist.npz\n",
            "11493376/11490434 [==============================] - 0s 0us/step\n",
            "11501568/11490434 [==============================] - 0s 0us/step\n"
          ]
        }
      ]
    },
    {
      "cell_type": "code",
      "source": [
        "# Split the dataset\n",
        "from sklearn.model_selection import train_test_split\n",
        "X_train,X_test,Y_train,Y_test=train_test_split(x_test,y_test,test_size=0.2)"
      ],
      "metadata": {
        "id": "F_sRU9dx_mYQ"
      },
      "execution_count": 3,
      "outputs": []
    },
    {
      "cell_type": "code",
      "source": [
        "# Pre processing \n",
        "X_train = X_train / 255.0\n",
        "X_test = X_test / 255.0"
      ],
      "metadata": {
        "id": "rbt0WbW6sDVs"
      },
      "execution_count": 4,
      "outputs": []
    },
    {
      "cell_type": "markdown",
      "source": [
        "## Visualize the dataset\n",
        "Print some images with labels."
      ],
      "metadata": {
        "id": "EVpQheoVqoEG"
      }
    },
    {
      "cell_type": "code",
      "source": [
        "import matplotlib.pyplot as plt\n",
        "\n",
        "for i in range(5):\n",
        "    plt.imshow(X_train[i])\n",
        "    plt.show()\n",
        "    print(Y_train[i])\n",
        "    "
      ],
      "metadata": {
        "id": "yF1Nj63Bz9m7",
        "outputId": "b515e3a9-15fb-41ac-b0ad-fa71a4195b2b",
        "colab": {
          "base_uri": "https://localhost:8080/",
          "height": 1000
        }
      },
      "execution_count": 5,
      "outputs": [
        {
          "output_type": "display_data",
          "data": {
            "text/plain": [
              "<Figure size 432x288 with 1 Axes>"
            ],
            "image/png": "[encoded data removed]"
          },
          "metadata": {
            "needs_background": "light"
          }
        },
        {
          "output_type": "stream",
          "name": "stdout",
          "text": [
            "4\n"
          ]
        },
        {
          "output_type": "display_data",
          "data": {
            "text/plain": [
              "<Figure size 432x288 with 1 Axes>"
            ],
            "image/png": "[encoded data removed]"
          },
          "metadata": {
            "needs_background": "light"
          }
        },
        {
          "output_type": "stream",
          "name": "stdout",
          "text": [
            "7\n"
          ]
        },
        {
          "output_type": "display_data",
          "data": {
            "text/plain": [
              "<Figure size 432x288 with 1 Axes>"
            ],
            "image/png": "[encoded data removed]"
          },
          "metadata": {
            "needs_background": "light"
          }
        },
        {
          "output_type": "stream",
          "name": "stdout",
          "text": [
            "0\n"
          ]
        },
        {
          "output_type": "display_data",
          "data": {
            "text/plain": [
              "<Figure size 432x288 with 1 Axes>"
            ],
            "image/png": "[encoded data removed]"
          },
          "metadata": {
            "needs_background": "light"
          }
        },
        {
          "output_type": "stream",
          "name": "stdout",
          "text": [
            "7\n"
          ]
        },
        {
          "output_type": "display_data",
          "data": {
            "text/plain": [
              "<Figure size 432x288 with 1 Axes>"
            ],
            "image/png": "[encoded data removed]"
          },
          "metadata": {
            "needs_background": "light"
          }
        },
        {
          "output_type": "stream",
          "name": "stdout",
          "text": [
            "7\n"
          ]
        }
      ]
    },
    {
      "cell_type": "markdown",
      "source": [
        "Plot statistics of the training and testing dataset  \n",
        "(`x axis`: digits, `y axis`: number of samples corresponding to the digits)"
      ],
      "metadata": {
        "id": "Rx8muKSIrKhe"
      }
    },
    {
      "cell_type": "code",
      "source": [
        "import numpy as np\n",
        "\n",
        "nums = np.zeros(10, dtype='int')\n",
        "for i in Y_train:\n",
        "    nums[i] += 1\n",
        "\n",
        "print(nums)"
      ],
      "metadata": {
        "id": "37kehTG_6Pi4",
        "colab": {
          "base_uri": "https://localhost:8080/"
        },
        "outputId": "e489d439-ebf3-4628-feb1-7165abc374e8"
      },
      "execution_count": 6,
      "outputs": [
        {
          "output_type": "stream",
          "name": "stdout",
          "text": [
            "[772 912 843 812 776 723 771 824 768 799]\n"
          ]
        }
      ]
    },
    {
      "cell_type": "markdown",
      "source": [
        "## Model"
      ],
      "metadata": {
        "id": "kWlpCWdAr8d3"
      }
    },
    {
      "cell_type": "code",
      "source": [
        "# model building\n",
        "# You are supposed to look at some CNN architectures and add convolutional layers along with MaxPooling, specifying the kernel size, pooling size, activation\n",
        "from tensorflow import keras\n",
        "\n",
        "model = keras.models.Sequential([\n",
        "    keras.layers.Flatten(),\n",
        "    keras.layers.Dense(128, activation='relu'),\n",
        "    keras.layers.Dense(10)\n",
        "])\n",
        "\n",
        "loss = keras.losses.SparseCategoricalCrossentropy(from_logits=True)\n",
        "optim = keras.optimizers.Adam(learning_rate=0.001)\n",
        "metrics = ['accuracy']\n"
      ],
      "metadata": {
        "id": "1L07EyQ0Yion"
      },
      "execution_count": 7,
      "outputs": []
    },
    {
      "cell_type": "code",
      "source": [
        "# Compile the model (add optimizers and metrics)\n",
        "model.compile(loss=loss, optimizer=optim, metrics=metrics)\n",
        "\n",
        "# Fit the model on the training data (specify validation_split, read about validation if new to you)\n",
        "model.fit(X_train, Y_train, epochs=10, shuffle=True, verbose=2)\n",
        "\n",
        "prob_model = keras.models.Sequential([\n",
        "    model,\n",
        "    keras.layers.Softmax()\n",
        "])\n",
        "\n",
        "model.evaluate(X_test, Y_test, verbose=2)"
      ],
      "metadata": {
        "id": "nKEZ8cbO9JVV",
        "colab": {
          "base_uri": "https://localhost:8080/"
        },
        "outputId": "954df34f-13f1-477a-9885-b573a216ba2b"
      },
      "execution_count": 8,
      "outputs": [
        {
          "output_type": "stream",
          "name": "stdout",
          "text": [
            "Epoch 1/10\n",
            "250/250 - 3s - loss: 0.5477 - accuracy: 0.8438 - 3s/epoch - 12ms/step\n",
            "Epoch 2/10\n",
            "250/250 - 0s - loss: 0.2456 - accuracy: 0.9271 - 429ms/epoch - 2ms/step\n",
            "Epoch 3/10\n",
            "250/250 - 0s - loss: 0.1723 - accuracy: 0.9511 - 417ms/epoch - 2ms/step\n",
            "Epoch 4/10\n",
            "250/250 - 0s - loss: 0.1300 - accuracy: 0.9629 - 415ms/epoch - 2ms/step\n",
            "Epoch 5/10\n",
            "250/250 - 0s - loss: 0.0995 - accuracy: 0.9711 - 418ms/epoch - 2ms/step\n",
            "Epoch 6/10\n",
            "250/250 - 0s - loss: 0.0739 - accuracy: 0.9810 - 426ms/epoch - 2ms/step\n",
            "Epoch 7/10\n",
            "250/250 - 0s - loss: 0.0559 - accuracy: 0.9864 - 416ms/epoch - 2ms/step\n",
            "Epoch 8/10\n",
            "250/250 - 0s - loss: 0.0444 - accuracy: 0.9909 - 424ms/epoch - 2ms/step\n",
            "Epoch 9/10\n",
            "250/250 - 0s - loss: 0.0330 - accuracy: 0.9941 - 428ms/epoch - 2ms/step\n",
            "Epoch 10/10\n",
            "250/250 - 0s - loss: 0.0250 - accuracy: 0.9969 - 409ms/epoch - 2ms/step\n",
            "63/63 - 0s - loss: 0.1523 - accuracy: 0.9500 - 286ms/epoch - 5ms/step\n"
          ]
        },
        {
          "output_type": "execute_result",
          "data": {
            "text/plain": [
              "[0.1522577553987503, 0.949999988079071]"
            ]
          },
          "metadata": {},
          "execution_count": 8
        }
      ]
    },
    {
      "cell_type": "markdown",
      "source": [
        "## Predict some images\n",
        "Print the image along with its label (true value) and predicted value."
      ],
      "metadata": {
        "id": "ml1Kna_DuJrL"
      }
    },
    {
      "cell_type": "code",
      "source": [
        "y_pred = prob_model(X_test)\n",
        "y_pred = np.argmax(y_pred, axis=1)\n",
        "\n",
        "for i in range(10):\n",
        "    plt.imshow(X_test[i])\n",
        "    plt.show()\n",
        "    print('Predicted:', y_pred[i], 'Actual:', Y_test[i])"
      ],
      "metadata": {
        "id": "qioZul7_uiYq",
        "colab": {
          "base_uri": "https://localhost:8080/",
          "height": 1000
        },
        "outputId": "f48dd718-defa-4593-d7a8-818d9427019f"
      },
      "execution_count": 9,
      "outputs": [
        {
          "output_type": "display_data",
          "data": {
            "text/plain": [
              "<Figure size 432x288 with 1 Axes>"
            ],
            "image/png": "[encoded data removed]"
          },
          "metadata": {
            "needs_background": "light"
          }
        },
        {
          "output_type": "stream",
          "name": "stdout",
          "text": [
            "Predicted: 7 Actual: 7\n"
          ]
        },
        {
          "output_type": "display_data",
          "data": {
            "text/plain": [
              "<Figure size 432x288 with 1 Axes>"
            ],
            "image/png": "[encoded data removed]"
          },
          "metadata": {
            "needs_background": "light"
          }
        },
        {
          "output_type": "stream",
          "name": "stdout",
          "text": [
            "Predicted: 2 Actual: 2\n"
          ]
        },
        {
          "output_type": "display_data",
          "data": {
            "text/plain": [
              "<Figure size 432x288 with 1 Axes>"
            ],
            "image/png": "[encoded data removed]"
          },
          "metadata": {
            "needs_background": "light"
          }
        },
        {
          "output_type": "stream",
          "name": "stdout",
          "text": [
            "Predicted: 9 Actual: 9\n"
          ]
        },
        {
          "output_type": "display_data",
          "data": {
            "text/plain": [
              "<Figure size 432x288 with 1 Axes>"
            ],
            "image/png": "[encoded data removed]"
          },
          "metadata": {
            "needs_background": "light"
          }
        },
        {
          "output_type": "stream",
          "name": "stdout",
          "text": [
            "Predicted: 1 Actual: 1\n"
          ]
        },
        {
          "output_type": "display_data",
          "data": {
            "text/plain": [
              "<Figure size 432x288 with 1 Axes>"
            ],
            "image/png": "[encoded data removed]"
          },
          "metadata": {
            "needs_background": "light"
          }
        },
        {
          "output_type": "stream",
          "name": "stdout",
          "text": [
            "Predicted: 4 Actual: 4\n"
          ]
        },
        {
          "output_type": "display_data",
          "data": {
            "text/plain": [
              "<Figure size 432x288 with 1 Axes>"
            ],
            "image/png": "[encoded data removed]"
          },
          "metadata": {
            "needs_background": "light"
          }
        },
        {
          "output_type": "stream",
          "name": "stdout",
          "text": [
            "Predicted: 3 Actual: 3\n"
          ]
        },
        {
          "output_type": "display_data",
          "data": {
            "text/plain": [
              "<Figure size 432x288 with 1 Axes>"
            ],
            "image/png": "[encoded data removed]"
          },
          "metadata": {
            "needs_background": "light"
          }
        },
        {
          "output_type": "stream",
          "name": "stdout",
          "text": [
            "Predicted: 7 Actual: 7\n"
          ]
        },
        {
          "output_type": "display_data",
          "data": {
            "text/plain": [
              "<Figure size 432x288 with 1 Axes>"
            ],
            "image/png": "[encoded data removed]"
          },
          "metadata": {
            "needs_background": "light"
          }
        },
        {
          "output_type": "stream",
          "name": "stdout",
          "text": [
            "Predicted: 3 Actual: 3\n"
          ]
        },
        {
          "output_type": "display_data",
          "data": {
            "text/plain": [
              "<Figure size 432x288 with 1 Axes>"
            ],
            "image/png": "[encoded data removed]"
          },
          "metadata": {
            "needs_background": "light"
          }
        },
        {
          "output_type": "stream",
          "name": "stdout",
          "text": [
            "Predicted: 7 Actual: 7\n"
          ]
        },
        {
          "output_type": "display_data",
          "data": {
            "text/plain": [
              "<Figure size 432x288 with 1 Axes>"
            ],
            "image/png": "[encoded data removed]"
          },
          "metadata": {
            "needs_background": "light"
          }
        },
        {
          "output_type": "stream",
          "name": "stdout",
          "text": [
            "Predicted: 5 Actual: 5\n"
          ]
        }
      ]
    }
  ]
}