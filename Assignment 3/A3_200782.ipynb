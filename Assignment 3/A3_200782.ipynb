{
  "cells": [
    {
      "cell_type": "markdown",
      "metadata": {
        "id": "VGHh_5UYzKpV"
      },
      "source": [
        "# Assignment 3\n",
        "\n",
        " In this Assignment, we will use CNN to classify digits.   \n",
        "The `MNIST` database is a large database of handwritten digits that is commonly used for training various image processing systems.\n",
        "\n"
      ]
    },
    {
      "cell_type": "markdown",
      "metadata": {
        "id": "JnsMbCPNzPAr"
      },
      "source": [
        "## Importing TensorFlow"
      ]
    },
    {
      "cell_type": "code",
      "execution_count": 8,
      "metadata": {
        "id": "HRLTw3cMwvi7"
      },
      "outputs": [],
      "source": [
        "import tensorflow as tf"
      ]
    },
    {
      "cell_type": "markdown",
      "metadata": {
        "id": "6Ji7HGpgzSPi"
      },
      "source": [
        "## Get the dataset"
      ]
    },
    {
      "cell_type": "code",
      "execution_count": 9,
      "metadata": {
        "id": "oEW3KDEvzIHL"
      },
      "outputs": [],
      "source": [
        "# Import the dataset\n",
        "\n",
        "(x_train, y_train), (x_test, y_test) = tf.keras.datasets.mnist.load_data()"
      ]
    },
    {
      "cell_type": "code",
      "execution_count": 10,
      "metadata": {
        "id": "F_sRU9dx_mYQ"
      },
      "outputs": [],
      "source": [
        "# Split the dataset\n",
        "\n",
        "from sklearn.model_selection import train_test_split\n",
        "X_train,X_test,Y_train,Y_test=train_test_split(x_test,y_test,test_size=0.2)"
      ]
    },
    {
      "cell_type": "code",
      "execution_count": 11,
      "metadata": {
        "colab": {
          "base_uri": "https://localhost:8080/"
        },
        "id": "rbt0WbW6sDVs",
        "outputId": "60b6624a-8043-44e0-ec0a-0d5686d13595"
      },
      "outputs": [
        {
          "output_type": "stream",
          "name": "stdout",
          "text": [
            "Training datasets: \n",
            "(8000, 28, 28)\n",
            "(8000, 10)\n",
            "\n",
            "\n",
            "Validation datasets: \n",
            "(2000, 28, 28)\n",
            "(2000, 10)\n",
            "\n",
            "\n",
            "Testing datasets: \n",
            "(2000, 28, 28)\n",
            "(2000, 10)\n"
          ]
        }
      ],
      "source": [
        "from keras.utils import np_utils\n",
        "# pre-processing the respected datasets\n",
        "# we can normalize data before hands such that large terms of the calculations can be reduced to smaller terms. \n",
        "# Like, we can normalize the x_train and x_test data by dividing it by 255.\n",
        "X_train = X_train.astype('float32') / 255.\n",
        "X_test = X_test.astype('float32') / 255.\n",
        "x_test = x_test.astype('float32') / 255.\n",
        "\n",
        "# enabling one hot encoding of class basically converting y_test,Y_train,Y_test  from strings to vector forms\n",
        "# Encode labels to one hot vectors (ex : 2 -> [0,0,1,0,0,0,0,0,0,0])\n",
        "Y_train = np_utils.to_categorical(Y_train)\n",
        "Y_test = np_utils.to_categorical(Y_test)\n",
        "y_test = np_utils.to_categorical(y_test)\n",
        "\n",
        "print(\"Training datasets: \")\n",
        "\n",
        "print(X_train.shape)\n",
        "print(Y_train.shape)\n",
        "\n",
        "print('\\n')\n",
        "print(\"Validation datasets: \")\n",
        "\n",
        "print(X_test.shape)\n",
        "print(Y_test.shape)\n",
        "print('\\n')\n",
        "print(\"Testing datasets: \")\n",
        "print(X_test.shape)\n",
        "print(Y_test.shape)"
      ]
    },
    {
      "cell_type": "markdown",
      "metadata": {
        "id": "EVpQheoVqoEG"
      },
      "source": [
        "## Visualize the dataset\n",
        "Print some images with labels."
      ]
    },
    {
      "cell_type": "code",
      "execution_count": 12,
      "metadata": {
        "colab": {
          "base_uri": "https://localhost:8080/",
          "height": 307
        },
        "id": "yF1Nj63Bz9m7",
        "outputId": "4f3178ca-c88d-416a-bb09-504f801a543d"
      },
      "outputs": [
        {
          "output_type": "display_data",
          "data": {
            "text/plain": [
              "<Figure size 1080x324 with 9 Axes>"
            ],
            "image/png": "[encoded data removed]"
          },
          "metadata": {
            "needs_background": "light"
          }
        }
      ],
      "source": [
        "import matplotlib.pyplot as plt\n",
        "plt.figure(figsize=(15,4.5))\n",
        "for i in range(9):  \n",
        "    plt.subplot(3, 3, i+1)\n",
        "    plt.title('Label: {label}\\n'.format(label=y_train[i]))\n",
        "    plt.imshow(x_train[i].reshape((28,28)),cmap=plt.cm.binary)\n",
        "    plt.axis('off')\n",
        "plt.subplots_adjust(wspace=-0.1, hspace=1)\n",
        "plt.show()"
      ]
    },
    {
      "cell_type": "markdown",
      "metadata": {
        "id": "Rx8muKSIrKhe"
      },
      "source": [
        "# Plot statistics of the training and testing dataset  \n",
        "(`x axis`: digits, `y axis`: number of samples corresponding to the digits)"
      ]
    },
    {
      "cell_type": "code",
      "execution_count": 13,
      "metadata": {
        "colab": {
          "base_uri": "https://localhost:8080/",
          "height": 398
        },
        "id": "37kehTG_6Pi4",
        "outputId": "dec9be12-db79-4472-9bd1-16b135679e7d"
      },
      "outputs": [
        {
          "output_type": "stream",
          "name": "stdout",
          "text": [
            "\n",
            "\n"
          ]
        },
        {
          "output_type": "execute_result",
          "data": {
            "text/plain": [
              "<matplotlib.axes._subplots.AxesSubplot at 0x7f54a220ff10>"
            ]
          },
          "metadata": {},
          "execution_count": 13
        },
        {
          "output_type": "display_data",
          "data": {
            "text/plain": [
              "<Figure size 720x360 with 1 Axes>"
            ],
            "image/png": "[encoded data removed]"
          },
          "metadata": {
            "needs_background": "light"
          }
        }
      ],
      "source": [
        "import numpy as np\n",
        "import pandas as pd\n",
        "# column_val2 =['labels_of_Y_train']\n",
        "# p1= plt.figure(figsize=(10, 5))\n",
        "\n",
        "# df = pd.DataFrame(data = y_train, columns = column_val1)\n",
        "# #print(df)\n",
        "# print('\\n')\n",
        "# plt.title(\"Plotting training datasets statistics\")\n",
        "\n",
        "# plt.xlabel('digits') \n",
        "# plt.ylabel('number of samples')\n",
        "# df['labels_of_y_train'].value_counts().plot.bar()\n",
        " \n",
        " \n",
        "Y_train_list = []\n",
        "for i in Y_train:\n",
        "  Y_train_list.append(np.argmax(i))\n",
        "\n",
        "Y_train_datasets = np.array(Y_train_list)\n",
        "# print(y_test_datasets)\n",
        "p1= plt.figure(figsize=(10, 5))\n",
        "column_val1 =['labels_of_Y_train']\n",
        "df = pd.DataFrame(data = Y_train_datasets, columns = column_val1)\n",
        "#print(df)\n",
        "print('\\n')\n",
        "\n",
        "plt.title(\"Plotting training datasets statistics\")\n",
        "plt.xlabel('digits') \n",
        "plt.ylabel('number of samples') \n",
        "df['labels_of_Y_train'].value_counts().plot.bar()\n",
        "\n",
        "\n",
        "# Your code"
      ]
    },
    {
      "cell_type": "code",
      "execution_count": 15,
      "metadata": {
        "colab": {
          "base_uri": "https://localhost:8080/",
          "height": 398
        },
        "id": "c5ONCxVEetDe",
        "outputId": "d7f2788d-e473-4e6f-da2d-12aab8b5bc31"
      },
      "outputs": [
        {
          "output_type": "stream",
          "name": "stdout",
          "text": [
            "\n",
            "\n"
          ]
        },
        {
          "output_type": "execute_result",
          "data": {
            "text/plain": [
              "<matplotlib.axes._subplots.AxesSubplot at 0x7f54a1fd7750>"
            ]
          },
          "metadata": {},
          "execution_count": 15
        },
        {
          "output_type": "display_data",
          "data": {
            "text/plain": [
              "<Figure size 720x360 with 1 Axes>"
            ],
            "image/png": "[encoded data removed]"
          },
          "metadata": {
            "needs_background": "light"
          }
        }
      ],
      "source": [
        "# Plotting countplot for testing datasets. \n",
        "# the y_test datasets has (12000,10) where each of the class is represented in one hot encoding.\n",
        "# therefore we ran a loop to traverse in the array and to acquire the numbers from the index through np.argmax.\n",
        "# for example [0. 0. 0. 1. 0. 0. 0. 0. 0. 0] ---> value will give 3 as 1 (maximum) is present in 3rd index. \n",
        "# the results will be similarly append to the list which can be used for plotting count plot.\n",
        "\n",
        "Y_test_list = []\n",
        "for i in y_test:\n",
        "  Y_test_list.append(np.argmax(i))\n",
        "\n",
        "Y_test_datasets = np.array(Y_test_list)\n",
        "# print(y_test_datasets)\n",
        "p1= plt.figure(figsize=(10, 5))\n",
        "column_val2 =['labels_of_Y_test']\n",
        "df = pd.DataFrame(data = Y_test_datasets, columns = column_val2)\n",
        "#print(df)\n",
        "print('\\n')\n",
        "\n",
        "plt.title(\"Plotting testing datasets statistics\")\n",
        "plt.xlabel('digits') \n",
        "plt.ylabel('number of samples') \n",
        "df['labels_of_Y_test'].value_counts().plot.bar()\n",
        "\n",
        "  \n",
        "# displaying the title\n"
      ]
    },
    {
      "cell_type": "markdown",
      "metadata": {
        "id": "kWlpCWdAr8d3"
      },
      "source": [
        "## Model"
      ]
    },
    {
      "cell_type": "code",
      "execution_count": 19,
      "metadata": {
        "id": "1L07EyQ0Yion"
      },
      "outputs": [],
      "source": [
        "# model building\n",
        "from tensorflow.keras.models import Sequential\n",
        "from tensorflow.keras.layers import (\n",
        "    BatchNormalization, Conv2D, MaxPooling2D, Activation, Flatten, Dropout, Dense\n",
        ")\n",
        "\n",
        "# You are supposed to look at some CNN architectures and add convolutional layers along with MaxPooling, specifying the kernel size, pooling size, activation \n",
        "model=Sequential()\n",
        "    \n",
        "model.add(Conv2D(filters=64, kernel_size = (3,3), activation=\"relu\", input_shape=(28,28,1)))\n",
        "model.add(Conv2D(filters=64, kernel_size = (3,3), activation=\"relu\"))\n",
        "model.add(MaxPooling2D(pool_size=(2,2)))\n",
        "model.add(BatchNormalization())\n",
        "\n",
        "model.add(Conv2D(filters=128, kernel_size = (3,3), activation=\"relu\"))\n",
        "model.add(Conv2D(filters=128, kernel_size = (3,3), activation=\"relu\"))\n",
        "model.add(MaxPooling2D(pool_size=(2,2)))\n",
        "model.add(BatchNormalization())\n",
        "\n",
        "\n",
        "model.add(Conv2D(filters=256, kernel_size = (3,3), activation=\"relu\"))\n",
        "model.add(MaxPooling2D(pool_size=(2,2)))\n",
        "model.add(BatchNormalization())\n",
        "    \n",
        "model.add(Flatten())\n",
        "model.add(Dense(512,activation=\"relu\"))\n",
        "    \n",
        "model.add(Dense(10,activation=\"softmax\"))\n",
        "    "
      ]
    },
    {
      "cell_type": "code",
      "execution_count": 27,
      "metadata": {
        "colab": {
          "base_uri": "https://localhost:8080/"
        },
        "id": "nKEZ8cbO9JVV",
        "outputId": "31276c5a-926f-4c43-995c-ed515dc559bd"
      },
      "outputs": [
        {
          "output_type": "stream",
          "name": "stdout",
          "text": [
            "Epoch 1/10\n",
            "250/250 [==============================] - 2s 7ms/step - loss: 0.0634 - accuracy: 0.9831 - val_loss: 0.0813 - val_accuracy: 0.9785\n",
            "Epoch 2/10\n",
            "250/250 [==============================] - 1s 6ms/step - loss: 0.0322 - accuracy: 0.9898 - val_loss: 0.1118 - val_accuracy: 0.9750\n",
            "Epoch 3/10\n",
            "250/250 [==============================] - 1s 6ms/step - loss: 0.0327 - accuracy: 0.9918 - val_loss: 0.1225 - val_accuracy: 0.9765\n",
            "Epoch 4/10\n",
            "250/250 [==============================] - 1s 6ms/step - loss: 0.0297 - accuracy: 0.9909 - val_loss: 0.0608 - val_accuracy: 0.9845\n",
            "Epoch 5/10\n",
            "250/250 [==============================] - 2s 6ms/step - loss: 0.0306 - accuracy: 0.9910 - val_loss: 0.0763 - val_accuracy: 0.9790\n",
            "Epoch 6/10\n",
            "250/250 [==============================] - 1s 6ms/step - loss: 0.0170 - accuracy: 0.9944 - val_loss: 0.1189 - val_accuracy: 0.9790\n",
            "Epoch 7/10\n",
            "250/250 [==============================] - 1s 6ms/step - loss: 0.0283 - accuracy: 0.9911 - val_loss: 0.1190 - val_accuracy: 0.9720\n",
            "Epoch 8/10\n",
            "250/250 [==============================] - 1s 6ms/step - loss: 0.0214 - accuracy: 0.9929 - val_loss: 0.0850 - val_accuracy: 0.9825\n",
            "Epoch 9/10\n",
            "250/250 [==============================] - 1s 6ms/step - loss: 0.0163 - accuracy: 0.9948 - val_loss: 0.0839 - val_accuracy: 0.9865\n",
            "Epoch 10/10\n",
            "250/250 [==============================] - 1s 6ms/step - loss: 0.0106 - accuracy: 0.9970 - val_loss: 0.0699 - val_accuracy: 0.9880\n"
          ]
        }
      ],
      "source": [
        "# Compile the model (add optimizers and metrics)\n",
        "model.compile(loss=\"categorical_crossentropy\", optimizer=\"adam\", metrics=[\"accuracy\"])\n",
        "# Fit the model on the training data (specify validation_split, read about validation if new to you)\n",
        "\n",
        "history = model.fit( X_train, Y_train, epochs=10, verbose=1, validation_data=(X_test, Y_test))\n",
        "\n"
      ]
    },
    {
      "cell_type": "code",
      "execution_count": 28,
      "metadata": {
        "colab": {
          "base_uri": "https://localhost:8080/"
        },
        "id": "mWr9LgvFsMA2",
        "outputId": "d6865e84-4027-4811-8be3-4b9b875a59cf"
      },
      "outputs": [
        {
          "output_type": "stream",
          "name": "stdout",
          "text": [
            "16/16 [==============================] - 0s 7ms/step - loss: 0.0699 - accuracy: 0.9880\n",
            "Summary: Loss over the test dataset: 0.07, Accuracy: 0.99\n"
          ]
        }
      ],
      "source": [
        "evaluation = model.evaluate(X_test, Y_test, batch_size=128, verbose=1)\n",
        "print('Summary: Loss over the test dataset: %.2f, Accuracy: %.2f' % (evaluation[0], evaluation[1]))"
      ]
    },
    {
      "cell_type": "markdown",
      "metadata": {
        "id": "ml1Kna_DuJrL"
      },
      "source": [
        "## Predict some images\n",
        "Print the image along with its label (true value) and predicted value."
      ]
    },
    {
      "cell_type": "code",
      "execution_count": 32,
      "metadata": {
        "colab": {
          "base_uri": "https://localhost:8080/",
          "height": 307
        },
        "id": "qioZul7_uiYq",
        "outputId": "58996d1b-1f45-41a6-a532-1b4c27329051"
      },
      "outputs": [
        {
          "output_type": "display_data",
          "data": {
            "text/plain": [
              "<Figure size 1080x324 with 9 Axes>"
            ],
            "image/png": "[encoded data removed]"
          },
          "metadata": {
            "needs_background": "light"
          }
        }
      ],
      "source": [
        "y_pred = model.predict(x_test)\n",
        "plt.figure(figsize=(15,4.5))\n",
        "for i in range(9):  \n",
        "    plt.subplot(3, 3, i+1)\n",
        "    plt.title('True value: {label1}\\n Predicted value: {label2}'.format(label1 =y_test[i].argmax() ,label2 =y_pred[i].argmax()))\n",
        "    plt.imshow(x_test[i].reshape((28,28)),cmap=plt.cm.binary)\n",
        "    plt.axis('off')\n",
        "plt.subplots_adjust(wspace=-0.1, hspace=1)\n",
        "plt.show()"
      ]
    }
  ],
  "metadata": {
    "accelerator": "GPU",
    "colab": {
      "collapsed_sections": [],
      "name": "A3_200782.ipynb",
      "provenance": []
    },
    "gpuClass": "standard",
    "kernelspec": {
      "display_name": "Python 3",
      "name": "python3"
    },
    "language_info": {
      "name": "python"
    }
  },
  "nbformat": 4,
  "nbformat_minor": 0
}