{
  "cells": [
    {
      "cell_type": "markdown",
      "metadata": {
        "id": "VGHh_5UYzKpV"
      },
      "source": [
        "# Assignment 3\n",
        "\n",
        " In this Assignment, we will use CNN to classify digits.   \n",
        "The `MNIST` database is a large database of handwritten digits that is commonly used for training various image processing systems.\n",
        "\n"
      ]
    },
    {
      "cell_type": "markdown",
      "metadata": {
        "id": "JnsMbCPNzPAr"
      },
      "source": [
        "## Importing TensorFlow"
      ]
    },
    {
      "cell_type": "code",
      "execution_count": 226,
      "metadata": {
        "id": "HRLTw3cMwvi7"
      },
      "outputs": [],
      "source": [
        "import tensorflow as tf "
      ]
    },
    {
      "cell_type": "markdown",
      "metadata": {
        "id": "6Ji7HGpgzSPi"
      },
      "source": [
        "## Get the dataset"
      ]
    },
    {
      "cell_type": "code",
      "execution_count": 227,
      "metadata": {
        "id": "oEW3KDEvzIHL"
      },
      "outputs": [],
      "source": [
        "# Import the dataset\n",
        "\n",
        "(x_train, y_train), (x_test, y_test) = tf.keras.datasets.mnist.load_data()"
      ]
    },
    {
      "cell_type": "code",
      "execution_count": 228,
      "metadata": {
        "id": "F_sRU9dx_mYQ"
      },
      "outputs": [],
      "source": [
        "# Split the dataset\n",
        "\n",
        "from sklearn.model_selection import train_test_split\n",
        "X_train,X_test,Y_train,Y_test=train_test_split(x_test,y_test,test_size=0.2)"
      ]
    },
    {
      "cell_type": "code",
      "execution_count": 229,
      "metadata": {
        "colab": {
          "base_uri": "https://localhost:8080/"
        },
        "id": "rbt0WbW6sDVs",
        "outputId": "9387b4a0-a3b1-4776-dac7-3da39e7bdc2e"
      },
      "outputs": [
        {
          "output_type": "execute_result",
          "data": {
            "text/plain": [
              "(8000, 28, 28)"
            ]
          },
          "metadata": {},
          "execution_count": 229
        }
      ],
      "source": [
        "# Pre processing  \n",
        "X_train.shape "
      ]
    },
    {
      "cell_type": "code",
      "execution_count": 230,
      "metadata": {
        "colab": {
          "base_uri": "https://localhost:8080/"
        },
        "id": "AZCN9a_VTcss",
        "outputId": "61ae4bd5-f698-4147-a964-0e11e97fac11"
      },
      "outputs": [
        {
          "output_type": "execute_result",
          "data": {
            "text/plain": [
              "(8000,)"
            ]
          },
          "metadata": {},
          "execution_count": 230
        }
      ],
      "source": [
        "Y_train.shape "
      ]
    },
    {
      "cell_type": "code",
      "execution_count": 231,
      "metadata": {
        "colab": {
          "base_uri": "https://localhost:8080/"
        },
        "id": "KMpa776hThz8",
        "outputId": "7daae208-d767-496d-8635-1b1f63a8b28a"
      },
      "outputs": [
        {
          "output_type": "execute_result",
          "data": {
            "text/plain": [
              "array([[[0, 0, 0, ..., 0, 0, 0],\n",
              "        [0, 0, 0, ..., 0, 0, 0],\n",
              "        [0, 0, 0, ..., 0, 0, 0],\n",
              "        ...,\n",
              "        [0, 0, 0, ..., 0, 0, 0],\n",
              "        [0, 0, 0, ..., 0, 0, 0],\n",
              "        [0, 0, 0, ..., 0, 0, 0]],\n",
              "\n",
              "       [[0, 0, 0, ..., 0, 0, 0],\n",
              "        [0, 0, 0, ..., 0, 0, 0],\n",
              "        [0, 0, 0, ..., 0, 0, 0],\n",
              "        ...,\n",
              "        [0, 0, 0, ..., 0, 0, 0],\n",
              "        [0, 0, 0, ..., 0, 0, 0],\n",
              "        [0, 0, 0, ..., 0, 0, 0]],\n",
              "\n",
              "       [[0, 0, 0, ..., 0, 0, 0],\n",
              "        [0, 0, 0, ..., 0, 0, 0],\n",
              "        [0, 0, 0, ..., 0, 0, 0],\n",
              "        ...,\n",
              "        [0, 0, 0, ..., 0, 0, 0],\n",
              "        [0, 0, 0, ..., 0, 0, 0],\n",
              "        [0, 0, 0, ..., 0, 0, 0]],\n",
              "\n",
              "       ...,\n",
              "\n",
              "       [[0, 0, 0, ..., 0, 0, 0],\n",
              "        [0, 0, 0, ..., 0, 0, 0],\n",
              "        [0, 0, 0, ..., 0, 0, 0],\n",
              "        ...,\n",
              "        [0, 0, 0, ..., 0, 0, 0],\n",
              "        [0, 0, 0, ..., 0, 0, 0],\n",
              "        [0, 0, 0, ..., 0, 0, 0]],\n",
              "\n",
              "       [[0, 0, 0, ..., 0, 0, 0],\n",
              "        [0, 0, 0, ..., 0, 0, 0],\n",
              "        [0, 0, 0, ..., 0, 0, 0],\n",
              "        ...,\n",
              "        [0, 0, 0, ..., 0, 0, 0],\n",
              "        [0, 0, 0, ..., 0, 0, 0],\n",
              "        [0, 0, 0, ..., 0, 0, 0]],\n",
              "\n",
              "       [[0, 0, 0, ..., 0, 0, 0],\n",
              "        [0, 0, 0, ..., 0, 0, 0],\n",
              "        [0, 0, 0, ..., 0, 0, 0],\n",
              "        ...,\n",
              "        [0, 0, 0, ..., 0, 0, 0],\n",
              "        [0, 0, 0, ..., 0, 0, 0],\n",
              "        [0, 0, 0, ..., 0, 0, 0]]], dtype=uint8)"
            ]
          },
          "metadata": {},
          "execution_count": 231
        }
      ],
      "source": [
        "X_train"
      ]
    },
    {
      "cell_type": "code",
      "execution_count": 232,
      "metadata": {
        "colab": {
          "base_uri": "https://localhost:8080/"
        },
        "id": "TZHZImpVTkk0",
        "outputId": "651a184e-8f0a-40e1-e96d-16e9cdcf70d7"
      },
      "outputs": [
        {
          "output_type": "execute_result",
          "data": {
            "text/plain": [
              "array([7, 7, 1, ..., 1, 8, 2], dtype=uint8)"
            ]
          },
          "metadata": {},
          "execution_count": 232
        }
      ],
      "source": [
        "Y_train"
      ]
    },
    {
      "cell_type": "markdown",
      "metadata": {
        "id": "EVpQheoVqoEG"
      },
      "source": [
        "## Visualize the dataset\n",
        "Print some images with labels."
      ]
    },
    {
      "cell_type": "code",
      "execution_count": 233,
      "metadata": {
        "colab": {
          "base_uri": "https://localhost:8080/",
          "height": 827
        },
        "id": "yF1Nj63Bz9m7",
        "outputId": "f6c40ad4-815d-4ddd-f2ea-4a46c52f265e"
      },
      "outputs": [
        {
          "output_type": "display_data",
          "data": {
            "text/plain": [
              "<Figure size 360x360 with 1 Axes>"
            ],
            "image/png": "[encoded data removed]"
          },
          "metadata": {
            "needs_background": "light"
          }
        },
        {
          "output_type": "display_data",
          "data": {
            "text/plain": [
              "<Figure size 360x360 with 1 Axes>"
            ],
            "image/png": "[encoded data removed]"
          },
          "metadata": {
            "needs_background": "light"
          }
        },
        {
          "output_type": "display_data",
          "data": {
            "text/plain": [
              "<Figure size 360x360 with 1 Axes>"
            ],
            "image/png": "[encoded data removed]"
          },
          "metadata": {
            "needs_background": "light"
          }
        },
        {
          "output_type": "display_data",
          "data": {
            "text/plain": [
              "<Figure size 360x360 with 1 Axes>"
            ],
            "image/png": "[encoded data removed]"
          },
          "metadata": {
            "needs_background": "light"
          }
        },
        {
          "output_type": "display_data",
          "data": {
            "text/plain": [
              "<Figure size 360x360 with 1 Axes>"
            ],
            "image/png": "[encoded data removed]"
          },
          "metadata": {
            "needs_background": "light"
          }
        },
        {
          "output_type": "display_data",
          "data": {
            "text/plain": [
              "<Figure size 360x360 with 1 Axes>"
            ],
            "image/png": "[encoded data removed]"
          },
          "metadata": {
            "needs_background": "light"
          }
        },
        {
          "output_type": "display_data",
          "data": {
            "text/plain": [
              "<Figure size 360x360 with 1 Axes>"
            ],
            "image/png": "[encoded data removed]"
          },
          "metadata": {
            "needs_background": "light"
          }
        },
        {
          "output_type": "display_data",
          "data": {
            "text/plain": [
              "<Figure size 360x360 with 1 Axes>"
            ],
            "image/png": "[encoded data removed]"
          },
          "metadata": {
            "needs_background": "light"
          }
        },
        {
          "output_type": "display_data",
          "data": {
            "text/plain": [
              "<Figure size 360x360 with 1 Axes>"
            ],
            "image/png": "[encoded data removed]"
          },
          "metadata": {
            "needs_background": "light"
          }
        },
        {
          "output_type": "display_data",
          "data": {
            "text/plain": [
              "<Figure size 360x360 with 1 Axes>"
            ],
            "image/png": "[encoded data removed]"
          },
          "metadata": {
            "needs_background": "light"
          }
        }
      ],
      "source": [
        "import matplotlib.pyplot as plt\n",
        "\n",
        "# Your code \n",
        "\n",
        "for i in range(10):  \n",
        " plt.figure(figsize=(5,5))  \n",
        " plt.subplot(5,5,i+1)\n",
        " plt.imshow(X_train[i], cmap=plt.get_cmap('gray'))\n",
        " plt.show() "
      ]
    },
    {
      "cell_type": "markdown",
      "metadata": {
        "id": "Rx8muKSIrKhe"
      },
      "source": [
        "Plot statistics of the training and testing dataset  \n",
        "(`x axis`: digits, `y axis`: number of samples corresponding to the digits)"
      ]
    },
    {
      "cell_type": "code",
      "execution_count": 234,
      "metadata": {
        "id": "37kehTG_6Pi4"
      },
      "outputs": [],
      "source": [
        "import numpy as np  \n",
        "\n",
        "# Your code \n",
        "import matplotlib.pyplot as plt  \n",
        "\n"
      ]
    },
    {
      "cell_type": "markdown",
      "metadata": {
        "id": "kWlpCWdAr8d3"
      },
      "source": [
        "## Model"
      ]
    },
    {
      "cell_type": "code",
      "execution_count": 235,
      "metadata": {
        "id": "1L07EyQ0Yion"
      },
      "outputs": [],
      "source": [
        "# model building\n",
        "import keras\n",
        "# You are supposed to look at some CNN architectures and add convolutional layers along with MaxPooling, specifying the kernel size, pooling size, activation  \n",
        "from keras.models import Sequential \n",
        "from keras.layers import Dense, Conv2D, MaxPool2D, Flatten, Dropout  \n",
        "\n",
        "model= Sequential() \n",
        "\n",
        "model.add(Conv2D(32, (3,3), activation='relu', input_shape = (28,28,1) )) \n",
        "model.add(MaxPool2D((2,2)))\n",
        "\n",
        "model.add(Conv2D(64, (3,3), activation='relu' )) \n",
        "model.add(MaxPool2D((2,2)))  \n",
        "\n",
        "\n",
        "model.add(Flatten())  \n",
        "model.add(Dropout(0.25))\n",
        "\n",
        "\n",
        "model.add(Dense(10, activation='softmax')) \n"
      ]
    },
    {
      "cell_type": "code",
      "execution_count": 236,
      "metadata": {
        "colab": {
          "base_uri": "https://localhost:8080/"
        },
        "id": "iDlFt7C5ITis",
        "outputId": "d022c948-6cf1-4f1f-f980-91b5a79853a0"
      },
      "outputs": [
        {
          "output_type": "stream",
          "name": "stdout",
          "text": [
            "Model: \"sequential_39\"\n",
            "_________________________________________________________________\n",
            " Layer (type)                Output Shape              Param #   \n",
            "=================================================================\n",
            " conv2d_78 (Conv2D)          (None, 26, 26, 32)        320       \n",
            "                                                                 \n",
            " max_pooling2d_75 (MaxPoolin  (None, 13, 13, 32)       0         \n",
            " g2D)                                                            \n",
            "                                                                 \n",
            " conv2d_79 (Conv2D)          (None, 11, 11, 64)        18496     \n",
            "                                                                 \n",
            " max_pooling2d_76 (MaxPoolin  (None, 5, 5, 64)         0         \n",
            " g2D)                                                            \n",
            "                                                                 \n",
            " flatten_35 (Flatten)        (None, 1600)              0         \n",
            "                                                                 \n",
            " dropout_46 (Dropout)        (None, 1600)              0         \n",
            "                                                                 \n",
            " dense_70 (Dense)            (None, 10)                16010     \n",
            "                                                                 \n",
            "=================================================================\n",
            "Total params: 34,826\n",
            "Trainable params: 34,826\n",
            "Non-trainable params: 0\n",
            "_________________________________________________________________\n"
          ]
        }
      ],
      "source": [
        "model.summary()"
      ]
    },
    {
      "cell_type": "code",
      "execution_count": 237,
      "metadata": {
        "id": "nKEZ8cbO9JVV"
      },
      "outputs": [],
      "source": [
        "\n",
        "# Compile the model (add optimizers and metrics) \n",
        "model.compile(optimizer='adam', loss = tf.keras.losses.SparseCategoricalCrossentropy(from_logits= True), metrics=['accuracy'])\n",
        "\n",
        "\n",
        "# Fit the model on the training data (specify validation_split, read about validation if new to you) \n",
        "\n"
      ]
    },
    {
      "cell_type": "code",
      "execution_count": 238,
      "metadata": {
        "colab": {
          "base_uri": "https://localhost:8080/"
        },
        "id": "BMuBYl1VjRql",
        "outputId": "bb925035-711f-4a4c-983b-25ecfcbd1421"
      },
      "outputs": [
        {
          "output_type": "stream",
          "name": "stdout",
          "text": [
            "Epoch 1/10\n"
          ]
        },
        {
          "output_type": "stream",
          "name": "stderr",
          "text": [
            "/usr/local/lib/python3.7/dist-packages/tensorflow/python/util/dispatch.py:1082: UserWarning: \"`sparse_categorical_crossentropy` received `from_logits=True`, but the `output` argument was produced by a sigmoid or softmax activation and thus does not represent logits. Was this intended?\"\n",
            "  return dispatch_target(*args, **kwargs)\n"
          ]
        },
        {
          "output_type": "stream",
          "name": "stdout",
          "text": [
            "200/200 [==============================] - 1s 5ms/step - loss: 3.2156 - accuracy: 0.7669 - val_loss: 0.2537 - val_accuracy: 0.9225\n",
            "Epoch 2/10\n",
            "200/200 [==============================] - 1s 3ms/step - loss: 0.3018 - accuracy: 0.9137 - val_loss: 0.1819 - val_accuracy: 0.9481\n",
            "Epoch 3/10\n",
            "200/200 [==============================] - 1s 4ms/step - loss: 0.1912 - accuracy: 0.9433 - val_loss: 0.1620 - val_accuracy: 0.9550\n",
            "Epoch 4/10\n",
            "200/200 [==============================] - 1s 3ms/step - loss: 0.1421 - accuracy: 0.9573 - val_loss: 0.1311 - val_accuracy: 0.9594\n",
            "Epoch 5/10\n",
            "200/200 [==============================] - 1s 3ms/step - loss: 0.0915 - accuracy: 0.9706 - val_loss: 0.1318 - val_accuracy: 0.9619\n",
            "Epoch 6/10\n",
            "200/200 [==============================] - 1s 3ms/step - loss: 0.0858 - accuracy: 0.9716 - val_loss: 0.1109 - val_accuracy: 0.9700\n",
            "Epoch 7/10\n",
            "200/200 [==============================] - 1s 3ms/step - loss: 0.0639 - accuracy: 0.9770 - val_loss: 0.1037 - val_accuracy: 0.9737\n",
            "Epoch 8/10\n",
            "200/200 [==============================] - 1s 3ms/step - loss: 0.0547 - accuracy: 0.9795 - val_loss: 0.0928 - val_accuracy: 0.9787\n",
            "Epoch 9/10\n",
            "200/200 [==============================] - 1s 4ms/step - loss: 0.0493 - accuracy: 0.9850 - val_loss: 0.1071 - val_accuracy: 0.9762\n",
            "Epoch 10/10\n",
            "200/200 [==============================] - 1s 4ms/step - loss: 0.0402 - accuracy: 0.9869 - val_loss: 0.0969 - val_accuracy: 0.9762\n"
          ]
        }
      ],
      "source": [
        "Model_train= model.fit(X_train, Y_train, epochs=10, validation_split= 0.2)"
      ]
    },
    {
      "cell_type": "code",
      "execution_count": 239,
      "metadata": {
        "colab": {
          "base_uri": "https://localhost:8080/",
          "height": 296
        },
        "id": "BiTSDJYnePpD",
        "outputId": "fbe458a6-87b4-4f94-9424-61cc572bfc53"
      },
      "outputs": [
        {
          "output_type": "execute_result",
          "data": {
            "text/plain": [
              "Text(0, 0.5, 'Accuracy')"
            ]
          },
          "metadata": {},
          "execution_count": 239
        },
        {
          "output_type": "display_data",
          "data": {
            "text/plain": [
              "<Figure size 432x288 with 1 Axes>"
            ],
            "image/png": "[encoded data removed]"
          },
          "metadata": {
            "needs_background": "light"
          }
        }
      ],
      "source": [
        " plt.plot(Model_train.history['accuracy'] )  \n",
        " plt.plot(Model_train.history['val_accuracy'])  \n",
        " plt.xlabel('Epoch')\n",
        " plt.ylabel('Accuracy')"
      ]
    },
    {
      "cell_type": "markdown",
      "metadata": {
        "id": "ml1Kna_DuJrL"
      },
      "source": [
        "## Predict some images\n",
        "Print the image along with its label (true value) and predicted value."
      ]
    },
    {
      "cell_type": "code",
      "execution_count": 275,
      "metadata": {
        "id": "qioZul7_uiYq"
      },
      "outputs": [],
      "source": [
        "# Your code \n",
        "Model_pred = model.predict(X_test[:10]) \n",
        "arr=[]\n",
        "for i in range(10):\n",
        " values=np.where(Model_pred[i]==max(Model_pred[i]))\n",
        " arr.append(values)\n",
        " "
      ]
    },
    {
      "cell_type": "code",
      "execution_count": 276,
      "metadata": {
        "colab": {
          "base_uri": "https://localhost:8080/",
          "height": 967
        },
        "id": "QxcwKgIHfDuy",
        "outputId": "3165b47a-2344-47fd-d8da-8cdd1925a81c"
      },
      "outputs": [
        {
          "output_type": "display_data",
          "data": {
            "text/plain": [
              "<Figure size 360x360 with 1 Axes>"
            ],
            "image/png": "[encoded data removed]"
          },
          "metadata": {
            "needs_background": "light"
          }
        },
        {
          "output_type": "display_data",
          "data": {
            "text/plain": [
              "<Figure size 360x360 with 1 Axes>"
            ],
            "image/png": "[encoded data removed]"
          },
          "metadata": {
            "needs_background": "light"
          }
        },
        {
          "output_type": "display_data",
          "data": {
            "text/plain": [
              "<Figure size 360x360 with 1 Axes>"
            ],
            "image/png": "[encoded data removed]"
          },
          "metadata": {
            "needs_background": "light"
          }
        },
        {
          "output_type": "display_data",
          "data": {
            "text/plain": [
              "<Figure size 360x360 with 1 Axes>"
            ],
            "image/png": "[encoded data removed]"
          },
          "metadata": {
            "needs_background": "light"
          }
        },
        {
          "output_type": "display_data",
          "data": {
            "text/plain": [
              "<Figure size 360x360 with 1 Axes>"
            ],
            "image/png": "[encoded data removed]"
          },
          "metadata": {
            "needs_background": "light"
          }
        },
        {
          "output_type": "display_data",
          "data": {
            "text/plain": [
              "<Figure size 360x360 with 1 Axes>"
            ],
            "image/png": "[encoded data removed]"
          },
          "metadata": {
            "needs_background": "light"
          }
        },
        {
          "output_type": "display_data",
          "data": {
            "text/plain": [
              "<Figure size 360x360 with 1 Axes>"
            ],
            "image/png": "[encoded data removed]"
          },
          "metadata": {
            "needs_background": "light"
          }
        },
        {
          "output_type": "display_data",
          "data": {
            "text/plain": [
              "<Figure size 360x360 with 1 Axes>"
            ],
            "image/png": "[encoded data removed]"
          },
          "metadata": {
            "needs_background": "light"
          }
        },
        {
          "output_type": "display_data",
          "data": {
            "text/plain": [
              "<Figure size 360x360 with 1 Axes>"
            ],
            "image/png": "[encoded data removed]"
          },
          "metadata": {
            "needs_background": "light"
          }
        },
        {
          "output_type": "display_data",
          "data": {
            "text/plain": [
              "<Figure size 360x360 with 1 Axes>"
            ],
            "image/png": "[encoded data removed]"
          },
          "metadata": {
            "needs_background": "light"
          }
        }
      ],
      "source": [
        "\n",
        "\n",
        "\n",
        "for i in range(10): \n",
        " plt.figure(figsize=(5,5))\n",
        " plt.subplot(5,5,i+1) \n",
        " plt.imshow(X_test[i],cmap=plt.get_cmap('gray'))\n",
        " plt.xlabel(f\"{arr[i][0]}\")"
      ]
    }
  ],
  "metadata": {
    "accelerator": "GPU",
    "colab": {
      "name": "Copy of CV_with_TF-Assignment-3.ipynb",
      "provenance": []
    },
    "gpuClass": "standard",
    "kernelspec": {
      "display_name": "Python 3",
      "name": "python3"
    },
    "language_info": {
      "name": "python"
    }
  },
  "nbformat": 4,
  "nbformat_minor": 0
}
