{
  "nbformat": 4,
  "nbformat_minor": 0,
  "metadata": {
    "colab": {
      "name": "A3_200148.ipynb",
      "provenance": [],
      "collapsed_sections": []
    },
    "kernelspec": {
      "name": "python3",
      "display_name": "Python 3"
    },
    "language_info": {
      "name": "python"
    },
    "accelerator": "GPU",
    "gpuClass": "standard"
  },
  "cells": [
    {
      "cell_type": "markdown",
      "source": [
        "# Assignment 3\n",
        "\n",
        " In this Assignment, we will use CNN to classify digits.   \n",
        "The `MNIST` database is a large database of handwritten digits that is commonly used for training various image processing systems.\n",
        "\n"
      ],
      "metadata": {
        "id": "VGHh_5UYzKpV"
      }
    },
    {
      "cell_type": "markdown",
      "source": [
        "## Importing TensorFlow"
      ],
      "metadata": {
        "id": "JnsMbCPNzPAr"
      }
    },
    {
      "cell_type": "code",
      "execution_count": 5,
      "metadata": {
        "id": "HRLTw3cMwvi7"
      },
      "outputs": [],
      "source": [
        "import tensorflow as tf"
      ]
    },
    {
      "cell_type": "markdown",
      "source": [
        "## Get the dataset"
      ],
      "metadata": {
        "id": "6Ji7HGpgzSPi"
      }
    },
    {
      "cell_type": "code",
      "source": [
        "# Import the dataset\n",
        "\n",
        "(x_train, y_train), (x_test, y_test) = tf.keras.datasets.mnist.load_data()"
      ],
      "metadata": {
        "id": "oEW3KDEvzIHL",
        "colab": {
          "base_uri": "https://localhost:8080/"
        },
        "outputId": "d6cfe506-c205-4c10-e1ab-f85fdddce679"
      },
      "execution_count": 6,
      "outputs": [
        {
          "output_type": "stream",
          "name": "stdout",
          "text": [
            "Downloading data from https://storage.googleapis.com/tensorflow/tf-keras-datasets/mnist.npz\n",
            "11493376/11490434 [==============================] - 0s 0us/step\n",
            "11501568/11490434 [==============================] - 0s 0us/step\n"
          ]
        }
      ]
    },
    {
      "cell_type": "code",
      "source": [
        "# Split the dataset\n",
        "\n",
        "from sklearn.model_selection import train_test_split\n",
        "X_train,X_test,Y_train,Y_test=train_test_split(x_test,y_test,test_size=0.2)"
      ],
      "metadata": {
        "id": "F_sRU9dx_mYQ"
      },
      "execution_count": 7,
      "outputs": []
    },
    {
      "cell_type": "code",
      "source": [
        "# Pre processing \n",
        "print(X_train.shape,Y_train.shape )\n",
        "for i in range(10):\n",
        "  print(Y_train[i])"
      ],
      "metadata": {
        "id": "rbt0WbW6sDVs",
        "colab": {
          "base_uri": "https://localhost:8080/"
        },
        "outputId": "764f5218-46e6-4199-e9ee-1849c45d45e5"
      },
      "execution_count": 8,
      "outputs": [
        {
          "output_type": "stream",
          "name": "stdout",
          "text": [
            "(8000, 28, 28) (8000,)\n",
            "2\n",
            "2\n",
            "1\n",
            "8\n",
            "5\n",
            "5\n",
            "3\n",
            "1\n",
            "2\n",
            "5\n"
          ]
        }
      ]
    },
    {
      "cell_type": "markdown",
      "source": [
        "## Visualize the dataset\n",
        "Print some images with labels."
      ],
      "metadata": {
        "id": "EVpQheoVqoEG"
      }
    },
    {
      "cell_type": "code",
      "source": [
        "import matplotlib.pyplot as plt\n",
        "\n",
        "# Your code\n",
        "plt.figure(figsize=(10,10))\n",
        "for i in range(9):\n",
        "    plt.subplot(3,3,i+1)\n",
        "    plt.xticks([])\n",
        "    plt.yticks([])\n",
        "    plt.grid(False)\n",
        "    plt.imshow(X_train[i])\n",
        "    plt.xlabel(Y_train[i])\n",
        "\n",
        "  #plt.show()"
      ],
      "metadata": {
        "id": "yF1Nj63Bz9m7",
        "colab": {
          "base_uri": "https://localhost:8080/",
          "height": 589
        },
        "outputId": "b64ff7f7-64a9-4907-cf97-2faec9cd44c8"
      },
      "execution_count": 9,
      "outputs": [
        {
          "output_type": "display_data",
          "data": {
            "text/plain": [
              "<Figure size 720x720 with 9 Axes>"
            ],
            "image/png": "[encoded data removed]"
          },
          "metadata": {}
        }
      ]
    },
    {
      "cell_type": "markdown",
      "source": [
        "Plot statistics of the training and testing dataset  \n",
        "(`x axis`: digits, `y axis`: number of samples corresponding to the digits)"
      ],
      "metadata": {
        "id": "Rx8muKSIrKhe"
      }
    },
    {
      "cell_type": "code",
      "source": [
        "import numpy as np\n",
        "unique, counts = np.unique(Y_train, return_counts=True)\n",
        "\n",
        "print( np.array((unique, counts)).T)\n",
        "# Your code"
      ],
      "metadata": {
        "id": "37kehTG_6Pi4",
        "colab": {
          "base_uri": "https://localhost:8080/"
        },
        "outputId": "220946d8-de15-43ef-e867-39a4cd3de03d"
      },
      "execution_count": 10,
      "outputs": [
        {
          "output_type": "stream",
          "name": "stdout",
          "text": [
            "[[  0 787]\n",
            " [  1 905]\n",
            " [  2 829]\n",
            " [  3 796]\n",
            " [  4 781]\n",
            " [  5 724]\n",
            " [  6 761]\n",
            " [  7 836]\n",
            " [  8 785]\n",
            " [  9 796]]\n"
          ]
        }
      ]
    },
    {
      "cell_type": "code",
      "source": [
        "plt.bar(unique,counts)\n",
        "plt.title(\"Statistics of Training dataset\")\n",
        "plt.show()"
      ],
      "metadata": {
        "id": "_DC94jBUigmx",
        "colab": {
          "base_uri": "https://localhost:8080/",
          "height": 281
        },
        "outputId": "ba1642cb-5d3c-4f0f-a5e5-f3d6dbf54ce9"
      },
      "execution_count": 11,
      "outputs": [
        {
          "output_type": "display_data",
          "data": {
            "text/plain": [
              "<Figure size 432x288 with 1 Axes>"
            ],
            "image/png": "[encoded data removed]"
          },
          "metadata": {
            "needs_background": "light"
          }
        }
      ]
    },
    {
      "cell_type": "code",
      "source": [
        "unique, counts = np.unique(Y_test, return_counts=True)\n",
        "plt.bar(unique,counts)\n",
        "plt.title(\"Statistics of Test dataset\")\n",
        "plt.show()"
      ],
      "metadata": {
        "id": "eDZOti4KipNE",
        "colab": {
          "base_uri": "https://localhost:8080/",
          "height": 281
        },
        "outputId": "9aa1e0bb-3bc4-4abe-c13d-69cc353b3aaf"
      },
      "execution_count": 12,
      "outputs": [
        {
          "output_type": "display_data",
          "data": {
            "text/plain": [
              "<Figure size 432x288 with 1 Axes>"
            ],
            "image/png": "[encoded data removed]"
          },
          "metadata": {
            "needs_background": "light"
          }
        }
      ]
    },
    {
      "cell_type": "code",
      "source": [
        "import tensorflow as tf\n",
        "\n",
        "from tensorflow.keras import datasets, layers, models"
      ],
      "metadata": {
        "id": "GZLLjWXfismr"
      },
      "execution_count": 13,
      "outputs": []
    },
    {
      "cell_type": "markdown",
      "source": [
        "## Model"
      ],
      "metadata": {
        "id": "kWlpCWdAr8d3"
      }
    },
    {
      "cell_type": "code",
      "source": [
        "# model building\n",
        "\n",
        "# You are supposed to look at some CNN architectures and add convolutional layers along with MaxPooling, specifying the kernel size, pooling size, activation \n",
        "model = models.Sequential()\n",
        "model.add(layers.Conv2D(6,(5,5),activation='relu',input_shape=(28,28,1)))\n",
        "model.add(layers.MaxPooling2D((2,2)))\n",
        "model.add(layers.Conv2D(16,(5,5),activation='relu'))\n",
        "model.add(layers.MaxPooling2D((2,2)))\n",
        "#model.add(layers.Conv2D(16,(5,5),activation='relu'))"
      ],
      "metadata": {
        "id": "1L07EyQ0Yion"
      },
      "execution_count": 14,
      "outputs": []
    },
    {
      "cell_type": "code",
      "source": [
        "model.summary()"
      ],
      "metadata": {
        "id": "Po22ZS99i0tV",
        "colab": {
          "base_uri": "https://localhost:8080/"
        },
        "outputId": "52962b3b-fe67-41b2-900b-f05ecf31f085"
      },
      "execution_count": 15,
      "outputs": [
        {
          "output_type": "stream",
          "name": "stdout",
          "text": [
            "Model: \"sequential\"\n",
            "_________________________________________________________________\n",
            " Layer (type)                Output Shape              Param #   \n",
            "=================================================================\n",
            " conv2d (Conv2D)             (None, 24, 24, 6)         156       \n",
            "                                                                 \n",
            " max_pooling2d (MaxPooling2D  (None, 12, 12, 6)        0         \n",
            " )                                                               \n",
            "                                                                 \n",
            " conv2d_1 (Conv2D)           (None, 8, 8, 16)          2416      \n",
            "                                                                 \n",
            " max_pooling2d_1 (MaxPooling  (None, 4, 4, 16)         0         \n",
            " 2D)                                                             \n",
            "                                                                 \n",
            "=================================================================\n",
            "Total params: 2,572\n",
            "Trainable params: 2,572\n",
            "Non-trainable params: 0\n",
            "_________________________________________________________________\n"
          ]
        }
      ]
    },
    {
      "cell_type": "code",
      "source": [
        "model.add(layers.Flatten())\n",
        "model.add(layers.Dense(64,activation='relu'))\n",
        "model.add(layers.Dense(10,activation='softmax'))"
      ],
      "metadata": {
        "id": "ABFF0vVtjipW"
      },
      "execution_count": 16,
      "outputs": []
    },
    {
      "cell_type": "code",
      "source": [
        "model.summary()"
      ],
      "metadata": {
        "id": "BsxROuF9jn3C",
        "colab": {
          "base_uri": "https://localhost:8080/"
        },
        "outputId": "e08fd331-e769-42a1-9100-f18da7f4363e"
      },
      "execution_count": 17,
      "outputs": [
        {
          "output_type": "stream",
          "name": "stdout",
          "text": [
            "Model: \"sequential\"\n",
            "_________________________________________________________________\n",
            " Layer (type)                Output Shape              Param #   \n",
            "=================================================================\n",
            " conv2d (Conv2D)             (None, 24, 24, 6)         156       \n",
            "                                                                 \n",
            " max_pooling2d (MaxPooling2D  (None, 12, 12, 6)        0         \n",
            " )                                                               \n",
            "                                                                 \n",
            " conv2d_1 (Conv2D)           (None, 8, 8, 16)          2416      \n",
            "                                                                 \n",
            " max_pooling2d_1 (MaxPooling  (None, 4, 4, 16)         0         \n",
            " 2D)                                                             \n",
            "                                                                 \n",
            " flatten (Flatten)           (None, 256)               0         \n",
            "                                                                 \n",
            " dense (Dense)               (None, 64)                16448     \n",
            "                                                                 \n",
            " dense_1 (Dense)             (None, 10)                650       \n",
            "                                                                 \n",
            "=================================================================\n",
            "Total params: 19,670\n",
            "Trainable params: 19,670\n",
            "Non-trainable params: 0\n",
            "_________________________________________________________________\n"
          ]
        }
      ]
    },
    {
      "cell_type": "code",
      "source": [
        "# Compile the model (add optimizers and metrics)\n",
        "model.compile(optimizer='adam',\n",
        "              loss=tf.keras.losses.SparseCategoricalCrossentropy(from_logits=True),\n",
        "              metrics=['accuracy'])\n",
        "# Fit the model on the training data (specify validation_split, read about validation if new to you)\n",
        "history=model.fit(X_train,Y_train,epochs=15,\n",
        "                 validation_split=0.2)"
      ],
      "metadata": {
        "id": "nKEZ8cbO9JVV",
        "colab": {
          "base_uri": "https://localhost:8080/"
        },
        "outputId": "88357ba1-2aa8-4dec-d142-8598d41830c5"
      },
      "execution_count": 18,
      "outputs": [
        {
          "output_type": "stream",
          "name": "stdout",
          "text": [
            "Epoch 1/15\n"
          ]
        },
        {
          "output_type": "stream",
          "name": "stderr",
          "text": [
            "/usr/local/lib/python3.7/dist-packages/tensorflow/python/util/dispatch.py:1082: UserWarning: \"`sparse_categorical_crossentropy` received `from_logits=True`, but the `output` argument was produced by a sigmoid or softmax activation and thus does not represent logits. Was this intended?\"\n",
            "  return dispatch_target(*args, **kwargs)\n"
          ]
        },
        {
          "output_type": "stream",
          "name": "stdout",
          "text": [
            "200/200 [==============================] - 12s 4ms/step - loss: 2.5805 - accuracy: 0.6956 - val_loss: 0.6614 - val_accuracy: 0.8369\n",
            "Epoch 2/15\n",
            "200/200 [==============================] - 1s 3ms/step - loss: 0.4824 - accuracy: 0.8866 - val_loss: 0.4002 - val_accuracy: 0.9000\n",
            "Epoch 3/15\n",
            "200/200 [==============================] - 1s 4ms/step - loss: 0.2534 - accuracy: 0.9341 - val_loss: 0.2748 - val_accuracy: 0.9281\n",
            "Epoch 4/15\n",
            "200/200 [==============================] - 1s 3ms/step - loss: 0.1523 - accuracy: 0.9564 - val_loss: 0.2637 - val_accuracy: 0.9281\n",
            "Epoch 5/15\n",
            "200/200 [==============================] - 1s 3ms/step - loss: 0.1064 - accuracy: 0.9703 - val_loss: 0.2101 - val_accuracy: 0.9431\n",
            "Epoch 6/15\n",
            "200/200 [==============================] - 1s 4ms/step - loss: 0.0624 - accuracy: 0.9805 - val_loss: 0.1870 - val_accuracy: 0.9469\n",
            "Epoch 7/15\n",
            "200/200 [==============================] - 1s 3ms/step - loss: 0.0424 - accuracy: 0.9856 - val_loss: 0.1648 - val_accuracy: 0.9550\n",
            "Epoch 8/15\n",
            "200/200 [==============================] - 1s 3ms/step - loss: 0.0264 - accuracy: 0.9905 - val_loss: 0.1849 - val_accuracy: 0.9550\n",
            "Epoch 9/15\n",
            "200/200 [==============================] - 1s 4ms/step - loss: 0.0134 - accuracy: 0.9961 - val_loss: 0.1695 - val_accuracy: 0.9538\n",
            "Epoch 10/15\n",
            "200/200 [==============================] - 1s 3ms/step - loss: 0.0159 - accuracy: 0.9945 - val_loss: 0.2115 - val_accuracy: 0.9613\n",
            "Epoch 11/15\n",
            "200/200 [==============================] - 1s 3ms/step - loss: 0.0180 - accuracy: 0.9944 - val_loss: 0.2404 - val_accuracy: 0.9531\n",
            "Epoch 12/15\n",
            "200/200 [==============================] - 1s 4ms/step - loss: 0.0531 - accuracy: 0.9822 - val_loss: 0.2173 - val_accuracy: 0.9481\n",
            "Epoch 13/15\n",
            "200/200 [==============================] - 1s 3ms/step - loss: 0.0463 - accuracy: 0.9837 - val_loss: 0.1885 - val_accuracy: 0.9606\n",
            "Epoch 14/15\n",
            "200/200 [==============================] - 1s 4ms/step - loss: 0.0428 - accuracy: 0.9873 - val_loss: 0.1723 - val_accuracy: 0.9625\n",
            "Epoch 15/15\n",
            "200/200 [==============================] - 1s 3ms/step - loss: 0.0293 - accuracy: 0.9909 - val_loss: 0.2050 - val_accuracy: 0.9594\n"
          ]
        }
      ]
    },
    {
      "cell_type": "code",
      "source": [
        "plt.plot(history.history['accuracy'], label='accuracy')\n",
        "plt.plot(history.history['val_accuracy'], label = 'val_accuracy')\n",
        "plt.xlabel('Epoch')\n",
        "plt.ylabel('Accuracy')\n",
        "plt.ylim([0.5, 1])\n",
        "plt.legend(loc='lower right')"
      ],
      "metadata": {
        "id": "PuucXK2_jySN",
        "colab": {
          "base_uri": "https://localhost:8080/",
          "height": 300
        },
        "outputId": "c2ac450b-476d-4b68-8a88-15898a77e735"
      },
      "execution_count": 19,
      "outputs": [
        {
          "output_type": "execute_result",
          "data": {
            "text/plain": [
              "<matplotlib.legend.Legend at 0x7f9cc2101d50>"
            ]
          },
          "metadata": {},
          "execution_count": 19
        },
        {
          "output_type": "display_data",
          "data": {
            "text/plain": [
              "<Figure size 432x288 with 1 Axes>"
            ],
            "image/png": "[encoded data removed]"
          },
          "metadata": {
            "needs_background": "light"
          }
        }
      ]
    },
    {
      "cell_type": "code",
      "source": [
        "test_loss, test_acc = model.evaluate(X_test,Y_test, verbose=2)\n",
        "print(test_acc)"
      ],
      "metadata": {
        "id": "tzP5Kfjqj4Fm",
        "colab": {
          "base_uri": "https://localhost:8080/"
        },
        "outputId": "901c33a0-2281-4b4c-fc7c-30525a002256"
      },
      "execution_count": 20,
      "outputs": [
        {
          "output_type": "stream",
          "name": "stderr",
          "text": [
            "/usr/local/lib/python3.7/dist-packages/tensorflow/python/util/dispatch.py:1082: UserWarning: \"`sparse_categorical_crossentropy` received `from_logits=True`, but the `output` argument was produced by a sigmoid or softmax activation and thus does not represent logits. Was this intended?\"\n",
            "  return dispatch_target(*args, **kwargs)\n"
          ]
        },
        {
          "output_type": "stream",
          "name": "stdout",
          "text": [
            "63/63 - 0s - loss: 0.3125 - accuracy: 0.9505 - 330ms/epoch - 5ms/step\n",
            "0.9505000114440918\n"
          ]
        }
      ]
    },
    {
      "cell_type": "markdown",
      "source": [
        "## Predict some images\n",
        "Print the image along with its label (true value) and predicted value."
      ],
      "metadata": {
        "id": "ml1Kna_DuJrL"
      }
    },
    {
      "cell_type": "code",
      "source": [
        "parr=model.predict(X_test[:25])"
      ],
      "metadata": {
        "id": "aTHFT7t7YNhj"
      },
      "execution_count": 21,
      "outputs": []
    },
    {
      "cell_type": "code",
      "source": [
        "arr=[]\n",
        "for i in range(25):\n",
        "  n=np.where(parr[i]==max(parr[i]))\n",
        "  arr.append(n)"
      ],
      "metadata": {
        "id": "ukX4HDe7YQ1y"
      },
      "execution_count": 22,
      "outputs": []
    },
    {
      "cell_type": "code",
      "source": [
        "# Your code\n",
        "plt.figure(figsize=(15,15))\n",
        "for i in range(25):\n",
        "    plt.subplot(5,5,i+1)\n",
        "    plt.xticks([])\n",
        "    plt.yticks([])\n",
        "    plt.grid(False)\n",
        "    plt.imshow(X_test[i])\n",
        "    plt.xlabel(f\"{Y_test[i]}--->{arr[i][0]}\")"
      ],
      "metadata": {
        "colab": {
          "base_uri": "https://localhost:8080/",
          "height": 860
        },
        "id": "Y7nHPU0cYXD3",
        "outputId": "69be5871-56e3-489e-d43e-8b7dc9567f61"
      },
      "execution_count": 23,
      "outputs": [
        {
          "output_type": "display_data",
          "data": {
            "text/plain": [
              "<Figure size 1080x1080 with 25 Axes>"
            ],
            "image/png": "[encoded data removed]"
          },
          "metadata": {}
        }
      ]
    }
  ]
}