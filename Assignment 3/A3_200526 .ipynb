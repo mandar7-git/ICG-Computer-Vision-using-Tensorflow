{
  "nbformat": 4,
  "nbformat_minor": 0,
  "metadata": {
    "colab": {
      "name": "A3_200526.ipynb",
      "provenance": [],
      "collapsed_sections": []
    },
    "kernelspec": {
      "name": "python3",
      "display_name": "Python 3"
    },
    "language_info": {
      "name": "python"
    },
    "gpuClass": "standard",
    "accelerator": "GPU"
  },
  "cells": [
    {
      "cell_type": "markdown",
      "source": [
        "# Assignment 3\n",
        "\n",
        " In this Assignment, we will use CNN to classify digits.   \n",
        "The `MNIST` database is a large database of handwritten digits that is commonly used for training various image processing systems.\n",
        "\n"
      ],
      "metadata": {
        "id": "VGHh_5UYzKpV"
      }
    },
    {
      "cell_type": "markdown",
      "source": [
        "## Importing TensorFlow and other libraries"
      ],
      "metadata": {
        "id": "JnsMbCPNzPAr"
      }
    },
    {
      "cell_type": "code",
      "execution_count": 1,
      "metadata": {
        "id": "HRLTw3cMwvi7"
      },
      "outputs": [],
      "source": [
        "import tensorflow as tf\n",
        "from numpy import mean\n",
        "from numpy import std\n",
        "from matplotlib import pyplot as plt\n",
        "from sklearn.model_selection import KFold\n",
        "from tensorflow.keras.datasets import mnist\n",
        "from tensorflow.keras.utils import to_categorical\n",
        "from tensorflow.keras.models import Sequential\n",
        "from tensorflow.keras.layers import Conv2D\n",
        "from tensorflow.keras.layers import MaxPooling2D\n",
        "from tensorflow.keras.layers import Dense\n",
        "from tensorflow.keras.layers import Flatten\n",
        "from tensorflow.keras.layers import BatchNormalization\n",
        "from tensorflow.keras.optimizers import SGD"
      ]
    },
    {
      "cell_type": "markdown",
      "source": [
        "## Importing the dataset"
      ],
      "metadata": {
        "id": "6Ji7HGpgzSPi"
      }
    },
    {
      "cell_type": "code",
      "source": [
        "# Import the dataset\n",
        "\n",
        "(x_train, y_train), (x_test, y_test) = tf.keras.datasets.mnist.load_data()"
      ],
      "metadata": {
        "id": "oEW3KDEvzIHL",
        "colab": {
          "base_uri": "https://localhost:8080/"
        },
        "outputId": "8a2986ea-a144-45dd-a12f-a9e7d8146cc8"
      },
      "execution_count": 2,
      "outputs": [
        {
          "output_type": "stream",
          "name": "stdout",
          "text": [
            "Downloading data from https://storage.googleapis.com/tensorflow/tf-keras-datasets/mnist.npz\n",
            "11493376/11490434 [==============================] - 0s 0us/step\n",
            "11501568/11490434 [==============================] - 0s 0us/step\n"
          ]
        }
      ]
    },
    {
      "cell_type": "markdown",
      "source": [
        "## Printing the shape"
      ],
      "metadata": {
        "id": "E7CXFUR_Comf"
      }
    },
    {
      "cell_type": "code",
      "source": [
        "print(x_test.shape)\n",
        "print(x_train.shape)\n",
        "print(y_test.shape)\n",
        "print(y_train.shape)\n"
      ],
      "metadata": {
        "colab": {
          "base_uri": "https://localhost:8080/"
        },
        "id": "EcjBt8UXQQ0K",
        "outputId": "7cc06cc9-b9be-4777-ef65-25354539bc68"
      },
      "execution_count": 3,
      "outputs": [
        {
          "output_type": "stream",
          "name": "stdout",
          "text": [
            "(10000, 28, 28)\n",
            "(60000, 28, 28)\n",
            "(10000,)\n",
            "(60000,)\n"
          ]
        }
      ]
    },
    {
      "cell_type": "markdown",
      "source": [
        "##Splitting the dataset "
      ],
      "metadata": {
        "id": "h-W4obzlCx-3"
      }
    },
    {
      "cell_type": "code",
      "source": [
        "# Split the dataset\n",
        "\n",
        "from sklearn.model_selection import train_test_split\n",
        "X_train,X_test,Y_train,Y_test=train_test_split(x_test,y_test,test_size=0.2)\n"
      ],
      "metadata": {
        "id": "F_sRU9dx_mYQ"
      },
      "execution_count": 4,
      "outputs": []
    },
    {
      "cell_type": "markdown",
      "source": [
        "##Printing the shape"
      ],
      "metadata": {
        "id": "j97BCxe5DBbw"
      }
    },
    {
      "cell_type": "code",
      "source": [
        "print(X_test.shape)\n",
        "print(X_train.shape)\n",
        "print(Y_test.shape)\n",
        "print(Y_train.shape)\n"
      ],
      "metadata": {
        "colab": {
          "base_uri": "https://localhost:8080/"
        },
        "id": "SczEFU9gQyEi",
        "outputId": "e503ed05-7ded-495a-e84e-d3830d426356"
      },
      "execution_count": 5,
      "outputs": [
        {
          "output_type": "stream",
          "name": "stdout",
          "text": [
            "(2000, 28, 28)\n",
            "(8000, 28, 28)\n",
            "(2000,)\n",
            "(8000,)\n"
          ]
        }
      ]
    },
    {
      "cell_type": "markdown",
      "source": [
        "##Resizing the images, normalizing the pixel values and One-Hot Encoding of the target variables"
      ],
      "metadata": {
        "id": "nGZRJnYeQxGR"
      }
    },
    {
      "cell_type": "code",
      "source": [
        "# Reshaping \n",
        "img_rows,img_cols=28,28\n",
        "X_train=X_train.reshape(X_train.shape[0],img_rows,img_cols,1)\n",
        "X_test=X_test.reshape(X_test.shape[0],img_rows,img_cols,1)\n",
        "\n",
        "print(X_test.shape)\n",
        "print(X_train.shape)\n",
        "\n",
        "# Normalizing\n",
        "X_train= X_train.astype('float32')\n",
        "X_test= X_test.astype('float32')\n",
        "X_train= X_train/255.0\n",
        "X_test= X_test/255.0\n",
        "\n",
        "print(Y_train.shape)\n",
        "print(Y_test.shape)\n",
        "\n",
        "# One-Hot Encoding\n",
        "Y_train= to_categorical(Y_train)\n",
        "Y_test= to_categorical(Y_test)\n",
        "\n",
        "print(Y_train.shape)\n",
        "print(Y_test.shape)"
      ],
      "metadata": {
        "id": "rbt0WbW6sDVs",
        "colab": {
          "base_uri": "https://localhost:8080/"
        },
        "outputId": "fc353dc4-5f0b-46b2-d5e5-9c701a06e1b1"
      },
      "execution_count": 6,
      "outputs": [
        {
          "output_type": "stream",
          "name": "stdout",
          "text": [
            "(2000, 28, 28, 1)\n",
            "(8000, 28, 28, 1)\n",
            "(8000,)\n",
            "(2000,)\n",
            "(8000, 10)\n",
            "(2000, 10)\n"
          ]
        }
      ]
    },
    {
      "cell_type": "markdown",
      "source": [
        "## Visualizing the dataset\n",
        "Printing the images with their labels."
      ],
      "metadata": {
        "id": "EVpQheoVqoEG"
      }
    },
    {
      "cell_type": "code",
      "source": [
        "X_train__ = X_train.reshape(X_train.shape[0], 28, 28)\n",
        "\n",
        "# 4 rows and 4 columns \n",
        "fig, axis = plt.subplots(4, 4, figsize=(10, 10))\n",
        "for i, ax in enumerate(axis.flat):\n",
        "    # Plotting raw pixel data\n",
        "    ax.imshow(X_train__[i], cmap='binary')\n",
        "    # Labels\n",
        "    digit = Y_train[i].argmax()\n",
        "    ax.set(title = f\"Real Number is {digit}\");\n",
        "# adjusting the spacing\n",
        "plt.subplots_adjust(wspace=0.2, hspace=0.5) "
      ],
      "metadata": {
        "id": "yF1Nj63Bz9m7",
        "colab": {
          "base_uri": "https://localhost:8080/",
          "height": 607
        },
        "outputId": "80e7b6db-5cfc-420a-f2ee-872370650d42"
      },
      "execution_count": 7,
      "outputs": [
        {
          "output_type": "display_data",
          "data": {
            "text/plain": [
              "<Figure size 720x720 with 16 Axes>"
            ],
            "image/png": "[encoded data removed]"
          },
          "metadata": {
            "needs_background": "light"
          }
        }
      ]
    },
    {
      "cell_type": "markdown",
      "source": [
        "###Plotting statistics of the training and testing dataset  \n",
        "(`x axis`: digits, `y axis`: number of samples corresponding to the digits)"
      ],
      "metadata": {
        "id": "Rx8muKSIrKhe"
      }
    },
    {
      "cell_type": "code",
      "source": [
        "import numpy as np\n",
        "\n",
        "# For testing dataset\n",
        "digits=['0','1','2','3','4','5','6','7','8','9']\n",
        "n_samples=[]\n",
        "zero=one=two=three=four=five=six=seven=eight=nine=0\n",
        "for i in Y_test:\n",
        "  if i.argmax()==0:\n",
        "    zero+=1\n",
        "  elif i.argmax()==1:\n",
        "    one+=1\n",
        "  elif i.argmax()==2:\n",
        "    two+=1\n",
        "  elif i.argmax()==3:\n",
        "    three+=1\n",
        "  elif i.argmax()==4:\n",
        "    four+=1\n",
        "  elif i.argmax()==5:\n",
        "    five+=1\n",
        "  elif i.argmax()==6:\n",
        "    six+=1\n",
        "  elif i.argmax()==7:\n",
        "    seven+=1\n",
        "  elif i.argmax()==8:\n",
        "    eight+=1\n",
        "  elif i.argmax()==9:\n",
        "    nine+=1\n",
        "  \n",
        "n_samples.append(zero)\n",
        "n_samples.append(one)\n",
        "n_samples.append(two)\n",
        "n_samples.append(three)\n",
        "n_samples.append(four)\n",
        "n_samples.append(five)\n",
        "n_samples.append(six)\n",
        "n_samples.append(seven)\n",
        "n_samples.append(eight)\n",
        "n_samples.append(nine)\n",
        "\n",
        "print(n_samples)\n",
        "print(digits)\n",
        "plt.bar(digits,n_samples)\n",
        "plt.ylabel(\"Number of samples\")\n",
        "plt.xlabel(\"Digits\")"
      ],
      "metadata": {
        "id": "37kehTG_6Pi4",
        "colab": {
          "base_uri": "https://localhost:8080/",
          "height": 331
        },
        "outputId": "56f430ea-0430-4b9e-d2cf-4777f2ad5700"
      },
      "execution_count": 8,
      "outputs": [
        {
          "output_type": "stream",
          "name": "stdout",
          "text": [
            "[203, 208, 211, 213, 188, 201, 169, 201, 198, 208]\n",
            "['0', '1', '2', '3', '4', '5', '6', '7', '8', '9']\n"
          ]
        },
        {
          "output_type": "execute_result",
          "data": {
            "text/plain": [
              "Text(0.5, 0, 'Digits')"
            ]
          },
          "metadata": {},
          "execution_count": 8
        },
        {
          "output_type": "display_data",
          "data": {
            "text/plain": [
              "<Figure size 432x288 with 1 Axes>"
            ],
            "image/png": "[encoded data removed]"
          },
          "metadata": {
            "needs_background": "light"
          }
        }
      ]
    },
    {
      "cell_type": "code",
      "source": [
        "# For training data\n",
        "n_samples=[]\n",
        "zero=one=two=three=four=five=six=seven=eight=nine=0\n",
        "for i in Y_train:\n",
        "  if i.argmax()==0:\n",
        "    zero+=1\n",
        "  elif i.argmax()==1:\n",
        "    one+=1\n",
        "  elif i.argmax()==2:\n",
        "    two+=1\n",
        "  elif i.argmax()==3:\n",
        "    three+=1\n",
        "  elif i.argmax()==4:\n",
        "    four+=1\n",
        "  elif i.argmax()==5:\n",
        "    five+=1\n",
        "  elif i.argmax()==6:\n",
        "    six+=1\n",
        "  elif i.argmax()==7:\n",
        "    seven+=1\n",
        "  elif i.argmax()==8:\n",
        "    eight+=1\n",
        "  elif i.argmax()==9:\n",
        "    nine+=1\n",
        "  \n",
        "n_samples.append(zero)\n",
        "n_samples.append(one)\n",
        "n_samples.append(two)\n",
        "n_samples.append(three)\n",
        "n_samples.append(four)\n",
        "n_samples.append(five)\n",
        "n_samples.append(six)\n",
        "n_samples.append(seven)\n",
        "n_samples.append(eight)\n",
        "n_samples.append(nine)\n",
        "\n",
        "print(n_samples)\n",
        "print(digits)\n",
        "plt.bar(digits,n_samples)\n",
        "plt.ylabel(\"Number of samples\")\n",
        "plt.xlabel(\"Digits\")"
      ],
      "metadata": {
        "colab": {
          "base_uri": "https://localhost:8080/",
          "height": 331
        },
        "id": "Lfmvn5V9-23B",
        "outputId": "c8a0a936-a7a4-4e24-96d7-ef718d8d0baa"
      },
      "execution_count": 9,
      "outputs": [
        {
          "output_type": "stream",
          "name": "stdout",
          "text": [
            "[777, 927, 821, 797, 794, 691, 789, 827, 776, 801]\n",
            "['0', '1', '2', '3', '4', '5', '6', '7', '8', '9']\n"
          ]
        },
        {
          "output_type": "execute_result",
          "data": {
            "text/plain": [
              "Text(0.5, 0, 'Digits')"
            ]
          },
          "metadata": {},
          "execution_count": 9
        },
        {
          "output_type": "display_data",
          "data": {
            "text/plain": [
              "<Figure size 432x288 with 1 Axes>"
            ],
            "image/png": "[encoded data removed]"
          },
          "metadata": {
            "needs_background": "light"
          }
        }
      ]
    },
    {
      "cell_type": "markdown",
      "source": [
        "#CNN\n",
        "###Defining the Model"
      ],
      "metadata": {
        "id": "kWlpCWdAr8d3"
      }
    },
    {
      "cell_type": "code",
      "source": [
        "# Model building\n",
        "model=Sequential()\n",
        "\n",
        "\n",
        "# We use a 3 x 3 convolution filter\n",
        "# The number of output filters in the convolution is 64\n",
        "# Convolutional layer with rectified linear unit activation\n",
        "# img_rows=28 img_cols=28 and 1 for grayscale images\n",
        "model.add(Conv2D(filters=64, kernel_size = (3,3), activation=\"relu\", input_shape=(28,28,1))) \n",
        "model.add(Conv2D(filters=64, kernel_size = (3,3), activation=\"relu\"))\n",
        "# Pooling is used to reduce the image size of width and height and it does is it pick the maximum value in a certain size of the window.\n",
        "# Max pooling with a 2 x 2 window \n",
        "model.add(MaxPooling2D(pool_size=(2,2),strides=(1,1)))\n",
        "# Batch normalization is a layer that allows every layer of the network to do learning more independently. It is used to normalize the output of the previous layers.\n",
        "# Implements regularisation\n",
        "model.add(BatchNormalization())\n",
        "\n",
        "# We use a 3 x 3 convolution filter\n",
        "# The number of output filters in the convolution is 128\n",
        "# Convolutional layer with rectified linear unit activation\n",
        "model.add(Conv2D(filters=128, kernel_size = (3,3), activation=\"relu\"))\n",
        "model.add(Conv2D(filters=128, kernel_size = (3,3), activation=\"relu\"))\n",
        "# Pooling is used to reduce the image size of width and height and it does is it pick the maximum value in a certain size of the window.\n",
        "# Max pooling with a 2 x 2 window\n",
        "model.add(MaxPooling2D(pool_size=(2,2),strides=(1,1)))\n",
        "# Batch normalization is a layer that allows every layer of the network to do learning more independently. It is used to normalize the output of the previous layers.\n",
        "# Implements regularisation\n",
        "model.add(BatchNormalization())    \n",
        "\n",
        "# We use a 3 x 3 convolution filter\n",
        "# The number of output filters in the convolution is 256\n",
        "# Convolutional layer with rectified linear unit activation\n",
        "model.add(Conv2D(filters=256, kernel_size = (3,3), activation=\"relu\"))\n",
        "# Pooling is used to reduce the image size of width and height and it does is it pick the maximum value in a certain size of the window.\n",
        "# Max pooling with a 2 x 2 window\n",
        "model.add(MaxPooling2D(pool_size=(2,2),strides=(1,1)))\n",
        "# Batch normalization is a layer that allows every layer of the network to do learning more independently. It is used to normalize the output of the previous layers.\n",
        "# Implements regularisation\n",
        "model.add(BatchNormalization())\n",
        "\n",
        "# Flatten since too many dimensions, we only want a classification output \n",
        "model.add(Flatten())\n",
        "# Adding the Dense layer with 512 units\n",
        "model.add(Dense(512,activation=\"relu\"))\n",
        "# Softmax to squash the matrix into output probabilities\n",
        "model.add(Dense(10,activation=\"softmax\"))"
      ],
      "metadata": {
        "id": "1L07EyQ0Yion"
      },
      "execution_count": 10,
      "outputs": []
    },
    {
      "cell_type": "markdown",
      "source": [
        "##Compiling and training the model"
      ],
      "metadata": {
        "id": "1nchSAeXHgEL"
      }
    },
    {
      "cell_type": "code",
      "source": [
        "# Compiling the model\n",
        "# Using adam optimizer\n",
        "model.compile(loss=\"categorical_crossentropy\", optimizer=\"adam\", metrics=[\"accuracy\"])\n",
        "\n",
        "num_epoch = 10\n",
        "# Model training\n",
        "history = model.fit(X_train, Y_train,\n",
        "          epochs=num_epoch,\n",
        "          verbose=1,\n",
        "          validation_data=(X_test, Y_test))\n",
        "\n",
        "#Printing loss and accuracy\n",
        "test_loss, test_acc = model.evaluate(X_test, Y_test)\n",
        "print(\"Loss: {0} - Acc: {1}\".format(test_loss, test_acc))"
      ],
      "metadata": {
        "id": "nKEZ8cbO9JVV",
        "colab": {
          "base_uri": "https://localhost:8080/"
        },
        "outputId": "78972048-28f4-446c-cb8f-fe3fc54d151e"
      },
      "execution_count": 13,
      "outputs": [
        {
          "output_type": "stream",
          "name": "stdout",
          "text": [
            "Epoch 1/10\n",
            "250/250 [==============================] - 6s 20ms/step - loss: 0.4184 - accuracy: 0.9794 - val_loss: 2.0862 - val_accuracy: 0.9655\n",
            "Epoch 2/10\n",
            "250/250 [==============================] - 5s 19ms/step - loss: 0.7292 - accuracy: 0.9783 - val_loss: 2.3143 - val_accuracy: 0.9560\n",
            "Epoch 3/10\n",
            "250/250 [==============================] - 5s 19ms/step - loss: 0.5109 - accuracy: 0.9837 - val_loss: 0.8341 - val_accuracy: 0.9775\n",
            "Epoch 4/10\n",
            "250/250 [==============================] - 5s 19ms/step - loss: 0.2521 - accuracy: 0.9905 - val_loss: 1.0141 - val_accuracy: 0.9710\n",
            "Epoch 5/10\n",
            "250/250 [==============================] - 5s 19ms/step - loss: 0.0879 - accuracy: 0.9948 - val_loss: 0.4874 - val_accuracy: 0.9845\n",
            "Epoch 6/10\n",
            "250/250 [==============================] - 5s 19ms/step - loss: 0.1018 - accuracy: 0.9942 - val_loss: 1.1091 - val_accuracy: 0.9665\n",
            "Epoch 7/10\n",
            "250/250 [==============================] - 5s 19ms/step - loss: 0.1998 - accuracy: 0.9916 - val_loss: 1.1618 - val_accuracy: 0.9710\n",
            "Epoch 8/10\n",
            "250/250 [==============================] - 5s 19ms/step - loss: 0.1621 - accuracy: 0.9924 - val_loss: 0.8817 - val_accuracy: 0.9815\n",
            "Epoch 9/10\n",
            "250/250 [==============================] - 5s 19ms/step - loss: 0.1626 - accuracy: 0.9940 - val_loss: 1.3372 - val_accuracy: 0.9685\n",
            "Epoch 10/10\n",
            "250/250 [==============================] - 5s 19ms/step - loss: 0.2807 - accuracy: 0.9925 - val_loss: 0.7609 - val_accuracy: 0.9800\n",
            "63/63 [==============================] - 0s 6ms/step - loss: 0.7609 - accuracy: 0.9800\n",
            "Loss: 0.76085364818573 - Acc: 0.9800000190734863\n"
          ]
        }
      ]
    },
    {
      "cell_type": "markdown",
      "source": [
        "## Predicting the images\n",
        "Printing the image along with its label (true value) and predicted value."
      ],
      "metadata": {
        "id": "ml1Kna_DuJrL"
      }
    },
    {
      "cell_type": "code",
      "source": [
        "# Your code\n",
        "X_test__ = X_test.reshape(X_test.shape[0], 28, 28)\n",
        "y_pred = model.predict(X_test__) # Prediction the model\n",
        "\n",
        "fig, axis = plt.subplots(4, 4, figsize=(12, 14)) # plt.subplots returns a tuple containing a figure and axes objects\n",
        "for i, ax in enumerate(axis.flat):\n",
        "    ax.imshow(X_test__[i], cmap='binary')\n",
        "    ax.set(title = f\"Real Number is {Y_test[i].argmax()}\\nPredict Number is {y_pred[i].argmax()}\");\n"
      ],
      "metadata": {
        "id": "qioZul7_uiYq",
        "colab": {
          "base_uri": "https://localhost:8080/",
          "height": 820
        },
        "outputId": "8d4ade4c-3def-4072-8f3c-1aad9bd40d66"
      },
      "execution_count": 12,
      "outputs": [
        {
          "output_type": "display_data",
          "data": {
            "text/plain": [
              "<Figure size 864x1008 with 16 Axes>"
            ],
            "image/png": "[encoded data removed]"
          },
          "metadata": {
            "needs_background": "light"
          }
        }
      ]
    }
  ]
}