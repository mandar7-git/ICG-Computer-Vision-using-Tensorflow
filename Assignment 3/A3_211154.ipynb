{
 "cells": [
  {
   "cell_type": "markdown",
   "metadata": {
    "id": "VGHh_5UYzKpV"
   },
   "source": [
    "# Assignment 3\n",
    "\n",
    " In this Assignment, we will use CNN to classify digits.   \n",
    "The `MNIST` database is a large database of handwritten digits that is commonly used for training various image processing systems.\n",
    "\n"
   ]
  },
  {
   "cell_type": "markdown",
   "metadata": {
    "id": "JnsMbCPNzPAr"
   },
   "source": [
    "## Importing TensorFlow"
   ]
  },
  {
   "cell_type": "code",
   "execution_count": 1,
   "metadata": {
    "id": "HRLTw3cMwvi7"
   },
   "outputs": [],
   "source": [
    "import tensorflow as tf\n",
    "import matplotlib.pyplot as plt"
   ]
  },
  {
   "cell_type": "markdown",
   "metadata": {
    "id": "6Ji7HGpgzSPi"
   },
   "source": [
    "## Get the dataset"
   ]
  },
  {
   "cell_type": "code",
   "execution_count": 2,
   "metadata": {
    "id": "oEW3KDEvzIHL"
   },
   "outputs": [],
   "source": [
    "# Import the dataset\n",
    "\n",
    "(x_train, y_train), (x_test, y_test) = tf.keras.datasets.mnist.load_data()"
   ]
  },
  {
   "cell_type": "code",
   "execution_count": 3,
   "metadata": {
    "id": "F_sRU9dx_mYQ"
   },
   "outputs": [],
   "source": [
    "# Split the dataset\n",
    "\n",
    "from sklearn.model_selection import train_test_split\n",
    "X_train,X_test,Y_train,Y_test=train_test_split(x_test,y_test,test_size=0.2)"
   ]
  },
  {
   "cell_type": "code",
   "execution_count": 4,
   "metadata": {
    "id": "rbt0WbW6sDVs"
   },
   "outputs": [
    {
     "data": {
      "text/plain": [
       "<matplotlib.image.AxesImage at 0x11d3cbeb9d0>"
      ]
     },
     "execution_count": 4,
     "metadata": {},
     "output_type": "execute_result"
    },
    {
     "data": {
      "image/png": "[encoded data removed]",
      "text/plain": [
       "<Figure size 432x288 with 1 Axes>"
      ]
     },
     "metadata": {
      "needs_background": "light"
     },
     "output_type": "display_data"
    }
   ],
   "source": [
    "# Pre processing \n",
    "x_train =tf.keras.utils.normalize(x_train,axis=1)\n",
    "x_test = tf.keras.utils.normalize(x_test,axis=1)\n",
    "plt.imshow(x_train[0], cmap=plt.cm.binary)"
   ]
  },
  {
   "cell_type": "markdown",
   "metadata": {
    "id": "EVpQheoVqoEG"
   },
   "source": [
    "## Visualize the dataset\n",
    "Print some images with labels."
   ]
  },
  {
   "cell_type": "code",
   "execution_count": 5,
   "metadata": {
    "id": "yF1Nj63Bz9m7"
   },
   "outputs": [
    {
     "data": {
      "image/png": "[encoded data removed]",
      "text/plain": [
       "<Figure size 432x288 with 1 Axes>"
      ]
     },
     "metadata": {
      "needs_background": "light"
     },
     "output_type": "display_data"
    }
   ],
   "source": [
    "import matplotlib.pyplot as plt\n",
    "\n",
    "# Your code\n",
    "plt.imshow(x_train[0], cmap=plt.cm.binary)\n",
    "plt.show()"
   ]
  },
  {
   "cell_type": "markdown",
   "metadata": {
    "id": "Rx8muKSIrKhe"
   },
   "source": [
    "Plot statistics of the training and testing dataset  \n",
    "(`x axis`: digits, `y axis`: number of samples corresponding to the digits)"
   ]
  },
  {
   "cell_type": "code",
   "execution_count": 6,
   "metadata": {
    "id": "37kehTG_6Pi4"
   },
   "outputs": [],
   "source": [
    "import numpy as np\n",
    "\n",
    "# Your code\n",
    "IMG_SIZE=28\n",
    "x_trainr=np.array(x_train).reshape(-1,IMG_SIZE,IMG_SIZE,1)\n",
    "x_testr=np.array(x_test).reshape(-1,IMG_SIZE,IMG_SIZE,1)\n"
   ]
  },
  {
   "cell_type": "markdown",
   "metadata": {
    "id": "kWlpCWdAr8d3"
   },
   "source": [
    "## Model"
   ]
  },
  {
   "cell_type": "code",
   "execution_count": 12,
   "metadata": {
    "id": "1L07EyQ0Yion"
   },
   "outputs": [],
   "source": [
    "# model building\n",
    "\n",
    "# You are supposed to look at some CNN architectures and add convolutional layers along with MaxPooling, specifying the kernel size, pooling size, activation \n",
    "from tensorflow.keras.models import Sequential\n",
    "from tensorflow.keras.layers import Dense,Dropout,Activation,Flatten,Conv2D,MaxPooling2D\n",
    "#1st layer\n",
    "model =Sequential()\n",
    "model.add(Conv2D(64,(3,3),input_shape =x_trainr.shape[1:]))\n",
    "model.add(Activation(\"relu\"))\n",
    "model.add(MaxPooling2D(pool_size=(2,2)))\n",
    "#2nd Layer\n",
    "model.add(Conv2D(64,(3,3)))\n",
    "model.add(Activation(\"relu\"))\n",
    "model.add(MaxPooling2D(pool_size=(2,2)))\n",
    "#3rd Layer\n",
    "model.add(Conv2D(64,(3,3)))\n",
    "model.add(Activation(\"relu\"))\n",
    "model.add(MaxPooling2D(pool_size=(2,2)))\n",
    "\n",
    "model.add(Flatten())\n",
    "model.add(Dense(64))\n",
    "model.add(Activation(\"relu\"))\n",
    "\n",
    "model.add(Dense(32))\n",
    "model.add(Activation(\"relu\"))\n",
    "          \n",
    "model.add(Dense(10))\n",
    "model.add(Activation(\"softmax\"))\n"
   ]
  },
  {
   "cell_type": "code",
   "execution_count": 13,
   "metadata": {
    "id": "nKEZ8cbO9JVV"
   },
   "outputs": [
    {
     "name": "stdout",
     "output_type": "stream",
     "text": [
      "Epoch 1/5\n",
      "1313/1313 [==============================] - 66s 49ms/step - loss: 0.3331 - accuracy: 0.8946 - val_loss: 0.1358 - val_accuracy: 0.9579\n",
      "Epoch 2/5\n",
      "1313/1313 [==============================] - 65s 50ms/step - loss: 0.1065 - accuracy: 0.9684 - val_loss: 0.1023 - val_accuracy: 0.9693\n",
      "Epoch 3/5\n",
      "1313/1313 [==============================] - 63s 48ms/step - loss: 0.0770 - accuracy: 0.9768 - val_loss: 0.0714 - val_accuracy: 0.9781\n",
      "Epoch 4/5\n",
      "1313/1313 [==============================] - 64s 49ms/step - loss: 0.0602 - accuracy: 0.9811 - val_loss: 0.0734 - val_accuracy: 0.9782\n",
      "Epoch 5/5\n",
      "1313/1313 [==============================] - 62s 47ms/step - loss: 0.0492 - accuracy: 0.9849 - val_loss: 0.0651 - val_accuracy: 0.9812\n"
     ]
    },
    {
     "data": {
      "text/plain": [
       "<keras.callbacks.History at 0x11d3fd0c0d0>"
      ]
     },
     "execution_count": 13,
     "metadata": {},
     "output_type": "execute_result"
    }
   ],
   "source": [
    "# Compile the model (add optimizers and metrics)\n",
    "\n",
    "# Fit the model on the training data (specify validation_split, read about validation if new to you)\n",
    "model.compile(loss=\"sparse_categorical_crossentropy\",optimizer =\"adam\", metrics=['accuracy'])\n",
    "model.fit(x_trainr,y_train,epochs=5,validation_split=0.3)\n",
    "\n"
   ]
  },
  {
   "cell_type": "markdown",
   "metadata": {
    "id": "ml1Kna_DuJrL"
   },
   "source": [
    "## Predict some images\n",
    "Print the image along with its label (true value) and predicted value."
   ]
  },
  {
   "cell_type": "code",
   "execution_count": 14,
   "metadata": {
    "id": "qioZul7_uiYq"
   },
   "outputs": [
    {
     "name": "stdout",
     "output_type": "stream",
     "text": [
      "313/313 [==============================] - 4s 13ms/step\n"
     ]
    }
   ],
   "source": [
    "# Your code\n",
    "predictions=model.predict([x_testr])"
   ]
  },
  {
   "cell_type": "code",
   "execution_count": 23,
   "metadata": {},
   "outputs": [
    {
     "name": "stdout",
     "output_type": "stream",
     "text": [
      "7\n",
      "2\n",
      "1\n",
      "0\n",
      "4\n",
      "1\n",
      "4\n",
      "9\n",
      "5\n",
      "9\n",
      "0\n",
      "6\n",
      "9\n",
      "0\n",
      "1\n",
      "5\n",
      "9\n",
      "7\n",
      "3\n",
      "4\n",
      "9\n",
      "6\n",
      "6\n",
      "5\n",
      "4\n"
     ]
    }
   ],
   "source": [
    "for i in range(25):\n",
    "    print(np.argmax(predictions[i] ))"
   ]
  },
  {
   "cell_type": "code",
   "execution_count": 32,
   "metadata": {},
   "outputs": [
    {
     "data": {
      "image/png": "[encoded data removed]",
      "text/plain": [
       "<Figure size 432x288 with 25 Axes>"
      ]
     },
     "metadata": {
      "needs_background": "light"
     },
     "output_type": "display_data"
    }
   ],
   "source": [
    "f=  plt.figure()\n",
    "for i in range(25):\n",
    "    f.add_subplot(1,25,i+1)\n",
    "    plt.imshow(x_test[i])\n",
    "\n",
    "\n",
    "plt.show(block=True)\n"
   ]
  }
 ],
 "metadata": {
  "accelerator": "GPU",
  "colab": {
   "name": "Copy of CV_with_TF-Assignment-3.ipynb",
   "provenance": [
    {
     "file_id": "1asGptVW1kSOD-sm44G3PJr-Ad9lPwQFR",
     "timestamp": 1655806641912
    },
    {
     "file_id": "1D6ydyPPCMxckA2UNfQAfoDNQMednmPXO",
     "timestamp": 1655269145670
    },
    {
     "file_id": "1SOXxLRZADUvtLiTygZYTHBTZP2l0W_jT",
     "timestamp": 1655267663630
    },
    {
     "file_id": "1nTfv0Eyv59_cvAq13soX2DgTp0t4G6M3",
     "timestamp": 1655196024245
    }
   ]
  },
  "gpuClass": "standard",
  "kernelspec": {
   "display_name": "Python 3 (ipykernel)",
   "language": "python",
   "name": "python3"
  },
  "language_info": {
   "codemirror_mode": {
    "name": "ipython",
    "version": 3
   },
   "file_extension": ".py",
   "mimetype": "text/x-python",
   "name": "python",
   "nbconvert_exporter": "python",
   "pygments_lexer": "ipython3",
   "version": "3.10.2"
  }
 },
 "nbformat": 4,
 "nbformat_minor": 1
}
