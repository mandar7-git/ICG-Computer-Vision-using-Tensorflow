{
  "nbformat": 4,
  "nbformat_minor": 0,
  "metadata": {
    "colab": {
      "name": "A3_200914.ipynb",
      "provenance": [],
      "collapsed_sections": []
    },
    "kernelspec": {
      "name": "python3",
      "display_name": "Python 3"
    },
    "language_info": {
      "name": "python"
    },
    "accelerator": "GPU",
    "gpuClass": "standard"
  },
  "cells": [
    {
      "cell_type": "markdown",
      "source": [
        "# Assignment 3\n",
        "\n",
        " In this Assignment, we will use CNN to classify digits.   \n",
        "The `MNIST` database is a large database of handwritten digits that is commonly used for training various image processing systems.\n",
        "\n"
      ],
      "metadata": {
        "id": "VGHh_5UYzKpV"
      }
    },
    {
      "cell_type": "markdown",
      "source": [
        "## Importing TensorFlow"
      ],
      "metadata": {
        "id": "JnsMbCPNzPAr"
      }
    },
    {
      "cell_type": "code",
      "execution_count": 21,
      "metadata": {
        "id": "HRLTw3cMwvi7"
      },
      "outputs": [],
      "source": [
        "import tensorflow as tf\n",
        "from tensorflow import keras\n",
        "from tensorflow.keras import layers"
      ]
    },
    {
      "cell_type": "markdown",
      "source": [
        "## Get the dataset"
      ],
      "metadata": {
        "id": "6Ji7HGpgzSPi"
      }
    },
    {
      "cell_type": "code",
      "source": [
        "# Import the dataset\n",
        "\n",
        "(x_train, y_train), (x_test, y_test) = tf.keras.datasets.mnist.load_data()"
      ],
      "metadata": {
        "id": "oEW3KDEvzIHL"
      },
      "execution_count": 22,
      "outputs": []
    },
    {
      "cell_type": "code",
      "source": [
        "# Split the dataset\n",
        "\n",
        "from sklearn.model_selection import train_test_split\n",
        "X_train,X_test,Y_train,Y_test=train_test_split(x_test,y_test,test_size=0.2)"
      ],
      "metadata": {
        "id": "F_sRU9dx_mYQ"
      },
      "execution_count": 23,
      "outputs": []
    },
    {
      "cell_type": "code",
      "source": [
        "# Pre processing \n",
        "X_test=X_test/255.0\n",
        "X_train=X_train/255.0"
      ],
      "metadata": {
        "id": "rbt0WbW6sDVs"
      },
      "execution_count": 24,
      "outputs": []
    },
    {
      "cell_type": "markdown",
      "source": [
        "## Visualize the dataset\n",
        "Print some images with labels."
      ],
      "metadata": {
        "id": "EVpQheoVqoEG"
      }
    },
    {
      "cell_type": "code",
      "source": [
        "import matplotlib.pyplot as plt\n",
        "plt.figure(figsize=(12,6))\n",
        "for i in range(10):\n",
        "  plt.subplot(2,5,i+1)\n",
        "  plt.imshow(X_train[i])\n",
        "  plt.xlabel(Y_train[i])\n",
        "plt.show()\n"
      ],
      "metadata": {
        "id": "yF1Nj63Bz9m7",
        "colab": {
          "base_uri": "https://localhost:8080/",
          "height": 357
        },
        "outputId": "20f8c5c1-f53c-4b78-d9e3-1850816a0ca9"
      },
      "execution_count": 15,
      "outputs": [
        {
          "output_type": "display_data",
          "data": {
            "text/plain": [
              "<Figure size 864x432 with 10 Axes>"
            ],
            "image/png": "[encoded data removed]"
          },
          "metadata": {
            "needs_background": "light"
          }
        }
      ]
    },
    {
      "cell_type": "markdown",
      "source": [
        "Plot statistics of the training and testing dataset  \n",
        "(`x axis`: digits, `y axis`: number of samples corresponding to the digits)"
      ],
      "metadata": {
        "id": "Rx8muKSIrKhe"
      }
    },
    {
      "cell_type": "code",
      "source": [
        "import numpy as np\n",
        "plt.figure(figsize=(15,5))\n",
        "digits,count=np.unique(Y_train,return_counts=True)\n",
        "plt.subplot(1, 2, 1)\n",
        "plt.barh(digits,count)\n",
        "plt.ylabel('Digits')\n",
        "plt.xlabel('Frequency')\n",
        "plt.title('TRAIN DATASET')\n",
        "digits,count=np.unique(Y_test,return_counts=True)\n",
        "plt.subplot(1, 2, 2)\n",
        "plt.barh(digits,count)\n",
        "plt.ylabel('Digits')\n",
        "plt.xlabel('Frequency')\n",
        "plt.title('TEST DATASET')\n",
        "plt.show()\n",
        "\n",
        "\n",
        "# Your code"
      ],
      "metadata": {
        "id": "37kehTG_6Pi4",
        "colab": {
          "base_uri": "https://localhost:8080/",
          "height": 350
        },
        "outputId": "0f8e47df-a365-4c68-e437-1f78aa88b467"
      },
      "execution_count": 25,
      "outputs": [
        {
          "output_type": "display_data",
          "data": {
            "text/plain": [
              "<Figure size 1080x360 with 2 Axes>"
            ],
            "image/png": "[encoded data removed]"
          },
          "metadata": {
            "needs_background": "light"
          }
        }
      ]
    },
    {
      "cell_type": "markdown",
      "source": [
        "## Model"
      ],
      "metadata": {
        "id": "kWlpCWdAr8d3"
      }
    },
    {
      "cell_type": "code",
      "source": [
        "# model building\n",
        "\n",
        "# You are supposed to look at some CNN architectures and add convolutional layers along with MaxPooling, specifying the kernel size, pooling size, activation \n"
      ],
      "metadata": {
        "id": "1L07EyQ0Yion"
      },
      "execution_count": null,
      "outputs": []
    },
    {
      "cell_type": "code",
      "source": [
        "# Compile the model (add optimizers and metrics)\n",
        "model=keras.Sequential(\n",
        "    [\n",
        "     layers.Conv2D(32, (3, 3), padding=\"same\", activation=\"relu\",input_shape=(28,28,1)),\n",
        "     layers.Conv2D(64, (3, 3), padding=\"same\", activation=\"relu\"),\n",
        "     layers.MaxPooling2D(pool_size=(2, 2)),\n",
        "     layers.Dropout(0.2),\n",
        "     layers.Flatten(),\n",
        "     layers.Dense(128,activation='relu'),\n",
        "     layers.Dropout(0.5),\n",
        "     layers.Dense(10,activation='softmax')\n",
        "    ]\n",
        ")"
      ],
      "metadata": {
        "id": "EAciwPbgcf6s"
      },
      "execution_count": 38,
      "outputs": []
    },
    {
      "cell_type": "code",
      "source": [
        "model.summary()"
      ],
      "metadata": {
        "colab": {
          "base_uri": "https://localhost:8080/"
        },
        "id": "qiJijjWyc1R1",
        "outputId": "dc8a0e93-5288-4afb-efde-8085fb4ad459"
      },
      "execution_count": 39,
      "outputs": [
        {
          "output_type": "stream",
          "name": "stdout",
          "text": [
            "Model: \"sequential_4\"\n",
            "_________________________________________________________________\n",
            " Layer (type)                Output Shape              Param #   \n",
            "=================================================================\n",
            " conv2d_6 (Conv2D)           (None, 28, 28, 32)        320       \n",
            "                                                                 \n",
            " conv2d_7 (Conv2D)           (None, 28, 28, 64)        18496     \n",
            "                                                                 \n",
            " max_pooling2d_2 (MaxPooling  (None, 14, 14, 64)       0         \n",
            " 2D)                                                             \n",
            "                                                                 \n",
            " dropout_4 (Dropout)         (None, 14, 14, 64)        0         \n",
            "                                                                 \n",
            " flatten_2 (Flatten)         (None, 12544)             0         \n",
            "                                                                 \n",
            " dense_4 (Dense)             (None, 128)               1605760   \n",
            "                                                                 \n",
            " dropout_5 (Dropout)         (None, 128)               0         \n",
            "                                                                 \n",
            " dense_5 (Dense)             (None, 10)                1290      \n",
            "                                                                 \n",
            "=================================================================\n",
            "Total params: 1,625,866\n",
            "Trainable params: 1,625,866\n",
            "Non-trainable params: 0\n",
            "_________________________________________________________________\n"
          ]
        }
      ]
    },
    {
      "cell_type": "code",
      "source": [
        "model.compile(optimizer='adam',loss='sparse_categorical_crossentropy',\n",
        "              metrics=['accuracy'])"
      ],
      "metadata": {
        "id": "y-8FtcrsDjDW"
      },
      "execution_count": 40,
      "outputs": []
    },
    {
      "cell_type": "code",
      "source": [
        "history=model.fit(X_train,Y_train,epochs=20,\n",
        "                 validation_split=0.2)"
      ],
      "metadata": {
        "colab": {
          "base_uri": "https://localhost:8080/"
        },
        "id": "oNVVvmGBGooV",
        "outputId": "bd309716-a8af-4482-af38-9c34c11277ac"
      },
      "execution_count": 41,
      "outputs": [
        {
          "output_type": "stream",
          "name": "stdout",
          "text": [
            "Epoch 1/20\n",
            "200/200 [==============================] - 13s 6ms/step - loss: 0.5614 - accuracy: 0.8272 - val_loss: 0.1436 - val_accuracy: 0.9569\n",
            "Epoch 2/20\n",
            "200/200 [==============================] - 1s 5ms/step - loss: 0.1856 - accuracy: 0.9430 - val_loss: 0.0972 - val_accuracy: 0.9737\n",
            "Epoch 3/20\n",
            "200/200 [==============================] - 1s 6ms/step - loss: 0.1239 - accuracy: 0.9603 - val_loss: 0.0795 - val_accuracy: 0.9762\n",
            "Epoch 4/20\n",
            "200/200 [==============================] - 1s 5ms/step - loss: 0.0962 - accuracy: 0.9694 - val_loss: 0.0710 - val_accuracy: 0.9800\n",
            "Epoch 5/20\n",
            "200/200 [==============================] - 1s 4ms/step - loss: 0.0829 - accuracy: 0.9723 - val_loss: 0.0556 - val_accuracy: 0.9831\n",
            "Epoch 6/20\n",
            "200/200 [==============================] - 1s 5ms/step - loss: 0.0614 - accuracy: 0.9791 - val_loss: 0.0682 - val_accuracy: 0.9787\n",
            "Epoch 7/20\n",
            "200/200 [==============================] - 1s 5ms/step - loss: 0.0571 - accuracy: 0.9812 - val_loss: 0.0635 - val_accuracy: 0.9812\n",
            "Epoch 8/20\n",
            "200/200 [==============================] - 1s 5ms/step - loss: 0.0454 - accuracy: 0.9839 - val_loss: 0.0678 - val_accuracy: 0.9812\n",
            "Epoch 9/20\n",
            "200/200 [==============================] - 1s 5ms/step - loss: 0.0506 - accuracy: 0.9831 - val_loss: 0.0592 - val_accuracy: 0.9806\n",
            "Epoch 10/20\n",
            "200/200 [==============================] - 1s 5ms/step - loss: 0.0359 - accuracy: 0.9873 - val_loss: 0.0699 - val_accuracy: 0.9800\n",
            "Epoch 11/20\n",
            "200/200 [==============================] - 1s 4ms/step - loss: 0.0368 - accuracy: 0.9892 - val_loss: 0.0583 - val_accuracy: 0.9825\n",
            "Epoch 12/20\n",
            "200/200 [==============================] - 1s 5ms/step - loss: 0.0289 - accuracy: 0.9898 - val_loss: 0.0550 - val_accuracy: 0.9856\n",
            "Epoch 13/20\n",
            "200/200 [==============================] - 1s 4ms/step - loss: 0.0311 - accuracy: 0.9894 - val_loss: 0.0637 - val_accuracy: 0.9837\n",
            "Epoch 14/20\n",
            "200/200 [==============================] - 1s 4ms/step - loss: 0.0251 - accuracy: 0.9912 - val_loss: 0.0671 - val_accuracy: 0.9806\n",
            "Epoch 15/20\n",
            "200/200 [==============================] - 1s 5ms/step - loss: 0.0287 - accuracy: 0.9897 - val_loss: 0.0631 - val_accuracy: 0.9837\n",
            "Epoch 16/20\n",
            "200/200 [==============================] - 1s 4ms/step - loss: 0.0333 - accuracy: 0.9864 - val_loss: 0.0527 - val_accuracy: 0.9875\n",
            "Epoch 17/20\n",
            "200/200 [==============================] - 1s 4ms/step - loss: 0.0197 - accuracy: 0.9920 - val_loss: 0.0625 - val_accuracy: 0.9850\n",
            "Epoch 18/20\n",
            "200/200 [==============================] - 1s 4ms/step - loss: 0.0242 - accuracy: 0.9908 - val_loss: 0.0822 - val_accuracy: 0.9825\n",
            "Epoch 19/20\n",
            "200/200 [==============================] - 1s 4ms/step - loss: 0.0240 - accuracy: 0.9909 - val_loss: 0.0634 - val_accuracy: 0.9875\n",
            "Epoch 20/20\n",
            "200/200 [==============================] - 1s 5ms/step - loss: 0.0204 - accuracy: 0.9930 - val_loss: 0.0700 - val_accuracy: 0.9844\n"
          ]
        }
      ]
    },
    {
      "cell_type": "markdown",
      "source": [
        "## Predict some images\n",
        "Print the image along with its label (true value) and predicted value."
      ],
      "metadata": {
        "id": "ml1Kna_DuJrL"
      }
    },
    {
      "cell_type": "code",
      "source": [
        "#import matplotlib.pyplot as plt\n",
        "pred=model.predict(X_test[:10])\n",
        "pred=np.argmax(pred,axis=1)\n",
        "print(pred)"
      ],
      "metadata": {
        "id": "qioZul7_uiYq",
        "colab": {
          "base_uri": "https://localhost:8080/"
        },
        "outputId": "bac13a07-645c-422b-e0a5-f4a4309bb301"
      },
      "execution_count": 50,
      "outputs": [
        {
          "output_type": "stream",
          "name": "stdout",
          "text": [
            "[4 7 2 6 2 0 3 7 4 9]\n"
          ]
        }
      ]
    },
    {
      "cell_type": "code",
      "source": [
        "plt.figure(figsize=(12,6))\n",
        "for i in range(10):\n",
        "    plt.subplot(2,5,i+1)    \n",
        "    plt.imshow(X_test[i])\n",
        "    plt.xlabel(f\"Actual:{Y_test[i]} Prediction:{pred[i]}\")"
      ],
      "metadata": {
        "colab": {
          "base_uri": "https://localhost:8080/",
          "height": 357
        },
        "id": "1agQOE07iTZ0",
        "outputId": "94de0008-f6a1-474b-b56f-996f5c8fd041"
      },
      "execution_count": 54,
      "outputs": [
        {
          "output_type": "display_data",
          "data": {
            "text/plain": [
              "<Figure size 864x432 with 10 Axes>"
            ],
            "image/png": "[encoded data removed]"
          },
          "metadata": {
            "needs_background": "light"
          }
        }
      ]
    }
  ]
}