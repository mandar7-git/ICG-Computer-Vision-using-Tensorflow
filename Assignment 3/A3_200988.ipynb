{
  "nbformat": 4,
  "nbformat_minor": 0,
  "metadata": {
    "colab": {
      "name": "A3_200988.ipynb",
      "provenance": [],
      "collapsed_sections": []
    },
    "kernelspec": {
      "name": "python3",
      "display_name": "Python 3"
    },
    "language_info": {
      "name": "python"
    },
    "accelerator": "GPU",
    "gpuClass": "standard"
  },
  "cells": [
    {
      "cell_type": "markdown",
      "source": [
        "# Assignment 3\n",
        "\n",
        " In this Assignment, we will use CNN to classify digits.   \n",
        "The `MNIST` database is a large database of handwritten digits that is commonly used for training various image processing systems.\n",
        "\n"
      ],
      "metadata": {
        "id": "VGHh_5UYzKpV"
      }
    },
    {
      "cell_type": "markdown",
      "source": [
        "## Importing TensorFlow"
      ],
      "metadata": {
        "id": "JnsMbCPNzPAr"
      }
    },
    {
      "cell_type": "code",
      "execution_count": 35,
      "metadata": {
        "id": "HRLTw3cMwvi7"
      },
      "outputs": [],
      "source": [
        "import tensorflow as tf"
      ]
    },
    {
      "cell_type": "markdown",
      "source": [
        "## Get the dataset"
      ],
      "metadata": {
        "id": "6Ji7HGpgzSPi"
      }
    },
    {
      "cell_type": "code",
      "source": [
        "# Import the dataset\n",
        "\n",
        "(x_train, y_train), (x_test, y_test) = tf.keras.datasets.mnist.load_data()"
      ],
      "metadata": {
        "id": "oEW3KDEvzIHL"
      },
      "execution_count": 36,
      "outputs": []
    },
    {
      "cell_type": "code",
      "source": [
        "# Split the dataset\n",
        "\n",
        "from sklearn.model_selection import train_test_split\n",
        "X_train,X_test,Y_train,Y_test=train_test_split(x_test,y_test,test_size=0.2)"
      ],
      "metadata": {
        "id": "F_sRU9dx_mYQ"
      },
      "execution_count": 37,
      "outputs": []
    },
    {
      "cell_type": "code",
      "source": [
        "# Pre processing "
      ],
      "metadata": {
        "id": "rbt0WbW6sDVs"
      },
      "execution_count": 38,
      "outputs": []
    },
    {
      "cell_type": "markdown",
      "source": [
        "## Visualize the dataset\n",
        "Print some images with labels."
      ],
      "metadata": {
        "id": "EVpQheoVqoEG"
      }
    },
    {
      "cell_type": "code",
      "source": [
        "import matplotlib.pyplot as plt\n",
        "\n",
        "# Your code\n",
        "print(X_train.shape)\n",
        "print(Y_train.shape)\n",
        "print(X_test.shape)\n",
        "print(Y_test.shape)\n",
        "class_names = ['zero', 'one', 'two', 'three', 'four',\n",
        "               'five', 'six', 'seven', 'eight', 'nine']\n",
        "\n",
        "plt.figure(figsize=(15,15))\n",
        "for i in range(10):\n",
        "    plt.subplot(5,5,i+1)\n",
        "    plt.xticks([])\n",
        "    plt.yticks([])\n",
        "    plt.imshow(X_train[i])\n",
        "    plt.xlabel(class_names[(Y_train[i])])\n",
        "plt.show()"
      ],
      "metadata": {
        "id": "yF1Nj63Bz9m7",
        "colab": {
          "base_uri": "https://localhost:8080/",
          "height": 423
        },
        "outputId": "e0001a82-6569-4b87-c536-f2fc49ca6e79"
      },
      "execution_count": 39,
      "outputs": [
        {
          "output_type": "stream",
          "name": "stdout",
          "text": [
            "(8000, 28, 28)\n",
            "(8000,)\n",
            "(2000, 28, 28)\n",
            "(2000,)\n"
          ]
        },
        {
          "output_type": "display_data",
          "data": {
            "text/plain": [
              "<Figure size 1080x1080 with 10 Axes>"
            ],
            "image/png": "[encoded data removed]"
          },
          "metadata": {}
        }
      ]
    },
    {
      "cell_type": "markdown",
      "source": [
        "Plot statistics of the training and testing dataset  \n",
        "(`x axis`: digits, `y axis`: number of samples corresponding to the digits)"
      ],
      "metadata": {
        "id": "Rx8muKSIrKhe"
      }
    },
    {
      "cell_type": "code",
      "source": [
        "import numpy as np\n",
        "\n",
        "x1=np.array([0,1,2,3,4,5,6,7,8,9])\n",
        "y1=np.array([0,0,0,0,0,0,0,0,0,0])\n",
        "print(x1)\n",
        "print(y1)\n",
        "\n",
        "for i in range(8000):\n",
        "  extra=np.where(x1==Y_train[i])\n",
        "  y1[extra]=y1[extra]+1\n",
        "\n",
        "plt.title(\"Training Dataset\")\n",
        "plt.bar(x1,y1,color=\"pink\") \n",
        "plt.show()   "
      ],
      "metadata": {
        "id": "37kehTG_6Pi4",
        "colab": {
          "base_uri": "https://localhost:8080/",
          "height": 316
        },
        "outputId": "a4d9f8de-6776-4af2-d181-6c072daac84e"
      },
      "execution_count": 40,
      "outputs": [
        {
          "output_type": "stream",
          "name": "stdout",
          "text": [
            "[0 1 2 3 4 5 6 7 8 9]\n",
            "[0 0 0 0 0 0 0 0 0 0]\n"
          ]
        },
        {
          "output_type": "display_data",
          "data": {
            "text/plain": [
              "<Figure size 432x288 with 1 Axes>"
            ],
            "image/png": "[encoded data removed]"
          },
          "metadata": {
            "needs_background": "light"
          }
        }
      ]
    },
    {
      "cell_type": "code",
      "source": [
        "x2=np.array([0,1,2,3,4,5,6,7,8,9])\n",
        "y2=np.array([0,0,0,0,0,0,0,0,0,0])\n",
        "print(x2)\n",
        "print(y2)\n",
        "\n",
        "for i in range(2000):\n",
        "  extra=np.where(x2==Y_test[i])\n",
        "  y2[extra]=y2[extra]+1\n",
        "\n",
        "plt.bar(x2,y2,color=\"cyan\") \n",
        "plt.title(\"Testing Dataset\")\n",
        "plt.show()   "
      ],
      "metadata": {
        "colab": {
          "base_uri": "https://localhost:8080/",
          "height": 316
        },
        "id": "SHV_GTXB3D9L",
        "outputId": "3a2ed8b9-cb1d-43fb-fa60-79f0aa7b1111"
      },
      "execution_count": 41,
      "outputs": [
        {
          "output_type": "stream",
          "name": "stdout",
          "text": [
            "[0 1 2 3 4 5 6 7 8 9]\n",
            "[0 0 0 0 0 0 0 0 0 0]\n"
          ]
        },
        {
          "output_type": "display_data",
          "data": {
            "text/plain": [
              "<Figure size 432x288 with 1 Axes>"
            ],
            "image/png": "[encoded data removed]"
          },
          "metadata": {
            "needs_background": "light"
          }
        }
      ]
    },
    {
      "cell_type": "markdown",
      "source": [
        "## Model"
      ],
      "metadata": {
        "id": "kWlpCWdAr8d3"
      }
    },
    {
      "cell_type": "code",
      "source": [
        "# model building\n",
        "\n",
        "# You are supposed to look at some CNN architectures and add convolutional layers along with MaxPooling, specifying the kernel size, pooling size, activation \n",
        "import tensorflow as tf\n",
        "from tensorflow.keras import layers\n",
        "from tensorflow.keras.models import Sequential\n",
        "\n",
        "model =Sequential([\n",
        "    layers.Conv2D(32,3,activation='relu',input_shape=(28, 28,1)),\n",
        "    layers.Conv2D(64, 3,activation='relu'),\n",
        "    layers.MaxPooling2D(),\n",
        "    layers.Conv2D(128, 3,activation='relu'),\n",
        "    layers.MaxPooling2D(2),\n",
        "    layers.Dense(128,activation='relu'),\n",
        "    layers.Dropout(0.25),\n",
        "    layers.Flatten(),\n",
        "    layers.Dropout(0.5),\n",
        "    layers.Dense(10,activation='softmax')\n",
        "])\n",
        "\n"
      ],
      "metadata": {
        "id": "1L07EyQ0Yion"
      },
      "execution_count": 42,
      "outputs": []
    },
    {
      "cell_type": "code",
      "source": [
        "# Compile the model (add optimizers and metrics)\n",
        "model.compile(optimizer='adam',\n",
        "              loss=tf.keras.losses.SparseCategoricalCrossentropy(from_logits=True),\n",
        "              metrics=['accuracy'])\n",
        "model.summary()\n",
        "# Fit the model on the training data (specify validation_split, read about validation if new to you)\n",
        "\n",
        "history = model.fit(X_train,Y_train,epochs=50,validation_data=(X_test,Y_test),verbose=2)\n",
        "\n",
        "plt.plot(history.history['loss'], label='loss')\n",
        "plt.plot(history.history['val_loss'], label = 'val_loss')\n",
        "plt.xlabel('Epochs')\n",
        "plt.ylabel('loss')\n",
        "plt.legend(loc='upper right')\n",
        "\n",
        "test_loss, test_acc = model.evaluate(X_test,Y_test, verbose=2)\n",
        "print(test_loss)\n",
        "print(test_acc)"
      ],
      "metadata": {
        "id": "nKEZ8cbO9JVV",
        "colab": {
          "base_uri": "https://localhost:8080/",
          "height": 1000
        },
        "outputId": "c1b9bfe8-9510-4915-8fd9-df22c2af66e3"
      },
      "execution_count": 43,
      "outputs": [
        {
          "output_type": "stream",
          "name": "stdout",
          "text": [
            "Model: \"sequential_1\"\n",
            "_________________________________________________________________\n",
            " Layer (type)                Output Shape              Param #   \n",
            "=================================================================\n",
            " conv2d_3 (Conv2D)           (None, 26, 26, 32)        320       \n",
            "                                                                 \n",
            " conv2d_4 (Conv2D)           (None, 24, 24, 64)        18496     \n",
            "                                                                 \n",
            " max_pooling2d_2 (MaxPooling  (None, 12, 12, 64)       0         \n",
            " 2D)                                                             \n",
            "                                                                 \n",
            " conv2d_5 (Conv2D)           (None, 10, 10, 128)       73856     \n",
            "                                                                 \n",
            " max_pooling2d_3 (MaxPooling  (None, 5, 5, 128)        0         \n",
            " 2D)                                                             \n",
            "                                                                 \n",
            " dense_2 (Dense)             (None, 5, 5, 128)         16512     \n",
            "                                                                 \n",
            " dropout_2 (Dropout)         (None, 5, 5, 128)         0         \n",
            "                                                                 \n",
            " flatten_1 (Flatten)         (None, 3200)              0         \n",
            "                                                                 \n",
            " dropout_3 (Dropout)         (None, 3200)              0         \n",
            "                                                                 \n",
            " dense_3 (Dense)             (None, 10)                32010     \n",
            "                                                                 \n",
            "=================================================================\n",
            "Total params: 141,194\n",
            "Trainable params: 141,194\n",
            "Non-trainable params: 0\n",
            "_________________________________________________________________\n",
            "Epoch 1/50\n"
          ]
        },
        {
          "output_type": "stream",
          "name": "stderr",
          "text": [
            "/usr/local/lib/python3.7/dist-packages/tensorflow/python/util/dispatch.py:1082: UserWarning: \"`sparse_categorical_crossentropy` received `from_logits=True`, but the `output` argument was produced by a sigmoid or softmax activation and thus does not represent logits. Was this intended?\"\n",
            "  return dispatch_target(*args, **kwargs)\n"
          ]
        },
        {
          "output_type": "stream",
          "name": "stdout",
          "text": [
            "250/250 - 29s - loss: 1.0650 - accuracy: 0.7910 - val_loss: 0.1601 - val_accuracy: 0.9480 - 29s/epoch - 116ms/step\n",
            "Epoch 2/50\n",
            "250/250 - 28s - loss: 0.1990 - accuracy: 0.9386 - val_loss: 0.1043 - val_accuracy: 0.9655 - 28s/epoch - 111ms/step\n",
            "Epoch 3/50\n",
            "250/250 - 28s - loss: 0.1442 - accuracy: 0.9530 - val_loss: 0.0781 - val_accuracy: 0.9700 - 28s/epoch - 111ms/step\n",
            "Epoch 4/50\n",
            "250/250 - 28s - loss: 0.1021 - accuracy: 0.9669 - val_loss: 0.0775 - val_accuracy: 0.9760 - 28s/epoch - 111ms/step\n",
            "Epoch 5/50\n",
            "250/250 - 28s - loss: 0.0797 - accuracy: 0.9741 - val_loss: 0.0833 - val_accuracy: 0.9770 - 28s/epoch - 111ms/step\n",
            "Epoch 6/50\n",
            "250/250 - 28s - loss: 0.0846 - accuracy: 0.9726 - val_loss: 0.0680 - val_accuracy: 0.9765 - 28s/epoch - 111ms/step\n",
            "Epoch 7/50\n",
            "250/250 - 28s - loss: 0.0695 - accuracy: 0.9775 - val_loss: 0.0783 - val_accuracy: 0.9765 - 28s/epoch - 111ms/step\n",
            "Epoch 8/50\n",
            "250/250 - 28s - loss: 0.0692 - accuracy: 0.9771 - val_loss: 0.0743 - val_accuracy: 0.9800 - 28s/epoch - 111ms/step\n",
            "Epoch 9/50\n",
            "250/250 - 28s - loss: 0.0581 - accuracy: 0.9800 - val_loss: 0.0991 - val_accuracy: 0.9735 - 28s/epoch - 111ms/step\n",
            "Epoch 10/50\n",
            "250/250 - 28s - loss: 0.0587 - accuracy: 0.9808 - val_loss: 0.0554 - val_accuracy: 0.9805 - 28s/epoch - 111ms/step\n",
            "Epoch 11/50\n",
            "250/250 - 28s - loss: 0.0485 - accuracy: 0.9840 - val_loss: 0.0499 - val_accuracy: 0.9860 - 28s/epoch - 110ms/step\n",
            "Epoch 12/50\n",
            "250/250 - 28s - loss: 0.0368 - accuracy: 0.9874 - val_loss: 0.0906 - val_accuracy: 0.9800 - 28s/epoch - 110ms/step\n",
            "Epoch 13/50\n",
            "250/250 - 28s - loss: 0.0549 - accuracy: 0.9829 - val_loss: 0.0745 - val_accuracy: 0.9750 - 28s/epoch - 111ms/step\n",
            "Epoch 14/50\n",
            "250/250 - 28s - loss: 0.0350 - accuracy: 0.9883 - val_loss: 0.0710 - val_accuracy: 0.9780 - 28s/epoch - 111ms/step\n",
            "Epoch 15/50\n",
            "250/250 - 28s - loss: 0.0435 - accuracy: 0.9872 - val_loss: 0.0583 - val_accuracy: 0.9845 - 28s/epoch - 111ms/step\n",
            "Epoch 16/50\n",
            "250/250 - 28s - loss: 0.0273 - accuracy: 0.9905 - val_loss: 0.0913 - val_accuracy: 0.9805 - 28s/epoch - 111ms/step\n",
            "Epoch 17/50\n",
            "250/250 - 28s - loss: 0.0458 - accuracy: 0.9861 - val_loss: 0.0549 - val_accuracy: 0.9845 - 28s/epoch - 111ms/step\n",
            "Epoch 18/50\n",
            "250/250 - 28s - loss: 0.0344 - accuracy: 0.9899 - val_loss: 0.0727 - val_accuracy: 0.9795 - 28s/epoch - 110ms/step\n",
            "Epoch 19/50\n",
            "250/250 - 28s - loss: 0.0433 - accuracy: 0.9875 - val_loss: 0.0764 - val_accuracy: 0.9760 - 28s/epoch - 110ms/step\n",
            "Epoch 20/50\n",
            "250/250 - 28s - loss: 0.0293 - accuracy: 0.9910 - val_loss: 0.0756 - val_accuracy: 0.9775 - 28s/epoch - 110ms/step\n",
            "Epoch 21/50\n",
            "250/250 - 28s - loss: 0.0316 - accuracy: 0.9899 - val_loss: 0.0781 - val_accuracy: 0.9810 - 28s/epoch - 110ms/step\n",
            "Epoch 22/50\n",
            "250/250 - 28s - loss: 0.0351 - accuracy: 0.9906 - val_loss: 0.0674 - val_accuracy: 0.9825 - 28s/epoch - 111ms/step\n",
            "Epoch 23/50\n",
            "250/250 - 28s - loss: 0.0441 - accuracy: 0.9866 - val_loss: 0.0780 - val_accuracy: 0.9770 - 28s/epoch - 111ms/step\n",
            "Epoch 24/50\n",
            "250/250 - 28s - loss: 0.0266 - accuracy: 0.9924 - val_loss: 0.0674 - val_accuracy: 0.9830 - 28s/epoch - 111ms/step\n",
            "Epoch 25/50\n",
            "250/250 - 28s - loss: 0.0287 - accuracy: 0.9909 - val_loss: 0.0723 - val_accuracy: 0.9825 - 28s/epoch - 111ms/step\n",
            "Epoch 26/50\n",
            "250/250 - 28s - loss: 0.0286 - accuracy: 0.9918 - val_loss: 0.0963 - val_accuracy: 0.9785 - 28s/epoch - 111ms/step\n",
            "Epoch 27/50\n",
            "250/250 - 28s - loss: 0.0547 - accuracy: 0.9864 - val_loss: 0.1088 - val_accuracy: 0.9780 - 28s/epoch - 111ms/step\n",
            "Epoch 28/50\n",
            "250/250 - 28s - loss: 0.0405 - accuracy: 0.9875 - val_loss: 0.0782 - val_accuracy: 0.9845 - 28s/epoch - 111ms/step\n",
            "Epoch 29/50\n",
            "250/250 - 28s - loss: 0.0251 - accuracy: 0.9929 - val_loss: 0.0669 - val_accuracy: 0.9840 - 28s/epoch - 111ms/step\n",
            "Epoch 30/50\n",
            "250/250 - 28s - loss: 0.0228 - accuracy: 0.9927 - val_loss: 0.0757 - val_accuracy: 0.9840 - 28s/epoch - 111ms/step\n",
            "Epoch 31/50\n",
            "250/250 - 28s - loss: 0.0182 - accuracy: 0.9949 - val_loss: 0.0751 - val_accuracy: 0.9840 - 28s/epoch - 110ms/step\n",
            "Epoch 32/50\n",
            "250/250 - 28s - loss: 0.0202 - accuracy: 0.9954 - val_loss: 0.1019 - val_accuracy: 0.9800 - 28s/epoch - 111ms/step\n",
            "Epoch 33/50\n",
            "250/250 - 28s - loss: 0.0210 - accuracy: 0.9936 - val_loss: 0.1024 - val_accuracy: 0.9825 - 28s/epoch - 112ms/step\n",
            "Epoch 34/50\n",
            "250/250 - 28s - loss: 0.0363 - accuracy: 0.9898 - val_loss: 0.0744 - val_accuracy: 0.9885 - 28s/epoch - 113ms/step\n",
            "Epoch 35/50\n",
            "250/250 - 28s - loss: 0.0398 - accuracy: 0.9901 - val_loss: 0.0969 - val_accuracy: 0.9820 - 28s/epoch - 113ms/step\n",
            "Epoch 36/50\n",
            "250/250 - 28s - loss: 0.0487 - accuracy: 0.9889 - val_loss: 0.0677 - val_accuracy: 0.9865 - 28s/epoch - 113ms/step\n",
            "Epoch 37/50\n",
            "250/250 - 28s - loss: 0.0226 - accuracy: 0.9939 - val_loss: 0.0848 - val_accuracy: 0.9865 - 28s/epoch - 112ms/step\n",
            "Epoch 38/50\n",
            "250/250 - 28s - loss: 0.0215 - accuracy: 0.9936 - val_loss: 0.0790 - val_accuracy: 0.9875 - 28s/epoch - 113ms/step\n",
            "Epoch 39/50\n",
            "250/250 - 28s - loss: 0.0205 - accuracy: 0.9925 - val_loss: 0.0826 - val_accuracy: 0.9860 - 28s/epoch - 113ms/step\n",
            "Epoch 40/50\n",
            "250/250 - 28s - loss: 0.0192 - accuracy: 0.9951 - val_loss: 0.0766 - val_accuracy: 0.9865 - 28s/epoch - 113ms/step\n",
            "Epoch 41/50\n",
            "250/250 - 28s - loss: 0.0185 - accuracy: 0.9949 - val_loss: 0.0787 - val_accuracy: 0.9860 - 28s/epoch - 113ms/step\n",
            "Epoch 42/50\n",
            "250/250 - 28s - loss: 0.0219 - accuracy: 0.9946 - val_loss: 0.0998 - val_accuracy: 0.9790 - 28s/epoch - 112ms/step\n",
            "Epoch 43/50\n",
            "250/250 - 28s - loss: 0.0275 - accuracy: 0.9919 - val_loss: 0.0731 - val_accuracy: 0.9860 - 28s/epoch - 113ms/step\n",
            "Epoch 44/50\n",
            "250/250 - 28s - loss: 0.0302 - accuracy: 0.9925 - val_loss: 0.1174 - val_accuracy: 0.9835 - 28s/epoch - 112ms/step\n",
            "Epoch 45/50\n",
            "250/250 - 28s - loss: 0.0306 - accuracy: 0.9914 - val_loss: 0.0912 - val_accuracy: 0.9830 - 28s/epoch - 113ms/step\n",
            "Epoch 46/50\n",
            "250/250 - 28s - loss: 0.0311 - accuracy: 0.9933 - val_loss: 0.0827 - val_accuracy: 0.9840 - 28s/epoch - 111ms/step\n",
            "Epoch 47/50\n",
            "250/250 - 28s - loss: 0.0161 - accuracy: 0.9955 - val_loss: 0.0840 - val_accuracy: 0.9870 - 28s/epoch - 112ms/step\n",
            "Epoch 48/50\n",
            "250/250 - 28s - loss: 0.0306 - accuracy: 0.9934 - val_loss: 0.0682 - val_accuracy: 0.9885 - 28s/epoch - 112ms/step\n",
            "Epoch 49/50\n",
            "250/250 - 28s - loss: 0.0152 - accuracy: 0.9960 - val_loss: 0.0762 - val_accuracy: 0.9890 - 28s/epoch - 112ms/step\n",
            "Epoch 50/50\n",
            "250/250 - 28s - loss: 0.0197 - accuracy: 0.9951 - val_loss: 0.0727 - val_accuracy: 0.9870 - 28s/epoch - 112ms/step\n",
            "63/63 - 2s - loss: 0.0727 - accuracy: 0.9870 - 2s/epoch - 26ms/step\n",
            "0.07271380722522736\n",
            "0.9869999885559082\n"
          ]
        },
        {
          "output_type": "display_data",
          "data": {
            "text/plain": [
              "<Figure size 432x288 with 1 Axes>"
            ],
            "image/png": "[encoded data removed]"
          },
          "metadata": {
            "needs_background": "light"
          }
        }
      ]
    },
    {
      "cell_type": "markdown",
      "source": [
        "## Predict some images\n",
        "Print the image along with its label (true value) and predicted value."
      ],
      "metadata": {
        "id": "ml1Kna_DuJrL"
      }
    },
    {
      "cell_type": "code",
      "source": [
        "# Your code\n",
        "import random\n",
        "\n",
        "for _ in range(5):\n",
        "  idx=random.randint(0,len(Y_test))\n",
        "  plt.imshow(X_test[idx,:])\n",
        "  plt.xlabel(class_names[Y_test[idx]])\n",
        "  plt.show()\n",
        "\n",
        "  pred=model.predict(X_test[idx,:].reshape(1,28,28))\n",
        "  score= tf.nn.softmax(pred)\n",
        "  print(score)\n",
        "  print(\"\\nThis image belongs to {} with a {:.2f} percent confidence.\\n\"\n",
        "    .format(class_names[np.argmax(score)], 100 * np.max(score)))\n",
        "\n",
        "#This can be another method\n",
        "\n",
        "#img=X_test[idx,:]\n",
        "#img_array = tf.keras.utils.img_to_array(img)\n",
        "#img_array = tf.expand_dims(img_array, 0) # Create a batch\n",
        "\n",
        "#predictions = model.predict(img_array)\n",
        "#score = tf.nn.softmax(predictions[0])\n",
        "#print(score)\n",
        "#print(\"This image most likely belongs to {} with a {:.2f} percent confidence.\".format(class_names[np.argmax(score)], 100 * np.max(score)))"
      ],
      "metadata": {
        "id": "qioZul7_uiYq",
        "colab": {
          "base_uri": "https://localhost:8080/",
          "height": 1000
        },
        "outputId": "3b0755ff-d972-427a-8b24-8012f693b689"
      },
      "execution_count": 44,
      "outputs": [
        {
          "output_type": "display_data",
          "data": {
            "text/plain": [
              "<Figure size 432x288 with 1 Axes>"
            ],
            "image/png": "[encoded data removed]"
          },
          "metadata": {
            "needs_background": "light"
          }
        },
        {
          "output_type": "stream",
          "name": "stdout",
          "text": [
            "tf.Tensor(\n",
            "[[0.08533674 0.08533674 0.08533674 0.08533674 0.08533674 0.23196931\n",
            "  0.08533674 0.08533674 0.08533674 0.08533674]], shape=(1, 10), dtype=float32)\n",
            "\n",
            "This image belongs to five with a 23.20 percent confidence.\n",
            "\n"
          ]
        },
        {
          "output_type": "display_data",
          "data": {
            "text/plain": [
              "<Figure size 432x288 with 1 Axes>"
            ],
            "image/png": "[encoded data removed]"
          },
          "metadata": {
            "needs_background": "light"
          }
        },
        {
          "output_type": "stream",
          "name": "stdout",
          "text": [
            "tf.Tensor(\n",
            "[[0.23196931 0.08533674 0.08533674 0.08533674 0.08533674 0.08533674\n",
            "  0.08533674 0.08533674 0.08533674 0.08533674]], shape=(1, 10), dtype=float32)\n",
            "\n",
            "This image belongs to zero with a 23.20 percent confidence.\n",
            "\n"
          ]
        },
        {
          "output_type": "display_data",
          "data": {
            "text/plain": [
              "<Figure size 432x288 with 1 Axes>"
            ],
            "image/png": "[encoded data removed]"
          },
          "metadata": {
            "needs_background": "light"
          }
        },
        {
          "output_type": "stream",
          "name": "stdout",
          "text": [
            "tf.Tensor(\n",
            "[[0.08533674 0.08533674 0.08533674 0.08533674 0.08533674 0.08533674\n",
            "  0.08533674 0.08533674 0.23196931 0.08533674]], shape=(1, 10), dtype=float32)\n",
            "\n",
            "This image belongs to eight with a 23.20 percent confidence.\n",
            "\n"
          ]
        },
        {
          "output_type": "display_data",
          "data": {
            "text/plain": [
              "<Figure size 432x288 with 1 Axes>"
            ],
            "image/png": "[encoded data removed]"
          },
          "metadata": {
            "needs_background": "light"
          }
        },
        {
          "output_type": "stream",
          "name": "stdout",
          "text": [
            "tf.Tensor(\n",
            "[[0.08533674 0.08533674 0.08533674 0.08533674 0.08533674 0.08533674\n",
            "  0.08533674 0.08533674 0.08533674 0.23196931]], shape=(1, 10), dtype=float32)\n",
            "\n",
            "This image belongs to nine with a 23.20 percent confidence.\n",
            "\n"
          ]
        },
        {
          "output_type": "display_data",
          "data": {
            "text/plain": [
              "<Figure size 432x288 with 1 Axes>"
            ],
            "image/png": "[encoded data removed]"
          },
          "metadata": {
            "needs_background": "light"
          }
        },
        {
          "output_type": "stream",
          "name": "stdout",
          "text": [
            "tf.Tensor(\n",
            "[[0.08533674 0.08533674 0.08533674 0.08533674 0.08533674 0.08533674\n",
            "  0.08533674 0.08533674 0.08533674 0.23196931]], shape=(1, 10), dtype=float32)\n",
            "\n",
            "This image belongs to nine with a 23.20 percent confidence.\n",
            "\n"
          ]
        }
      ]
    }
  ]
}