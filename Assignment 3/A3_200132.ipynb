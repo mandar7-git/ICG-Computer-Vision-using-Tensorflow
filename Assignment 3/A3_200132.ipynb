{
  "nbformat": 4,
  "nbformat_minor": 0,
  "metadata": {
    "colab": {
      "name": "Assignment 3_200132",
      "provenance": []
    },
    "kernelspec": {
      "name": "python3",
      "display_name": "Python 3"
    },
    "language_info": {
      "name": "python"
    },
    "accelerator": "GPU",
    "gpuClass": "standard"
  },
  "cells": [
    {
      "cell_type": "markdown",
      "source": [
        "# Assignment 3\n",
        "\n",
        " In this Assignment, we will use CNN to classify digits.   \n",
        "The `MNIST` database is a large database of handwritten digits that is commonly used for training various image processing systems.\n",
        "\n"
      ],
      "metadata": {
        "id": "VGHh_5UYzKpV"
      }
    },
    {
      "cell_type": "markdown",
      "source": [
        "## Importing TensorFlow"
      ],
      "metadata": {
        "id": "JnsMbCPNzPAr"
      }
    },
    {
      "cell_type": "code",
      "execution_count": 33,
      "metadata": {
        "id": "HRLTw3cMwvi7"
      },
      "outputs": [],
      "source": [
        "import tensorflow as tf"
      ]
    },
    {
      "cell_type": "markdown",
      "source": [
        "## Get the dataset"
      ],
      "metadata": {
        "id": "6Ji7HGpgzSPi"
      }
    },
    {
      "cell_type": "code",
      "source": [
        "# Import the dataset\n",
        "\n",
        "(x_train, y_train), (x_test, y_test) = tf.keras.datasets.mnist.load_data()"
      ],
      "metadata": {
        "id": "oEW3KDEvzIHL"
      },
      "execution_count": 34,
      "outputs": []
    },
    {
      "cell_type": "code",
      "source": [
        "# Split the dataset\n",
        "\n",
        "from sklearn.model_selection import train_test_split\n",
        "X_train,X_test,Y_train,Y_test=train_test_split(x_test,y_test,test_size=0.2)"
      ],
      "metadata": {
        "id": "F_sRU9dx_mYQ"
      },
      "execution_count": 35,
      "outputs": []
    },
    {
      "cell_type": "code",
      "source": [
        "# Pre processing \n",
        "import matplotlib.pyplot as plt\n",
        "plt.imshow(X_train[7], cmap=\"gray\") # Import the image\n",
        "plt.show()"
      ],
      "metadata": {
        "id": "rbt0WbW6sDVs",
        "colab": {
          "base_uri": "https://localhost:8080/",
          "height": 265
        },
        "outputId": "73ec6bc2-8ad6-49d9-dc17-ea53561e80d9"
      },
      "execution_count": 36,
      "outputs": [
        {
          "output_type": "display_data",
          "data": {
            "text/plain": [
              "<Figure size 432x288 with 1 Axes>"
            ],
            "image/png": "[encoded data removed]"
          },
          "metadata": {
            "needs_background": "light"
          }
        }
      ]
    },
    {
      "cell_type": "code",
      "source": [
        "# Normalize the train dataset\n",
        "X_train = tf.keras.utils.normalize(X_train, axis=1)\n",
        "# Normalize the test dataset\n",
        "X_test = tf.keras.utils.normalize(X_test, axis=1)"
      ],
      "metadata": {
        "id": "4Nc41NAf5H1x"
      },
      "execution_count": 37,
      "outputs": []
    },
    {
      "cell_type": "code",
      "source": [
        "print(X_train.shape, Y_train.shape)"
      ],
      "metadata": {
        "colab": {
          "base_uri": "https://localhost:8080/"
        },
        "id": "NUeHTScw5dIG",
        "outputId": "90fd0a50-970e-43f8-913f-bca782521f01"
      },
      "execution_count": 38,
      "outputs": [
        {
          "output_type": "stream",
          "name": "stdout",
          "text": [
            "(8000, 28, 28) (8000,)\n"
          ]
        }
      ]
    },
    {
      "cell_type": "markdown",
      "source": [
        "## Visualize the dataset\n",
        "Print some images with labels."
      ],
      "metadata": {
        "id": "EVpQheoVqoEG"
      }
    },
    {
      "cell_type": "code",
      "source": [
        "import matplotlib.pyplot as plt\n",
        "plt.figure(figsize=(10,10))\n",
        "for i in range(10):\n",
        "    plt.subplot(5,5,i+1)\n",
        "    plt.xticks([])\n",
        "    plt.yticks([])\n",
        "    plt.grid(False)\n",
        "    plt.imshow(X_train[i])\n",
        "   \n",
        "    plt.xlabel(Y_train[i])\n",
        "plt.show()\n",
        "# Your code"
      ],
      "metadata": {
        "id": "yF1Nj63Bz9m7",
        "colab": {
          "base_uri": "https://localhost:8080/",
          "height": 251
        },
        "outputId": "71819733-cab2-4e48-fe8a-7b46f45f7902"
      },
      "execution_count": 39,
      "outputs": [
        {
          "output_type": "display_data",
          "data": {
            "text/plain": [
              "<Figure size 720x720 with 10 Axes>"
            ],
            "image/png": "[encoded data removed]"
          },
          "metadata": {}
        }
      ]
    },
    {
      "cell_type": "markdown",
      "source": [
        "Plot statistics of the training and testing dataset  \n",
        "(`x axis`: digits, `y axis`: number of samples corresponding to the digits)"
      ],
      "metadata": {
        "id": "Rx8muKSIrKhe"
      }
    },
    {
      "cell_type": "code",
      "source": [
        "import numpy as np\n",
        "import numpy as np\n",
        "unique, counts = np.unique(Y_train, return_counts=True)\n",
        "print (np.asarray((unique, counts)).T)\n",
        "\n"
      ],
      "metadata": {
        "id": "37kehTG_6Pi4",
        "colab": {
          "base_uri": "https://localhost:8080/"
        },
        "outputId": "ea4757d1-c5dc-415b-8514-0cfc9aeb7c9a"
      },
      "execution_count": 40,
      "outputs": [
        {
          "output_type": "stream",
          "name": "stdout",
          "text": [
            "[[  0 813]\n",
            " [  1 890]\n",
            " [  2 823]\n",
            " [  3 811]\n",
            " [  4 788]\n",
            " [  5 692]\n",
            " [  6 769]\n",
            " [  7 812]\n",
            " [  8 789]\n",
            " [  9 813]]\n"
          ]
        }
      ]
    },
    {
      "cell_type": "code",
      "source": [
        "plt.bar(unique,counts)\n",
        "plt.title(\"Statistics of Training dataset\")\n",
        "plt.show()"
      ],
      "metadata": {
        "colab": {
          "base_uri": "https://localhost:8080/",
          "height": 281
        },
        "id": "QZoj8t7VHdsl",
        "outputId": "a0b92f83-bfcd-4010-eaca-107a40f8b615"
      },
      "execution_count": 41,
      "outputs": [
        {
          "output_type": "display_data",
          "data": {
            "text/plain": [
              "<Figure size 432x288 with 1 Axes>"
            ],
            "image/png": "[encoded data removed]"
          },
          "metadata": {
            "needs_background": "light"
          }
        }
      ]
    },
    {
      "cell_type": "code",
      "source": [
        "import numpy as np\n",
        "unique2, counts2 = np.unique(Y_test, return_counts=True)\n",
        "print (np.asarray((unique2, counts2)).T)"
      ],
      "metadata": {
        "colab": {
          "base_uri": "https://localhost:8080/"
        },
        "id": "jjWex3-VHioz",
        "outputId": "e29942dc-df87-4090-deb3-d4013dcd000a"
      },
      "execution_count": 42,
      "outputs": [
        {
          "output_type": "stream",
          "name": "stdout",
          "text": [
            "[[  0 167]\n",
            " [  1 245]\n",
            " [  2 209]\n",
            " [  3 199]\n",
            " [  4 194]\n",
            " [  5 200]\n",
            " [  6 189]\n",
            " [  7 216]\n",
            " [  8 185]\n",
            " [  9 196]]\n"
          ]
        }
      ]
    },
    {
      "cell_type": "markdown",
      "source": [
        "## Model"
      ],
      "metadata": {
        "id": "kWlpCWdAr8d3"
      }
    },
    {
      "cell_type": "code",
      "source": [
        "# model building\n",
        "import tensorflow as tf\n",
        "from tensorflow import keras\n",
        "from tensorflow.keras import layers\n",
        "from tensorflow.keras.models import Sequential\n",
        "from tensorflow.keras import datasets, layers, models\n",
        "import matplotlib.pyplot as plt\n",
        "model = models.Sequential()\n",
        "model.add(layers.Conv2D(32, (3, 3), activation='relu', input_shape=(28,28,1)))\n",
        "model.add(layers.MaxPooling2D((2, 2)))\n",
        "model.add(layers.Conv2D(64, (3, 3), activation='relu'))\n",
        "model.add(layers.MaxPooling2D((2, 2)))\n",
        "model.add(layers.Conv2D(64, (3, 3), activation='relu'))\n",
        "model.add(layers.Flatten())\n",
        "model.add(layers.Dense(64, activation='relu'))\n",
        "model.add(layers.Dense(10, activation='softmax'))\n",
        "model.summary()"
      ],
      "metadata": {
        "id": "1L07EyQ0Yion",
        "colab": {
          "base_uri": "https://localhost:8080/"
        },
        "outputId": "e7143d25-3449-46cd-d689-10666cae2cf0"
      },
      "execution_count": 43,
      "outputs": [
        {
          "output_type": "stream",
          "name": "stdout",
          "text": [
            "Model: \"sequential_1\"\n",
            "_________________________________________________________________\n",
            " Layer (type)                Output Shape              Param #   \n",
            "=================================================================\n",
            " conv2d_3 (Conv2D)           (None, 26, 26, 32)        320       \n",
            "                                                                 \n",
            " max_pooling2d_2 (MaxPooling  (None, 13, 13, 32)       0         \n",
            " 2D)                                                             \n",
            "                                                                 \n",
            " conv2d_4 (Conv2D)           (None, 11, 11, 64)        18496     \n",
            "                                                                 \n",
            " max_pooling2d_3 (MaxPooling  (None, 5, 5, 64)         0         \n",
            " 2D)                                                             \n",
            "                                                                 \n",
            " conv2d_5 (Conv2D)           (None, 3, 3, 64)          36928     \n",
            "                                                                 \n",
            " flatten_1 (Flatten)         (None, 576)               0         \n",
            "                                                                 \n",
            " dense_2 (Dense)             (None, 64)                36928     \n",
            "                                                                 \n",
            " dense_3 (Dense)             (None, 10)                650       \n",
            "                                                                 \n",
            "=================================================================\n",
            "Total params: 93,322\n",
            "Trainable params: 93,322\n",
            "Non-trainable params: 0\n",
            "_________________________________________________________________\n"
          ]
        }
      ]
    },
    {
      "cell_type": "code",
      "source": [
        "# Compile the model (add optimizers and metrics)\n",
        "model.compile(optimizer='adam',\n",
        "              loss=tf.keras.losses.SparseCategoricalCrossentropy(from_logits=True),\n",
        "              metrics=['accuracy'])\n",
        "# Fit the model on the training data (specify validation_split, read about validation if new to you)\n",
        "history = model.fit(X_train, Y_train, validation_split=0.2, epochs=15,batch_size=5)\n"
      ],
      "metadata": {
        "id": "nKEZ8cbO9JVV",
        "colab": {
          "base_uri": "https://localhost:8080/"
        },
        "outputId": "d49ee10d-d711-4a2d-d1d0-f0b1243b6084"
      },
      "execution_count": 45,
      "outputs": [
        {
          "output_type": "stream",
          "name": "stdout",
          "text": [
            "Epoch 1/15\n"
          ]
        },
        {
          "output_type": "stream",
          "name": "stderr",
          "text": [
            "/usr/local/lib/python3.7/dist-packages/tensorflow/python/util/dispatch.py:1082: UserWarning: \"`sparse_categorical_crossentropy` received `from_logits=True`, but the `output` argument was produced by a sigmoid or softmax activation and thus does not represent logits. Was this intended?\"\n",
            "  return dispatch_target(*args, **kwargs)\n"
          ]
        },
        {
          "output_type": "stream",
          "name": "stdout",
          "text": [
            "1280/1280 [==============================] - 5s 4ms/step - loss: 0.0344 - accuracy: 0.9914 - val_loss: 0.0955 - val_accuracy: 0.9756\n",
            "Epoch 2/15\n",
            "1280/1280 [==============================] - 4s 3ms/step - loss: 0.0112 - accuracy: 0.9961 - val_loss: 0.1720 - val_accuracy: 0.9619\n",
            "Epoch 3/15\n",
            "1280/1280 [==============================] - 4s 3ms/step - loss: 0.0214 - accuracy: 0.9931 - val_loss: 0.1145 - val_accuracy: 0.9725\n",
            "Epoch 4/15\n",
            "1280/1280 [==============================] - 4s 3ms/step - loss: 0.0103 - accuracy: 0.9975 - val_loss: 0.1597 - val_accuracy: 0.9694\n",
            "Epoch 5/15\n",
            "1280/1280 [==============================] - 4s 3ms/step - loss: 0.0161 - accuracy: 0.9944 - val_loss: 0.1569 - val_accuracy: 0.9737\n",
            "Epoch 6/15\n",
            "1280/1280 [==============================] - 4s 3ms/step - loss: 0.0205 - accuracy: 0.9930 - val_loss: 0.2123 - val_accuracy: 0.9594\n",
            "Epoch 7/15\n",
            "1280/1280 [==============================] - 4s 3ms/step - loss: 0.0129 - accuracy: 0.9967 - val_loss: 0.1392 - val_accuracy: 0.9719\n",
            "Epoch 8/15\n",
            "1280/1280 [==============================] - 4s 3ms/step - loss: 0.0076 - accuracy: 0.9977 - val_loss: 0.1529 - val_accuracy: 0.9719\n",
            "Epoch 9/15\n",
            "1280/1280 [==============================] - 4s 3ms/step - loss: 0.0114 - accuracy: 0.9977 - val_loss: 0.1217 - val_accuracy: 0.9781\n",
            "Epoch 10/15\n",
            "1280/1280 [==============================] - 4s 3ms/step - loss: 0.0161 - accuracy: 0.9958 - val_loss: 0.1997 - val_accuracy: 0.9656\n",
            "Epoch 11/15\n",
            "1280/1280 [==============================] - 4s 3ms/step - loss: 0.0102 - accuracy: 0.9970 - val_loss: 0.1380 - val_accuracy: 0.9762\n",
            "Epoch 12/15\n",
            "1280/1280 [==============================] - 4s 3ms/step - loss: 0.0149 - accuracy: 0.9958 - val_loss: 0.1192 - val_accuracy: 0.9787\n",
            "Epoch 13/15\n",
            "1280/1280 [==============================] - 4s 3ms/step - loss: 0.0073 - accuracy: 0.9983 - val_loss: 0.1511 - val_accuracy: 0.9769\n",
            "Epoch 14/15\n",
            "1280/1280 [==============================] - 4s 3ms/step - loss: 0.0172 - accuracy: 0.9958 - val_loss: 0.0980 - val_accuracy: 0.9787\n",
            "Epoch 15/15\n",
            "1280/1280 [==============================] - 4s 3ms/step - loss: 0.0012 - accuracy: 0.9995 - val_loss: 0.1246 - val_accuracy: 0.9787\n"
          ]
        }
      ]
    },
    {
      "cell_type": "code",
      "source": [
        "\n",
        "plt.plot(history.history['accuracy'], label='accuracy')\n",
        "plt.plot(history.history['val_accuracy'], label = 'val_accuracy')\n",
        "plt.xlabel('Epoch')\n",
        "plt.ylabel('Accuracy')\n",
        "plt.ylim([0.5, 1.5])\n",
        "plt.legend(loc='lower right')"
      ],
      "metadata": {
        "colab": {
          "base_uri": "https://localhost:8080/",
          "height": 296
        },
        "id": "gv9EZD0zLISC",
        "outputId": "fe840335-9e8e-4666-a198-3c24695d7859"
      },
      "execution_count": 46,
      "outputs": [
        {
          "output_type": "execute_result",
          "data": {
            "text/plain": [
              "<matplotlib.legend.Legend at 0x7f30cc0e9450>"
            ]
          },
          "metadata": {},
          "execution_count": 46
        },
        {
          "output_type": "display_data",
          "data": {
            "text/plain": [
              "<Figure size 432x288 with 1 Axes>"
            ],
            "image/png": "[encoded data removed]"
          },
          "metadata": {
            "needs_background": "light"
          }
        }
      ]
    },
    {
      "cell_type": "code",
      "source": [
        "test_loss, test_acc = model.evaluate(X_test,Y_test, verbose=2)\n",
        "print(test_acc)"
      ],
      "metadata": {
        "colab": {
          "base_uri": "https://localhost:8080/"
        },
        "id": "EQ-age-8LPqB",
        "outputId": "925c96ef-f22c-460f-e065-3c328a44e061"
      },
      "execution_count": 47,
      "outputs": [
        {
          "output_type": "stream",
          "name": "stderr",
          "text": [
            "/usr/local/lib/python3.7/dist-packages/tensorflow/python/util/dispatch.py:1082: UserWarning: \"`sparse_categorical_crossentropy` received `from_logits=True`, but the `output` argument was produced by a sigmoid or softmax activation and thus does not represent logits. Was this intended?\"\n",
            "  return dispatch_target(*args, **kwargs)\n"
          ]
        },
        {
          "output_type": "stream",
          "name": "stdout",
          "text": [
            "63/63 - 0s - loss: 0.0732 - accuracy: 0.9850 - 265ms/epoch - 4ms/step\n",
            "0.9850000143051147\n"
          ]
        }
      ]
    },
    {
      "cell_type": "markdown",
      "source": [
        "## Predict some images\n",
        "Print the image along with its label (true value) and predicted value."
      ],
      "metadata": {
        "id": "ml1Kna_DuJrL"
      }
    },
    {
      "cell_type": "code",
      "source": [
        "# Your code\n",
        "predictions = model.predict(X_test)\n",
        "for i in range(5):\n",
        "\n",
        "  print(np.argmax(predictions[i]))"
      ],
      "metadata": {
        "id": "qioZul7_uiYq",
        "colab": {
          "base_uri": "https://localhost:8080/"
        },
        "outputId": "dbf8d335-6626-4cf0-c169-bd1898934be9"
      },
      "execution_count": 48,
      "outputs": [
        {
          "output_type": "stream",
          "name": "stdout",
          "text": [
            "9\n",
            "7\n",
            "1\n",
            "2\n",
            "9\n"
          ]
        }
      ]
    },
    {
      "cell_type": "code",
      "source": [
        "for i in range(5):\n",
        "  plt.imshow(X_test[i], cmap=\"gray\") # Import the image\n",
        "  plt.show() # Show the image"
      ],
      "metadata": {
        "colab": {
          "base_uri": "https://localhost:8080/",
          "height": 1000
        },
        "id": "ViSpXb5XLjLX",
        "outputId": "01e135c0-82f6-4692-a194-93e48a90478b"
      },
      "execution_count": 49,
      "outputs": [
        {
          "output_type": "display_data",
          "data": {
            "text/plain": [
              "<Figure size 432x288 with 1 Axes>"
            ],
            "image/png": "[encoded data removed]"
          },
          "metadata": {
            "needs_background": "light"
          }
        },
        {
          "output_type": "display_data",
          "data": {
            "text/plain": [
              "<Figure size 432x288 with 1 Axes>"
            ],
            "image/png": "[encoded data removed]"
          },
          "metadata": {
            "needs_background": "light"
          }
        },
        {
          "output_type": "display_data",
          "data": {
            "text/plain": [
              "<Figure size 432x288 with 1 Axes>"
            ],
            "image/png": "[encoded data removed]"
          },
          "metadata": {
            "needs_background": "light"
          }
        },
        {
          "output_type": "display_data",
          "data": {
            "text/plain": [
              "<Figure size 432x288 with 1 Axes>"
            ],
            "image/png": "[encoded data removed]"
          },
          "metadata": {
            "needs_background": "light"
          }
        },
        {
          "output_type": "display_data",
          "data": {
            "text/plain": [
              "<Figure size 432x288 with 1 Axes>"
            ],
            "image/png": "[encoded data removed]"
          },
          "metadata": {
            "needs_background": "light"
          }
        }
      ]
    },
    {
      "cell_type": "code",
      "source": [
        "predictions=model.predict([X_test])\n",
        "for i in range(25,32):\n",
        "  plt.imshow(X_test[i])\n",
        "  plt.show()\n",
        " \n",
        "  print('label -> ',Y_test[i])\n",
        "  print('prediction -> ',np.argmax(predictions[i]))\n"
      ],
      "metadata": {
        "colab": {
          "base_uri": "https://localhost:8080/",
          "height": 1000
        },
        "id": "drh3JHDdPjRh",
        "outputId": "ed35a28d-c5f7-4b43-b8db-d9f36dd37eb7"
      },
      "execution_count": 50,
      "outputs": [
        {
          "output_type": "display_data",
          "data": {
            "text/plain": [
              "<Figure size 432x288 with 1 Axes>"
            ],
            "image/png": "[encoded data removed]"
          },
          "metadata": {
            "needs_background": "light"
          }
        },
        {
          "output_type": "stream",
          "name": "stdout",
          "text": [
            "label ->  1\n",
            "prediction ->  1\n"
          ]
        },
        {
          "output_type": "display_data",
          "data": {
            "text/plain": [
              "<Figure size 432x288 with 1 Axes>"
            ],
            "image/png": "[encoded data removed]"
          },
          "metadata": {
            "needs_background": "light"
          }
        },
        {
          "output_type": "stream",
          "name": "stdout",
          "text": [
            "label ->  2\n",
            "prediction ->  2\n"
          ]
        },
        {
          "output_type": "display_data",
          "data": {
            "text/plain": [
              "<Figure size 432x288 with 1 Axes>"
            ],
            "image/png": "[encoded data removed]"
          },
          "metadata": {
            "needs_background": "light"
          }
        },
        {
          "output_type": "stream",
          "name": "stdout",
          "text": [
            "label ->  0\n",
            "prediction ->  0\n"
          ]
        },
        {
          "output_type": "display_data",
          "data": {
            "text/plain": [
              "<Figure size 432x288 with 1 Axes>"
            ],
            "image/png": "[encoded data removed]"
          },
          "metadata": {
            "needs_background": "light"
          }
        },
        {
          "output_type": "stream",
          "name": "stdout",
          "text": [
            "label ->  5\n",
            "prediction ->  5\n"
          ]
        },
        {
          "output_type": "display_data",
          "data": {
            "text/plain": [
              "<Figure size 432x288 with 1 Axes>"
            ],
            "image/png": "[encoded data removed]"
          },
          "metadata": {
            "needs_background": "light"
          }
        },
        {
          "output_type": "stream",
          "name": "stdout",
          "text": [
            "label ->  1\n",
            "prediction ->  1\n"
          ]
        },
        {
          "output_type": "display_data",
          "data": {
            "text/plain": [
              "<Figure size 432x288 with 1 Axes>"
            ],
            "image/png": "[encoded data removed]"
          },
          "metadata": {
            "needs_background": "light"
          }
        },
        {
          "output_type": "stream",
          "name": "stdout",
          "text": [
            "label ->  4\n",
            "prediction ->  4\n"
          ]
        },
        {
          "output_type": "display_data",
          "data": {
            "text/plain": [
              "<Figure size 432x288 with 1 Axes>"
            ],
            "image/png": "[encoded data removed]"
          },
          "metadata": {
            "needs_background": "light"
          }
        },
        {
          "output_type": "stream",
          "name": "stdout",
          "text": [
            "label ->  2\n",
            "prediction ->  2\n"
          ]
        }
      ]
    }
  ]
}