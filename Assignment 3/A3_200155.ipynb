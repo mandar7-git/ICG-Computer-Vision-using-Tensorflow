{
  "nbformat": 4,
  "nbformat_minor": 0,
  "metadata": {
    "colab": {
      "name": "Assignment-3_200155.ipynb",
      "provenance": []
    },
    "kernelspec": {
      "name": "python3",
      "display_name": "Python 3"
    },
    "language_info": {
      "name": "python"
    }
  },
  "cells": [
    {
      "cell_type": "markdown",
      "source": [
        "#Importing required libraries"
      ],
      "metadata": {
        "id": "0h3-7LWlsg-h"
      }
    },
    {
      "cell_type": "code",
      "execution_count": 1,
      "metadata": {
        "id": "50uuFArErt5g"
      },
      "outputs": [],
      "source": [
        "import tensorflow as tf\n",
        "import matplotlib.pyplot as plt\n",
        "from tensorflow.keras.models import Sequential\n",
        "from tensorflow.keras.layers import Dense,LSTM\n",
        "from tensorflow.keras.utils import to_categorical"
      ]
    },
    {
      "cell_type": "markdown",
      "source": [
        "#Import, loading and normalizing MNIST dataset"
      ],
      "metadata": {
        "id": "vcmHe_bgsy6v"
      }
    },
    {
      "cell_type": "code",
      "source": [
        "from tensorflow.keras.datasets import mnist\n",
        "(X_train,y_train),(X_test,y_test)=mnist.load_data()\n",
        "X_test,X_train=X_test/255.0,X_train/255.0\n",
        "Y_train = to_categorical(y_train)\n",
        "Y_test = to_categorical(y_test)"
      ],
      "metadata": {
        "id": "2kMKBk1ks5y1",
        "colab": {
          "base_uri": "https://localhost:8080/"
        },
        "outputId": "42149e08-7c5a-4f37-e62c-b26223ff2ce5"
      },
      "execution_count": 2,
      "outputs": [
        {
          "output_type": "stream",
          "name": "stdout",
          "text": [
            "Downloading data from https://storage.googleapis.com/tensorflow/tf-keras-datasets/mnist.npz\n",
            "11493376/11490434 [==============================] - 0s 0us/step\n",
            "11501568/11490434 [==============================] - 0s 0us/step\n"
          ]
        }
      ]
    },
    {
      "cell_type": "markdown",
      "source": [
        "#Visualising Dataset"
      ],
      "metadata": {
        "id": "d4LiJtslKu2w"
      }
    },
    {
      "cell_type": "code",
      "source": [
        "n = 10\n",
        "plt.figure(figsize=(n*2,2))\n",
        "for i in range(n):\n",
        "    plt.subplot(1, n, i+1)\n",
        "    plt.imshow(X_train[i], cmap='gray')\n",
        "    plt.title(\"Class {}\".format(y_train[i]))\n",
        "    plt.axis('off')\n",
        "plt.show()"
      ],
      "metadata": {
        "colab": {
          "base_uri": "https://localhost:8080/",
          "height": 141
        },
        "id": "0TPzsVDruZrO",
        "outputId": "6115c237-b772-4681-aa59-59a3502df70c"
      },
      "execution_count": 3,
      "outputs": [
        {
          "output_type": "display_data",
          "data": {
            "text/plain": [
              "<Figure size 1440x144 with 10 Axes>"
            ],
            "image/png": "[encoded data removed]"
          },
          "metadata": {
            "needs_background": "light"
          }
        }
      ]
    },
    {
      "cell_type": "markdown",
      "source": [
        "#Shape"
      ],
      "metadata": {
        "id": "zyQUMsLmLByv"
      }
    },
    {
      "cell_type": "code",
      "source": [
        "y_train.shape=(60000,)\n",
        "Y_train.shape=(60000,10)\n",
        "\n",
        "print(y_train.shape)\n",
        "print(Y_train.shape)\n",
        "print(y_test.shape)\n",
        "print(Y_test.shape)\n",
        "print(X_test.shape)\n",
        "print(X_train.shape)"
      ],
      "metadata": {
        "colab": {
          "base_uri": "https://localhost:8080/"
        },
        "id": "SJw-kkCYte-s",
        "outputId": "596934a3-cb6f-494f-b903-85507214f5de"
      },
      "execution_count": 4,
      "outputs": [
        {
          "output_type": "stream",
          "name": "stdout",
          "text": [
            "(60000,)\n",
            "(60000, 10)\n",
            "(10000,)\n",
            "(10000, 10)\n",
            "(10000, 28, 28)\n",
            "(60000, 28, 28)\n"
          ]
        }
      ]
    },
    {
      "cell_type": "markdown",
      "source": [
        "#Model Definition"
      ],
      "metadata": {
        "id": "QtLvAr3PLFnP"
      }
    },
    {
      "cell_type": "code",
      "source": [
        "model=Sequential()\n",
        "model.add(LSTM(64,input_shape=(28,28)))\n",
        "model.add(Dense(12,activation=\"softmax\")) \n",
        "model.add(Dense(10,activation=\"softmax\"))\n",
        "model.summary()"
      ],
      "metadata": {
        "colab": {
          "base_uri": "https://localhost:8080/"
        },
        "id": "UN2ND1qMuhSe",
        "outputId": "074a7c50-4896-4aa8-ec35-00368a6b7bd4"
      },
      "execution_count": 5,
      "outputs": [
        {
          "output_type": "stream",
          "name": "stdout",
          "text": [
            "Model: \"sequential\"\n",
            "_________________________________________________________________\n",
            " Layer (type)                Output Shape              Param #   \n",
            "=================================================================\n",
            " lstm (LSTM)                 (None, 64)                23808     \n",
            "                                                                 \n",
            " dense (Dense)               (None, 12)                780       \n",
            "                                                                 \n",
            " dense_1 (Dense)             (None, 10)                130       \n",
            "                                                                 \n",
            "=================================================================\n",
            "Total params: 24,718\n",
            "Trainable params: 24,718\n",
            "Non-trainable params: 0\n",
            "_________________________________________________________________\n"
          ]
        }
      ]
    },
    {
      "cell_type": "markdown",
      "source": [
        "#Model Training"
      ],
      "metadata": {
        "id": "f4-7Q874LK-a"
      }
    },
    {
      "cell_type": "code",
      "source": [
        "model.compile(optimizer=\"adam\", loss=\"categorical_crossentropy\", metrics=[\"acc\"])\n",
        "history = model.fit(X_train, Y_train, epochs=100,validation_data = (X_test, Y_test))"
      ],
      "metadata": {
        "colab": {
          "base_uri": "https://localhost:8080/"
        },
        "id": "h18KkCEuvCPR",
        "outputId": "0c608580-289b-4b1b-8b56-8ee3d1294b17"
      },
      "execution_count": 6,
      "outputs": [
        {
          "output_type": "stream",
          "name": "stdout",
          "text": [
            "Epoch 1/100\n",
            "1875/1875 [==============================] - 28s 14ms/step - loss: 1.5261 - acc: 0.5089 - val_loss: 1.0774 - val_acc: 0.5825\n",
            "Epoch 2/100\n",
            "1875/1875 [==============================] - 27s 14ms/step - loss: 0.9059 - acc: 0.6815 - val_loss: 0.7539 - val_acc: 0.7472\n",
            "Epoch 3/100\n",
            "1875/1875 [==============================] - 26s 14ms/step - loss: 0.6251 - acc: 0.8182 - val_loss: 0.4863 - val_acc: 0.8570\n",
            "Epoch 4/100\n",
            "1875/1875 [==============================] - 26s 14ms/step - loss: 0.4292 - acc: 0.8676 - val_loss: 0.3845 - val_acc: 0.8761\n",
            "Epoch 5/100\n",
            "1875/1875 [==============================] - 25s 13ms/step - loss: 0.3504 - acc: 0.8816 - val_loss: 0.3199 - val_acc: 0.9026\n",
            "Epoch 6/100\n",
            "1875/1875 [==============================] - 25s 13ms/step - loss: 0.2578 - acc: 0.9557 - val_loss: 0.2484 - val_acc: 0.9607\n",
            "Epoch 7/100\n",
            "1875/1875 [==============================] - 25s 13ms/step - loss: 0.1771 - acc: 0.9737 - val_loss: 0.1728 - val_acc: 0.9731\n",
            "Epoch 8/100\n",
            "1875/1875 [==============================] - 25s 13ms/step - loss: 0.1377 - acc: 0.9787 - val_loss: 0.1354 - val_acc: 0.9779\n",
            "Epoch 9/100\n",
            "1875/1875 [==============================] - 25s 13ms/step - loss: 0.1130 - acc: 0.9805 - val_loss: 0.1330 - val_acc: 0.9754\n",
            "Epoch 10/100\n",
            "1875/1875 [==============================] - 25s 14ms/step - loss: 0.0974 - acc: 0.9822 - val_loss: 0.1124 - val_acc: 0.9792\n",
            "Epoch 11/100\n",
            "1875/1875 [==============================] - 26s 14ms/step - loss: 0.0800 - acc: 0.9854 - val_loss: 0.0952 - val_acc: 0.9823\n",
            "Epoch 12/100\n",
            "1875/1875 [==============================] - 26s 14ms/step - loss: 0.0736 - acc: 0.9857 - val_loss: 0.1122 - val_acc: 0.9786\n",
            "Epoch 13/100\n",
            "1875/1875 [==============================] - 25s 14ms/step - loss: 0.0651 - acc: 0.9874 - val_loss: 0.0813 - val_acc: 0.9821\n",
            "Epoch 14/100\n",
            "1875/1875 [==============================] - 26s 14ms/step - loss: 0.0602 - acc: 0.9879 - val_loss: 0.0813 - val_acc: 0.9842\n",
            "Epoch 15/100\n",
            "1875/1875 [==============================] - 26s 14ms/step - loss: 0.0545 - acc: 0.9889 - val_loss: 0.0784 - val_acc: 0.9849\n",
            "Epoch 16/100\n",
            "1875/1875 [==============================] - 26s 14ms/step - loss: 0.0512 - acc: 0.9893 - val_loss: 0.0809 - val_acc: 0.9837\n",
            "Epoch 17/100\n",
            "1875/1875 [==============================] - 26s 14ms/step - loss: 0.0450 - acc: 0.9907 - val_loss: 0.0802 - val_acc: 0.9847\n",
            "Epoch 18/100\n",
            "1875/1875 [==============================] - 26s 14ms/step - loss: 0.0422 - acc: 0.9912 - val_loss: 0.0761 - val_acc: 0.9851\n",
            "Epoch 19/100\n",
            "1875/1875 [==============================] - 26s 14ms/step - loss: 0.0384 - acc: 0.9918 - val_loss: 0.0794 - val_acc: 0.9838\n",
            "Epoch 20/100\n",
            "1875/1875 [==============================] - 26s 14ms/step - loss: 0.0347 - acc: 0.9929 - val_loss: 0.0714 - val_acc: 0.9856\n",
            "Epoch 21/100\n",
            "1875/1875 [==============================] - 26s 14ms/step - loss: 0.0349 - acc: 0.9924 - val_loss: 0.0847 - val_acc: 0.9830\n",
            "Epoch 22/100\n",
            "1875/1875 [==============================] - 26s 14ms/step - loss: 0.0324 - acc: 0.9927 - val_loss: 0.0706 - val_acc: 0.9865\n",
            "Epoch 23/100\n",
            "1875/1875 [==============================] - 26s 14ms/step - loss: 0.0324 - acc: 0.9926 - val_loss: 0.0773 - val_acc: 0.9851\n",
            "Epoch 24/100\n",
            "1875/1875 [==============================] - 25s 14ms/step - loss: 0.0273 - acc: 0.9941 - val_loss: 0.0746 - val_acc: 0.9852\n",
            "Epoch 25/100\n",
            "1875/1875 [==============================] - 26s 14ms/step - loss: 0.0252 - acc: 0.9945 - val_loss: 0.0716 - val_acc: 0.9864\n",
            "Epoch 26/100\n",
            "1875/1875 [==============================] - 25s 13ms/step - loss: 0.0289 - acc: 0.9937 - val_loss: 0.0768 - val_acc: 0.9853\n",
            "Epoch 27/100\n",
            "1875/1875 [==============================] - 25s 13ms/step - loss: 0.0234 - acc: 0.9949 - val_loss: 0.0742 - val_acc: 0.9861\n",
            "Epoch 28/100\n",
            "1875/1875 [==============================] - 25s 13ms/step - loss: 0.0226 - acc: 0.9950 - val_loss: 0.0728 - val_acc: 0.9859\n",
            "Epoch 29/100\n",
            "1875/1875 [==============================] - 25s 13ms/step - loss: 0.0234 - acc: 0.9948 - val_loss: 0.0710 - val_acc: 0.9868\n",
            "Epoch 30/100\n",
            "1875/1875 [==============================] - 26s 14ms/step - loss: 0.0228 - acc: 0.9952 - val_loss: 0.0777 - val_acc: 0.9850\n",
            "Epoch 31/100\n",
            "1875/1875 [==============================] - 27s 15ms/step - loss: 0.0177 - acc: 0.9960 - val_loss: 0.0640 - val_acc: 0.9875\n",
            "Epoch 32/100\n",
            "1875/1875 [==============================] - 27s 14ms/step - loss: 0.0221 - acc: 0.9949 - val_loss: 0.0808 - val_acc: 0.9850\n",
            "Epoch 33/100\n",
            "1875/1875 [==============================] - 27s 14ms/step - loss: 0.0170 - acc: 0.9961 - val_loss: 0.1020 - val_acc: 0.9821\n",
            "Epoch 34/100\n",
            "1875/1875 [==============================] - 27s 14ms/step - loss: 0.0183 - acc: 0.9959 - val_loss: 0.0812 - val_acc: 0.9842\n",
            "Epoch 35/100\n",
            "1875/1875 [==============================] - 26s 14ms/step - loss: 0.0167 - acc: 0.9962 - val_loss: 0.0718 - val_acc: 0.9863\n",
            "Epoch 36/100\n",
            "1875/1875 [==============================] - 26s 14ms/step - loss: 0.0172 - acc: 0.9959 - val_loss: 0.0733 - val_acc: 0.9853\n",
            "Epoch 37/100\n",
            "1875/1875 [==============================] - 27s 14ms/step - loss: 0.0153 - acc: 0.9964 - val_loss: 0.0765 - val_acc: 0.9860\n",
            "Epoch 38/100\n",
            "1875/1875 [==============================] - 27s 14ms/step - loss: 0.0148 - acc: 0.9966 - val_loss: 0.0835 - val_acc: 0.9839\n",
            "Epoch 39/100\n",
            "1875/1875 [==============================] - 26s 14ms/step - loss: 0.0156 - acc: 0.9960 - val_loss: 0.0783 - val_acc: 0.9843\n",
            "Epoch 40/100\n",
            "1875/1875 [==============================] - 25s 13ms/step - loss: 0.0138 - acc: 0.9964 - val_loss: 0.0742 - val_acc: 0.9859\n",
            "Epoch 41/100\n",
            "1875/1875 [==============================] - 25s 13ms/step - loss: 0.0130 - acc: 0.9967 - val_loss: 0.0697 - val_acc: 0.9862\n",
            "Epoch 42/100\n",
            "1875/1875 [==============================] - 24s 13ms/step - loss: 0.0124 - acc: 0.9972 - val_loss: 0.0794 - val_acc: 0.9849\n",
            "Epoch 43/100\n",
            "1875/1875 [==============================] - 24s 13ms/step - loss: 0.0148 - acc: 0.9965 - val_loss: 0.0681 - val_acc: 0.9865\n",
            "Epoch 44/100\n",
            "1875/1875 [==============================] - 25s 13ms/step - loss: 0.0123 - acc: 0.9969 - val_loss: 0.0810 - val_acc: 0.9850\n",
            "Epoch 45/100\n",
            "1875/1875 [==============================] - 25s 13ms/step - loss: 0.0118 - acc: 0.9968 - val_loss: 0.0764 - val_acc: 0.9853\n",
            "Epoch 46/100\n",
            "1875/1875 [==============================] - 25s 13ms/step - loss: 0.0100 - acc: 0.9977 - val_loss: 0.0852 - val_acc: 0.9844\n",
            "Epoch 47/100\n",
            "1875/1875 [==============================] - 26s 14ms/step - loss: 0.0129 - acc: 0.9970 - val_loss: 0.0796 - val_acc: 0.9858\n",
            "Epoch 48/100\n",
            "1875/1875 [==============================] - 25s 13ms/step - loss: 0.0109 - acc: 0.9973 - val_loss: 0.0752 - val_acc: 0.9867\n",
            "Epoch 49/100\n",
            "1875/1875 [==============================] - 25s 13ms/step - loss: 0.0100 - acc: 0.9975 - val_loss: 0.0758 - val_acc: 0.9846\n",
            "Epoch 50/100\n",
            "1875/1875 [==============================] - 26s 14ms/step - loss: 0.0107 - acc: 0.9974 - val_loss: 0.0916 - val_acc: 0.9829\n",
            "Epoch 51/100\n",
            "1875/1875 [==============================] - 26s 14ms/step - loss: 0.0108 - acc: 0.9975 - val_loss: 0.0802 - val_acc: 0.9854\n",
            "Epoch 52/100\n",
            "1875/1875 [==============================] - 27s 14ms/step - loss: 0.0110 - acc: 0.9975 - val_loss: 0.0745 - val_acc: 0.9867\n",
            "Epoch 53/100\n",
            "1875/1875 [==============================] - 27s 14ms/step - loss: 0.0105 - acc: 0.9972 - val_loss: 0.0661 - val_acc: 0.9873\n",
            "Epoch 54/100\n",
            "1875/1875 [==============================] - 27s 14ms/step - loss: 0.0087 - acc: 0.9979 - val_loss: 0.0964 - val_acc: 0.9828\n",
            "Epoch 55/100\n",
            "1875/1875 [==============================] - 27s 14ms/step - loss: 0.0096 - acc: 0.9977 - val_loss: 0.0797 - val_acc: 0.9860\n",
            "Epoch 56/100\n",
            "1875/1875 [==============================] - 26s 14ms/step - loss: 0.0103 - acc: 0.9976 - val_loss: 0.0777 - val_acc: 0.9861\n",
            "Epoch 57/100\n",
            "1875/1875 [==============================] - 26s 14ms/step - loss: 0.0076 - acc: 0.9982 - val_loss: 0.0740 - val_acc: 0.9861\n",
            "Epoch 58/100\n",
            "1875/1875 [==============================] - 27s 14ms/step - loss: 0.0079 - acc: 0.9983 - val_loss: 0.0746 - val_acc: 0.9876\n",
            "Epoch 59/100\n",
            "1875/1875 [==============================] - 26s 14ms/step - loss: 0.0084 - acc: 0.9980 - val_loss: 0.0864 - val_acc: 0.9855\n",
            "Epoch 60/100\n",
            "1875/1875 [==============================] - 25s 14ms/step - loss: 0.0066 - acc: 0.9983 - val_loss: 0.0858 - val_acc: 0.9851\n",
            "Epoch 61/100\n",
            "1875/1875 [==============================] - 26s 14ms/step - loss: 0.0097 - acc: 0.9977 - val_loss: 0.0901 - val_acc: 0.9843\n",
            "Epoch 62/100\n",
            "1875/1875 [==============================] - 26s 14ms/step - loss: 0.0096 - acc: 0.9977 - val_loss: 0.0774 - val_acc: 0.9867\n",
            "Epoch 63/100\n",
            "1875/1875 [==============================] - 26s 14ms/step - loss: 0.0068 - acc: 0.9981 - val_loss: 0.0762 - val_acc: 0.9876\n",
            "Epoch 64/100\n",
            "1875/1875 [==============================] - 27s 14ms/step - loss: 0.0081 - acc: 0.9981 - val_loss: 0.0684 - val_acc: 0.9860\n",
            "Epoch 65/100\n",
            "1875/1875 [==============================] - 27s 14ms/step - loss: 0.0084 - acc: 0.9980 - val_loss: 0.0740 - val_acc: 0.9866\n",
            "Epoch 66/100\n",
            "1875/1875 [==============================] - 26s 14ms/step - loss: 0.0060 - acc: 0.9985 - val_loss: 0.0722 - val_acc: 0.9866\n",
            "Epoch 67/100\n",
            "1875/1875 [==============================] - 26s 14ms/step - loss: 0.0082 - acc: 0.9980 - val_loss: 0.0813 - val_acc: 0.9851\n",
            "Epoch 68/100\n",
            "1875/1875 [==============================] - 26s 14ms/step - loss: 0.0085 - acc: 0.9977 - val_loss: 0.0866 - val_acc: 0.9851\n",
            "Epoch 69/100\n",
            "1875/1875 [==============================] - 25s 13ms/step - loss: 0.0082 - acc: 0.9983 - val_loss: 0.0754 - val_acc: 0.9869\n",
            "Epoch 70/100\n",
            "1875/1875 [==============================] - 25s 14ms/step - loss: 0.0072 - acc: 0.9982 - val_loss: 0.0773 - val_acc: 0.9869\n",
            "Epoch 71/100\n",
            "1875/1875 [==============================] - 26s 14ms/step - loss: 0.0067 - acc: 0.9986 - val_loss: 0.0761 - val_acc: 0.9863\n",
            "Epoch 72/100\n",
            "1875/1875 [==============================] - 25s 13ms/step - loss: 0.0062 - acc: 0.9988 - val_loss: 0.0683 - val_acc: 0.9884\n",
            "Epoch 73/100\n",
            "1875/1875 [==============================] - 25s 14ms/step - loss: 0.0071 - acc: 0.9984 - val_loss: 0.0816 - val_acc: 0.9865\n",
            "Epoch 74/100\n",
            "1875/1875 [==============================] - 26s 14ms/step - loss: 0.0055 - acc: 0.9988 - val_loss: 0.0803 - val_acc: 0.9853\n",
            "Epoch 75/100\n",
            "1875/1875 [==============================] - 27s 14ms/step - loss: 0.0088 - acc: 0.9980 - val_loss: 0.0656 - val_acc: 0.9874\n",
            "Epoch 76/100\n",
            "1875/1875 [==============================] - 26s 14ms/step - loss: 0.0075 - acc: 0.9984 - val_loss: 0.0671 - val_acc: 0.9874\n",
            "Epoch 77/100\n",
            "1875/1875 [==============================] - 27s 14ms/step - loss: 0.0046 - acc: 0.9990 - val_loss: 0.0779 - val_acc: 0.9864\n",
            "Epoch 78/100\n",
            "1875/1875 [==============================] - 27s 14ms/step - loss: 0.0044 - acc: 0.9990 - val_loss: 0.0837 - val_acc: 0.9861\n",
            "Epoch 79/100\n",
            "1875/1875 [==============================] - 27s 14ms/step - loss: 0.0070 - acc: 0.9982 - val_loss: 0.0839 - val_acc: 0.9869\n",
            "Epoch 80/100\n",
            "1875/1875 [==============================] - 26s 14ms/step - loss: 0.0047 - acc: 0.9990 - val_loss: 0.0813 - val_acc: 0.9858\n",
            "Epoch 81/100\n",
            "1875/1875 [==============================] - 26s 14ms/step - loss: 0.0062 - acc: 0.9984 - val_loss: 0.0806 - val_acc: 0.9866\n",
            "Epoch 82/100\n",
            "1875/1875 [==============================] - 26s 14ms/step - loss: 0.0055 - acc: 0.9988 - val_loss: 0.0826 - val_acc: 0.9862\n",
            "Epoch 83/100\n",
            "1875/1875 [==============================] - 27s 14ms/step - loss: 0.0059 - acc: 0.9985 - val_loss: 0.0797 - val_acc: 0.9867\n",
            "Epoch 84/100\n",
            "1875/1875 [==============================] - 27s 14ms/step - loss: 0.0049 - acc: 0.9987 - val_loss: 0.0791 - val_acc: 0.9869\n",
            "Epoch 85/100\n",
            "1875/1875 [==============================] - 26s 14ms/step - loss: 0.0062 - acc: 0.9985 - val_loss: 0.0768 - val_acc: 0.9861\n",
            "Epoch 86/100\n",
            "1875/1875 [==============================] - 26s 14ms/step - loss: 0.0061 - acc: 0.9984 - val_loss: 0.0745 - val_acc: 0.9867\n",
            "Epoch 87/100\n",
            "1875/1875 [==============================] - 26s 14ms/step - loss: 0.0044 - acc: 0.9990 - val_loss: 0.0802 - val_acc: 0.9866\n",
            "Epoch 88/100\n",
            "1875/1875 [==============================] - 26s 14ms/step - loss: 0.0057 - acc: 0.9987 - val_loss: 0.0833 - val_acc: 0.9860\n",
            "Epoch 89/100\n",
            "1875/1875 [==============================] - 26s 14ms/step - loss: 0.0062 - acc: 0.9984 - val_loss: 0.0737 - val_acc: 0.9863\n",
            "Epoch 90/100\n",
            "1875/1875 [==============================] - 27s 14ms/step - loss: 0.0056 - acc: 0.9986 - val_loss: 0.0731 - val_acc: 0.9873\n",
            "Epoch 91/100\n",
            "1875/1875 [==============================] - 27s 14ms/step - loss: 0.0031 - acc: 0.9993 - val_loss: 0.0831 - val_acc: 0.9860\n",
            "Epoch 92/100\n",
            "1875/1875 [==============================] - 26s 14ms/step - loss: 0.0076 - acc: 0.9980 - val_loss: 0.0753 - val_acc: 0.9869\n",
            "Epoch 93/100\n",
            "1875/1875 [==============================] - 26s 14ms/step - loss: 0.0041 - acc: 0.9991 - val_loss: 0.0814 - val_acc: 0.9867\n",
            "Epoch 94/100\n",
            "1875/1875 [==============================] - 26s 14ms/step - loss: 0.0043 - acc: 0.9990 - val_loss: 0.0849 - val_acc: 0.9862\n",
            "Epoch 95/100\n",
            "1875/1875 [==============================] - 26s 14ms/step - loss: 0.0038 - acc: 0.9992 - val_loss: 0.0902 - val_acc: 0.9861\n",
            "Epoch 96/100\n",
            "1875/1875 [==============================] - 26s 14ms/step - loss: 0.0070 - acc: 0.9983 - val_loss: 0.0759 - val_acc: 0.9855\n",
            "Epoch 97/100\n",
            "1875/1875 [==============================] - 27s 14ms/step - loss: 0.0042 - acc: 0.9990 - val_loss: 0.0816 - val_acc: 0.9868\n",
            "Epoch 98/100\n",
            "1875/1875 [==============================] - 26s 14ms/step - loss: 0.0037 - acc: 0.9991 - val_loss: 0.0838 - val_acc: 0.9858\n",
            "Epoch 99/100\n",
            "1875/1875 [==============================] - 26s 14ms/step - loss: 0.0049 - acc: 0.9990 - val_loss: 0.0781 - val_acc: 0.9869\n",
            "Epoch 100/100\n",
            "1875/1875 [==============================] - 26s 14ms/step - loss: 0.0058 - acc: 0.9987 - val_loss: 0.0676 - val_acc: 0.9874\n"
          ]
        }
      ]
    },
    {
      "cell_type": "code",
      "source": [
        "test_loss, test_acc = model.evaluate(X_test, Y_test)\n",
        "print(\"Loss: {0} - Acc: {1}\".format(test_loss, test_acc))"
      ],
      "metadata": {
        "colab": {
          "base_uri": "https://localhost:8080/"
        },
        "id": "z4Kf4Qs8H4C4",
        "outputId": "d97e82a8-6e69-468a-f4b0-00b883aff011"
      },
      "execution_count": 7,
      "outputs": [
        {
          "output_type": "stream",
          "name": "stdout",
          "text": [
            "313/313 [==============================] - 2s 6ms/step - loss: 0.0676 - acc: 0.9874\n",
            "Loss: 0.06757977604866028 - Acc: 0.9873999953269958\n"
          ]
        }
      ]
    },
    {
      "cell_type": "markdown",
      "source": [
        "#Plotting Training Loss"
      ],
      "metadata": {
        "id": "HYdS-3gmLX4m"
      }
    },
    {
      "cell_type": "code",
      "source": [
        "plt.figure(figsize=(10,10))\n",
        "loss_train = history.history['loss'] # training loss\n",
        "loss_val = history.history['val_loss'] # validation loss\n",
        "epochs = range(0,100) # since epochs=100\n",
        "\n",
        "plt.plot(epochs, loss_train, 'g', label='Training loss')\n",
        "plt.plot(epochs, loss_val, 'b', label='validation loss')\n",
        "\n",
        "plt.title('Training and Validation loss')\n",
        "plt.xlabel('Epochs')\n",
        "plt.ylabel('Loss')\n",
        "plt.legend()\n",
        "plt.show()"
      ],
      "metadata": {
        "colab": {
          "base_uri": "https://localhost:8080/",
          "height": 621
        },
        "id": "Ys5DJY8HyiVh",
        "outputId": "152b644d-f043-4473-a2f8-10cc5fd26664"
      },
      "execution_count": 8,
      "outputs": [
        {
          "output_type": "display_data",
          "data": {
            "text/plain": [
              "<Figure size 720x720 with 1 Axes>"
            ],
            "image/png": "[encoded data removed]"
          },
          "metadata": {
            "needs_background": "light"
          }
        }
      ]
    },
    {
      "cell_type": "markdown",
      "source": [
        "#Plotting Accuracy"
      ],
      "metadata": {
        "id": "ygdZcOK3Lg_Z"
      }
    },
    {
      "cell_type": "code",
      "source": [
        "plt.figure(figsize=(10,10))\n",
        "acc_train = history.history['acc'] \n",
        "acc_val = history.history['val_acc'] \n",
        "epochs = range(0,100) # since epochs=100\n",
        "\n",
        "plt.plot(epochs, acc_train, 'g', label='Training acc')\n",
        "plt.plot(epochs, acc_val, 'b', label='validation acc')\n",
        "\n",
        "plt.title('Training and Validation acc')\n",
        "plt.xlabel('Epochs')\n",
        "plt.ylabel('Accuracy')\n",
        "plt.legend()\n",
        "plt.show()"
      ],
      "metadata": {
        "colab": {
          "base_uri": "https://localhost:8080/",
          "height": 621
        },
        "id": "yEjwJiN79yKx",
        "outputId": "702de8ec-8679-4f63-e72a-a552ced602dc"
      },
      "execution_count": 9,
      "outputs": [
        {
          "output_type": "display_data",
          "data": {
            "text/plain": [
              "<Figure size 720x720 with 1 Axes>"
            ],
            "image/png": "[encoded data removed]"
          },
          "metadata": {
            "needs_background": "light"
          }
        }
      ]
    }
  ]
}