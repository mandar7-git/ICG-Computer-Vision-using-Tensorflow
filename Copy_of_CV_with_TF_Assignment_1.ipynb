{
  "nbformat": 4,
  "nbformat_minor": 0,
  "metadata": {
    "colab": {
      "name": "Copy of CV with TF: Assignment 1.ipynb",
      "provenance": [],
      "collapsed_sections": [],
      "include_colab_link": true
    },
    "kernelspec": {
      "name": "python3",
      "display_name": "Python 3"
    },
    "language_info": {
      "name": "python"
    }
  },
  "cells": [
    {
      "cell_type": "markdown",
      "metadata": {
        "id": "view-in-github",
        "colab_type": "text"
      },
      "source": [
        "<a href=\"https://colab.research.google.com/github/Snehal-Kane/ICG-Computer-Vision-using-Tensorflow/blob/main/Copy_of_CV_with_TF_Assignment_1.ipynb\" target=\"_parent\"><img src=\"https://colab.research.google.com/assets/colab-badge.svg\" alt=\"Open In Colab\"/></a>"
      ]
    },
    {
      "cell_type": "markdown",
      "source": [
        "### **Aim**  \n",
        "The motive of this assignment is to make predictions using **Linear Regression**. To make sure you truly understand how the underlying algorithm works, you are to implement it from scratch."
      ],
      "metadata": {
        "id": "RB2d1J1f1CF7"
      }
    },
    {
      "cell_type": "markdown",
      "source": [
        "### Generating the dataset  \n",
        "Run the cell below to create the dataset. It further splits the available data into training and testing. Please do not edit this cell.\n"
      ],
      "metadata": {
        "id": "a_S80lf6H4Xv"
      }
    },
    {
      "cell_type": "code",
      "source": [
        "from sklearn import datasets\n",
        "from sklearn.model_selection import train_test_split\n",
        "\n",
        "# Generate the data\n",
        "var1=5\n",
        "X, y = datasets.make_regression(n_samples=100, n_features=var1, noise=20, random_state=4)\n",
        "\n",
        "# Split the data\n",
        "X_train, X_test, y_train, y_test = train_test_split(X, y, test_size=0.2, random_state=1234)\n",
        "print(len(X_train))\n",
        "print(len(y_train))"
      ],
      "metadata": {
        "id": "yX0zqXcHIQHP",
        "colab": {
          "base_uri": "https://localhost:8080/"
        },
        "outputId": "461bd8a9-8ef0-4223-c7e8-1d66408d39e9"
      },
      "execution_count": 32,
      "outputs": [
        {
          "output_type": "stream",
          "name": "stdout",
          "text": [
            "80\n",
            "80\n"
          ]
        }
      ]
    },
    {
      "cell_type": "markdown",
      "source": [
        "### Visualizing the data  \n",
        "Use `matplotlib` to visualize the given data."
      ],
      "metadata": {
        "id": "Zj4rrRXGJBXy"
      }
    },
    {
      "cell_type": "code",
      "source": [
        "import matplotlib.pyplot as plt\n",
        "import numpy as np\n",
        "# Your code here\n",
        "\n",
        "for i in range (var1):\n",
        "  x_plt=X_train[:,i]\n",
        "  y_plt=y_train\n",
        "  plt.scatter(x_plt,y_plt)\n",
        "plt.show()\n",
        "\n"
      ],
      "metadata": {
        "id": "zxfi8dkBJOUi",
        "colab": {
          "base_uri": "https://localhost:8080/",
          "height": 265
        },
        "outputId": "c0a4ab9f-d5ee-4d28-ddd6-cfd8a98d5eb3"
      },
      "execution_count": 33,
      "outputs": [
        {
          "output_type": "display_data",
          "data": {
            "text/plain": [
              "<Figure size 432x288 with 1 Axes>"
            ],
            "image/png": "[encoded data removed]"
          },
          "metadata": {
            "needs_background": "light"
          }
        }
      ]
    },
    {
      "cell_type": "markdown",
      "source": [
        "You should be able to see the linear relations between `y` and the features in vector `X`."
      ],
      "metadata": {
        "id": "r7vndSBAJceF"
      }
    },
    {
      "cell_type": "markdown",
      "source": [
        "### Gradient Descent Review  \n",
        "1. ####  Cost function\n",
        "Define the `cost function` to measure the difference between predictions and target outputs. Here, we are working with first degree polynomial, so derivatives are easy to calculate. ( Linear function `y = wx +b` )  \n",
        "\n",
        "$$Error = \\frac{1}{N}\\sum_{i=1}^N (y_i - \\overline{y}_i)^2 = \\frac{1}{N}\\sum_{i=1}^N (y_i - (x_iw+b))^2 $$  \n",
        "\n",
        "  where `N` is the number of samples  \n",
        "    \n",
        "\n",
        "\n",
        "2. #### Compute the derivative\n",
        "$$\\frac{\\delta Error}{\\delta w} = \\frac{2}{N}\\sum_{i=1}^N -x_i(y_i -(m  x_i +b ))  $$\n",
        "$$\\frac{\\delta Error}{\\delta b} = \\frac{2}{N}\\sum_{i=1}^N -(y_i -(m  x_i +b ))  $$\n",
        "3. <h4>Update current parameters</h4>\n",
        "$$ w:= w- learning\\_rate \\cdot \\frac{\\delta Error}{\\delta w}   $$ \n",
        "$$ b:= b- learning\\_rate \\cdot \\frac{\\delta Error}{\\delta b}   $$ \n",
        "4. <h4>Repeat until it fits good enough</h4>\n"
      ],
      "metadata": {
        "id": "b4I9Z3epNvBM"
      }
    },
    {
      "cell_type": "markdown",
      "source": [
        "### Model definition\n",
        "\n",
        "Complete the functions in the class below. Hints provided at appropriate places."
      ],
      "metadata": {
        "id": "kBtUcOVnJu-I"
      }
    },
    {
      "cell_type": "code",
      "source": [
        "import numpy as np\n",
        "\n",
        "class LinearRegression:\n",
        "  w = 1\n",
        "  b = 0\n",
        "  l_r = 0.001\n",
        "  n = 1000\n",
        "  n_features=1\n",
        "\n",
        "    # The __init__ is called when we make any object of our class. Here, you are to specify the default values for \n",
        "    # Learning Rate, Number of Iterations, Weights and Biases. It doesn't return anything.\n",
        "    # Hint: Google what a `self pointer` is and figure out how it can be used here.\n",
        "  def __init__(self,n_features=1, learning_rate=0.001, n_iters=1000):\n",
        "        # Your code here\n",
        "      self.w=[]\n",
        "      for i in range(n_features):\n",
        "        self.w.append(1)\n",
        "      self.b=0\n",
        "      self.l_r=learning_rate\n",
        "      self.n=n_iters\n",
        "      self.n_features=n_features\n",
        "      \n",
        "        #pass  # Uncomment this when you're done with this function\n",
        "\n",
        "\n",
        "    # The following function would be the heart of the model. This is where the training would happen. \n",
        "    # You're supposed to iterate and keep on updating the weights and biases according to the steps of Gradient Descent.\n",
        "    \n",
        "  def fit(self, X, y):\n",
        "        # Gradient Descent code goes here\n",
        "       for m in range(self.n):\n",
        "        w_diff=[]\n",
        "        for k in range(self.n_features):\n",
        "            w_diff.append(0)\n",
        "        b_diff=0\n",
        "\n",
        "        for i in range(len(X)):\n",
        "            yPred=self.b\n",
        "            for p in range (self.n_features):\n",
        "                yPred += self.w[p] * X[i,p]\n",
        "\n",
        "            b_diff += (2 / len(X)) * (-y[i]+yPred)\n",
        "            for p in range (self.n_features):\n",
        "                w_diff[p] += (2 / len(X)) * (X[i,p]*yPred - X[i,p]*y[i])\n",
        "            \n",
        "\n",
        "        for p in range(self.n_features):\n",
        "            self.w[p] = self.w[p] - self.l_r * w_diff[p]\n",
        "        self.b = self.b - self.l_r * b_diff\n",
        "        #pass  # Uncomment this when you're done with this function\n",
        "        \n",
        "        \n",
        "    # This function will be called after our model has been trained and we are predicting on unseen data\n",
        "    # What is our prediction? Just return that\n",
        "    \n",
        "  def predict(self, X):\n",
        "       # Code goes here\n",
        "      li=[]\n",
        "      for i in range (len(X)):\n",
        "        yPred=self.b\n",
        "        for p in range (self.n_features):\n",
        "                yPred += self.w[p] * X[i,p]\n",
        "          \n",
        "      \n",
        "        li.append(yPred) \n",
        "      return li\n",
        "       \n",
        "\n",
        "        #pass  # Uncomment this when you're done with this function"
      ],
      "metadata": {
        "id": "dGnFNPJx3I28"
      },
      "execution_count": 43,
      "outputs": []
    },
    {
      "cell_type": "markdown",
      "source": [
        "### Initializing, Training & Predictions"
      ],
      "metadata": {
        "id": "EvyInkTKPn7W"
      }
    },
    {
      "cell_type": "code",
      "source": [
        "# Now, we make an object of our custom class.\n",
        "regressor = LinearRegression(5,n_iters=1000) # You may pass the custom parameters or let the default values take it ahead\n",
        "  \n",
        "# Call the fit method on the object to train (pass appropriate part of dataset)\n",
        "regressor.fit(X_train,y_train)\n",
        "\n",
        "# Now, let's see our what our model predicts\n",
        "predictions =   regressor.predict(X_test) # pass appropriate part of dataset"
      ],
      "metadata": {
        "id": "nvItUpAkHTiv"
      },
      "execution_count": 44,
      "outputs": []
    },
    {
      "cell_type": "markdown",
      "source": [
        "### Evaluate the model   \n",
        "\n",
        "Return [Mean Squared Error](https://en.wikipedia.org/wiki/Mean_squared_error) & [R2 Score](https://www.ncl.ac.uk/webtemplate/ask-assets/external/maths-resources/statistics/regression-and-correlation/coefficient-of-determination-r-squared.html#:~:text=%C2%AFy) from the functions below."
      ],
      "metadata": {
        "id": "tzK6cq8eRD4Q"
      }
    },
    {
      "cell_type": "code",
      "source": [
        "def mean_squared_error(y_true, y_pred):\n",
        "  mse=0\n",
        "  for i in range (len(y_pred)):\n",
        "    mse+=(1/len(y_pred))*((y_true[i]-y_pred[i])**2)\n",
        "  return mse\n",
        "       # return the mean squared error\n",
        "       ##pass  # Uncomment this when you're done with this function\n",
        "\n",
        "\n",
        "def r2_score(y_true, y_pred):\n",
        "  yAvg=np.average(y_true)\n",
        "  numr=0\n",
        "  denr=0\n",
        "  for i in range(len(y_pred)):\n",
        "    numr+=((y_true[i]-y_pred[i])**2)\n",
        "    denr+=((y_true[i]-yAvg)**2)\n",
        "  r2=1-(numr/denr) \n",
        "\n",
        "  return r2   \n",
        "      # return the r2 score\n",
        "      #pass  # Uncomment this when you're done with this function\n",
        "          \n",
        "\n",
        "mse = mean_squared_error(y_test,predictions) # Pass appropriate parts of dataset\n",
        "print(\"MSE:\", mse)\n",
        "\n",
        "accu = r2_score(y_test,predictions) # Pass appropriate parts of dataset\n",
        "print(\"Accuracy:\", accu)"
      ],
      "metadata": {
        "id": "WqkrvDzcRF5m",
        "colab": {
          "base_uri": "https://localhost:8080/"
        },
        "outputId": "d5fd6461-6381-40a2-8443-ed11d4d6ce98"
      },
      "execution_count": 36,
      "outputs": [
        {
          "output_type": "stream",
          "name": "stdout",
          "text": [
            "MSE: 649.6589492270382\n",
            "Accuracy: 0.938582027146336\n"
          ]
        }
      ]
    }
  ]
}