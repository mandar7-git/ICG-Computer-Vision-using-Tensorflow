{
 "cells": [
  {
   "cell_type": "markdown",
   "metadata": {
    "id": "UxcaEbrCy1g_"
   },
   "source": [
    "# Assigment 2: Deep Learning"
   ]
  },
  {
   "cell_type": "markdown",
   "metadata": {
    "id": "h2JON-_Oy79w"
   },
   "source": [
    "## Generate Dataset\n",
    "\n",
    "This is the same code from Assignment 1"
   ]
  },
  {
   "cell_type": "code",
   "execution_count": 1,
   "metadata": {
    "id": "hgpG3WDuypfa"
   },
   "outputs": [],
   "source": [
    "from sklearn import datasets\n",
    "from sklearn.model_selection import train_test_split\n",
    "\n",
    "# Generate the data\n",
    "X, y = datasets.make_regression(n_samples=100, n_features=5, noise=5, random_state=4)\n",
    "\n",
    "# Split the data\n",
    "X_train, X_test, y_train, y_test = train_test_split(X, y, test_size=0.2, random_state=1234)\n",
    "X_train, X_val, y_train, y_val = train_test_split(X_train, y_train, test_size=0.2, random_state=1)\n"
   ]
  },
  {
   "cell_type": "markdown",
   "metadata": {
    "id": "r6it-Rm7zD1Y"
   },
   "source": [
    "## Visualize Dataset\n",
    "This is the same code from Assignment 1"
   ]
  },
  {
   "cell_type": "code",
   "execution_count": 2,
   "metadata": {
    "id": "UautPVj1yzaQ"
   },
   "outputs": [
    {
     "data": {
      "image/png": "[encoded data removed]",
      "text/plain": [
       "<Figure size 432x288 with 1 Axes>"
      ]
     },
     "metadata": {
      "needs_background": "light"
     },
     "output_type": "display_data"
    }
   ],
   "source": [
    "import matplotlib.pyplot as plt\n",
    "\n",
    "# Your code here\n",
    "for i in range(1,5):\n",
    "  plt.scatter(X_train[:,i-1],y_train)"
   ]
  },
  {
   "cell_type": "markdown",
   "metadata": {
    "id": "XMXb9lTyzGHE"
   },
   "source": [
    "## Model Definition\n",
    "\n",
    "Using TensorFlow, build a model with the following definition:\n",
    "> Input of shape 5 \\\\\n",
    "> Dense of shape 5 \\\\\n",
    "> Dense of shape 5 \\\\\n",
    "> Dense of shape 1 \\\\\n",
    "\n",
    "Use Mean Square Error Loss and Stochaistic Gradient Descent (SGD) Optimizer\n",
    "\n",
    "Use Gradient Decay with appropriate parameters"
   ]
  },
  {
   "cell_type": "code",
   "execution_count": 5,
   "metadata": {
    "id": "r32N1xK2ziOs"
   },
   "outputs": [
    {
     "name": "stdout",
     "output_type": "stream",
     "text": [
      "Epoch 1/100\n",
      "2/2 [==============================] - 0s 103ms/step - loss: 11357.2617 - accuracy: 0.0000e+00 - val_loss: 11758.5664 - val_accuracy: 0.0000e+00\n",
      "Epoch 2/100\n",
      "2/2 [==============================] - 0s 30ms/step - loss: 11354.8926 - accuracy: 0.0000e+00 - val_loss: 11756.9033 - val_accuracy: 0.0000e+00\n",
      "Epoch 3/100\n",
      "2/2 [==============================] - 0s 23ms/step - loss: 11352.7051 - accuracy: 0.0000e+00 - val_loss: 11755.2324 - val_accuracy: 0.0000e+00\n",
      "Epoch 4/100\n",
      "2/2 [==============================] - 0s 28ms/step - loss: 11350.2988 - accuracy: 0.0000e+00 - val_loss: 11753.6562 - val_accuracy: 0.0000e+00\n",
      "Epoch 5/100\n",
      "2/2 [==============================] - 0s 26ms/step - loss: 11348.2832 - accuracy: 0.0000e+00 - val_loss: 11752.0742 - val_accuracy: 0.0000e+00\n",
      "Epoch 6/100\n",
      "2/2 [==============================] - 0s 24ms/step - loss: 11346.2910 - accuracy: 0.0000e+00 - val_loss: 11750.4756 - val_accuracy: 0.0000e+00\n",
      "Epoch 7/100\n",
      "2/2 [==============================] - 0s 23ms/step - loss: 11343.8389 - accuracy: 0.0000e+00 - val_loss: 11748.9180 - val_accuracy: 0.0000e+00\n",
      "Epoch 8/100\n",
      "2/2 [==============================] - 0s 22ms/step - loss: 11341.6338 - accuracy: 0.0000e+00 - val_loss: 11747.3525 - val_accuracy: 0.0000e+00\n",
      "Epoch 9/100\n",
      "2/2 [==============================] - 0s 22ms/step - loss: 11339.5850 - accuracy: 0.0000e+00 - val_loss: 11745.7725 - val_accuracy: 0.0000e+00\n",
      "Epoch 10/100\n",
      "2/2 [==============================] - 0s 21ms/step - loss: 11337.3906 - accuracy: 0.0000e+00 - val_loss: 11744.1650 - val_accuracy: 0.0000e+00\n",
      "Epoch 11/100\n",
      "2/2 [==============================] - 0s 29ms/step - loss: 11335.0869 - accuracy: 0.0000e+00 - val_loss: 11742.5576 - val_accuracy: 0.0000e+00\n",
      "Epoch 12/100\n",
      "2/2 [==============================] - 0s 31ms/step - loss: 11332.9766 - accuracy: 0.0000e+00 - val_loss: 11740.9248 - val_accuracy: 0.0000e+00\n",
      "Epoch 13/100\n",
      "2/2 [==============================] - 0s 29ms/step - loss: 11330.7031 - accuracy: 0.0000e+00 - val_loss: 11739.2754 - val_accuracy: 0.0000e+00\n",
      "Epoch 14/100\n",
      "2/2 [==============================] - 0s 23ms/step - loss: 11328.5195 - accuracy: 0.0000e+00 - val_loss: 11737.5820 - val_accuracy: 0.0000e+00\n",
      "Epoch 15/100\n",
      "2/2 [==============================] - 0s 22ms/step - loss: 11326.3457 - accuracy: 0.0000e+00 - val_loss: 11735.9092 - val_accuracy: 0.0000e+00\n",
      "Epoch 16/100\n",
      "2/2 [==============================] - 0s 23ms/step - loss: 11323.9600 - accuracy: 0.0000e+00 - val_loss: 11734.1318 - val_accuracy: 0.0000e+00\n",
      "Epoch 17/100\n",
      "2/2 [==============================] - 0s 28ms/step - loss: 11321.7686 - accuracy: 0.0000e+00 - val_loss: 11732.3320 - val_accuracy: 0.0000e+00\n",
      "Epoch 18/100\n",
      "2/2 [==============================] - 0s 24ms/step - loss: 11319.4082 - accuracy: 0.0000e+00 - val_loss: 11730.5264 - val_accuracy: 0.0000e+00\n",
      "Epoch 19/100\n",
      "2/2 [==============================] - 0s 25ms/step - loss: 11317.2188 - accuracy: 0.0000e+00 - val_loss: 11728.7461 - val_accuracy: 0.0000e+00\n",
      "Epoch 20/100\n",
      "2/2 [==============================] - 0s 22ms/step - loss: 11315.1484 - accuracy: 0.0000e+00 - val_loss: 11726.9336 - val_accuracy: 0.0000e+00\n",
      "Epoch 21/100\n",
      "2/2 [==============================] - 0s 22ms/step - loss: 11312.5479 - accuracy: 0.0000e+00 - val_loss: 11725.1553 - val_accuracy: 0.0000e+00\n",
      "Epoch 22/100\n",
      "2/2 [==============================] - 0s 21ms/step - loss: 11310.2725 - accuracy: 0.0000e+00 - val_loss: 11723.3477 - val_accuracy: 0.0000e+00\n",
      "Epoch 23/100\n",
      "2/2 [==============================] - 0s 20ms/step - loss: 11307.7695 - accuracy: 0.0000e+00 - val_loss: 11721.5684 - val_accuracy: 0.0000e+00\n",
      "Epoch 24/100\n",
      "2/2 [==============================] - 0s 28ms/step - loss: 11305.8027 - accuracy: 0.0000e+00 - val_loss: 11719.7070 - val_accuracy: 0.0000e+00\n",
      "Epoch 25/100\n",
      "2/2 [==============================] - 0s 26ms/step - loss: 11303.5518 - accuracy: 0.0000e+00 - val_loss: 11717.8867 - val_accuracy: 0.0000e+00\n",
      "Epoch 26/100\n",
      "2/2 [==============================] - 0s 25ms/step - loss: 11301.1455 - accuracy: 0.0000e+00 - val_loss: 11716.0430 - val_accuracy: 0.0000e+00\n",
      "Epoch 27/100\n",
      "2/2 [==============================] - 0s 26ms/step - loss: 11298.8389 - accuracy: 0.0000e+00 - val_loss: 11714.2158 - val_accuracy: 0.0000e+00\n",
      "Epoch 28/100\n",
      "2/2 [==============================] - 0s 41ms/step - loss: 11296.7832 - accuracy: 0.0000e+00 - val_loss: 11712.2793 - val_accuracy: 0.0000e+00\n",
      "Epoch 29/100\n",
      "2/2 [==============================] - 0s 44ms/step - loss: 11294.3545 - accuracy: 0.0000e+00 - val_loss: 11710.3809 - val_accuracy: 0.0000e+00\n",
      "Epoch 30/100\n",
      "2/2 [==============================] - 0s 43ms/step - loss: 11292.0381 - accuracy: 0.0000e+00 - val_loss: 11708.4541 - val_accuracy: 0.0000e+00\n",
      "Epoch 31/100\n",
      "2/2 [==============================] - 0s 50ms/step - loss: 11289.8086 - accuracy: 0.0000e+00 - val_loss: 11706.5469 - val_accuracy: 0.0000e+00\n",
      "Epoch 32/100\n",
      "2/2 [==============================] - 0s 47ms/step - loss: 11287.4658 - accuracy: 0.0000e+00 - val_loss: 11704.6562 - val_accuracy: 0.0000e+00\n",
      "Epoch 33/100\n",
      "2/2 [==============================] - 0s 37ms/step - loss: 11285.0576 - accuracy: 0.0000e+00 - val_loss: 11702.7168 - val_accuracy: 0.0000e+00\n",
      "Epoch 34/100\n",
      "2/2 [==============================] - 0s 38ms/step - loss: 11282.4092 - accuracy: 0.0000e+00 - val_loss: 11700.7930 - val_accuracy: 0.0000e+00\n",
      "Epoch 35/100\n",
      "2/2 [==============================] - 0s 46ms/step - loss: 11280.2363 - accuracy: 0.0000e+00 - val_loss: 11698.8359 - val_accuracy: 0.0000e+00\n",
      "Epoch 36/100\n",
      "2/2 [==============================] - 0s 30ms/step - loss: 11277.8418 - accuracy: 0.0000e+00 - val_loss: 11696.8174 - val_accuracy: 0.0000e+00\n",
      "Epoch 37/100\n",
      "2/2 [==============================] - 0s 23ms/step - loss: 11275.2012 - accuracy: 0.0000e+00 - val_loss: 11694.8311 - val_accuracy: 0.0000e+00\n",
      "Epoch 38/100\n",
      "2/2 [==============================] - 0s 19ms/step - loss: 11272.7305 - accuracy: 0.0000e+00 - val_loss: 11692.8340 - val_accuracy: 0.0000e+00\n",
      "Epoch 39/100\n",
      "2/2 [==============================] - 0s 20ms/step - loss: 11270.2227 - accuracy: 0.0000e+00 - val_loss: 11690.7461 - val_accuracy: 0.0000e+00\n",
      "Epoch 40/100\n",
      "2/2 [==============================] - 0s 22ms/step - loss: 11267.9434 - accuracy: 0.0000e+00 - val_loss: 11688.6221 - val_accuracy: 0.0000e+00\n",
      "Epoch 41/100\n",
      "2/2 [==============================] - 0s 19ms/step - loss: 11265.3096 - accuracy: 0.0000e+00 - val_loss: 11686.5146 - val_accuracy: 0.0000e+00\n",
      "Epoch 42/100\n",
      "2/2 [==============================] - 0s 19ms/step - loss: 11262.5527 - accuracy: 0.0000e+00 - val_loss: 11684.3633 - val_accuracy: 0.0000e+00\n",
      "Epoch 43/100\n",
      "2/2 [==============================] - 0s 20ms/step - loss: 11259.9287 - accuracy: 0.0000e+00 - val_loss: 11682.1865 - val_accuracy: 0.0000e+00\n",
      "Epoch 44/100\n",
      "2/2 [==============================] - 0s 19ms/step - loss: 11257.2637 - accuracy: 0.0000e+00 - val_loss: 11679.9854 - val_accuracy: 0.0000e+00\n",
      "Epoch 45/100\n",
      "2/2 [==============================] - 0s 18ms/step - loss: 11254.7871 - accuracy: 0.0000e+00 - val_loss: 11677.6973 - val_accuracy: 0.0000e+00\n",
      "Epoch 46/100\n",
      "2/2 [==============================] - 0s 18ms/step - loss: 11251.6729 - accuracy: 0.0000e+00 - val_loss: 11675.4473 - val_accuracy: 0.0000e+00\n",
      "Epoch 47/100\n",
      "2/2 [==============================] - 0s 19ms/step - loss: 11249.0820 - accuracy: 0.0000e+00 - val_loss: 11673.1680 - val_accuracy: 0.0000e+00\n",
      "Epoch 48/100\n",
      "2/2 [==============================] - 0s 19ms/step - loss: 11246.3262 - accuracy: 0.0000e+00 - val_loss: 11670.8262 - val_accuracy: 0.0000e+00\n",
      "Epoch 49/100\n",
      "2/2 [==============================] - 0s 19ms/step - loss: 11243.5098 - accuracy: 0.0000e+00 - val_loss: 11668.4580 - val_accuracy: 0.0000e+00\n",
      "Epoch 50/100\n",
      "2/2 [==============================] - 0s 18ms/step - loss: 11240.8535 - accuracy: 0.0000e+00 - val_loss: 11666.0430 - val_accuracy: 0.0000e+00\n",
      "Epoch 51/100\n",
      "2/2 [==============================] - 0s 18ms/step - loss: 11237.9043 - accuracy: 0.0000e+00 - val_loss: 11663.6113 - val_accuracy: 0.0000e+00\n",
      "Epoch 52/100\n",
      "2/2 [==============================] - 0s 18ms/step - loss: 11234.6357 - accuracy: 0.0000e+00 - val_loss: 11661.2256 - val_accuracy: 0.0000e+00\n",
      "Epoch 53/100\n"
     ]
    },
    {
     "name": "stdout",
     "output_type": "stream",
     "text": [
      "2/2 [==============================] - 0s 21ms/step - loss: 11231.8164 - accuracy: 0.0000e+00 - val_loss: 11658.7715 - val_accuracy: 0.0000e+00\n",
      "Epoch 54/100\n",
      "2/2 [==============================] - 0s 29ms/step - loss: 11229.0938 - accuracy: 0.0000e+00 - val_loss: 11656.2324 - val_accuracy: 0.0000e+00\n",
      "Epoch 55/100\n",
      "2/2 [==============================] - 0s 34ms/step - loss: 11225.9414 - accuracy: 0.0000e+00 - val_loss: 11653.7129 - val_accuracy: 0.0000e+00\n",
      "Epoch 56/100\n",
      "2/2 [==============================] - 0s 39ms/step - loss: 11222.8398 - accuracy: 0.0000e+00 - val_loss: 11651.2070 - val_accuracy: 0.0000e+00\n",
      "Epoch 57/100\n",
      "2/2 [==============================] - 0s 24ms/step - loss: 11219.9473 - accuracy: 0.0000e+00 - val_loss: 11648.5781 - val_accuracy: 0.0000e+00\n",
      "Epoch 58/100\n",
      "2/2 [==============================] - 0s 19ms/step - loss: 11216.6191 - accuracy: 0.0000e+00 - val_loss: 11645.9727 - val_accuracy: 0.0000e+00\n",
      "Epoch 59/100\n",
      "2/2 [==============================] - 0s 19ms/step - loss: 11213.4326 - accuracy: 0.0000e+00 - val_loss: 11643.4033 - val_accuracy: 0.0000e+00\n",
      "Epoch 60/100\n",
      "2/2 [==============================] - 0s 21ms/step - loss: 11210.4160 - accuracy: 0.0000e+00 - val_loss: 11640.6904 - val_accuracy: 0.0000e+00\n",
      "Epoch 61/100\n",
      "2/2 [==============================] - 0s 23ms/step - loss: 11207.0049 - accuracy: 0.0000e+00 - val_loss: 11637.9346 - val_accuracy: 0.0000e+00\n",
      "Epoch 62/100\n",
      "2/2 [==============================] - 0s 20ms/step - loss: 11203.7617 - accuracy: 0.0000e+00 - val_loss: 11635.1201 - val_accuracy: 0.0000e+00\n",
      "Epoch 63/100\n",
      "2/2 [==============================] - 0s 19ms/step - loss: 11200.3779 - accuracy: 0.0000e+00 - val_loss: 11632.3057 - val_accuracy: 0.0000e+00\n",
      "Epoch 64/100\n",
      "2/2 [==============================] - 0s 18ms/step - loss: 11197.1123 - accuracy: 0.0000e+00 - val_loss: 11629.3701 - val_accuracy: 0.0000e+00\n",
      "Epoch 65/100\n",
      "2/2 [==============================] - 0s 25ms/step - loss: 11193.4033 - accuracy: 0.0000e+00 - val_loss: 11626.4854 - val_accuracy: 0.0000e+00\n",
      "Epoch 66/100\n",
      "2/2 [==============================] - 0s 19ms/step - loss: 11190.2051 - accuracy: 0.0000e+00 - val_loss: 11623.4736 - val_accuracy: 0.0000e+00\n",
      "Epoch 67/100\n",
      "2/2 [==============================] - 0s 20ms/step - loss: 11186.4121 - accuracy: 0.0000e+00 - val_loss: 11620.4180 - val_accuracy: 0.0000e+00\n",
      "Epoch 68/100\n",
      "2/2 [==============================] - 0s 20ms/step - loss: 11182.8867 - accuracy: 0.0000e+00 - val_loss: 11617.2793 - val_accuracy: 0.0000e+00\n",
      "Epoch 69/100\n",
      "2/2 [==============================] - 0s 19ms/step - loss: 11179.1182 - accuracy: 0.0000e+00 - val_loss: 11614.1016 - val_accuracy: 0.0000e+00\n",
      "Epoch 70/100\n",
      "2/2 [==============================] - 0s 19ms/step - loss: 11175.3984 - accuracy: 0.0000e+00 - val_loss: 11610.9365 - val_accuracy: 0.0000e+00\n",
      "Epoch 71/100\n",
      "2/2 [==============================] - 0s 21ms/step - loss: 11171.6406 - accuracy: 0.0000e+00 - val_loss: 11607.6738 - val_accuracy: 0.0000e+00\n",
      "Epoch 72/100\n",
      "2/2 [==============================] - 0s 20ms/step - loss: 11167.8398 - accuracy: 0.0000e+00 - val_loss: 11604.3906 - val_accuracy: 0.0000e+00\n",
      "Epoch 73/100\n",
      "2/2 [==============================] - 0s 19ms/step - loss: 11163.6562 - accuracy: 0.0000e+00 - val_loss: 11601.0947 - val_accuracy: 0.0000e+00\n",
      "Epoch 74/100\n",
      "2/2 [==============================] - 0s 21ms/step - loss: 11159.8789 - accuracy: 0.0000e+00 - val_loss: 11597.7949 - val_accuracy: 0.0000e+00\n",
      "Epoch 75/100\n",
      "2/2 [==============================] - 0s 21ms/step - loss: 11155.8135 - accuracy: 0.0000e+00 - val_loss: 11594.4629 - val_accuracy: 0.0000e+00\n",
      "Epoch 76/100\n",
      "2/2 [==============================] - 0s 20ms/step - loss: 11152.2344 - accuracy: 0.0000e+00 - val_loss: 11590.9805 - val_accuracy: 0.0000e+00\n",
      "Epoch 77/100\n",
      "2/2 [==============================] - 0s 20ms/step - loss: 11147.8457 - accuracy: 0.0000e+00 - val_loss: 11587.3213 - val_accuracy: 0.0000e+00\n",
      "Epoch 78/100\n",
      "2/2 [==============================] - 0s 20ms/step - loss: 11143.7402 - accuracy: 0.0000e+00 - val_loss: 11583.6064 - val_accuracy: 0.0000e+00\n",
      "Epoch 79/100\n",
      "2/2 [==============================] - 0s 21ms/step - loss: 11139.7041 - accuracy: 0.0000e+00 - val_loss: 11579.8594 - val_accuracy: 0.0000e+00\n",
      "Epoch 80/100\n",
      "2/2 [==============================] - 0s 21ms/step - loss: 11134.9502 - accuracy: 0.0000e+00 - val_loss: 11576.1719 - val_accuracy: 0.0000e+00\n",
      "Epoch 81/100\n",
      "2/2 [==============================] - 0s 19ms/step - loss: 11130.9062 - accuracy: 0.0000e+00 - val_loss: 11572.3262 - val_accuracy: 0.0000e+00\n",
      "Epoch 82/100\n",
      "2/2 [==============================] - 0s 20ms/step - loss: 11126.4531 - accuracy: 0.0000e+00 - val_loss: 11568.4941 - val_accuracy: 0.0000e+00\n",
      "Epoch 83/100\n",
      "2/2 [==============================] - 0s 19ms/step - loss: 11122.1113 - accuracy: 0.0000e+00 - val_loss: 11564.6006 - val_accuracy: 0.0000e+00\n",
      "Epoch 84/100\n",
      "2/2 [==============================] - 0s 22ms/step - loss: 11117.9277 - accuracy: 0.0000e+00 - val_loss: 11560.5898 - val_accuracy: 0.0000e+00\n",
      "Epoch 85/100\n",
      "2/2 [==============================] - 0s 20ms/step - loss: 11112.9297 - accuracy: 0.0000e+00 - val_loss: 11556.6396 - val_accuracy: 0.0000e+00\n",
      "Epoch 86/100\n",
      "2/2 [==============================] - 0s 19ms/step - loss: 11108.9258 - accuracy: 0.0000e+00 - val_loss: 11552.5459 - val_accuracy: 0.0000e+00\n",
      "Epoch 87/100\n",
      "2/2 [==============================] - 0s 21ms/step - loss: 11104.0625 - accuracy: 0.0000e+00 - val_loss: 11548.4580 - val_accuracy: 0.0000e+00\n",
      "Epoch 88/100\n",
      "2/2 [==============================] - 0s 18ms/step - loss: 11099.1934 - accuracy: 0.0000e+00 - val_loss: 11544.4121 - val_accuracy: 0.0000e+00\n",
      "Epoch 89/100\n",
      "2/2 [==============================] - 0s 18ms/step - loss: 11094.5791 - accuracy: 0.0000e+00 - val_loss: 11540.2832 - val_accuracy: 0.0000e+00\n",
      "Epoch 90/100\n",
      "2/2 [==============================] - 0s 18ms/step - loss: 11090.0947 - accuracy: 0.0000e+00 - val_loss: 11536.0137 - val_accuracy: 0.0000e+00\n",
      "Epoch 91/100\n",
      "2/2 [==============================] - 0s 19ms/step - loss: 11085.0840 - accuracy: 0.0000e+00 - val_loss: 11531.7539 - val_accuracy: 0.0000e+00\n",
      "Epoch 92/100\n",
      "2/2 [==============================] - 0s 18ms/step - loss: 11080.1943 - accuracy: 0.0000e+00 - val_loss: 11527.4795 - val_accuracy: 0.0000e+00\n",
      "Epoch 93/100\n",
      "2/2 [==============================] - 0s 18ms/step - loss: 11075.2861 - accuracy: 0.0000e+00 - val_loss: 11523.1367 - val_accuracy: 0.0000e+00\n",
      "Epoch 94/100\n",
      "2/2 [==============================] - 0s 19ms/step - loss: 11070.2969 - accuracy: 0.0000e+00 - val_loss: 11518.7578 - val_accuracy: 0.0000e+00\n",
      "Epoch 95/100\n",
      "2/2 [==============================] - 0s 20ms/step - loss: 11065.1328 - accuracy: 0.0000e+00 - val_loss: 11514.3389 - val_accuracy: 0.0000e+00\n",
      "Epoch 96/100\n",
      "2/2 [==============================] - 0s 18ms/step - loss: 11060.0713 - accuracy: 0.0000e+00 - val_loss: 11509.8438 - val_accuracy: 0.0000e+00\n",
      "Epoch 97/100\n",
      "2/2 [==============================] - 0s 20ms/step - loss: 11054.4766 - accuracy: 0.0000e+00 - val_loss: 11505.4502 - val_accuracy: 0.0000e+00\n",
      "Epoch 98/100\n",
      "2/2 [==============================] - 0s 19ms/step - loss: 11049.6338 - accuracy: 0.0000e+00 - val_loss: 11500.8672 - val_accuracy: 0.0000e+00\n",
      "Epoch 99/100\n",
      "2/2 [==============================] - 0s 19ms/step - loss: 11044.6113 - accuracy: 0.0000e+00 - val_loss: 11496.2168 - val_accuracy: 0.0000e+00\n",
      "Epoch 100/100\n",
      "2/2 [==============================] - 0s 20ms/step - loss: 11038.7832 - accuracy: 0.0000e+00 - val_loss: 11491.5762 - val_accuracy: 0.0000e+00\n"
     ]
    }
   ],
   "source": [
    "import tensorflow as tf\n",
    "import keras\n",
    "\n",
    "# Your code here\n",
    "model = keras.Sequential([\n",
    "    keras.layers.Flatten(input_shape=(5,)),\n",
    "    keras.layers.Dense(5, activation=tf.nn.relu),\n",
    "\tkeras.layers.Dense(5, activation=tf.nn.relu),\n",
    "    keras.layers.Dense(1),\n",
    "])\n",
    "\n",
    "model.compile(optimizer='adam',\n",
    "              loss='mse',\n",
    "              metrics=['accuracy'])\n",
    "history = model.fit(X_train, y_train, epochs=100, validation_data=(X_val, y_val))"
   ]
  },
  {
   "cell_type": "markdown",
   "metadata": {
    "id": "jmeP6vt3z0oA"
   },
   "source": [
    "## Plot Loss\n",
    "\n",
    "Using matplotlib visualise how the loss (both validation and training) is changing, use this information to retrain the model with appropriate parameters.<br>We ideally want the loss to be constant over the last few iterations."
   ]
  },
  {
   "cell_type": "code",
   "execution_count": 4,
   "metadata": {
    "id": "RQTNqPHm0mOi"
   },
   "outputs": [
    {
     "ename": "NameError",
     "evalue": "name 'history' is not defined",
     "output_type": "error",
     "traceback": [
      "\u001b[1;31m---------------------------------------------------------------------------\u001b[0m",
      "\u001b[1;31mNameError\u001b[0m                                 Traceback (most recent call last)",
      "Input \u001b[1;32mIn [4]\u001b[0m, in \u001b[0;36m<module>\u001b[1;34m\u001b[0m\n\u001b[0;32m      1\u001b[0m \u001b[38;5;66;03m# Your code here\u001b[39;00m\n\u001b[1;32m----> 2\u001b[0m loss_train \u001b[38;5;241m=\u001b[39m \u001b[43mhistory\u001b[49m\u001b[38;5;241m.\u001b[39mhistory[\u001b[38;5;124m'\u001b[39m\u001b[38;5;124mloss\u001b[39m\u001b[38;5;124m'\u001b[39m]\n\u001b[0;32m      3\u001b[0m loss_val \u001b[38;5;241m=\u001b[39m history\u001b[38;5;241m.\u001b[39mhistory[\u001b[38;5;124m'\u001b[39m\u001b[38;5;124mval_loss\u001b[39m\u001b[38;5;124m'\u001b[39m]\n\u001b[0;32m      4\u001b[0m epochs \u001b[38;5;241m=\u001b[39m \u001b[38;5;28mrange\u001b[39m(\u001b[38;5;241m1\u001b[39m,\u001b[38;5;241m101\u001b[39m)\n",
      "\u001b[1;31mNameError\u001b[0m: name 'history' is not defined"
     ]
    }
   ],
   "source": [
    "# Your code here\n",
    "loss_train = history.history['loss']\n",
    "loss_val = history.history['val_loss']\n",
    "epochs = range(1,101)\n",
    "plt.plot(epochs, loss_train, 'g', label='Training loss')\n",
    "plt.plot(epochs, loss_val, 'b', label='validation loss')\n",
    "plt.title('Training and Validation loss')\n",
    "plt.xlabel('Epochs')\n",
    "plt.ylabel('Loss')\n",
    "plt.legend()\n",
    "plt.show()\n",
    "\n",
    "                 "
   ]
  },
  {
   "cell_type": "markdown",
   "metadata": {
    "id": "IVrR_vXA7kOt"
   },
   "source": [
    "## Evaluation Metrics\n",
    "Use the R2 Score function implemented in the first assignment to evaluate the performance of the model."
   ]
  },
  {
   "cell_type": "code",
   "execution_count": 6,
   "metadata": {
    "id": "-lOHpD8-7ggm"
   },
   "outputs": [
    {
     "name": "stdout",
     "output_type": "stream",
     "text": [
      "1/1 [==============================] - 0s 55ms/step\n"
     ]
    },
    {
     "data": {
      "text/plain": [
       "-70504.31776374676"
      ]
     },
     "execution_count": 6,
     "metadata": {},
     "output_type": "execute_result"
    }
   ],
   "source": [
    "# Insert the function for R2 Score\n",
    "import numpy as np\n",
    "def r2_score(y_true, y_pred):\n",
    "      # return the r2 score\n",
    "      return 1-((np.sum(np.square(y_true-y_pred)))/(np.sum(np.square(y_true-(np.mean(y_true))))))\n",
    "predictions= model.predict(X_test)\n",
    "r2=r2_score(predictions, y_test)\n",
    "r2"
   ]
  },
  {
   "cell_type": "markdown",
   "metadata": {
    "id": "CHqzF1OU0pBg"
   },
   "source": [
    "## Your own custom model\n",
    "Build a custom model of your own choice.<br>\n",
    "Describe it in detail in Markdown/Latex in the cell below.<br>\n",
    "Visualise the loss, as before."
   ]
  },
  {
   "cell_type": "markdown",
   "metadata": {
    "id": "jF8oTUqq0y0g"
   },
   "source": [
    "Your text here"
   ]
  },
  {
   "cell_type": "code",
   "execution_count": 9,
   "metadata": {
    "id": "1XOk5hJu0oSQ"
   },
   "outputs": [],
   "source": [
    "# Your code here"
   ]
  },
  {
   "cell_type": "code",
   "execution_count": 7,
   "metadata": {
    "id": "aS0ROZa402Lo"
   },
   "outputs": [],
   "source": [
    "import pandas as pd\n",
    "data = pd.read_csv(r'C:\\Users\\VEDANT ADLAK\\CODING\\Power.csv')\n",
    "x = data.iloc[:, :-1].values\n",
    "Y = data.iloc[:, -1].values"
   ]
  },
  {
   "cell_type": "code",
   "execution_count": 8,
   "metadata": {},
   "outputs": [],
   "source": [
    "x_train, x_test, Y_train, Y_test = train_test_split(x, Y, test_size=0.2, random_state=1234)\n",
    "x_train, x_val, Y_train, Y_val = train_test_split(x_train, Y_train, test_size=0.2, random_state=1)"
   ]
  },
  {
   "cell_type": "code",
   "execution_count": 10,
   "metadata": {},
   "outputs": [],
   "source": [
    "from sklearn.preprocessing import StandardScaler\n",
    "sc = StandardScaler()\n",
    "x_train = sc.fit_transform(x_train)\n",
    "x_test = sc.transform(x_test)"
   ]
  },
  {
   "cell_type": "code",
   "execution_count": 11,
   "metadata": {},
   "outputs": [],
   "source": [
    "ann = tf.keras.models.Sequential()\n",
    "ann.add(tf.keras.layers.Dense(units=6, activation = 'relu'))\n",
    "ann.add(tf.keras.layers.Dense(units=6, activation = 'relu'))\n",
    "ann.add(tf.keras.layers.Dense(units=6, activation = 'relu'))\n",
    "ann.add(tf.keras.layers.Dense(units=1))"
   ]
  },
  {
   "cell_type": "code",
   "execution_count": 12,
   "metadata": {},
   "outputs": [],
   "source": [
    "ann.compile(optimizer='adam', loss='mean_squared_error')"
   ]
  },
  {
   "cell_type": "code",
   "execution_count": 13,
   "metadata": {},
   "outputs": [
    {
     "name": "stdout",
     "output_type": "stream",
     "text": [
      "Epoch 1/100\n",
      "192/192 [==============================] - 1s 1ms/step - loss: 205502.0625 - val_loss: 1055491.3750\n",
      "Epoch 2/100\n",
      "192/192 [==============================] - 0s 1ms/step - loss: 190986.4688 - val_loss: 217513104.0000\n",
      "Epoch 3/100\n",
      "192/192 [==============================] - 0s 2ms/step - loss: 118311.9766 - val_loss: 4483321856.0000\n",
      "Epoch 4/100\n",
      "192/192 [==============================] - 0s 1ms/step - loss: 34966.2695 - val_loss: 7665159680.0000\n",
      "Epoch 5/100\n",
      "192/192 [==============================] - 0s 2ms/step - loss: 14791.5361 - val_loss: 5248251904.0000\n",
      "Epoch 6/100\n",
      "192/192 [==============================] - 0s 1ms/step - loss: 10338.5312 - val_loss: 4176272384.0000\n",
      "Epoch 7/100\n",
      "192/192 [==============================] - 0s 1ms/step - loss: 7680.7041 - val_loss: 3463756800.0000\n",
      "Epoch 8/100\n",
      "192/192 [==============================] - 0s 1ms/step - loss: 5623.4736 - val_loss: 2978657280.0000\n",
      "Epoch 9/100\n",
      "192/192 [==============================] - 0s 1ms/step - loss: 4070.7275 - val_loss: 2693101312.0000\n",
      "Epoch 10/100\n",
      "192/192 [==============================] - 0s 989us/step - loss: 2931.8125 - val_loss: 2515322112.0000\n",
      "Epoch 11/100\n",
      "192/192 [==============================] - 0s 985us/step - loss: 2108.7588 - val_loss: 2322741760.0000\n",
      "Epoch 12/100\n",
      "192/192 [==============================] - 0s 1ms/step - loss: 1530.5260 - val_loss: 2165274624.0000\n",
      "Epoch 13/100\n",
      "192/192 [==============================] - 0s 1ms/step - loss: 1126.7343 - val_loss: 1982140288.0000\n",
      "Epoch 14/100\n",
      "192/192 [==============================] - 0s 1ms/step - loss: 837.6551 - val_loss: 1764351872.0000\n",
      "Epoch 15/100\n",
      "192/192 [==============================] - 0s 990us/step - loss: 628.0771 - val_loss: 1593813888.0000\n",
      "Epoch 16/100\n",
      "192/192 [==============================] - 0s 1ms/step - loss: 478.0287 - val_loss: 1440141696.0000\n",
      "Epoch 17/100\n",
      "192/192 [==============================] - 0s 2ms/step - loss: 368.2716 - val_loss: 1276639232.0000\n",
      "Epoch 18/100\n",
      "192/192 [==============================] - 0s 1ms/step - loss: 286.9301 - val_loss: 1158568064.0000\n",
      "Epoch 19/100\n",
      "192/192 [==============================] - 0s 1ms/step - loss: 224.9409 - val_loss: 1064603776.0000\n",
      "Epoch 20/100\n",
      "192/192 [==============================] - 0s 995us/step - loss: 178.4216 - val_loss: 969033536.0000\n",
      "Epoch 21/100\n",
      "192/192 [==============================] - 0s 1ms/step - loss: 142.7281 - val_loss: 904992128.0000\n",
      "Epoch 22/100\n",
      "192/192 [==============================] - 0s 989us/step - loss: 114.8841 - val_loss: 867124608.0000\n",
      "Epoch 23/100\n",
      "192/192 [==============================] - 0s 1ms/step - loss: 93.3930 - val_loss: 839956288.0000\n",
      "Epoch 24/100\n",
      "192/192 [==============================] - 0s 1ms/step - loss: 76.0847 - val_loss: 825296448.0000\n",
      "Epoch 25/100\n",
      "192/192 [==============================] - 0s 995us/step - loss: 62.7940 - val_loss: 808421952.0000\n",
      "Epoch 26/100\n",
      "192/192 [==============================] - 0s 1ms/step - loss: 52.6008 - val_loss: 790727296.0000\n",
      "Epoch 27/100\n",
      "192/192 [==============================] - 0s 1ms/step - loss: 44.6540 - val_loss: 779986240.0000\n",
      "Epoch 28/100\n",
      "192/192 [==============================] - 0s 1ms/step - loss: 38.8009 - val_loss: 764706560.0000\n",
      "Epoch 29/100\n",
      "192/192 [==============================] - 0s 1ms/step - loss: 34.3965 - val_loss: 750182848.0000\n",
      "Epoch 30/100\n",
      "192/192 [==============================] - 0s 1ms/step - loss: 31.1811 - val_loss: 723574272.0000\n",
      "Epoch 31/100\n",
      "192/192 [==============================] - 0s 1ms/step - loss: 28.5572 - val_loss: 713040000.0000\n",
      "Epoch 32/100\n",
      "192/192 [==============================] - 0s 1ms/step - loss: 26.9162 - val_loss: 699773568.0000\n",
      "Epoch 33/100\n",
      "192/192 [==============================] - 0s 1ms/step - loss: 25.5039 - val_loss: 689914880.0000\n",
      "Epoch 34/100\n",
      "192/192 [==============================] - 0s 994us/step - loss: 24.5436 - val_loss: 675314944.0000\n",
      "Epoch 35/100\n",
      "192/192 [==============================] - 0s 1ms/step - loss: 23.8607 - val_loss: 661008960.0000\n",
      "Epoch 36/100\n",
      "192/192 [==============================] - 0s 1ms/step - loss: 23.4081 - val_loss: 645466560.0000\n",
      "Epoch 37/100\n",
      "192/192 [==============================] - 0s 1ms/step - loss: 23.0349 - val_loss: 636793216.0000\n",
      "Epoch 38/100\n",
      "192/192 [==============================] - 0s 1ms/step - loss: 22.5760 - val_loss: 625942784.0000\n",
      "Epoch 39/100\n",
      "192/192 [==============================] - 0s 1ms/step - loss: 22.3486 - val_loss: 611333248.0000\n",
      "Epoch 40/100\n",
      "192/192 [==============================] - 0s 1ms/step - loss: 22.2903 - val_loss: 606125440.0000\n",
      "Epoch 41/100\n",
      "192/192 [==============================] - 0s 1ms/step - loss: 22.2299 - val_loss: 600408256.0000\n",
      "Epoch 42/100\n",
      "192/192 [==============================] - 0s 995us/step - loss: 22.0806 - val_loss: 590723264.0000\n",
      "Epoch 43/100\n",
      "192/192 [==============================] - 0s 1ms/step - loss: 21.7701 - val_loss: 583678144.0000\n",
      "Epoch 44/100\n",
      "192/192 [==============================] - 0s 1ms/step - loss: 21.9006 - val_loss: 577920960.0000\n",
      "Epoch 45/100\n",
      "192/192 [==============================] - 0s 1ms/step - loss: 21.8087 - val_loss: 567927296.0000\n",
      "Epoch 46/100\n",
      "192/192 [==============================] - 0s 1ms/step - loss: 21.8747 - val_loss: 564737856.0000\n",
      "Epoch 47/100\n",
      "192/192 [==============================] - 0s 1ms/step - loss: 21.8164 - val_loss: 558105024.0000\n",
      "Epoch 48/100\n",
      "192/192 [==============================] - 0s 1ms/step - loss: 21.7617 - val_loss: 545681472.0000\n",
      "Epoch 49/100\n",
      "192/192 [==============================] - 0s 1ms/step - loss: 22.2611 - val_loss: 547658624.0000\n",
      "Epoch 50/100\n",
      "192/192 [==============================] - 0s 1ms/step - loss: 21.7451 - val_loss: 529287840.0000\n",
      "Epoch 51/100\n",
      "192/192 [==============================] - 0s 1ms/step - loss: 21.6618 - val_loss: 538415424.0000\n",
      "Epoch 52/100\n",
      "192/192 [==============================] - 0s 1ms/step - loss: 21.6405 - val_loss: 526375744.0000\n",
      "Epoch 53/100\n",
      "192/192 [==============================] - 0s 1ms/step - loss: 21.6234 - val_loss: 523492224.0000\n",
      "Epoch 54/100\n",
      "192/192 [==============================] - 0s 991us/step - loss: 21.6752 - val_loss: 517951328.0000\n",
      "Epoch 55/100\n",
      "192/192 [==============================] - 0s 957us/step - loss: 21.5805 - val_loss: 517134720.0000\n",
      "Epoch 56/100\n",
      "192/192 [==============================] - 0s 990us/step - loss: 21.7772 - val_loss: 505650528.0000\n",
      "Epoch 57/100\n",
      "192/192 [==============================] - 0s 990us/step - loss: 21.4580 - val_loss: 501462752.0000\n",
      "Epoch 58/100\n",
      "192/192 [==============================] - 0s 958us/step - loss: 21.6620 - val_loss: 504142880.0000\n",
      "Epoch 59/100\n",
      "192/192 [==============================] - 0s 974us/step - loss: 21.6206 - val_loss: 497545408.0000\n",
      "Epoch 60/100\n",
      "192/192 [==============================] - 0s 984us/step - loss: 21.5144 - val_loss: 485903648.0000\n",
      "Epoch 61/100\n",
      "192/192 [==============================] - 0s 984us/step - loss: 21.4289 - val_loss: 488917472.0000\n",
      "Epoch 62/100\n",
      "192/192 [==============================] - 0s 958us/step - loss: 21.3365 - val_loss: 484559616.0000\n",
      "Epoch 63/100\n",
      "192/192 [==============================] - 0s 979us/step - loss: 21.1568 - val_loss: 469904416.0000\n",
      "Epoch 64/100\n",
      "192/192 [==============================] - 0s 952us/step - loss: 21.3791 - val_loss: 466319936.0000\n",
      "Epoch 65/100\n",
      "192/192 [==============================] - 0s 1ms/step - loss: 20.9299 - val_loss: 462157184.0000\n",
      "Epoch 66/100\n",
      "192/192 [==============================] - 0s 973us/step - loss: 20.9182 - val_loss: 460814720.0000\n",
      "Epoch 67/100\n",
      "192/192 [==============================] - 0s 969us/step - loss: 21.0156 - val_loss: 458287296.0000\n",
      "Epoch 68/100\n",
      "192/192 [==============================] - 0s 974us/step - loss: 21.0712 - val_loss: 451982144.0000\n",
      "Epoch 69/100\n",
      "192/192 [==============================] - 0s 945us/step - loss: 20.8178 - val_loss: 451185344.0000\n",
      "Epoch 70/100\n",
      "192/192 [==============================] - 0s 1ms/step - loss: 20.9400 - val_loss: 440099168.0000\n",
      "Epoch 71/100\n",
      "192/192 [==============================] - 0s 968us/step - loss: 20.9792 - val_loss: 444701056.0000\n",
      "Epoch 72/100\n",
      "192/192 [==============================] - 0s 969us/step - loss: 20.7082 - val_loss: 439451584.0000\n",
      "Epoch 73/100\n",
      "192/192 [==============================] - 0s 974us/step - loss: 20.8705 - val_loss: 438926240.0000\n"
     ]
    },
    {
     "name": "stdout",
     "output_type": "stream",
     "text": [
      "Epoch 74/100\n",
      "192/192 [==============================] - 0s 948us/step - loss: 20.9405 - val_loss: 434460960.0000\n",
      "Epoch 75/100\n",
      "192/192 [==============================] - 0s 953us/step - loss: 20.8470 - val_loss: 440190688.0000\n",
      "Epoch 76/100\n",
      "192/192 [==============================] - 0s 979us/step - loss: 20.8279 - val_loss: 430655072.0000\n",
      "Epoch 77/100\n",
      "192/192 [==============================] - 0s 937us/step - loss: 20.7440 - val_loss: 426091136.0000\n",
      "Epoch 78/100\n",
      "192/192 [==============================] - 0s 942us/step - loss: 20.9498 - val_loss: 434446048.0000\n",
      "Epoch 79/100\n",
      "192/192 [==============================] - 0s 953us/step - loss: 20.9132 - val_loss: 437293984.0000\n",
      "Epoch 80/100\n",
      "192/192 [==============================] - 0s 922us/step - loss: 21.0839 - val_loss: 439511328.0000\n",
      "Epoch 81/100\n",
      "192/192 [==============================] - 0s 952us/step - loss: 20.8824 - val_loss: 438428736.0000\n",
      "Epoch 82/100\n",
      "192/192 [==============================] - 0s 923us/step - loss: 20.8845 - val_loss: 437566528.0000\n",
      "Epoch 83/100\n",
      "192/192 [==============================] - 0s 942us/step - loss: 20.8207 - val_loss: 434014848.0000\n",
      "Epoch 84/100\n",
      "192/192 [==============================] - 0s 927us/step - loss: 20.8663 - val_loss: 441011040.0000\n",
      "Epoch 85/100\n",
      "192/192 [==============================] - 0s 921us/step - loss: 20.8142 - val_loss: 443873440.0000\n",
      "Epoch 86/100\n",
      "192/192 [==============================] - 0s 947us/step - loss: 20.7954 - val_loss: 430658112.0000\n",
      "Epoch 87/100\n",
      "192/192 [==============================] - 0s 912us/step - loss: 20.7968 - val_loss: 438615424.0000\n",
      "Epoch 88/100\n",
      "192/192 [==============================] - 0s 974us/step - loss: 20.8670 - val_loss: 432157152.0000\n",
      "Epoch 89/100\n",
      "192/192 [==============================] - 0s 963us/step - loss: 21.0467 - val_loss: 444976608.0000\n",
      "Epoch 90/100\n",
      "192/192 [==============================] - 0s 943us/step - loss: 20.7190 - val_loss: 448802464.0000\n",
      "Epoch 91/100\n",
      "192/192 [==============================] - 0s 916us/step - loss: 20.9051 - val_loss: 454478496.0000\n",
      "Epoch 92/100\n",
      "192/192 [==============================] - 0s 948us/step - loss: 20.8039 - val_loss: 449556576.0000\n",
      "Epoch 93/100\n",
      "192/192 [==============================] - 0s 937us/step - loss: 20.9025 - val_loss: 454530528.0000\n",
      "Epoch 94/100\n",
      "192/192 [==============================] - 0s 952us/step - loss: 20.5214 - val_loss: 448073920.0000\n",
      "Epoch 95/100\n",
      "192/192 [==============================] - 0s 969us/step - loss: 20.6263 - val_loss: 439715360.0000\n",
      "Epoch 96/100\n",
      "192/192 [==============================] - 0s 932us/step - loss: 20.7127 - val_loss: 452371936.0000\n",
      "Epoch 97/100\n",
      "192/192 [==============================] - 0s 1ms/step - loss: 20.7545 - val_loss: 448452736.0000\n",
      "Epoch 98/100\n",
      "192/192 [==============================] - 0s 953us/step - loss: 20.5185 - val_loss: 456734976.0000\n",
      "Epoch 99/100\n",
      "192/192 [==============================] - 0s 927us/step - loss: 20.6495 - val_loss: 456889440.0000\n",
      "Epoch 100/100\n",
      "192/192 [==============================] - 0s 921us/step - loss: 20.8627 - val_loss: 455231328.0000\n"
     ]
    }
   ],
   "source": [
    "gr=ann.fit(x_train, Y_train,  epochs=100, validation_data=(x_val, Y_val))"
   ]
  },
  {
   "cell_type": "code",
   "execution_count": 14,
   "metadata": {},
   "outputs": [
    {
     "data": {
      "image/png": "[encoded data removed]",
      "text/plain": [
       "<Figure size 432x288 with 1 Axes>"
      ]
     },
     "metadata": {
      "needs_background": "light"
     },
     "output_type": "display_data"
    }
   ],
   "source": [
    "loss_train = gr.history['loss']\n",
    "loss_val =gr.history['val_loss']\n",
    "epochs = range(1,101)\n",
    "plt.plot(epochs, loss_train, 'g', label='Training loss')\n",
    "plt.plot(epochs, loss_val, 'b', label='validation loss')\n",
    "plt.title('Training and Validation loss')\n",
    "plt.xlabel('Epochs')\n",
    "plt.ylabel('Loss')\n",
    "plt.legend()\n",
    "plt.show()"
   ]
  },
  {
   "cell_type": "code",
   "execution_count": 15,
   "metadata": {},
   "outputs": [
    {
     "name": "stdout",
     "output_type": "stream",
     "text": [
      "60/60 [==============================] - 0s 642us/step\n"
     ]
    },
    {
     "data": {
      "text/plain": [
       "-4000.5717946760174"
      ]
     },
     "execution_count": 15,
     "metadata": {},
     "output_type": "execute_result"
    }
   ],
   "source": [
    "prediction= ann.predict(x_test)\n",
    "r2=r2_score(prediction, Y_test)\n",
    "r2"
   ]
  },
  {
   "cell_type": "code",
   "execution_count": null,
   "metadata": {},
   "outputs": [],
   "source": []
  }
 ],
 "metadata": {
  "colab": {
   "collapsed_sections": [],
   "name": "Copy of CVusingTF_Assgn2.ipynb",
   "provenance": [
    {
     "file_id": "1ptX8WQ4CFpsuB3FySAo-Ofzinil-gfw_",
     "timestamp": 1654672766911
    }
   ]
  },
  "kernelspec": {
   "display_name": "Python 3 (ipykernel)",
   "language": "python",
   "name": "python3"
  },
  "language_info": {
   "codemirror_mode": {
    "name": "ipython",
    "version": 3
   },
   "file_extension": ".py",
   "mimetype": "text/x-python",
   "name": "python",
   "nbconvert_exporter": "python",
   "pygments_lexer": "ipython3",
   "version": "3.10.2"
  }
 },
 "nbformat": 4,
 "nbformat_minor": 1
}
