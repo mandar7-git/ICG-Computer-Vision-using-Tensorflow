{
 "cells": [
  {
   "cell_type": "markdown",
   "metadata": {
    "id": "UxcaEbrCy1g_"
   },
   "source": [
    "# Assigment 2: Deep Learning"
   ]
  },
  {
   "cell_type": "markdown",
   "metadata": {
    "id": "h2JON-_Oy79w"
   },
   "source": [
    "## Generate Dataset\n",
    "\n",
    "This is the same code from Assignment 1"
   ]
  },
  {
   "cell_type": "code",
   "execution_count": 1,
   "metadata": {
    "id": "hgpG3WDuypfa"
   },
   "outputs": [],
   "source": [
    "from sklearn import datasets\n",
    "from sklearn.model_selection import train_test_split\n",
    "\n",
    "# Generate the data\n",
    "X, y = datasets.make_regression(n_samples=100, n_features=5, noise=5, random_state=4)\n",
    "\n",
    "# Split the data\n",
    "X_train, X_test, y_train, y_test = train_test_split(X, y, test_size=0.2, random_state=1234)\n"
   ]
  },
  {
   "cell_type": "markdown",
   "metadata": {
    "id": "r6it-Rm7zD1Y"
   },
   "source": [
    "## Visualize Dataset\n",
    "This is the same code from Assignment 1"
   ]
  },
  {
   "cell_type": "code",
   "execution_count": 2,
   "metadata": {
    "colab": {
     "base_uri": "https://localhost:8080/",
     "height": 281
    },
    "id": "UautPVj1yzaQ",
    "outputId": "a1b92ad1-da27-4eba-93a6-28f214a97b9f"
   },
   "outputs": [
    {
     "data": {
      "image/png": "[encoded data removed]",
      "text/plain": [
       "<Figure size 432x288 with 1 Axes>"
      ]
     },
     "metadata": {
      "needs_background": "light"
     },
     "output_type": "display_data"
    }
   ],
   "source": [
    "import matplotlib.pyplot as plt\n",
    "plt.scatter(X[:,0],y)\n",
    "plt.title(\"With respect to feature 0\")\n",
    "plt.show()\n",
    "# Your code here"
   ]
  },
  {
   "cell_type": "code",
   "execution_count": 3,
   "metadata": {
    "colab": {
     "base_uri": "https://localhost:8080/",
     "height": 281
    },
    "id": "9QDqu98yMazZ",
    "outputId": "d67dff51-be25-42d8-8670-fe497169b44b"
   },
   "outputs": [
    {
     "data": {
      "image/png": "[encoded data removed]",
      "text/plain": [
       "<Figure size 432x288 with 1 Axes>"
      ]
     },
     "metadata": {
      "needs_background": "light"
     },
     "output_type": "display_data"
    }
   ],
   "source": [
    "plt.scatter(X[:,1],y)\n",
    "plt.title(\"With respect to feature 1\")\n",
    "plt.show()"
   ]
  },
  {
   "cell_type": "markdown",
   "metadata": {
    "id": "XMXb9lTyzGHE"
   },
   "source": [
    "## Model Definition\n",
    "\n",
    "Using TensorFlow, build a model with the following definition:\n",
    "> Input of shape 5 \\\\\n",
    "> Dense of shape 5 \\\\\n",
    "> Dense of shape 5 \\\\\n",
    "> Dense of shape 1 \\\\\n",
    "\n",
    "Use Mean Square Error Loss and Stochaistic Gradient Descent (SGD) Optimizer\n",
    "\n",
    "Use Gradient Decay with appropriate parameters"
   ]
  },
  {
   "cell_type": "code",
   "execution_count": 4,
   "metadata": {
    "id": "r32N1xK2ziOs"
   },
   "outputs": [],
   "source": [
    "import tensorflow as tf\n",
    "from tensorflow import keras\n",
    "\n",
    "model = keras.Sequential([\n",
    "    keras.layers.Dense(5,input_dim=5,activation='relu'),\n",
    "    keras.layers.Dense(5,activation='relu'),\n",
    "    keras.layers.Dense(1)\n",
    "])\n",
    "\n",
    "model.compile(loss='mean_squared_error',optimizer = tf.keras.optimizers.SGD(0.001))"
   ]
  },
  {
   "cell_type": "code",
   "execution_count": 5,
   "metadata": {},
   "outputs": [
    {
     "name": "stdout",
     "output_type": "stream",
     "text": [
      "Epoch 1/50\n",
      "2/2 - 0s - loss: 12589.5371 - val_loss: 7192.1167 - 386ms/epoch - 193ms/step\n",
      "Epoch 2/50\n",
      "2/2 - 0s - loss: 12587.8574 - val_loss: 7188.9263 - 21ms/epoch - 11ms/step\n",
      "Epoch 3/50\n",
      "2/2 - 0s - loss: 12587.1953 - val_loss: 7185.6279 - 24ms/epoch - 12ms/step\n",
      "Epoch 4/50\n",
      "2/2 - 0s - loss: 12585.3613 - val_loss: 7181.9673 - 21ms/epoch - 10ms/step\n",
      "Epoch 5/50\n",
      "2/2 - 0s - loss: 12582.4033 - val_loss: 7178.1099 - 34ms/epoch - 17ms/step\n",
      "Epoch 6/50\n",
      "2/2 - 0s - loss: 12580.2090 - val_loss: 7174.0361 - 18ms/epoch - 9ms/step\n",
      "Epoch 7/50\n",
      "2/2 - 0s - loss: 12577.6582 - val_loss: 7168.8735 - 23ms/epoch - 11ms/step\n",
      "Epoch 8/50\n",
      "2/2 - 0s - loss: 12574.9316 - val_loss: 7161.2402 - 18ms/epoch - 9ms/step\n",
      "Epoch 9/50\n",
      "2/2 - 0s - loss: 12568.5869 - val_loss: 7148.6279 - 32ms/epoch - 16ms/step\n",
      "Epoch 10/50\n",
      "2/2 - 0s - loss: 12557.4258 - val_loss: 7122.5464 - 29ms/epoch - 14ms/step\n",
      "Epoch 11/50\n",
      "2/2 - 0s - loss: 12535.1035 - val_loss: 7073.7344 - 28ms/epoch - 14ms/step\n",
      "Epoch 12/50\n",
      "2/2 - 0s - loss: 12488.7881 - val_loss: 6985.0308 - 32ms/epoch - 16ms/step\n",
      "Epoch 13/50\n",
      "2/2 - 0s - loss: 12403.1162 - val_loss: 6777.4609 - 29ms/epoch - 14ms/step\n",
      "Epoch 14/50\n",
      "2/2 - 0s - loss: 12136.4492 - val_loss: 6138.4023 - 25ms/epoch - 13ms/step\n",
      "Epoch 15/50\n",
      "2/2 - 0s - loss: 11348.9824 - val_loss: 4028.6375 - 23ms/epoch - 11ms/step\n",
      "Epoch 16/50\n",
      "2/2 - 0s - loss: 8545.8906 - val_loss: 2134.0835 - 26ms/epoch - 13ms/step\n",
      "Epoch 17/50\n",
      "2/2 - 0s - loss: 6610.4858 - val_loss: 1750.1047 - 20ms/epoch - 10ms/step\n",
      "Epoch 18/50\n",
      "2/2 - 0s - loss: 6306.6001 - val_loss: 1622.3274 - 27ms/epoch - 14ms/step\n",
      "Epoch 19/50\n",
      "2/2 - 0s - loss: 6287.3413 - val_loss: 1622.7261 - 24ms/epoch - 12ms/step\n",
      "Epoch 20/50\n",
      "2/2 - 0s - loss: 6320.4199 - val_loss: 1577.0903 - 22ms/epoch - 11ms/step\n",
      "Epoch 21/50\n",
      "2/2 - 0s - loss: 6194.4072 - val_loss: 1558.4470 - 18ms/epoch - 9ms/step\n",
      "Epoch 22/50\n",
      "2/2 - 0s - loss: 6155.9170 - val_loss: 1576.7386 - 23ms/epoch - 12ms/step\n",
      "Epoch 23/50\n",
      "2/2 - 0s - loss: 6167.2148 - val_loss: 1594.8314 - 25ms/epoch - 12ms/step\n",
      "Epoch 24/50\n",
      "2/2 - 0s - loss: 6155.8247 - val_loss: 1579.1416 - 19ms/epoch - 9ms/step\n",
      "Epoch 25/50\n",
      "2/2 - 0s - loss: 6126.1211 - val_loss: 1616.5679 - 24ms/epoch - 12ms/step\n",
      "Epoch 26/50\n",
      "2/2 - 0s - loss: 6165.9458 - val_loss: 1588.9893 - 19ms/epoch - 10ms/step\n",
      "Epoch 27/50\n",
      "2/2 - 0s - loss: 6085.4219 - val_loss: 1529.8082 - 20ms/epoch - 10ms/step\n",
      "Epoch 28/50\n",
      "2/2 - 0s - loss: 6041.1382 - val_loss: 1511.9375 - 22ms/epoch - 11ms/step\n",
      "Epoch 29/50\n",
      "2/2 - 0s - loss: 6013.7769 - val_loss: 1514.6583 - 18ms/epoch - 9ms/step\n",
      "Epoch 30/50\n",
      "2/2 - 0s - loss: 5999.8608 - val_loss: 1507.7122 - 19ms/epoch - 9ms/step\n",
      "Epoch 31/50\n",
      "2/2 - 0s - loss: 5988.0151 - val_loss: 1498.3976 - 23ms/epoch - 11ms/step\n",
      "Epoch 32/50\n",
      "2/2 - 0s - loss: 5973.1709 - val_loss: 1494.1770 - 18ms/epoch - 9ms/step\n",
      "Epoch 33/50\n",
      "2/2 - 0s - loss: 5960.7100 - val_loss: 1487.5981 - 20ms/epoch - 10ms/step\n",
      "Epoch 34/50\n",
      "2/2 - 0s - loss: 5948.1836 - val_loss: 1480.7861 - 23ms/epoch - 11ms/step\n",
      "Epoch 35/50\n",
      "2/2 - 0s - loss: 5935.2109 - val_loss: 1470.7999 - 22ms/epoch - 11ms/step\n",
      "Epoch 36/50\n",
      "2/2 - 0s - loss: 5925.9121 - val_loss: 1465.0667 - 22ms/epoch - 11ms/step\n",
      "Epoch 37/50\n",
      "2/2 - 0s - loss: 5922.7041 - val_loss: 1473.5513 - 20ms/epoch - 10ms/step\n",
      "Epoch 38/50\n",
      "2/2 - 0s - loss: 5922.6631 - val_loss: 1455.2720 - 17ms/epoch - 9ms/step\n",
      "Epoch 39/50\n",
      "2/2 - 0s - loss: 5905.3501 - val_loss: 1448.3048 - 20ms/epoch - 10ms/step\n",
      "Epoch 40/50\n",
      "2/2 - 0s - loss: 5912.4126 - val_loss: 1488.0762 - 31ms/epoch - 16ms/step\n",
      "Epoch 41/50\n",
      "2/2 - 0s - loss: 5911.4316 - val_loss: 1464.3029 - 27ms/epoch - 14ms/step\n",
      "Epoch 42/50\n",
      "2/2 - 0s - loss: 5873.4702 - val_loss: 1431.9836 - 19ms/epoch - 9ms/step\n",
      "Epoch 43/50\n",
      "2/2 - 0s - loss: 5842.3867 - val_loss: 1448.8427 - 21ms/epoch - 11ms/step\n",
      "Epoch 44/50\n",
      "2/2 - 0s - loss: 5838.8091 - val_loss: 1437.7830 - 20ms/epoch - 10ms/step\n",
      "Epoch 45/50\n",
      "2/2 - 0s - loss: 5816.0752 - val_loss: 1413.5945 - 19ms/epoch - 10ms/step\n",
      "Epoch 46/50\n",
      "2/2 - 0s - loss: 5802.9258 - val_loss: 1420.3572 - 20ms/epoch - 10ms/step\n",
      "Epoch 47/50\n",
      "2/2 - 0s - loss: 5810.5479 - val_loss: 1467.0089 - 21ms/epoch - 11ms/step\n",
      "Epoch 48/50\n",
      "2/2 - 0s - loss: 5800.1553 - val_loss: 1429.8993 - 20ms/epoch - 10ms/step\n",
      "Epoch 49/50\n",
      "2/2 - 0s - loss: 5777.9468 - val_loss: 1410.1036 - 19ms/epoch - 9ms/step\n",
      "Epoch 50/50\n",
      "2/2 - 0s - loss: 5766.3584 - val_loss: 1390.5581 - 23ms/epoch - 12ms/step\n"
     ]
    }
   ],
   "source": [
    "history =model.fit(X_train,y_train,epochs=50,validation_split = 0.2,verbose=2)"
   ]
  },
  {
   "cell_type": "code",
   "execution_count": 6,
   "metadata": {},
   "outputs": [
    {
     "name": "stdout",
     "output_type": "stream",
     "text": [
      "1/1 [==============================] - 0s 57ms/step\n"
     ]
    }
   ],
   "source": [
    "predictions = model.predict(X_test)"
   ]
  },
  {
   "cell_type": "markdown",
   "metadata": {
    "id": "jmeP6vt3z0oA"
   },
   "source": [
    "## Plot Loss\n",
    "\n",
    "Using matplotlib visualise how the loss (both validation and training) is changing, use this information to retrain the model with appropriate parameters.<br>We ideally want the loss to be constant over the last few iterations."
   ]
  },
  {
   "cell_type": "code",
   "execution_count": 7,
   "metadata": {},
   "outputs": [
    {
     "data": {
      "text/plain": [
       "[<matplotlib.lines.Line2D at 0x159853f7130>]"
      ]
     },
     "execution_count": 7,
     "metadata": {},
     "output_type": "execute_result"
    },
    {
     "data": {
      "image/png": "[encoded data removed]",
      "text/plain": [
       "<Figure size 432x288 with 1 Axes>"
      ]
     },
     "metadata": {
      "needs_background": "light"
     },
     "output_type": "display_data"
    }
   ],
   "source": [
    "plt.plot(history.history['loss'], label='loss')\n",
    "plt.plot(history.history['val_loss'], label='val_loss')"
   ]
  },
  {
   "cell_type": "markdown",
   "metadata": {
    "id": "IVrR_vXA7kOt"
   },
   "source": [
    "## Evaluation Metrics\n",
    "Use the R2 Score function implemented in the first assignment to evaluate the performance of the model."
   ]
  },
  {
   "cell_type": "code",
   "execution_count": 8,
   "metadata": {
    "id": "-lOHpD8-7ggm"
   },
   "outputs": [
    {
     "name": "stdout",
     "output_type": "stream",
     "text": [
      "MSE: 2985.3448681960717\n",
      "Accuracy: 0.7064932493968725\n"
     ]
    }
   ],
   "source": [
    "# Insert the function for R2 Score\n",
    "def mean_squared_error(y_true, y_pred):\n",
    "       # return the mean squared error\n",
    "       return ((y_true-y_pred)**2).mean()\n",
    "       # Uncomment this when you're done with this function\n",
    "\n",
    "\n",
    "def r2_score(y_true, y_pred):\n",
    "      # return the r2 score\n",
    "      y_mean = y_true.mean()\n",
    "      return 1-(((y_true - y_pred)**2).mean())/(((y_true - y_mean)**2).mean())\n",
    " # Uncomment this when you're done with this function\n",
    "          \n",
    "\n",
    "mse = mean_squared_error(y_test, predictions.flatten()) # Pass appropriate parts of dataset\n",
    "print(\"MSE:\", mse)\n",
    "\n",
    "accu = r2_score(y_test, predictions.flatten()) # Pass appropriate parts of dataset\n",
    "print(\"Accuracy:\", accu)"
   ]
  },
  {
   "cell_type": "markdown",
   "metadata": {
    "id": "CHqzF1OU0pBg"
   },
   "source": [
    "## Your own custom model\n",
    "Build a custom model of your own choice.<br>\n",
    "Describe it in detail in Markdown/Latex in the cell below.<br>\n",
    "Visualise the loss, as before."
   ]
  },
  {
   "cell_type": "markdown",
   "metadata": {
    "id": "jF8oTUqq0y0g"
   },
   "source": [
    "Your text here"
   ]
  },
  {
   "cell_type": "code",
   "execution_count": 9,
   "metadata": {
    "id": "1XOk5hJu0oSQ"
   },
   "outputs": [],
   "source": [
    "# Your code here"
   ]
  },
  {
   "cell_type": "code",
   "execution_count": 10,
   "metadata": {
    "id": "aS0ROZa402Lo"
   },
   "outputs": [],
   "source": [
    "custom_model = keras.Sequential([\n",
    "    keras.layers.Dense(10,input_dim=5,activation='relu'),\n",
    "    keras.layers.Dense(5,activation='relu'),\n",
    "    keras.layers.Dense(1)\n",
    "])\n",
    "\n",
    "custom_model.compile(loss='mean_squared_error',optimizer = tf.keras.optimizers.RMSprop(0.01))"
   ]
  },
  {
   "cell_type": "code",
   "execution_count": 11,
   "metadata": {},
   "outputs": [],
   "source": [
    "history_custom = custom_model.fit(X_train,y_train,epochs=500,validation_split = 0.2,verbose=0)"
   ]
  },
  {
   "cell_type": "code",
   "execution_count": 12,
   "metadata": {},
   "outputs": [
    {
     "data": {
      "text/plain": [
       "[<matplotlib.lines.Line2D at 0x15986544dc0>]"
      ]
     },
     "execution_count": 12,
     "metadata": {},
     "output_type": "execute_result"
    },
    {
     "data": {
      "image/png": "[encoded data removed]",
      "text/plain": [
       "<Figure size 432x288 with 1 Axes>"
      ]
     },
     "metadata": {
      "needs_background": "light"
     },
     "output_type": "display_data"
    }
   ],
   "source": [
    "plt.plot(history_custom.history['loss'], label='loss')\n",
    "plt.plot(history_custom.history['val_loss'], label='val_loss')"
   ]
  },
  {
   "cell_type": "code",
   "execution_count": 13,
   "metadata": {},
   "outputs": [
    {
     "name": "stdout",
     "output_type": "stream",
     "text": [
      "MSE: 2985.3448681960717\n",
      "Accuracy: 0.7064932493968725\n"
     ]
    }
   ],
   "source": [
    "def mean_squared_error(y_true, y_pred):\n",
    "       # return the mean squared error\n",
    "       return ((y_true-y_pred)**2).mean()\n",
    "       # Uncomment this when you're done with this function\n",
    "\n",
    "\n",
    "def r2_score(y_true, y_pred):\n",
    "      # return the r2 score\n",
    "      y_mean = y_true.mean()\n",
    "      return 1-(((y_true - y_pred)**2).mean())/(((y_true - y_mean)**2).mean())\n",
    " # Uncomment this when you're done with this function\n",
    "          \n",
    "\n",
    "mse = mean_squared_error(y_test, predictions.flatten()) # Pass appropriate parts of dataset\n",
    "print(\"MSE:\", mse)\n",
    "\n",
    "accu = r2_score(y_test, predictions.flatten()) # Pass appropriate parts of dataset\n",
    "print(\"Accuracy:\", accu)\n"
   ]
  }
 ],
 "metadata": {
  "colab": {
   "collapsed_sections": [],
   "name": "Copy of CVusingTF_Assgn2.ipynb",
   "provenance": []
  },
  "kernelspec": {
   "display_name": "Python 3 (ipykernel)",
   "language": "python",
   "name": "python3"
  },
  "language_info": {
   "codemirror_mode": {
    "name": "ipython",
    "version": 3
   },
   "file_extension": ".py",
   "mimetype": "text/x-python",
   "name": "python",
   "nbconvert_exporter": "python",
   "pygments_lexer": "ipython3",
   "version": "3.9.7"
  }
 },
 "nbformat": 4,
 "nbformat_minor": 4
}
