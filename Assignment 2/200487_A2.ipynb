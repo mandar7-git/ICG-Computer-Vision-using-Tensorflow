{
  "nbformat": 4,
  "nbformat_minor": 0,
  "metadata": {
    "colab": {
      "name": "CVusingTF_Assgn2.ipynb",
      "provenance": [],
      "collapsed_sections": []
    },
    "kernelspec": {
      "name": "python3",
      "display_name": "Python 3"
    },
    "language_info": {
      "name": "python"
    }
  },
  "cells": [
    {
      "cell_type": "markdown",
      "source": [
        "# Assigment 2: Deep Learning"
      ],
      "metadata": {
        "id": "UxcaEbrCy1g_"
      }
    },
    {
      "cell_type": "markdown",
      "source": [
        "## Generate Dataset\n",
        "\n",
        "This is the same code from Assignment 1"
      ],
      "metadata": {
        "id": "h2JON-_Oy79w"
      }
    },
    {
      "cell_type": "code",
      "execution_count": 7,
      "metadata": {
        "id": "hgpG3WDuypfa"
      },
      "outputs": [],
      "source": [
        "from sklearn import datasets\n",
        "from sklearn.model_selection import train_test_split\n",
        "\n",
        "# Generate the data\n",
        "X, y = datasets.make_regression(n_samples=100, n_features=5, noise=5, random_state=4)\n",
        "\n",
        "# Split the data\n",
        "X_train, X_test, y_train, y_test = train_test_split(X, y, test_size=0.2, random_state=1234)\n"
      ]
    },
    {
      "cell_type": "markdown",
      "source": [
        "## Visualize Dataset\n",
        "This is the same code from Assignment 1"
      ],
      "metadata": {
        "id": "r6it-Rm7zD1Y"
      }
    },
    {
      "cell_type": "code",
      "source": [
        "import matplotlib.pyplot as plt\n",
        "import numpy as np\n",
        "for i in range(5):\n",
        "  plt.scatter(X_train[:,1],y_train)"
      ],
      "metadata": {
        "id": "UautPVj1yzaQ",
        "outputId": "b49fcf1d-ae8f-49ae-fc89-e319e9302d1e",
        "colab": {
          "base_uri": "https://localhost:8080/",
          "height": 265
        }
      },
      "execution_count": 9,
      "outputs": [
        {
          "output_type": "display_data",
          "data": {
            "text/plain": [
              "<Figure size 432x288 with 1 Axes>"
            ],
            "image/png": "[encoded data removed]"
          },
          "metadata": {
            "needs_background": "light"
          }
        }
      ]
    },
    {
      "cell_type": "markdown",
      "source": [
        "## Model Definition\n",
        "\n",
        "Using TensorFlow, build a model with the following definition:\n",
        "> Input of shape 5 \\\\\n",
        "> Dense of shape 5 \\\\\n",
        "> Dense of shape 5 \\\\\n",
        "> Dense of shape 1 \\\\\n",
        "\n",
        "Use Mean Square Error Loss and Stochaistic Gradient Descent (SGD) Optimizer\n",
        "\n",
        "Use Gradient Decay with appropriate parameters"
      ],
      "metadata": {
        "id": "XMXb9lTyzGHE"
      }
    },
    {
      "cell_type": "code",
      "source": [
        "import tensorflow as tf\n",
        "import pandas as pd\n",
        "from tensorflow import keras\n",
        "model = keras.Sequential([\n",
        "    keras.layers.Dense(5, input_shape=[5],activation='relu'),\n",
        "    keras.layers.Dense(5,activation='relu'),\n",
        "    keras.layers.Dense(1)\n",
        "])\n",
        "model.compile(loss='mean_squared_error',optimizer = tf.keras.optimizers.SGD(0.001))\n",
        "\n",
        "history =model.fit(X_train,y_train,epochs=50,validation_split = 0.2,verbose=2)\n",
        "\n",
        "predictions = model.predict(X_test)\n",
        "\n"
      ],
      "metadata": {
        "id": "r32N1xK2ziOs",
        "outputId": "5751c355-1261-44c6-f3f1-01c6acef2bf0",
        "colab": {
          "base_uri": "https://localhost:8080/"
        }
      },
      "execution_count": 17,
      "outputs": [
        {
          "output_type": "stream",
          "name": "stdout",
          "text": [
            "Epoch 1/50\n",
            "2/2 - 0s - loss: 12595.1211 - val_loss: 7105.0293 - 376ms/epoch - 188ms/step\n",
            "Epoch 2/50\n",
            "2/2 - 0s - loss: 12493.4629 - val_loss: 6986.0254 - 31ms/epoch - 15ms/step\n",
            "Epoch 3/50\n",
            "2/2 - 0s - loss: 12305.8096 - val_loss: 6638.4692 - 28ms/epoch - 14ms/step\n",
            "Epoch 4/50\n",
            "2/2 - 0s - loss: 11768.4678 - val_loss: 5443.2119 - 26ms/epoch - 13ms/step\n",
            "Epoch 5/50\n",
            "2/2 - 0s - loss: 9884.6143 - val_loss: 2481.9995 - 29ms/epoch - 14ms/step\n",
            "Epoch 6/50\n",
            "2/2 - 0s - loss: 6708.6484 - val_loss: 1764.6349 - 29ms/epoch - 14ms/step\n",
            "Epoch 7/50\n",
            "2/2 - 0s - loss: 5522.7959 - val_loss: 1026.0281 - 27ms/epoch - 14ms/step\n",
            "Epoch 8/50\n",
            "2/2 - 0s - loss: 3476.7974 - val_loss: 345.5950 - 31ms/epoch - 16ms/step\n",
            "Epoch 9/50\n",
            "2/2 - 0s - loss: 1931.5564 - val_loss: 2789.9556 - 30ms/epoch - 15ms/step\n",
            "Epoch 10/50\n",
            "2/2 - 0s - loss: 4586.5854 - val_loss: 2540.1018 - 33ms/epoch - 17ms/step\n",
            "Epoch 11/50\n",
            "2/2 - 0s - loss: 2732.6621 - val_loss: 132.4862 - 32ms/epoch - 16ms/step\n",
            "Epoch 12/50\n",
            "2/2 - 0s - loss: 199.2516 - val_loss: 298.1092 - 36ms/epoch - 18ms/step\n",
            "Epoch 13/50\n",
            "2/2 - 0s - loss: 259.1199 - val_loss: 170.6306 - 28ms/epoch - 14ms/step\n",
            "Epoch 14/50\n",
            "2/2 - 0s - loss: 148.3291 - val_loss: 162.2008 - 32ms/epoch - 16ms/step\n",
            "Epoch 15/50\n",
            "2/2 - 0s - loss: 141.0105 - val_loss: 59.2315 - 32ms/epoch - 16ms/step\n",
            "Epoch 16/50\n",
            "2/2 - 0s - loss: 84.5864 - val_loss: 64.4151 - 28ms/epoch - 14ms/step\n",
            "Epoch 17/50\n",
            "2/2 - 0s - loss: 66.7159 - val_loss: 96.3872 - 33ms/epoch - 16ms/step\n",
            "Epoch 18/50\n",
            "2/2 - 0s - loss: 54.7255 - val_loss: 51.4422 - 38ms/epoch - 19ms/step\n",
            "Epoch 19/50\n",
            "2/2 - 0s - loss: 40.8116 - val_loss: 48.9132 - 27ms/epoch - 13ms/step\n",
            "Epoch 20/50\n",
            "2/2 - 0s - loss: 85.7137 - val_loss: 74.0436 - 27ms/epoch - 14ms/step\n",
            "Epoch 21/50\n",
            "2/2 - 0s - loss: 138.6755 - val_loss: 116.1426 - 36ms/epoch - 18ms/step\n",
            "Epoch 22/50\n",
            "2/2 - 0s - loss: 93.0366 - val_loss: 38.1080 - 46ms/epoch - 23ms/step\n",
            "Epoch 23/50\n",
            "2/2 - 0s - loss: 45.7552 - val_loss: 38.3920 - 26ms/epoch - 13ms/step\n",
            "Epoch 24/50\n",
            "2/2 - 0s - loss: 34.6569 - val_loss: 30.9368 - 26ms/epoch - 13ms/step\n",
            "Epoch 25/50\n",
            "2/2 - 0s - loss: 24.8673 - val_loss: 32.1682 - 45ms/epoch - 23ms/step\n",
            "Epoch 26/50\n",
            "2/2 - 0s - loss: 25.0724 - val_loss: 34.2261 - 33ms/epoch - 16ms/step\n",
            "Epoch 27/50\n",
            "2/2 - 0s - loss: 20.3387 - val_loss: 40.7556 - 30ms/epoch - 15ms/step\n",
            "Epoch 28/50\n",
            "2/2 - 0s - loss: 24.1398 - val_loss: 41.3397 - 33ms/epoch - 17ms/step\n",
            "Epoch 29/50\n",
            "2/2 - 0s - loss: 28.4136 - val_loss: 44.7413 - 30ms/epoch - 15ms/step\n",
            "Epoch 30/50\n",
            "2/2 - 0s - loss: 24.4457 - val_loss: 40.4117 - 30ms/epoch - 15ms/step\n",
            "Epoch 31/50\n",
            "2/2 - 0s - loss: 22.9832 - val_loss: 36.9625 - 30ms/epoch - 15ms/step\n",
            "Epoch 32/50\n",
            "2/2 - 0s - loss: 50.7906 - val_loss: 34.8037 - 30ms/epoch - 15ms/step\n",
            "Epoch 33/50\n",
            "2/2 - 0s - loss: 54.7234 - val_loss: 48.3223 - 29ms/epoch - 15ms/step\n",
            "Epoch 34/50\n",
            "2/2 - 0s - loss: 91.5027 - val_loss: 32.8509 - 29ms/epoch - 15ms/step\n",
            "Epoch 35/50\n",
            "2/2 - 0s - loss: 51.9907 - val_loss: 34.4905 - 28ms/epoch - 14ms/step\n",
            "Epoch 36/50\n",
            "2/2 - 0s - loss: 20.1086 - val_loss: 40.6906 - 28ms/epoch - 14ms/step\n",
            "Epoch 37/50\n",
            "2/2 - 0s - loss: 24.4139 - val_loss: 58.0996 - 33ms/epoch - 16ms/step\n",
            "Epoch 38/50\n",
            "2/2 - 0s - loss: 33.1109 - val_loss: 62.1319 - 34ms/epoch - 17ms/step\n",
            "Epoch 39/50\n",
            "2/2 - 0s - loss: 33.6330 - val_loss: 39.5758 - 34ms/epoch - 17ms/step\n",
            "Epoch 40/50\n",
            "2/2 - 0s - loss: 27.2787 - val_loss: 42.3878 - 31ms/epoch - 15ms/step\n",
            "Epoch 41/50\n",
            "2/2 - 0s - loss: 38.1713 - val_loss: 48.6848 - 27ms/epoch - 14ms/step\n",
            "Epoch 42/50\n",
            "2/2 - 0s - loss: 72.0938 - val_loss: 48.1641 - 27ms/epoch - 14ms/step\n",
            "Epoch 43/50\n",
            "2/2 - 0s - loss: 55.0561 - val_loss: 40.3172 - 29ms/epoch - 14ms/step\n",
            "Epoch 44/50\n",
            "2/2 - 0s - loss: 28.2347 - val_loss: 51.8815 - 26ms/epoch - 13ms/step\n",
            "Epoch 45/50\n",
            "2/2 - 0s - loss: 35.0019 - val_loss: 35.9727 - 30ms/epoch - 15ms/step\n",
            "Epoch 46/50\n",
            "2/2 - 0s - loss: 26.8592 - val_loss: 44.8224 - 41ms/epoch - 21ms/step\n",
            "Epoch 47/50\n",
            "2/2 - 0s - loss: 23.3209 - val_loss: 38.0702 - 29ms/epoch - 14ms/step\n",
            "Epoch 48/50\n",
            "2/2 - 0s - loss: 25.0040 - val_loss: 40.4970 - 32ms/epoch - 16ms/step\n",
            "Epoch 49/50\n",
            "2/2 - 0s - loss: 29.4142 - val_loss: 47.0546 - 32ms/epoch - 16ms/step\n",
            "Epoch 50/50\n",
            "2/2 - 0s - loss: 41.9272 - val_loss: 42.8308 - 29ms/epoch - 15ms/step\n"
          ]
        }
      ]
    },
    {
      "cell_type": "markdown",
      "source": [
        "## Plot Loss\n",
        "\n",
        "Using matplotlib visualise how the loss (both validation and training) is changing, use this information to retrain the model with appropriate parameters.<br>We ideally want the loss to be constant over the last few iterations."
      ],
      "metadata": {
        "id": "jmeP6vt3z0oA"
      }
    },
    {
      "cell_type": "code",
      "source": [
        "# Your code here\n",
        "history_df = pd.DataFrame(history.history)\n",
        "history_df.loc[20:, ['loss', 'val_loss']].plot();\n",
        "plt.xlabel('Epochs')\n",
        "plt.ylabel('Loss')"
      ],
      "metadata": {
        "id": "RQTNqPHm0mOi",
        "outputId": "b30b326b-d35f-41db-b9dc-a3234f6dfc14",
        "colab": {
          "base_uri": "https://localhost:8080/",
          "height": 296
        }
      },
      "execution_count": 20,
      "outputs": [
        {
          "output_type": "execute_result",
          "data": {
            "text/plain": [
              "Text(0, 0.5, 'Loss')"
            ]
          },
          "metadata": {},
          "execution_count": 20
        },
        {
          "output_type": "display_data",
          "data": {
            "text/plain": [
              "<Figure size 432x288 with 1 Axes>"
            ],
            "image/png": "[encoded data removed]"
          },
          "metadata": {
            "needs_background": "light"
          }
        }
      ]
    },
    {
      "cell_type": "markdown",
      "source": [
        "## Evaluation Metrics\n",
        "Use the R2 Score function implemented in the first assignment to evaluate the performance of the model."
      ],
      "metadata": {
        "id": "IVrR_vXA7kOt"
      }
    },
    {
      "cell_type": "code",
      "source": [
        "# Insert the function for R2 Score\n",
        "import numpy as np\n",
        "from sklearn.metrics import r2_score\n",
        "y_pred = model.predict(X_test)\n",
        "accu = r2_score(y_test, y_pred) \n",
        "print(\"Accuracy:\", accu)"
      ],
      "metadata": {
        "id": "-lOHpD8-7ggm",
        "outputId": "d4329b88-3501-4b25-ec26-6b92c9584e63",
        "colab": {
          "base_uri": "https://localhost:8080/"
        }
      },
      "execution_count": 22,
      "outputs": [
        {
          "output_type": "stream",
          "name": "stdout",
          "text": [
            "Accuracy: 0.9949060115054705\n"
          ]
        }
      ]
    },
    {
      "cell_type": "markdown",
      "source": [
        "## Your own custom model\n",
        "Build a custom model of your own choice.<br>\n",
        "Describe it in detail in Markdown/Latex in the cell below.<br>\n",
        "Visualise the loss, as before."
      ],
      "metadata": {
        "id": "CHqzF1OU0pBg"
      }
    },
    {
      "cell_type": "markdown",
      "source": [
        "Your text here"
      ],
      "metadata": {
        "id": "jF8oTUqq0y0g"
      }
    },
    {
      "cell_type": "code",
      "source": [
        "# Your code here\n",
        "model_custom = keras.Sequential([keras.layers.Dense(64,input_dim=5,activation='relu'),\n",
        "                                 keras.layers.Dense(15,activation='relu'),\n",
        "                                 keras.layers.Dense(10,activation='relu'), #hidden\n",
        "                                 keras.layers.Dense(1)]) #OUTPUT\n",
        "model_custom.compile(optimizer=tf.optimizers.Adam(learning_rate=0.001),\n",
        "                     loss='mean_absolute_error')\n",
        "history_custom = model_custom.fit(\n",
        "    X_train,y_train,\n",
        "    validation_split =0.2,\n",
        "    verbose=2,epochs=150\n",
        ")"
      ],
      "metadata": {
        "id": "1XOk5hJu0oSQ",
        "outputId": "e46b857e-13aa-43b3-ef18-740d254e37db",
        "colab": {
          "base_uri": "https://localhost:8080/"
        }
      },
      "execution_count": 29,
      "outputs": [
        {
          "output_type": "stream",
          "name": "stdout",
          "text": [
            "Epoch 1/150\n",
            "2/2 - 0s - loss: 89.0932 - val_loss: 72.4327 - 494ms/epoch - 247ms/step\n",
            "Epoch 2/150\n",
            "2/2 - 0s - loss: 89.0751 - val_loss: 72.4217 - 30ms/epoch - 15ms/step\n",
            "Epoch 3/150\n",
            "2/2 - 0s - loss: 89.0600 - val_loss: 72.4100 - 29ms/epoch - 15ms/step\n",
            "Epoch 4/150\n",
            "2/2 - 0s - loss: 89.0462 - val_loss: 72.4003 - 32ms/epoch - 16ms/step\n",
            "Epoch 5/150\n",
            "2/2 - 0s - loss: 89.0327 - val_loss: 72.3899 - 30ms/epoch - 15ms/step\n",
            "Epoch 6/150\n",
            "2/2 - 0s - loss: 89.0202 - val_loss: 72.3787 - 31ms/epoch - 16ms/step\n",
            "Epoch 7/150\n",
            "2/2 - 0s - loss: 89.0067 - val_loss: 72.3672 - 32ms/epoch - 16ms/step\n",
            "Epoch 8/150\n",
            "2/2 - 0s - loss: 88.9936 - val_loss: 72.3542 - 31ms/epoch - 15ms/step\n",
            "Epoch 9/150\n",
            "2/2 - 0s - loss: 88.9793 - val_loss: 72.3410 - 27ms/epoch - 14ms/step\n",
            "Epoch 10/150\n",
            "2/2 - 0s - loss: 88.9657 - val_loss: 72.3280 - 25ms/epoch - 13ms/step\n",
            "Epoch 11/150\n",
            "2/2 - 0s - loss: 88.9514 - val_loss: 72.3137 - 28ms/epoch - 14ms/step\n",
            "Epoch 12/150\n",
            "2/2 - 0s - loss: 88.9365 - val_loss: 72.2986 - 27ms/epoch - 14ms/step\n",
            "Epoch 13/150\n",
            "2/2 - 0s - loss: 88.9198 - val_loss: 72.2822 - 28ms/epoch - 14ms/step\n",
            "Epoch 14/150\n",
            "2/2 - 0s - loss: 88.9027 - val_loss: 72.2650 - 26ms/epoch - 13ms/step\n",
            "Epoch 15/150\n",
            "2/2 - 0s - loss: 88.8830 - val_loss: 72.2468 - 26ms/epoch - 13ms/step\n",
            "Epoch 16/150\n",
            "2/2 - 0s - loss: 88.8626 - val_loss: 72.2271 - 34ms/epoch - 17ms/step\n",
            "Epoch 17/150\n",
            "2/2 - 0s - loss: 88.8404 - val_loss: 72.2070 - 36ms/epoch - 18ms/step\n",
            "Epoch 18/150\n",
            "2/2 - 0s - loss: 88.8163 - val_loss: 72.1844 - 30ms/epoch - 15ms/step\n",
            "Epoch 19/150\n",
            "2/2 - 0s - loss: 88.7903 - val_loss: 72.1603 - 27ms/epoch - 13ms/step\n",
            "Epoch 20/150\n",
            "2/2 - 0s - loss: 88.7652 - val_loss: 72.1344 - 35ms/epoch - 17ms/step\n",
            "Epoch 21/150\n",
            "2/2 - 0s - loss: 88.7377 - val_loss: 72.1076 - 30ms/epoch - 15ms/step\n",
            "Epoch 22/150\n",
            "2/2 - 0s - loss: 88.7117 - val_loss: 72.0777 - 33ms/epoch - 16ms/step\n",
            "Epoch 23/150\n",
            "2/2 - 0s - loss: 88.6826 - val_loss: 72.0463 - 30ms/epoch - 15ms/step\n",
            "Epoch 24/150\n",
            "2/2 - 0s - loss: 88.6497 - val_loss: 72.0139 - 29ms/epoch - 14ms/step\n",
            "Epoch 25/150\n",
            "2/2 - 0s - loss: 88.6157 - val_loss: 71.9793 - 31ms/epoch - 15ms/step\n",
            "Epoch 26/150\n",
            "2/2 - 0s - loss: 88.5814 - val_loss: 71.9423 - 60ms/epoch - 30ms/step\n",
            "Epoch 27/150\n",
            "2/2 - 0s - loss: 88.5450 - val_loss: 71.9029 - 31ms/epoch - 16ms/step\n",
            "Epoch 28/150\n",
            "2/2 - 0s - loss: 88.4994 - val_loss: 71.8611 - 27ms/epoch - 14ms/step\n",
            "Epoch 29/150\n",
            "2/2 - 0s - loss: 88.4589 - val_loss: 71.8123 - 27ms/epoch - 14ms/step\n",
            "Epoch 30/150\n",
            "2/2 - 0s - loss: 88.4130 - val_loss: 71.7586 - 31ms/epoch - 15ms/step\n",
            "Epoch 31/150\n",
            "2/2 - 0s - loss: 88.3542 - val_loss: 71.7026 - 33ms/epoch - 17ms/step\n",
            "Epoch 32/150\n",
            "2/2 - 0s - loss: 88.2998 - val_loss: 71.6410 - 28ms/epoch - 14ms/step\n",
            "Epoch 33/150\n",
            "2/2 - 0s - loss: 88.2421 - val_loss: 71.5739 - 30ms/epoch - 15ms/step\n",
            "Epoch 34/150\n",
            "2/2 - 0s - loss: 88.1713 - val_loss: 71.5031 - 30ms/epoch - 15ms/step\n",
            "Epoch 35/150\n",
            "2/2 - 0s - loss: 88.1014 - val_loss: 71.4256 - 26ms/epoch - 13ms/step\n",
            "Epoch 36/150\n",
            "2/2 - 0s - loss: 88.0233 - val_loss: 71.3405 - 26ms/epoch - 13ms/step\n",
            "Epoch 37/150\n",
            "2/2 - 0s - loss: 87.9337 - val_loss: 71.2479 - 28ms/epoch - 14ms/step\n",
            "Epoch 38/150\n",
            "2/2 - 0s - loss: 87.8340 - val_loss: 71.1513 - 27ms/epoch - 13ms/step\n",
            "Epoch 39/150\n",
            "2/2 - 0s - loss: 87.7366 - val_loss: 71.0483 - 31ms/epoch - 15ms/step\n",
            "Epoch 40/150\n",
            "2/2 - 0s - loss: 87.6282 - val_loss: 70.9390 - 34ms/epoch - 17ms/step\n",
            "Epoch 41/150\n",
            "2/2 - 0s - loss: 87.5112 - val_loss: 70.8231 - 30ms/epoch - 15ms/step\n",
            "Epoch 42/150\n",
            "2/2 - 0s - loss: 87.3875 - val_loss: 70.6968 - 31ms/epoch - 15ms/step\n",
            "Epoch 43/150\n",
            "2/2 - 0s - loss: 87.2531 - val_loss: 70.5631 - 28ms/epoch - 14ms/step\n",
            "Epoch 44/150\n",
            "2/2 - 0s - loss: 87.1064 - val_loss: 70.4207 - 28ms/epoch - 14ms/step\n",
            "Epoch 45/150\n",
            "2/2 - 0s - loss: 86.9656 - val_loss: 70.2663 - 27ms/epoch - 14ms/step\n",
            "Epoch 46/150\n",
            "2/2 - 0s - loss: 86.7918 - val_loss: 70.1035 - 28ms/epoch - 14ms/step\n",
            "Epoch 47/150\n",
            "2/2 - 0s - loss: 86.6109 - val_loss: 69.9254 - 26ms/epoch - 13ms/step\n",
            "Epoch 48/150\n",
            "2/2 - 0s - loss: 86.4306 - val_loss: 69.7339 - 33ms/epoch - 17ms/step\n",
            "Epoch 49/150\n",
            "2/2 - 0s - loss: 86.2189 - val_loss: 69.5347 - 32ms/epoch - 16ms/step\n",
            "Epoch 50/150\n",
            "2/2 - 0s - loss: 86.0116 - val_loss: 69.3232 - 28ms/epoch - 14ms/step\n",
            "Epoch 51/150\n",
            "2/2 - 0s - loss: 85.7855 - val_loss: 69.0953 - 26ms/epoch - 13ms/step\n",
            "Epoch 52/150\n",
            "2/2 - 0s - loss: 85.5393 - val_loss: 68.8510 - 26ms/epoch - 13ms/step\n",
            "Epoch 53/150\n",
            "2/2 - 0s - loss: 85.2782 - val_loss: 68.5902 - 28ms/epoch - 14ms/step\n",
            "Epoch 54/150\n",
            "2/2 - 0s - loss: 85.0121 - val_loss: 68.3124 - 27ms/epoch - 14ms/step\n",
            "Epoch 55/150\n",
            "2/2 - 0s - loss: 84.7411 - val_loss: 68.0159 - 34ms/epoch - 17ms/step\n",
            "Epoch 56/150\n",
            "2/2 - 0s - loss: 84.4242 - val_loss: 67.7083 - 28ms/epoch - 14ms/step\n",
            "Epoch 57/150\n",
            "2/2 - 0s - loss: 84.0896 - val_loss: 67.3815 - 30ms/epoch - 15ms/step\n",
            "Epoch 58/150\n",
            "2/2 - 0s - loss: 83.7471 - val_loss: 67.0331 - 30ms/epoch - 15ms/step\n",
            "Epoch 59/150\n",
            "2/2 - 0s - loss: 83.3780 - val_loss: 66.6712 - 26ms/epoch - 13ms/step\n",
            "Epoch 60/150\n",
            "2/2 - 0s - loss: 82.9965 - val_loss: 66.2861 - 30ms/epoch - 15ms/step\n",
            "Epoch 61/150\n",
            "2/2 - 0s - loss: 82.6334 - val_loss: 65.8741 - 29ms/epoch - 15ms/step\n",
            "Epoch 62/150\n",
            "2/2 - 0s - loss: 82.2004 - val_loss: 65.4406 - 27ms/epoch - 14ms/step\n",
            "Epoch 63/150\n",
            "2/2 - 0s - loss: 81.7902 - val_loss: 64.9773 - 33ms/epoch - 16ms/step\n",
            "Epoch 64/150\n",
            "2/2 - 0s - loss: 81.3320 - val_loss: 64.4849 - 30ms/epoch - 15ms/step\n",
            "Epoch 65/150\n",
            "2/2 - 0s - loss: 80.8333 - val_loss: 63.9668 - 27ms/epoch - 13ms/step\n",
            "Epoch 66/150\n",
            "2/2 - 0s - loss: 80.3499 - val_loss: 63.4169 - 30ms/epoch - 15ms/step\n",
            "Epoch 67/150\n",
            "2/2 - 0s - loss: 79.7976 - val_loss: 62.8376 - 29ms/epoch - 14ms/step\n",
            "Epoch 68/150\n",
            "2/2 - 0s - loss: 79.2381 - val_loss: 62.2342 - 33ms/epoch - 16ms/step\n",
            "Epoch 69/150\n",
            "2/2 - 0s - loss: 78.6682 - val_loss: 61.5934 - 28ms/epoch - 14ms/step\n",
            "Epoch 70/150\n",
            "2/2 - 0s - loss: 78.0384 - val_loss: 60.9233 - 33ms/epoch - 16ms/step\n",
            "Epoch 71/150\n",
            "2/2 - 0s - loss: 77.3874 - val_loss: 60.2245 - 28ms/epoch - 14ms/step\n",
            "Epoch 72/150\n",
            "2/2 - 0s - loss: 76.7208 - val_loss: 59.4928 - 28ms/epoch - 14ms/step\n",
            "Epoch 73/150\n",
            "2/2 - 0s - loss: 75.9767 - val_loss: 58.7883 - 26ms/epoch - 13ms/step\n",
            "Epoch 74/150\n",
            "2/2 - 0s - loss: 75.2611 - val_loss: 58.0348 - 28ms/epoch - 14ms/step\n",
            "Epoch 75/150\n",
            "2/2 - 0s - loss: 74.4433 - val_loss: 57.2444 - 26ms/epoch - 13ms/step\n",
            "Epoch 76/150\n",
            "2/2 - 0s - loss: 73.6537 - val_loss: 56.4082 - 26ms/epoch - 13ms/step\n",
            "Epoch 77/150\n",
            "2/2 - 0s - loss: 72.7821 - val_loss: 55.5293 - 30ms/epoch - 15ms/step\n",
            "Epoch 78/150\n",
            "2/2 - 0s - loss: 71.8256 - val_loss: 54.6205 - 33ms/epoch - 16ms/step\n",
            "Epoch 79/150\n",
            "2/2 - 0s - loss: 70.9235 - val_loss: 53.6528 - 28ms/epoch - 14ms/step\n",
            "Epoch 80/150\n",
            "2/2 - 0s - loss: 69.8900 - val_loss: 52.6451 - 34ms/epoch - 17ms/step\n",
            "Epoch 81/150\n",
            "2/2 - 0s - loss: 68.9226 - val_loss: 51.5805 - 28ms/epoch - 14ms/step\n",
            "Epoch 82/150\n",
            "2/2 - 0s - loss: 67.7485 - val_loss: 50.4969 - 28ms/epoch - 14ms/step\n",
            "Epoch 83/150\n",
            "2/2 - 0s - loss: 66.6935 - val_loss: 49.3493 - 26ms/epoch - 13ms/step\n",
            "Epoch 84/150\n",
            "2/2 - 0s - loss: 65.4634 - val_loss: 48.1573 - 30ms/epoch - 15ms/step\n",
            "Epoch 85/150\n",
            "2/2 - 0s - loss: 64.2052 - val_loss: 46.9099 - 27ms/epoch - 13ms/step\n",
            "Epoch 86/150\n",
            "2/2 - 0s - loss: 62.9521 - val_loss: 45.5830 - 35ms/epoch - 17ms/step\n",
            "Epoch 87/150\n",
            "2/2 - 0s - loss: 61.5984 - val_loss: 44.2057 - 32ms/epoch - 16ms/step\n",
            "Epoch 88/150\n",
            "2/2 - 0s - loss: 60.1683 - val_loss: 42.7731 - 28ms/epoch - 14ms/step\n",
            "Epoch 89/150\n",
            "2/2 - 0s - loss: 58.7908 - val_loss: 41.2646 - 28ms/epoch - 14ms/step\n",
            "Epoch 90/150\n",
            "2/2 - 0s - loss: 57.2461 - val_loss: 39.6979 - 38ms/epoch - 19ms/step\n",
            "Epoch 91/150\n",
            "2/2 - 0s - loss: 55.7331 - val_loss: 38.0445 - 31ms/epoch - 15ms/step\n",
            "Epoch 92/150\n",
            "2/2 - 0s - loss: 54.0712 - val_loss: 36.3418 - 31ms/epoch - 15ms/step\n",
            "Epoch 93/150\n",
            "2/2 - 0s - loss: 52.5278 - val_loss: 34.5410 - 35ms/epoch - 17ms/step\n",
            "Epoch 94/150\n",
            "2/2 - 0s - loss: 50.6692 - val_loss: 32.7088 - 32ms/epoch - 16ms/step\n",
            "Epoch 95/150\n",
            "2/2 - 0s - loss: 48.9856 - val_loss: 30.7565 - 36ms/epoch - 18ms/step\n",
            "Epoch 96/150\n",
            "2/2 - 0s - loss: 47.0556 - val_loss: 28.7175 - 30ms/epoch - 15ms/step\n",
            "Epoch 97/150\n",
            "2/2 - 0s - loss: 45.0885 - val_loss: 26.5966 - 32ms/epoch - 16ms/step\n",
            "Epoch 98/150\n",
            "2/2 - 0s - loss: 43.1697 - val_loss: 24.3811 - 32ms/epoch - 16ms/step\n",
            "Epoch 99/150\n",
            "2/2 - 0s - loss: 41.3464 - val_loss: 22.3593 - 28ms/epoch - 14ms/step\n",
            "Epoch 100/150\n",
            "2/2 - 0s - loss: 39.4995 - val_loss: 20.4389 - 30ms/epoch - 15ms/step\n",
            "Epoch 101/150\n",
            "2/2 - 0s - loss: 37.4906 - val_loss: 18.6784 - 30ms/epoch - 15ms/step\n",
            "Epoch 102/150\n",
            "2/2 - 0s - loss: 35.6337 - val_loss: 17.0429 - 31ms/epoch - 16ms/step\n",
            "Epoch 103/150\n",
            "2/2 - 0s - loss: 33.6524 - val_loss: 15.3411 - 28ms/epoch - 14ms/step\n",
            "Epoch 104/150\n",
            "2/2 - 0s - loss: 31.6700 - val_loss: 13.8891 - 29ms/epoch - 14ms/step\n",
            "Epoch 105/150\n",
            "2/2 - 0s - loss: 29.5815 - val_loss: 12.6804 - 28ms/epoch - 14ms/step\n",
            "Epoch 106/150\n",
            "2/2 - 0s - loss: 27.9493 - val_loss: 11.5770 - 30ms/epoch - 15ms/step\n",
            "Epoch 107/150\n",
            "2/2 - 0s - loss: 25.9843 - val_loss: 11.1861 - 32ms/epoch - 16ms/step\n",
            "Epoch 108/150\n",
            "2/2 - 0s - loss: 24.5368 - val_loss: 11.3333 - 30ms/epoch - 15ms/step\n",
            "Epoch 109/150\n",
            "2/2 - 0s - loss: 23.3591 - val_loss: 11.3409 - 26ms/epoch - 13ms/step\n",
            "Epoch 110/150\n",
            "2/2 - 0s - loss: 22.2058 - val_loss: 11.1262 - 30ms/epoch - 15ms/step\n",
            "Epoch 111/150\n",
            "2/2 - 0s - loss: 21.1996 - val_loss: 10.9070 - 27ms/epoch - 13ms/step\n",
            "Epoch 112/150\n",
            "2/2 - 0s - loss: 20.4753 - val_loss: 10.9193 - 29ms/epoch - 15ms/step\n",
            "Epoch 113/150\n",
            "2/2 - 0s - loss: 19.8396 - val_loss: 10.9561 - 27ms/epoch - 13ms/step\n",
            "Epoch 114/150\n",
            "2/2 - 0s - loss: 19.1820 - val_loss: 11.1674 - 30ms/epoch - 15ms/step\n",
            "Epoch 115/150\n",
            "2/2 - 0s - loss: 18.8568 - val_loss: 11.4335 - 27ms/epoch - 14ms/step\n",
            "Epoch 116/150\n",
            "2/2 - 0s - loss: 18.3060 - val_loss: 10.9034 - 34ms/epoch - 17ms/step\n",
            "Epoch 117/150\n",
            "2/2 - 0s - loss: 17.7693 - val_loss: 10.3014 - 30ms/epoch - 15ms/step\n",
            "Epoch 118/150\n",
            "2/2 - 0s - loss: 17.4234 - val_loss: 9.7877 - 29ms/epoch - 14ms/step\n",
            "Epoch 119/150\n",
            "2/2 - 0s - loss: 16.9581 - val_loss: 9.5496 - 49ms/epoch - 24ms/step\n",
            "Epoch 120/150\n",
            "2/2 - 0s - loss: 16.4762 - val_loss: 9.3879 - 32ms/epoch - 16ms/step\n",
            "Epoch 121/150\n",
            "2/2 - 0s - loss: 15.9764 - val_loss: 9.3556 - 29ms/epoch - 15ms/step\n",
            "Epoch 122/150\n",
            "2/2 - 0s - loss: 15.5652 - val_loss: 9.2482 - 31ms/epoch - 16ms/step\n",
            "Epoch 123/150\n",
            "2/2 - 0s - loss: 15.1618 - val_loss: 8.9640 - 31ms/epoch - 16ms/step\n",
            "Epoch 124/150\n",
            "2/2 - 0s - loss: 14.6987 - val_loss: 8.6287 - 32ms/epoch - 16ms/step\n",
            "Epoch 125/150\n",
            "2/2 - 0s - loss: 14.2138 - val_loss: 8.5937 - 31ms/epoch - 16ms/step\n",
            "Epoch 126/150\n",
            "2/2 - 0s - loss: 13.8151 - val_loss: 8.7255 - 30ms/epoch - 15ms/step\n",
            "Epoch 127/150\n",
            "2/2 - 0s - loss: 13.5312 - val_loss: 8.9414 - 31ms/epoch - 16ms/step\n",
            "Epoch 128/150\n",
            "2/2 - 0s - loss: 13.1311 - val_loss: 9.1362 - 32ms/epoch - 16ms/step\n",
            "Epoch 129/150\n",
            "2/2 - 0s - loss: 12.8349 - val_loss: 9.3141 - 31ms/epoch - 15ms/step\n",
            "Epoch 130/150\n",
            "2/2 - 0s - loss: 12.4996 - val_loss: 9.3740 - 27ms/epoch - 13ms/step\n",
            "Epoch 131/150\n",
            "2/2 - 0s - loss: 12.2125 - val_loss: 9.5655 - 27ms/epoch - 14ms/step\n",
            "Epoch 132/150\n",
            "2/2 - 0s - loss: 11.8903 - val_loss: 9.6942 - 29ms/epoch - 14ms/step\n",
            "Epoch 133/150\n",
            "2/2 - 0s - loss: 11.5597 - val_loss: 9.8278 - 28ms/epoch - 14ms/step\n",
            "Epoch 134/150\n",
            "2/2 - 0s - loss: 11.2032 - val_loss: 9.9653 - 31ms/epoch - 16ms/step\n",
            "Epoch 135/150\n",
            "2/2 - 0s - loss: 10.8902 - val_loss: 9.9703 - 26ms/epoch - 13ms/step\n",
            "Epoch 136/150\n",
            "2/2 - 0s - loss: 10.5133 - val_loss: 10.0052 - 27ms/epoch - 13ms/step\n",
            "Epoch 137/150\n",
            "2/2 - 0s - loss: 10.1448 - val_loss: 10.2261 - 31ms/epoch - 16ms/step\n",
            "Epoch 138/150\n",
            "2/2 - 0s - loss: 9.8011 - val_loss: 10.5192 - 33ms/epoch - 17ms/step\n",
            "Epoch 139/150\n",
            "2/2 - 0s - loss: 9.5622 - val_loss: 10.5470 - 39ms/epoch - 19ms/step\n",
            "Epoch 140/150\n",
            "2/2 - 0s - loss: 9.2660 - val_loss: 10.6826 - 28ms/epoch - 14ms/step\n",
            "Epoch 141/150\n",
            "2/2 - 0s - loss: 9.0512 - val_loss: 10.7521 - 32ms/epoch - 16ms/step\n",
            "Epoch 142/150\n",
            "2/2 - 0s - loss: 8.7885 - val_loss: 10.6491 - 30ms/epoch - 15ms/step\n",
            "Epoch 143/150\n",
            "2/2 - 0s - loss: 8.5365 - val_loss: 10.6201 - 32ms/epoch - 16ms/step\n",
            "Epoch 144/150\n",
            "2/2 - 0s - loss: 8.3255 - val_loss: 10.6235 - 30ms/epoch - 15ms/step\n",
            "Epoch 145/150\n",
            "2/2 - 0s - loss: 8.1402 - val_loss: 10.6548 - 35ms/epoch - 18ms/step\n",
            "Epoch 146/150\n",
            "2/2 - 0s - loss: 7.9331 - val_loss: 10.7218 - 27ms/epoch - 14ms/step\n",
            "Epoch 147/150\n",
            "2/2 - 0s - loss: 7.7713 - val_loss: 10.5299 - 32ms/epoch - 16ms/step\n",
            "Epoch 148/150\n",
            "2/2 - 0s - loss: 7.5644 - val_loss: 10.3693 - 29ms/epoch - 14ms/step\n",
            "Epoch 149/150\n",
            "2/2 - 0s - loss: 7.4163 - val_loss: 10.2719 - 31ms/epoch - 16ms/step\n",
            "Epoch 150/150\n",
            "2/2 - 0s - loss: 7.2633 - val_loss: 10.1445 - 29ms/epoch - 15ms/step\n"
          ]
        }
      ]
    },
    {
      "cell_type": "code",
      "source": [
        "plt.plot(history.history['loss'], label='loss')\n",
        "plt.plot(history.history['val_loss'], label='val_loss')"
      ],
      "metadata": {
        "id": "aS0ROZa402Lo",
        "outputId": "dde39bfd-72d5-43fd-d29f-747d03beca34",
        "colab": {
          "base_uri": "https://localhost:8080/",
          "height": 282
        }
      },
      "execution_count": 31,
      "outputs": [
        {
          "output_type": "execute_result",
          "data": {
            "text/plain": [
              "[<matplotlib.lines.Line2D at 0x7effea461050>]"
            ]
          },
          "metadata": {},
          "execution_count": 31
        },
        {
          "output_type": "display_data",
          "data": {
            "text/plain": [
              "<Figure size 432x288 with 1 Axes>"
            ],
            "image/png": "[encoded data removed]"
          },
          "metadata": {
            "needs_background": "light"
          }
        }
      ]
    },
    {
      "cell_type": "code",
      "source": [
        "preds=model.predict(X_test)\n",
        "r2_score(y_test,preds.squeeze())"
      ],
      "metadata": {
        "id": "ObuEfO5Eoe-E",
        "outputId": "bafb6eb0-6710-4342-ea8e-7782b15e08fd",
        "colab": {
          "base_uri": "https://localhost:8080/"
        }
      },
      "execution_count": 32,
      "outputs": [
        {
          "output_type": "execute_result",
          "data": {
            "text/plain": [
              "0.9949060115054705"
            ]
          },
          "metadata": {},
          "execution_count": 32
        }
      ]
    }
  ]
}