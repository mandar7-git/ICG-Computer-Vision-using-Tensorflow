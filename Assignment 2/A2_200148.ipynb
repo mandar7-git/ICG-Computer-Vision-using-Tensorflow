{
  "nbformat": 4,
  "nbformat_minor": 0,
  "metadata": {
    "colab": {
      "name": "A2_200148.ipynb",
      "provenance": [],
      "collapsed_sections": []
    },
    "kernelspec": {
      "name": "python3",
      "display_name": "Python 3"
    },
    "language_info": {
      "name": "python"
    }
  },
  "cells": [
    {
      "cell_type": "markdown",
      "source": [
        "# Assigment 2: Deep Learning"
      ],
      "metadata": {
        "id": "UxcaEbrCy1g_"
      }
    },
    {
      "cell_type": "markdown",
      "source": [
        "## Generate Dataset\n",
        "\n",
        "This is the same code from Assignment 1"
      ],
      "metadata": {
        "id": "h2JON-_Oy79w"
      }
    },
    {
      "cell_type": "code",
      "execution_count": 1,
      "metadata": {
        "id": "hgpG3WDuypfa"
      },
      "outputs": [],
      "source": [
        "from sklearn import datasets\n",
        "from sklearn.model_selection import train_test_split\n",
        "\n",
        "# Generate the data\n",
        "X, y = datasets.make_regression(n_samples=100, n_features=5, noise=5, random_state=4)\n",
        "\n",
        "# Split the data\n",
        "X_train, X_test, y_train, y_test = train_test_split(X, y, test_size=0.2, random_state=1234)\n"
      ]
    },
    {
      "cell_type": "markdown",
      "source": [
        "## Visualize Dataset\n",
        "This is the same code from Assignment 1"
      ],
      "metadata": {
        "id": "r6it-Rm7zD1Y"
      }
    },
    {
      "cell_type": "code",
      "source": [
        "import matplotlib.pyplot as plt\n",
        "import numpy as np\n",
        "for i in range(5):\n",
        "  plt.scatter(X_train[:,i], y_train)\n",
        "# Your code here"
      ],
      "metadata": {
        "id": "UautPVj1yzaQ",
        "colab": {
          "base_uri": "https://localhost:8080/",
          "height": 265
        },
        "outputId": "94767af6-4e30-47ab-b112-8ed6a40ce18b"
      },
      "execution_count": 12,
      "outputs": [
        {
          "output_type": "display_data",
          "data": {
            "text/plain": [
              "<Figure size 432x288 with 1 Axes>"
            ],
            "image/png": "[encoded data removed]"
          },
          "metadata": {
            "needs_background": "light"
          }
        }
      ]
    },
    {
      "cell_type": "markdown",
      "source": [
        "## Model Definition\n",
        "\n",
        "Using TensorFlow, build a model with the following definition:\n",
        "> Input of shape 5 \\\\\n",
        "> Dense of shape 5 \\\\\n",
        "> Dense of shape 5 \\\\\n",
        "> Dense of shape 1 \\\\\n",
        "\n",
        "Use Mean Square Error Loss and Stochaistic Gradient Descent (SGD) Optimizer\n",
        "\n",
        "Use Gradient Decay with appropriate parameters"
      ],
      "metadata": {
        "id": "XMXb9lTyzGHE"
      }
    },
    {
      "cell_type": "code",
      "source": [
        "import tensorflow as tf\n",
        "from tensorflow import keras\n",
        "\n",
        "model = keras.Sequential([\n",
        "    keras.layers.Dense(5,input_dim=5,activation='relu'),\n",
        "    keras.layers.Dense(5,activation='relu'),\n",
        "    keras.layers.Dense(1)\n",
        "])\n",
        "\n",
        "model.compile(loss='mean_squared_error',optimizer = tf.keras.optimizers.SGD(0.001))\n",
        "\n",
        "history =model.fit(X_train,y_train,epochs=50,validation_split = 0.2,verbose=2)\n",
        "\n",
        "predictions = model.predict(X_test)\n",
        "# Your code here"
      ],
      "metadata": {
        "id": "r32N1xK2ziOs",
        "colab": {
          "base_uri": "https://localhost:8080/"
        },
        "outputId": "19635d89-e183-418e-d718-aa62124b44a3"
      },
      "execution_count": 3,
      "outputs": [
        {
          "output_type": "stream",
          "name": "stdout",
          "text": [
            "Epoch 1/50\n",
            "2/2 - 1s - loss: 12562.4580 - val_loss: 7100.0142 - 737ms/epoch - 369ms/step\n",
            "Epoch 2/50\n",
            "2/2 - 0s - loss: 12459.6055 - val_loss: 6960.8091 - 31ms/epoch - 16ms/step\n",
            "Epoch 3/50\n",
            "2/2 - 0s - loss: 12245.0596 - val_loss: 6575.2349 - 34ms/epoch - 17ms/step\n",
            "Epoch 4/50\n",
            "2/2 - 0s - loss: 11702.4980 - val_loss: 5293.4946 - 29ms/epoch - 15ms/step\n",
            "Epoch 5/50\n",
            "2/2 - 0s - loss: 10191.4668 - val_loss: 2423.7524 - 32ms/epoch - 16ms/step\n",
            "Epoch 6/50\n",
            "2/2 - 0s - loss: 6582.1665 - val_loss: 2278.7197 - 30ms/epoch - 15ms/step\n",
            "Epoch 7/50\n",
            "2/2 - 0s - loss: 5255.9893 - val_loss: 532.2012 - 33ms/epoch - 16ms/step\n",
            "Epoch 8/50\n",
            "2/2 - 0s - loss: 1501.4688 - val_loss: 1069.5002 - 31ms/epoch - 16ms/step\n",
            "Epoch 9/50\n",
            "2/2 - 0s - loss: 755.2053 - val_loss: 265.7645 - 34ms/epoch - 17ms/step\n",
            "Epoch 10/50\n",
            "2/2 - 0s - loss: 274.9905 - val_loss: 306.5620 - 35ms/epoch - 17ms/step\n",
            "Epoch 11/50\n",
            "2/2 - 0s - loss: 663.9647 - val_loss: 1089.6829 - 34ms/epoch - 17ms/step\n",
            "Epoch 12/50\n",
            "2/2 - 0s - loss: 1659.8613 - val_loss: 1744.9104 - 34ms/epoch - 17ms/step\n",
            "Epoch 13/50\n",
            "2/2 - 0s - loss: 1784.8796 - val_loss: 241.3332 - 33ms/epoch - 17ms/step\n",
            "Epoch 14/50\n",
            "2/2 - 0s - loss: 618.6946 - val_loss: 114.9442 - 30ms/epoch - 15ms/step\n",
            "Epoch 15/50\n",
            "2/2 - 0s - loss: 535.1907 - val_loss: 85.8388 - 35ms/epoch - 17ms/step\n",
            "Epoch 16/50\n",
            "2/2 - 0s - loss: 401.3998 - val_loss: 104.7136 - 31ms/epoch - 15ms/step\n",
            "Epoch 17/50\n",
            "2/2 - 0s - loss: 604.3389 - val_loss: 418.4176 - 27ms/epoch - 13ms/step\n",
            "Epoch 18/50\n",
            "2/2 - 0s - loss: 457.4938 - val_loss: 119.9593 - 30ms/epoch - 15ms/step\n",
            "Epoch 19/50\n",
            "2/2 - 0s - loss: 167.9764 - val_loss: 125.8008 - 42ms/epoch - 21ms/step\n",
            "Epoch 20/50\n",
            "2/2 - 0s - loss: 189.1585 - val_loss: 110.2644 - 29ms/epoch - 15ms/step\n",
            "Epoch 21/50\n",
            "2/2 - 0s - loss: 167.1563 - val_loss: 158.0112 - 32ms/epoch - 16ms/step\n",
            "Epoch 22/50\n",
            "2/2 - 0s - loss: 193.3697 - val_loss: 140.8954 - 33ms/epoch - 16ms/step\n",
            "Epoch 23/50\n",
            "2/2 - 0s - loss: 166.1742 - val_loss: 169.6348 - 27ms/epoch - 14ms/step\n",
            "Epoch 24/50\n",
            "2/2 - 0s - loss: 259.0977 - val_loss: 114.7868 - 33ms/epoch - 17ms/step\n",
            "Epoch 25/50\n",
            "2/2 - 0s - loss: 159.6169 - val_loss: 97.0049 - 30ms/epoch - 15ms/step\n",
            "Epoch 26/50\n",
            "2/2 - 0s - loss: 102.6757 - val_loss: 68.8140 - 35ms/epoch - 17ms/step\n",
            "Epoch 27/50\n",
            "2/2 - 0s - loss: 61.7238 - val_loss: 61.1610 - 29ms/epoch - 14ms/step\n",
            "Epoch 28/50\n",
            "2/2 - 0s - loss: 30.0065 - val_loss: 31.7150 - 35ms/epoch - 18ms/step\n",
            "Epoch 29/50\n",
            "2/2 - 0s - loss: 34.0192 - val_loss: 59.1077 - 34ms/epoch - 17ms/step\n",
            "Epoch 30/50\n",
            "2/2 - 0s - loss: 29.3717 - val_loss: 33.9683 - 31ms/epoch - 15ms/step\n",
            "Epoch 31/50\n",
            "2/2 - 0s - loss: 38.6678 - val_loss: 58.4196 - 30ms/epoch - 15ms/step\n",
            "Epoch 32/50\n",
            "2/2 - 0s - loss: 43.7590 - val_loss: 79.5070 - 33ms/epoch - 17ms/step\n",
            "Epoch 33/50\n",
            "2/2 - 0s - loss: 55.0516 - val_loss: 87.1677 - 29ms/epoch - 15ms/step\n",
            "Epoch 34/50\n",
            "2/2 - 0s - loss: 78.3114 - val_loss: 136.0195 - 27ms/epoch - 13ms/step\n",
            "Epoch 35/50\n",
            "2/2 - 0s - loss: 177.3261 - val_loss: 296.7363 - 29ms/epoch - 14ms/step\n",
            "Epoch 36/50\n",
            "2/2 - 0s - loss: 321.2946 - val_loss: 240.6338 - 28ms/epoch - 14ms/step\n",
            "Epoch 37/50\n",
            "2/2 - 0s - loss: 194.9211 - val_loss: 200.6320 - 30ms/epoch - 15ms/step\n",
            "Epoch 38/50\n",
            "2/2 - 0s - loss: 66.8191 - val_loss: 87.4985 - 35ms/epoch - 17ms/step\n",
            "Epoch 39/50\n",
            "2/2 - 0s - loss: 43.7485 - val_loss: 95.3036 - 37ms/epoch - 18ms/step\n",
            "Epoch 40/50\n",
            "2/2 - 0s - loss: 69.6753 - val_loss: 80.7857 - 33ms/epoch - 17ms/step\n",
            "Epoch 41/50\n",
            "2/2 - 0s - loss: 43.6927 - val_loss: 47.9866 - 31ms/epoch - 16ms/step\n",
            "Epoch 42/50\n",
            "2/2 - 0s - loss: 33.6922 - val_loss: 43.7812 - 38ms/epoch - 19ms/step\n",
            "Epoch 43/50\n",
            "2/2 - 0s - loss: 66.6897 - val_loss: 77.8935 - 33ms/epoch - 17ms/step\n",
            "Epoch 44/50\n",
            "2/2 - 0s - loss: 130.5204 - val_loss: 54.1297 - 35ms/epoch - 17ms/step\n",
            "Epoch 45/50\n",
            "2/2 - 0s - loss: 72.6702 - val_loss: 67.5942 - 26ms/epoch - 13ms/step\n",
            "Epoch 46/50\n",
            "2/2 - 0s - loss: 57.9613 - val_loss: 78.3037 - 46ms/epoch - 23ms/step\n",
            "Epoch 47/50\n",
            "2/2 - 0s - loss: 60.1677 - val_loss: 66.6884 - 30ms/epoch - 15ms/step\n",
            "Epoch 48/50\n",
            "2/2 - 0s - loss: 49.9996 - val_loss: 58.4289 - 32ms/epoch - 16ms/step\n",
            "Epoch 49/50\n",
            "2/2 - 0s - loss: 41.9190 - val_loss: 63.6317 - 31ms/epoch - 16ms/step\n",
            "Epoch 50/50\n",
            "2/2 - 0s - loss: 75.0984 - val_loss: 75.1936 - 41ms/epoch - 21ms/step\n"
          ]
        }
      ]
    },
    {
      "cell_type": "markdown",
      "source": [
        "## Plot Loss\n",
        "\n",
        "Using matplotlib visualise how the loss (both validation and training) is changing, use this information to retrain the model with appropriate parameters.<br>We ideally want the loss to be constant over the last few iterations."
      ],
      "metadata": {
        "id": "jmeP6vt3z0oA"
      }
    },
    {
      "cell_type": "code",
      "source": [
        "plt.plot(history.history['loss'], label='loss')\n",
        "plt.plot(history.history['val_loss'], label='val_loss')"
      ],
      "metadata": {
        "id": "RQTNqPHm0mOi",
        "colab": {
          "base_uri": "https://localhost:8080/",
          "height": 282
        },
        "outputId": "4f5ae5f0-e388-419a-d2bd-63980c350ff8"
      },
      "execution_count": 4,
      "outputs": [
        {
          "output_type": "execute_result",
          "data": {
            "text/plain": [
              "[<matplotlib.lines.Line2D at 0x7f912fe50110>]"
            ]
          },
          "metadata": {},
          "execution_count": 4
        },
        {
          "output_type": "display_data",
          "data": {
            "text/plain": [
              "<Figure size 432x288 with 1 Axes>"
            ],
            "image/png": "[encoded data removed]"
          },
          "metadata": {
            "needs_background": "light"
          }
        }
      ]
    },
    {
      "cell_type": "markdown",
      "source": [
        "## Evaluation Metrics\n",
        "Use the R2 Score function implemented in the first assignment to evaluate the performance of the model."
      ],
      "metadata": {
        "id": "IVrR_vXA7kOt"
      }
    },
    {
      "cell_type": "code",
      "source": [
        "def r2_score(y_true, y_pred):\n",
        "      # return the r2 score\n",
        "      y_mean = y_true.mean()\n",
        "      return 1-(((y_true - y_pred)**2).mean())/(((y_true - y_mean)**2).mean())\n",
        "\n",
        "accu = r2_score(y_test, predictions.flatten()) # Pass appropriate parts of dataset\n",
        "print(\"Accuracy:\", accu)"
      ],
      "metadata": {
        "id": "-lOHpD8-7ggm",
        "colab": {
          "base_uri": "https://localhost:8080/"
        },
        "outputId": "f54b0d29-c37a-4523-8fc3-2f7dedbd10a9"
      },
      "execution_count": 5,
      "outputs": [
        {
          "output_type": "stream",
          "name": "stdout",
          "text": [
            "Accuracy: 0.9928876028975833\n"
          ]
        }
      ]
    },
    {
      "cell_type": "markdown",
      "source": [
        "## Your own custom model\n",
        "Build a custom model of your own choice.<br>\n",
        "Describe it in detail in Markdown/Latex in the cell below.<br>\n",
        "Visualise the loss, as before."
      ],
      "metadata": {
        "id": "CHqzF1OU0pBg"
      }
    },
    {
      "cell_type": "markdown",
      "source": [
        "## Model Definition\n",
        "\n",
        "Using TensorFlow, we build a model with the following definition:\n",
        "> Input of shape 5 \\\\\n",
        "> Dense of shape 10 \\\\\n",
        "> Dense of shape 5 \\\\\n",
        "> Dense of shape 1 \\\\\n",
        "\n",
        "\n"
      ],
      "metadata": {
        "id": "jF8oTUqq0y0g"
      }
    },
    {
      "cell_type": "code",
      "source": [
        "model_custom = keras.Sequential([\n",
        "      keras.layers.Dense(64,input_dim=5,activation='relu'),\n",
        "      keras.layers.Dense(10,activation='relu'),\n",
        "      keras.layers.Dense(5,activation='relu'),\n",
        "      keras.layers.Dense(1)\n",
        "])\n",
        "model_custom.compile(\n",
        "       optimizer=tf.optimizers.Adam(learning_rate=0.01),\n",
        "       loss='mean_absolute_error')\n",
        "\n",
        "history_custom =model_custom.fit(\n",
        "    X_train,y_train,\n",
        "    validation_split=0.2,\n",
        "    verbose=2, epochs=50)"
      ],
      "metadata": {
        "id": "1XOk5hJu0oSQ",
        "colab": {
          "base_uri": "https://localhost:8080/"
        },
        "outputId": "abd92243-ac04-435c-8bdf-e91eb91b5540"
      },
      "execution_count": 6,
      "outputs": [
        {
          "output_type": "stream",
          "name": "stdout",
          "text": [
            "Epoch 1/50\n",
            "2/2 - 1s - loss: 89.0492 - val_loss: 72.4353 - 510ms/epoch - 255ms/step\n",
            "Epoch 2/50\n",
            "2/2 - 0s - loss: 88.9961 - val_loss: 72.3915 - 28ms/epoch - 14ms/step\n",
            "Epoch 3/50\n",
            "2/2 - 0s - loss: 88.9342 - val_loss: 72.3249 - 31ms/epoch - 15ms/step\n",
            "Epoch 4/50\n",
            "2/2 - 0s - loss: 88.8386 - val_loss: 72.2357 - 29ms/epoch - 15ms/step\n",
            "Epoch 5/50\n",
            "2/2 - 0s - loss: 88.7244 - val_loss: 72.0923 - 37ms/epoch - 18ms/step\n",
            "Epoch 6/50\n",
            "2/2 - 0s - loss: 88.5514 - val_loss: 71.8858 - 29ms/epoch - 15ms/step\n",
            "Epoch 7/50\n",
            "2/2 - 0s - loss: 88.3223 - val_loss: 71.6217 - 34ms/epoch - 17ms/step\n",
            "Epoch 8/50\n",
            "2/2 - 0s - loss: 88.0034 - val_loss: 71.2775 - 28ms/epoch - 14ms/step\n",
            "Epoch 9/50\n",
            "2/2 - 0s - loss: 87.6009 - val_loss: 70.8109 - 30ms/epoch - 15ms/step\n",
            "Epoch 10/50\n",
            "2/2 - 0s - loss: 87.0725 - val_loss: 70.1842 - 48ms/epoch - 24ms/step\n",
            "Epoch 11/50\n",
            "2/2 - 0s - loss: 86.3905 - val_loss: 69.3185 - 52ms/epoch - 26ms/step\n",
            "Epoch 12/50\n",
            "2/2 - 0s - loss: 85.4039 - val_loss: 68.1954 - 33ms/epoch - 16ms/step\n",
            "Epoch 13/50\n",
            "2/2 - 0s - loss: 84.1677 - val_loss: 66.6920 - 32ms/epoch - 16ms/step\n",
            "Epoch 14/50\n",
            "2/2 - 0s - loss: 82.7292 - val_loss: 64.7825 - 32ms/epoch - 16ms/step\n",
            "Epoch 15/50\n",
            "2/2 - 0s - loss: 80.5907 - val_loss: 62.3355 - 39ms/epoch - 19ms/step\n",
            "Epoch 16/50\n",
            "2/2 - 0s - loss: 78.1990 - val_loss: 59.1920 - 35ms/epoch - 18ms/step\n",
            "Epoch 17/50\n",
            "2/2 - 0s - loss: 75.0768 - val_loss: 55.4474 - 34ms/epoch - 17ms/step\n",
            "Epoch 18/50\n",
            "2/2 - 0s - loss: 71.3627 - val_loss: 50.6927 - 31ms/epoch - 15ms/step\n",
            "Epoch 19/50\n",
            "2/2 - 0s - loss: 66.8556 - val_loss: 44.6874 - 31ms/epoch - 15ms/step\n",
            "Epoch 20/50\n",
            "2/2 - 0s - loss: 61.6566 - val_loss: 37.5492 - 30ms/epoch - 15ms/step\n",
            "Epoch 21/50\n",
            "2/2 - 0s - loss: 54.8343 - val_loss: 29.1315 - 29ms/epoch - 15ms/step\n",
            "Epoch 22/50\n",
            "2/2 - 0s - loss: 48.6005 - val_loss: 21.5592 - 33ms/epoch - 17ms/step\n",
            "Epoch 23/50\n",
            "2/2 - 0s - loss: 42.6774 - val_loss: 21.1291 - 39ms/epoch - 20ms/step\n",
            "Epoch 24/50\n",
            "2/2 - 0s - loss: 38.5919 - val_loss: 22.1444 - 35ms/epoch - 17ms/step\n",
            "Epoch 25/50\n",
            "2/2 - 0s - loss: 34.1969 - val_loss: 16.8988 - 34ms/epoch - 17ms/step\n",
            "Epoch 26/50\n",
            "2/2 - 0s - loss: 31.3573 - val_loss: 13.3422 - 33ms/epoch - 17ms/step\n",
            "Epoch 27/50\n",
            "2/2 - 0s - loss: 30.4255 - val_loss: 12.7891 - 32ms/epoch - 16ms/step\n",
            "Epoch 28/50\n",
            "2/2 - 0s - loss: 27.8242 - val_loss: 16.1496 - 30ms/epoch - 15ms/step\n",
            "Epoch 29/50\n",
            "2/2 - 0s - loss: 26.6174 - val_loss: 14.8195 - 32ms/epoch - 16ms/step\n",
            "Epoch 30/50\n",
            "2/2 - 0s - loss: 24.0104 - val_loss: 11.9511 - 35ms/epoch - 17ms/step\n",
            "Epoch 31/50\n",
            "2/2 - 0s - loss: 22.4564 - val_loss: 10.9306 - 33ms/epoch - 16ms/step\n",
            "Epoch 32/50\n",
            "2/2 - 0s - loss: 21.4864 - val_loss: 11.1063 - 35ms/epoch - 17ms/step\n",
            "Epoch 33/50\n",
            "2/2 - 0s - loss: 19.9040 - val_loss: 14.7020 - 33ms/epoch - 17ms/step\n",
            "Epoch 34/50\n",
            "2/2 - 0s - loss: 18.9373 - val_loss: 14.8762 - 45ms/epoch - 23ms/step\n",
            "Epoch 35/50\n",
            "2/2 - 0s - loss: 17.3748 - val_loss: 15.4515 - 37ms/epoch - 18ms/step\n",
            "Epoch 36/50\n",
            "2/2 - 0s - loss: 17.0755 - val_loss: 14.9476 - 35ms/epoch - 18ms/step\n",
            "Epoch 37/50\n",
            "2/2 - 0s - loss: 16.3216 - val_loss: 16.0265 - 35ms/epoch - 18ms/step\n",
            "Epoch 38/50\n",
            "2/2 - 0s - loss: 14.7887 - val_loss: 17.7548 - 35ms/epoch - 18ms/step\n",
            "Epoch 39/50\n",
            "2/2 - 0s - loss: 13.6326 - val_loss: 14.3966 - 29ms/epoch - 14ms/step\n",
            "Epoch 40/50\n",
            "2/2 - 0s - loss: 11.6922 - val_loss: 10.7096 - 28ms/epoch - 14ms/step\n",
            "Epoch 41/50\n",
            "2/2 - 0s - loss: 11.2651 - val_loss: 8.6769 - 30ms/epoch - 15ms/step\n",
            "Epoch 42/50\n",
            "2/2 - 0s - loss: 10.5125 - val_loss: 9.3475 - 29ms/epoch - 15ms/step\n",
            "Epoch 43/50\n",
            "2/2 - 0s - loss: 10.2731 - val_loss: 10.8408 - 36ms/epoch - 18ms/step\n",
            "Epoch 44/50\n",
            "2/2 - 0s - loss: 9.6179 - val_loss: 11.5482 - 27ms/epoch - 13ms/step\n",
            "Epoch 45/50\n",
            "2/2 - 0s - loss: 9.0791 - val_loss: 12.2410 - 28ms/epoch - 14ms/step\n",
            "Epoch 46/50\n",
            "2/2 - 0s - loss: 8.8414 - val_loss: 12.5561 - 34ms/epoch - 17ms/step\n",
            "Epoch 47/50\n",
            "2/2 - 0s - loss: 8.3035 - val_loss: 10.8307 - 30ms/epoch - 15ms/step\n",
            "Epoch 48/50\n",
            "2/2 - 0s - loss: 8.1131 - val_loss: 9.4068 - 29ms/epoch - 14ms/step\n",
            "Epoch 49/50\n",
            "2/2 - 0s - loss: 7.7283 - val_loss: 9.1862 - 35ms/epoch - 17ms/step\n",
            "Epoch 50/50\n",
            "2/2 - 0s - loss: 7.4314 - val_loss: 9.4202 - 31ms/epoch - 15ms/step\n"
          ]
        }
      ]
    },
    {
      "cell_type": "code",
      "source": [
        "plt.plot(history.history['loss'], label='loss')\n",
        "plt.plot(history.history['val_loss'], label='val_loss')"
      ],
      "metadata": {
        "id": "aS0ROZa402Lo",
        "colab": {
          "base_uri": "https://localhost:8080/",
          "height": 282
        },
        "outputId": "07d47dfc-a16b-4030-987e-b8e031fd20f1"
      },
      "execution_count": 10,
      "outputs": [
        {
          "output_type": "execute_result",
          "data": {
            "text/plain": [
              "[<matplotlib.lines.Line2D at 0x7f912e0b7350>]"
            ]
          },
          "metadata": {},
          "execution_count": 10
        },
        {
          "output_type": "display_data",
          "data": {
            "text/plain": [
              "<Figure size 432x288 with 1 Axes>"
            ],
            "image/png": "[encoded data removed]"
          },
          "metadata": {
            "needs_background": "light"
          }
        }
      ]
    },
    {
      "cell_type": "code",
      "source": [
        "predictions_custom = model_custom.predict(X_test)\n",
        "r2_score(y_test,predictions_custom.flatten())"
      ],
      "metadata": {
        "colab": {
          "base_uri": "https://localhost:8080/"
        },
        "id": "ocscC_kQjYlf",
        "outputId": "2fc8af96-f72f-49ec-c3b8-f541c7734a13"
      },
      "execution_count": 8,
      "outputs": [
        {
          "output_type": "execute_result",
          "data": {
            "text/plain": [
              "0.9775394903631225"
            ]
          },
          "metadata": {},
          "execution_count": 8
        }
      ]
    }
  ]
}