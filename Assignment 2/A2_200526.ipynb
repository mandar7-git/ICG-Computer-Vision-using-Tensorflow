{
  "nbformat": 4,
  "nbformat_minor": 0,
  "metadata": {
    "colab": {
      "name": "A2_200526.ipynb",
      "provenance": [],
      "collapsed_sections": []
    },
    "kernelspec": {
      "name": "python3",
      "display_name": "Python 3"
    },
    "language_info": {
      "name": "python"
    }
  },
  "cells": [
    {
      "cell_type": "markdown",
      "source": [
        "# Assigment 2: Deep Learning"
      ],
      "metadata": {
        "id": "UxcaEbrCy1g_"
      }
    },
    {
      "cell_type": "markdown",
      "source": [
        "## Generate Dataset\n",
        "\n",
        "This is the same code from Assignment 1"
      ],
      "metadata": {
        "id": "h2JON-_Oy79w"
      }
    },
    {
      "cell_type": "code",
      "execution_count": 326,
      "metadata": {
        "id": "hgpG3WDuypfa"
      },
      "outputs": [],
      "source": [
        "from sklearn import datasets\n",
        "from sklearn.model_selection import train_test_split\n",
        "\n",
        "# Generate the data\n",
        "X, y = datasets.make_regression(n_samples=100, n_features=5, noise=5, random_state=4)\n",
        "\n",
        "# Split the data\n",
        "X_train, X_test, y_train, y_test = train_test_split(X, y, test_size=0.2, random_state=1234)\n",
        "X_train, X_val, y_train, y_val = train_test_split(X_train, y_train, test_size=0.2, random_state=1)"
      ]
    },
    {
      "cell_type": "code",
      "source": [
        "print(X.shape) #number of features is 5"
      ],
      "metadata": {
        "colab": {
          "base_uri": "https://localhost:8080/"
        },
        "id": "SOSJpwAabA9J",
        "outputId": "866c68e7-d110-4f54-c22b-1da61537cdec"
      },
      "execution_count": 327,
      "outputs": [
        {
          "output_type": "stream",
          "name": "stdout",
          "text": [
            "(100, 5)\n"
          ]
        }
      ]
    },
    {
      "cell_type": "markdown",
      "source": [
        "## Visualize Dataset\n",
        "This is the same code from Assignment 1"
      ],
      "metadata": {
        "id": "r6it-Rm7zD1Y"
      }
    },
    {
      "cell_type": "code",
      "source": [
        "import matplotlib.pyplot as plt\n",
        "\n",
        "plt.scatter(X[:,0],y)\n",
        "# Your code here"
      ],
      "metadata": {
        "id": "UautPVj1yzaQ",
        "colab": {
          "base_uri": "https://localhost:8080/",
          "height": 282
        },
        "outputId": "01748ffa-4466-42dd-d54e-3b9f2e66869f"
      },
      "execution_count": 328,
      "outputs": [
        {
          "output_type": "execute_result",
          "data": {
            "text/plain": [
              "<matplotlib.collections.PathCollection at 0x7fc1928f2ed0>"
            ]
          },
          "metadata": {},
          "execution_count": 328
        },
        {
          "output_type": "display_data",
          "data": {
            "text/plain": [
              "<Figure size 432x288 with 1 Axes>"
            ],
            "image/png": "[encoded data removed]"
          },
          "metadata": {
            "needs_background": "light"
          }
        }
      ]
    },
    {
      "cell_type": "code",
      "source": [
        "plt.scatter(X[:,1],y)"
      ],
      "metadata": {
        "colab": {
          "base_uri": "https://localhost:8080/",
          "height": 282
        },
        "id": "WdyGSSEpbMIR",
        "outputId": "2cf386fa-0540-430b-9cb3-74bea493e39d"
      },
      "execution_count": 329,
      "outputs": [
        {
          "output_type": "execute_result",
          "data": {
            "text/plain": [
              "<matplotlib.collections.PathCollection at 0x7fc18c43e950>"
            ]
          },
          "metadata": {},
          "execution_count": 329
        },
        {
          "output_type": "display_data",
          "data": {
            "text/plain": [
              "<Figure size 432x288 with 1 Axes>"
            ],
            "image/png": "[encoded data removed]"
          },
          "metadata": {
            "needs_background": "light"
          }
        }
      ]
    },
    {
      "cell_type": "code",
      "source": [
        "plt.scatter(X[:,2],y)"
      ],
      "metadata": {
        "colab": {
          "base_uri": "https://localhost:8080/",
          "height": 282
        },
        "id": "ouoayZD4bgLJ",
        "outputId": "cffbf6f1-b502-45a2-b8a8-835300fdc766"
      },
      "execution_count": 330,
      "outputs": [
        {
          "output_type": "execute_result",
          "data": {
            "text/plain": [
              "<matplotlib.collections.PathCollection at 0x7fc19234de90>"
            ]
          },
          "metadata": {},
          "execution_count": 330
        },
        {
          "output_type": "display_data",
          "data": {
            "text/plain": [
              "<Figure size 432x288 with 1 Axes>"
            ],
            "image/png": "[encoded data removed]"
          },
          "metadata": {
            "needs_background": "light"
          }
        }
      ]
    },
    {
      "cell_type": "code",
      "source": [
        "plt.scatter(X[:,3],y)"
      ],
      "metadata": {
        "colab": {
          "base_uri": "https://localhost:8080/",
          "height": 282
        },
        "id": "4WPNA75wbog5",
        "outputId": "b3649931-f647-4562-a35b-48ec9d29b6bd"
      },
      "execution_count": 331,
      "outputs": [
        {
          "output_type": "execute_result",
          "data": {
            "text/plain": [
              "<matplotlib.collections.PathCollection at 0x7fc18c478910>"
            ]
          },
          "metadata": {},
          "execution_count": 331
        },
        {
          "output_type": "display_data",
          "data": {
            "text/plain": [
              "<Figure size 432x288 with 1 Axes>"
            ],
            "image/png": "[encoded data removed]"
          },
          "metadata": {
            "needs_background": "light"
          }
        }
      ]
    },
    {
      "cell_type": "code",
      "source": [
        "plt.scatter(X[:,4],y)"
      ],
      "metadata": {
        "colab": {
          "base_uri": "https://localhost:8080/",
          "height": 282
        },
        "id": "ecqgLsivbt-h",
        "outputId": "09163c19-10e7-45ab-db24-2d5f04f13d33"
      },
      "execution_count": 332,
      "outputs": [
        {
          "output_type": "execute_result",
          "data": {
            "text/plain": [
              "<matplotlib.collections.PathCollection at 0x7fc1920fbe50>"
            ]
          },
          "metadata": {},
          "execution_count": 332
        },
        {
          "output_type": "display_data",
          "data": {
            "text/plain": [
              "<Figure size 432x288 with 1 Axes>"
            ],
            "image/png": "[encoded data removed]"
          },
          "metadata": {
            "needs_background": "light"
          }
        }
      ]
    },
    {
      "cell_type": "markdown",
      "source": [
        "## Model Definition\n",
        "\n",
        "Using TensorFlow, build a model with the following definition:\n",
        "> Input of shape 5 \\\\\n",
        "> Dense of shape 5 \\\\\n",
        "> Dense of shape 5 \\\\\n",
        "> Dense of shape 1 \\\\\n",
        "\n",
        "Use Mean Square Error Loss and Stochaistic Gradient Descent (SGD) Optimizer\n",
        "\n",
        "Use Gradient Decay with appropriate parameters"
      ],
      "metadata": {
        "id": "XMXb9lTyzGHE"
      }
    },
    {
      "cell_type": "code",
      "source": [
        "import tensorflow as tf\n",
        "\n",
        "# importing the sequential model\n",
        "# A Sequential model is appropriate for a plain stack of layers where each layer has exactly one input tensor and one output tensor.\n",
        "from tensorflow.keras import Sequential\n",
        "from tensorflow.keras import Model\n",
        "from tensorflow.keras.layers import Dense\n",
        "\n",
        "# importing the sequential model and adding dense layers\n",
        "model = Sequential()\n",
        "\n",
        "# kernel_regularizer: Regularizer to apply a penalty on the layer's kernel\n",
        "# Regularization basically adds the penalty as model complexity increases.\n",
        "# Regularization parameter (lambda) penalizes all the parameters except intercept so that model generalizes the data and won’t overfit\n",
        "model.add(Dense(5, activation='relu', input_shape=(5,),  kernel_regularizer=tf.keras.regularizers.l1_l2(l1=0.1, l2=0.01)))#Adding regularization\n",
        "model.add(Dense(5, activation='relu',  kernel_regularizer=tf.keras.regularizers.l1_l2(l1=0.1, l2=0.01)))#Adding regularization\n",
        "model.add(Dense(1,  kernel_regularizer=tf.keras.regularizers.l1_l2(l1=0.1, l2=0.01)))\n",
        "\n",
        "# Summary of our model\n",
        "model.summary()\n",
        "# class SGD: Gradient descent (with momentum) optimizer.\n",
        "opt = tf.keras.optimizers.SGD(learning_rate=0.001) #Used Stochastic gradient descent with a learning rate of 0.001\n",
        "# List of metrics to be evaluated by the model during training and testing. \n",
        "# Each of this can be a string (name of a built-in function), function or a tf.keras.metrics.\n",
        "model.compile(optimizer=opt,\n",
        "                loss='mse',\n",
        "                metrics=['mse'])\n",
        "\n",
        "#Keras provides the capability to register callbacks when training a deep learning model.\n",
        "#One of the default callbacks that is registered when training all deep learning models is the History callback. \n",
        "#It records training metrics for each epoch. This includes the loss and the accuracy (for classification problems) as well as the loss and accuracy for the validation dataset, if one is set.\n",
        "#The history object is returned from calls to the fit() function used to train the model. Metrics are stored in a dictionary in the history member of the object returned\n",
        "# We now fit our model\n",
        "history = model.fit(X_train, y_train, epochs=100, validation_data=(X_val, y_val),shuffle=True)\n",
        "\n",
        "# Calculating loss and Mean Squared Error\n",
        "loss,mse = model.evaluate(X_test, y_test, verbose=1)\n",
        "print('MSE: %.3f' % mse)\n"
      ],
      "metadata": {
        "id": "r32N1xK2ziOs",
        "colab": {
          "base_uri": "https://localhost:8080/"
        },
        "outputId": "d4858654-c749-4d05-f2a0-f59140e5ebee"
      },
      "execution_count": 333,
      "outputs": [
        {
          "output_type": "stream",
          "name": "stdout",
          "text": [
            "Model: \"sequential_72\"\n",
            "_________________________________________________________________\n",
            " Layer (type)                Output Shape              Param #   \n",
            "=================================================================\n",
            " dense_276 (Dense)           (None, 5)                 30        \n",
            "                                                                 \n",
            " dense_277 (Dense)           (None, 5)                 30        \n",
            "                                                                 \n",
            " dense_278 (Dense)           (None, 1)                 6         \n",
            "                                                                 \n",
            "=================================================================\n",
            "Total params: 66\n",
            "Trainable params: 66\n",
            "Non-trainable params: 0\n",
            "_________________________________________________________________\n",
            "Epoch 1/100\n",
            "2/2 [==============================] - 1s 211ms/step - loss: 11418.4863 - mse: 11416.1514 - val_loss: 11797.5723 - val_mse: 11795.2266\n",
            "Epoch 2/100\n",
            "2/2 [==============================] - 0s 34ms/step - loss: 11381.4902 - mse: 11379.1396 - val_loss: 11764.4346 - val_mse: 11762.0537\n",
            "Epoch 3/100\n",
            "2/2 [==============================] - 0s 40ms/step - loss: 11319.5342 - mse: 11317.1299 - val_loss: 11701.9160 - val_mse: 11699.4424\n",
            "Epoch 4/100\n",
            "2/2 [==============================] - 0s 38ms/step - loss: 11193.3789 - mse: 11190.8477 - val_loss: 11538.7178 - val_mse: 11536.0410\n",
            "Epoch 5/100\n",
            "2/2 [==============================] - 0s 37ms/step - loss: 10837.9756 - mse: 10835.2168 - val_loss: 11054.7256 - val_mse: 11051.6855\n",
            "Epoch 6/100\n",
            "2/2 [==============================] - 0s 39ms/step - loss: 9768.2500 - mse: 9765.0059 - val_loss: 9452.3984 - val_mse: 9448.6250\n",
            "Epoch 7/100\n",
            "2/2 [==============================] - 0s 46ms/step - loss: 7204.6885 - mse: 7200.7031 - val_loss: 7531.0308 - val_mse: 7526.3203\n",
            "Epoch 8/100\n",
            "2/2 [==============================] - 0s 35ms/step - loss: 6138.2852 - mse: 6133.5791 - val_loss: 7015.1108 - val_mse: 7010.1724\n",
            "Epoch 9/100\n",
            "2/2 [==============================] - 0s 33ms/step - loss: 5675.4155 - mse: 5670.4131 - val_loss: 6443.2871 - val_mse: 6437.9004\n",
            "Epoch 10/100\n",
            "2/2 [==============================] - 0s 30ms/step - loss: 4924.8374 - mse: 4919.3262 - val_loss: 4873.3057 - val_mse: 4867.3457\n",
            "Epoch 11/100\n",
            "2/2 [==============================] - 0s 31ms/step - loss: 2901.7639 - mse: 2895.6304 - val_loss: 1563.1340 - val_mse: 1556.4912\n",
            "Epoch 12/100\n",
            "2/2 [==============================] - 0s 33ms/step - loss: 1196.4558 - mse: 1189.7477 - val_loss: 2004.8619 - val_mse: 1998.1603\n",
            "Epoch 13/100\n",
            "2/2 [==============================] - 0s 54ms/step - loss: 1184.0326 - mse: 1177.4739 - val_loss: 430.9583 - val_mse: 423.9537\n",
            "Epoch 14/100\n",
            "2/2 [==============================] - 0s 32ms/step - loss: 455.3690 - mse: 448.5584 - val_loss: 456.4833 - val_mse: 449.7288\n",
            "Epoch 15/100\n",
            "2/2 [==============================] - 0s 32ms/step - loss: 250.1012 - mse: 243.2438 - val_loss: 248.5868 - val_mse: 241.4736\n",
            "Epoch 16/100\n",
            "2/2 [==============================] - 0s 33ms/step - loss: 393.8589 - mse: 386.7563 - val_loss: 433.7584 - val_mse: 426.7287\n",
            "Epoch 17/100\n",
            "2/2 [==============================] - 0s 36ms/step - loss: 395.0141 - mse: 388.0737 - val_loss: 201.4567 - val_mse: 194.3307\n",
            "Epoch 18/100\n",
            "2/2 [==============================] - 0s 36ms/step - loss: 169.5228 - mse: 162.4305 - val_loss: 237.4022 - val_mse: 230.0564\n",
            "Epoch 19/100\n",
            "2/2 [==============================] - 0s 44ms/step - loss: 384.4366 - mse: 377.2687 - val_loss: 251.0471 - val_mse: 243.8818\n",
            "Epoch 20/100\n",
            "2/2 [==============================] - 0s 34ms/step - loss: 251.6811 - mse: 244.5088 - val_loss: 234.2657 - val_mse: 227.0899\n",
            "Epoch 21/100\n",
            "2/2 [==============================] - 0s 32ms/step - loss: 193.9461 - mse: 186.7588 - val_loss: 193.9609 - val_mse: 186.6841\n",
            "Epoch 22/100\n",
            "2/2 [==============================] - 0s 32ms/step - loss: 168.8264 - mse: 161.6039 - val_loss: 131.7841 - val_mse: 124.4096\n",
            "Epoch 23/100\n",
            "2/2 [==============================] - 0s 36ms/step - loss: 112.2750 - mse: 104.9716 - val_loss: 123.3595 - val_mse: 116.0363\n",
            "Epoch 24/100\n",
            "2/2 [==============================] - 0s 36ms/step - loss: 83.0071 - mse: 75.6768 - val_loss: 156.8059 - val_mse: 149.4582\n",
            "Epoch 25/100\n",
            "2/2 [==============================] - 0s 27ms/step - loss: 148.3252 - mse: 140.9865 - val_loss: 239.3540 - val_mse: 231.9943\n",
            "Epoch 26/100\n",
            "2/2 [==============================] - 0s 31ms/step - loss: 132.0273 - mse: 124.6787 - val_loss: 108.1199 - val_mse: 100.6524\n",
            "Epoch 27/100\n",
            "2/2 [==============================] - 0s 31ms/step - loss: 107.8259 - mse: 100.4620 - val_loss: 103.5099 - val_mse: 96.1465\n",
            "Epoch 28/100\n",
            "2/2 [==============================] - 0s 35ms/step - loss: 76.6895 - mse: 69.2890 - val_loss: 131.4632 - val_mse: 124.0220\n",
            "Epoch 29/100\n",
            "2/2 [==============================] - 0s 28ms/step - loss: 71.6960 - mse: 64.2655 - val_loss: 74.7270 - val_mse: 67.2968\n",
            "Epoch 30/100\n",
            "2/2 [==============================] - 0s 26ms/step - loss: 52.5191 - mse: 45.0612 - val_loss: 89.9648 - val_mse: 82.5851\n",
            "Epoch 31/100\n",
            "2/2 [==============================] - 0s 26ms/step - loss: 47.8982 - mse: 40.4946 - val_loss: 85.8010 - val_mse: 78.2462\n",
            "Epoch 32/100\n",
            "2/2 [==============================] - 0s 28ms/step - loss: 153.8491 - mse: 146.4391 - val_loss: 139.7235 - val_mse: 132.0751\n",
            "Epoch 33/100\n",
            "2/2 [==============================] - 0s 30ms/step - loss: 157.7070 - mse: 150.2432 - val_loss: 102.4448 - val_mse: 94.8822\n",
            "Epoch 34/100\n",
            "2/2 [==============================] - 0s 32ms/step - loss: 61.2996 - mse: 53.8088 - val_loss: 64.4295 - val_mse: 56.8676\n",
            "Epoch 35/100\n",
            "2/2 [==============================] - 0s 32ms/step - loss: 81.1720 - mse: 73.6843 - val_loss: 71.4335 - val_mse: 63.7964\n",
            "Epoch 36/100\n",
            "2/2 [==============================] - 0s 32ms/step - loss: 65.1870 - mse: 57.6479 - val_loss: 53.2543 - val_mse: 45.6642\n",
            "Epoch 37/100\n",
            "2/2 [==============================] - 0s 32ms/step - loss: 68.4078 - mse: 60.8808 - val_loss: 59.5791 - val_mse: 52.0222\n",
            "Epoch 38/100\n",
            "2/2 [==============================] - 0s 34ms/step - loss: 146.7515 - mse: 139.2625 - val_loss: 64.9574 - val_mse: 57.4160\n",
            "Epoch 39/100\n",
            "2/2 [==============================] - 0s 35ms/step - loss: 74.6466 - mse: 67.1569 - val_loss: 52.7702 - val_mse: 45.1745\n",
            "Epoch 40/100\n",
            "2/2 [==============================] - 0s 36ms/step - loss: 113.0724 - mse: 105.5825 - val_loss: 43.5594 - val_mse: 35.9724\n",
            "Epoch 41/100\n",
            "2/2 [==============================] - 0s 32ms/step - loss: 40.0991 - mse: 32.5448 - val_loss: 40.5156 - val_mse: 32.9414\n",
            "Epoch 42/100\n",
            "2/2 [==============================] - 0s 31ms/step - loss: 31.6662 - mse: 24.1127 - val_loss: 42.3432 - val_mse: 34.7874\n",
            "Epoch 43/100\n",
            "2/2 [==============================] - 0s 35ms/step - loss: 30.1720 - mse: 22.6122 - val_loss: 37.1321 - val_mse: 29.5690\n",
            "Epoch 44/100\n",
            "2/2 [==============================] - 0s 33ms/step - loss: 30.1532 - mse: 22.5930 - val_loss: 41.0939 - val_mse: 33.5480\n",
            "Epoch 45/100\n",
            "2/2 [==============================] - 0s 36ms/step - loss: 30.3057 - mse: 22.7432 - val_loss: 36.4672 - val_mse: 28.8865\n",
            "Epoch 46/100\n",
            "2/2 [==============================] - 0s 32ms/step - loss: 33.3887 - mse: 25.8263 - val_loss: 37.3118 - val_mse: 29.7569\n",
            "Epoch 47/100\n",
            "2/2 [==============================] - 0s 32ms/step - loss: 29.5319 - mse: 21.9649 - val_loss: 32.6861 - val_mse: 25.0888\n",
            "Epoch 48/100\n",
            "2/2 [==============================] - 0s 31ms/step - loss: 46.6220 - mse: 39.0535 - val_loss: 70.5584 - val_mse: 62.9615\n",
            "Epoch 49/100\n",
            "2/2 [==============================] - 0s 35ms/step - loss: 82.8841 - mse: 75.2802 - val_loss: 128.8168 - val_mse: 121.2854\n",
            "Epoch 50/100\n",
            "2/2 [==============================] - 0s 45ms/step - loss: 104.0572 - mse: 96.4923 - val_loss: 68.8889 - val_mse: 61.3232\n",
            "Epoch 51/100\n",
            "2/2 [==============================] - 0s 32ms/step - loss: 59.8425 - mse: 52.3165 - val_loss: 47.0151 - val_mse: 39.4877\n",
            "Epoch 52/100\n",
            "2/2 [==============================] - 0s 33ms/step - loss: 39.9653 - mse: 32.4390 - val_loss: 34.6718 - val_mse: 27.0581\n",
            "Epoch 53/100\n",
            "2/2 [==============================] - 0s 39ms/step - loss: 43.9435 - mse: 36.3786 - val_loss: 43.3251 - val_mse: 35.7609\n",
            "Epoch 54/100\n",
            "2/2 [==============================] - 0s 40ms/step - loss: 46.1566 - mse: 38.5965 - val_loss: 54.2583 - val_mse: 46.6594\n",
            "Epoch 55/100\n",
            "2/2 [==============================] - 0s 39ms/step - loss: 42.6750 - mse: 35.1058 - val_loss: 41.3832 - val_mse: 33.7114\n",
            "Epoch 56/100\n",
            "2/2 [==============================] - 0s 31ms/step - loss: 44.8004 - mse: 37.2117 - val_loss: 38.7683 - val_mse: 31.1309\n",
            "Epoch 57/100\n",
            "2/2 [==============================] - 0s 35ms/step - loss: 69.2213 - mse: 61.6679 - val_loss: 54.0625 - val_mse: 46.4088\n",
            "Epoch 58/100\n",
            "2/2 [==============================] - 0s 35ms/step - loss: 75.9660 - mse: 68.3876 - val_loss: 60.2315 - val_mse: 52.5822\n",
            "Epoch 59/100\n",
            "2/2 [==============================] - 0s 32ms/step - loss: 82.0860 - mse: 74.5173 - val_loss: 45.2825 - val_mse: 37.6803\n",
            "Epoch 60/100\n",
            "2/2 [==============================] - 0s 35ms/step - loss: 77.4835 - mse: 69.9139 - val_loss: 56.7821 - val_mse: 49.1930\n",
            "Epoch 61/100\n",
            "2/2 [==============================] - 0s 34ms/step - loss: 81.4854 - mse: 73.8773 - val_loss: 59.6619 - val_mse: 52.1175\n",
            "Epoch 62/100\n",
            "2/2 [==============================] - 0s 33ms/step - loss: 108.6703 - mse: 101.0378 - val_loss: 39.9155 - val_mse: 32.2588\n",
            "Epoch 63/100\n",
            "2/2 [==============================] - 0s 34ms/step - loss: 62.6364 - mse: 55.0380 - val_loss: 52.9783 - val_mse: 45.4024\n",
            "Epoch 64/100\n",
            "2/2 [==============================] - 0s 32ms/step - loss: 63.7272 - mse: 56.1233 - val_loss: 45.7007 - val_mse: 38.0880\n",
            "Epoch 65/100\n",
            "2/2 [==============================] - 0s 39ms/step - loss: 62.2037 - mse: 54.6596 - val_loss: 54.3321 - val_mse: 46.7697\n",
            "Epoch 66/100\n",
            "2/2 [==============================] - 0s 30ms/step - loss: 32.8145 - mse: 25.2191 - val_loss: 37.8027 - val_mse: 30.2405\n",
            "Epoch 67/100\n",
            "2/2 [==============================] - 0s 34ms/step - loss: 33.8898 - mse: 26.2878 - val_loss: 31.8859 - val_mse: 24.3023\n",
            "Epoch 68/100\n",
            "2/2 [==============================] - 0s 32ms/step - loss: 26.9789 - mse: 19.3832 - val_loss: 28.1524 - val_mse: 20.5452\n",
            "Epoch 69/100\n",
            "2/2 [==============================] - 0s 29ms/step - loss: 27.4114 - mse: 19.8042 - val_loss: 42.9619 - val_mse: 35.3707\n",
            "Epoch 70/100\n",
            "2/2 [==============================] - 0s 29ms/step - loss: 28.1043 - mse: 20.5205 - val_loss: 35.2185 - val_mse: 27.5589\n",
            "Epoch 71/100\n",
            "2/2 [==============================] - 0s 36ms/step - loss: 63.9012 - mse: 56.3251 - val_loss: 44.2676 - val_mse: 36.6617\n",
            "Epoch 72/100\n",
            "2/2 [==============================] - 0s 30ms/step - loss: 34.4411 - mse: 26.8566 - val_loss: 29.6403 - val_mse: 22.0000\n",
            "Epoch 73/100\n",
            "2/2 [==============================] - 0s 28ms/step - loss: 34.7937 - mse: 27.2050 - val_loss: 31.5925 - val_mse: 23.9953\n",
            "Epoch 74/100\n",
            "2/2 [==============================] - 0s 27ms/step - loss: 30.6936 - mse: 23.0804 - val_loss: 59.2940 - val_mse: 51.7485\n",
            "Epoch 75/100\n",
            "2/2 [==============================] - 0s 28ms/step - loss: 30.0784 - mse: 22.5103 - val_loss: 34.3947 - val_mse: 26.7787\n",
            "Epoch 76/100\n",
            "2/2 [==============================] - 0s 29ms/step - loss: 31.8078 - mse: 24.1901 - val_loss: 40.0238 - val_mse: 32.4429\n",
            "Epoch 77/100\n",
            "2/2 [==============================] - 0s 32ms/step - loss: 28.7635 - mse: 21.1724 - val_loss: 32.0424 - val_mse: 24.4303\n",
            "Epoch 78/100\n",
            "2/2 [==============================] - 0s 31ms/step - loss: 25.8770 - mse: 18.2752 - val_loss: 26.6314 - val_mse: 19.0009\n",
            "Epoch 79/100\n",
            "2/2 [==============================] - 0s 44ms/step - loss: 26.9749 - mse: 19.3637 - val_loss: 32.3271 - val_mse: 24.7357\n",
            "Epoch 80/100\n",
            "2/2 [==============================] - 0s 30ms/step - loss: 37.2566 - mse: 29.6363 - val_loss: 75.8318 - val_mse: 68.2977\n",
            "Epoch 81/100\n",
            "2/2 [==============================] - 0s 26ms/step - loss: 33.9857 - mse: 26.4096 - val_loss: 28.4239 - val_mse: 20.8185\n",
            "Epoch 82/100\n",
            "2/2 [==============================] - 0s 27ms/step - loss: 29.9180 - mse: 22.3235 - val_loss: 42.6667 - val_mse: 34.9937\n",
            "Epoch 83/100\n",
            "2/2 [==============================] - 0s 27ms/step - loss: 46.6476 - mse: 39.0387 - val_loss: 36.6959 - val_mse: 29.0672\n",
            "Epoch 84/100\n",
            "2/2 [==============================] - 0s 32ms/step - loss: 30.1005 - mse: 22.4753 - val_loss: 38.1164 - val_mse: 30.5389\n",
            "Epoch 85/100\n",
            "2/2 [==============================] - 0s 31ms/step - loss: 29.7866 - mse: 22.1713 - val_loss: 33.4295 - val_mse: 25.8379\n",
            "Epoch 86/100\n",
            "2/2 [==============================] - 0s 28ms/step - loss: 33.0483 - mse: 25.4297 - val_loss: 32.7919 - val_mse: 25.1627\n",
            "Epoch 87/100\n",
            "2/2 [==============================] - 0s 26ms/step - loss: 50.3415 - mse: 42.7100 - val_loss: 29.4882 - val_mse: 21.8333\n",
            "Epoch 88/100\n",
            "2/2 [==============================] - 0s 36ms/step - loss: 40.8899 - mse: 33.2522 - val_loss: 29.2451 - val_mse: 21.6014\n",
            "Epoch 89/100\n",
            "2/2 [==============================] - 0s 27ms/step - loss: 36.7769 - mse: 29.1432 - val_loss: 34.9894 - val_mse: 27.3794\n",
            "Epoch 90/100\n",
            "2/2 [==============================] - 0s 26ms/step - loss: 32.2015 - mse: 24.5761 - val_loss: 35.8440 - val_mse: 28.2535\n",
            "Epoch 91/100\n",
            "2/2 [==============================] - 0s 30ms/step - loss: 27.4780 - mse: 19.8838 - val_loss: 33.7019 - val_mse: 26.0209\n",
            "Epoch 92/100\n",
            "2/2 [==============================] - 0s 34ms/step - loss: 43.7604 - mse: 36.1356 - val_loss: 53.3165 - val_mse: 45.6931\n",
            "Epoch 93/100\n",
            "2/2 [==============================] - 0s 28ms/step - loss: 32.9278 - mse: 25.3086 - val_loss: 38.9662 - val_mse: 31.3591\n",
            "Epoch 94/100\n",
            "2/2 [==============================] - 0s 29ms/step - loss: 27.7686 - mse: 20.1668 - val_loss: 34.6928 - val_mse: 27.0489\n",
            "Epoch 95/100\n",
            "2/2 [==============================] - 0s 39ms/step - loss: 27.8141 - mse: 20.1813 - val_loss: 37.5276 - val_mse: 29.9317\n",
            "Epoch 96/100\n",
            "2/2 [==============================] - 0s 30ms/step - loss: 29.9389 - mse: 22.3341 - val_loss: 37.2944 - val_mse: 29.6701\n",
            "Epoch 97/100\n",
            "2/2 [==============================] - 0s 31ms/step - loss: 26.4411 - mse: 18.8166 - val_loss: 32.3081 - val_mse: 24.6977\n",
            "Epoch 98/100\n",
            "2/2 [==============================] - 0s 29ms/step - loss: 27.2705 - mse: 19.6473 - val_loss: 31.9357 - val_mse: 24.3393\n",
            "Epoch 99/100\n",
            "2/2 [==============================] - 0s 26ms/step - loss: 26.6726 - mse: 19.0527 - val_loss: 30.4865 - val_mse: 22.8794\n",
            "Epoch 100/100\n",
            "2/2 [==============================] - 0s 30ms/step - loss: 25.9616 - mse: 18.3304 - val_loss: 40.2791 - val_mse: 32.6620\n",
            "1/1 [==============================] - 0s 24ms/step - loss: 53.4749 - mse: 45.8578\n",
            "MSE: 45.858\n"
          ]
        }
      ]
    },
    {
      "cell_type": "code",
      "source": [
        "# Predicted value of our model\n",
        "y_pred = model.predict(X_test)"
      ],
      "metadata": {
        "id": "A51XjIhquAsV"
      },
      "execution_count": 334,
      "outputs": []
    },
    {
      "cell_type": "markdown",
      "source": [
        "## Plot Loss\n",
        "\n",
        "Using matplotlib visualise how the loss (both validation and training) is changing, use this information to retrain the model with appropriate parameters.<br>We ideally want the loss to be constant over the last few iterations."
      ],
      "metadata": {
        "id": "jmeP6vt3z0oA"
      }
    },
    {
      "cell_type": "code",
      "source": [
        "plt.figure(figsize=(10,10))\n",
        "\n",
        "# list all data in history\n",
        "print(history.history.keys())\n",
        "\n",
        "loss_train = history.history['loss'] # training loss\n",
        "loss_val = history.history['val_loss'] # validation loss\n",
        "epochs = range(0,100) # since epochs=100\n",
        "\n",
        "#Plotting training loss  and validation against epochs\n",
        "plt.plot(epochs, loss_train, 'g', label='Training loss')\n",
        "plt.plot(epochs, loss_val, 'b', label='validation loss')\n",
        "\n",
        "plt.title('Training and Validation loss')\n",
        "plt.xlabel('Epochs')\n",
        "plt.ylabel('Loss')\n",
        "plt.legend()\n",
        "plt.show()"
      ],
      "metadata": {
        "id": "RQTNqPHm0mOi",
        "colab": {
          "base_uri": "https://localhost:8080/",
          "height": 638
        },
        "outputId": "0c611652-2606-4db1-ee6d-ce1b1488aa4f"
      },
      "execution_count": 335,
      "outputs": [
        {
          "output_type": "stream",
          "name": "stdout",
          "text": [
            "dict_keys(['loss', 'mse', 'val_loss', 'val_mse'])\n"
          ]
        },
        {
          "output_type": "display_data",
          "data": {
            "text/plain": [
              "<Figure size 720x720 with 1 Axes>"
            ],
            "image/png": "[encoded data removed]"
          },
          "metadata": {
            "needs_background": "light"
          }
        }
      ]
    },
    {
      "cell_type": "markdown",
      "source": [
        "## Evaluation Metrics\n",
        "Use the R2 Score function implemented in the first assignment to evaluate the performance of the model."
      ],
      "metadata": {
        "id": "IVrR_vXA7kOt"
      }
    },
    {
      "cell_type": "code",
      "source": [
        "import numpy as np\n",
        "def mean_squared_error(y_true, y_pred):\n",
        "        return np.mean(np.square(y_true - y_pred))\n",
        "\n",
        "from sklearn.metrics import r2_score\n",
        "\n",
        "mse = mean_squared_error(y_test, y_pred) # Pass appropriate parts of dataset\n",
        "print(\"MSE:\", mse)\n",
        "\n",
        "accu = r2_score(y_test, y_pred) # Pass appropriate parts of dataset\n",
        "print(\"Accuracy:\", accu)"
      ],
      "metadata": {
        "id": "-lOHpD8-7ggm",
        "colab": {
          "base_uri": "https://localhost:8080/"
        },
        "outputId": "a1255f81-5034-45f5-cd9c-ae3ff612af9c"
      },
      "execution_count": 336,
      "outputs": [
        {
          "output_type": "stream",
          "name": "stdout",
          "text": [
            "MSE: 20035.846584531457\n",
            "Accuracy: 0.9954914516463528\n"
          ]
        }
      ]
    },
    {
      "cell_type": "markdown",
      "source": [
        "## Your own custom model\n",
        "Build a custom model of your own choice.<br>\n",
        "Describe it in detail in Markdown/Latex in the cell below.<br>\n",
        "Visualise the loss, as before."
      ],
      "metadata": {
        "id": "CHqzF1OU0pBg"
      }
    },
    {
      "cell_type": "markdown",
      "source": [
        "# Custom model\n",
        "```\n",
        "Input of shape 5\n",
        "\n",
        "Dense of shape 5\n",
        "\n",
        "Dense of shape 6\n",
        "\n",
        "Dense of shape 7\n",
        "\n",
        "Dense of shape 8\n",
        "\n",
        "Dense of shape 9\n",
        "\n",
        "Dense of shape 1\n",
        "```"
      ],
      "metadata": {
        "id": "2zB5klv-9_ol"
      }
    },
    {
      "cell_type": "code",
      "source": [
        "from tensorflow.keras import layers\n",
        "from tensorflow import keras\n",
        "\n",
        "Model = keras.Sequential(\n",
        "    [\n",
        "        layers.Dense(5, activation=\"relu\",input_shape=(5,)),\n",
        "        layers.Dense(6, activation=\"relu\"),\n",
        "        layers.Dense(7, activation=\"relu\"),\n",
        "        layers.Dense(8, activation=\"relu\"),\n",
        "        layers.Dense(9, activation=\"relu\"),\n",
        "        layers.Dense(1),\n",
        "    ]\n",
        ")\n",
        "\n",
        "Model.summary()"
      ],
      "metadata": {
        "colab": {
          "base_uri": "https://localhost:8080/"
        },
        "id": "MVWK02bb_5tj",
        "outputId": "2fef530d-0d1f-4014-fe7d-257f2d4c84a8"
      },
      "execution_count": 337,
      "outputs": [
        {
          "output_type": "stream",
          "name": "stdout",
          "text": [
            "Model: \"sequential_73\"\n",
            "_________________________________________________________________\n",
            " Layer (type)                Output Shape              Param #   \n",
            "=================================================================\n",
            " dense_279 (Dense)           (None, 5)                 30        \n",
            "                                                                 \n",
            " dense_280 (Dense)           (None, 6)                 36        \n",
            "                                                                 \n",
            " dense_281 (Dense)           (None, 7)                 49        \n",
            "                                                                 \n",
            " dense_282 (Dense)           (None, 8)                 64        \n",
            "                                                                 \n",
            " dense_283 (Dense)           (None, 9)                 81        \n",
            "                                                                 \n",
            " dense_284 (Dense)           (None, 1)                 10        \n",
            "                                                                 \n",
            "=================================================================\n",
            "Total params: 270\n",
            "Trainable params: 270\n",
            "Non-trainable params: 0\n",
            "_________________________________________________________________\n"
          ]
        }
      ]
    },
    {
      "cell_type": "markdown",
      "source": [
        "Used **Adam optimizer** and **Mean Squared Error Loss**\n",
        "\n",
        "`learning_rate=0.005`"
      ],
      "metadata": {
        "id": "feWWXA3aHb8-"
      }
    },
    {
      "cell_type": "code",
      "source": [
        "opt = keras.optimizers.Adam(learning_rate=0.005)\n",
        "Model.compile(optimizer=opt,\n",
        "                loss='mse',\n",
        "                metrics=['mse'])"
      ],
      "metadata": {
        "id": "J1atOOeSCDt9"
      },
      "execution_count": 338,
      "outputs": []
    },
    {
      "cell_type": "markdown",
      "source": [
        "#Model Fitting\n",
        "\n",
        " Evaluating the Mean Squared Error and the loss "
      ],
      "metadata": {
        "id": "S31xCkUmIeph"
      }
    },
    {
      "cell_type": "code",
      "source": [
        "history = Model.fit(X_train, y_train, epochs=100, validation_data=(X_val, y_val),shuffle=True)\n",
        "\n",
        "# Calculating loss and Mean Squared Error\n",
        "loss,mse = Model.evaluate(X_test, y_test, verbose=1)\n",
        "print('MSE: %.3f' % mse)"
      ],
      "metadata": {
        "colab": {
          "base_uri": "https://localhost:8080/"
        },
        "id": "50ARzWD7BIQG",
        "outputId": "d1740b8e-b04a-46fd-854b-f27744cf0e5b"
      },
      "execution_count": 339,
      "outputs": [
        {
          "output_type": "stream",
          "name": "stdout",
          "text": [
            "Epoch 1/100\n",
            "2/2 [==============================] - 1s 159ms/step - loss: 11427.6221 - mse: 11427.6221 - val_loss: 11826.8066 - val_mse: 11826.8066\n",
            "Epoch 2/100\n",
            "2/2 [==============================] - 0s 27ms/step - loss: 11425.1660 - mse: 11425.1660 - val_loss: 11826.4512 - val_mse: 11826.4512\n",
            "Epoch 3/100\n",
            "2/2 [==============================] - 0s 38ms/step - loss: 11421.2070 - mse: 11421.2070 - val_loss: 11826.6904 - val_mse: 11826.6904\n",
            "Epoch 4/100\n",
            "2/2 [==============================] - 0s 35ms/step - loss: 11417.7715 - mse: 11417.7715 - val_loss: 11824.8057 - val_mse: 11824.8057\n",
            "Epoch 5/100\n",
            "2/2 [==============================] - 0s 35ms/step - loss: 11412.4922 - mse: 11412.4922 - val_loss: 11824.1260 - val_mse: 11824.1260\n",
            "Epoch 6/100\n",
            "2/2 [==============================] - 0s 34ms/step - loss: 11407.2559 - mse: 11407.2559 - val_loss: 11822.7324 - val_mse: 11822.7324\n",
            "Epoch 7/100\n",
            "2/2 [==============================] - 0s 35ms/step - loss: 11400.3027 - mse: 11400.3027 - val_loss: 11820.8984 - val_mse: 11820.8984\n",
            "Epoch 8/100\n",
            "2/2 [==============================] - 0s 32ms/step - loss: 11392.5713 - mse: 11392.5713 - val_loss: 11818.4502 - val_mse: 11818.4502\n",
            "Epoch 9/100\n",
            "2/2 [==============================] - 0s 33ms/step - loss: 11380.6875 - mse: 11380.6875 - val_loss: 11814.3408 - val_mse: 11814.3408\n",
            "Epoch 10/100\n",
            "2/2 [==============================] - 0s 38ms/step - loss: 11368.0615 - mse: 11368.0615 - val_loss: 11806.5146 - val_mse: 11806.5146\n",
            "Epoch 11/100\n",
            "2/2 [==============================] - 0s 34ms/step - loss: 11352.5352 - mse: 11352.5352 - val_loss: 11795.9229 - val_mse: 11795.9229\n",
            "Epoch 12/100\n",
            "2/2 [==============================] - 0s 34ms/step - loss: 11331.5576 - mse: 11331.5576 - val_loss: 11779.6836 - val_mse: 11779.6836\n",
            "Epoch 13/100\n",
            "2/2 [==============================] - 0s 41ms/step - loss: 11306.4258 - mse: 11306.4258 - val_loss: 11756.3340 - val_mse: 11756.3340\n",
            "Epoch 14/100\n",
            "2/2 [==============================] - 0s 34ms/step - loss: 11275.2588 - mse: 11275.2588 - val_loss: 11726.7891 - val_mse: 11726.7891\n",
            "Epoch 15/100\n",
            "2/2 [==============================] - 0s 33ms/step - loss: 11235.5869 - mse: 11235.5869 - val_loss: 11687.4688 - val_mse: 11687.4688\n",
            "Epoch 16/100\n",
            "2/2 [==============================] - 0s 41ms/step - loss: 11191.7637 - mse: 11191.7637 - val_loss: 11643.2041 - val_mse: 11643.2041\n",
            "Epoch 17/100\n",
            "2/2 [==============================] - 0s 30ms/step - loss: 11131.1006 - mse: 11131.1006 - val_loss: 11584.2568 - val_mse: 11584.2568\n",
            "Epoch 18/100\n",
            "2/2 [==============================] - 0s 33ms/step - loss: 11061.1982 - mse: 11061.1982 - val_loss: 11517.0957 - val_mse: 11517.0957\n",
            "Epoch 19/100\n",
            "2/2 [==============================] - 0s 34ms/step - loss: 10980.4180 - mse: 10980.4180 - val_loss: 11434.0840 - val_mse: 11434.0840\n",
            "Epoch 20/100\n",
            "2/2 [==============================] - 0s 30ms/step - loss: 10872.0918 - mse: 10872.0918 - val_loss: 11334.4277 - val_mse: 11334.4277\n",
            "Epoch 21/100\n",
            "2/2 [==============================] - 0s 26ms/step - loss: 10742.9365 - mse: 10742.9365 - val_loss: 11210.0312 - val_mse: 11210.0312\n",
            "Epoch 22/100\n",
            "2/2 [==============================] - 0s 32ms/step - loss: 10599.7979 - mse: 10599.7979 - val_loss: 11057.8154 - val_mse: 11057.8154\n",
            "Epoch 23/100\n",
            "2/2 [==============================] - 0s 30ms/step - loss: 10409.5566 - mse: 10409.5566 - val_loss: 10877.9336 - val_mse: 10877.9336\n",
            "Epoch 24/100\n",
            "2/2 [==============================] - 0s 28ms/step - loss: 10199.8418 - mse: 10199.8418 - val_loss: 10665.2266 - val_mse: 10665.2266\n",
            "Epoch 25/100\n",
            "2/2 [==============================] - 0s 27ms/step - loss: 9936.9229 - mse: 9936.9229 - val_loss: 10407.0322 - val_mse: 10407.0322\n",
            "Epoch 26/100\n",
            "2/2 [==============================] - 0s 30ms/step - loss: 9658.6787 - mse: 9658.6787 - val_loss: 10101.6191 - val_mse: 10101.6191\n",
            "Epoch 27/100\n",
            "2/2 [==============================] - 0s 38ms/step - loss: 9290.3643 - mse: 9290.3643 - val_loss: 9751.7842 - val_mse: 9751.7842\n",
            "Epoch 28/100\n",
            "2/2 [==============================] - 0s 31ms/step - loss: 8922.1719 - mse: 8922.1719 - val_loss: 9352.0322 - val_mse: 9352.0322\n",
            "Epoch 29/100\n",
            "2/2 [==============================] - 0s 34ms/step - loss: 8469.6445 - mse: 8469.6445 - val_loss: 8891.9775 - val_mse: 8891.9775\n",
            "Epoch 30/100\n",
            "2/2 [==============================] - 0s 32ms/step - loss: 7963.9814 - mse: 7963.9814 - val_loss: 8377.5244 - val_mse: 8377.5244\n",
            "Epoch 31/100\n",
            "2/2 [==============================] - 0s 34ms/step - loss: 7450.6709 - mse: 7450.6709 - val_loss: 7821.2070 - val_mse: 7821.2070\n",
            "Epoch 32/100\n",
            "2/2 [==============================] - 0s 29ms/step - loss: 6952.2651 - mse: 6952.2651 - val_loss: 7247.1602 - val_mse: 7247.1602\n",
            "Epoch 33/100\n",
            "2/2 [==============================] - 0s 31ms/step - loss: 6363.9619 - mse: 6363.9619 - val_loss: 6616.2236 - val_mse: 6616.2236\n",
            "Epoch 34/100\n",
            "2/2 [==============================] - 0s 40ms/step - loss: 5930.1753 - mse: 5930.1753 - val_loss: 5974.7832 - val_mse: 5974.7832\n",
            "Epoch 35/100\n",
            "2/2 [==============================] - 0s 38ms/step - loss: 5425.3872 - mse: 5425.3872 - val_loss: 5315.7134 - val_mse: 5315.7134\n",
            "Epoch 36/100\n",
            "2/2 [==============================] - 0s 58ms/step - loss: 5046.5732 - mse: 5046.5732 - val_loss: 4701.0107 - val_mse: 4701.0107\n",
            "Epoch 37/100\n",
            "2/2 [==============================] - 0s 35ms/step - loss: 4652.1777 - mse: 4652.1777 - val_loss: 4160.1240 - val_mse: 4160.1240\n",
            "Epoch 38/100\n",
            "2/2 [==============================] - 0s 35ms/step - loss: 4247.1016 - mse: 4247.1016 - val_loss: 3728.5425 - val_mse: 3728.5425\n",
            "Epoch 39/100\n",
            "2/2 [==============================] - 0s 33ms/step - loss: 3844.1511 - mse: 3844.1511 - val_loss: 3430.9639 - val_mse: 3430.9639\n",
            "Epoch 40/100\n",
            "2/2 [==============================] - 0s 34ms/step - loss: 3561.4614 - mse: 3561.4614 - val_loss: 3178.0229 - val_mse: 3178.0229\n",
            "Epoch 41/100\n",
            "2/2 [==============================] - 0s 38ms/step - loss: 3245.1211 - mse: 3245.1211 - val_loss: 2946.9412 - val_mse: 2946.9412\n",
            "Epoch 42/100\n",
            "2/2 [==============================] - 0s 27ms/step - loss: 2944.0000 - mse: 2944.0000 - val_loss: 2717.1165 - val_mse: 2717.1165\n",
            "Epoch 43/100\n",
            "2/2 [==============================] - 0s 29ms/step - loss: 2639.2734 - mse: 2639.2734 - val_loss: 2485.2793 - val_mse: 2485.2793\n",
            "Epoch 44/100\n",
            "2/2 [==============================] - 0s 34ms/step - loss: 2371.1079 - mse: 2371.1079 - val_loss: 2305.6162 - val_mse: 2305.6162\n",
            "Epoch 45/100\n",
            "2/2 [==============================] - 0s 30ms/step - loss: 2099.1260 - mse: 2099.1260 - val_loss: 2155.9658 - val_mse: 2155.9658\n",
            "Epoch 46/100\n",
            "2/2 [==============================] - 0s 33ms/step - loss: 1844.1104 - mse: 1844.1104 - val_loss: 2075.6841 - val_mse: 2075.6841\n",
            "Epoch 47/100\n",
            "2/2 [==============================] - 0s 33ms/step - loss: 1601.7657 - mse: 1601.7657 - val_loss: 2007.2303 - val_mse: 2007.2303\n",
            "Epoch 48/100\n",
            "2/2 [==============================] - 0s 38ms/step - loss: 1430.7605 - mse: 1430.7605 - val_loss: 1873.4553 - val_mse: 1873.4553\n",
            "Epoch 49/100\n",
            "2/2 [==============================] - 0s 36ms/step - loss: 1282.9199 - mse: 1282.9199 - val_loss: 1744.9751 - val_mse: 1744.9751\n",
            "Epoch 50/100\n",
            "2/2 [==============================] - 0s 28ms/step - loss: 1151.5432 - mse: 1151.5432 - val_loss: 1637.4865 - val_mse: 1637.4865\n",
            "Epoch 51/100\n",
            "2/2 [==============================] - 0s 28ms/step - loss: 1058.7981 - mse: 1058.7981 - val_loss: 1534.5305 - val_mse: 1534.5305\n",
            "Epoch 52/100\n",
            "2/2 [==============================] - 0s 38ms/step - loss: 1000.0366 - mse: 1000.0366 - val_loss: 1494.2034 - val_mse: 1494.2034\n",
            "Epoch 53/100\n",
            "2/2 [==============================] - 0s 34ms/step - loss: 938.5808 - mse: 938.5808 - val_loss: 1437.9701 - val_mse: 1437.9701\n",
            "Epoch 54/100\n",
            "2/2 [==============================] - 0s 34ms/step - loss: 886.9390 - mse: 886.9390 - val_loss: 1361.4518 - val_mse: 1361.4518\n",
            "Epoch 55/100\n",
            "2/2 [==============================] - 0s 30ms/step - loss: 833.4323 - mse: 833.4323 - val_loss: 1271.1262 - val_mse: 1271.1262\n",
            "Epoch 56/100\n",
            "2/2 [==============================] - 0s 28ms/step - loss: 786.8690 - mse: 786.8690 - val_loss: 1218.4502 - val_mse: 1218.4502\n",
            "Epoch 57/100\n",
            "2/2 [==============================] - 0s 38ms/step - loss: 743.7040 - mse: 743.7040 - val_loss: 1148.6993 - val_mse: 1148.6993\n",
            "Epoch 58/100\n",
            "2/2 [==============================] - 0s 28ms/step - loss: 711.2599 - mse: 711.2599 - val_loss: 1065.0968 - val_mse: 1065.0968\n",
            "Epoch 59/100\n",
            "2/2 [==============================] - 0s 30ms/step - loss: 678.9846 - mse: 678.9846 - val_loss: 981.6328 - val_mse: 981.6328\n",
            "Epoch 60/100\n",
            "2/2 [==============================] - 0s 29ms/step - loss: 652.9368 - mse: 652.9368 - val_loss: 863.3831 - val_mse: 863.3831\n",
            "Epoch 61/100\n",
            "2/2 [==============================] - 0s 50ms/step - loss: 621.1463 - mse: 621.1463 - val_loss: 831.8065 - val_mse: 831.8065\n",
            "Epoch 62/100\n",
            "2/2 [==============================] - 0s 28ms/step - loss: 586.3661 - mse: 586.3661 - val_loss: 762.5015 - val_mse: 762.5015\n",
            "Epoch 63/100\n",
            "2/2 [==============================] - 0s 27ms/step - loss: 571.3463 - mse: 571.3463 - val_loss: 674.2130 - val_mse: 674.2130\n",
            "Epoch 64/100\n",
            "2/2 [==============================] - 0s 28ms/step - loss: 541.3625 - mse: 541.3625 - val_loss: 655.6013 - val_mse: 655.6013\n",
            "Epoch 65/100\n",
            "2/2 [==============================] - 0s 29ms/step - loss: 517.7994 - mse: 517.7994 - val_loss: 626.0479 - val_mse: 626.0479\n",
            "Epoch 66/100\n",
            "2/2 [==============================] - 0s 28ms/step - loss: 499.6670 - mse: 499.6670 - val_loss: 621.8913 - val_mse: 621.8913\n",
            "Epoch 67/100\n",
            "2/2 [==============================] - 0s 27ms/step - loss: 480.0826 - mse: 480.0826 - val_loss: 575.8791 - val_mse: 575.8791\n",
            "Epoch 68/100\n",
            "2/2 [==============================] - 0s 37ms/step - loss: 466.3652 - mse: 466.3652 - val_loss: 557.4099 - val_mse: 557.4099\n",
            "Epoch 69/100\n",
            "2/2 [==============================] - 0s 35ms/step - loss: 456.1577 - mse: 456.1577 - val_loss: 547.2971 - val_mse: 547.2971\n",
            "Epoch 70/100\n",
            "2/2 [==============================] - 0s 38ms/step - loss: 440.4045 - mse: 440.4045 - val_loss: 531.0605 - val_mse: 531.0605\n",
            "Epoch 71/100\n",
            "2/2 [==============================] - 0s 43ms/step - loss: 426.7056 - mse: 426.7056 - val_loss: 518.6238 - val_mse: 518.6238\n",
            "Epoch 72/100\n",
            "2/2 [==============================] - 0s 34ms/step - loss: 417.1322 - mse: 417.1322 - val_loss: 512.4182 - val_mse: 512.4182\n",
            "Epoch 73/100\n",
            "2/2 [==============================] - 0s 33ms/step - loss: 419.5732 - mse: 419.5732 - val_loss: 484.2965 - val_mse: 484.2965\n",
            "Epoch 74/100\n",
            "2/2 [==============================] - 0s 35ms/step - loss: 390.6739 - mse: 390.6739 - val_loss: 493.0372 - val_mse: 493.0372\n",
            "Epoch 75/100\n",
            "2/2 [==============================] - 0s 36ms/step - loss: 387.9776 - mse: 387.9776 - val_loss: 494.2258 - val_mse: 494.2258\n",
            "Epoch 76/100\n",
            "2/2 [==============================] - 0s 53ms/step - loss: 373.6021 - mse: 373.6021 - val_loss: 469.4347 - val_mse: 469.4347\n",
            "Epoch 77/100\n",
            "2/2 [==============================] - 0s 33ms/step - loss: 361.4257 - mse: 361.4257 - val_loss: 455.1640 - val_mse: 455.1640\n",
            "Epoch 78/100\n",
            "2/2 [==============================] - 0s 34ms/step - loss: 354.4913 - mse: 354.4913 - val_loss: 458.4984 - val_mse: 458.4984\n",
            "Epoch 79/100\n",
            "2/2 [==============================] - 0s 32ms/step - loss: 340.6790 - mse: 340.6790 - val_loss: 454.9095 - val_mse: 454.9095\n",
            "Epoch 80/100\n",
            "2/2 [==============================] - 0s 32ms/step - loss: 333.8256 - mse: 333.8256 - val_loss: 446.0440 - val_mse: 446.0440\n",
            "Epoch 81/100\n",
            "2/2 [==============================] - 0s 36ms/step - loss: 335.3815 - mse: 335.3815 - val_loss: 431.2281 - val_mse: 431.2281\n",
            "Epoch 82/100\n",
            "2/2 [==============================] - 0s 32ms/step - loss: 316.9374 - mse: 316.9374 - val_loss: 432.9009 - val_mse: 432.9009\n",
            "Epoch 83/100\n",
            "2/2 [==============================] - 0s 30ms/step - loss: 309.5587 - mse: 309.5587 - val_loss: 430.1270 - val_mse: 430.1270\n",
            "Epoch 84/100\n",
            "2/2 [==============================] - 0s 34ms/step - loss: 302.8607 - mse: 302.8607 - val_loss: 425.5235 - val_mse: 425.5235\n",
            "Epoch 85/100\n",
            "2/2 [==============================] - 0s 33ms/step - loss: 306.2922 - mse: 306.2922 - val_loss: 413.6851 - val_mse: 413.6851\n",
            "Epoch 86/100\n",
            "2/2 [==============================] - 0s 31ms/step - loss: 298.5685 - mse: 298.5685 - val_loss: 415.8441 - val_mse: 415.8441\n",
            "Epoch 87/100\n",
            "2/2 [==============================] - 0s 32ms/step - loss: 285.2379 - mse: 285.2379 - val_loss: 411.2028 - val_mse: 411.2028\n",
            "Epoch 88/100\n",
            "2/2 [==============================] - 0s 33ms/step - loss: 274.5176 - mse: 274.5176 - val_loss: 403.0289 - val_mse: 403.0289\n",
            "Epoch 89/100\n",
            "2/2 [==============================] - 0s 31ms/step - loss: 268.5383 - mse: 268.5383 - val_loss: 400.3427 - val_mse: 400.3427\n",
            "Epoch 90/100\n",
            "2/2 [==============================] - 0s 34ms/step - loss: 264.4914 - mse: 264.4914 - val_loss: 395.9077 - val_mse: 395.9077\n",
            "Epoch 91/100\n",
            "2/2 [==============================] - 0s 53ms/step - loss: 257.8169 - mse: 257.8169 - val_loss: 392.1808 - val_mse: 392.1808\n",
            "Epoch 92/100\n",
            "2/2 [==============================] - 0s 59ms/step - loss: 254.5001 - mse: 254.5001 - val_loss: 386.7127 - val_mse: 386.7127\n",
            "Epoch 93/100\n",
            "2/2 [==============================] - 0s 35ms/step - loss: 246.3999 - mse: 246.3999 - val_loss: 382.8686 - val_mse: 382.8686\n",
            "Epoch 94/100\n",
            "2/2 [==============================] - 0s 37ms/step - loss: 245.9751 - mse: 245.9751 - val_loss: 377.1136 - val_mse: 377.1136\n",
            "Epoch 95/100\n",
            "2/2 [==============================] - 0s 42ms/step - loss: 236.7425 - mse: 236.7425 - val_loss: 378.0335 - val_mse: 378.0335\n",
            "Epoch 96/100\n",
            "2/2 [==============================] - 0s 41ms/step - loss: 233.4299 - mse: 233.4299 - val_loss: 376.2889 - val_mse: 376.2889\n",
            "Epoch 97/100\n",
            "2/2 [==============================] - 0s 39ms/step - loss: 227.0180 - mse: 227.0180 - val_loss: 371.7325 - val_mse: 371.7325\n",
            "Epoch 98/100\n",
            "2/2 [==============================] - 0s 45ms/step - loss: 224.4904 - mse: 224.4904 - val_loss: 369.9965 - val_mse: 369.9965\n",
            "Epoch 99/100\n",
            "2/2 [==============================] - 0s 43ms/step - loss: 220.6570 - mse: 220.6570 - val_loss: 370.7662 - val_mse: 370.7662\n",
            "Epoch 100/100\n",
            "2/2 [==============================] - 0s 35ms/step - loss: 216.3112 - mse: 216.3112 - val_loss: 378.1454 - val_mse: 378.1454\n",
            "1/1 [==============================] - 0s 29ms/step - loss: 746.9486 - mse: 746.9486\n",
            "MSE: 746.949\n"
          ]
        }
      ]
    },
    {
      "cell_type": "code",
      "source": [
        "# Predicted value of our model\n",
        "y_pred = Model.predict(X_test)"
      ],
      "metadata": {
        "id": "ab43eJ3XDrQO"
      },
      "execution_count": 340,
      "outputs": []
    },
    {
      "cell_type": "markdown",
      "source": [
        "#Plotting Loss"
      ],
      "metadata": {
        "id": "zUR8xRWIJuFp"
      }
    },
    {
      "cell_type": "code",
      "source": [
        "plt.figure(figsize=(9,9))\n",
        "\n",
        "# list all data in history\n",
        "print(history.history.keys())\n",
        "\n",
        "loss_train = history.history['loss'] # training loss\n",
        "loss_val = history.history['val_loss'] # validation loss\n",
        "epochs = range(0,100) # since epochs=100\n",
        "\n",
        "#Plotting training loss  and validation against epochs\n",
        "plt.plot(epochs, loss_train, 'g', label='Training loss')\n",
        "plt.plot(epochs, loss_val, 'b', label='validation loss')\n",
        "\n",
        "plt.title('Training and Validation loss')\n",
        "plt.xlabel('Epochs')\n",
        "plt.ylabel('Loss')\n",
        "plt.legend()\n",
        "plt.show()"
      ],
      "metadata": {
        "colab": {
          "base_uri": "https://localhost:8080/",
          "height": 584
        },
        "id": "yqXQt2KTD2pG",
        "outputId": "97e78d71-38f7-4f34-e1f9-98ef9335d118"
      },
      "execution_count": 341,
      "outputs": [
        {
          "output_type": "stream",
          "name": "stdout",
          "text": [
            "dict_keys(['loss', 'mse', 'val_loss', 'val_mse'])\n"
          ]
        },
        {
          "output_type": "display_data",
          "data": {
            "text/plain": [
              "<Figure size 648x648 with 1 Axes>"
            ],
            "image/png": "[encoded data removed]"
          },
          "metadata": {
            "needs_background": "light"
          }
        }
      ]
    }
  ]
}