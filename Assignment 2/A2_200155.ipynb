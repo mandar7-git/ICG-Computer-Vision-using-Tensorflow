{
  "cells": [
    {
      "cell_type": "markdown",
      "metadata": {
        "id": "UxcaEbrCy1g_"
      },
      "source": [
        "# Assigment 2: Deep Learning"
      ]
    },
    {
      "cell_type": "markdown",
      "metadata": {
        "id": "h2JON-_Oy79w"
      },
      "source": [
        "## Generate Dataset\n",
        "\n",
        "This is the same code from Assignment 1"
      ]
    },
    {
      "cell_type": "code",
      "execution_count": null,
      "metadata": {
        "id": "hgpG3WDuypfa"
      },
      "outputs": [],
      "source": [
        "from sklearn import datasets\n",
        "from sklearn.model_selection import train_test_split\n",
        "\n",
        "# Generate the data\n",
        "X, y = datasets.make_regression(n_samples=100, n_features=5, noise=5, random_state=4)\n",
        "\n",
        "# Split the data\n",
        "X_train, X_test, y_train, y_test = train_test_split(X, y, test_size=0.2, random_state=1234)\n",
        "X_train, X_val, y_train, y_val = train_test_split(X_train, y_train, test_size=0.2, random_state=1)"
      ]
    },
    {
      "cell_type": "code",
      "execution_count": null,
      "metadata": {
        "colab": {
          "base_uri": "https://localhost:8080/"
        },
        "id": "fjPrVThAfEEr",
        "outputId": "fd4aba9b-64a6-4c58-a33b-6027fd36ec57"
      },
      "outputs": [
        {
          "output_type": "stream",
          "name": "stdout",
          "text": [
            "(100, 5)\n"
          ]
        }
      ],
      "source": [
        "print(X.shape)"
      ]
    },
    {
      "cell_type": "markdown",
      "metadata": {
        "id": "r6it-Rm7zD1Y"
      },
      "source": [
        "## Visualize Dataset\n",
        "This is the same code from Assignment 1"
      ]
    },
    {
      "cell_type": "code",
      "execution_count": null,
      "metadata": {
        "colab": {
          "base_uri": "https://localhost:8080/",
          "height": 282
        },
        "id": "UautPVj1yzaQ",
        "outputId": "ea54d42c-d99f-4f44-bedf-7a947487c6a7"
      },
      "outputs": [
        {
          "output_type": "execute_result",
          "data": {
            "text/plain": [
              "<matplotlib.collections.PathCollection at 0x7f82a75617d0>"
            ]
          },
          "metadata": {},
          "execution_count": 126
        },
        {
          "output_type": "display_data",
          "data": {
            "text/plain": [
              "<Figure size 432x288 with 1 Axes>"
            ],
            "image/png": "[encoded data removed]"
          },
          "metadata": {
            "needs_background": "light"
          }
        }
      ],
      "source": [
        "import matplotlib.pyplot as plt\n",
        "plt.scatter(X[:,0], y, c ='black')\n",
        "# Your code here"
      ]
    },
    {
      "cell_type": "code",
      "execution_count": null,
      "metadata": {
        "colab": {
          "base_uri": "https://localhost:8080/",
          "height": 282
        },
        "id": "8-kq7b9HfLyu",
        "outputId": "2ca46a9b-87a7-49f1-a3bf-46bc8e43c48f"
      },
      "outputs": [
        {
          "output_type": "execute_result",
          "data": {
            "text/plain": [
              "<matplotlib.collections.PathCollection at 0x7f82b9489350>"
            ]
          },
          "metadata": {},
          "execution_count": 127
        },
        {
          "output_type": "display_data",
          "data": {
            "text/plain": [
              "<Figure size 432x288 with 1 Axes>"
            ],
            "image/png": "[encoded data removed]"
          },
          "metadata": {
            "needs_background": "light"
          }
        }
      ],
      "source": [
        "plt.scatter(X[:,1], y, c ='green')"
      ]
    },
    {
      "cell_type": "code",
      "execution_count": null,
      "metadata": {
        "colab": {
          "base_uri": "https://localhost:8080/",
          "height": 282
        },
        "id": "Vw-VilfifPDY",
        "outputId": "289d03e3-e03f-4a55-bb89-8e942f3d4208"
      },
      "outputs": [
        {
          "output_type": "execute_result",
          "data": {
            "text/plain": [
              "<matplotlib.collections.PathCollection at 0x7f82b49512d0>"
            ]
          },
          "metadata": {},
          "execution_count": 128
        },
        {
          "output_type": "display_data",
          "data": {
            "text/plain": [
              "<Figure size 432x288 with 1 Axes>"
            ],
            "image/png": "[encoded data removed]"
          },
          "metadata": {
            "needs_background": "light"
          }
        }
      ],
      "source": [
        "plt.scatter(X[:,2], y, c ='red')"
      ]
    },
    {
      "cell_type": "code",
      "execution_count": null,
      "metadata": {
        "colab": {
          "base_uri": "https://localhost:8080/",
          "height": 282
        },
        "id": "gaZsKQdWfTyk",
        "outputId": "01da3640-e435-4d41-b657-50b9312333d6"
      },
      "outputs": [
        {
          "output_type": "execute_result",
          "data": {
            "text/plain": [
              "<matplotlib.collections.PathCollection at 0x7f82bf2cee90>"
            ]
          },
          "metadata": {},
          "execution_count": 129
        },
        {
          "output_type": "display_data",
          "data": {
            "text/plain": [
              "<Figure size 432x288 with 1 Axes>"
            ],
            "image/png": "[encoded data removed]"
          },
          "metadata": {
            "needs_background": "light"
          }
        }
      ],
      "source": [
        "plt.scatter(X[:,3], y, c ='violet')"
      ]
    },
    {
      "cell_type": "code",
      "execution_count": null,
      "metadata": {
        "colab": {
          "base_uri": "https://localhost:8080/",
          "height": 282
        },
        "id": "_3Tyoa5pfUf8",
        "outputId": "01a926fc-08e8-4261-dfb9-9c937a1f46bf"
      },
      "outputs": [
        {
          "output_type": "execute_result",
          "data": {
            "text/plain": [
              "<matplotlib.collections.PathCollection at 0x7f82bb36e510>"
            ]
          },
          "metadata": {},
          "execution_count": 130
        },
        {
          "output_type": "display_data",
          "data": {
            "text/plain": [
              "<Figure size 432x288 with 1 Axes>"
            ],
            "image/png": "[encoded data removed]"
          },
          "metadata": {
            "needs_background": "light"
          }
        }
      ],
      "source": [
        "plt.scatter(X[:,4], y, c ='black')"
      ]
    },
    {
      "cell_type": "markdown",
      "metadata": {
        "id": "XMXb9lTyzGHE"
      },
      "source": [
        "## Model Definition\n",
        "\n",
        "Using TensorFlow, build a model with the following definition:\n",
        "> Input of shape 5 \\\\\n",
        "> Dense of shape 5 \\\\\n",
        "> Dense of shape 5 \\\\\n",
        "> Dense of shape 1 \\\\\n",
        "\n",
        "Use Mean Square Error Loss and Stochaistic Gradient Descent (SGD) Optimizer\n",
        "\n",
        "Use Gradient Decay with appropriate parameters"
      ]
    },
    {
      "cell_type": "code",
      "execution_count": null,
      "metadata": {
        "colab": {
          "base_uri": "https://localhost:8080/"
        },
        "id": "r32N1xK2ziOs",
        "outputId": "e701c870-e555-4e81-cb5d-bd992db7af67"
      },
      "outputs": [
        {
          "output_type": "stream",
          "name": "stdout",
          "text": [
            "Model: \"sequential_23\"\n",
            "_________________________________________________________________\n",
            " Layer (type)                Output Shape              Param #   \n",
            "=================================================================\n",
            " dense_36 (Dense)            (None, 5)                 30        \n",
            "                                                                 \n",
            " dense_37 (Dense)            (None, 5)                 30        \n",
            "                                                                 \n",
            " dense_38 (Dense)            (None, 1)                 6         \n",
            "                                                                 \n",
            "=================================================================\n",
            "Total params: 66\n",
            "Trainable params: 66\n",
            "Non-trainable params: 0\n",
            "_________________________________________________________________\n",
            "[<keras.layers.core.dense.Dense object at 0x7f82b902c310>, <keras.layers.core.dense.Dense object at 0x7f82b9399150>, <keras.layers.core.dense.Dense object at 0x7f82b49a9c90>]\n",
            "Epoch 1/100\n",
            "2/2 [==============================] - 1s 196ms/step - loss: 11442.6602 - mse: 11440.4521 - val_loss: 11834.9062 - val_mse: 11832.7129\n",
            "Epoch 2/100\n",
            "2/2 [==============================] - 0s 42ms/step - loss: 11429.4961 - mse: 11427.3008 - val_loss: 11837.4834 - val_mse: 11835.2891\n",
            "Epoch 3/100\n",
            "2/2 [==============================] - 0s 33ms/step - loss: 11419.3477 - mse: 11417.1543 - val_loss: 11837.0518 - val_mse: 11834.8477\n",
            "Epoch 4/100\n",
            "2/2 [==============================] - 0s 31ms/step - loss: 11404.7764 - mse: 11402.5654 - val_loss: 11850.2324 - val_mse: 11848.0078\n",
            "Epoch 5/100\n",
            "2/2 [==============================] - 0s 30ms/step - loss: 11384.4609 - mse: 11382.2275 - val_loss: 11850.4854 - val_mse: 11848.2168\n",
            "Epoch 6/100\n",
            "2/2 [==============================] - 0s 31ms/step - loss: 11337.3447 - mse: 11335.0420 - val_loss: 11852.8721 - val_mse: 11850.5098\n",
            "Epoch 7/100\n",
            "2/2 [==============================] - 0s 28ms/step - loss: 11247.1436 - mse: 11244.7461 - val_loss: 11844.7471 - val_mse: 11842.2021\n",
            "Epoch 8/100\n",
            "2/2 [==============================] - 0s 36ms/step - loss: 11018.1680 - mse: 11015.5547 - val_loss: 11601.4453 - val_mse: 11598.5605\n",
            "Epoch 9/100\n",
            "2/2 [==============================] - 0s 33ms/step - loss: 10393.5176 - mse: 10390.4590 - val_loss: 10497.3555 - val_mse: 10493.8115\n",
            "Epoch 10/100\n",
            "2/2 [==============================] - 0s 31ms/step - loss: 8515.9678 - mse: 8512.0879 - val_loss: 7851.2812 - val_mse: 7846.6396\n",
            "Epoch 11/100\n",
            "2/2 [==============================] - 0s 39ms/step - loss: 5604.2622 - mse: 5599.3101 - val_loss: 4448.8042 - val_mse: 4443.1377\n",
            "Epoch 12/100\n",
            "2/2 [==============================] - 0s 59ms/step - loss: 2638.2891 - mse: 2632.2268 - val_loss: 681.0367 - val_mse: 674.1094\n",
            "Epoch 13/100\n",
            "2/2 [==============================] - 0s 45ms/step - loss: 1791.1497 - mse: 1784.6543 - val_loss: 1682.6844 - val_mse: 1676.5535\n",
            "Epoch 14/100\n",
            "2/2 [==============================] - 0s 72ms/step - loss: 1259.6608 - mse: 1253.0369 - val_loss: 736.9008 - val_mse: 730.4541\n",
            "Epoch 15/100\n",
            "2/2 [==============================] - 0s 80ms/step - loss: 322.7244 - mse: 316.1204 - val_loss: 534.9032 - val_mse: 527.7333\n",
            "Epoch 16/100\n",
            "2/2 [==============================] - 0s 44ms/step - loss: 470.7136 - mse: 463.8461 - val_loss: 266.0479 - val_mse: 259.1320\n",
            "Epoch 17/100\n",
            "2/2 [==============================] - 0s 41ms/step - loss: 198.8936 - mse: 192.0239 - val_loss: 232.9439 - val_mse: 226.0717\n",
            "Epoch 18/100\n",
            "2/2 [==============================] - 0s 70ms/step - loss: 252.4654 - mse: 245.5958 - val_loss: 317.0913 - val_mse: 310.1626\n",
            "Epoch 19/100\n",
            "2/2 [==============================] - 0s 44ms/step - loss: 343.9730 - mse: 337.0604 - val_loss: 425.7545 - val_mse: 418.8899\n",
            "Epoch 20/100\n",
            "2/2 [==============================] - 0s 47ms/step - loss: 627.7736 - mse: 620.8016 - val_loss: 1153.6525 - val_mse: 1146.7439\n",
            "Epoch 21/100\n",
            "2/2 [==============================] - 0s 42ms/step - loss: 1435.3372 - mse: 1428.3516 - val_loss: 1303.8165 - val_mse: 1296.9901\n",
            "Epoch 22/100\n",
            "2/2 [==============================] - 0s 49ms/step - loss: 710.3646 - mse: 703.4918 - val_loss: 299.1694 - val_mse: 292.2016\n",
            "Epoch 23/100\n",
            "2/2 [==============================] - 0s 50ms/step - loss: 197.8101 - mse: 190.7716 - val_loss: 135.6752 - val_mse: 128.4780\n",
            "Epoch 24/100\n",
            "2/2 [==============================] - 0s 49ms/step - loss: 161.7744 - mse: 154.5998 - val_loss: 169.1875 - val_mse: 162.1224\n",
            "Epoch 25/100\n",
            "2/2 [==============================] - 0s 46ms/step - loss: 162.3691 - mse: 155.2381 - val_loss: 157.0821 - val_mse: 149.9161\n",
            "Epoch 26/100\n",
            "2/2 [==============================] - 0s 54ms/step - loss: 176.6609 - mse: 169.4270 - val_loss: 83.1771 - val_mse: 75.9789\n",
            "Epoch 27/100\n",
            "2/2 [==============================] - 0s 48ms/step - loss: 121.7237 - mse: 114.5068 - val_loss: 93.0659 - val_mse: 85.7827\n",
            "Epoch 28/100\n",
            "2/2 [==============================] - 0s 58ms/step - loss: 152.3679 - mse: 145.0914 - val_loss: 135.5043 - val_mse: 128.3081\n",
            "Epoch 29/100\n",
            "2/2 [==============================] - 0s 57ms/step - loss: 215.6359 - mse: 208.3338 - val_loss: 72.6032 - val_mse: 65.1524\n",
            "Epoch 30/100\n",
            "2/2 [==============================] - 0s 45ms/step - loss: 250.6693 - mse: 243.3834 - val_loss: 74.7582 - val_mse: 67.3636\n",
            "Epoch 31/100\n",
            "2/2 [==============================] - 0s 47ms/step - loss: 108.1216 - mse: 100.7483 - val_loss: 95.2127 - val_mse: 87.8701\n",
            "Epoch 32/100\n",
            "2/2 [==============================] - 0s 45ms/step - loss: 68.2923 - mse: 60.9319 - val_loss: 83.8772 - val_mse: 76.4706\n",
            "Epoch 33/100\n",
            "2/2 [==============================] - 0s 57ms/step - loss: 80.4103 - mse: 73.0227 - val_loss: 89.5124 - val_mse: 82.0730\n",
            "Epoch 34/100\n",
            "2/2 [==============================] - 0s 40ms/step - loss: 54.4226 - mse: 47.0066 - val_loss: 73.6749 - val_mse: 66.2443\n",
            "Epoch 35/100\n",
            "2/2 [==============================] - 0s 48ms/step - loss: 62.1947 - mse: 54.7768 - val_loss: 76.8291 - val_mse: 69.2661\n",
            "Epoch 36/100\n",
            "2/2 [==============================] - 0s 39ms/step - loss: 54.6004 - mse: 47.1020 - val_loss: 58.4782 - val_mse: 50.9357\n",
            "Epoch 37/100\n",
            "2/2 [==============================] - 0s 65ms/step - loss: 55.7770 - mse: 48.2954 - val_loss: 59.4923 - val_mse: 51.9229\n",
            "Epoch 38/100\n",
            "2/2 [==============================] - 0s 46ms/step - loss: 36.5092 - mse: 29.0032 - val_loss: 62.0320 - val_mse: 54.5793\n",
            "Epoch 39/100\n",
            "2/2 [==============================] - 0s 56ms/step - loss: 37.4781 - mse: 29.9959 - val_loss: 58.7287 - val_mse: 51.1999\n",
            "Epoch 40/100\n",
            "2/2 [==============================] - 0s 56ms/step - loss: 46.9801 - mse: 39.4666 - val_loss: 70.3168 - val_mse: 62.8367\n",
            "Epoch 41/100\n",
            "2/2 [==============================] - 0s 51ms/step - loss: 40.1108 - mse: 32.6099 - val_loss: 65.8443 - val_mse: 58.2703\n",
            "Epoch 42/100\n",
            "2/2 [==============================] - 0s 42ms/step - loss: 58.2797 - mse: 50.7583 - val_loss: 83.6881 - val_mse: 76.0193\n",
            "Epoch 43/100\n",
            "2/2 [==============================] - 0s 117ms/step - loss: 121.2103 - mse: 113.6867 - val_loss: 63.8268 - val_mse: 56.1907\n",
            "Epoch 44/100\n",
            "2/2 [==============================] - 0s 57ms/step - loss: 47.9453 - mse: 40.3664 - val_loss: 73.5663 - val_mse: 66.0393\n",
            "Epoch 45/100\n",
            "2/2 [==============================] - 0s 69ms/step - loss: 33.8667 - mse: 26.3172 - val_loss: 54.4576 - val_mse: 46.8803\n",
            "Epoch 46/100\n",
            "2/2 [==============================] - 0s 76ms/step - loss: 39.8401 - mse: 32.2677 - val_loss: 54.7523 - val_mse: 47.2121\n",
            "Epoch 47/100\n",
            "2/2 [==============================] - 0s 56ms/step - loss: 35.0196 - mse: 27.4547 - val_loss: 51.0725 - val_mse: 43.5191\n",
            "Epoch 48/100\n",
            "2/2 [==============================] - 0s 67ms/step - loss: 41.2500 - mse: 33.6689 - val_loss: 55.0954 - val_mse: 47.5269\n",
            "Epoch 49/100\n",
            "2/2 [==============================] - 0s 44ms/step - loss: 40.9848 - mse: 33.4287 - val_loss: 71.6360 - val_mse: 64.0068\n",
            "Epoch 50/100\n",
            "2/2 [==============================] - 0s 61ms/step - loss: 57.6877 - mse: 50.1185 - val_loss: 57.2888 - val_mse: 49.7100\n",
            "Epoch 51/100\n",
            "2/2 [==============================] - 0s 73ms/step - loss: 33.8508 - mse: 26.2731 - val_loss: 56.3567 - val_mse: 48.7462\n",
            "Epoch 52/100\n",
            "2/2 [==============================] - 0s 56ms/step - loss: 34.4098 - mse: 26.8246 - val_loss: 66.6043 - val_mse: 59.0446\n",
            "Epoch 53/100\n",
            "2/2 [==============================] - 0s 51ms/step - loss: 31.0360 - mse: 23.4713 - val_loss: 54.9626 - val_mse: 47.3813\n",
            "Epoch 54/100\n",
            "2/2 [==============================] - 0s 50ms/step - loss: 33.4974 - mse: 25.9075 - val_loss: 57.1156 - val_mse: 49.5227\n",
            "Epoch 55/100\n",
            "2/2 [==============================] - 0s 43ms/step - loss: 34.8161 - mse: 27.2422 - val_loss: 61.4643 - val_mse: 53.8376\n",
            "Epoch 56/100\n",
            "2/2 [==============================] - 0s 88ms/step - loss: 39.0680 - mse: 31.5016 - val_loss: 66.0767 - val_mse: 58.4789\n",
            "Epoch 57/100\n",
            "2/2 [==============================] - 0s 56ms/step - loss: 36.0214 - mse: 28.4489 - val_loss: 67.4601 - val_mse: 59.8478\n",
            "Epoch 58/100\n",
            "2/2 [==============================] - 0s 70ms/step - loss: 41.3002 - mse: 33.7040 - val_loss: 79.1499 - val_mse: 71.5464\n",
            "Epoch 59/100\n",
            "2/2 [==============================] - 0s 72ms/step - loss: 54.3355 - mse: 46.7476 - val_loss: 73.1642 - val_mse: 65.5576\n",
            "Epoch 60/100\n",
            "2/2 [==============================] - 0s 54ms/step - loss: 61.7701 - mse: 54.2187 - val_loss: 62.9497 - val_mse: 55.3267\n",
            "Epoch 61/100\n",
            "2/2 [==============================] - 0s 32ms/step - loss: 35.6170 - mse: 28.0291 - val_loss: 59.2548 - val_mse: 51.6866\n",
            "Epoch 62/100\n",
            "2/2 [==============================] - 0s 31ms/step - loss: 29.0483 - mse: 21.4710 - val_loss: 60.3905 - val_mse: 52.8182\n",
            "Epoch 63/100\n",
            "2/2 [==============================] - 0s 31ms/step - loss: 29.5863 - mse: 22.0092 - val_loss: 64.4844 - val_mse: 56.9314\n",
            "Epoch 64/100\n",
            "2/2 [==============================] - 0s 37ms/step - loss: 34.8840 - mse: 27.2988 - val_loss: 73.2185 - val_mse: 65.7093\n",
            "Epoch 65/100\n",
            "2/2 [==============================] - 0s 31ms/step - loss: 37.4283 - mse: 29.8709 - val_loss: 72.1328 - val_mse: 64.5916\n",
            "Epoch 66/100\n",
            "2/2 [==============================] - 0s 42ms/step - loss: 40.4009 - mse: 32.8081 - val_loss: 71.5654 - val_mse: 64.0687\n",
            "Epoch 67/100\n",
            "2/2 [==============================] - 0s 34ms/step - loss: 47.3975 - mse: 39.8250 - val_loss: 69.9427 - val_mse: 62.4476\n",
            "Epoch 68/100\n",
            "2/2 [==============================] - 0s 32ms/step - loss: 36.2168 - mse: 28.6659 - val_loss: 55.3986 - val_mse: 47.8576\n",
            "Epoch 69/100\n",
            "2/2 [==============================] - 0s 37ms/step - loss: 30.2718 - mse: 22.6977 - val_loss: 54.7090 - val_mse: 47.1580\n",
            "Epoch 70/100\n",
            "2/2 [==============================] - 0s 28ms/step - loss: 33.2632 - mse: 25.7090 - val_loss: 74.1294 - val_mse: 66.4972\n",
            "Epoch 71/100\n",
            "2/2 [==============================] - 0s 34ms/step - loss: 48.5998 - mse: 41.0393 - val_loss: 70.4557 - val_mse: 62.8508\n",
            "Epoch 72/100\n",
            "2/2 [==============================] - 0s 30ms/step - loss: 33.9276 - mse: 26.3579 - val_loss: 65.1031 - val_mse: 57.5076\n",
            "Epoch 73/100\n",
            "2/2 [==============================] - 0s 32ms/step - loss: 33.5740 - mse: 26.0053 - val_loss: 63.6855 - val_mse: 56.0868\n",
            "Epoch 74/100\n",
            "2/2 [==============================] - 0s 52ms/step - loss: 35.5867 - mse: 28.0251 - val_loss: 64.8781 - val_mse: 57.2692\n",
            "Epoch 75/100\n",
            "2/2 [==============================] - 0s 35ms/step - loss: 36.8985 - mse: 29.3020 - val_loss: 72.5147 - val_mse: 64.9826\n",
            "Epoch 76/100\n",
            "2/2 [==============================] - 0s 36ms/step - loss: 50.5594 - mse: 42.9961 - val_loss: 63.1110 - val_mse: 55.5332\n",
            "Epoch 77/100\n",
            "2/2 [==============================] - 0s 38ms/step - loss: 50.4238 - mse: 42.8715 - val_loss: 70.0594 - val_mse: 62.5043\n",
            "Epoch 78/100\n",
            "2/2 [==============================] - 0s 37ms/step - loss: 31.4428 - mse: 23.8863 - val_loss: 56.8229 - val_mse: 49.2449\n",
            "Epoch 79/100\n",
            "2/2 [==============================] - 0s 35ms/step - loss: 31.0637 - mse: 23.4887 - val_loss: 69.2196 - val_mse: 61.6482\n",
            "Epoch 80/100\n",
            "2/2 [==============================] - 0s 33ms/step - loss: 41.2980 - mse: 33.7406 - val_loss: 65.1423 - val_mse: 57.5268\n",
            "Epoch 81/100\n",
            "2/2 [==============================] - 0s 29ms/step - loss: 52.3450 - mse: 44.7983 - val_loss: 68.9426 - val_mse: 61.2997\n",
            "Epoch 82/100\n",
            "2/2 [==============================] - 0s 30ms/step - loss: 41.2837 - mse: 33.7000 - val_loss: 62.2134 - val_mse: 54.5984\n",
            "Epoch 83/100\n",
            "2/2 [==============================] - 0s 31ms/step - loss: 30.7115 - mse: 23.1249 - val_loss: 61.7609 - val_mse: 54.1964\n",
            "Epoch 84/100\n",
            "2/2 [==============================] - 0s 41ms/step - loss: 32.5268 - mse: 24.9393 - val_loss: 68.7602 - val_mse: 61.2525\n",
            "Epoch 85/100\n",
            "2/2 [==============================] - 0s 58ms/step - loss: 37.0051 - mse: 29.4373 - val_loss: 68.7802 - val_mse: 61.2493\n",
            "Epoch 86/100\n",
            "2/2 [==============================] - 0s 41ms/step - loss: 34.5812 - mse: 27.0134 - val_loss: 71.4610 - val_mse: 63.9257\n",
            "Epoch 87/100\n",
            "2/2 [==============================] - 0s 38ms/step - loss: 40.9226 - mse: 33.3603 - val_loss: 66.1740 - val_mse: 58.6174\n",
            "Epoch 88/100\n",
            "2/2 [==============================] - 0s 34ms/step - loss: 35.7923 - mse: 28.2370 - val_loss: 66.4790 - val_mse: 58.9120\n",
            "Epoch 89/100\n",
            "2/2 [==============================] - 0s 34ms/step - loss: 48.2587 - mse: 40.6690 - val_loss: 70.6092 - val_mse: 63.0852\n",
            "Epoch 90/100\n",
            "2/2 [==============================] - 0s 31ms/step - loss: 46.7529 - mse: 39.1916 - val_loss: 62.8041 - val_mse: 55.2452\n",
            "Epoch 91/100\n",
            "2/2 [==============================] - 0s 32ms/step - loss: 43.3518 - mse: 35.7847 - val_loss: 69.2451 - val_mse: 61.7103\n",
            "Epoch 92/100\n",
            "2/2 [==============================] - 0s 33ms/step - loss: 45.3244 - mse: 37.7464 - val_loss: 60.7219 - val_mse: 53.1716\n",
            "Epoch 93/100\n",
            "2/2 [==============================] - 0s 50ms/step - loss: 28.7258 - mse: 21.1614 - val_loss: 60.5775 - val_mse: 52.9849\n",
            "Epoch 94/100\n",
            "2/2 [==============================] - 0s 35ms/step - loss: 30.6921 - mse: 23.0978 - val_loss: 64.3155 - val_mse: 56.7864\n",
            "Epoch 95/100\n",
            "2/2 [==============================] - 0s 38ms/step - loss: 36.7760 - mse: 29.1912 - val_loss: 71.2270 - val_mse: 63.6736\n",
            "Epoch 96/100\n",
            "2/2 [==============================] - 0s 50ms/step - loss: 36.2156 - mse: 28.6333 - val_loss: 72.2180 - val_mse: 64.6883\n",
            "Epoch 97/100\n",
            "2/2 [==============================] - 0s 42ms/step - loss: 40.6740 - mse: 33.1136 - val_loss: 72.9756 - val_mse: 65.4073\n",
            "Epoch 98/100\n",
            "2/2 [==============================] - 0s 34ms/step - loss: 42.0701 - mse: 34.4984 - val_loss: 87.4403 - val_mse: 79.8802\n",
            "Epoch 99/100\n",
            "2/2 [==============================] - 0s 35ms/step - loss: 38.6141 - mse: 31.0322 - val_loss: 73.3351 - val_mse: 65.8037\n",
            "Epoch 100/100\n",
            "2/2 [==============================] - 0s 51ms/step - loss: 36.3742 - mse: 28.8083 - val_loss: 99.3956 - val_mse: 91.8718\n",
            "1/1 [==============================] - 0s 22ms/step - loss: 75.5506 - mse: 68.0269\n",
            "MSE: 68.027\n"
          ]
        }
      ],
      "source": [
        "import tensorflow as tf\n",
        "from tensorflow import keras\n",
        "from tensorflow.keras import Sequential\n",
        "from tensorflow.keras import Model\n",
        "from tensorflow.keras import layers\n",
        "from tensorflow.keras.layers import Dense\n",
        "\n",
        "model = Sequential()\n",
        "\n",
        "model.add(Dense(5, activation='relu', input_shape=(5,),  kernel_regularizer=tf.keras.regularizers.l1_l2(l1=0.1, l2=0.01)))#Adding regularization\n",
        "model.add(Dense(5, activation='relu',  kernel_regularizer=tf.keras.regularizers.l1_l2(l1=0.1, l2=0.01)))#Adding regularization\n",
        "model.add(Dense(1,  kernel_regularizer=tf.keras.regularizers.l1_l2(l1=0.1, l2=0.01)))\n",
        "\n",
        "model.summary()\n",
        "\n",
        "learning_schedule = keras.optimizers.schedules.ExponentialDecay(\n",
        "    initial_learning_rate = 1e-3,\n",
        "    decay_steps=1000,\n",
        "    decay_rate=0.9)\n",
        "optim = keras.optimizers.SGD(learning_rate=learning_schedule)\n",
        "model.compile(loss='mse',optimizer=optim, metrics=['mse'])\n",
        "print(model.layers)\n",
        "history = model.fit(X_train, y_train, epochs=100, validation_data=(X_val, y_val),shuffle=True)\n",
        "loss,mse = model.evaluate(X_test, y_test, verbose=1)\n",
        "print('MSE: %.3f' % mse)\n",
        "# Your code here"
      ]
    },
    {
      "cell_type": "markdown",
      "metadata": {
        "id": "jmeP6vt3z0oA"
      },
      "source": [
        "## Plot Loss\n",
        "\n",
        "Using matplotlib visualise how the loss (both validation and training) is changing, use this information to retrain the model with appropriate parameters.<br>We ideally want the loss to be constant over the last few iterations."
      ]
    },
    {
      "cell_type": "code",
      "execution_count": null,
      "metadata": {
        "colab": {
          "base_uri": "https://localhost:8080/",
          "height": 621
        },
        "id": "RQTNqPHm0mOi",
        "outputId": "650e63c2-2584-40dc-ce9f-33b615787711"
      },
      "outputs": [
        {
          "output_type": "display_data",
          "data": {
            "text/plain": [
              "<Figure size 720x720 with 1 Axes>"
            ],
            "image/png": "[encoded data removed]"
          },
          "metadata": {
            "needs_background": "light"
          }
        }
      ],
      "source": [
        "# Your code here\n",
        "plt.figure(figsize=(10,10))\n",
        "loss_train = history.history['loss'] # training loss\n",
        "loss_val = history.history['val_loss'] # validation loss\n",
        "epochs = range(0,100) # since epochs=100\n",
        "\n",
        "#Plotting training loss  and validation against epochs\n",
        "plt.plot(epochs, loss_train, 'r', label='Training loss')\n",
        "plt.plot(epochs, loss_val, 'b', label='validation loss')\n",
        "\n",
        "plt.title('Training and Validation loss')\n",
        "plt.xlabel('Epochs')\n",
        "plt.ylabel('Loss')\n",
        "plt.legend()\n",
        "plt.show()"
      ]
    },
    {
      "cell_type": "markdown",
      "metadata": {
        "id": "IVrR_vXA7kOt"
      },
      "source": [
        "## Evaluation Metrics\n",
        "Use the R2 Score function implemented in the first assignment to evaluate the performance of the model."
      ]
    },
    {
      "cell_type": "code",
      "execution_count": null,
      "metadata": {
        "colab": {
          "base_uri": "https://localhost:8080/"
        },
        "id": "-lOHpD8-7ggm",
        "outputId": "e32e25c2-52bb-4d39-c812-24e152191289"
      },
      "outputs": [
        {
          "output_type": "stream",
          "name": "stdout",
          "text": [
            "MSE: 19712.02722145461\n",
            "Accuracy: 0.9933118824242653\n"
          ]
        }
      ],
      "source": [
        "# Insert the function for R2 Score\n",
        "y_pred = model.predict(X_test)\n",
        "import numpy as np\n",
        "def mean_squared_error(y_true, y_pred):\n",
        "        return np.mean(np.square(y_true - y_pred))\n",
        "\n",
        "from sklearn.metrics import r2_score\n",
        "\n",
        "mse = mean_squared_error(y_test, y_pred) # Pass appropriate parts of dataset\n",
        "print(\"MSE:\", mse)\n",
        "\n",
        "accu = r2_score(y_test, y_pred) # Pass appropriate parts of dataset\n",
        "print(\"Accuracy:\", accu)"
      ]
    },
    {
      "cell_type": "markdown",
      "metadata": {
        "id": "CHqzF1OU0pBg"
      },
      "source": [
        "## Your own custom model\n",
        "Build a custom model of your own choice.<br>\n",
        "Describe it in detail in Markdown/Latex in the cell below.<br>\n",
        "Visualise the loss, as before."
      ]
    },
    {
      "cell_type": "markdown",
      "metadata": {
        "id": "jF8oTUqq0y0g"
      },
      "source": [
        "#CUSTOM MODEL"
      ]
    },
    {
      "cell_type": "markdown",
      "metadata": {
        "id": "qbt-OVB4zZw8"
      },
      "source": [
        "Model Definition: \n",
        "*  Input of shape 5 \n",
        "*  Dense of shape 5 \n",
        "*  Dense of shape 7\n",
        "*  Dense of shape 9\n",
        "*  Dense of shape 10\n",
        "*  Dense of shape 11\n",
        "\n"
      ]
    },
    {
      "cell_type": "code",
      "execution_count": 162,
      "metadata": {
        "colab": {
          "base_uri": "https://localhost:8080/"
        },
        "id": "1XOk5hJu0oSQ",
        "outputId": "9e83bfb8-9ffc-4fe3-8649-87368b385d3a"
      },
      "outputs": [
        {
          "output_type": "stream",
          "name": "stdout",
          "text": [
            "Model: \"sequential_25\"\n",
            "_________________________________________________________________\n",
            " Layer (type)                Output Shape              Param #   \n",
            "=================================================================\n",
            " layer1 (Dense)              (None, 5)                 30        \n",
            "                                                                 \n",
            " layer2 (Dense)              (None, 7)                 42        \n",
            "                                                                 \n",
            " layer3 (Dense)              (None, 9)                 72        \n",
            "                                                                 \n",
            " layer4 (Dense)              (None, 10)                100       \n",
            "                                                                 \n",
            " layer5 (Dense)              (None, 11)                121       \n",
            "                                                                 \n",
            "=================================================================\n",
            "Total params: 365\n",
            "Trainable params: 365\n",
            "Non-trainable params: 0\n",
            "_________________________________________________________________\n"
          ]
        }
      ],
      "source": [
        "from tensorflow.keras import layers\n",
        "Model  = keras.Sequential([\n",
        "                           layers.Dense(5, activation=\"relu\", name = \"layer1\", input_shape=(5,)),\n",
        "                           layers.Dense(7, activation=\"relu\", name = \"layer2\"),\n",
        "                           layers.Dense(9, activation=\"relu\", name = \"layer3\"),\n",
        "                           layers.Dense(10, activation=\"relu\", name = \"layer4\"),\n",
        "                           layers.Dense(11, activation=\"relu\", name = \"layer5\")\n",
        "])\n",
        "Model.summary()"
      ]
    },
    {
      "cell_type": "markdown",
      "metadata": {
        "id": "3Oqq6j4U2G05"
      },
      "source": [
        "Optimizer used **Adam** and **Mean Squared Error** loss"
      ]
    },
    {
      "cell_type": "code",
      "execution_count": 163,
      "metadata": {
        "id": "aS0ROZa402Lo"
      },
      "outputs": [],
      "source": [
        "opt = keras.optimizers.Adam(learning_rate=0.01)\n",
        "Model.compile(loss='mse', optimizer=opt, metrics=['mse'])"
      ]
    },
    {
      "cell_type": "markdown",
      "metadata": {
        "id": "3UzgdGRR3FqJ"
      },
      "source": [
        "#MODEL FITTING"
      ]
    },
    {
      "cell_type": "code",
      "execution_count": 164,
      "metadata": {
        "colab": {
          "base_uri": "https://localhost:8080/"
        },
        "id": "ua5q5pNY3KIi",
        "outputId": "4395b4f9-011a-47a7-ac87-f0ae4ffb2262"
      },
      "outputs": [
        {
          "output_type": "stream",
          "name": "stdout",
          "text": [
            "Epoch 1/110\n",
            "2/2 [==============================] - 1s 172ms/step - loss: 11429.8389 - mse: 11429.8389 - val_loss: 11817.8770 - val_mse: 11817.8770\n",
            "Epoch 2/110\n",
            "2/2 [==============================] - 0s 27ms/step - loss: 11428.3945 - mse: 11428.3945 - val_loss: 11813.4512 - val_mse: 11813.4512\n",
            "Epoch 3/110\n",
            "2/2 [==============================] - 0s 26ms/step - loss: 11425.0830 - mse: 11425.0830 - val_loss: 11807.1797 - val_mse: 11807.1797\n",
            "Epoch 4/110\n",
            "2/2 [==============================] - 0s 25ms/step - loss: 11420.6426 - mse: 11420.6426 - val_loss: 11797.4785 - val_mse: 11797.4785\n",
            "Epoch 5/110\n",
            "2/2 [==============================] - 0s 25ms/step - loss: 11413.3506 - mse: 11413.3506 - val_loss: 11781.8545 - val_mse: 11781.8545\n",
            "Epoch 6/110\n",
            "2/2 [==============================] - 0s 24ms/step - loss: 11403.8467 - mse: 11403.8467 - val_loss: 11760.3018 - val_mse: 11760.3018\n",
            "Epoch 7/110\n",
            "2/2 [==============================] - 0s 27ms/step - loss: 11388.7871 - mse: 11388.7871 - val_loss: 11733.5645 - val_mse: 11733.5645\n",
            "Epoch 8/110\n",
            "2/2 [==============================] - 0s 27ms/step - loss: 11374.9043 - mse: 11374.9043 - val_loss: 11697.6953 - val_mse: 11697.6953\n",
            "Epoch 9/110\n",
            "2/2 [==============================] - 0s 25ms/step - loss: 11347.9834 - mse: 11347.9834 - val_loss: 11650.4727 - val_mse: 11650.4727\n",
            "Epoch 10/110\n",
            "2/2 [==============================] - 0s 25ms/step - loss: 11318.1768 - mse: 11318.1768 - val_loss: 11590.8438 - val_mse: 11590.8438\n",
            "Epoch 11/110\n",
            "2/2 [==============================] - 0s 25ms/step - loss: 11269.9199 - mse: 11269.9199 - val_loss: 11515.3789 - val_mse: 11515.3789\n",
            "Epoch 12/110\n",
            "2/2 [==============================] - 0s 27ms/step - loss: 11213.3799 - mse: 11213.3799 - val_loss: 11418.4531 - val_mse: 11418.4531\n",
            "Epoch 13/110\n",
            "2/2 [==============================] - 0s 28ms/step - loss: 11135.7949 - mse: 11135.7949 - val_loss: 11294.0840 - val_mse: 11294.0840\n",
            "Epoch 14/110\n",
            "2/2 [==============================] - 0s 30ms/step - loss: 11034.2520 - mse: 11034.2520 - val_loss: 11135.0264 - val_mse: 11135.0264\n",
            "Epoch 15/110\n",
            "2/2 [==============================] - 0s 28ms/step - loss: 10903.6445 - mse: 10903.6445 - val_loss: 10939.8730 - val_mse: 10939.8730\n",
            "Epoch 16/110\n",
            "2/2 [==============================] - 0s 28ms/step - loss: 10746.9111 - mse: 10746.9111 - val_loss: 10699.4355 - val_mse: 10699.4355\n",
            "Epoch 17/110\n",
            "2/2 [==============================] - 0s 25ms/step - loss: 10551.6670 - mse: 10551.6670 - val_loss: 10417.6240 - val_mse: 10417.6240\n",
            "Epoch 18/110\n",
            "2/2 [==============================] - 0s 25ms/step - loss: 10346.1768 - mse: 10346.1768 - val_loss: 10101.8936 - val_mse: 10101.8936\n",
            "Epoch 19/110\n",
            "2/2 [==============================] - 0s 27ms/step - loss: 10050.8232 - mse: 10050.8232 - val_loss: 9770.4014 - val_mse: 9770.4014\n",
            "Epoch 20/110\n",
            "2/2 [==============================] - 0s 24ms/step - loss: 9785.2715 - mse: 9785.2715 - val_loss: 9435.6797 - val_mse: 9435.6797\n",
            "Epoch 21/110\n",
            "2/2 [==============================] - 0s 27ms/step - loss: 9546.2354 - mse: 9546.2354 - val_loss: 9149.1611 - val_mse: 9149.1611\n",
            "Epoch 22/110\n",
            "2/2 [==============================] - 0s 30ms/step - loss: 9276.3398 - mse: 9276.3398 - val_loss: 8953.8262 - val_mse: 8953.8262\n",
            "Epoch 23/110\n",
            "2/2 [==============================] - 0s 26ms/step - loss: 9093.3379 - mse: 9093.3379 - val_loss: 8857.4170 - val_mse: 8857.4170\n",
            "Epoch 24/110\n",
            "2/2 [==============================] - 0s 27ms/step - loss: 8970.4609 - mse: 8970.4609 - val_loss: 8790.2207 - val_mse: 8790.2207\n",
            "Epoch 25/110\n",
            "2/2 [==============================] - 0s 29ms/step - loss: 8859.5107 - mse: 8859.5107 - val_loss: 8644.7344 - val_mse: 8644.7344\n",
            "Epoch 26/110\n",
            "2/2 [==============================] - 0s 36ms/step - loss: 8681.2256 - mse: 8681.2256 - val_loss: 8416.4746 - val_mse: 8416.4746\n",
            "Epoch 27/110\n",
            "2/2 [==============================] - 0s 27ms/step - loss: 8491.6553 - mse: 8491.6553 - val_loss: 8226.7305 - val_mse: 8226.7305\n",
            "Epoch 28/110\n",
            "2/2 [==============================] - 0s 29ms/step - loss: 8351.6699 - mse: 8351.6699 - val_loss: 8071.3203 - val_mse: 8071.3203\n",
            "Epoch 29/110\n",
            "2/2 [==============================] - 0s 30ms/step - loss: 8227.9453 - mse: 8227.9453 - val_loss: 7940.1323 - val_mse: 7940.1323\n",
            "Epoch 30/110\n",
            "2/2 [==============================] - 0s 30ms/step - loss: 8102.4575 - mse: 8102.4575 - val_loss: 7830.5190 - val_mse: 7830.5190\n",
            "Epoch 31/110\n",
            "2/2 [==============================] - 0s 25ms/step - loss: 7997.0752 - mse: 7997.0752 - val_loss: 7743.6025 - val_mse: 7743.6025\n",
            "Epoch 32/110\n",
            "2/2 [==============================] - 0s 27ms/step - loss: 7907.8921 - mse: 7907.8921 - val_loss: 7679.8140 - val_mse: 7679.8140\n",
            "Epoch 33/110\n",
            "2/2 [==============================] - 0s 27ms/step - loss: 7839.9561 - mse: 7839.9561 - val_loss: 7625.7134 - val_mse: 7625.7134\n",
            "Epoch 34/110\n",
            "2/2 [==============================] - 0s 25ms/step - loss: 7774.9619 - mse: 7774.9619 - val_loss: 7573.6792 - val_mse: 7573.6792\n",
            "Epoch 35/110\n",
            "2/2 [==============================] - 0s 25ms/step - loss: 7724.4067 - mse: 7724.4067 - val_loss: 7527.1465 - val_mse: 7527.1465\n",
            "Epoch 36/110\n",
            "2/2 [==============================] - 0s 27ms/step - loss: 7686.8750 - mse: 7686.8750 - val_loss: 7506.5859 - val_mse: 7506.5859\n",
            "Epoch 37/110\n",
            "2/2 [==============================] - 0s 26ms/step - loss: 7670.3320 - mse: 7670.3320 - val_loss: 7495.8242 - val_mse: 7495.8242\n",
            "Epoch 38/110\n",
            "2/2 [==============================] - 0s 26ms/step - loss: 7659.7407 - mse: 7659.7407 - val_loss: 7497.3833 - val_mse: 7497.3833\n",
            "Epoch 39/110\n",
            "2/2 [==============================] - 0s 31ms/step - loss: 7648.8003 - mse: 7648.8003 - val_loss: 7500.1724 - val_mse: 7500.1724\n",
            "Epoch 40/110\n",
            "2/2 [==============================] - 0s 30ms/step - loss: 7647.5840 - mse: 7647.5840 - val_loss: 7501.0635 - val_mse: 7501.0635\n",
            "Epoch 41/110\n",
            "2/2 [==============================] - 0s 32ms/step - loss: 7647.0830 - mse: 7647.0830 - val_loss: 7499.6099 - val_mse: 7499.6099\n",
            "Epoch 42/110\n",
            "2/2 [==============================] - 0s 28ms/step - loss: 7643.8198 - mse: 7643.8198 - val_loss: 7490.7935 - val_mse: 7490.7935\n",
            "Epoch 43/110\n",
            "2/2 [==============================] - 0s 28ms/step - loss: 7641.0918 - mse: 7641.0918 - val_loss: 7482.0078 - val_mse: 7482.0078\n",
            "Epoch 44/110\n",
            "2/2 [==============================] - 0s 30ms/step - loss: 7633.6187 - mse: 7633.6187 - val_loss: 7467.5278 - val_mse: 7467.5278\n",
            "Epoch 45/110\n",
            "2/2 [==============================] - 0s 32ms/step - loss: 7627.6689 - mse: 7627.6689 - val_loss: 7454.3516 - val_mse: 7454.3516\n",
            "Epoch 46/110\n",
            "2/2 [==============================] - 0s 27ms/step - loss: 7621.4277 - mse: 7621.4277 - val_loss: 7448.3833 - val_mse: 7448.3833\n",
            "Epoch 47/110\n",
            "2/2 [==============================] - 0s 28ms/step - loss: 7613.1890 - mse: 7613.1890 - val_loss: 7440.0903 - val_mse: 7440.0903\n",
            "Epoch 48/110\n",
            "2/2 [==============================] - 0s 29ms/step - loss: 7610.8408 - mse: 7610.8408 - val_loss: 7437.2534 - val_mse: 7437.2534\n",
            "Epoch 49/110\n",
            "2/2 [==============================] - 0s 27ms/step - loss: 7606.9082 - mse: 7606.9082 - val_loss: 7430.2886 - val_mse: 7430.2886\n",
            "Epoch 50/110\n",
            "2/2 [==============================] - 0s 30ms/step - loss: 7604.1167 - mse: 7604.1167 - val_loss: 7420.5469 - val_mse: 7420.5469\n",
            "Epoch 51/110\n",
            "2/2 [==============================] - 0s 36ms/step - loss: 7603.0806 - mse: 7603.0806 - val_loss: 7415.0337 - val_mse: 7415.0337\n",
            "Epoch 52/110\n",
            "2/2 [==============================] - 0s 30ms/step - loss: 7601.0781 - mse: 7601.0781 - val_loss: 7415.9893 - val_mse: 7415.9893\n",
            "Epoch 53/110\n",
            "2/2 [==============================] - 0s 25ms/step - loss: 7598.3330 - mse: 7598.3330 - val_loss: 7418.2124 - val_mse: 7418.2124\n",
            "Epoch 54/110\n",
            "2/2 [==============================] - 0s 28ms/step - loss: 7596.2070 - mse: 7596.2070 - val_loss: 7417.7603 - val_mse: 7417.7603\n",
            "Epoch 55/110\n",
            "2/2 [==============================] - 0s 26ms/step - loss: 7595.3008 - mse: 7595.3008 - val_loss: 7413.7876 - val_mse: 7413.7876\n",
            "Epoch 56/110\n",
            "2/2 [==============================] - 0s 28ms/step - loss: 7593.0684 - mse: 7593.0684 - val_loss: 7409.9502 - val_mse: 7409.9502\n",
            "Epoch 57/110\n",
            "2/2 [==============================] - 0s 27ms/step - loss: 7591.8184 - mse: 7591.8184 - val_loss: 7407.7871 - val_mse: 7407.7871\n",
            "Epoch 58/110\n",
            "2/2 [==============================] - 0s 27ms/step - loss: 7590.3394 - mse: 7590.3394 - val_loss: 7405.0005 - val_mse: 7405.0005\n",
            "Epoch 59/110\n",
            "2/2 [==============================] - 0s 45ms/step - loss: 7588.8555 - mse: 7588.8555 - val_loss: 7398.0000 - val_mse: 7398.0000\n",
            "Epoch 60/110\n",
            "2/2 [==============================] - 0s 27ms/step - loss: 7587.5820 - mse: 7587.5820 - val_loss: 7395.0830 - val_mse: 7395.0830\n",
            "Epoch 61/110\n",
            "2/2 [==============================] - 0s 30ms/step - loss: 7586.4712 - mse: 7586.4712 - val_loss: 7394.1245 - val_mse: 7394.1245\n",
            "Epoch 62/110\n",
            "2/2 [==============================] - 0s 28ms/step - loss: 7585.5732 - mse: 7585.5732 - val_loss: 7392.5049 - val_mse: 7392.5049\n",
            "Epoch 63/110\n",
            "2/2 [==============================] - 0s 28ms/step - loss: 7585.0176 - mse: 7585.0176 - val_loss: 7389.0566 - val_mse: 7389.0566\n",
            "Epoch 64/110\n",
            "2/2 [==============================] - 0s 29ms/step - loss: 7584.2012 - mse: 7584.2012 - val_loss: 7388.0864 - val_mse: 7388.0864\n",
            "Epoch 65/110\n",
            "2/2 [==============================] - 0s 32ms/step - loss: 7583.6377 - mse: 7583.6377 - val_loss: 7386.5049 - val_mse: 7386.5049\n",
            "Epoch 66/110\n",
            "2/2 [==============================] - 0s 49ms/step - loss: 7583.1006 - mse: 7583.1006 - val_loss: 7385.3257 - val_mse: 7385.3257\n",
            "Epoch 67/110\n",
            "2/2 [==============================] - 0s 27ms/step - loss: 7582.7637 - mse: 7582.7637 - val_loss: 7384.1055 - val_mse: 7384.1055\n",
            "Epoch 68/110\n",
            "2/2 [==============================] - 0s 46ms/step - loss: 7582.0669 - mse: 7582.0669 - val_loss: 7385.1328 - val_mse: 7385.1328\n",
            "Epoch 69/110\n",
            "2/2 [==============================] - 0s 27ms/step - loss: 7581.7725 - mse: 7581.7725 - val_loss: 7384.3984 - val_mse: 7384.3984\n",
            "Epoch 70/110\n",
            "2/2 [==============================] - 0s 28ms/step - loss: 7581.2778 - mse: 7581.2778 - val_loss: 7381.7461 - val_mse: 7381.7461\n",
            "Epoch 71/110\n",
            "2/2 [==============================] - 0s 28ms/step - loss: 7581.1089 - mse: 7581.1089 - val_loss: 7377.7656 - val_mse: 7377.7656\n",
            "Epoch 72/110\n",
            "2/2 [==============================] - 0s 29ms/step - loss: 7580.6714 - mse: 7580.6714 - val_loss: 7378.3301 - val_mse: 7378.3301\n",
            "Epoch 73/110\n",
            "2/2 [==============================] - 0s 28ms/step - loss: 7580.1025 - mse: 7580.1025 - val_loss: 7377.9224 - val_mse: 7377.9224\n",
            "Epoch 74/110\n",
            "2/2 [==============================] - 0s 38ms/step - loss: 7580.0298 - mse: 7580.0298 - val_loss: 7375.9043 - val_mse: 7375.9043\n",
            "Epoch 75/110\n",
            "2/2 [==============================] - 0s 30ms/step - loss: 7579.4785 - mse: 7579.4785 - val_loss: 7376.0752 - val_mse: 7376.0752\n",
            "Epoch 76/110\n",
            "2/2 [==============================] - 0s 32ms/step - loss: 7579.2627 - mse: 7579.2627 - val_loss: 7375.0044 - val_mse: 7375.0044\n",
            "Epoch 77/110\n",
            "2/2 [==============================] - 0s 33ms/step - loss: 7579.0869 - mse: 7579.0869 - val_loss: 7371.3867 - val_mse: 7371.3867\n",
            "Epoch 78/110\n",
            "2/2 [==============================] - 0s 37ms/step - loss: 7578.7573 - mse: 7578.7573 - val_loss: 7368.9443 - val_mse: 7368.9443\n",
            "Epoch 79/110\n",
            "2/2 [==============================] - 0s 31ms/step - loss: 7578.8125 - mse: 7578.8125 - val_loss: 7367.5479 - val_mse: 7367.5479\n",
            "Epoch 80/110\n",
            "2/2 [==============================] - 0s 26ms/step - loss: 7577.9609 - mse: 7577.9609 - val_loss: 7368.8037 - val_mse: 7368.8037\n",
            "Epoch 81/110\n",
            "2/2 [==============================] - 0s 29ms/step - loss: 7577.9932 - mse: 7577.9932 - val_loss: 7367.5742 - val_mse: 7367.5742\n",
            "Epoch 82/110\n",
            "2/2 [==============================] - 0s 28ms/step - loss: 7577.7207 - mse: 7577.7207 - val_loss: 7364.7661 - val_mse: 7364.7661\n",
            "Epoch 83/110\n",
            "2/2 [==============================] - 0s 30ms/step - loss: 7577.5791 - mse: 7577.5791 - val_loss: 7361.5068 - val_mse: 7361.5068\n",
            "Epoch 84/110\n",
            "2/2 [==============================] - 0s 26ms/step - loss: 7577.4258 - mse: 7577.4258 - val_loss: 7360.4097 - val_mse: 7360.4097\n",
            "Epoch 85/110\n",
            "2/2 [==============================] - 0s 32ms/step - loss: 7567.8765 - mse: 7567.8765 - val_loss: 7307.8477 - val_mse: 7307.8477\n",
            "Epoch 86/110\n",
            "2/2 [==============================] - 0s 34ms/step - loss: 7506.7344 - mse: 7506.7344 - val_loss: 7215.0703 - val_mse: 7215.0703\n",
            "Epoch 87/110\n",
            "2/2 [==============================] - 0s 29ms/step - loss: 7430.1992 - mse: 7430.1992 - val_loss: 7106.1045 - val_mse: 7106.1045\n",
            "Epoch 88/110\n",
            "2/2 [==============================] - 0s 27ms/step - loss: 7330.8384 - mse: 7330.8384 - val_loss: 7000.6431 - val_mse: 7000.6431\n",
            "Epoch 89/110\n",
            "2/2 [==============================] - 0s 29ms/step - loss: 7241.8867 - mse: 7241.8867 - val_loss: 6905.9688 - val_mse: 6905.9688\n",
            "Epoch 90/110\n",
            "2/2 [==============================] - 0s 31ms/step - loss: 7171.8613 - mse: 7171.8613 - val_loss: 6829.4878 - val_mse: 6829.4878\n",
            "Epoch 91/110\n",
            "2/2 [==============================] - 0s 27ms/step - loss: 7111.5400 - mse: 7111.5400 - val_loss: 6776.6001 - val_mse: 6776.6001\n",
            "Epoch 92/110\n",
            "2/2 [==============================] - 0s 28ms/step - loss: 7060.2715 - mse: 7060.2715 - val_loss: 6743.3174 - val_mse: 6743.3174\n",
            "Epoch 93/110\n",
            "2/2 [==============================] - 0s 28ms/step - loss: 7037.3228 - mse: 7037.3228 - val_loss: 6728.5879 - val_mse: 6728.5879\n",
            "Epoch 94/110\n",
            "2/2 [==============================] - 0s 26ms/step - loss: 7029.0713 - mse: 7029.0713 - val_loss: 6729.0317 - val_mse: 6729.0317\n",
            "Epoch 95/110\n",
            "2/2 [==============================] - 0s 27ms/step - loss: 7030.5449 - mse: 7030.5449 - val_loss: 6733.2949 - val_mse: 6733.2949\n",
            "Epoch 96/110\n",
            "2/2 [==============================] - 0s 25ms/step - loss: 7039.0156 - mse: 7039.0156 - val_loss: 6738.5176 - val_mse: 6738.5176\n",
            "Epoch 97/110\n",
            "2/2 [==============================] - 0s 30ms/step - loss: 7044.5957 - mse: 7044.5957 - val_loss: 6737.8818 - val_mse: 6737.8818\n",
            "Epoch 98/110\n",
            "2/2 [==============================] - 0s 38ms/step - loss: 7045.5918 - mse: 7045.5918 - val_loss: 6731.7314 - val_mse: 6731.7314\n",
            "Epoch 99/110\n",
            "2/2 [==============================] - 0s 28ms/step - loss: 7041.7764 - mse: 7041.7764 - val_loss: 6721.8076 - val_mse: 6721.8076\n",
            "Epoch 100/110\n",
            "2/2 [==============================] - 0s 26ms/step - loss: 7036.5288 - mse: 7036.5288 - val_loss: 6709.5547 - val_mse: 6709.5547\n",
            "Epoch 101/110\n",
            "2/2 [==============================] - 0s 30ms/step - loss: 7031.8047 - mse: 7031.8047 - val_loss: 6703.3765 - val_mse: 6703.3765\n",
            "Epoch 102/110\n",
            "2/2 [==============================] - 0s 31ms/step - loss: 7027.2256 - mse: 7027.2256 - val_loss: 6704.6406 - val_mse: 6704.6406\n",
            "Epoch 103/110\n",
            "2/2 [==============================] - 0s 31ms/step - loss: 7025.2534 - mse: 7025.2534 - val_loss: 6707.4780 - val_mse: 6707.4780\n",
            "Epoch 104/110\n",
            "2/2 [==============================] - 0s 30ms/step - loss: 7024.0576 - mse: 7024.0576 - val_loss: 6705.2852 - val_mse: 6705.2852\n",
            "Epoch 105/110\n",
            "2/2 [==============================] - 0s 29ms/step - loss: 7023.3926 - mse: 7023.3926 - val_loss: 6706.2046 - val_mse: 6706.2046\n",
            "Epoch 106/110\n",
            "2/2 [==============================] - 0s 47ms/step - loss: 7023.8413 - mse: 7023.8413 - val_loss: 6708.1382 - val_mse: 6708.1382\n",
            "Epoch 107/110\n",
            "2/2 [==============================] - 0s 26ms/step - loss: 7023.8545 - mse: 7023.8545 - val_loss: 6710.9194 - val_mse: 6710.9194\n",
            "Epoch 108/110\n",
            "2/2 [==============================] - 0s 27ms/step - loss: 7024.1304 - mse: 7024.1304 - val_loss: 6714.3691 - val_mse: 6714.3691\n",
            "Epoch 109/110\n",
            "2/2 [==============================] - 0s 28ms/step - loss: 7024.3838 - mse: 7024.3838 - val_loss: 6712.9683 - val_mse: 6712.9683\n",
            "Epoch 110/110\n",
            "2/2 [==============================] - 0s 29ms/step - loss: 7023.8286 - mse: 7023.8286 - val_loss: 6708.8276 - val_mse: 6708.8276\n"
          ]
        }
      ],
      "source": [
        "history = Model.fit(X_train, y_train, epochs=110, validation_data=(X_val, y_val))"
      ]
    },
    {
      "cell_type": "markdown",
      "metadata": {
        "id": "LnA1YZB23Wq4"
      },
      "source": [
        "Calculating Mean squared error and loss"
      ]
    },
    {
      "cell_type": "code",
      "execution_count": 165,
      "metadata": {
        "colab": {
          "base_uri": "https://localhost:8080/"
        },
        "id": "9y3U8QI23UvZ",
        "outputId": "e6689470-dea5-49b2-b2a8-5a807a6db06b"
      },
      "outputs": [
        {
          "output_type": "stream",
          "name": "stdout",
          "text": [
            "1/1 [==============================] - 0s 23ms/step - loss: 5586.5889 - mse: 5586.5889\n",
            "MSE: 5586.589\n"
          ]
        }
      ],
      "source": [
        "loss,mse = Model.evaluate(X_test, y_test)\n",
        "print('MSE: %.3f' % mse)"
      ]
    },
    {
      "cell_type": "code",
      "execution_count": 166,
      "metadata": {
        "id": "F_JtT5nj56uC",
        "colab": {
          "base_uri": "https://localhost:8080/",
          "height": 621
        },
        "outputId": "f3d044f4-e592-424d-8c38-1adb137e3cb6"
      },
      "outputs": [
        {
          "output_type": "display_data",
          "data": {
            "text/plain": [
              "<Figure size 720x720 with 1 Axes>"
            ],
            "image/png": "[encoded data removed]"
          },
          "metadata": {
            "needs_background": "light"
          }
        }
      ],
      "source": [
        "y_pred = Model.predict(X_test)\n",
        "plt.figure(figsize=(10,10))\n",
        "loss_train = history.history['loss']\n",
        "loss_val = history.history['val_loss']\n",
        "epochs = range(0,110)\n",
        "plt.plot(epochs, loss_train, 'g', label='Training loss')\n",
        "plt.plot(epochs, loss_val, 'b', label='validation loss')\n",
        "\n",
        "plt.title('Training and Validation loss')\n",
        "plt.xlabel('Epochs')\n",
        "plt.ylabel('Loss')\n",
        "plt.legend()\n",
        "plt.show()"
      ]
    }
  ],
  "metadata": {
    "colab": {
      "collapsed_sections": [],
      "name": "A2_200155.ipynb",
      "provenance": []
    },
    "kernelspec": {
      "display_name": "Python 3",
      "name": "python3"
    },
    "language_info": {
      "name": "python"
    }
  },
  "nbformat": 4,
  "nbformat_minor": 0
}