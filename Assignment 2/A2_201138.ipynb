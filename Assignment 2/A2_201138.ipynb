{
  "nbformat": 4,
  "nbformat_minor": 0,
  "metadata": {
    "colab": {
      "name": "[SELF] CVusingTF_Assgn2.ipynb",
      "provenance": [],
      "collapsed_sections": [
        "h2JON-_Oy79w",
        "r6it-Rm7zD1Y"
      ]
    },
    "kernelspec": {
      "name": "python3",
      "display_name": "Python 3"
    },
    "language_info": {
      "name": "python"
    }
  },
  "cells": [
    {
      "cell_type": "markdown",
      "source": [
        "# Assigment 2: Deep Learning"
      ],
      "metadata": {
        "id": "UxcaEbrCy1g_"
      }
    },
    {
      "cell_type": "markdown",
      "source": [
        "## Generate Dataset\n",
        "\n",
        "This is the same code from Assignment 1"
      ],
      "metadata": {
        "id": "h2JON-_Oy79w"
      }
    },
    {
      "cell_type": "code",
      "execution_count": 59,
      "metadata": {
        "id": "hgpG3WDuypfa"
      },
      "outputs": [],
      "source": [
        "from sklearn import datasets\n",
        "from sklearn.model_selection import train_test_split\n",
        "\n",
        "# Generate the data\n",
        "X, y = datasets.make_regression(n_samples=100, n_features=5, noise=5, random_state=4)\n",
        "# y=y/(y.max())\n",
        "# Split the data\n",
        "X_train, X_test, y_train, y_test = train_test_split(X, y, test_size=0.2, random_state=1234)\n",
        "\n"
      ]
    },
    {
      "cell_type": "markdown",
      "source": [
        "## Visualize Dataset\n",
        "This is the same code from Assignment 1"
      ],
      "metadata": {
        "id": "r6it-Rm7zD1Y"
      }
    },
    {
      "cell_type": "code",
      "source": [
        "import matplotlib.pyplot as plt\n",
        "for i in range(5):\n",
        "    plt.subplot(2,3,i+1)\n",
        "    plt.scatter(X[:,i],y)\n",
        "plt.show()"
      ],
      "metadata": {
        "id": "UautPVj1yzaQ",
        "colab": {
          "base_uri": "https://localhost:8080/",
          "height": 0
        },
        "outputId": "73a2bad8-2d7d-47bb-d070-40120dbfe0b8"
      },
      "execution_count": 60,
      "outputs": [
        {
          "output_type": "display_data",
          "data": {
            "text/plain": [
              "<Figure size 432x288 with 5 Axes>"
            ],
            "image/png": "[encoded data removed]"
          },
          "metadata": {
            "needs_background": "light"
          }
        }
      ]
    },
    {
      "cell_type": "markdown",
      "source": [
        "## Model Definition\n",
        "\n",
        "Using TensorFlow, build a model with the following definition:\n",
        "> Input of shape 5 \\\\\n",
        "> Dense of shape 5 \\\\\n",
        "> Dense of shape 5 \\\\\n",
        "> Dense of shape 1 \\\\\n",
        "\n",
        "Use Mean Square Error Loss and Stochaistic Gradient Descent (SGD) Optimizer\n",
        "\n",
        "Use Gradient Decay with appropriate parameters"
      ],
      "metadata": {
        "id": "XMXb9lTyzGHE"
      }
    },
    {
      "cell_type": "code",
      "source": [
        "import tensorflow as tf\n",
        "from tensorflow import keras\n",
        "# from keras import metrics\n",
        "# from tensorflow.keras import layers\n",
        "from tensorflow.keras.models import Sequential\n",
        "from tensorflow.keras.layers import Dense\n",
        "# Passing a list of layers to the constructor\n",
        "model = Sequential([\n",
        "    Dense(5, activation='relu', input_shape=(5,),name=\"layer1\"),\n",
        "    Dense(5,activation='relu', name=\"layer2\"),\n",
        "    Dense(1, name=\"layer3\"),\n",
        "])\n",
        "model.summary()\n",
        "epochs = 100\n",
        "\n",
        "model.compile(\n",
        "         optimizer= tf.keras.optimizers.SGD(learning_rate=0.001),\n",
        "               loss='mean_squared_error'\n",
        "          \n",
        "              )\n",
        "result = model.fit(X_train, y_train,batch_size=32, epochs=epochs,validation_data=(X_test, y_test),shuffle=True)\n",
        "model.evaluate(X_test, y_test)"
      ],
      "metadata": {
        "id": "r32N1xK2ziOs",
        "colab": {
          "base_uri": "https://localhost:8080/"
        },
        "outputId": "191d5c45-b210-4baf-ace7-af341baa41da"
      },
      "execution_count": 92,
      "outputs": [
        {
          "output_type": "stream",
          "name": "stdout",
          "text": [
            "Model: \"sequential_32\"\n",
            "_________________________________________________________________\n",
            " Layer (type)                Output Shape              Param #   \n",
            "=================================================================\n",
            " layer1 (Dense)              (None, 5)                 30        \n",
            "                                                                 \n",
            " layer2 (Dense)              (None, 5)                 30        \n",
            "                                                                 \n",
            " layer3 (Dense)              (None, 1)                 6         \n",
            "                                                                 \n",
            "=================================================================\n",
            "Total params: 66\n",
            "Trainable params: 66\n",
            "Non-trainable params: 0\n",
            "_________________________________________________________________\n",
            "Epoch 1/100\n",
            "3/3 [==============================] - 1s 111ms/step - loss: 11516.9189 - val_loss: 11503.2100\n",
            "Epoch 2/100\n",
            "3/3 [==============================] - 0s 26ms/step - loss: 11440.6377 - val_loss: 11318.1406\n",
            "Epoch 3/100\n",
            "3/3 [==============================] - 0s 21ms/step - loss: 11240.9502 - val_loss: 10619.1611\n",
            "Epoch 4/100\n",
            "3/3 [==============================] - 0s 22ms/step - loss: 10340.6162 - val_loss: 6182.2310\n",
            "Epoch 5/100\n",
            "3/3 [==============================] - 0s 25ms/step - loss: 6803.3462 - val_loss: 3410.0425\n",
            "Epoch 6/100\n",
            "3/3 [==============================] - 0s 33ms/step - loss: 5291.2632 - val_loss: 3197.8906\n",
            "Epoch 7/100\n",
            "3/3 [==============================] - 0s 28ms/step - loss: 4959.4741 - val_loss: 2799.1868\n",
            "Epoch 8/100\n",
            "3/3 [==============================] - 0s 26ms/step - loss: 3993.8657 - val_loss: 1184.4026\n",
            "Epoch 9/100\n",
            "3/3 [==============================] - 0s 27ms/step - loss: 1298.4149 - val_loss: 661.6617\n",
            "Epoch 10/100\n",
            "3/3 [==============================] - 0s 27ms/step - loss: 987.8172 - val_loss: 1997.5098\n",
            "Epoch 11/100\n",
            "3/3 [==============================] - 0s 29ms/step - loss: 1692.7625 - val_loss: 357.3246\n",
            "Epoch 12/100\n",
            "3/3 [==============================] - 0s 38ms/step - loss: 228.9827 - val_loss: 175.3550\n",
            "Epoch 13/100\n",
            "3/3 [==============================] - 0s 27ms/step - loss: 167.0820 - val_loss: 273.9441\n",
            "Epoch 14/100\n",
            "3/3 [==============================] - 0s 30ms/step - loss: 256.3285 - val_loss: 184.8892\n",
            "Epoch 15/100\n",
            "3/3 [==============================] - 0s 33ms/step - loss: 233.2034 - val_loss: 127.0707\n",
            "Epoch 16/100\n",
            "3/3 [==============================] - 0s 24ms/step - loss: 169.3871 - val_loss: 173.2648\n",
            "Epoch 17/100\n",
            "3/3 [==============================] - 0s 25ms/step - loss: 99.1200 - val_loss: 181.5815\n",
            "Epoch 18/100\n",
            "3/3 [==============================] - 0s 48ms/step - loss: 113.0477 - val_loss: 196.6878\n",
            "Epoch 19/100\n",
            "3/3 [==============================] - 0s 27ms/step - loss: 72.0310 - val_loss: 115.6032\n",
            "Epoch 20/100\n",
            "3/3 [==============================] - 0s 20ms/step - loss: 105.6109 - val_loss: 76.9739\n",
            "Epoch 21/100\n",
            "3/3 [==============================] - 0s 24ms/step - loss: 52.0212 - val_loss: 76.4961\n",
            "Epoch 22/100\n",
            "3/3 [==============================] - 0s 17ms/step - loss: 44.4487 - val_loss: 72.1403\n",
            "Epoch 23/100\n",
            "3/3 [==============================] - 0s 14ms/step - loss: 64.2443 - val_loss: 78.5854\n",
            "Epoch 24/100\n",
            "3/3 [==============================] - 0s 13ms/step - loss: 38.9532 - val_loss: 60.4772\n",
            "Epoch 25/100\n",
            "3/3 [==============================] - 0s 14ms/step - loss: 37.8514 - val_loss: 56.6966\n",
            "Epoch 26/100\n",
            "3/3 [==============================] - 0s 41ms/step - loss: 34.6592 - val_loss: 66.1162\n",
            "Epoch 27/100\n",
            "3/3 [==============================] - 0s 19ms/step - loss: 39.2192 - val_loss: 63.3450\n",
            "Epoch 28/100\n",
            "3/3 [==============================] - 0s 13ms/step - loss: 55.5428 - val_loss: 135.1205\n",
            "Epoch 29/100\n",
            "3/3 [==============================] - 0s 14ms/step - loss: 91.8473 - val_loss: 107.3810\n",
            "Epoch 30/100\n",
            "3/3 [==============================] - 0s 15ms/step - loss: 58.0938 - val_loss: 70.8282\n",
            "Epoch 31/100\n",
            "3/3 [==============================] - 0s 35ms/step - loss: 74.3456 - val_loss: 358.6577\n",
            "Epoch 32/100\n",
            "3/3 [==============================] - 0s 24ms/step - loss: 157.8669 - val_loss: 149.4631\n",
            "Epoch 33/100\n",
            "3/3 [==============================] - 0s 16ms/step - loss: 186.6589 - val_loss: 84.2538\n",
            "Epoch 34/100\n",
            "3/3 [==============================] - 0s 13ms/step - loss: 38.3369 - val_loss: 71.1311\n",
            "Epoch 35/100\n",
            "3/3 [==============================] - 0s 14ms/step - loss: 56.4880 - val_loss: 71.0532\n",
            "Epoch 36/100\n",
            "3/3 [==============================] - 0s 27ms/step - loss: 48.3556 - val_loss: 54.0798\n",
            "Epoch 37/100\n",
            "3/3 [==============================] - 0s 23ms/step - loss: 35.1062 - val_loss: 40.8745\n",
            "Epoch 38/100\n",
            "3/3 [==============================] - 0s 19ms/step - loss: 36.6426 - val_loss: 39.7994\n",
            "Epoch 39/100\n",
            "3/3 [==============================] - 0s 22ms/step - loss: 32.4699 - val_loss: 40.9520\n",
            "Epoch 40/100\n",
            "3/3 [==============================] - 0s 25ms/step - loss: 24.9985 - val_loss: 71.1445\n",
            "Epoch 41/100\n",
            "3/3 [==============================] - 0s 17ms/step - loss: 75.0987 - val_loss: 44.1843\n",
            "Epoch 42/100\n",
            "3/3 [==============================] - 0s 16ms/step - loss: 31.9066 - val_loss: 45.3355\n",
            "Epoch 43/100\n",
            "3/3 [==============================] - 0s 16ms/step - loss: 30.8323 - val_loss: 35.9122\n",
            "Epoch 44/100\n",
            "3/3 [==============================] - 0s 14ms/step - loss: 31.5209 - val_loss: 40.9180\n",
            "Epoch 45/100\n",
            "3/3 [==============================] - 0s 16ms/step - loss: 38.4605 - val_loss: 126.2278\n",
            "Epoch 46/100\n",
            "3/3 [==============================] - 0s 19ms/step - loss: 104.6024 - val_loss: 53.7737\n",
            "Epoch 47/100\n",
            "3/3 [==============================] - 0s 23ms/step - loss: 37.0445 - val_loss: 34.0136\n",
            "Epoch 48/100\n",
            "3/3 [==============================] - 0s 14ms/step - loss: 24.9673 - val_loss: 48.4079\n",
            "Epoch 49/100\n",
            "3/3 [==============================] - 0s 11ms/step - loss: 34.1834 - val_loss: 31.9955\n",
            "Epoch 50/100\n",
            "3/3 [==============================] - 0s 14ms/step - loss: 25.7527 - val_loss: 49.9455\n",
            "Epoch 51/100\n",
            "3/3 [==============================] - 0s 13ms/step - loss: 28.5729 - val_loss: 70.3562\n",
            "Epoch 52/100\n",
            "3/3 [==============================] - 0s 17ms/step - loss: 80.5541 - val_loss: 40.1956\n",
            "Epoch 53/100\n",
            "3/3 [==============================] - 0s 29ms/step - loss: 26.9379 - val_loss: 43.2332\n",
            "Epoch 54/100\n",
            "3/3 [==============================] - 0s 14ms/step - loss: 39.2296 - val_loss: 42.2518\n",
            "Epoch 55/100\n",
            "3/3 [==============================] - 0s 13ms/step - loss: 36.9290 - val_loss: 112.8334\n",
            "Epoch 56/100\n",
            "3/3 [==============================] - 0s 14ms/step - loss: 131.6131 - val_loss: 222.6491\n",
            "Epoch 57/100\n",
            "3/3 [==============================] - 0s 18ms/step - loss: 131.7546 - val_loss: 40.4035\n",
            "Epoch 58/100\n",
            "3/3 [==============================] - 0s 24ms/step - loss: 34.8064 - val_loss: 105.2461\n",
            "Epoch 59/100\n",
            "3/3 [==============================] - 0s 23ms/step - loss: 88.0185 - val_loss: 55.1862\n",
            "Epoch 60/100\n",
            "3/3 [==============================] - 0s 19ms/step - loss: 31.3134 - val_loss: 41.8221\n",
            "Epoch 61/100\n",
            "3/3 [==============================] - 0s 15ms/step - loss: 26.5213 - val_loss: 38.6571\n",
            "Epoch 62/100\n",
            "3/3 [==============================] - 0s 25ms/step - loss: 21.4029 - val_loss: 48.7201\n",
            "Epoch 63/100\n",
            "3/3 [==============================] - 0s 18ms/step - loss: 23.3550 - val_loss: 60.3817\n",
            "Epoch 64/100\n",
            "3/3 [==============================] - 0s 17ms/step - loss: 30.8728 - val_loss: 38.1348\n",
            "Epoch 65/100\n",
            "3/3 [==============================] - 0s 14ms/step - loss: 34.7396 - val_loss: 32.3781\n",
            "Epoch 66/100\n",
            "3/3 [==============================] - 0s 13ms/step - loss: 31.7474 - val_loss: 38.8748\n",
            "Epoch 67/100\n",
            "3/3 [==============================] - 0s 14ms/step - loss: 25.2433 - val_loss: 27.8547\n",
            "Epoch 68/100\n",
            "3/3 [==============================] - 0s 34ms/step - loss: 20.8097 - val_loss: 41.4676\n",
            "Epoch 69/100\n",
            "3/3 [==============================] - 0s 18ms/step - loss: 26.8814 - val_loss: 37.0821\n",
            "Epoch 70/100\n",
            "3/3 [==============================] - 0s 14ms/step - loss: 24.5036 - val_loss: 30.1370\n",
            "Epoch 71/100\n",
            "3/3 [==============================] - 0s 15ms/step - loss: 26.3705 - val_loss: 53.9378\n",
            "Epoch 72/100\n",
            "3/3 [==============================] - 0s 16ms/step - loss: 47.0223 - val_loss: 34.3087\n",
            "Epoch 73/100\n",
            "3/3 [==============================] - 0s 18ms/step - loss: 21.2572 - val_loss: 31.2857\n",
            "Epoch 74/100\n",
            "3/3 [==============================] - 0s 20ms/step - loss: 23.6433 - val_loss: 54.5654\n",
            "Epoch 75/100\n",
            "3/3 [==============================] - 0s 17ms/step - loss: 36.3178 - val_loss: 92.3237\n",
            "Epoch 76/100\n",
            "3/3 [==============================] - 0s 19ms/step - loss: 54.2493 - val_loss: 139.8737\n",
            "Epoch 77/100\n",
            "3/3 [==============================] - 0s 17ms/step - loss: 43.7143 - val_loss: 114.9304\n",
            "Epoch 78/100\n",
            "3/3 [==============================] - 0s 21ms/step - loss: 54.3719 - val_loss: 62.9883\n",
            "Epoch 79/100\n",
            "3/3 [==============================] - 0s 18ms/step - loss: 23.3698 - val_loss: 36.2838\n",
            "Epoch 80/100\n",
            "3/3 [==============================] - 0s 23ms/step - loss: 53.0357 - val_loss: 54.2586\n",
            "Epoch 81/100\n",
            "3/3 [==============================] - 0s 18ms/step - loss: 44.6238 - val_loss: 37.4935\n",
            "Epoch 82/100\n",
            "3/3 [==============================] - 0s 40ms/step - loss: 29.7298 - val_loss: 37.5946\n",
            "Epoch 83/100\n",
            "3/3 [==============================] - 0s 15ms/step - loss: 29.8525 - val_loss: 99.0279\n",
            "Epoch 84/100\n",
            "3/3 [==============================] - 0s 12ms/step - loss: 53.0351 - val_loss: 130.3247\n",
            "Epoch 85/100\n",
            "3/3 [==============================] - 0s 13ms/step - loss: 66.3310 - val_loss: 66.5714\n",
            "Epoch 86/100\n",
            "3/3 [==============================] - 0s 16ms/step - loss: 68.9418 - val_loss: 150.7304\n",
            "Epoch 87/100\n",
            "3/3 [==============================] - 0s 21ms/step - loss: 85.4103 - val_loss: 113.3159\n",
            "Epoch 88/100\n",
            "3/3 [==============================] - 0s 23ms/step - loss: 145.3408 - val_loss: 71.9694\n",
            "Epoch 89/100\n",
            "3/3 [==============================] - 0s 19ms/step - loss: 51.1911 - val_loss: 188.4016\n",
            "Epoch 90/100\n",
            "3/3 [==============================] - 0s 18ms/step - loss: 111.3606 - val_loss: 37.2039\n",
            "Epoch 91/100\n",
            "3/3 [==============================] - 0s 16ms/step - loss: 26.9047 - val_loss: 38.7781\n",
            "Epoch 92/100\n",
            "3/3 [==============================] - 0s 15ms/step - loss: 26.7194 - val_loss: 31.3244\n",
            "Epoch 93/100\n",
            "3/3 [==============================] - 0s 18ms/step - loss: 21.5729 - val_loss: 32.5928\n",
            "Epoch 94/100\n",
            "3/3 [==============================] - 0s 22ms/step - loss: 21.5465 - val_loss: 30.4768\n",
            "Epoch 95/100\n",
            "3/3 [==============================] - 0s 22ms/step - loss: 22.9332 - val_loss: 56.5814\n",
            "Epoch 96/100\n",
            "3/3 [==============================] - 0s 17ms/step - loss: 29.1292 - val_loss: 37.9903\n",
            "Epoch 97/100\n",
            "3/3 [==============================] - 0s 19ms/step - loss: 22.2391 - val_loss: 38.8860\n",
            "Epoch 98/100\n",
            "3/3 [==============================] - 0s 18ms/step - loss: 20.7043 - val_loss: 29.1970\n",
            "Epoch 99/100\n",
            "3/3 [==============================] - 0s 13ms/step - loss: 23.9269 - val_loss: 54.5341\n",
            "Epoch 100/100\n",
            "3/3 [==============================] - 0s 16ms/step - loss: 55.7858 - val_loss: 130.7705\n",
            "1/1 [==============================] - 0s 27ms/step - loss: 130.7705\n"
          ]
        },
        {
          "output_type": "execute_result",
          "data": {
            "text/plain": [
              "130.77047729492188"
            ]
          },
          "metadata": {},
          "execution_count": 92
        }
      ]
    },
    {
      "cell_type": "markdown",
      "source": [
        "## Plot Loss\n",
        "\n",
        "Using matplotlib visualise how the loss (both validation and training) is changing, use this information to retrain the model with appropriate parameters.<br>We ideally want the loss to be constant over the last few iterations."
      ],
      "metadata": {
        "id": "jmeP6vt3z0oA"
      }
    },
    {
      "cell_type": "code",
      "source": [
        "\n",
        "plt.plot(result.history['loss'])\n",
        "plt.plot(result.history['val_loss'])\n",
        "plt.title('Model loss')\n",
        "plt.ylabel('loss')\n",
        "plt.xlabel('Epoch')\n",
        "plt.legend(['Train', 'Test'], loc='upper left')\n",
        "plt.show()"
      ],
      "metadata": {
        "id": "RQTNqPHm0mOi",
        "colab": {
          "base_uri": "https://localhost:8080/",
          "height": 295
        },
        "outputId": "29c153fd-e562-48d7-d0cd-395c0ac989f9"
      },
      "execution_count": 94,
      "outputs": [
        {
          "output_type": "display_data",
          "data": {
            "text/plain": [
              "<Figure size 432x288 with 1 Axes>"
            ],
            "image/png": "[encoded data removed]"
          },
          "metadata": {
            "needs_background": "light"
          }
        }
      ]
    },
    {
      "cell_type": "markdown",
      "source": [
        "## Evaluation Metrics\n",
        "Use the R2 Score function implemented in the first assignment to evaluate the performance of the model."
      ],
      "metadata": {
        "id": "IVrR_vXA7kOt"
      }
    },
    {
      "cell_type": "code",
      "source": [
        "from sklearn.metrics import r2_score\n",
        "y_pred = model.predict(X_test)\n",
        "accu = r2_score(y_test,y_pred)\n",
        "print(\"Accuracy:\", accu)"
      ],
      "metadata": {
        "id": "-lOHpD8-7ggm",
        "colab": {
          "base_uri": "https://localhost:8080/"
        },
        "outputId": "7df336b6-f07d-4263-d758-47dfe6a34532"
      },
      "execution_count": 95,
      "outputs": [
        {
          "output_type": "stream",
          "name": "stdout",
          "text": [
            "Accuracy: 0.9871431868609025\n"
          ]
        }
      ]
    },
    {
      "cell_type": "markdown",
      "source": [
        "## Your own custom model\n",
        "Build a custom model of your own choice.<br>\n",
        "Describe it in detail in Markdown/Latex in the cell below.<br>\n",
        "Visualise the loss, as before."
      ],
      "metadata": {
        "id": "CHqzF1OU0pBg"
      }
    },
    {
      "cell_type": "markdown",
      "source": [
        "Your text here"
      ],
      "metadata": {
        "id": "jF8oTUqq0y0g"
      }
    },
    {
      "cell_type": "code",
      "source": [
        "#CUSTOM MODEL\n",
        "my_model = Sequential([\n",
        "    Dense(5, activation='relu', input_shape=(5,),name=\"layer1\"),\n",
        "    Dense(5,activation='relu', name=\"layer2\"),\n",
        "    Dense(3,activation='relu', name=\"layer3\"),\n",
        "    Dense(1, name=\"layer4\")\n",
        "])\n",
        "my_model.summary()\n",
        "\n",
        "def custom_loss_function(y_true, y_pred):\n",
        "   squared_difference = tf.square(y_true - y_pred)\n",
        "   return tf.reduce_mean(squared_difference, axis=-1)\n",
        "my_model.compile(optimizer=tf.keras.optimizers.Adam(learning_rate=0.01), loss=custom_loss_function)\n",
        "my_result = my_model.fit(X_train, y_train,validation_data=(X_test, y_test),batch_size= 32,epochs=100)\n",
        "my_model.evaluate(X_test, y_test)"
      ],
      "metadata": {
        "id": "1XOk5hJu0oSQ",
        "colab": {
          "base_uri": "https://localhost:8080/"
        },
        "outputId": "93303a7c-bef4-4c25-ee6f-9c8291800db1"
      },
      "execution_count": 98,
      "outputs": [
        {
          "output_type": "stream",
          "name": "stdout",
          "text": [
            "Model: \"sequential_34\"\n",
            "_________________________________________________________________\n",
            " Layer (type)                Output Shape              Param #   \n",
            "=================================================================\n",
            " layer1 (Dense)              (None, 5)                 30        \n",
            "                                                                 \n",
            " layer2 (Dense)              (None, 5)                 30        \n",
            "                                                                 \n",
            " layer3 (Dense)              (None, 3)                 18        \n",
            "                                                                 \n",
            " layer4 (Dense)              (None, 1)                 4         \n",
            "                                                                 \n",
            "=================================================================\n",
            "Total params: 82\n",
            "Trainable params: 82\n",
            "Non-trainable params: 0\n",
            "_________________________________________________________________\n",
            "Epoch 1/100\n",
            "3/3 [==============================] - 1s 139ms/step - loss: 11509.8047 - val_loss: 11586.3730\n",
            "Epoch 2/100\n",
            "3/3 [==============================] - 0s 35ms/step - loss: 11504.2480 - val_loss: 11579.1543\n",
            "Epoch 3/100\n",
            "3/3 [==============================] - 0s 22ms/step - loss: 11498.8281 - val_loss: 11570.6348\n",
            "Epoch 4/100\n",
            "3/3 [==============================] - 0s 23ms/step - loss: 11491.8662 - val_loss: 11560.0029\n",
            "Epoch 5/100\n",
            "3/3 [==============================] - 0s 22ms/step - loss: 11483.9668 - val_loss: 11544.3252\n",
            "Epoch 6/100\n",
            "3/3 [==============================] - 0s 25ms/step - loss: 11470.0527 - val_loss: 11522.4688\n",
            "Epoch 7/100\n",
            "3/3 [==============================] - 0s 18ms/step - loss: 11452.9375 - val_loss: 11493.5430\n",
            "Epoch 8/100\n",
            "3/3 [==============================] - 0s 21ms/step - loss: 11430.4844 - val_loss: 11454.3389\n",
            "Epoch 9/100\n",
            "3/3 [==============================] - 0s 24ms/step - loss: 11401.8359 - val_loss: 11402.2568\n",
            "Epoch 10/100\n",
            "3/3 [==============================] - 0s 21ms/step - loss: 11361.2744 - val_loss: 11336.8418\n",
            "Epoch 11/100\n",
            "3/3 [==============================] - 0s 30ms/step - loss: 11305.1250 - val_loss: 11256.4199\n",
            "Epoch 12/100\n",
            "3/3 [==============================] - 0s 23ms/step - loss: 11230.9951 - val_loss: 11150.4170\n",
            "Epoch 13/100\n",
            "3/3 [==============================] - 0s 22ms/step - loss: 11151.3271 - val_loss: 11006.5488\n",
            "Epoch 14/100\n",
            "3/3 [==============================] - 0s 24ms/step - loss: 11021.0527 - val_loss: 10825.7100\n",
            "Epoch 15/100\n",
            "3/3 [==============================] - 0s 23ms/step - loss: 10875.3516 - val_loss: 10588.9434\n",
            "Epoch 16/100\n",
            "3/3 [==============================] - 0s 22ms/step - loss: 10685.5703 - val_loss: 10287.7568\n",
            "Epoch 17/100\n",
            "3/3 [==============================] - 0s 30ms/step - loss: 10408.3721 - val_loss: 9919.8105\n",
            "Epoch 18/100\n",
            "3/3 [==============================] - 0s 20ms/step - loss: 10141.1143 - val_loss: 9479.9453\n",
            "Epoch 19/100\n",
            "3/3 [==============================] - 0s 19ms/step - loss: 9769.9316 - val_loss: 8964.3076\n",
            "Epoch 20/100\n",
            "3/3 [==============================] - 0s 19ms/step - loss: 9314.1426 - val_loss: 8367.0527\n",
            "Epoch 21/100\n",
            "3/3 [==============================] - 0s 21ms/step - loss: 8852.8779 - val_loss: 7693.7764\n",
            "Epoch 22/100\n",
            "3/3 [==============================] - 0s 36ms/step - loss: 8308.2988 - val_loss: 6964.2705\n",
            "Epoch 23/100\n",
            "3/3 [==============================] - 0s 16ms/step - loss: 7699.7314 - val_loss: 6201.9492\n",
            "Epoch 24/100\n",
            "3/3 [==============================] - 0s 17ms/step - loss: 7072.4111 - val_loss: 5459.4287\n",
            "Epoch 25/100\n",
            "3/3 [==============================] - 0s 17ms/step - loss: 6565.3140 - val_loss: 4771.7939\n",
            "Epoch 26/100\n",
            "3/3 [==============================] - 0s 16ms/step - loss: 5977.8281 - val_loss: 4226.4795\n",
            "Epoch 27/100\n",
            "3/3 [==============================] - 0s 21ms/step - loss: 5565.3232 - val_loss: 3825.5488\n",
            "Epoch 28/100\n",
            "3/3 [==============================] - 0s 13ms/step - loss: 5235.6821 - val_loss: 3544.0269\n",
            "Epoch 29/100\n",
            "3/3 [==============================] - 0s 19ms/step - loss: 4984.8164 - val_loss: 3305.5715\n",
            "Epoch 30/100\n",
            "3/3 [==============================] - 0s 16ms/step - loss: 4730.3662 - val_loss: 3055.5608\n",
            "Epoch 31/100\n",
            "3/3 [==============================] - 0s 15ms/step - loss: 4428.3735 - val_loss: 2816.9868\n",
            "Epoch 32/100\n",
            "3/3 [==============================] - 0s 17ms/step - loss: 4152.1440 - val_loss: 2596.4429\n",
            "Epoch 33/100\n",
            "3/3 [==============================] - 0s 12ms/step - loss: 3887.4485 - val_loss: 2402.8958\n",
            "Epoch 34/100\n",
            "3/3 [==============================] - 0s 14ms/step - loss: 3572.2700 - val_loss: 2190.5613\n",
            "Epoch 35/100\n",
            "3/3 [==============================] - 0s 20ms/step - loss: 3304.8188 - val_loss: 1981.2083\n",
            "Epoch 36/100\n",
            "3/3 [==============================] - 0s 12ms/step - loss: 2951.7402 - val_loss: 1784.6609\n",
            "Epoch 37/100\n",
            "3/3 [==============================] - 0s 14ms/step - loss: 2714.5029 - val_loss: 1588.5486\n",
            "Epoch 38/100\n",
            "3/3 [==============================] - 0s 14ms/step - loss: 2358.5786 - val_loss: 1407.9689\n",
            "Epoch 39/100\n",
            "3/3 [==============================] - 0s 18ms/step - loss: 2143.7441 - val_loss: 1230.3568\n",
            "Epoch 40/100\n",
            "3/3 [==============================] - 0s 33ms/step - loss: 1826.2002 - val_loss: 1068.7352\n",
            "Epoch 41/100\n",
            "3/3 [==============================] - 0s 16ms/step - loss: 1588.8444 - val_loss: 928.2018\n",
            "Epoch 42/100\n",
            "3/3 [==============================] - 0s 19ms/step - loss: 1347.5079 - val_loss: 811.2891\n",
            "Epoch 43/100\n",
            "3/3 [==============================] - 0s 17ms/step - loss: 1208.4117 - val_loss: 709.5200\n",
            "Epoch 44/100\n",
            "3/3 [==============================] - 0s 13ms/step - loss: 1060.0043 - val_loss: 632.5621\n",
            "Epoch 45/100\n",
            "3/3 [==============================] - 0s 14ms/step - loss: 949.9412 - val_loss: 587.1240\n",
            "Epoch 46/100\n",
            "3/3 [==============================] - 0s 22ms/step - loss: 847.7754 - val_loss: 553.3489\n",
            "Epoch 47/100\n",
            "3/3 [==============================] - 0s 19ms/step - loss: 782.9680 - val_loss: 526.8488\n",
            "Epoch 48/100\n",
            "3/3 [==============================] - 0s 17ms/step - loss: 729.5586 - val_loss: 511.0107\n",
            "Epoch 49/100\n",
            "3/3 [==============================] - 0s 13ms/step - loss: 692.8752 - val_loss: 516.6722\n",
            "Epoch 50/100\n",
            "3/3 [==============================] - 0s 14ms/step - loss: 650.5974 - val_loss: 506.4692\n",
            "Epoch 51/100\n",
            "3/3 [==============================] - 0s 17ms/step - loss: 611.0297 - val_loss: 505.6512\n",
            "Epoch 52/100\n",
            "3/3 [==============================] - 0s 31ms/step - loss: 580.8906 - val_loss: 514.3246\n",
            "Epoch 53/100\n",
            "3/3 [==============================] - 0s 16ms/step - loss: 548.2288 - val_loss: 528.8716\n",
            "Epoch 54/100\n",
            "3/3 [==============================] - 0s 12ms/step - loss: 505.6310 - val_loss: 542.1063\n",
            "Epoch 55/100\n",
            "3/3 [==============================] - 0s 12ms/step - loss: 466.9241 - val_loss: 547.4818\n",
            "Epoch 56/100\n",
            "3/3 [==============================] - 0s 14ms/step - loss: 431.1199 - val_loss: 550.2665\n",
            "Epoch 57/100\n",
            "3/3 [==============================] - 0s 16ms/step - loss: 399.5246 - val_loss: 554.5236\n",
            "Epoch 58/100\n",
            "3/3 [==============================] - 0s 17ms/step - loss: 372.5771 - val_loss: 558.7906\n",
            "Epoch 59/100\n",
            "3/3 [==============================] - 0s 26ms/step - loss: 347.6184 - val_loss: 560.9785\n",
            "Epoch 60/100\n",
            "3/3 [==============================] - 0s 16ms/step - loss: 339.1025 - val_loss: 561.3337\n",
            "Epoch 61/100\n",
            "3/3 [==============================] - 0s 13ms/step - loss: 327.5766 - val_loss: 548.5934\n",
            "Epoch 62/100\n",
            "3/3 [==============================] - 0s 23ms/step - loss: 309.8559 - val_loss: 544.0731\n",
            "Epoch 63/100\n",
            "3/3 [==============================] - 0s 17ms/step - loss: 302.5692 - val_loss: 539.1755\n",
            "Epoch 64/100\n",
            "3/3 [==============================] - 0s 15ms/step - loss: 285.5876 - val_loss: 524.9002\n",
            "Epoch 65/100\n",
            "3/3 [==============================] - 0s 16ms/step - loss: 274.6292 - val_loss: 515.7844\n",
            "Epoch 66/100\n",
            "3/3 [==============================] - 0s 13ms/step - loss: 263.9766 - val_loss: 506.8965\n",
            "Epoch 67/100\n",
            "3/3 [==============================] - 0s 14ms/step - loss: 256.1554 - val_loss: 501.3705\n",
            "Epoch 68/100\n",
            "3/3 [==============================] - 0s 22ms/step - loss: 246.6815 - val_loss: 494.7025\n",
            "Epoch 69/100\n",
            "3/3 [==============================] - 0s 15ms/step - loss: 240.2110 - val_loss: 493.2588\n",
            "Epoch 70/100\n",
            "3/3 [==============================] - 0s 13ms/step - loss: 230.6413 - val_loss: 484.3612\n",
            "Epoch 71/100\n",
            "3/3 [==============================] - 0s 14ms/step - loss: 222.1704 - val_loss: 472.8805\n",
            "Epoch 72/100\n",
            "3/3 [==============================] - 0s 13ms/step - loss: 218.8834 - val_loss: 462.3520\n",
            "Epoch 73/100\n",
            "3/3 [==============================] - 0s 19ms/step - loss: 218.9699 - val_loss: 454.3741\n",
            "Epoch 74/100\n",
            "3/3 [==============================] - 0s 14ms/step - loss: 206.9532 - val_loss: 447.8719\n",
            "Epoch 75/100\n",
            "3/3 [==============================] - 0s 24ms/step - loss: 201.5818 - val_loss: 442.7237\n",
            "Epoch 76/100\n",
            "3/3 [==============================] - 0s 15ms/step - loss: 196.0259 - val_loss: 432.8144\n",
            "Epoch 77/100\n",
            "3/3 [==============================] - 0s 12ms/step - loss: 193.3255 - val_loss: 425.4892\n",
            "Epoch 78/100\n",
            "3/3 [==============================] - 0s 13ms/step - loss: 190.7289 - val_loss: 421.2609\n",
            "Epoch 79/100\n",
            "3/3 [==============================] - 0s 12ms/step - loss: 186.9183 - val_loss: 418.0838\n",
            "Epoch 80/100\n",
            "3/3 [==============================] - 0s 14ms/step - loss: 185.0233 - val_loss: 420.9575\n",
            "Epoch 81/100\n",
            "3/3 [==============================] - 0s 14ms/step - loss: 180.1646 - val_loss: 416.6638\n",
            "Epoch 82/100\n",
            "3/3 [==============================] - 0s 15ms/step - loss: 176.3993 - val_loss: 413.4862\n",
            "Epoch 83/100\n",
            "3/3 [==============================] - 0s 13ms/step - loss: 173.4145 - val_loss: 413.7818\n",
            "Epoch 84/100\n",
            "3/3 [==============================] - 0s 12ms/step - loss: 170.5916 - val_loss: 421.3502\n",
            "Epoch 85/100\n",
            "3/3 [==============================] - 0s 16ms/step - loss: 168.4367 - val_loss: 418.7270\n",
            "Epoch 86/100\n",
            "3/3 [==============================] - 0s 16ms/step - loss: 165.1712 - val_loss: 417.4282\n",
            "Epoch 87/100\n",
            "3/3 [==============================] - 0s 14ms/step - loss: 162.3290 - val_loss: 410.7211\n",
            "Epoch 88/100\n",
            "3/3 [==============================] - 0s 17ms/step - loss: 159.9114 - val_loss: 406.4454\n",
            "Epoch 89/100\n",
            "3/3 [==============================] - 0s 17ms/step - loss: 158.1710 - val_loss: 401.5418\n",
            "Epoch 90/100\n",
            "3/3 [==============================] - 0s 13ms/step - loss: 154.1513 - val_loss: 401.5791\n",
            "Epoch 91/100\n",
            "3/3 [==============================] - 0s 13ms/step - loss: 151.9854 - val_loss: 401.6361\n",
            "Epoch 92/100\n",
            "3/3 [==============================] - 0s 23ms/step - loss: 152.6230 - val_loss: 395.6238\n",
            "Epoch 93/100\n",
            "3/3 [==============================] - 0s 23ms/step - loss: 154.2257 - val_loss: 384.2067\n",
            "Epoch 94/100\n",
            "3/3 [==============================] - 0s 20ms/step - loss: 147.7221 - val_loss: 381.6778\n",
            "Epoch 95/100\n",
            "3/3 [==============================] - 0s 12ms/step - loss: 146.2921 - val_loss: 375.9330\n",
            "Epoch 96/100\n",
            "3/3 [==============================] - 0s 13ms/step - loss: 143.8396 - val_loss: 370.8116\n",
            "Epoch 97/100\n",
            "3/3 [==============================] - 0s 13ms/step - loss: 146.0209 - val_loss: 368.6269\n",
            "Epoch 98/100\n",
            "3/3 [==============================] - 0s 19ms/step - loss: 144.8109 - val_loss: 380.3648\n",
            "Epoch 99/100\n",
            "3/3 [==============================] - 0s 22ms/step - loss: 145.1968 - val_loss: 379.1917\n",
            "Epoch 100/100\n",
            "3/3 [==============================] - 0s 14ms/step - loss: 140.5494 - val_loss: 370.1602\n",
            "1/1 [==============================] - 0s 19ms/step - loss: 370.1602\n"
          ]
        },
        {
          "output_type": "execute_result",
          "data": {
            "text/plain": [
              "370.1602478027344"
            ]
          },
          "metadata": {},
          "execution_count": 98
        }
      ]
    },
    {
      "cell_type": "code",
      "source": [
        "plt.plot(my_result.history['loss'])\n",
        "plt.plot(my_result.history['val_loss'])\n",
        "plt.title('Model loss')\n",
        "plt.ylabel('loss')\n",
        "plt.xlabel('Epoch')\n",
        "plt.legend(['Train_loss', 'Test_loss'], loc='upper left')\n",
        "plt.show()"
      ],
      "metadata": {
        "id": "aS0ROZa402Lo",
        "colab": {
          "base_uri": "https://localhost:8080/",
          "height": 295
        },
        "outputId": "259b44e7-f782-42cf-8f93-3e5c049f10f4"
      },
      "execution_count": 99,
      "outputs": [
        {
          "output_type": "display_data",
          "data": {
            "text/plain": [
              "<Figure size 432x288 with 1 Axes>"
            ],
            "image/png": "[encoded data removed]"
          },
          "metadata": {
            "needs_background": "light"
          }
        }
      ]
    },
    {
      "cell_type": "code",
      "source": [
        "from sklearn.metrics import r2_score\n",
        "y_pred = my_model.predict(X_test)\n",
        "accuracy = r2_score(y_test,y_pred)\n",
        "print(\"Accuracy:\", accuracy)"
      ],
      "metadata": {
        "colab": {
          "base_uri": "https://localhost:8080/"
        },
        "id": "Gul0PqCFPvDB",
        "outputId": "24da3813-8989-49a1-d1fe-e3a9264d41c6"
      },
      "execution_count": 100,
      "outputs": [
        {
          "output_type": "stream",
          "name": "stdout",
          "text": [
            "Accuracy: 0.96360738599422\n"
          ]
        }
      ]
    }
  ]
}