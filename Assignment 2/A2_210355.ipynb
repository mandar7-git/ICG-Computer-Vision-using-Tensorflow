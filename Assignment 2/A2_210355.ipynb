{
  "nbformat": 4,
  "nbformat_minor": 0,
  "metadata": {
    "colab": {
      "name": "A2_210355.ipynb",
      "provenance": [],
      "collapsed_sections": []
    },
    "kernelspec": {
      "name": "python3",
      "display_name": "Python 3"
    },
    "language_info": {
      "name": "python"
    }
  },
  "cells": [
    {
      "cell_type": "markdown",
      "source": [
        "# Assigment 2: Deep Learning"
      ],
      "metadata": {
        "id": "UxcaEbrCy1g_"
      }
    },
    {
      "cell_type": "markdown",
      "source": [
        "## Generate Dataset\n",
        "\n",
        "This is the same code from Assignment 1"
      ],
      "metadata": {
        "id": "h2JON-_Oy79w"
      }
    },
    {
      "cell_type": "code",
      "execution_count": 155,
      "metadata": {
        "id": "hgpG3WDuypfa"
      },
      "outputs": [],
      "source": [
        "from sklearn import datasets\n",
        "from sklearn.model_selection import train_test_split\n",
        "\n",
        "# Generate the data\n",
        "X, y = datasets.make_regression(n_samples=100, n_features=5, noise=5, random_state=4)\n",
        "\n",
        "# Split the data\n",
        "X_train, X_test, y_train, y_test = train_test_split(X, y, test_size=0.2, random_state=1234)\n"
      ]
    },
    {
      "cell_type": "code",
      "source": [
        "print(f\"shape of x_train:{X_train.shape} and shape of x_test:{X_test.shape}\")"
      ],
      "metadata": {
        "colab": {
          "base_uri": "https://localhost:8080/"
        },
        "id": "oJhPVZ1VD1SN",
        "outputId": "deba84d5-85be-459f-de08-a5e809703e38"
      },
      "execution_count": 156,
      "outputs": [
        {
          "output_type": "stream",
          "name": "stdout",
          "text": [
            "shape of x_train:(80, 5) and shape of x_test:(20, 5)\n"
          ]
        }
      ]
    },
    {
      "cell_type": "code",
      "source": [
        "print(f\"shape of y_train:{y_train.shape} and shape of y_test:{y_test.shape}\")"
      ],
      "metadata": {
        "colab": {
          "base_uri": "https://localhost:8080/"
        },
        "id": "RBvp3pEqQfmZ",
        "outputId": "6db7f6f9-0c8e-4b8c-98f6-02696c4b5c3e"
      },
      "execution_count": 157,
      "outputs": [
        {
          "output_type": "stream",
          "name": "stdout",
          "text": [
            "shape of y_train:(80,) and shape of y_test:(20,)\n"
          ]
        }
      ]
    },
    {
      "cell_type": "markdown",
      "source": [
        "## Visualize Dataset\n",
        "This is the same code from Assignment 1"
      ],
      "metadata": {
        "id": "r6it-Rm7zD1Y"
      }
    },
    {
      "cell_type": "code",
      "source": [
        "import matplotlib.pyplot as plt\n",
        "\n",
        "# Your code here"
      ],
      "metadata": {
        "id": "UautPVj1yzaQ"
      },
      "execution_count": 158,
      "outputs": []
    },
    {
      "cell_type": "code",
      "source": [
        "plt.title(\"with respect to feature-1\")\n",
        "plt.scatter(X[:,0],y)\n",
        "plt.show()"
      ],
      "metadata": {
        "colab": {
          "base_uri": "https://localhost:8080/",
          "height": 281
        },
        "id": "KZf5QlwhQuTp",
        "outputId": "93e39cce-f1a8-4b0c-93d0-905a294c698d"
      },
      "execution_count": 159,
      "outputs": [
        {
          "output_type": "display_data",
          "data": {
            "text/plain": [
              "<Figure size 432x288 with 1 Axes>"
            ],
            "image/png": "[encoded data removed]"
          },
          "metadata": {
            "needs_background": "light"
          }
        }
      ]
    },
    {
      "cell_type": "code",
      "source": [
        "plt.title(\"with respect to feature-2\")\n",
        "plt.scatter(X[:,1],y)\n",
        "plt.show()"
      ],
      "metadata": {
        "colab": {
          "base_uri": "https://localhost:8080/",
          "height": 281
        },
        "id": "igYVQPHHRdHc",
        "outputId": "1c39049d-2cd0-4956-90cb-ad01eebe326d"
      },
      "execution_count": 160,
      "outputs": [
        {
          "output_type": "display_data",
          "data": {
            "text/plain": [
              "<Figure size 432x288 with 1 Axes>"
            ],
            "image/png": "[encoded data removed]"
          },
          "metadata": {
            "needs_background": "light"
          }
        }
      ]
    },
    {
      "cell_type": "code",
      "source": [
        "plt.title(\"with respect to feature-3\")\n",
        "plt.scatter(X[:,2],y)\n",
        "plt.show()"
      ],
      "metadata": {
        "colab": {
          "base_uri": "https://localhost:8080/",
          "height": 281
        },
        "id": "9DhD5zR7Re79",
        "outputId": "70ef9a8b-2f60-495b-e10d-f3ccb3dab2ef"
      },
      "execution_count": 161,
      "outputs": [
        {
          "output_type": "display_data",
          "data": {
            "text/plain": [
              "<Figure size 432x288 with 1 Axes>"
            ],
            "image/png": "[encoded data removed]"
          },
          "metadata": {
            "needs_background": "light"
          }
        }
      ]
    },
    {
      "cell_type": "code",
      "source": [
        "plt.title(\"with respect to feature-4\")\n",
        "plt.scatter(X[:,3],y)\n",
        "plt.show()"
      ],
      "metadata": {
        "colab": {
          "base_uri": "https://localhost:8080/",
          "height": 281
        },
        "id": "IYgexrq9RetP",
        "outputId": "9ae4a5bb-1fd4-4d91-d775-bd0bf0caf70d"
      },
      "execution_count": 162,
      "outputs": [
        {
          "output_type": "display_data",
          "data": {
            "text/plain": [
              "<Figure size 432x288 with 1 Axes>"
            ],
            "image/png": "[encoded data removed]"
          },
          "metadata": {
            "needs_background": "light"
          }
        }
      ]
    },
    {
      "cell_type": "code",
      "source": [
        "plt.title(\"with respect to feature-5\")\n",
        "plt.scatter(X[:,4],y)\n",
        "plt.show()"
      ],
      "metadata": {
        "colab": {
          "base_uri": "https://localhost:8080/",
          "height": 281
        },
        "id": "j_GmKPwMReeX",
        "outputId": "cc940cc0-0212-466d-a6e5-f5d9de984076"
      },
      "execution_count": 163,
      "outputs": [
        {
          "output_type": "display_data",
          "data": {
            "text/plain": [
              "<Figure size 432x288 with 1 Axes>"
            ],
            "image/png": "[encoded data removed]"
          },
          "metadata": {
            "needs_background": "light"
          }
        }
      ]
    },
    {
      "cell_type": "markdown",
      "source": [
        "## Model Definition\n",
        "\n",
        "Using TensorFlow, build a model with the following definition:\n",
        "> Input of shape 5 \\\\\n",
        "> Dense of shape 5 \\\\\n",
        "> Dense of shape 5 \\\\\n",
        "> Dense of shape 1 \\\\\n",
        "\n",
        "Use Mean Square Error Loss and Stochaistic Gradient Descent (SGD) Optimizer\n",
        "\n",
        "Use Gradient Decay with appropriate parameters"
      ],
      "metadata": {
        "id": "XMXb9lTyzGHE"
      }
    },
    {
      "cell_type": "code",
      "source": [
        "import tensorflow as tf\n",
        "from tensorflow import keras\n",
        "from tensorflow.keras import layers\n",
        "# Your code here"
      ],
      "metadata": {
        "id": "r32N1xK2ziOs"
      },
      "execution_count": 164,
      "outputs": []
    },
    {
      "cell_type": "code",
      "source": [
        "Normalizer = tf.keras.layers.Normalization(axis=-1)"
      ],
      "metadata": {
        "id": "FOp31U80b3xO"
      },
      "execution_count": 165,
      "outputs": []
    },
    {
      "cell_type": "code",
      "source": [
        "myfirst_model = tf.keras.Sequential([\n",
        "           Normalizer,\n",
        "           layers.Dense(5,activation='relu'),\n",
        "           layers.Dense(5,activation ='relu'),\n",
        "           layers.Dense(1)                          \n",
        "])"
      ],
      "metadata": {
        "id": "vOjX9toacNY2"
      },
      "execution_count": 166,
      "outputs": []
    },
    {
      "cell_type": "code",
      "source": [
        "myfirst_model.compile(loss=tf.keras.losses.MeanSquaredError(),\n",
        "                      optimizer=tf.keras.optimizers.SGD(learning_rate=0.00001, momentum=0.0, nesterov=False))"
      ],
      "metadata": {
        "id": "F4IkP0j1eek0"
      },
      "execution_count": 167,
      "outputs": []
    },
    {
      "cell_type": "code",
      "source": [
        "myfirst_model.predict(X_train[:10])"
      ],
      "metadata": {
        "colab": {
          "base_uri": "https://localhost:8080/"
        },
        "id": "kOLFbCJCfMzP",
        "outputId": "1f09bbf1-9cde-4f59-fb7f-ecd5f38dc70f"
      },
      "execution_count": 168,
      "outputs": [
        {
          "output_type": "execute_result",
          "data": {
            "text/plain": [
              "array([[ 0.41224602],\n",
              "       [ 0.35434017],\n",
              "       [ 0.35464525],\n",
              "       [ 0.15367697],\n",
              "       [ 0.03448092],\n",
              "       [-0.00578881],\n",
              "       [ 0.16810761],\n",
              "       [ 0.19134963],\n",
              "       [ 0.00760195],\n",
              "       [ 0.00427457]], dtype=float32)"
            ]
          },
          "metadata": {},
          "execution_count": 168
        }
      ]
    },
    {
      "cell_type": "code",
      "source": [
        "myfirst_model.summary()"
      ],
      "metadata": {
        "colab": {
          "base_uri": "https://localhost:8080/"
        },
        "id": "dquxfF-CfNJg",
        "outputId": "caa84748-c572-4413-e2c6-a048e486ba36"
      },
      "execution_count": 169,
      "outputs": [
        {
          "output_type": "stream",
          "name": "stdout",
          "text": [
            "Model: \"sequential_7\"\n",
            "_________________________________________________________________\n",
            " Layer (type)                Output Shape              Param #   \n",
            "=================================================================\n",
            " normalization_7 (Normalizat  (None, 5)                11        \n",
            " ion)                                                            \n",
            "                                                                 \n",
            " dense_21 (Dense)            (None, 5)                 30        \n",
            "                                                                 \n",
            " dense_22 (Dense)            (None, 5)                 30        \n",
            "                                                                 \n",
            " dense_23 (Dense)            (None, 1)                 6         \n",
            "                                                                 \n",
            "=================================================================\n",
            "Total params: 77\n",
            "Trainable params: 66\n",
            "Non-trainable params: 11\n",
            "_________________________________________________________________\n"
          ]
        }
      ]
    },
    {
      "cell_type": "code",
      "source": [
        "%%time\n",
        "history = myfirst_model.fit(\n",
        "    X_train,\n",
        "    y_train,\n",
        "    validation_split=0.2,\n",
        "    verbose=0, epochs=1000)\n"
      ],
      "metadata": {
        "colab": {
          "base_uri": "https://localhost:8080/"
        },
        "id": "aXakyT7uf7VJ",
        "outputId": "eeacfd26-96df-4a98-d287-373f820196f2"
      },
      "execution_count": 170,
      "outputs": [
        {
          "output_type": "stream",
          "name": "stdout",
          "text": [
            "CPU times: user 28.4 s, sys: 1.17 s, total: 29.5 s\n",
            "Wall time: 28.1 s\n"
          ]
        }
      ]
    },
    {
      "cell_type": "code",
      "source": [
        "#history.history['val_loss'].tail()"
      ],
      "metadata": {
        "id": "GevwzC_qf6ot"
      },
      "execution_count": 171,
      "outputs": []
    },
    {
      "cell_type": "markdown",
      "source": [
        "## Plot Loss\n",
        "\n",
        "Using matplotlib visualise how the loss (both validation and training) is changing, use this information to retrain the model with appropriate parameters.<br>We ideally want the loss to be constant over the last few iterations."
      ],
      "metadata": {
        "id": "jmeP6vt3z0oA"
      }
    },
    {
      "cell_type": "code",
      "source": [
        "y = history.history['loss']\n",
        "z = history.history['val_loss']\n",
        "plt.plot(y,label=\"loss\")\n",
        "plt.plot(z,label=\"val_loss\")\n",
        "plt.ylabel(\"loss\")\n",
        "plt.xlabel(\"Iterations\")\n",
        "plt.legend()\n",
        "plt.grid(True)"
      ],
      "metadata": {
        "id": "RQTNqPHm0mOi",
        "colab": {
          "base_uri": "https://localhost:8080/",
          "height": 279
        },
        "outputId": "5db68cb0-6289-488d-eb02-bc84c3b11700"
      },
      "execution_count": 172,
      "outputs": [
        {
          "output_type": "display_data",
          "data": {
            "text/plain": [
              "<Figure size 432x288 with 1 Axes>"
            ],
            "image/png": "[encoded data removed]"
          },
          "metadata": {
            "needs_background": "light"
          }
        }
      ]
    },
    {
      "cell_type": "markdown",
      "source": [
        "## Evaluation Metrics\n",
        "Use the R2 Score function implemented in the first assignment to evaluate the performance of the model."
      ],
      "metadata": {
        "id": "IVrR_vXA7kOt"
      }
    },
    {
      "cell_type": "code",
      "source": [
        "predictions = myfirst_model.predict(X_test)"
      ],
      "metadata": {
        "id": "e0N9A-9vlma7"
      },
      "execution_count": 173,
      "outputs": []
    },
    {
      "cell_type": "code",
      "source": [
        "predictions[:10]"
      ],
      "metadata": {
        "colab": {
          "base_uri": "https://localhost:8080/"
        },
        "id": "mqilLjq-Srox",
        "outputId": "253c8542-82a0-4005-bc14-45057c550a55"
      },
      "execution_count": 174,
      "outputs": [
        {
          "output_type": "execute_result",
          "data": {
            "text/plain": [
              "array([[ 169.80963 ],\n",
              "       [-123.10898 ],\n",
              "       [  72.374344],\n",
              "       [-138.44054 ],\n",
              "       [   3.518202],\n",
              "       [ -77.10021 ],\n",
              "       [  63.527916],\n",
              "       [  42.232426],\n",
              "       [-141.25687 ],\n",
              "       [ 142.64418 ]], dtype=float32)"
            ]
          },
          "metadata": {},
          "execution_count": 174
        }
      ]
    },
    {
      "cell_type": "code",
      "source": [
        "# Insert the function for R2 Score\n",
        "from sklearn.metrics import r2_score\n",
        "\n",
        "accu = r2_score(y_test,predictions)\n",
        "print(accu)"
      ],
      "metadata": {
        "id": "-lOHpD8-7ggm",
        "colab": {
          "base_uri": "https://localhost:8080/"
        },
        "outputId": "548392b7-26c6-422b-d869-c55f8d1fea33"
      },
      "execution_count": 175,
      "outputs": [
        {
          "output_type": "stream",
          "name": "stdout",
          "text": [
            "0.9661276597383492\n"
          ]
        }
      ]
    },
    {
      "cell_type": "markdown",
      "source": [
        "## Your own custom model\n",
        "Build a custom model of your own choice.<br>\n",
        "Describe it in detail in Markdown/Latex in the cell below.<br>\n",
        "Visualise the loss, as before."
      ],
      "metadata": {
        "id": "CHqzF1OU0pBg"
      }
    },
    {
      "cell_type": "markdown",
      "source": [
        "Your text here"
      ],
      "metadata": {
        "id": "jF8oTUqq0y0g"
      }
    },
    {
      "cell_type": "markdown",
      "source": [
        "Generating the dataset here(number of samples is 1000):-"
      ],
      "metadata": {
        "id": "Lk-eXhdbGXSP"
      }
    },
    {
      "cell_type": "code",
      "source": [
        "# Your code here\n",
        "from sklearn import datasets\n",
        "from sklearn.model_selection import train_test_split\n",
        "\n",
        "\n",
        "X, y = datasets.make_regression(n_samples=1000, n_features=5, noise=5, random_state=4)\n",
        "\n",
        "\n",
        "X_train, X_test, y_train, y_test = train_test_split(X, y, test_size=0.2, random_state=1234)"
      ],
      "metadata": {
        "id": "1XOk5hJu0oSQ"
      },
      "execution_count": 1,
      "outputs": []
    },
    {
      "cell_type": "code",
      "source": [
        "print(X_train.shape,X_test.shape)\n",
        "print(y_train.shape,y_test.shape)"
      ],
      "metadata": {
        "colab": {
          "base_uri": "https://localhost:8080/"
        },
        "id": "Bk1y7BUnFCNQ",
        "outputId": "e651c2d6-6f2e-4d7f-cc69-158d84b17cf9"
      },
      "execution_count": 2,
      "outputs": [
        {
          "output_type": "stream",
          "name": "stdout",
          "text": [
            "(800, 5) (200, 5)\n",
            "(800,) (200,)\n"
          ]
        }
      ]
    },
    {
      "cell_type": "markdown",
      "source": [
        "Importing the libraries"
      ],
      "metadata": {
        "id": "2mCUecaaGlHf"
      }
    },
    {
      "cell_type": "code",
      "source": [
        "import tensorflow as tf\n",
        "import matplotlib.pyplot as plt\n",
        "from tensorflow import keras\n",
        "from tensorflow.keras import layers"
      ],
      "metadata": {
        "id": "RRZ7P1_-FB4J"
      },
      "execution_count": 4,
      "outputs": []
    },
    {
      "cell_type": "code",
      "source": [
        "Normalizer = tf.keras.layers.Normalization(axis=-1)"
      ],
      "metadata": {
        "id": "RFuTyW50FBss"
      },
      "execution_count": 5,
      "outputs": []
    },
    {
      "cell_type": "markdown",
      "source": [
        "Model here,\n",
        "tried using the 'tanh' activation function."
      ],
      "metadata": {
        "id": "1m2TzvQKGs4m"
      }
    },
    {
      "cell_type": "code",
      "source": [
        "custom_model = tf.keras.Sequential([\n",
        "      Normalizer,\n",
        "      layers.Dense(4,activation=\"tanh\"),\n",
        "      layers.Dense(6,activation=\"tanh\"),\n",
        "      layers.Dense(1)                              \n",
        "])"
      ],
      "metadata": {
        "id": "iXLVEvrOFnOF"
      },
      "execution_count": 6,
      "outputs": []
    },
    {
      "cell_type": "markdown",
      "source": [
        "Tried using the Adam optimizer here"
      ],
      "metadata": {
        "id": "rpTbepo1G5Cy"
      }
    },
    {
      "cell_type": "code",
      "source": [
        "custom_model.compile(\n",
        "    loss=tf.keras.losses.MeanSquaredError(),\n",
        "    optimizer=tf.optimizers.Adam(learning_rate=0.04)\n",
        ")"
      ],
      "metadata": {
        "id": "lCstgEJ3FBhT"
      },
      "execution_count": 7,
      "outputs": []
    },
    {
      "cell_type": "markdown",
      "source": [
        "training the Model goes here"
      ],
      "metadata": {
        "id": "NWLc2YZmG-UA"
      }
    },
    {
      "cell_type": "code",
      "source": [
        "%%time\n",
        "history = custom_model.fit(\n",
        "    X_train,\n",
        "    y_train,\n",
        "    validation_split=0.2,\n",
        "    verbose=0, epochs=130)"
      ],
      "metadata": {
        "id": "aS0ROZa402Lo",
        "colab": {
          "base_uri": "https://localhost:8080/"
        },
        "outputId": "2d5597ca-b0f8-48d3-8b20-baaa90878ce8"
      },
      "execution_count": 8,
      "outputs": [
        {
          "output_type": "stream",
          "name": "stdout",
          "text": [
            "CPU times: user 7.64 s, sys: 468 ms, total: 8.11 s\n",
            "Wall time: 8.08 s\n"
          ]
        }
      ]
    },
    {
      "cell_type": "markdown",
      "source": [
        "Plot Loss"
      ],
      "metadata": {
        "id": "OOWxjSVWHDly"
      }
    },
    {
      "cell_type": "code",
      "source": [
        "y = history.history['loss']\n",
        "z = history.history['val_loss']\n",
        "plt.plot(y,label=\"loss\")\n",
        "plt.plot(z,label=\"val_loss\")\n",
        "plt.ylabel(\"loss\")\n",
        "plt.xlabel(\"Iterations\")\n",
        "plt.legend()\n",
        "plt.grid(True)"
      ],
      "metadata": {
        "colab": {
          "base_uri": "https://localhost:8080/",
          "height": 281
        },
        "id": "IWbjZpaJFv8x",
        "outputId": "feddb613-4680-4d3b-f66f-611b52879285"
      },
      "execution_count": 9,
      "outputs": [
        {
          "output_type": "display_data",
          "data": {
            "text/plain": [
              "<Figure size 432x288 with 1 Axes>"
            ],
            "image/png": "[encoded data removed]"
          },
          "metadata": {
            "needs_background": "light"
          }
        }
      ]
    },
    {
      "cell_type": "markdown",
      "source": [
        "Accuracy:-"
      ],
      "metadata": {
        "id": "I_xKiszwHHMV"
      }
    },
    {
      "cell_type": "code",
      "source": [
        "predictions = custom_model.predict(X_test)\n",
        "from sklearn.metrics import r2_score\n",
        "\n",
        "accu = r2_score(y_test,predictions)\n",
        "print(\"Accuracy:\",accu)"
      ],
      "metadata": {
        "colab": {
          "base_uri": "https://localhost:8080/"
        },
        "id": "_N4DoTU2Fv4U",
        "outputId": "f6f19116-939d-4ae4-f09a-a34e4e0a3d76"
      },
      "execution_count": 11,
      "outputs": [
        {
          "output_type": "stream",
          "name": "stdout",
          "text": [
            "Accuracy: 0.9761308831585002\n"
          ]
        }
      ]
    }
  ]
}