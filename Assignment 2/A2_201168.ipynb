{
  "nbformat": 4,
  "nbformat_minor": 0,
  "metadata": {
    "colab": {
      "name": "Copy of CVusingTF_Assgn2.ipynb",
      "provenance": [],
      "collapsed_sections": []
    },
    "kernelspec": {
      "name": "python3",
      "display_name": "Python 3"
    },
    "language_info": {
      "name": "python"
    }
  },
  "cells": [
    {
      "cell_type": "markdown",
      "source": [
        "# Assigment 2: Deep Learning"
      ],
      "metadata": {
        "id": "UxcaEbrCy1g_"
      }
    },
    {
      "cell_type": "markdown",
      "source": [
        "## Generate Dataset\n",
        "\n",
        "This is the same code from Assignment 1"
      ],
      "metadata": {
        "id": "h2JON-_Oy79w"
      }
    },
    {
      "cell_type": "code",
      "execution_count": null,
      "metadata": {
        "id": "hgpG3WDuypfa"
      },
      "outputs": [],
      "source": [
        "from sklearn import datasets\n",
        "from sklearn.model_selection import train_test_split\n",
        "\n",
        "# Generate the data\n",
        "X, y = datasets.make_regression(n_samples=100, n_features=5, noise=5, random_state=4)\n",
        "\n",
        "# Split the data\n",
        "X_train, X_test, y_train, y_test = train_test_split(X, y, test_size=0.2, random_state=1234)\n"
      ]
    },
    {
      "cell_type": "markdown",
      "source": [
        "## Visualize Dataset\n",
        "This is the same code from Assignment 1"
      ],
      "metadata": {
        "id": "r6it-Rm7zD1Y"
      }
    },
    {
      "cell_type": "code",
      "source": [
        "import matplotlib.pyplot as plt\n",
        "\n",
        "# Your code here \n",
        "plt.scatter(X[:,0],y)"
      ],
      "metadata": {
        "id": "UautPVj1yzaQ",
        "colab": {
          "base_uri": "https://localhost:8080/",
          "height": 282
        },
        "outputId": "0031cff2-ba57-4081-b550-df701d0c19c1"
      },
      "execution_count": null,
      "outputs": [
        {
          "output_type": "execute_result",
          "data": {
            "text/plain": [
              "<matplotlib.collections.PathCollection at 0x7fd63e16cc10>"
            ]
          },
          "metadata": {},
          "execution_count": 34
        },
        {
          "output_type": "display_data",
          "data": {
            "text/plain": [
              "<Figure size 432x288 with 1 Axes>"
            ],
            "image/png": "[encoded data removed]"
          },
          "metadata": {
            "needs_background": "light"
          }
        }
      ]
    },
    {
      "cell_type": "code",
      "source": [
        "plt.scatter(X[:,1],y)"
      ],
      "metadata": {
        "colab": {
          "base_uri": "https://localhost:8080/",
          "height": 282
        },
        "id": "eJIX88WlwakZ",
        "outputId": "1ca1ff8a-213d-49ce-d2d1-52532a71c259"
      },
      "execution_count": null,
      "outputs": [
        {
          "output_type": "execute_result",
          "data": {
            "text/plain": [
              "<matplotlib.collections.PathCollection at 0x7fd6bacb5e50>"
            ]
          },
          "metadata": {},
          "execution_count": 4
        },
        {
          "output_type": "display_data",
          "data": {
            "text/plain": [
              "<Figure size 432x288 with 1 Axes>"
            ],
            "image/png": "[encoded data removed]"
          },
          "metadata": {
            "needs_background": "light"
          }
        }
      ]
    },
    {
      "cell_type": "code",
      "source": [
        "plt.scatter(X[:,2],y)"
      ],
      "metadata": {
        "colab": {
          "base_uri": "https://localhost:8080/",
          "height": 282
        },
        "id": "towmnUvTwgeI",
        "outputId": "dde3e249-8b65-44f5-b2f7-c168ef8d9cba"
      },
      "execution_count": null,
      "outputs": [
        {
          "output_type": "execute_result",
          "data": {
            "text/plain": [
              "<matplotlib.collections.PathCollection at 0x7fd6ba7db610>"
            ]
          },
          "metadata": {},
          "execution_count": 5
        },
        {
          "output_type": "display_data",
          "data": {
            "text/plain": [
              "<Figure size 432x288 with 1 Axes>"
            ],
            "image/png": "[encoded data removed]"
          },
          "metadata": {
            "needs_background": "light"
          }
        }
      ]
    },
    {
      "cell_type": "code",
      "source": [
        "plt.scatter(X[:,3],y)"
      ],
      "metadata": {
        "colab": {
          "base_uri": "https://localhost:8080/",
          "height": 282
        },
        "id": "SmZan1HTwrhI",
        "outputId": "6e68020c-51a8-47d0-eb24-cdd5c8910744"
      },
      "execution_count": null,
      "outputs": [
        {
          "output_type": "execute_result",
          "data": {
            "text/plain": [
              "<matplotlib.collections.PathCollection at 0x7fd6ba7cd4d0>"
            ]
          },
          "metadata": {},
          "execution_count": 6
        },
        {
          "output_type": "display_data",
          "data": {
            "text/plain": [
              "<Figure size 432x288 with 1 Axes>"
            ],
            "image/png": "[encoded data removed]"
          },
          "metadata": {
            "needs_background": "light"
          }
        }
      ]
    },
    {
      "cell_type": "code",
      "source": [
        "plt.scatter(X[:,4],y)"
      ],
      "metadata": {
        "colab": {
          "base_uri": "https://localhost:8080/",
          "height": 282
        },
        "id": "xoc3kF6UwyUb",
        "outputId": "94003728-e64c-4f74-dc26-9c03cae9496c"
      },
      "execution_count": null,
      "outputs": [
        {
          "output_type": "execute_result",
          "data": {
            "text/plain": [
              "<matplotlib.collections.PathCollection at 0x7fd6ba742a10>"
            ]
          },
          "metadata": {},
          "execution_count": 7
        },
        {
          "output_type": "display_data",
          "data": {
            "text/plain": [
              "<Figure size 432x288 with 1 Axes>"
            ],
            "image/png": "[encoded data removed]"
          },
          "metadata": {
            "needs_background": "light"
          }
        }
      ]
    },
    {
      "cell_type": "markdown",
      "source": [
        "## Model Definition\n",
        "\n",
        "Using TensorFlow, build a model with the following definition:\n",
        "> Input of shape 5 \\\\\n",
        "> Dense of shape 5 \\\\\n",
        "> Dense of shape 5 \\\\\n",
        "> Dense of shape 1 \\\\\n",
        "\n",
        "Use Mean Square Error Loss and Stochaistic Gradient Descent (SGD) Optimizer\n",
        "\n",
        "Use Gradient Decay with appropriate parameters"
      ],
      "metadata": {
        "id": "XMXb9lTyzGHE"
      }
    },
    {
      "cell_type": "code",
      "source": [
        "import tensorflow as tf \n",
        "from tensorflow import keras\n",
        "\n",
        "model = keras.Sequential([\n",
        "\n",
        "       keras.layers.Dense(5,input_dim=5, activation='relu'),\n",
        "       keras.layers.Dense(5, activation='relu'), \n",
        "       keras.layers.Dense(1)\n",
        "\n",
        "    \n",
        "]) \n",
        "\n",
        "model.compile( loss='mean_squared_error',optimizer= tf.keras.optimizers.SGD(0.001))  \n"
      ],
      "metadata": {
        "id": "r32N1xK2ziOs"
      },
      "execution_count": null,
      "outputs": []
    },
    {
      "cell_type": "code",
      "source": [
        "model.summary()"
      ],
      "metadata": {
        "colab": {
          "base_uri": "https://localhost:8080/"
        },
        "id": "uiOKz0GLIM6S",
        "outputId": "51a25c11-fe7a-47b8-ca54-8152e2deffed"
      },
      "execution_count": null,
      "outputs": [
        {
          "output_type": "stream",
          "name": "stdout",
          "text": [
            "Model: \"sequential_12\"\n",
            "_________________________________________________________________\n",
            " Layer (type)                Output Shape              Param #   \n",
            "=================================================================\n",
            " dense_37 (Dense)            (None, 5)                 30        \n",
            "                                                                 \n",
            " dense_38 (Dense)            (None, 5)                 30        \n",
            "                                                                 \n",
            " dense_39 (Dense)            (None, 1)                 6         \n",
            "                                                                 \n",
            "=================================================================\n",
            "Total params: 66\n",
            "Trainable params: 66\n",
            "Non-trainable params: 0\n",
            "_________________________________________________________________\n"
          ]
        }
      ]
    },
    {
      "cell_type": "code",
      "source": [
        "history=model.fit(X_train,y_train,epochs=50,validation_split=0.15)\n"
      ],
      "metadata": {
        "colab": {
          "base_uri": "https://localhost:8080/"
        },
        "id": "RHwtbFHxiZ2i",
        "outputId": "232086ec-013c-4d7d-b8bb-b58467618068"
      },
      "execution_count": null,
      "outputs": [
        {
          "output_type": "stream",
          "name": "stdout",
          "text": [
            "Epoch 1/50\n",
            "3/3 [==============================] - 0s 40ms/step - loss: 150.2509 - val_loss: 43.1965\n",
            "Epoch 2/50\n",
            "3/3 [==============================] - 0s 17ms/step - loss: 57.6602 - val_loss: 52.5548\n",
            "Epoch 3/50\n",
            "3/3 [==============================] - 0s 16ms/step - loss: 30.8436 - val_loss: 50.4830\n",
            "Epoch 4/50\n",
            "3/3 [==============================] - 0s 27ms/step - loss: 28.6797 - val_loss: 60.0474\n",
            "Epoch 5/50\n",
            "3/3 [==============================] - 0s 17ms/step - loss: 68.8603 - val_loss: 72.1300\n",
            "Epoch 6/50\n",
            "3/3 [==============================] - 0s 14ms/step - loss: 53.9632 - val_loss: 58.5403\n",
            "Epoch 7/50\n",
            "3/3 [==============================] - 0s 16ms/step - loss: 88.3067 - val_loss: 84.2328\n",
            "Epoch 8/50\n",
            "3/3 [==============================] - 0s 15ms/step - loss: 83.1638 - val_loss: 312.2082\n",
            "Epoch 9/50\n",
            "3/3 [==============================] - 0s 15ms/step - loss: 197.4656 - val_loss: 207.8037\n",
            "Epoch 10/50\n",
            "3/3 [==============================] - 0s 18ms/step - loss: 231.0845 - val_loss: 226.0417\n",
            "Epoch 11/50\n",
            "3/3 [==============================] - 0s 22ms/step - loss: 611.4321 - val_loss: 300.2731\n",
            "Epoch 12/50\n",
            "3/3 [==============================] - 0s 17ms/step - loss: 242.1879 - val_loss: 57.6884\n",
            "Epoch 13/50\n",
            "3/3 [==============================] - 0s 14ms/step - loss: 74.5682 - val_loss: 173.1839\n",
            "Epoch 14/50\n",
            "3/3 [==============================] - 0s 15ms/step - loss: 46.1631 - val_loss: 52.3504\n",
            "Epoch 15/50\n",
            "3/3 [==============================] - 0s 15ms/step - loss: 35.5765 - val_loss: 47.1736\n",
            "Epoch 16/50\n",
            "3/3 [==============================] - 0s 15ms/step - loss: 85.6439 - val_loss: 66.4421\n",
            "Epoch 17/50\n",
            "3/3 [==============================] - 0s 15ms/step - loss: 77.5361 - val_loss: 80.0700\n",
            "Epoch 18/50\n",
            "3/3 [==============================] - 0s 15ms/step - loss: 108.5262 - val_loss: 55.9346\n",
            "Epoch 19/50\n",
            "3/3 [==============================] - 0s 16ms/step - loss: 73.8788 - val_loss: 47.8053\n",
            "Epoch 20/50\n",
            "3/3 [==============================] - 0s 19ms/step - loss: 29.1937 - val_loss: 65.4312\n",
            "Epoch 21/50\n",
            "3/3 [==============================] - 0s 17ms/step - loss: 56.9133 - val_loss: 50.4955\n",
            "Epoch 22/50\n",
            "3/3 [==============================] - 0s 16ms/step - loss: 31.2551 - val_loss: 58.4204\n",
            "Epoch 23/50\n",
            "3/3 [==============================] - 0s 14ms/step - loss: 51.9902 - val_loss: 99.1762\n",
            "Epoch 24/50\n",
            "3/3 [==============================] - 0s 16ms/step - loss: 68.0477 - val_loss: 50.1635\n",
            "Epoch 25/50\n",
            "3/3 [==============================] - 0s 20ms/step - loss: 36.8152 - val_loss: 51.0349\n",
            "Epoch 26/50\n",
            "3/3 [==============================] - 0s 15ms/step - loss: 64.8692 - val_loss: 41.1597\n",
            "Epoch 27/50\n",
            "3/3 [==============================] - 0s 15ms/step - loss: 47.5801 - val_loss: 41.7204\n",
            "Epoch 28/50\n",
            "3/3 [==============================] - 0s 15ms/step - loss: 68.6757 - val_loss: 52.8936\n",
            "Epoch 29/50\n",
            "3/3 [==============================] - 0s 15ms/step - loss: 37.5286 - val_loss: 60.9310\n",
            "Epoch 30/50\n",
            "3/3 [==============================] - 0s 17ms/step - loss: 47.4924 - val_loss: 43.6636\n",
            "Epoch 31/50\n",
            "3/3 [==============================] - 0s 25ms/step - loss: 37.0754 - val_loss: 83.3623\n",
            "Epoch 32/50\n",
            "3/3 [==============================] - 0s 14ms/step - loss: 101.9013 - val_loss: 68.7400\n",
            "Epoch 33/50\n",
            "3/3 [==============================] - 0s 16ms/step - loss: 49.1887 - val_loss: 48.7251\n",
            "Epoch 34/50\n",
            "3/3 [==============================] - 0s 17ms/step - loss: 42.3565 - val_loss: 59.1741\n",
            "Epoch 35/50\n",
            "3/3 [==============================] - 0s 14ms/step - loss: 23.5876 - val_loss: 56.4909\n",
            "Epoch 36/50\n",
            "3/3 [==============================] - 0s 18ms/step - loss: 37.1128 - val_loss: 129.8485\n",
            "Epoch 37/50\n",
            "3/3 [==============================] - 0s 20ms/step - loss: 93.7521 - val_loss: 70.7129\n",
            "Epoch 38/50\n",
            "3/3 [==============================] - 0s 18ms/step - loss: 39.4599 - val_loss: 194.4081\n",
            "Epoch 39/50\n",
            "3/3 [==============================] - 0s 15ms/step - loss: 103.7610 - val_loss: 117.8571\n",
            "Epoch 40/50\n",
            "3/3 [==============================] - 0s 15ms/step - loss: 379.7826 - val_loss: 67.6955\n",
            "Epoch 41/50\n",
            "3/3 [==============================] - 0s 14ms/step - loss: 45.5979 - val_loss: 34.4113\n",
            "Epoch 42/50\n",
            "3/3 [==============================] - 0s 16ms/step - loss: 27.8664 - val_loss: 35.6572\n",
            "Epoch 43/50\n",
            "3/3 [==============================] - 0s 15ms/step - loss: 29.4100 - val_loss: 38.7390\n",
            "Epoch 44/50\n",
            "3/3 [==============================] - 0s 18ms/step - loss: 37.5924 - val_loss: 49.9111\n",
            "Epoch 45/50\n",
            "3/3 [==============================] - 0s 15ms/step - loss: 44.5184 - val_loss: 42.5366\n",
            "Epoch 46/50\n",
            "3/3 [==============================] - 0s 15ms/step - loss: 36.6009 - val_loss: 81.3042\n",
            "Epoch 47/50\n",
            "3/3 [==============================] - 0s 23ms/step - loss: 68.4100 - val_loss: 110.9723\n",
            "Epoch 48/50\n",
            "3/3 [==============================] - 0s 16ms/step - loss: 141.2484 - val_loss: 33.4678\n",
            "Epoch 49/50\n",
            "3/3 [==============================] - 0s 18ms/step - loss: 33.0844 - val_loss: 79.1099\n",
            "Epoch 50/50\n",
            "3/3 [==============================] - 0s 24ms/step - loss: 56.7876 - val_loss: 49.0711\n"
          ]
        }
      ]
    },
    {
      "cell_type": "code",
      "source": [
        "predict=model.predict(X_test)"
      ],
      "metadata": {
        "id": "El6m3BEtFk3X"
      },
      "execution_count": null,
      "outputs": []
    },
    {
      "cell_type": "markdown",
      "source": [
        "## Plot Loss\n",
        "\n",
        "Using matplotlib visualise how the loss (both validation and training) is changing, use this information to retrain the model with appropriate parameters.<br>We ideally want the loss to be constant over the last few iterations."
      ],
      "metadata": {
        "id": "jmeP6vt3z0oA"
      }
    },
    {
      "cell_type": "code",
      "source": [
        "# Your code here plt.plot(history.history['loss'], label='loss')  \n",
        "plt.plot(history.history['loss'], label='loss')  \n",
        "plt.plot(history.history['val_loss'], label='val_loss') \n",
        "plt.xlabel('Loss')\n",
        "plt.ylabel('Epoch')\n"
      ],
      "metadata": {
        "id": "RQTNqPHm0mOi",
        "colab": {
          "base_uri": "https://localhost:8080/",
          "height": 296
        },
        "outputId": "c241082d-a8d1-4613-9927-776b86b9bca7"
      },
      "execution_count": null,
      "outputs": [
        {
          "output_type": "execute_result",
          "data": {
            "text/plain": [
              "Text(0, 0.5, 'Epoch')"
            ]
          },
          "metadata": {},
          "execution_count": 107
        },
        {
          "output_type": "display_data",
          "data": {
            "text/plain": [
              "<Figure size 432x288 with 1 Axes>"
            ],
            "image/png": "[encoded data removed]"
          },
          "metadata": {
            "needs_background": "light"
          }
        }
      ]
    },
    {
      "cell_type": "markdown",
      "source": [
        "## Evaluation Metrics\n",
        "Use the R2 Score function implemented in the first assignment to evaluate the performance of the model."
      ],
      "metadata": {
        "id": "IVrR_vXA7kOt"
      }
    },
    {
      "cell_type": "code",
      "source": [
        "# Insert the function for R2 Score  \n",
        "from sklearn.metrics import r2_score \n",
        "acc = r2_score(y_test, predict) \n",
        "print(\"Accuracy:\", acc)"
      ],
      "metadata": {
        "id": "-lOHpD8-7ggm",
        "colab": {
          "base_uri": "https://localhost:8080/"
        },
        "outputId": "cfa11e04-d5fe-47cc-96f1-4dfdb6ac136f"
      },
      "execution_count": null,
      "outputs": [
        {
          "output_type": "stream",
          "name": "stdout",
          "text": [
            "Accuracy: 0.9950862525448015\n"
          ]
        }
      ]
    },
    {
      "cell_type": "markdown",
      "source": [
        "## Your own custom model\n",
        "Build a custom model of your own choice.<br>\n",
        "Describe it in detail in Markdown/Latex in the cell below.<br>\n",
        "Visualise the loss, as before."
      ],
      "metadata": {
        "id": "CHqzF1OU0pBg"
      }
    },
    {
      "cell_type": "markdown",
      "source": [
        "Your text here"
      ],
      "metadata": {
        "id": "jF8oTUqq0y0g"
      }
    },
    {
      "cell_type": "code",
      "source": [
        "# Your code here  \n",
        "custom = keras.Sequential([\n",
        "\n",
        "       keras.layers.Dense(64,input_dim=5, activation='relu'),\n",
        "       keras.layers.Dense(32, activation='relu'),  \n",
        "       keras.layers.Dense(1)\n",
        "\n",
        "    \n",
        "]) \n",
        "\n",
        "custom.compile( loss='mean_squared_error',optimizer= tf.keras.optimizers.Adam(0.1))  \n"
      ],
      "metadata": {
        "id": "1XOk5hJu0oSQ"
      },
      "execution_count": null,
      "outputs": []
    },
    {
      "cell_type": "code",
      "source": [
        "h_custom =custom.fit(X_train,y_train,epochs=50,validation_split=0.2)"
      ],
      "metadata": {
        "id": "aS0ROZa402Lo",
        "colab": {
          "base_uri": "https://localhost:8080/"
        },
        "outputId": "3d43ca4d-99c6-468f-def6-6580f886bb5c"
      },
      "execution_count": null,
      "outputs": [
        {
          "output_type": "stream",
          "name": "stdout",
          "text": [
            "Epoch 1/50\n",
            "2/2 [==============================] - 1s 137ms/step - loss: 12593.3945 - val_loss: 6433.6631\n",
            "Epoch 2/50\n",
            "2/2 [==============================] - 0s 35ms/step - loss: 10738.0205 - val_loss: 3593.6997\n",
            "Epoch 3/50\n",
            "2/2 [==============================] - 0s 28ms/step - loss: 5130.7227 - val_loss: 552.1275\n",
            "Epoch 4/50\n",
            "2/2 [==============================] - 0s 30ms/step - loss: 1707.4523 - val_loss: 3355.2217\n",
            "Epoch 5/50\n",
            "2/2 [==============================] - 0s 29ms/step - loss: 3230.4233 - val_loss: 1163.1106\n",
            "Epoch 6/50\n",
            "2/2 [==============================] - 0s 28ms/step - loss: 1098.6919 - val_loss: 675.4690\n",
            "Epoch 7/50\n",
            "2/2 [==============================] - 0s 29ms/step - loss: 1262.1267 - val_loss: 486.1453\n",
            "Epoch 8/50\n",
            "2/2 [==============================] - 0s 29ms/step - loss: 1402.9468 - val_loss: 265.1467\n",
            "Epoch 9/50\n",
            "2/2 [==============================] - 0s 29ms/step - loss: 934.4056 - val_loss: 320.1334\n",
            "Epoch 10/50\n",
            "2/2 [==============================] - 0s 53ms/step - loss: 444.2141 - val_loss: 712.8894\n",
            "Epoch 11/50\n",
            "2/2 [==============================] - 0s 29ms/step - loss: 541.7440 - val_loss: 673.4257\n",
            "Epoch 12/50\n",
            "2/2 [==============================] - 0s 34ms/step - loss: 607.2363 - val_loss: 324.0837\n",
            "Epoch 13/50\n",
            "2/2 [==============================] - 0s 32ms/step - loss: 317.9103 - val_loss: 94.8582\n",
            "Epoch 14/50\n",
            "2/2 [==============================] - 0s 30ms/step - loss: 225.7855 - val_loss: 96.4340\n",
            "Epoch 15/50\n",
            "2/2 [==============================] - 0s 28ms/step - loss: 362.7992 - val_loss: 127.9274\n",
            "Epoch 16/50\n",
            "2/2 [==============================] - 0s 26ms/step - loss: 324.0910 - val_loss: 167.9012\n",
            "Epoch 17/50\n",
            "2/2 [==============================] - 0s 31ms/step - loss: 139.0246 - val_loss: 190.6367\n",
            "Epoch 18/50\n",
            "2/2 [==============================] - 0s 30ms/step - loss: 107.6833 - val_loss: 204.5915\n",
            "Epoch 19/50\n",
            "2/2 [==============================] - 0s 31ms/step - loss: 164.0649 - val_loss: 142.1239\n",
            "Epoch 20/50\n",
            "2/2 [==============================] - 0s 28ms/step - loss: 93.5135 - val_loss: 82.8681\n",
            "Epoch 21/50\n",
            "2/2 [==============================] - 0s 29ms/step - loss: 65.4445 - val_loss: 72.6926\n",
            "Epoch 22/50\n",
            "2/2 [==============================] - 0s 30ms/step - loss: 86.2977 - val_loss: 73.2825\n",
            "Epoch 23/50\n",
            "2/2 [==============================] - 0s 29ms/step - loss: 73.5676 - val_loss: 72.3203\n",
            "Epoch 24/50\n",
            "2/2 [==============================] - 0s 31ms/step - loss: 40.8802 - val_loss: 91.0440\n",
            "Epoch 25/50\n",
            "2/2 [==============================] - 0s 31ms/step - loss: 64.9941 - val_loss: 88.3895\n",
            "Epoch 26/50\n",
            "2/2 [==============================] - 0s 30ms/step - loss: 46.1000 - val_loss: 72.3679\n",
            "Epoch 27/50\n",
            "2/2 [==============================] - 0s 47ms/step - loss: 25.2324 - val_loss: 75.9048\n",
            "Epoch 28/50\n",
            "2/2 [==============================] - 0s 29ms/step - loss: 31.6758 - val_loss: 78.1586\n",
            "Epoch 29/50\n",
            "2/2 [==============================] - 0s 30ms/step - loss: 29.5292 - val_loss: 71.9944\n",
            "Epoch 30/50\n",
            "2/2 [==============================] - 0s 50ms/step - loss: 19.4286 - val_loss: 73.2607\n",
            "Epoch 31/50\n",
            "2/2 [==============================] - 0s 29ms/step - loss: 20.8734 - val_loss: 73.1272\n",
            "Epoch 32/50\n",
            "2/2 [==============================] - 0s 26ms/step - loss: 21.0551 - val_loss: 65.9183\n",
            "Epoch 33/50\n",
            "2/2 [==============================] - 0s 41ms/step - loss: 14.8776 - val_loss: 57.7761\n",
            "Epoch 34/50\n",
            "2/2 [==============================] - 0s 29ms/step - loss: 16.6571 - val_loss: 53.0923\n",
            "Epoch 35/50\n",
            "2/2 [==============================] - 0s 49ms/step - loss: 15.1586 - val_loss: 54.6809\n",
            "Epoch 36/50\n",
            "2/2 [==============================] - 0s 31ms/step - loss: 12.0907 - val_loss: 62.0379\n",
            "Epoch 37/50\n",
            "2/2 [==============================] - 0s 28ms/step - loss: 13.0411 - val_loss: 67.3179\n",
            "Epoch 38/50\n",
            "2/2 [==============================] - 0s 30ms/step - loss: 12.7865 - val_loss: 61.5235\n",
            "Epoch 39/50\n",
            "2/2 [==============================] - 0s 34ms/step - loss: 9.8283 - val_loss: 54.1732\n",
            "Epoch 40/50\n",
            "2/2 [==============================] - 0s 32ms/step - loss: 10.7023 - val_loss: 52.4440\n",
            "Epoch 41/50\n",
            "2/2 [==============================] - 0s 30ms/step - loss: 10.0670 - val_loss: 55.0458\n",
            "Epoch 42/50\n",
            "2/2 [==============================] - 0s 30ms/step - loss: 8.3771 - val_loss: 59.1310\n",
            "Epoch 43/50\n",
            "2/2 [==============================] - 0s 28ms/step - loss: 9.4896 - val_loss: 57.9258\n",
            "Epoch 44/50\n",
            "2/2 [==============================] - 0s 30ms/step - loss: 8.3637 - val_loss: 53.3750\n",
            "Epoch 45/50\n",
            "2/2 [==============================] - 0s 30ms/step - loss: 8.2381 - val_loss: 51.0517\n",
            "Epoch 46/50\n",
            "2/2 [==============================] - 0s 31ms/step - loss: 8.2587 - val_loss: 52.9347\n",
            "Epoch 47/50\n",
            "2/2 [==============================] - 0s 31ms/step - loss: 6.7683 - val_loss: 53.5058\n",
            "Epoch 48/50\n",
            "2/2 [==============================] - 0s 50ms/step - loss: 6.9971 - val_loss: 52.7782\n",
            "Epoch 49/50\n",
            "2/2 [==============================] - 0s 30ms/step - loss: 6.7782 - val_loss: 50.0355\n",
            "Epoch 50/50\n",
            "2/2 [==============================] - 0s 28ms/step - loss: 6.3855 - val_loss: 50.4321\n"
          ]
        }
      ]
    },
    {
      "cell_type": "code",
      "source": [
        "plt.plot(h_custom.history['loss'], label='loss')  \n",
        "plt.plot(h_custom.history['val_loss'], label='val_loss')  \n",
        "plt.xlabel('Loss')\n",
        "plt.ylabel('Epochs')"
      ],
      "metadata": {
        "colab": {
          "base_uri": "https://localhost:8080/",
          "height": 296
        },
        "id": "KWW1UM6eM7Ly",
        "outputId": "5e456742-f7d8-4c1c-bef0-329f9dfd7a35"
      },
      "execution_count": null,
      "outputs": [
        {
          "output_type": "execute_result",
          "data": {
            "text/plain": [
              "Text(0, 0.5, 'Epochs')"
            ]
          },
          "metadata": {},
          "execution_count": 112
        },
        {
          "output_type": "display_data",
          "data": {
            "text/plain": [
              "<Figure size 432x288 with 1 Axes>"
            ],
            "image/png": "[encoded data removed]"
          },
          "metadata": {
            "needs_background": "light"
          }
        }
      ]
    },
    {
      "cell_type": "code",
      "source": [
        "predict_custom=custom.predict(X_test)"
      ],
      "metadata": {
        "id": "CzXguMSkQPZ6"
      },
      "execution_count": null,
      "outputs": []
    },
    {
      "cell_type": "code",
      "source": [
        "from sklearn.metrics import r2_score \n",
        "acc = r2_score(y_test, predict_custom) \n",
        "print(\"Accuracy:\", acc)"
      ],
      "metadata": {
        "colab": {
          "base_uri": "https://localhost:8080/"
        },
        "id": "Lq57Wk_uNuNf",
        "outputId": "3d6f6bb9-1f2a-454f-8c46-7aa5458fa5ac"
      },
      "execution_count": null,
      "outputs": [
        {
          "output_type": "stream",
          "name": "stdout",
          "text": [
            "Accuracy: 0.9932377773365737\n"
          ]
        }
      ]
    }
  ]
}
