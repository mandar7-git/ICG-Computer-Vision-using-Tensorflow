{
  "nbformat": 4,
  "nbformat_minor": 0,
  "metadata": {
    "colab": {
      "name": "A4_200148.ipynb",
      "provenance": [],
      "collapsed_sections": []
    },
    "kernelspec": {
      "name": "python3",
      "display_name": "Python 3"
    },
    "language_info": {
      "name": "python"
    },
    "accelerator": "GPU",
    "gpuClass": "standard"
  },
  "cells": [
    {
      "cell_type": "markdown",
      "source": [
        "## Final Task:\n",
        "This is your final evaluation for the project. As decided, we will be predicting images of people into three classes: `without_mask`, `mask_weared_incorrect` and `with_mask`. "
      ],
      "metadata": {
        "id": "rtI19Rt-H7Uc"
      }
    },
    {
      "cell_type": "code",
      "source": [
        "import tensorflow as tf"
      ],
      "metadata": {
        "id": "c2CiXcHQTbX8"
      },
      "execution_count": 1,
      "outputs": []
    },
    {
      "cell_type": "markdown",
      "source": [
        "### Loading the dataset\n",
        "Make a copy of the dataset given to you in your Google Drive (keep it outside, don't put it in any folder to avoid inconvenience). Ensure it is named as `Mask_Dataset` or change the path (the variable `data_dir`) accordingly."
      ],
      "metadata": {
        "id": "QKDPyiZTIm1c"
      }
    },
    {
      "cell_type": "code",
      "source": [
        "# Mount Google Drive\n",
        "from google.colab import drive\n",
        "drive.mount('/content/drive')"
      ],
      "metadata": {
        "colab": {
          "base_uri": "https://localhost:8080/"
        },
        "id": "hNEMe7XsIjrK",
        "outputId": "f4f37b5c-ee23-4a92-c3cc-6a67cf3f2b9c"
      },
      "execution_count": 2,
      "outputs": [
        {
          "output_type": "stream",
          "name": "stdout",
          "text": [
            "Mounted at /content/drive\n"
          ]
        }
      ]
    },
    {
      "cell_type": "code",
      "source": [
        "import pathlib\n",
        "\n",
        "path='/content/drive/MyDrive/Mask_Dataset/'\n",
        "data_dir = pathlib.Path(path)"
      ],
      "metadata": {
        "id": "8CXzo4MOJOl8"
      },
      "execution_count": 3,
      "outputs": []
    },
    {
      "cell_type": "markdown",
      "source": [
        "### Know the Dataset\n",
        "Most of the code is written for you as you aren't used to these libraries. You are to go through the documentation for your benefit."
      ],
      "metadata": {
        "id": "YHPHkGyDKscK"
      }
    },
    {
      "cell_type": "code",
      "source": [
        "# Print image count\n",
        "image_count = len(list(data_dir.glob('*/*.png')))\n",
        "print(image_count)"
      ],
      "metadata": {
        "colab": {
          "base_uri": "https://localhost:8080/"
        },
        "id": "PzbSy-vXKjD-",
        "outputId": "d4d3a1ac-b653-4e7b-d03e-a295f9f3de69"
      },
      "execution_count": 4,
      "outputs": [
        {
          "output_type": "stream",
          "name": "stdout",
          "text": [
            "8982\n"
          ]
        }
      ]
    },
    {
      "cell_type": "code",
      "source": [
        "# Print Output Labels\n",
        "import os\n",
        "output_classes = os.listdir(data_dir)\n",
        "print(output_classes)"
      ],
      "metadata": {
        "colab": {
          "base_uri": "https://localhost:8080/"
        },
        "id": "rFHWFYj5NCVm",
        "outputId": "118eef21-d0a4-4a3c-8788-6f099e6aedb1"
      },
      "execution_count": 5,
      "outputs": [
        {
          "output_type": "stream",
          "name": "stdout",
          "text": [
            "['without_mask', 'mask_weared_incorrect', 'with_mask']\n"
          ]
        }
      ]
    },
    {
      "cell_type": "code",
      "source": [
        "# Plot count of each ouput label\n",
        "import matplotlib.pyplot as plt\n",
        "\n",
        "count=[]\n",
        "for label in output_classes:  #runs thrice\n",
        "  this_path=path+label\n",
        "  dir=pathlib.Path(this_path)\n",
        "  im_count=os.listdir(dir)  #goes into without_mask, with_mask and mask_weared_incorrect folders\n",
        "  count.append(len(im_count))\n",
        "\n",
        "print(count)\n",
        "\n",
        "plt.bar(output_classes,count)\n",
        "plt.title(\"Statistics\")\n",
        "plt.show()"
      ],
      "metadata": {
        "colab": {
          "base_uri": "https://localhost:8080/",
          "height": 299
        },
        "id": "fESyMw90KaxN",
        "outputId": "d3d475d0-786c-49ed-8bc4-fb0409b6cc8d"
      },
      "execution_count": 6,
      "outputs": [
        {
          "output_type": "stream",
          "name": "stdout",
          "text": [
            "[2994, 2994, 2994]\n"
          ]
        },
        {
          "output_type": "display_data",
          "data": {
            "text/plain": [
              "<Figure size 432x288 with 1 Axes>"
            ],
            "image/png": "[encoded data removed]"
          },
          "metadata": {
            "needs_background": "light"
          }
        }
      ]
    },
    {
      "cell_type": "code",
      "source": [
        "# Check some sample images (Use of cv2)\n",
        "import cv2\n",
        "from google.colab.patches import cv2_imshow\n",
        "\n",
        "p = path + 'without_mask/2994.png'\n",
        "img = cv2.imread(p, cv2.IMREAD_COLOR)\n",
        "cv2_imshow(img)"
      ],
      "metadata": {
        "id": "HDSJ2Zk5a14s",
        "colab": {
          "base_uri": "https://localhost:8080/",
          "height": 145
        },
        "outputId": "de7a15cb-b630-418d-d13e-be3c61208938"
      },
      "execution_count": 7,
      "outputs": [
        {
          "output_type": "display_data",
          "data": {
            "text/plain": [
              "<PIL.Image.Image image mode=RGB size=128x128 at 0x7F1CD0E88550>"
            ],
            "image/png": "[encoded data removed]"
          },
          "metadata": {}
        }
      ]
    },
    {
      "cell_type": "code",
      "source": [
        "# Check shape of the images in your dataset. This will be helpful while specifying input_shape in your Transfer Learning Model\n",
        "print(img.shape)\n",
        "input=img.shape"
      ],
      "metadata": {
        "id": "jWBEMC1FUfXS",
        "colab": {
          "base_uri": "https://localhost:8080/"
        },
        "outputId": "bec120ba-4fb6-49f9-ef18-5aa424a3236c"
      },
      "execution_count": 8,
      "outputs": [
        {
          "output_type": "stream",
          "name": "stdout",
          "text": [
            "(128, 128, 3)\n"
          ]
        }
      ]
    },
    {
      "cell_type": "code",
      "source": [
        "# Check if all the images have same shape, else you need to resize them to some common size\n",
        "# The code provided as it is above in the template will help \n",
        "for label in output_classes:  #runs thrice\n",
        "  this_path=path+label\n",
        "  dir=pathlib.Path(this_path)\n",
        "  img_list = os.listdir(dir)\n",
        "  for i in img_list:\n",
        "    p = this_path+'/'+i\n",
        "    # print(p)\n",
        "    img = cv2.imread(p, cv2.IMREAD_COLOR)\n",
        "    # print(type(img.shape))\n",
        "    if(img.shape!=input):\n",
        "      cv2.resize(img, input)"
      ],
      "metadata": {
        "id": "52BhBWRab5yc"
      },
      "execution_count": 9,
      "outputs": []
    },
    {
      "cell_type": "code",
      "source": [
        "# If the shape is variable, reshape to a common size \n",
        "# If it is same, prove it"
      ],
      "metadata": {
        "id": "G-Atau4Rfc-x"
      },
      "execution_count": null,
      "outputs": []
    },
    {
      "cell_type": "code",
      "source": [
        "# Anything else you want to plot/experiment"
      ],
      "metadata": {
        "id": "F0XHxMo2RVQd"
      },
      "execution_count": null,
      "outputs": []
    },
    {
      "cell_type": "markdown",
      "source": [
        "### Model Definition\n",
        "Choose a model for Transfer Learning (You may also experment with multiple models and keep all of them in this notebook)"
      ],
      "metadata": {
        "id": "zSoUXS1cRbnu"
      }
    },
    {
      "cell_type": "code",
      "source": [
        "from tensorflow.keras.layers import Input, Lambda, Dense, Flatten\n",
        "from tensorflow.keras.models import Model\n",
        "from tensorflow.keras.preprocessing import image\n",
        "from tensorflow.keras.models import Sequential"
      ],
      "metadata": {
        "id": "QKZmIgXMTHfy"
      },
      "execution_count": 10,
      "outputs": []
    },
    {
      "cell_type": "code",
      "source": [
        "# Choose and define base model\n",
        "from tensorflow.keras.applications.vgg16 import VGG16\n",
        "model = Sequential()\n",
        "model.add(VGG16(input_shape=input, weights='imagenet', include_top=False))"
      ],
      "metadata": {
        "id": "9xWLUibHRNGj",
        "colab": {
          "base_uri": "https://localhost:8080/"
        },
        "outputId": "7f3b49e3-cd01-4a69-e7c8-5eed42944d70"
      },
      "execution_count": 11,
      "outputs": [
        {
          "output_type": "stream",
          "name": "stdout",
          "text": [
            "Downloading data from https://storage.googleapis.com/tensorflow/keras-applications/vgg16/vgg16_weights_tf_dim_ordering_tf_kernels_notop.h5\n",
            "58892288/58889256 [==============================] - 1s 0us/step\n",
            "58900480/58889256 [==============================] - 1s 0us/step\n"
          ]
        }
      ]
    },
    {
      "cell_type": "code",
      "source": [
        "# Print base model summary and have a look at the layers\n",
        "model.summary()"
      ],
      "metadata": {
        "id": "J3TwB_GLd7BU",
        "colab": {
          "base_uri": "https://localhost:8080/"
        },
        "outputId": "e1c5b760-1f97-46ce-c9f6-df3bd042851c"
      },
      "execution_count": 12,
      "outputs": [
        {
          "output_type": "stream",
          "name": "stdout",
          "text": [
            "Model: \"sequential\"\n",
            "_________________________________________________________________\n",
            " Layer (type)                Output Shape              Param #   \n",
            "=================================================================\n",
            " vgg16 (Functional)          (None, 4, 4, 512)         14714688  \n",
            "                                                                 \n",
            "=================================================================\n",
            "Total params: 14,714,688\n",
            "Trainable params: 14,714,688\n",
            "Non-trainable params: 0\n",
            "_________________________________________________________________\n"
          ]
        }
      ]
    },
    {
      "cell_type": "code",
      "source": [
        "# As we're using Transfer Learning, you do not need to train all the layers. Freeze all of the layers or train some layers (experiment)\n",
        "for i in model.layers[:-1]:\n",
        "    i.trainable = False"
      ],
      "metadata": {
        "id": "F_Heq3C1eKd-"
      },
      "execution_count": 13,
      "outputs": []
    },
    {
      "cell_type": "code",
      "source": [
        "# Append Fully connected/custom Conv2D/Dropout/MaxPooling layers to the base model\n",
        "# model.add(Dense(3, activation = 'relu'))"
      ],
      "metadata": {
        "id": "MKx1EtUJea6D"
      },
      "execution_count": 14,
      "outputs": []
    },
    {
      "cell_type": "code",
      "source": [
        "# Add the final output layer\n",
        "model.add(Flatten())\n",
        "model.add(Dense(3, activation = 'relu'))"
      ],
      "metadata": {
        "id": "q6I3oTTNgP8L"
      },
      "execution_count": 15,
      "outputs": []
    },
    {
      "cell_type": "code",
      "source": [
        "# Print your model's summary\n",
        "model.summary()"
      ],
      "metadata": {
        "id": "6aVQocJwgN5r",
        "colab": {
          "base_uri": "https://localhost:8080/"
        },
        "outputId": "42e1b691-17f7-4ea1-ac89-818704f3fd40"
      },
      "execution_count": 16,
      "outputs": [
        {
          "output_type": "stream",
          "name": "stdout",
          "text": [
            "Model: \"sequential\"\n",
            "_________________________________________________________________\n",
            " Layer (type)                Output Shape              Param #   \n",
            "=================================================================\n",
            " vgg16 (Functional)          (None, 4, 4, 512)         14714688  \n",
            "                                                                 \n",
            " flatten (Flatten)           (None, 8192)              0         \n",
            "                                                                 \n",
            " dense (Dense)               (None, 3)                 24579     \n",
            "                                                                 \n",
            "=================================================================\n",
            "Total params: 14,739,267\n",
            "Trainable params: 14,739,267\n",
            "Non-trainable params: 0\n",
            "_________________________________________________________________\n"
          ]
        }
      ]
    },
    {
      "cell_type": "code",
      "source": [
        "# Compile you model (set the parameters like loss/optimizers/metrics)\n",
        "model.compile(optimizer = \"adam\", loss = \"categorical_crossentropy\", metrics = \"accuracy\")"
      ],
      "metadata": {
        "id": "qdC71fUBgXAg"
      },
      "execution_count": 17,
      "outputs": []
    },
    {
      "cell_type": "markdown",
      "source": [
        "### Data Augmentation and Pre-processing\n",
        "Augment the data. You may also try dyanamic augmentation using [`tf.keras.preprocessing.image.ImageDataGenerator `](https://www.tensorflow.org/api_docs/python/tf/keras/preprocessing/image/ImageDataGenerator).   \n",
        "You may use [`tf.keras.applications.vgg16.preprocess_input`](https://www.tensorflow.org/api_docs/python/tf/keras/applications/vgg16/preprocess_input)(or some other base model's utility) for pre-processing (can also be passed as a parameter to `ImageDataGenerator`)"
      ],
      "metadata": {
        "id": "RdUSMLggifex"
      }
    },
    {
      "cell_type": "code",
      "source": [
        "from keras.applications.vgg16 import preprocess_input # Change according to your base model\n",
        "from tensorflow.keras.preprocessing.image import ImageDataGenerator\n",
        "\n",
        "image_generator  = ImageDataGenerator(rescale=1./255, validation_split=0.2)"
      ],
      "metadata": {
        "id": "DBscSsvkgn39"
      },
      "execution_count": 18,
      "outputs": []
    },
    {
      "cell_type": "code",
      "source": [
        "# Anything else you wish to try"
      ],
      "metadata": {
        "id": "rhyHEFXDkZr4"
      },
      "execution_count": 19,
      "outputs": []
    },
    {
      "cell_type": "markdown",
      "source": [
        "### Training and Validation Dataset  \n",
        "Split the dataset into training and validation (We'll be looking for your validation accuracy, assume we are using complete dataset for now). \n",
        "\n",
        "Hint: `flow_from_directory` used with `ImageDataGenerator` will simplify things for you."
      ],
      "metadata": {
        "id": "IcKPxCpOkcuG"
      }
    },
    {
      "cell_type": "code",
      "source": [
        "# Your code\n",
        "train_dataset = image_generator.flow_from_directory(batch_size=32,\n",
        "                                                 directory=path,\n",
        "                                          \n",
        "                                                 target_size=(128, 128), \n",
        "                                                 subset=\"training\",\n",
        "                                                 class_mode='categorical')\n",
        "\n",
        "validation_dataset = image_generator.flow_from_directory(batch_size=32,\n",
        "                                                 directory=path,\n",
        "                                                 \n",
        "                                                 target_size=(128,128), \n",
        "                                                 subset=\"validation\",\n",
        "                                                 class_mode='categorical')\n"
      ],
      "metadata": {
        "id": "sB7hb3ybkJRq",
        "colab": {
          "base_uri": "https://localhost:8080/"
        },
        "outputId": "dd31e59b-f40f-4e06-95be-554d62bc9a2e"
      },
      "execution_count": 20,
      "outputs": [
        {
          "output_type": "stream",
          "name": "stdout",
          "text": [
            "Found 7188 images belonging to 3 classes.\n",
            "Found 1794 images belonging to 3 classes.\n"
          ]
        }
      ]
    },
    {
      "cell_type": "markdown",
      "source": [
        "### Training  \n",
        "Train your model for some epochs and plot the graph. Try and save your best model. Experiment with the parameters of `model.fit`"
      ],
      "metadata": {
        "id": "ZZPsjpT1mp3z"
      }
    },
    {
      "cell_type": "code",
      "source": [
        "from keras.callbacks import ModelCheckpoint\n",
        "# ModelCheckpoint is helpful to save the model giving best results (brownie points)\n",
        "\n",
        "results = model.fit(train_dataset, validation_data = validation_dataset, epochs = 20)"
      ],
      "metadata": {
        "id": "Gs2X14MBmu7W",
        "colab": {
          "base_uri": "https://localhost:8080/"
        },
        "outputId": "34c0e651-3475-49b9-c580-10e85a29b513"
      },
      "execution_count": 21,
      "outputs": [
        {
          "output_type": "stream",
          "name": "stdout",
          "text": [
            "Epoch 1/20\n",
            "225/225 [==============================] - 55s 172ms/step - loss: 5.8357 - accuracy: 0.3591 - val_loss: 5.8237 - val_accuracy: 0.4119\n",
            "Epoch 2/20\n",
            "225/225 [==============================] - 35s 155ms/step - loss: 5.7522 - accuracy: 0.5121 - val_loss: 5.5950 - val_accuracy: 0.5730\n",
            "Epoch 3/20\n",
            "225/225 [==============================] - 35s 156ms/step - loss: 5.7923 - accuracy: 0.3870 - val_loss: 5.8345 - val_accuracy: 0.3333\n",
            "Epoch 4/20\n",
            "225/225 [==============================] - 36s 159ms/step - loss: 5.8337 - accuracy: 0.3463 - val_loss: 5.8327 - val_accuracy: 0.3333\n",
            "Epoch 5/20\n",
            "225/225 [==============================] - 36s 158ms/step - loss: 5.8264 - accuracy: 0.3880 - val_loss: 5.7607 - val_accuracy: 0.5106\n",
            "Epoch 6/20\n",
            "225/225 [==============================] - 36s 160ms/step - loss: 1.0718 - accuracy: 0.6443 - val_loss: 0.5828 - val_accuracy: 0.7809\n",
            "Epoch 7/20\n",
            "225/225 [==============================] - 36s 162ms/step - loss: 0.9428 - accuracy: 0.5358 - val_loss: 0.6668 - val_accuracy: 0.7681\n",
            "Epoch 8/20\n",
            "225/225 [==============================] - 36s 161ms/step - loss: nan - accuracy: 0.6987 - val_loss: 0.8582 - val_accuracy: 0.7475\n",
            "Epoch 9/20\n",
            "225/225 [==============================] - 36s 160ms/step - loss: 0.6728 - accuracy: 0.7521 - val_loss: 0.5586 - val_accuracy: 0.8311\n",
            "Epoch 10/20\n",
            "225/225 [==============================] - 36s 161ms/step - loss: 0.5683 - accuracy: 0.7853 - val_loss: 0.4944 - val_accuracy: 0.8400\n",
            "Epoch 11/20\n",
            "225/225 [==============================] - 36s 160ms/step - loss: 0.5815 - accuracy: 0.7928 - val_loss: 0.6883 - val_accuracy: 0.7542\n",
            "Epoch 12/20\n",
            "225/225 [==============================] - 36s 160ms/step - loss: nan - accuracy: 0.8171 - val_loss: 0.4945 - val_accuracy: 0.8623\n",
            "Epoch 13/20\n",
            "225/225 [==============================] - 36s 161ms/step - loss: nan - accuracy: 0.8055 - val_loss: 0.5260 - val_accuracy: 0.8668\n",
            "Epoch 14/20\n",
            "225/225 [==============================] - 36s 160ms/step - loss: nan - accuracy: 0.8339 - val_loss: 0.3944 - val_accuracy: 0.8679\n",
            "Epoch 15/20\n",
            "225/225 [==============================] - 36s 161ms/step - loss: 0.6029 - accuracy: 0.7826 - val_loss: 0.6770 - val_accuracy: 0.7508\n",
            "Epoch 16/20\n",
            "225/225 [==============================] - 36s 160ms/step - loss: 0.5384 - accuracy: 0.8159 - val_loss: 0.4374 - val_accuracy: 0.8835\n",
            "Epoch 17/20\n",
            "225/225 [==============================] - 36s 160ms/step - loss: 0.6436 - accuracy: 0.7731 - val_loss: 0.8787 - val_accuracy: 0.6171\n",
            "Epoch 18/20\n",
            "225/225 [==============================] - 36s 161ms/step - loss: nan - accuracy: 0.6736 - val_loss: 0.5401 - val_accuracy: 0.8333\n",
            "Epoch 19/20\n",
            "225/225 [==============================] - 36s 160ms/step - loss: 0.6192 - accuracy: 0.7652 - val_loss: 0.6939 - val_accuracy: 0.7642\n",
            "Epoch 20/20\n",
            "225/225 [==============================] - 36s 159ms/step - loss: 0.5181 - accuracy: 0.8158 - val_loss: 0.4856 - val_accuracy: 0.8701\n"
          ]
        }
      ]
    },
    {
      "cell_type": "markdown",
      "source": [
        "### Evaluate the performance"
      ],
      "metadata": {
        "id": "FTvRa1FXri4R"
      }
    },
    {
      "cell_type": "code",
      "source": [
        "# Plot training & validation loss/accuracy values\n",
        "import matplotlib.pyplot as plt\n",
        "print(results.history.keys())\n",
        "\n",
        "plt.plot(results.history['loss'], label='train loss')\n",
        "plt.plot(results.history['val_loss'], label='val loss')\n",
        "plt.legend()\n",
        "plt.show()\n",
        "\n",
        "# plot the accuracy\n",
        "plt.plot(results.history['accuracy'], label='train acc')\n",
        "plt.plot(results.history['val_accuracy'], label='val acc')\n",
        "plt.legend()\n",
        "plt.show()"
      ],
      "metadata": {
        "id": "cTH6flzcrck0",
        "colab": {
          "base_uri": "https://localhost:8080/",
          "height": 530
        },
        "outputId": "97c1be1b-dd95-4c10-a438-d3f6eaa962d4"
      },
      "execution_count": 22,
      "outputs": [
        {
          "output_type": "stream",
          "name": "stdout",
          "text": [
            "dict_keys(['loss', 'accuracy', 'val_loss', 'val_accuracy'])\n"
          ]
        },
        {
          "output_type": "display_data",
          "data": {
            "text/plain": [
              "<Figure size 432x288 with 1 Axes>"
            ],
            "image/png": "[encoded data removed]"
          },
          "metadata": {
            "needs_background": "light"
          }
        },
        {
          "output_type": "display_data",
          "data": {
            "text/plain": [
              "<Figure size 432x288 with 1 Axes>"
            ],
            "image/png": "[encoded data removed]"
          },
          "metadata": {
            "needs_background": "light"
          }
        }
      ]
    },
    {
      "cell_type": "code",
      "source": [
        "from sklearn.metrics import classification_report, confusion_matrix\n",
        "import numpy as np\n",
        "\n",
        "y_pred = model.predict(validation_dataset)\n",
        "y = np.argmax(y_pred, axis=1)\n",
        "print(classification_report(validation_dataset.classes, y, target_names=output_classes))\n",
        "# print classification report"
      ],
      "metadata": {
        "id": "fJ-ZtU84r66Z",
        "colab": {
          "base_uri": "https://localhost:8080/"
        },
        "outputId": "64f8ff18-8627-4d9b-97f3-60d6c4ea4d3c"
      },
      "execution_count": 23,
      "outputs": [
        {
          "output_type": "stream",
          "name": "stdout",
          "text": [
            "                       precision    recall  f1-score   support\n",
            "\n",
            "         without_mask       0.32      0.34      0.33       598\n",
            "mask_weared_incorrect       0.34      0.31      0.33       598\n",
            "            with_mask       0.33      0.34      0.33       598\n",
            "\n",
            "             accuracy                           0.33      1794\n",
            "            macro avg       0.33      0.33      0.33      1794\n",
            "         weighted avg       0.33      0.33      0.33      1794\n",
            "\n"
          ]
        }
      ]
    },
    {
      "cell_type": "code",
      "source": [
        "# Use the classification report to print precision, recall, f1-score for the three classes(optional, brownie points)"
      ],
      "metadata": {
        "id": "VytDxkswrvXw"
      },
      "execution_count": null,
      "outputs": []
    }
  ]
}