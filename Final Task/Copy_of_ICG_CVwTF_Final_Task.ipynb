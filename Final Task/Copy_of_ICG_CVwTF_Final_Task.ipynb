{
  "cells": [
    {
      "cell_type": "markdown",
      "metadata": {
        "id": "rtI19Rt-H7Uc"
      },
      "source": [
        "## Final Task:\n",
        "This is your final evaluation for the project. As decided, we will be predicting images of people into three classes: `without_mask`, `mask_weared_incorrect` and `with_mask`. "
      ]
    },
    {
      "cell_type": "code",
      "execution_count": 6,
      "metadata": {
        "id": "c2CiXcHQTbX8"
      },
      "outputs": [],
      "source": [
        "import tensorflow as tf"
      ]
    },
    {
      "cell_type": "markdown",
      "metadata": {
        "id": "QKDPyiZTIm1c"
      },
      "source": [
        "### Loading the dataset\n",
        "Make a copy of the dataset given to you in your Google Drive (keep it outside, don't put it in any folder to avoid inconvenience). Ensure it is named as `Mask_Dataset` or change the path (the variable `data_dir`) accordingly."
      ]
    },
    {
      "cell_type": "code",
      "execution_count": 7,
      "metadata": {
        "colab": {
          "base_uri": "https://localhost:8080/"
        },
        "id": "hNEMe7XsIjrK",
        "outputId": "f4305b08-bfd0-4170-e418-0d695223b139"
      },
      "outputs": [
        {
          "output_type": "stream",
          "name": "stdout",
          "text": [
            "Drive already mounted at /content/drive; to attempt to forcibly remount, call drive.mount(\"/content/drive\", force_remount=True).\n"
          ]
        }
      ],
      "source": [
        "# Mount Google Drive\n",
        "from google.colab import drive\n",
        "drive.mount('/content/drive')"
      ]
    },
    {
      "cell_type": "code",
      "execution_count": 8,
      "metadata": {
        "id": "8CXzo4MOJOl8"
      },
      "outputs": [],
      "source": [
        "import pathlib\n",
        "\n",
        "path='/content/drive/MyDrive/Mask_Dataset/'\n",
        "data_dir = pathlib.Path(path)"
      ]
    },
    {
      "cell_type": "markdown",
      "metadata": {
        "id": "YHPHkGyDKscK"
      },
      "source": [
        "### Know the Dataset\n",
        "Most of the code is written for you as you aren't used to these libraries. You are to go through the documentation for your benefit."
      ]
    },
    {
      "cell_type": "code",
      "execution_count": 9,
      "metadata": {
        "colab": {
          "base_uri": "https://localhost:8080/"
        },
        "id": "PzbSy-vXKjD-",
        "outputId": "c2e7d045-7094-4095-ed23-10a3246c4edf"
      },
      "outputs": [
        {
          "output_type": "stream",
          "name": "stdout",
          "text": [
            "8982\n"
          ]
        }
      ],
      "source": [
        "# Print image count\n",
        "image_count = len(list(data_dir.glob('*/*.png')))\n",
        "print(image_count)"
      ]
    },
    {
      "cell_type": "code",
      "execution_count": 10,
      "metadata": {
        "colab": {
          "base_uri": "https://localhost:8080/"
        },
        "id": "rFHWFYj5NCVm",
        "outputId": "360d79b6-3905-4c09-c0f9-568301095a47"
      },
      "outputs": [
        {
          "output_type": "stream",
          "name": "stdout",
          "text": [
            "['without_mask', 'mask_weared_incorrect', 'with_mask']\n"
          ]
        }
      ],
      "source": [
        "# Print Output Labels\n",
        "import os\n",
        "output_classes = os.listdir(data_dir)\n",
        "print(output_classes)"
      ]
    },
    {
      "cell_type": "code",
      "execution_count": 11,
      "metadata": {
        "colab": {
          "base_uri": "https://localhost:8080/",
          "height": 300
        },
        "id": "fESyMw90KaxN",
        "outputId": "6413dfff-157d-48a7-d8cf-0ab8db0df381"
      },
      "outputs": [
        {
          "output_type": "stream",
          "name": "stdout",
          "text": [
            "[2994, 2994, 2994]\n"
          ]
        },
        {
          "output_type": "display_data",
          "data": {
            "text/plain": [
              "<Figure size 432x288 with 1 Axes>"
            ],
            "image/png": "[encoded data removed]"
          },
          "metadata": {
            "needs_background": "light"
          }
        }
      ],
      "source": [
        "# Plot count of each ouput label\n",
        "import matplotlib.pyplot as plt\n",
        "\n",
        "count=[]\n",
        "for label in output_classes:\n",
        "  this_path=path+label\n",
        "  dir=pathlib.Path(this_path)\n",
        "  im_count=os.listdir(dir)\n",
        "  count.append(len(im_count))\n",
        "\n",
        "print(count)\n",
        "\n",
        "plt.bar(output_classes,count)\n",
        "plt.title(\"Statistics\")\n",
        "plt.show()"
      ]
    },
    {
      "cell_type": "code",
      "execution_count": 12,
      "metadata": {
        "colab": {
          "base_uri": "https://localhost:8080/",
          "height": 401
        },
        "id": "HDSJ2Zk5a14s",
        "outputId": "953ed06a-aef3-47d0-8a5c-67a55790469b"
      },
      "outputs": [
        {
          "output_type": "display_data",
          "data": {
            "text/plain": [
              "<PIL.Image.Image image mode=RGB size=128x128 at 0x7EFC90BCC550>"
            ],
            "image/png": "[encoded data removed]"
          },
          "metadata": {}
        },
        {
          "output_type": "display_data",
          "data": {
            "text/plain": [
              "<PIL.Image.Image image mode=RGB size=128x128 at 0x7EFC90CA9690>"
            ],
            "image/png": "[encoded data removed]"
          },
          "metadata": {}
        },
        {
          "output_type": "display_data",
          "data": {
            "text/plain": [
              "<PIL.Image.Image image mode=RGB size=128x128 at 0x7EFC90AFD210>"
            ],
            "image/png": "[encoded data removed]"
          },
          "metadata": {}
        }
      ],
      "source": [
        "# Check some sample images (Use of cv2)\n",
        "import cv2\n",
        "from google.colab.patches import cv2_imshow\n",
        "\n",
        "for label in output_classes:\n",
        "  this_path=path+label\n",
        "  dir=pathlib.Path(this_path)\n",
        "  im_count=os.listdir(dir)\n",
        "  img_path = this_path + '/' + im_count[1]\n",
        "  img = cv2.imread(img_path)\n",
        "  cv2_imshow(img)"
      ]
    },
    {
      "cell_type": "code",
      "execution_count": 13,
      "metadata": {
        "colab": {
          "base_uri": "https://localhost:8080/"
        },
        "id": "jWBEMC1FUfXS",
        "outputId": "c62f8429-0fd2-45bd-faee-c32fb4ec7c23"
      },
      "outputs": [
        {
          "output_type": "stream",
          "name": "stdout",
          "text": [
            "(128, 128, 3)\n"
          ]
        }
      ],
      "source": [
        "print(img.shape)"
      ]
    },
    {
      "cell_type": "code",
      "execution_count": 14,
      "metadata": {
        "colab": {
          "base_uri": "https://localhost:8080/"
        },
        "id": "52BhBWRab5yc",
        "outputId": "fcc86603-2b1f-4937-b166-4d7ffb8f1f3b"
      },
      "outputs": [
        {
          "output_type": "stream",
          "name": "stdout",
          "text": [
            "img sizes are equal\n"
          ]
        }
      ],
      "source": [
        "first = None\n",
        "img_path_first = None\n",
        "img_first = None\n",
        "first_shape = None\n",
        "flag = 1\n",
        "f = 1\n",
        "\n",
        "for label in output_classes:\n",
        "  this_path=path+label\n",
        "  dir=pathlib.Path(this_path)\n",
        "  im_count = os.listdir(dir)\n",
        "  if flag == 1:\n",
        "    first = im_count[0];\n",
        "    img_path_first = this_path + '/' + first\n",
        "    img_first = cv2.imread(img_path_first)\n",
        "    first_shape = img_first.shape\n",
        "    flag = 0\n",
        "  for i in im_count:\n",
        "    img_path = this_path + '/' + i\n",
        "    img = cv2.imread(img_path)\n",
        "    if img.shape != first_shape:\n",
        "      print(\"img sizes not equal\")\n",
        "      f = 0\n",
        "if f == 1:\n",
        "  print(\"img sizes are equal\")\n",
        "\n",
        "\n",
        "    "
      ]
    },
    {
      "cell_type": "code",
      "execution_count": 15,
      "metadata": {
        "colab": {
          "base_uri": "https://localhost:8080/"
        },
        "id": "G-Atau4Rfc-x",
        "outputId": "e94d1d1c-c528-4b2e-c43d-6e19b6f73207"
      },
      "outputs": [
        {
          "output_type": "stream",
          "name": "stdout",
          "text": [
            "(128, 128, 3)\n"
          ]
        }
      ],
      "source": [
        "# If the shape is variable, reshape to a common size \n",
        "# If it is same, prove it\n",
        "# done above\n",
        "print(first_shape)"
      ]
    },
    {
      "cell_type": "code",
      "execution_count": 16,
      "metadata": {
        "id": "F0XHxMo2RVQd"
      },
      "outputs": [],
      "source": [
        "# Anything else you want to plot/experiment"
      ]
    },
    {
      "cell_type": "markdown",
      "metadata": {
        "id": "zSoUXS1cRbnu"
      },
      "source": [
        "### Model Definition\n",
        "Choose a model for Transfer Learning (You may also experment with multiple models and keep all of them in this notebook)"
      ]
    },
    {
      "cell_type": "code",
      "execution_count": 17,
      "metadata": {
        "id": "QKZmIgXMTHfy"
      },
      "outputs": [],
      "source": [
        "from tensorflow.keras.layers import Input, Lambda, Dense, Flatten\n",
        "from tensorflow.keras.models import Model\n",
        "from tensorflow.keras.preprocessing import image\n",
        "from tensorflow.keras.models import Sequential"
      ]
    },
    {
      "cell_type": "code",
      "execution_count": 18,
      "metadata": {
        "id": "9xWLUibHRNGj"
      },
      "outputs": [],
      "source": [
        "# Choose and define base model\n",
        "# VGG16 is a winner of imagenet compitition in 2014. So, we are going to use the same weights used to train actual VGG16 Image Classification model from that compitition\n",
        "# we will be using VGG16 architecture. We will pass the three parameters, that are input size of an image, weights=\"imagenet\" and include_top=Flase\n",
        "#include_top is false because we don't need to import whole architecture. \n",
        "# We need only the Convolutional architecture of VGG16. After that we will add our layer and which will be trained according to our dataset.\n",
        "from tensorflow.keras.applications.vgg16 import VGG16\n",
        "from tensorflow.keras.applications.vgg16 import preprocess_input\n",
        "\n",
        "vgg16 = VGG16(input_shape=first_shape, weights='imagenet', include_top=False)"
      ]
    },
    {
      "cell_type": "code",
      "execution_count": 19,
      "metadata": {
        "colab": {
          "base_uri": "https://localhost:8080/"
        },
        "id": "J3TwB_GLd7BU",
        "outputId": "8b55ed68-735c-4c4c-e071-aaa261d3273d"
      },
      "outputs": [
        {
          "output_type": "stream",
          "name": "stdout",
          "text": [
            "Model: \"vgg16\"\n",
            "_________________________________________________________________\n",
            " Layer (type)                Output Shape              Param #   \n",
            "=================================================================\n",
            " input_1 (InputLayer)        [(None, 128, 128, 3)]     0         \n",
            "                                                                 \n",
            " block1_conv1 (Conv2D)       (None, 128, 128, 64)      1792      \n",
            "                                                                 \n",
            " block1_conv2 (Conv2D)       (None, 128, 128, 64)      36928     \n",
            "                                                                 \n",
            " block1_pool (MaxPooling2D)  (None, 64, 64, 64)        0         \n",
            "                                                                 \n",
            " block2_conv1 (Conv2D)       (None, 64, 64, 128)       73856     \n",
            "                                                                 \n",
            " block2_conv2 (Conv2D)       (None, 64, 64, 128)       147584    \n",
            "                                                                 \n",
            " block2_pool (MaxPooling2D)  (None, 32, 32, 128)       0         \n",
            "                                                                 \n",
            " block3_conv1 (Conv2D)       (None, 32, 32, 256)       295168    \n",
            "                                                                 \n",
            " block3_conv2 (Conv2D)       (None, 32, 32, 256)       590080    \n",
            "                                                                 \n",
            " block3_conv3 (Conv2D)       (None, 32, 32, 256)       590080    \n",
            "                                                                 \n",
            " block3_pool (MaxPooling2D)  (None, 16, 16, 256)       0         \n",
            "                                                                 \n",
            " block4_conv1 (Conv2D)       (None, 16, 16, 512)       1180160   \n",
            "                                                                 \n",
            " block4_conv2 (Conv2D)       (None, 16, 16, 512)       2359808   \n",
            "                                                                 \n",
            " block4_conv3 (Conv2D)       (None, 16, 16, 512)       2359808   \n",
            "                                                                 \n",
            " block4_pool (MaxPooling2D)  (None, 8, 8, 512)         0         \n",
            "                                                                 \n",
            " block5_conv1 (Conv2D)       (None, 8, 8, 512)         2359808   \n",
            "                                                                 \n",
            " block5_conv2 (Conv2D)       (None, 8, 8, 512)         2359808   \n",
            "                                                                 \n",
            " block5_conv3 (Conv2D)       (None, 8, 8, 512)         2359808   \n",
            "                                                                 \n",
            " block5_pool (MaxPooling2D)  (None, 4, 4, 512)         0         \n",
            "                                                                 \n",
            "=================================================================\n",
            "Total params: 14,714,688\n",
            "Trainable params: 14,714,688\n",
            "Non-trainable params: 0\n",
            "_________________________________________________________________\n"
          ]
        }
      ],
      "source": [
        "# Print base model summary and have a look at the layers\n",
        "vgg16.summary()"
      ]
    },
    {
      "cell_type": "code",
      "execution_count": 20,
      "metadata": {
        "colab": {
          "base_uri": "https://localhost:8080/"
        },
        "id": "F_Heq3C1eKd-",
        "outputId": "40f96af5-bf06-4f6c-bd53-e0d33cbaf3d5"
      },
      "outputs": [
        {
          "output_type": "stream",
          "name": "stdout",
          "text": [
            "Model: \"vgg16\"\n",
            "_________________________________________________________________\n",
            " Layer (type)                Output Shape              Param #   \n",
            "=================================================================\n",
            " input_1 (InputLayer)        [(None, 128, 128, 3)]     0         \n",
            "                                                                 \n",
            " block1_conv1 (Conv2D)       (None, 128, 128, 64)      1792      \n",
            "                                                                 \n",
            " block1_conv2 (Conv2D)       (None, 128, 128, 64)      36928     \n",
            "                                                                 \n",
            " block1_pool (MaxPooling2D)  (None, 64, 64, 64)        0         \n",
            "                                                                 \n",
            " block2_conv1 (Conv2D)       (None, 64, 64, 128)       73856     \n",
            "                                                                 \n",
            " block2_conv2 (Conv2D)       (None, 64, 64, 128)       147584    \n",
            "                                                                 \n",
            " block2_pool (MaxPooling2D)  (None, 32, 32, 128)       0         \n",
            "                                                                 \n",
            " block3_conv1 (Conv2D)       (None, 32, 32, 256)       295168    \n",
            "                                                                 \n",
            " block3_conv2 (Conv2D)       (None, 32, 32, 256)       590080    \n",
            "                                                                 \n",
            " block3_conv3 (Conv2D)       (None, 32, 32, 256)       590080    \n",
            "                                                                 \n",
            " block3_pool (MaxPooling2D)  (None, 16, 16, 256)       0         \n",
            "                                                                 \n",
            " block4_conv1 (Conv2D)       (None, 16, 16, 512)       1180160   \n",
            "                                                                 \n",
            " block4_conv2 (Conv2D)       (None, 16, 16, 512)       2359808   \n",
            "                                                                 \n",
            " block4_conv3 (Conv2D)       (None, 16, 16, 512)       2359808   \n",
            "                                                                 \n",
            " block4_pool (MaxPooling2D)  (None, 8, 8, 512)         0         \n",
            "                                                                 \n",
            " block5_conv1 (Conv2D)       (None, 8, 8, 512)         2359808   \n",
            "                                                                 \n",
            " block5_conv2 (Conv2D)       (None, 8, 8, 512)         2359808   \n",
            "                                                                 \n",
            " block5_conv3 (Conv2D)       (None, 8, 8, 512)         2359808   \n",
            "                                                                 \n",
            " block5_pool (MaxPooling2D)  (None, 4, 4, 512)         0         \n",
            "                                                                 \n",
            "=================================================================\n",
            "Total params: 14,714,688\n",
            "Trainable params: 0\n",
            "Non-trainable params: 14,714,688\n",
            "_________________________________________________________________\n"
          ]
        }
      ],
      "source": [
        "# As we're using Transfer Learning, you do not need to train all the layers. Freeze all of the layers or train some layers (experiment)\n",
        "for layer in vgg16.layers:\n",
        "    layer.trainable = False\n",
        "vgg16.summary()"
      ]
    },
    {
      "cell_type": "code",
      "execution_count": 21,
      "metadata": {
        "id": "MKx1EtUJea6D"
      },
      "outputs": [],
      "source": [
        "# Append Fully connected/custom Conv2D/Dropout/MaxPooling layers to the base model\n",
        "flatten = Flatten()(vgg16.output)\n",
        "dense_1 = Dense(units=500, activation='relu')(flatten)\n",
        "dense_2 = Dense(units=500, activation='relu')(dense_1)\n",
        "dense_3 = Dense(units=100, activation='relu')(dense_2)\n",
        "dense_4 = Dense(units=100, activation='relu')(dense_3)\n"
      ]
    },
    {
      "cell_type": "code",
      "execution_count": 22,
      "metadata": {
        "id": "q6I3oTTNgP8L"
      },
      "outputs": [],
      "source": [
        "# Add the final output layer\n",
        "dense_output = Dense(units=1, activation='sigmoid')(dense_4)"
      ]
    },
    {
      "cell_type": "code",
      "execution_count": 23,
      "metadata": {
        "colab": {
          "base_uri": "https://localhost:8080/"
        },
        "id": "6aVQocJwgN5r",
        "outputId": "22212204-3ce7-46c5-fa4a-e57cf21b3b85"
      },
      "outputs": [
        {
          "output_type": "stream",
          "name": "stdout",
          "text": [
            "Model: \"model\"\n",
            "_________________________________________________________________\n",
            " Layer (type)                Output Shape              Param #   \n",
            "=================================================================\n",
            " input_1 (InputLayer)        [(None, 128, 128, 3)]     0         \n",
            "                                                                 \n",
            " block1_conv1 (Conv2D)       (None, 128, 128, 64)      1792      \n",
            "                                                                 \n",
            " block1_conv2 (Conv2D)       (None, 128, 128, 64)      36928     \n",
            "                                                                 \n",
            " block1_pool (MaxPooling2D)  (None, 64, 64, 64)        0         \n",
            "                                                                 \n",
            " block2_conv1 (Conv2D)       (None, 64, 64, 128)       73856     \n",
            "                                                                 \n",
            " block2_conv2 (Conv2D)       (None, 64, 64, 128)       147584    \n",
            "                                                                 \n",
            " block2_pool (MaxPooling2D)  (None, 32, 32, 128)       0         \n",
            "                                                                 \n",
            " block3_conv1 (Conv2D)       (None, 32, 32, 256)       295168    \n",
            "                                                                 \n",
            " block3_conv2 (Conv2D)       (None, 32, 32, 256)       590080    \n",
            "                                                                 \n",
            " block3_conv3 (Conv2D)       (None, 32, 32, 256)       590080    \n",
            "                                                                 \n",
            " block3_pool (MaxPooling2D)  (None, 16, 16, 256)       0         \n",
            "                                                                 \n",
            " block4_conv1 (Conv2D)       (None, 16, 16, 512)       1180160   \n",
            "                                                                 \n",
            " block4_conv2 (Conv2D)       (None, 16, 16, 512)       2359808   \n",
            "                                                                 \n",
            " block4_conv3 (Conv2D)       (None, 16, 16, 512)       2359808   \n",
            "                                                                 \n",
            " block4_pool (MaxPooling2D)  (None, 8, 8, 512)         0         \n",
            "                                                                 \n",
            " block5_conv1 (Conv2D)       (None, 8, 8, 512)         2359808   \n",
            "                                                                 \n",
            " block5_conv2 (Conv2D)       (None, 8, 8, 512)         2359808   \n",
            "                                                                 \n",
            " block5_conv3 (Conv2D)       (None, 8, 8, 512)         2359808   \n",
            "                                                                 \n",
            " block5_pool (MaxPooling2D)  (None, 4, 4, 512)         0         \n",
            "                                                                 \n",
            " flatten (Flatten)           (None, 8192)              0         \n",
            "                                                                 \n",
            " dense (Dense)               (None, 500)               4096500   \n",
            "                                                                 \n",
            " dense_1 (Dense)             (None, 500)               250500    \n",
            "                                                                 \n",
            " dense_2 (Dense)             (None, 100)               50100     \n",
            "                                                                 \n",
            " dense_3 (Dense)             (None, 100)               10100     \n",
            "                                                                 \n",
            " dense_4 (Dense)             (None, 1)                 101       \n",
            "                                                                 \n",
            "=================================================================\n",
            "Total params: 19,121,989\n",
            "Trainable params: 4,407,301\n",
            "Non-trainable params: 14,714,688\n",
            "_________________________________________________________________\n"
          ]
        }
      ],
      "source": [
        "# Print your model's summary\n",
        "model = Model(inputs=vgg16.input, outputs=dense_output)\n",
        "model.summary()"
      ]
    },
    {
      "cell_type": "code",
      "execution_count": 24,
      "metadata": {
        "id": "qdC71fUBgXAg"
      },
      "outputs": [],
      "source": [
        "# Compile you model (set the parameters like loss/optimizers/metrics)\n",
        "model.compile(loss='binary_crossentropy',optimizer='adam',metrics=['accuracy'])"
      ]
    },
    {
      "cell_type": "markdown",
      "metadata": {
        "id": "RdUSMLggifex"
      },
      "source": [
        "### Data Augmentation and Pre-processing\n",
        "Augment the data. You may also try dyanamic augmentation using [`tf.keras.preprocessing.image.ImageDataGenerator `](https://www.tensorflow.org/api_docs/python/tf/keras/preprocessing/image/ImageDataGenerator).   \n",
        "You may use [`tf.keras.applications.vgg16.preprocess_input`](https://www.tensorflow.org/api_docs/python/tf/keras/applications/vgg16/preprocess_input)(or some other base model's utility) for pre-processing (can also be passed as a parameter to `ImageDataGenerator`)"
      ]
    },
    {
      "cell_type": "code",
      "execution_count": 25,
      "metadata": {
        "id": "DBscSsvkgn39"
      },
      "outputs": [],
      "source": [
        "from keras.applications.vgg16 import preprocess_input # Change according to your base model\n",
        "from tensorflow.keras.preprocessing.image import ImageDataGenerator\n",
        "\n",
        "aug = ImageDataGenerator(rescale=1./255, validation_split=0.2,rotation_range=20,zoom_range=0.05,width_shift_range=0.05,)\n",
        "# Your code "
      ]
    },
    {
      "cell_type": "code",
      "execution_count": 26,
      "metadata": {
        "id": "rhyHEFXDkZr4"
      },
      "outputs": [],
      "source": [
        "# Anything else you wish to try"
      ]
    },
    {
      "cell_type": "markdown",
      "metadata": {
        "id": "IcKPxCpOkcuG"
      },
      "source": [
        "### Training and Validation Dataset  \n",
        "Split the dataset into training and validation (We'll be looking for your validation accuracy, assume we are using complete dataset for now). \n",
        "\n",
        "Hint: `flow_from_directory` used with `ImageDataGenerator` will simplify things for you."
      ]
    },
    {
      "cell_type": "code",
      "execution_count": 27,
      "metadata": {
        "colab": {
          "base_uri": "https://localhost:8080/"
        },
        "id": "sB7hb3ybkJRq",
        "outputId": "8f16ea66-fe32-4eb5-845c-c60e1f5e8e64"
      },
      "outputs": [
        {
          "output_type": "stream",
          "name": "stdout",
          "text": [
            "Found 7188 images belonging to 3 classes.\n",
            "Found 1794 images belonging to 3 classes.\n"
          ]
        }
      ],
      "source": [
        "# Your code\n",
        "training_dataset = aug.flow_from_directory(batch_size=32,directory=path,target_size=(128, 128),subset=\"training\",class_mode='categorical')\n",
        "test_dataset = aug.flow_from_directory(batch_size=32,directory=path,target_size=(128,128),subset=\"validation\",class_mode='categorical')"
      ]
    },
    {
      "cell_type": "markdown",
      "metadata": {
        "id": "ZZPsjpT1mp3z"
      },
      "source": [
        "### Training  \n",
        "Train your model for some epochs and plot the graph. Try and save your best model. Experiment with the parameters of `model.fit`"
      ]
    },
    {
      "cell_type": "code",
      "execution_count": null,
      "metadata": {
        "colab": {
          "base_uri": "https://localhost:8080/"
        },
        "id": "Gs2X14MBmu7W",
        "outputId": "5e7c1eaf-e442-4079-8580-836e4ac67955"
      },
      "outputs": [
        {
          "output_type": "stream",
          "name": "stdout",
          "text": [
            "Epoch 1/10\n",
            " 97/225 [===========>..................] - ETA: 11:58 - loss: 0.6467 - accuracy: 0.6617"
          ]
        }
      ],
      "source": [
        "from keras.callbacks import ModelCheckpoint\n",
        "# ModelCheckpoint is helpful to save the model giving best results (brownie points)\n",
        "r = model.fit(\n",
        "  training_dataset,\n",
        "  validation_data=test_dataset,\n",
        "  epochs=10,\n",
        "  steps_per_epoch=len(training_dataset),\n",
        "  validation_steps=len(test_dataset)\n",
        ")\n"
      ]
    },
    {
      "cell_type": "markdown",
      "metadata": {
        "id": "FTvRa1FXri4R"
      },
      "source": [
        "### Evaluate the performance"
      ]
    },
    {
      "cell_type": "code",
      "execution_count": null,
      "metadata": {
        "id": "cTH6flzcrck0"
      },
      "outputs": [],
      "source": [
        "# Plot training & validation loss/accuracy values\n",
        "acc = r.history['accuracy']\n",
        "val_acc = r.history['val_accuracy']\n",
        "\n",
        "loss = r.history['loss']\n",
        "val_loss = r.history['val_loss']\n",
        "\n",
        "plt.figure(figsize=(8, 8))\n",
        "plt.subplot(2, 1, 1)\n",
        "plt.plot(acc, label='Training Accuracy')\n",
        "plt.plot(val_acc, label='Validation Accuracy')\n",
        "plt.legend(loc='lower right')\n",
        "plt.ylabel('Accuracy')\n",
        "plt.ylim([min(plt.ylim()),1])\n",
        "plt.title('Training and Validation Accuracy')\n",
        "\n",
        "plt.subplot(2, 1, 2)\n",
        "plt.plot(loss, label='Training Loss')\n",
        "plt.plot(val_loss, label='Validation Loss')\n",
        "plt.legend(loc='upper right')\n",
        "plt.ylabel('Cross Entropy')\n",
        "plt.ylim([0,1.0])\n",
        "plt.title('Training and Validation Loss')\n",
        "plt.xlabel('epoch')\n",
        "plt.show()"
      ]
    },
    {
      "cell_type": "code",
      "execution_count": null,
      "metadata": {
        "id": "fJ-ZtU84r66Z"
      },
      "outputs": [],
      "source": [
        "from sklearn.metrics import classification_report, confusion_matrix\n",
        "import numpy as np\n",
        "\n",
        "# print classification report\n",
        "from sklearn.metrics import classification_report, confusion_matrix\n",
        "import numpy as np\n",
        "validation_classes = []\n",
        "validation_images = []\n",
        "for i in range( -(-test_dataset.samples // test_dataset.batch_size)):\n",
        "        batch = test_dataset.next()\n",
        "        expected = np.argmax(batch[1], axis=1)\n",
        "        validation_classes.extend(expected)\n",
        "        validation_images.extend(batch[0])\n",
        "validation_classes = np.array(validation_classes)\n",
        "validation_images = np.array(validation_images)\n",
        "Y_pred = model.predict(validation_images)\n",
        "y_pred = np.argmax(Y_pred, axis=1)\n",
        "print(classification_report(validation_classes, y_pred,target_names = ['without_mask', 'mask_weared_incorrect', 'with_mask']))"
      ]
    },
    {
      "cell_type": "code",
      "execution_count": null,
      "metadata": {
        "id": "VytDxkswrvXw"
      },
      "outputs": [],
      "source": [
        ""
      ]
    }
  ],
  "metadata": {
    "colab": {
      "collapsed_sections": [],
      "name": "Copy of ICG-CVwTF-Final_Task.ipynb",
      "provenance": []
    },
    "gpuClass": "standard",
    "kernelspec": {
      "display_name": "Python 3",
      "name": "python3"
    },
    "language_info": {
      "name": "python"
    }
  },
  "nbformat": 4,
  "nbformat_minor": 0
}