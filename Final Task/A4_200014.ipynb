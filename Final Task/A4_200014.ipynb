{
  "nbformat": 4,
  "nbformat_minor": 0,
  "metadata": {
    "colab": {
      "name": "A4_200014.ipynb",
      "provenance": [],
      "collapsed_sections": []
    },
    "kernelspec": {
      "name": "python3",
      "display_name": "Python 3"
    },
    "language_info": {
      "name": "python"
    },
    "accelerator": "GPU",
    "gpuClass": "standard"
  },
  "cells": [
    {
      "cell_type": "markdown",
      "source": [
        "## Final Task:\n",
        "This is your final evaluation for the project. As decided, we will be predicting images of people into three classes: `without_mask`, `mask_weared_incorrect` and `with_mask`. "
      ],
      "metadata": {
        "id": "rtI19Rt-H7Uc"
      }
    },
    {
      "cell_type": "code",
      "source": [
        "import tensorflow as tf"
      ],
      "metadata": {
        "id": "c2CiXcHQTbX8"
      },
      "execution_count": 1,
      "outputs": []
    },
    {
      "cell_type": "markdown",
      "source": [
        "### Loading the dataset\n",
        "Make a copy of the dataset given to you in your Google Drive (keep it outside, don't put it in any folder to avoid inconvenience). Ensure it is named as `Mask_Dataset` or change the path (the variable `data_dir`) accordingly."
      ],
      "metadata": {
        "id": "QKDPyiZTIm1c"
      }
    },
    {
      "cell_type": "code",
      "source": [
        "# Mount Google Drive\n",
        "from google.colab import drive\n",
        "drive.mount('/content/drive')"
      ],
      "metadata": {
        "colab": {
          "base_uri": "https://localhost:8080/"
        },
        "id": "hNEMe7XsIjrK",
        "outputId": "25ea253f-323b-46e1-fba5-9c21d021bda5"
      },
      "execution_count": 2,
      "outputs": [
        {
          "output_type": "stream",
          "name": "stdout",
          "text": [
            "Mounted at /content/drive\n"
          ]
        }
      ]
    },
    {
      "cell_type": "code",
      "source": [
        "import pathlib\n",
        "\n",
        "# path='/content/drive/MyDrive/Mask_Dataset/'\n",
        "path='/content/drive/MyDrive/ABHAY SISODIA/Mask_Dataset/'\n",
        "data_dir = pathlib.Path(path)"
      ],
      "metadata": {
        "id": "8CXzo4MOJOl8"
      },
      "execution_count": 3,
      "outputs": []
    },
    {
      "cell_type": "code",
      "source": [
        "data_dir"
      ],
      "metadata": {
        "colab": {
          "base_uri": "https://localhost:8080/"
        },
        "id": "YtR6XqWbDaFx",
        "outputId": "b422c75e-cc0b-4955-a974-fc588e570be2"
      },
      "execution_count": 4,
      "outputs": [
        {
          "output_type": "execute_result",
          "data": {
            "text/plain": [
              "PosixPath('/content/drive/MyDrive/ABHAY SISODIA/Mask_Dataset')"
            ]
          },
          "metadata": {},
          "execution_count": 4
        }
      ]
    },
    {
      "cell_type": "markdown",
      "source": [
        "### Know the Dataset\n",
        "Most of the code is written for you as you aren't used to these libraries. You are to go through the documentation for your benefit."
      ],
      "metadata": {
        "id": "YHPHkGyDKscK"
      }
    },
    {
      "cell_type": "code",
      "source": [
        "# Print image count\n",
        "image_count = len(list(data_dir.glob('*/*.png')))\n",
        "print(image_count)"
      ],
      "metadata": {
        "colab": {
          "base_uri": "https://localhost:8080/"
        },
        "id": "PzbSy-vXKjD-",
        "outputId": "1cbf2350-a312-402e-b560-0f8167d01c59"
      },
      "execution_count": 5,
      "outputs": [
        {
          "output_type": "stream",
          "name": "stdout",
          "text": [
            "8982\n"
          ]
        }
      ]
    },
    {
      "cell_type": "code",
      "source": [
        "from google.colab import drive\n",
        "drive.mount('/content/drive')"
      ],
      "metadata": {
        "id": "tTfqUxhXa6zK",
        "outputId": "1c66155b-21ef-4ccd-e07a-f220f0f7be0a",
        "colab": {
          "base_uri": "https://localhost:8080/"
        }
      },
      "execution_count": 6,
      "outputs": [
        {
          "output_type": "stream",
          "name": "stdout",
          "text": [
            "Drive already mounted at /content/drive; to attempt to forcibly remount, call drive.mount(\"/content/drive\", force_remount=True).\n"
          ]
        }
      ]
    },
    {
      "cell_type": "code",
      "source": [
        "# Print Output Labels\n",
        "import os\n",
        "output_classes = os.listdir(data_dir)\n",
        "print(output_classes)"
      ],
      "metadata": {
        "colab": {
          "base_uri": "https://localhost:8080/"
        },
        "id": "rFHWFYj5NCVm",
        "outputId": "2274e718-ba0e-43ac-e2bb-93f83528d2ad"
      },
      "execution_count": 7,
      "outputs": [
        {
          "output_type": "stream",
          "name": "stdout",
          "text": [
            "['without_mask', 'mask_weared_incorrect', 'with_mask']\n"
          ]
        }
      ]
    },
    {
      "cell_type": "code",
      "source": [
        "# Plot count of each ouput label\n",
        "import matplotlib.pyplot as plt\n",
        "\n",
        "count=[]\n",
        "for label in output_classes:\n",
        "  this_path=path+label\n",
        "  dir=pathlib.Path(this_path)\n",
        "  im_count=os.listdir(dir)\n",
        "  count.append(len(im_count))\n",
        "\n",
        "print(count)\n",
        "\n",
        "plt.bar(output_classes,count)\n",
        "plt.title(\"Statistics\")\n",
        "plt.show()"
      ],
      "metadata": {
        "colab": {
          "base_uri": "https://localhost:8080/",
          "height": 300
        },
        "id": "fESyMw90KaxN",
        "outputId": "ee5e3669-33cd-404b-aba2-d626610b55c8"
      },
      "execution_count": 8,
      "outputs": [
        {
          "output_type": "stream",
          "name": "stdout",
          "text": [
            "[2994, 2994, 2994]\n"
          ]
        },
        {
          "output_type": "display_data",
          "data": {
            "text/plain": [
              "<Figure size 432x288 with 1 Axes>"
            ],
            "image/png": "[encoded data removed]"
          },
          "metadata": {
            "needs_background": "light"
          }
        }
      ]
    },
    {
      "cell_type": "code",
      "source": [
        "import cv2\n",
        "path_new=path+output_classes[2]+'/15.png'\n",
        "img = cv2.imread (path_new,1) \n"
      ],
      "metadata": {
        "id": "3D9eZ3e_c9LI"
      },
      "execution_count": 9,
      "outputs": []
    },
    {
      "cell_type": "code",
      "source": [
        "path_new"
      ],
      "metadata": {
        "colab": {
          "base_uri": "https://localhost:8080/",
          "height": 36
        },
        "id": "Z1LxaTIVt_LW",
        "outputId": "97e55285-3169-424e-c6b9-7477b68a3912"
      },
      "execution_count": 10,
      "outputs": [
        {
          "output_type": "execute_result",
          "data": {
            "text/plain": [
              "'/content/drive/MyDrive/ABHAY SISODIA/Mask_Dataset/with_mask/15.png'"
            ],
            "application/vnd.google.colaboratory.intrinsic+json": {
              "type": "string"
            }
          },
          "metadata": {},
          "execution_count": 10
        }
      ]
    },
    {
      "cell_type": "code",
      "source": [
        "# Check some sample images (Use of cv2)\n",
        "import cv2\n",
        "from google.colab.patches import cv2_imshow\n",
        "cv2_imshow(img)\n",
        "# Your code"
      ],
      "metadata": {
        "id": "HDSJ2Zk5a14s",
        "outputId": "e2384c31-c150-4bd3-d281-ae80d51575d9",
        "colab": {
          "base_uri": "https://localhost:8080/",
          "height": 145
        }
      },
      "execution_count": 11,
      "outputs": [
        {
          "output_type": "display_data",
          "data": {
            "text/plain": [
              "<PIL.Image.Image image mode=RGB size=128x128 at 0x7FBCE97C81D0>"
            ],
            "image/png": "[encoded data removed]"
          },
          "metadata": {}
        }
      ]
    },
    {
      "cell_type": "code",
      "source": [
        "x=img.shape\n",
        "x\n",
        "# Check shape of the images in your dataset. This will be helpful while specifying input_shape in your Transfer Learning Model"
      ],
      "metadata": {
        "id": "jWBEMC1FUfXS",
        "outputId": "7be6f170-4ef7-4f32-a980-02dcf97775cf",
        "colab": {
          "base_uri": "https://localhost:8080/"
        }
      },
      "execution_count": 12,
      "outputs": [
        {
          "output_type": "execute_result",
          "data": {
            "text/plain": [
              "(128, 128, 3)"
            ]
          },
          "metadata": {},
          "execution_count": 12
        }
      ]
    },
    {
      "cell_type": "code",
      "source": [
        "import random\n",
        "for label in output_classes:\n",
        "  print(label)\n",
        "  this_path=path+label\n",
        "  dir=pathlib.Path(this_path)\n",
        "  im_count=os.listdir(dir)\n",
        "  rand_no=random.randint(0,2994)\n",
        "  print(rand_no)\n",
        "  image = this_path+'/'+im_count[rand_no] #Checking the shape of 3 random images from the 3 different classes and we find all the images have the same shape (128,128,3)\n",
        "  testing=cv2.imread(image)\n",
        "  print(testing.shape)\n",
        "  \n",
        "  \n"
      ],
      "metadata": {
        "id": "52BhBWRab5yc",
        "colab": {
          "base_uri": "https://localhost:8080/"
        },
        "outputId": "0d50acdc-41d8-4d3b-f3ac-c67718b0736f"
      },
      "execution_count": 13,
      "outputs": [
        {
          "output_type": "stream",
          "name": "stdout",
          "text": [
            "without_mask\n",
            "2616\n",
            "(128, 128, 3)\n",
            "mask_weared_incorrect\n",
            "915\n",
            "(128, 128, 3)\n",
            "with_mask\n",
            "919\n",
            "(128, 128, 3)\n"
          ]
        }
      ]
    },
    {
      "cell_type": "code",
      "source": [
        "flag=False\n",
        " # for comparison we contain a touple\n",
        "\n",
        "for label in output_classes:\n",
        "  this_path=path+label\n",
        "  dir=pathlib.Path(this_path)\n",
        "  im_count=os.listdir(dir)\n",
        "  for i in range(len(im_count)):\n",
        "    image = this_path+'/'+im_count[i] \n",
        "    testing=cv2.imread(image)\n",
        "    if testing.shape!=img.shape:\n",
        "      flag=True\n",
        "\n",
        "if(flag):\n",
        "  print(\"Different sized images are present\")"
      ],
      "metadata": {
        "id": "G-Atau4Rfc-x"
      },
      "execution_count": 14,
      "outputs": []
    },
    {
      "cell_type": "code",
      "source": [
        "\n",
        "\n",
        "# Anything else you want to plot/experiment"
      ],
      "metadata": {
        "id": "F0XHxMo2RVQd"
      },
      "execution_count": null,
      "outputs": []
    },
    {
      "cell_type": "markdown",
      "source": [
        "### Model Definition\n",
        "Choose a model for Transfer Learning (You may also experment with multiple models and keep all of them in this notebook)"
      ],
      "metadata": {
        "id": "zSoUXS1cRbnu"
      }
    },
    {
      "cell_type": "code",
      "source": [
        "from tensorflow.keras.layers import Input, Lambda, Dense, Flatten\n",
        "from tensorflow.keras.models import Model\n",
        "from tensorflow.keras.preprocessing import image\n",
        "from tensorflow.keras.applications.vgg16 import VGG16\n",
        "from tensorflow.keras.applications.vgg19 import VGG19\n",
        "from tensorflow.keras.preprocessing.image import ImageDataGenerator,load_img\n",
        "from tensorflow.keras.models import Sequential"
      ],
      "metadata": {
        "id": "QKZmIgXMTHfy"
      },
      "execution_count": 15,
      "outputs": []
    },
    {
      "cell_type": "code",
      "source": [
        "# Choose and define base model\n",
        "IMAGE_SIZE = [128, 128]\n",
        "vgg16 = VGG16(input_shape=IMAGE_SIZE + [3], weights='imagenet', include_top=False)"
      ],
      "metadata": {
        "id": "9xWLUibHRNGj",
        "colab": {
          "base_uri": "https://localhost:8080/"
        },
        "outputId": "d6af16df-df01-42fd-8946-607df8a80f69"
      },
      "execution_count": 16,
      "outputs": [
        {
          "output_type": "stream",
          "name": "stdout",
          "text": [
            "Downloading data from https://storage.googleapis.com/tensorflow/keras-applications/vgg16/vgg16_weights_tf_dim_ordering_tf_kernels_notop.h5\n",
            "58892288/58889256 [==============================] - 0s 0us/step\n",
            "58900480/58889256 [==============================] - 0s 0us/step\n"
          ]
        }
      ]
    },
    {
      "cell_type": "code",
      "source": [
        "vgg16.summary()\n",
        "# Print base model summary and have a look at the layers"
      ],
      "metadata": {
        "id": "J3TwB_GLd7BU",
        "colab": {
          "base_uri": "https://localhost:8080/"
        },
        "outputId": "b215deb4-f9ef-4d6b-f1f2-c795770238ee"
      },
      "execution_count": 17,
      "outputs": [
        {
          "output_type": "stream",
          "name": "stdout",
          "text": [
            "Model: \"vgg16\"\n",
            "_________________________________________________________________\n",
            " Layer (type)                Output Shape              Param #   \n",
            "=================================================================\n",
            " input_1 (InputLayer)        [(None, 128, 128, 3)]     0         \n",
            "                                                                 \n",
            " block1_conv1 (Conv2D)       (None, 128, 128, 64)      1792      \n",
            "                                                                 \n",
            " block1_conv2 (Conv2D)       (None, 128, 128, 64)      36928     \n",
            "                                                                 \n",
            " block1_pool (MaxPooling2D)  (None, 64, 64, 64)        0         \n",
            "                                                                 \n",
            " block2_conv1 (Conv2D)       (None, 64, 64, 128)       73856     \n",
            "                                                                 \n",
            " block2_conv2 (Conv2D)       (None, 64, 64, 128)       147584    \n",
            "                                                                 \n",
            " block2_pool (MaxPooling2D)  (None, 32, 32, 128)       0         \n",
            "                                                                 \n",
            " block3_conv1 (Conv2D)       (None, 32, 32, 256)       295168    \n",
            "                                                                 \n",
            " block3_conv2 (Conv2D)       (None, 32, 32, 256)       590080    \n",
            "                                                                 \n",
            " block3_conv3 (Conv2D)       (None, 32, 32, 256)       590080    \n",
            "                                                                 \n",
            " block3_pool (MaxPooling2D)  (None, 16, 16, 256)       0         \n",
            "                                                                 \n",
            " block4_conv1 (Conv2D)       (None, 16, 16, 512)       1180160   \n",
            "                                                                 \n",
            " block4_conv2 (Conv2D)       (None, 16, 16, 512)       2359808   \n",
            "                                                                 \n",
            " block4_conv3 (Conv2D)       (None, 16, 16, 512)       2359808   \n",
            "                                                                 \n",
            " block4_pool (MaxPooling2D)  (None, 8, 8, 512)         0         \n",
            "                                                                 \n",
            " block5_conv1 (Conv2D)       (None, 8, 8, 512)         2359808   \n",
            "                                                                 \n",
            " block5_conv2 (Conv2D)       (None, 8, 8, 512)         2359808   \n",
            "                                                                 \n",
            " block5_conv3 (Conv2D)       (None, 8, 8, 512)         2359808   \n",
            "                                                                 \n",
            " block5_pool (MaxPooling2D)  (None, 4, 4, 512)         0         \n",
            "                                                                 \n",
            "=================================================================\n",
            "Total params: 14,714,688\n",
            "Trainable params: 14,714,688\n",
            "Non-trainable params: 0\n",
            "_________________________________________________________________\n"
          ]
        }
      ]
    },
    {
      "cell_type": "code",
      "source": [
        "\n",
        "# As we're using Transfer Learning, you do not need to train all the layers. Freeze all of the layers or train some layers (experiment)\n",
        "\n",
        "for layer in vgg16.layers:\n",
        "    layer.trainable = False\n"
      ],
      "metadata": {
        "id": "F_Heq3C1eKd-"
      },
      "execution_count": 18,
      "outputs": []
    },
    {
      "cell_type": "code",
      "source": [
        "output_classes"
      ],
      "metadata": {
        "colab": {
          "base_uri": "https://localhost:8080/"
        },
        "id": "piaL6BfmqGfX",
        "outputId": "a014672f-32a6-457e-e8c4-4ff413b58490"
      },
      "execution_count": 19,
      "outputs": [
        {
          "output_type": "execute_result",
          "data": {
            "text/plain": [
              "['without_mask', 'mask_weared_incorrect', 'with_mask']"
            ]
          },
          "metadata": {},
          "execution_count": 19
        }
      ]
    },
    {
      "cell_type": "code",
      "source": [
        "# Append Fully connected/custom Conv2D/Dropout/MaxPooling layers to the base model\n",
        "\n",
        "\n",
        "inputs = tf.keras.Input(shape=IMAGE_SIZE + [3])\n",
        "x = inputs\n",
        "x = vgg16(x)\n",
        "x = tf.keras.layers.Flatten()(x)\n",
        "x = tf.keras.layers.Dense(256)(x)\n",
        "x = tf.keras.layers.Dense(256)(x)\n",
        "outputs = tf.keras.layers.Dense(3, activation=\"softmax\")(x)\n",
        "model = tf.keras.Model(inputs, outputs)\n"
      ],
      "metadata": {
        "id": "MKx1EtUJea6D"
      },
      "execution_count": 27,
      "outputs": []
    },
    {
      "cell_type": "code",
      "source": [
        "# Add the final output layer\n",
        "prediction = Dense(len(output_classes), activation='softmax')(x)\n"
      ],
      "metadata": {
        "id": "lo0mIe8HqUHk"
      },
      "execution_count": 29,
      "outputs": []
    },
    {
      "cell_type": "code",
      "source": [
        "# Print your model's summary\n",
        "model.summary()"
      ],
      "metadata": {
        "id": "6aVQocJwgN5r",
        "colab": {
          "base_uri": "https://localhost:8080/"
        },
        "outputId": "79d0e4f7-d8b8-416e-8a78-4a8903abacc4"
      },
      "execution_count": 30,
      "outputs": [
        {
          "output_type": "stream",
          "name": "stdout",
          "text": [
            "Model: \"model\"\n",
            "_________________________________________________________________\n",
            " Layer (type)                Output Shape              Param #   \n",
            "=================================================================\n",
            " input_7 (InputLayer)        [(None, 128, 128, 3)]     0         \n",
            "                                                                 \n",
            " vgg16 (Functional)          (None, 4, 4, 512)         14714688  \n",
            "                                                                 \n",
            " flatten (Flatten)           (None, 8192)              0         \n",
            "                                                                 \n",
            " dense (Dense)               (None, 256)               2097408   \n",
            "                                                                 \n",
            " dense_1 (Dense)             (None, 256)               65792     \n",
            "                                                                 \n",
            " dense_2 (Dense)             (None, 3)                 771       \n",
            "                                                                 \n",
            "=================================================================\n",
            "Total params: 16,878,659\n",
            "Trainable params: 2,163,971\n",
            "Non-trainable params: 14,714,688\n",
            "_________________________________________________________________\n"
          ]
        }
      ]
    },
    {
      "cell_type": "code",
      "source": [
        "# Compile you model (set the parameters like loss/optimizers/metrics)\n",
        "\n",
        "model.compile(\n",
        "  loss='categorical_crossentropy',\n",
        "  optimizer='adam',\n",
        "  metrics=['accuracy']\n",
        ")"
      ],
      "metadata": {
        "id": "qdC71fUBgXAg"
      },
      "execution_count": 31,
      "outputs": []
    },
    {
      "cell_type": "markdown",
      "source": [
        "### Data Augmentation and Pre-processing\n",
        "Augment the data. You may also try dyanamic augmentation using [`tf.keras.preprocessing.image.ImageDataGenerator `](https://www.tensorflow.org/api_docs/python/tf/keras/preprocessing/image/ImageDataGenerator).   \n",
        "You may use [`tf.keras.applications.vgg16.preprocess_input`](https://www.tensorflow.org/api_docs/python/tf/keras/applications/vgg16/preprocess_input)(or some other base model's utility) for pre-processing (can also be passed as a parameter to `ImageDataGenerator`)"
      ],
      "metadata": {
        "id": "RdUSMLggifex"
      }
    },
    {
      "cell_type": "code",
      "source": [
        "from keras_preprocessing.image import ImageDataGenerator\n",
        "\n",
        "label_datagen = ImageDataGenerator( rescale = 1./255, validation_split=0.2)\n",
        "\n",
        "# Your code "
      ],
      "metadata": {
        "id": "DBscSsvkgn39"
      },
      "execution_count": 32,
      "outputs": []
    },
    {
      "cell_type": "code",
      "source": [
        "from keras.backend import categorical_crossentropy\n",
        "# Your code\n",
        "train_label_generator = label_datagen.flow_from_directory(\n",
        "    directory=path,\n",
        "    target_size=(128,128),\n",
        "    subset=\"training\",\n",
        "    class_mode='categorical',\n",
        "    batch_size=32)\n",
        "validation_label_generator = label_datagen.flow_from_directory(\n",
        "    directory=path,\n",
        "    target_size=(128,128),\n",
        "    subset=\"validation\",\n",
        "    class_mode='categorical',\n",
        "    batch_size=32)"
      ],
      "metadata": {
        "colab": {
          "base_uri": "https://localhost:8080/"
        },
        "id": "dR4JzFe-IKGp",
        "outputId": "81a2ccdb-daf1-463c-8ad8-b878b06155e3"
      },
      "execution_count": 33,
      "outputs": [
        {
          "output_type": "stream",
          "name": "stdout",
          "text": [
            "Found 7188 images belonging to 3 classes.\n",
            "Found 1794 images belonging to 3 classes.\n"
          ]
        }
      ]
    },
    {
      "cell_type": "code",
      "source": [
        "# Anything else you wish to try"
      ],
      "metadata": {
        "id": "rhyHEFXDkZr4"
      },
      "execution_count": null,
      "outputs": []
    },
    {
      "cell_type": "markdown",
      "source": [
        "### Training and Validation Dataset  \n",
        "Split the dataset into training and validation (We'll be looking for your validation accuracy, assume we are using complete dataset for now). \n",
        "\n",
        "Hint: `flow_from_directory` used with `ImageDataGenerator` will simplify things for you."
      ],
      "metadata": {
        "id": "IcKPxCpOkcuG"
      }
    },
    {
      "cell_type": "code",
      "source": [
        "# Your code\n",
        "\n",
        "\n",
        "\n"
      ],
      "metadata": {
        "id": "sB7hb3ybkJRq"
      },
      "execution_count": 34,
      "outputs": []
    },
    {
      "cell_type": "markdown",
      "source": [
        "### Training  \n",
        "Train your model for some epochs and plot the graph. Try and save your best model. Experiment with the parameters of `model.fit`"
      ],
      "metadata": {
        "id": "ZZPsjpT1mp3z"
      }
    },
    {
      "cell_type": "code",
      "source": [
        "from keras.callbacks import ModelCheckpoint\n",
        "\n",
        "hist = model.fit(train_label_generator, validation_data=validation_label_generator, epochs=50, batch_size=50)\n",
        "\n",
        "# ModelCheckpoint is helpful to save the model giving best results (brownie points)"
      ],
      "metadata": {
        "id": "Gs2X14MBmu7W",
        "colab": {
          "base_uri": "https://localhost:8080/"
        },
        "outputId": "465c98da-17a6-4017-87d5-125d461a7992"
      },
      "execution_count": 39,
      "outputs": [
        {
          "output_type": "stream",
          "name": "stdout",
          "text": [
            "Epoch 1/50\n",
            "225/225 [==============================] - 24s 105ms/step - loss: 0.0168 - accuracy: 0.9951 - val_loss: 0.1409 - val_accuracy: 0.9693\n",
            "Epoch 2/50\n",
            "225/225 [==============================] - 23s 100ms/step - loss: 0.0030 - accuracy: 0.9989 - val_loss: 0.1305 - val_accuracy: 0.9727\n",
            "Epoch 3/50\n",
            "225/225 [==============================] - 23s 103ms/step - loss: 0.0019 - accuracy: 0.9993 - val_loss: 0.1150 - val_accuracy: 0.9822\n",
            "Epoch 4/50\n",
            "225/225 [==============================] - 23s 102ms/step - loss: 0.0015 - accuracy: 0.9996 - val_loss: 0.1538 - val_accuracy: 0.9788\n",
            "Epoch 5/50\n",
            "225/225 [==============================] - 25s 112ms/step - loss: 6.2750e-04 - accuracy: 0.9999 - val_loss: 0.1324 - val_accuracy: 0.9822\n",
            "Epoch 6/50\n",
            "225/225 [==============================] - 24s 106ms/step - loss: 5.7412e-04 - accuracy: 0.9999 - val_loss: 0.2892 - val_accuracy: 0.9638\n",
            "Epoch 7/50\n",
            "225/225 [==============================] - 23s 102ms/step - loss: 0.1654 - accuracy: 0.9734 - val_loss: 0.1862 - val_accuracy: 0.9783\n",
            "Epoch 8/50\n",
            "225/225 [==============================] - 23s 103ms/step - loss: 0.0120 - accuracy: 0.9964 - val_loss: 0.1658 - val_accuracy: 0.9777\n",
            "Epoch 9/50\n",
            "225/225 [==============================] - 24s 105ms/step - loss: 0.0023 - accuracy: 0.9994 - val_loss: 0.1932 - val_accuracy: 0.9755\n",
            "Epoch 10/50\n",
            "225/225 [==============================] - 23s 103ms/step - loss: 0.0013 - accuracy: 0.9997 - val_loss: 0.1685 - val_accuracy: 0.9799\n",
            "Epoch 11/50\n",
            "225/225 [==============================] - 23s 102ms/step - loss: 0.0021 - accuracy: 0.9992 - val_loss: 0.1510 - val_accuracy: 0.9816\n",
            "Epoch 12/50\n",
            "225/225 [==============================] - 23s 101ms/step - loss: 4.1410e-04 - accuracy: 1.0000 - val_loss: 0.1585 - val_accuracy: 0.9805\n",
            "Epoch 13/50\n",
            "225/225 [==============================] - 23s 102ms/step - loss: 7.7258e-04 - accuracy: 0.9999 - val_loss: 0.1744 - val_accuracy: 0.9788\n",
            "Epoch 14/50\n",
            "225/225 [==============================] - 24s 105ms/step - loss: 0.0061 - accuracy: 0.9985 - val_loss: 0.1402 - val_accuracy: 0.9810\n",
            "Epoch 15/50\n",
            "225/225 [==============================] - 23s 104ms/step - loss: 0.0118 - accuracy: 0.9968 - val_loss: 0.1318 - val_accuracy: 0.9805\n",
            "Epoch 16/50\n",
            "225/225 [==============================] - 23s 101ms/step - loss: 0.0794 - accuracy: 0.9834 - val_loss: 0.1231 - val_accuracy: 0.9760\n",
            "Epoch 17/50\n",
            "225/225 [==============================] - 23s 101ms/step - loss: 0.0245 - accuracy: 0.9944 - val_loss: 0.1348 - val_accuracy: 0.9766\n",
            "Epoch 18/50\n",
            "225/225 [==============================] - 23s 103ms/step - loss: 0.0045 - accuracy: 0.9985 - val_loss: 0.1885 - val_accuracy: 0.9744\n",
            "Epoch 19/50\n",
            "225/225 [==============================] - 23s 101ms/step - loss: 5.4151e-04 - accuracy: 1.0000 - val_loss: 0.1103 - val_accuracy: 0.9816\n",
            "Epoch 20/50\n",
            "225/225 [==============================] - 23s 101ms/step - loss: 2.7351e-04 - accuracy: 1.0000 - val_loss: 0.1178 - val_accuracy: 0.9816\n",
            "Epoch 21/50\n",
            "225/225 [==============================] - 23s 102ms/step - loss: 1.7116e-04 - accuracy: 1.0000 - val_loss: 0.1311 - val_accuracy: 0.9794\n",
            "Epoch 22/50\n",
            "225/225 [==============================] - 23s 100ms/step - loss: 8.4379e-04 - accuracy: 0.9997 - val_loss: 0.1103 - val_accuracy: 0.9838\n",
            "Epoch 23/50\n",
            "225/225 [==============================] - 24s 105ms/step - loss: 6.9733e-05 - accuracy: 1.0000 - val_loss: 0.1107 - val_accuracy: 0.9822\n",
            "Epoch 24/50\n",
            "225/225 [==============================] - 23s 102ms/step - loss: 4.9248e-05 - accuracy: 1.0000 - val_loss: 0.1210 - val_accuracy: 0.9816\n",
            "Epoch 25/50\n",
            "225/225 [==============================] - 23s 103ms/step - loss: 4.8405e-05 - accuracy: 1.0000 - val_loss: 0.1150 - val_accuracy: 0.9822\n",
            "Epoch 26/50\n",
            "225/225 [==============================] - 24s 107ms/step - loss: 4.9266e-05 - accuracy: 1.0000 - val_loss: 0.1254 - val_accuracy: 0.9816\n",
            "Epoch 27/50\n",
            "225/225 [==============================] - 24s 106ms/step - loss: 3.6202e-05 - accuracy: 1.0000 - val_loss: 0.1350 - val_accuracy: 0.9805\n",
            "Epoch 28/50\n",
            "225/225 [==============================] - 23s 103ms/step - loss: 3.3287e-05 - accuracy: 1.0000 - val_loss: 0.1198 - val_accuracy: 0.9822\n",
            "Epoch 29/50\n",
            "225/225 [==============================] - 23s 102ms/step - loss: 2.7000e-05 - accuracy: 1.0000 - val_loss: 0.1259 - val_accuracy: 0.9827\n",
            "Epoch 30/50\n",
            "225/225 [==============================] - 23s 102ms/step - loss: 2.9736e-05 - accuracy: 1.0000 - val_loss: 0.1317 - val_accuracy: 0.9822\n",
            "Epoch 31/50\n",
            "225/225 [==============================] - 23s 101ms/step - loss: 1.8315e-05 - accuracy: 1.0000 - val_loss: 0.1324 - val_accuracy: 0.9816\n",
            "Epoch 32/50\n",
            "225/225 [==============================] - 24s 106ms/step - loss: 2.5222e-05 - accuracy: 1.0000 - val_loss: 0.1487 - val_accuracy: 0.9794\n",
            "Epoch 33/50\n",
            "225/225 [==============================] - 23s 102ms/step - loss: 3.0340e-05 - accuracy: 1.0000 - val_loss: 0.1420 - val_accuracy: 0.9822\n",
            "Epoch 34/50\n",
            "225/225 [==============================] - 23s 103ms/step - loss: 1.0325e-05 - accuracy: 1.0000 - val_loss: 0.1453 - val_accuracy: 0.9810\n",
            "Epoch 35/50\n",
            "225/225 [==============================] - 24s 106ms/step - loss: 1.2105e-05 - accuracy: 1.0000 - val_loss: 0.1478 - val_accuracy: 0.9805\n",
            "Epoch 36/50\n",
            "225/225 [==============================] - 23s 103ms/step - loss: 0.3126 - accuracy: 0.9738 - val_loss: 0.2008 - val_accuracy: 0.9738\n",
            "Epoch 37/50\n",
            "225/225 [==============================] - 23s 102ms/step - loss: 0.0142 - accuracy: 0.9958 - val_loss: 0.1976 - val_accuracy: 0.9816\n",
            "Epoch 38/50\n",
            "225/225 [==============================] - 23s 102ms/step - loss: 0.0067 - accuracy: 0.9974 - val_loss: 0.1769 - val_accuracy: 0.9827\n",
            "Epoch 39/50\n",
            "225/225 [==============================] - 23s 102ms/step - loss: 9.2064e-04 - accuracy: 0.9997 - val_loss: 0.2281 - val_accuracy: 0.9771\n",
            "Epoch 40/50\n",
            "225/225 [==============================] - 23s 103ms/step - loss: 1.6477e-04 - accuracy: 1.0000 - val_loss: 0.1589 - val_accuracy: 0.9827\n",
            "Epoch 41/50\n",
            "225/225 [==============================] - 24s 105ms/step - loss: 4.5712e-05 - accuracy: 1.0000 - val_loss: 0.1556 - val_accuracy: 0.9849\n",
            "Epoch 42/50\n",
            "225/225 [==============================] - 23s 102ms/step - loss: 2.7562e-05 - accuracy: 1.0000 - val_loss: 0.1583 - val_accuracy: 0.9844\n",
            "Epoch 43/50\n",
            "225/225 [==============================] - 23s 102ms/step - loss: 2.7383e-05 - accuracy: 1.0000 - val_loss: 0.1588 - val_accuracy: 0.9838\n",
            "Epoch 44/50\n",
            "225/225 [==============================] - 22s 99ms/step - loss: 2.5726e-05 - accuracy: 1.0000 - val_loss: 0.1596 - val_accuracy: 0.9838\n",
            "Epoch 45/50\n",
            "225/225 [==============================] - 24s 105ms/step - loss: 2.1448e-05 - accuracy: 1.0000 - val_loss: 0.1614 - val_accuracy: 0.9838\n",
            "Epoch 46/50\n",
            "225/225 [==============================] - 23s 101ms/step - loss: 1.9031e-05 - accuracy: 1.0000 - val_loss: 0.1629 - val_accuracy: 0.9827\n",
            "Epoch 47/50\n",
            "225/225 [==============================] - 22s 100ms/step - loss: 1.8846e-05 - accuracy: 1.0000 - val_loss: 0.1600 - val_accuracy: 0.9849\n",
            "Epoch 48/50\n",
            "225/225 [==============================] - 22s 98ms/step - loss: 1.6371e-05 - accuracy: 1.0000 - val_loss: 0.1637 - val_accuracy: 0.9838\n",
            "Epoch 49/50\n",
            "225/225 [==============================] - 23s 104ms/step - loss: 1.6302e-05 - accuracy: 1.0000 - val_loss: 0.1608 - val_accuracy: 0.9844\n",
            "Epoch 50/50\n",
            "225/225 [==============================] - 23s 103ms/step - loss: 1.2676e-05 - accuracy: 1.0000 - val_loss: 0.1661 - val_accuracy: 0.9838\n"
          ]
        }
      ]
    },
    {
      "cell_type": "markdown",
      "source": [
        "### Evaluate the performance"
      ],
      "metadata": {
        "id": "FTvRa1FXri4R"
      }
    },
    {
      "cell_type": "code",
      "source": [
        "# Plot training & validation loss/accuracy values\n",
        "\n",
        "import pandas as pd\n",
        "res_2=pd.DataFrame(hist.history)\n",
        "res_2['epoch']=hist.epoch\n",
        "res_2.head()"
      ],
      "metadata": {
        "id": "cTH6flzcrck0",
        "colab": {
          "base_uri": "https://localhost:8080/",
          "height": 206
        },
        "outputId": "2a8cda0d-f685-44ae-9e43-f5d4ec6a6b3e"
      },
      "execution_count": 40,
      "outputs": [
        {
          "output_type": "execute_result",
          "data": {
            "text/plain": [
              "       loss  accuracy  val_loss  val_accuracy  epoch\n",
              "0  0.016776  0.995131  0.140860      0.969342      0\n",
              "1  0.002999  0.998887  0.130457      0.972687      1\n",
              "2  0.001879  0.999304  0.115042      0.982163      2\n",
              "3  0.001461  0.999583  0.153825      0.978818      3\n",
              "4  0.000627  0.999861  0.132381      0.982163      4"
            ],
            "text/html": [
              "\n",
              "  <div id=\"df-bd78bdd3-3ca3-49ca-95bb-2c49f3bd8318\">\n",
              "    <div class=\"colab-df-container\">\n",
              "      <div>\n",
              "<style scoped>\n",
              "    .dataframe tbody tr th:only-of-type {\n",
              "        vertical-align: middle;\n",
              "    }\n",
              "\n",
              "    .dataframe tbody tr th {\n",
              "        vertical-align: top;\n",
              "    }\n",
              "\n",
              "    .dataframe thead th {\n",
              "        text-align: right;\n",
              "    }\n",
              "</style>\n",
              "<table border=\"1\" class=\"dataframe\">\n",
              "  <thead>\n",
              "    <tr style=\"text-align: right;\">\n",
              "      <th></th>\n",
              "      <th>loss</th>\n",
              "      <th>accuracy</th>\n",
              "      <th>val_loss</th>\n",
              "      <th>val_accuracy</th>\n",
              "      <th>epoch</th>\n",
              "    </tr>\n",
              "  </thead>\n",
              "  <tbody>\n",
              "    <tr>\n",
              "      <th>0</th>\n",
              "      <td>0.016776</td>\n",
              "      <td>0.995131</td>\n",
              "      <td>0.140860</td>\n",
              "      <td>0.969342</td>\n",
              "      <td>0</td>\n",
              "    </tr>\n",
              "    <tr>\n",
              "      <th>1</th>\n",
              "      <td>0.002999</td>\n",
              "      <td>0.998887</td>\n",
              "      <td>0.130457</td>\n",
              "      <td>0.972687</td>\n",
              "      <td>1</td>\n",
              "    </tr>\n",
              "    <tr>\n",
              "      <th>2</th>\n",
              "      <td>0.001879</td>\n",
              "      <td>0.999304</td>\n",
              "      <td>0.115042</td>\n",
              "      <td>0.982163</td>\n",
              "      <td>2</td>\n",
              "    </tr>\n",
              "    <tr>\n",
              "      <th>3</th>\n",
              "      <td>0.001461</td>\n",
              "      <td>0.999583</td>\n",
              "      <td>0.153825</td>\n",
              "      <td>0.978818</td>\n",
              "      <td>3</td>\n",
              "    </tr>\n",
              "    <tr>\n",
              "      <th>4</th>\n",
              "      <td>0.000627</td>\n",
              "      <td>0.999861</td>\n",
              "      <td>0.132381</td>\n",
              "      <td>0.982163</td>\n",
              "      <td>4</td>\n",
              "    </tr>\n",
              "  </tbody>\n",
              "</table>\n",
              "</div>\n",
              "      <button class=\"colab-df-convert\" onclick=\"convertToInteractive('df-bd78bdd3-3ca3-49ca-95bb-2c49f3bd8318')\"\n",
              "              title=\"Convert this dataframe to an interactive table.\"\n",
              "              style=\"display:none;\">\n",
              "        \n",
              "  <svg xmlns=\"http://www.w3.org/2000/svg\" height=\"24px\"viewBox=\"0 0 24 24\"\n",
              "       width=\"24px\">\n",
              "    <path d=\"M0 0h24v24H0V0z\" fill=\"none\"/>\n",
              "    <path d=\"M18.56 5.44l.94 2.06.94-2.06 2.06-.94-2.06-.94-.94-2.06-.94 2.06-2.06.94zm-11 1L8.5 8.5l.94-2.06 2.06-.94-2.06-.94L8.5 2.5l-.94 2.06-2.06.94zm10 10l.94 2.06.94-2.06 2.06-.94-2.06-.94-.94-2.06-.94 2.06-2.06.94z\"/><path d=\"M17.41 7.96l-1.37-1.37c-.4-.4-.92-.59-1.43-.59-.52 0-1.04.2-1.43.59L10.3 9.45l-7.72 7.72c-.78.78-.78 2.05 0 2.83L4 21.41c.39.39.9.59 1.41.59.51 0 1.02-.2 1.41-.59l7.78-7.78 2.81-2.81c.8-.78.8-2.07 0-2.86zM5.41 20L4 18.59l7.72-7.72 1.47 1.35L5.41 20z\"/>\n",
              "  </svg>\n",
              "      </button>\n",
              "      \n",
              "  <style>\n",
              "    .colab-df-container {\n",
              "      display:flex;\n",
              "      flex-wrap:wrap;\n",
              "      gap: 12px;\n",
              "    }\n",
              "\n",
              "    .colab-df-convert {\n",
              "      background-color: #E8F0FE;\n",
              "      border: none;\n",
              "      border-radius: 50%;\n",
              "      cursor: pointer;\n",
              "      display: none;\n",
              "      fill: #1967D2;\n",
              "      height: 32px;\n",
              "      padding: 0 0 0 0;\n",
              "      width: 32px;\n",
              "    }\n",
              "\n",
              "    .colab-df-convert:hover {\n",
              "      background-color: #E2EBFA;\n",
              "      box-shadow: 0px 1px 2px rgba(60, 64, 67, 0.3), 0px 1px 3px 1px rgba(60, 64, 67, 0.15);\n",
              "      fill: #174EA6;\n",
              "    }\n",
              "\n",
              "    [theme=dark] .colab-df-convert {\n",
              "      background-color: #3B4455;\n",
              "      fill: #D2E3FC;\n",
              "    }\n",
              "\n",
              "    [theme=dark] .colab-df-convert:hover {\n",
              "      background-color: #434B5C;\n",
              "      box-shadow: 0px 1px 3px 1px rgba(0, 0, 0, 0.15);\n",
              "      filter: drop-shadow(0px 1px 2px rgba(0, 0, 0, 0.3));\n",
              "      fill: #FFFFFF;\n",
              "    }\n",
              "  </style>\n",
              "\n",
              "      <script>\n",
              "        const buttonEl =\n",
              "          document.querySelector('#df-bd78bdd3-3ca3-49ca-95bb-2c49f3bd8318 button.colab-df-convert');\n",
              "        buttonEl.style.display =\n",
              "          google.colab.kernel.accessAllowed ? 'block' : 'none';\n",
              "\n",
              "        async function convertToInteractive(key) {\n",
              "          const element = document.querySelector('#df-bd78bdd3-3ca3-49ca-95bb-2c49f3bd8318');\n",
              "          const dataTable =\n",
              "            await google.colab.kernel.invokeFunction('convertToInteractive',\n",
              "                                                     [key], {});\n",
              "          if (!dataTable) return;\n",
              "\n",
              "          const docLinkHtml = 'Like what you see? Visit the ' +\n",
              "            '<a target=\"_blank\" href=https://colab.research.google.com/notebooks/data_table.ipynb>data table notebook</a>'\n",
              "            + ' to learn more about interactive tables.';\n",
              "          element.innerHTML = '';\n",
              "          dataTable['output_type'] = 'display_data';\n",
              "          await google.colab.output.renderOutput(dataTable, element);\n",
              "          const docLink = document.createElement('div');\n",
              "          docLink.innerHTML = docLinkHtml;\n",
              "          element.appendChild(docLink);\n",
              "        }\n",
              "      </script>\n",
              "    </div>\n",
              "  </div>\n",
              "  "
            ]
          },
          "metadata": {},
          "execution_count": 40
        }
      ]
    },
    {
      "cell_type": "code",
      "source": [
        "import matplotlib.pyplot as plt\n",
        "plt.plot(res_2[\"epoch\"],res_2[\"loss\"],'red')\n",
        "plt.plot(res_2[\"epoch\"],res_2[\"val_loss\"],'green')"
      ],
      "metadata": {
        "colab": {
          "base_uri": "https://localhost:8080/",
          "height": 283
        },
        "id": "aFR6NKj679Sb",
        "outputId": "adabcdb8-e6bd-4ad8-aad3-466e52bcac46"
      },
      "execution_count": 41,
      "outputs": [
        {
          "output_type": "execute_result",
          "data": {
            "text/plain": [
              "[<matplotlib.lines.Line2D at 0x7fbc482377d0>]"
            ]
          },
          "metadata": {},
          "execution_count": 41
        },
        {
          "output_type": "display_data",
          "data": {
            "text/plain": [
              "<Figure size 432x288 with 1 Axes>"
            ],
            "image/png": "[encoded data removed]"
          },
          "metadata": {
            "needs_background": "light"
          }
        }
      ]
    },
    {
      "cell_type": "code",
      "source": [
        "plt.plot(res_2[\"epoch\"],res_2[\"accuracy\"],'red')\n",
        "plt.plot(res_2[\"epoch\"],res_2[\"val_accuracy\"],'green')"
      ],
      "metadata": {
        "colab": {
          "base_uri": "https://localhost:8080/",
          "height": 283
        },
        "id": "0obCswfKOoES",
        "outputId": "29af463d-ace9-45d2-ea80-8accfaa9ed7e"
      },
      "execution_count": 43,
      "outputs": [
        {
          "output_type": "execute_result",
          "data": {
            "text/plain": [
              "[<matplotlib.lines.Line2D at 0x7fbc1b460d50>]"
            ]
          },
          "metadata": {},
          "execution_count": 43
        },
        {
          "output_type": "display_data",
          "data": {
            "text/plain": [
              "<Figure size 432x288 with 1 Axes>"
            ],
            "image/png": "[encoded data removed]"
          },
          "metadata": {
            "needs_background": "light"
          }
        }
      ]
    },
    {
      "cell_type": "code",
      "source": [
        "\n",
        "from sklearn.metrics import classification_report, confusion_matrix\n",
        "import numpy as np\n",
        "\n",
        "validation_classes = []\n",
        "validation_images = []\n",
        "for i in range( -(-validation_label_generator.samples // validation_label_generator.batch_size)):\n",
        "   batch = validation_label_generator.next()\n",
        "   expected = np.argmax(batch[1], axis=1) \n",
        "   validation_classes.extend(expected)\n",
        "   validation_images.extend(batch[0])\n",
        "validation_classes = np.array(validation_classes)\n",
        "validation_images = np.array(validation_images)\n",
        "Y_pred = model.predict(validation_images)\n",
        "y_pred = np.argmax(Y_pred, axis=1)\n",
        "\n",
        "\n",
        "print(classification_report(validation_classes, y_pred, \n",
        "\t\ttarget_names = ['mask_weared_incorrect', 'with_mask', 'without_mask']))\n",
        "# print classification report"
      ],
      "metadata": {
        "id": "fJ-ZtU84r66Z",
        "colab": {
          "base_uri": "https://localhost:8080/"
        },
        "outputId": "4802efa7-06b1-44e1-f54a-4fe6d2c64b75"
      },
      "execution_count": 42,
      "outputs": [
        {
          "output_type": "stream",
          "name": "stdout",
          "text": [
            "                       precision    recall  f1-score   support\n",
            "\n",
            "mask_weared_incorrect       0.99      1.00      0.99       598\n",
            "            with_mask       0.98      0.97      0.98       598\n",
            "         without_mask       0.98      0.98      0.98       598\n",
            "\n",
            "             accuracy                           0.98      1794\n",
            "            macro avg       0.98      0.98      0.98      1794\n",
            "         weighted avg       0.98      0.98      0.98      1794\n",
            "\n"
          ]
        }
      ]
    },
    {
      "cell_type": "code",
      "source": [
        "# Use the classification report to print precision, recall, f1-score for the three classes(optional, brownie points)"
      ],
      "metadata": {
        "id": "VytDxkswrvXw"
      },
      "execution_count": null,
      "outputs": []
    }
  ]
}